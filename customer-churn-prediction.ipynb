{
 "cells": [
  {
   "cell_type": "code",
   "execution_count": 1,
   "id": "70f89b0c",
   "metadata": {
    "execution": {
     "iopub.execute_input": "2022-07-01T10:02:06.680818Z",
     "iopub.status.busy": "2022-07-01T10:02:06.680193Z",
     "iopub.status.idle": "2022-07-01T10:02:06.748573Z",
     "shell.execute_reply": "2022-07-01T10:02:06.747647Z"
    },
    "papermill": {
     "duration": 0.08545,
     "end_time": "2022-07-01T10:02:06.751465",
     "exception": false,
     "start_time": "2022-07-01T10:02:06.666015",
     "status": "completed"
    },
    "tags": []
   },
   "outputs": [],
   "source": [
    "import pandas as pd\n",
    "data=pd.read_csv('../input/churn-modelling/Churn_Modelling.csv')"
   ]
  },
  {
   "cell_type": "code",
   "execution_count": 2,
   "id": "6032e86b",
   "metadata": {
    "execution": {
     "iopub.execute_input": "2022-07-01T10:02:06.778388Z",
     "iopub.status.busy": "2022-07-01T10:02:06.777565Z",
     "iopub.status.idle": "2022-07-01T10:02:06.806285Z",
     "shell.execute_reply": "2022-07-01T10:02:06.805016Z"
    },
    "papermill": {
     "duration": 0.045244,
     "end_time": "2022-07-01T10:02:06.809260",
     "exception": false,
     "start_time": "2022-07-01T10:02:06.764016",
     "status": "completed"
    },
    "tags": []
   },
   "outputs": [
    {
     "data": {
      "text/html": [
       "<div>\n",
       "<style scoped>\n",
       "    .dataframe tbody tr th:only-of-type {\n",
       "        vertical-align: middle;\n",
       "    }\n",
       "\n",
       "    .dataframe tbody tr th {\n",
       "        vertical-align: top;\n",
       "    }\n",
       "\n",
       "    .dataframe thead th {\n",
       "        text-align: right;\n",
       "    }\n",
       "</style>\n",
       "<table border=\"1\" class=\"dataframe\">\n",
       "  <thead>\n",
       "    <tr style=\"text-align: right;\">\n",
       "      <th></th>\n",
       "      <th>RowNumber</th>\n",
       "      <th>CustomerId</th>\n",
       "      <th>Surname</th>\n",
       "      <th>CreditScore</th>\n",
       "      <th>Geography</th>\n",
       "      <th>Gender</th>\n",
       "      <th>Age</th>\n",
       "      <th>Tenure</th>\n",
       "      <th>Balance</th>\n",
       "      <th>NumOfProducts</th>\n",
       "      <th>HasCrCard</th>\n",
       "      <th>IsActiveMember</th>\n",
       "      <th>EstimatedSalary</th>\n",
       "      <th>Exited</th>\n",
       "    </tr>\n",
       "  </thead>\n",
       "  <tbody>\n",
       "    <tr>\n",
       "      <th>0</th>\n",
       "      <td>1</td>\n",
       "      <td>15634602</td>\n",
       "      <td>Hargrave</td>\n",
       "      <td>619</td>\n",
       "      <td>France</td>\n",
       "      <td>Female</td>\n",
       "      <td>42</td>\n",
       "      <td>2</td>\n",
       "      <td>0.00</td>\n",
       "      <td>1</td>\n",
       "      <td>1</td>\n",
       "      <td>1</td>\n",
       "      <td>101348.88</td>\n",
       "      <td>1</td>\n",
       "    </tr>\n",
       "    <tr>\n",
       "      <th>1</th>\n",
       "      <td>2</td>\n",
       "      <td>15647311</td>\n",
       "      <td>Hill</td>\n",
       "      <td>608</td>\n",
       "      <td>Spain</td>\n",
       "      <td>Female</td>\n",
       "      <td>41</td>\n",
       "      <td>1</td>\n",
       "      <td>83807.86</td>\n",
       "      <td>1</td>\n",
       "      <td>0</td>\n",
       "      <td>1</td>\n",
       "      <td>112542.58</td>\n",
       "      <td>0</td>\n",
       "    </tr>\n",
       "    <tr>\n",
       "      <th>2</th>\n",
       "      <td>3</td>\n",
       "      <td>15619304</td>\n",
       "      <td>Onio</td>\n",
       "      <td>502</td>\n",
       "      <td>France</td>\n",
       "      <td>Female</td>\n",
       "      <td>42</td>\n",
       "      <td>8</td>\n",
       "      <td>159660.80</td>\n",
       "      <td>3</td>\n",
       "      <td>1</td>\n",
       "      <td>0</td>\n",
       "      <td>113931.57</td>\n",
       "      <td>1</td>\n",
       "    </tr>\n",
       "    <tr>\n",
       "      <th>3</th>\n",
       "      <td>4</td>\n",
       "      <td>15701354</td>\n",
       "      <td>Boni</td>\n",
       "      <td>699</td>\n",
       "      <td>France</td>\n",
       "      <td>Female</td>\n",
       "      <td>39</td>\n",
       "      <td>1</td>\n",
       "      <td>0.00</td>\n",
       "      <td>2</td>\n",
       "      <td>0</td>\n",
       "      <td>0</td>\n",
       "      <td>93826.63</td>\n",
       "      <td>0</td>\n",
       "    </tr>\n",
       "    <tr>\n",
       "      <th>4</th>\n",
       "      <td>5</td>\n",
       "      <td>15737888</td>\n",
       "      <td>Mitchell</td>\n",
       "      <td>850</td>\n",
       "      <td>Spain</td>\n",
       "      <td>Female</td>\n",
       "      <td>43</td>\n",
       "      <td>2</td>\n",
       "      <td>125510.82</td>\n",
       "      <td>1</td>\n",
       "      <td>1</td>\n",
       "      <td>1</td>\n",
       "      <td>79084.10</td>\n",
       "      <td>0</td>\n",
       "    </tr>\n",
       "  </tbody>\n",
       "</table>\n",
       "</div>"
      ],
      "text/plain": [
       "   RowNumber  CustomerId   Surname  CreditScore Geography  Gender  Age  \\\n",
       "0          1    15634602  Hargrave          619    France  Female   42   \n",
       "1          2    15647311      Hill          608     Spain  Female   41   \n",
       "2          3    15619304      Onio          502    France  Female   42   \n",
       "3          4    15701354      Boni          699    France  Female   39   \n",
       "4          5    15737888  Mitchell          850     Spain  Female   43   \n",
       "\n",
       "   Tenure    Balance  NumOfProducts  HasCrCard  IsActiveMember  \\\n",
       "0       2       0.00              1          1               1   \n",
       "1       1   83807.86              1          0               1   \n",
       "2       8  159660.80              3          1               0   \n",
       "3       1       0.00              2          0               0   \n",
       "4       2  125510.82              1          1               1   \n",
       "\n",
       "   EstimatedSalary  Exited  \n",
       "0        101348.88       1  \n",
       "1        112542.58       0  \n",
       "2        113931.57       1  \n",
       "3         93826.63       0  \n",
       "4         79084.10       0  "
      ]
     },
     "execution_count": 2,
     "metadata": {},
     "output_type": "execute_result"
    }
   ],
   "source": [
    "data.head()"
   ]
  },
  {
   "cell_type": "code",
   "execution_count": 3,
   "id": "8592d7a9",
   "metadata": {
    "execution": {
     "iopub.execute_input": "2022-07-01T10:02:06.834505Z",
     "iopub.status.busy": "2022-07-01T10:02:06.834063Z",
     "iopub.status.idle": "2022-07-01T10:02:06.842045Z",
     "shell.execute_reply": "2022-07-01T10:02:06.840697Z"
    },
    "papermill": {
     "duration": 0.024289,
     "end_time": "2022-07-01T10:02:06.845186",
     "exception": false,
     "start_time": "2022-07-01T10:02:06.820897",
     "status": "completed"
    },
    "tags": []
   },
   "outputs": [
    {
     "data": {
      "text/plain": [
       "(10000, 14)"
      ]
     },
     "execution_count": 3,
     "metadata": {},
     "output_type": "execute_result"
    }
   ],
   "source": [
    "data.shape"
   ]
  },
  {
   "cell_type": "code",
   "execution_count": 4,
   "id": "cbdb5681",
   "metadata": {
    "execution": {
     "iopub.execute_input": "2022-07-01T10:02:06.871704Z",
     "iopub.status.busy": "2022-07-01T10:02:06.870923Z",
     "iopub.status.idle": "2022-07-01T10:02:06.906396Z",
     "shell.execute_reply": "2022-07-01T10:02:06.904628Z"
    },
    "papermill": {
     "duration": 0.052284,
     "end_time": "2022-07-01T10:02:06.909598",
     "exception": false,
     "start_time": "2022-07-01T10:02:06.857314",
     "status": "completed"
    },
    "tags": []
   },
   "outputs": [
    {
     "name": "stdout",
     "output_type": "stream",
     "text": [
      "<class 'pandas.core.frame.DataFrame'>\n",
      "RangeIndex: 10000 entries, 0 to 9999\n",
      "Data columns (total 14 columns):\n",
      " #   Column           Non-Null Count  Dtype  \n",
      "---  ------           --------------  -----  \n",
      " 0   RowNumber        10000 non-null  int64  \n",
      " 1   CustomerId       10000 non-null  int64  \n",
      " 2   Surname          10000 non-null  object \n",
      " 3   CreditScore      10000 non-null  int64  \n",
      " 4   Geography        10000 non-null  object \n",
      " 5   Gender           10000 non-null  object \n",
      " 6   Age              10000 non-null  int64  \n",
      " 7   Tenure           10000 non-null  int64  \n",
      " 8   Balance          10000 non-null  float64\n",
      " 9   NumOfProducts    10000 non-null  int64  \n",
      " 10  HasCrCard        10000 non-null  int64  \n",
      " 11  IsActiveMember   10000 non-null  int64  \n",
      " 12  EstimatedSalary  10000 non-null  float64\n",
      " 13  Exited           10000 non-null  int64  \n",
      "dtypes: float64(2), int64(9), object(3)\n",
      "memory usage: 1.1+ MB\n"
     ]
    }
   ],
   "source": [
    "data.info()"
   ]
  },
  {
   "cell_type": "code",
   "execution_count": 5,
   "id": "791b314b",
   "metadata": {
    "execution": {
     "iopub.execute_input": "2022-07-01T10:02:06.938054Z",
     "iopub.status.busy": "2022-07-01T10:02:06.936917Z",
     "iopub.status.idle": "2022-07-01T10:02:06.951444Z",
     "shell.execute_reply": "2022-07-01T10:02:06.950372Z"
    },
    "papermill": {
     "duration": 0.032231,
     "end_time": "2022-07-01T10:02:06.954323",
     "exception": false,
     "start_time": "2022-07-01T10:02:06.922092",
     "status": "completed"
    },
    "tags": []
   },
   "outputs": [
    {
     "data": {
      "text/plain": [
       "RowNumber          0\n",
       "CustomerId         0\n",
       "Surname            0\n",
       "CreditScore        0\n",
       "Geography          0\n",
       "Gender             0\n",
       "Age                0\n",
       "Tenure             0\n",
       "Balance            0\n",
       "NumOfProducts      0\n",
       "HasCrCard          0\n",
       "IsActiveMember     0\n",
       "EstimatedSalary    0\n",
       "Exited             0\n",
       "dtype: int64"
      ]
     },
     "execution_count": 5,
     "metadata": {},
     "output_type": "execute_result"
    }
   ],
   "source": [
    "data.isnull().sum()"
   ]
  },
  {
   "cell_type": "code",
   "execution_count": 6,
   "id": "a9f26e63",
   "metadata": {
    "execution": {
     "iopub.execute_input": "2022-07-01T10:02:06.982514Z",
     "iopub.status.busy": "2022-07-01T10:02:06.982023Z",
     "iopub.status.idle": "2022-07-01T10:02:07.045282Z",
     "shell.execute_reply": "2022-07-01T10:02:07.043778Z"
    },
    "papermill": {
     "duration": 0.082326,
     "end_time": "2022-07-01T10:02:07.049465",
     "exception": false,
     "start_time": "2022-07-01T10:02:06.967139",
     "status": "completed"
    },
    "tags": []
   },
   "outputs": [
    {
     "data": {
      "text/html": [
       "<div>\n",
       "<style scoped>\n",
       "    .dataframe tbody tr th:only-of-type {\n",
       "        vertical-align: middle;\n",
       "    }\n",
       "\n",
       "    .dataframe tbody tr th {\n",
       "        vertical-align: top;\n",
       "    }\n",
       "\n",
       "    .dataframe thead th {\n",
       "        text-align: right;\n",
       "    }\n",
       "</style>\n",
       "<table border=\"1\" class=\"dataframe\">\n",
       "  <thead>\n",
       "    <tr style=\"text-align: right;\">\n",
       "      <th></th>\n",
       "      <th>RowNumber</th>\n",
       "      <th>CustomerId</th>\n",
       "      <th>CreditScore</th>\n",
       "      <th>Age</th>\n",
       "      <th>Tenure</th>\n",
       "      <th>Balance</th>\n",
       "      <th>NumOfProducts</th>\n",
       "      <th>HasCrCard</th>\n",
       "      <th>IsActiveMember</th>\n",
       "      <th>EstimatedSalary</th>\n",
       "      <th>Exited</th>\n",
       "    </tr>\n",
       "  </thead>\n",
       "  <tbody>\n",
       "    <tr>\n",
       "      <th>count</th>\n",
       "      <td>10000.00000</td>\n",
       "      <td>1.000000e+04</td>\n",
       "      <td>10000.000000</td>\n",
       "      <td>10000.000000</td>\n",
       "      <td>10000.000000</td>\n",
       "      <td>10000.000000</td>\n",
       "      <td>10000.000000</td>\n",
       "      <td>10000.00000</td>\n",
       "      <td>10000.000000</td>\n",
       "      <td>10000.000000</td>\n",
       "      <td>10000.000000</td>\n",
       "    </tr>\n",
       "    <tr>\n",
       "      <th>mean</th>\n",
       "      <td>5000.50000</td>\n",
       "      <td>1.569094e+07</td>\n",
       "      <td>650.528800</td>\n",
       "      <td>38.921800</td>\n",
       "      <td>5.012800</td>\n",
       "      <td>76485.889288</td>\n",
       "      <td>1.530200</td>\n",
       "      <td>0.70550</td>\n",
       "      <td>0.515100</td>\n",
       "      <td>100090.239881</td>\n",
       "      <td>0.203700</td>\n",
       "    </tr>\n",
       "    <tr>\n",
       "      <th>std</th>\n",
       "      <td>2886.89568</td>\n",
       "      <td>7.193619e+04</td>\n",
       "      <td>96.653299</td>\n",
       "      <td>10.487806</td>\n",
       "      <td>2.892174</td>\n",
       "      <td>62397.405202</td>\n",
       "      <td>0.581654</td>\n",
       "      <td>0.45584</td>\n",
       "      <td>0.499797</td>\n",
       "      <td>57510.492818</td>\n",
       "      <td>0.402769</td>\n",
       "    </tr>\n",
       "    <tr>\n",
       "      <th>min</th>\n",
       "      <td>1.00000</td>\n",
       "      <td>1.556570e+07</td>\n",
       "      <td>350.000000</td>\n",
       "      <td>18.000000</td>\n",
       "      <td>0.000000</td>\n",
       "      <td>0.000000</td>\n",
       "      <td>1.000000</td>\n",
       "      <td>0.00000</td>\n",
       "      <td>0.000000</td>\n",
       "      <td>11.580000</td>\n",
       "      <td>0.000000</td>\n",
       "    </tr>\n",
       "    <tr>\n",
       "      <th>25%</th>\n",
       "      <td>2500.75000</td>\n",
       "      <td>1.562853e+07</td>\n",
       "      <td>584.000000</td>\n",
       "      <td>32.000000</td>\n",
       "      <td>3.000000</td>\n",
       "      <td>0.000000</td>\n",
       "      <td>1.000000</td>\n",
       "      <td>0.00000</td>\n",
       "      <td>0.000000</td>\n",
       "      <td>51002.110000</td>\n",
       "      <td>0.000000</td>\n",
       "    </tr>\n",
       "    <tr>\n",
       "      <th>50%</th>\n",
       "      <td>5000.50000</td>\n",
       "      <td>1.569074e+07</td>\n",
       "      <td>652.000000</td>\n",
       "      <td>37.000000</td>\n",
       "      <td>5.000000</td>\n",
       "      <td>97198.540000</td>\n",
       "      <td>1.000000</td>\n",
       "      <td>1.00000</td>\n",
       "      <td>1.000000</td>\n",
       "      <td>100193.915000</td>\n",
       "      <td>0.000000</td>\n",
       "    </tr>\n",
       "    <tr>\n",
       "      <th>75%</th>\n",
       "      <td>7500.25000</td>\n",
       "      <td>1.575323e+07</td>\n",
       "      <td>718.000000</td>\n",
       "      <td>44.000000</td>\n",
       "      <td>7.000000</td>\n",
       "      <td>127644.240000</td>\n",
       "      <td>2.000000</td>\n",
       "      <td>1.00000</td>\n",
       "      <td>1.000000</td>\n",
       "      <td>149388.247500</td>\n",
       "      <td>0.000000</td>\n",
       "    </tr>\n",
       "    <tr>\n",
       "      <th>max</th>\n",
       "      <td>10000.00000</td>\n",
       "      <td>1.581569e+07</td>\n",
       "      <td>850.000000</td>\n",
       "      <td>92.000000</td>\n",
       "      <td>10.000000</td>\n",
       "      <td>250898.090000</td>\n",
       "      <td>4.000000</td>\n",
       "      <td>1.00000</td>\n",
       "      <td>1.000000</td>\n",
       "      <td>199992.480000</td>\n",
       "      <td>1.000000</td>\n",
       "    </tr>\n",
       "  </tbody>\n",
       "</table>\n",
       "</div>"
      ],
      "text/plain": [
       "         RowNumber    CustomerId   CreditScore           Age        Tenure  \\\n",
       "count  10000.00000  1.000000e+04  10000.000000  10000.000000  10000.000000   \n",
       "mean    5000.50000  1.569094e+07    650.528800     38.921800      5.012800   \n",
       "std     2886.89568  7.193619e+04     96.653299     10.487806      2.892174   \n",
       "min        1.00000  1.556570e+07    350.000000     18.000000      0.000000   \n",
       "25%     2500.75000  1.562853e+07    584.000000     32.000000      3.000000   \n",
       "50%     5000.50000  1.569074e+07    652.000000     37.000000      5.000000   \n",
       "75%     7500.25000  1.575323e+07    718.000000     44.000000      7.000000   \n",
       "max    10000.00000  1.581569e+07    850.000000     92.000000     10.000000   \n",
       "\n",
       "             Balance  NumOfProducts    HasCrCard  IsActiveMember  \\\n",
       "count   10000.000000   10000.000000  10000.00000    10000.000000   \n",
       "mean    76485.889288       1.530200      0.70550        0.515100   \n",
       "std     62397.405202       0.581654      0.45584        0.499797   \n",
       "min         0.000000       1.000000      0.00000        0.000000   \n",
       "25%         0.000000       1.000000      0.00000        0.000000   \n",
       "50%     97198.540000       1.000000      1.00000        1.000000   \n",
       "75%    127644.240000       2.000000      1.00000        1.000000   \n",
       "max    250898.090000       4.000000      1.00000        1.000000   \n",
       "\n",
       "       EstimatedSalary        Exited  \n",
       "count     10000.000000  10000.000000  \n",
       "mean     100090.239881      0.203700  \n",
       "std       57510.492818      0.402769  \n",
       "min          11.580000      0.000000  \n",
       "25%       51002.110000      0.000000  \n",
       "50%      100193.915000      0.000000  \n",
       "75%      149388.247500      0.000000  \n",
       "max      199992.480000      1.000000  "
      ]
     },
     "execution_count": 6,
     "metadata": {},
     "output_type": "execute_result"
    }
   ],
   "source": [
    "data.describe()"
   ]
  },
  {
   "cell_type": "code",
   "execution_count": 7,
   "id": "0ce18ae5",
   "metadata": {
    "execution": {
     "iopub.execute_input": "2022-07-01T10:02:07.078763Z",
     "iopub.status.busy": "2022-07-01T10:02:07.078321Z",
     "iopub.status.idle": "2022-07-01T10:02:07.101973Z",
     "shell.execute_reply": "2022-07-01T10:02:07.099893Z"
    },
    "papermill": {
     "duration": 0.042083,
     "end_time": "2022-07-01T10:02:07.105211",
     "exception": false,
     "start_time": "2022-07-01T10:02:07.063128",
     "status": "completed"
    },
    "tags": []
   },
   "outputs": [
    {
     "data": {
      "text/html": [
       "<div>\n",
       "<style scoped>\n",
       "    .dataframe tbody tr th:only-of-type {\n",
       "        vertical-align: middle;\n",
       "    }\n",
       "\n",
       "    .dataframe tbody tr th {\n",
       "        vertical-align: top;\n",
       "    }\n",
       "\n",
       "    .dataframe thead th {\n",
       "        text-align: right;\n",
       "    }\n",
       "</style>\n",
       "<table border=\"1\" class=\"dataframe\">\n",
       "  <thead>\n",
       "    <tr style=\"text-align: right;\">\n",
       "      <th></th>\n",
       "      <th>RowNumber</th>\n",
       "      <th>CustomerId</th>\n",
       "      <th>CreditScore</th>\n",
       "      <th>Age</th>\n",
       "      <th>Tenure</th>\n",
       "      <th>Balance</th>\n",
       "      <th>NumOfProducts</th>\n",
       "      <th>HasCrCard</th>\n",
       "      <th>IsActiveMember</th>\n",
       "      <th>EstimatedSalary</th>\n",
       "      <th>Exited</th>\n",
       "    </tr>\n",
       "  </thead>\n",
       "  <tbody>\n",
       "    <tr>\n",
       "      <th>0</th>\n",
       "      <td>1</td>\n",
       "      <td>15634602</td>\n",
       "      <td>619</td>\n",
       "      <td>42</td>\n",
       "      <td>2</td>\n",
       "      <td>0.00</td>\n",
       "      <td>1</td>\n",
       "      <td>1</td>\n",
       "      <td>1</td>\n",
       "      <td>101348.88</td>\n",
       "      <td>1</td>\n",
       "    </tr>\n",
       "    <tr>\n",
       "      <th>1</th>\n",
       "      <td>2</td>\n",
       "      <td>15647311</td>\n",
       "      <td>608</td>\n",
       "      <td>41</td>\n",
       "      <td>1</td>\n",
       "      <td>83807.86</td>\n",
       "      <td>1</td>\n",
       "      <td>0</td>\n",
       "      <td>1</td>\n",
       "      <td>112542.58</td>\n",
       "      <td>0</td>\n",
       "    </tr>\n",
       "    <tr>\n",
       "      <th>2</th>\n",
       "      <td>3</td>\n",
       "      <td>15619304</td>\n",
       "      <td>502</td>\n",
       "      <td>42</td>\n",
       "      <td>8</td>\n",
       "      <td>159660.80</td>\n",
       "      <td>3</td>\n",
       "      <td>1</td>\n",
       "      <td>0</td>\n",
       "      <td>113931.57</td>\n",
       "      <td>1</td>\n",
       "    </tr>\n",
       "    <tr>\n",
       "      <th>3</th>\n",
       "      <td>4</td>\n",
       "      <td>15701354</td>\n",
       "      <td>699</td>\n",
       "      <td>39</td>\n",
       "      <td>1</td>\n",
       "      <td>0.00</td>\n",
       "      <td>2</td>\n",
       "      <td>0</td>\n",
       "      <td>0</td>\n",
       "      <td>93826.63</td>\n",
       "      <td>0</td>\n",
       "    </tr>\n",
       "    <tr>\n",
       "      <th>4</th>\n",
       "      <td>5</td>\n",
       "      <td>15737888</td>\n",
       "      <td>850</td>\n",
       "      <td>43</td>\n",
       "      <td>2</td>\n",
       "      <td>125510.82</td>\n",
       "      <td>1</td>\n",
       "      <td>1</td>\n",
       "      <td>1</td>\n",
       "      <td>79084.10</td>\n",
       "      <td>0</td>\n",
       "    </tr>\n",
       "  </tbody>\n",
       "</table>\n",
       "</div>"
      ],
      "text/plain": [
       "   RowNumber  CustomerId  CreditScore  Age  Tenure    Balance  NumOfProducts  \\\n",
       "0          1    15634602          619   42       2       0.00              1   \n",
       "1          2    15647311          608   41       1   83807.86              1   \n",
       "2          3    15619304          502   42       8  159660.80              3   \n",
       "3          4    15701354          699   39       1       0.00              2   \n",
       "4          5    15737888          850   43       2  125510.82              1   \n",
       "\n",
       "   HasCrCard  IsActiveMember  EstimatedSalary  Exited  \n",
       "0          1               1        101348.88       1  \n",
       "1          0               1        112542.58       0  \n",
       "2          1               0        113931.57       1  \n",
       "3          0               0         93826.63       0  \n",
       "4          1               1         79084.10       0  "
      ]
     },
     "execution_count": 7,
     "metadata": {},
     "output_type": "execute_result"
    }
   ],
   "source": [
    "data_num=data.select_dtypes(include=['int64','float64'])\n",
    "data_num.head()"
   ]
  },
  {
   "cell_type": "code",
   "execution_count": 8,
   "id": "305c2a5c",
   "metadata": {
    "execution": {
     "iopub.execute_input": "2022-07-01T10:02:07.133394Z",
     "iopub.status.busy": "2022-07-01T10:02:07.132852Z",
     "iopub.status.idle": "2022-07-01T10:02:07.151611Z",
     "shell.execute_reply": "2022-07-01T10:02:07.150317Z"
    },
    "papermill": {
     "duration": 0.036597,
     "end_time": "2022-07-01T10:02:07.154941",
     "exception": false,
     "start_time": "2022-07-01T10:02:07.118344",
     "status": "completed"
    },
    "tags": []
   },
   "outputs": [
    {
     "data": {
      "text/html": [
       "<div>\n",
       "<style scoped>\n",
       "    .dataframe tbody tr th:only-of-type {\n",
       "        vertical-align: middle;\n",
       "    }\n",
       "\n",
       "    .dataframe tbody tr th {\n",
       "        vertical-align: top;\n",
       "    }\n",
       "\n",
       "    .dataframe thead th {\n",
       "        text-align: right;\n",
       "    }\n",
       "</style>\n",
       "<table border=\"1\" class=\"dataframe\">\n",
       "  <thead>\n",
       "    <tr style=\"text-align: right;\">\n",
       "      <th></th>\n",
       "      <th>CreditScore</th>\n",
       "      <th>Age</th>\n",
       "      <th>Tenure</th>\n",
       "      <th>Balance</th>\n",
       "      <th>NumOfProducts</th>\n",
       "      <th>HasCrCard</th>\n",
       "      <th>IsActiveMember</th>\n",
       "      <th>EstimatedSalary</th>\n",
       "      <th>Exited</th>\n",
       "    </tr>\n",
       "  </thead>\n",
       "  <tbody>\n",
       "    <tr>\n",
       "      <th>0</th>\n",
       "      <td>619</td>\n",
       "      <td>42</td>\n",
       "      <td>2</td>\n",
       "      <td>0.0</td>\n",
       "      <td>1</td>\n",
       "      <td>1</td>\n",
       "      <td>1</td>\n",
       "      <td>101348.88</td>\n",
       "      <td>1</td>\n",
       "    </tr>\n",
       "  </tbody>\n",
       "</table>\n",
       "</div>"
      ],
      "text/plain": [
       "   CreditScore  Age  Tenure  Balance  NumOfProducts  HasCrCard  \\\n",
       "0          619   42       2      0.0              1          1   \n",
       "\n",
       "   IsActiveMember  EstimatedSalary  Exited  \n",
       "0               1        101348.88       1  "
      ]
     },
     "execution_count": 8,
     "metadata": {},
     "output_type": "execute_result"
    }
   ],
   "source": [
    "data_num=data_num.drop(columns=['RowNumber','CustomerId'],axis=1)\n",
    "data_num.head(1)"
   ]
  },
  {
   "cell_type": "code",
   "execution_count": 9,
   "id": "08aa7377",
   "metadata": {
    "execution": {
     "iopub.execute_input": "2022-07-01T10:02:07.183248Z",
     "iopub.status.busy": "2022-07-01T10:02:07.181986Z",
     "iopub.status.idle": "2022-07-01T10:02:11.069886Z",
     "shell.execute_reply": "2022-07-01T10:02:11.068329Z"
    },
    "papermill": {
     "duration": 3.906403,
     "end_time": "2022-07-01T10:02:11.074481",
     "exception": false,
     "start_time": "2022-07-01T10:02:07.168078",
     "status": "completed"
    },
    "tags": []
   },
   "outputs": [
    {
     "data": {
      "image/png": "[encoded data removed]",
      "text/plain": [
       "<Figure size 1440x1800 with 9 Axes>"
      ]
     },
     "metadata": {
      "needs_background": "light"
     },
     "output_type": "display_data"
    }
   ],
   "source": [
    "import warnings\n",
    "warnings.filterwarnings('ignore')\n",
    "from matplotlib import pyplot as plt\n",
    "import seaborn as sns\n",
    "plt.figure(figsize=(20,25))\n",
    "for i, var in enumerate(data_num.columns):\n",
    "    plt.subplot(5,2,i+1)\n",
    "    sns.distplot(data_num[var])"
   ]
  },
  {
   "cell_type": "code",
   "execution_count": 10,
   "id": "30a6a6c0",
   "metadata": {
    "execution": {
     "iopub.execute_input": "2022-07-01T10:02:11.109477Z",
     "iopub.status.busy": "2022-07-01T10:02:11.108643Z",
     "iopub.status.idle": "2022-07-01T10:02:11.123501Z",
     "shell.execute_reply": "2022-07-01T10:02:11.122314Z"
    },
    "papermill": {
     "duration": 0.036143,
     "end_time": "2022-07-01T10:02:11.125916",
     "exception": false,
     "start_time": "2022-07-01T10:02:11.089773",
     "status": "completed"
    },
    "tags": []
   },
   "outputs": [
    {
     "data": {
      "text/html": [
       "<div>\n",
       "<style scoped>\n",
       "    .dataframe tbody tr th:only-of-type {\n",
       "        vertical-align: middle;\n",
       "    }\n",
       "\n",
       "    .dataframe tbody tr th {\n",
       "        vertical-align: top;\n",
       "    }\n",
       "\n",
       "    .dataframe thead th {\n",
       "        text-align: right;\n",
       "    }\n",
       "</style>\n",
       "<table border=\"1\" class=\"dataframe\">\n",
       "  <thead>\n",
       "    <tr style=\"text-align: right;\">\n",
       "      <th></th>\n",
       "      <th>CreditScore</th>\n",
       "      <th>Age</th>\n",
       "      <th>Tenure</th>\n",
       "      <th>Balance</th>\n",
       "      <th>NumOfProducts</th>\n",
       "      <th>HasCrCard</th>\n",
       "      <th>IsActiveMember</th>\n",
       "      <th>EstimatedSalary</th>\n",
       "      <th>Exited</th>\n",
       "    </tr>\n",
       "  </thead>\n",
       "  <tbody>\n",
       "    <tr>\n",
       "      <th>9999</th>\n",
       "      <td>792</td>\n",
       "      <td>28</td>\n",
       "      <td>4</td>\n",
       "      <td>130142.79</td>\n",
       "      <td>1</td>\n",
       "      <td>1</td>\n",
       "      <td>0</td>\n",
       "      <td>38190.78</td>\n",
       "      <td>0</td>\n",
       "    </tr>\n",
       "  </tbody>\n",
       "</table>\n",
       "</div>"
      ],
      "text/plain": [
       "      CreditScore  Age  Tenure    Balance  NumOfProducts  HasCrCard  \\\n",
       "9999          792   28       4  130142.79              1          1   \n",
       "\n",
       "      IsActiveMember  EstimatedSalary  Exited  \n",
       "9999               0         38190.78       0  "
      ]
     },
     "execution_count": 10,
     "metadata": {},
     "output_type": "execute_result"
    }
   ],
   "source": [
    "data_num.tail(1)"
   ]
  },
  {
   "cell_type": "code",
   "execution_count": 11,
   "id": "69912bb5",
   "metadata": {
    "execution": {
     "iopub.execute_input": "2022-07-01T10:02:11.160188Z",
     "iopub.status.busy": "2022-07-01T10:02:11.159161Z",
     "iopub.status.idle": "2022-07-01T10:02:11.167655Z",
     "shell.execute_reply": "2022-07-01T10:02:11.166116Z"
    },
    "papermill": {
     "duration": 0.028544,
     "end_time": "2022-07-01T10:02:11.170486",
     "exception": false,
     "start_time": "2022-07-01T10:02:11.141942",
     "status": "completed"
    },
    "tags": []
   },
   "outputs": [],
   "source": [
    "data_num['Total_balance']=data_num['Balance']+data_num['EstimatedSalary']"
   ]
  },
  {
   "cell_type": "code",
   "execution_count": 12,
   "id": "50ff044b",
   "metadata": {
    "execution": {
     "iopub.execute_input": "2022-07-01T10:02:11.207440Z",
     "iopub.status.busy": "2022-07-01T10:02:11.206308Z",
     "iopub.status.idle": "2022-07-01T10:02:11.223208Z",
     "shell.execute_reply": "2022-07-01T10:02:11.221820Z"
    },
    "papermill": {
     "duration": 0.037538,
     "end_time": "2022-07-01T10:02:11.225986",
     "exception": false,
     "start_time": "2022-07-01T10:02:11.188448",
     "status": "completed"
    },
    "tags": []
   },
   "outputs": [
    {
     "data": {
      "text/html": [
       "<div>\n",
       "<style scoped>\n",
       "    .dataframe tbody tr th:only-of-type {\n",
       "        vertical-align: middle;\n",
       "    }\n",
       "\n",
       "    .dataframe tbody tr th {\n",
       "        vertical-align: top;\n",
       "    }\n",
       "\n",
       "    .dataframe thead th {\n",
       "        text-align: right;\n",
       "    }\n",
       "</style>\n",
       "<table border=\"1\" class=\"dataframe\">\n",
       "  <thead>\n",
       "    <tr style=\"text-align: right;\">\n",
       "      <th></th>\n",
       "      <th>CreditScore</th>\n",
       "      <th>Age</th>\n",
       "      <th>Tenure</th>\n",
       "      <th>NumOfProducts</th>\n",
       "      <th>HasCrCard</th>\n",
       "      <th>IsActiveMember</th>\n",
       "      <th>Exited</th>\n",
       "      <th>Total_balance</th>\n",
       "    </tr>\n",
       "  </thead>\n",
       "  <tbody>\n",
       "    <tr>\n",
       "      <th>0</th>\n",
       "      <td>619</td>\n",
       "      <td>42</td>\n",
       "      <td>2</td>\n",
       "      <td>1</td>\n",
       "      <td>1</td>\n",
       "      <td>1</td>\n",
       "      <td>1</td>\n",
       "      <td>101348.88</td>\n",
       "    </tr>\n",
       "  </tbody>\n",
       "</table>\n",
       "</div>"
      ],
      "text/plain": [
       "   CreditScore  Age  Tenure  NumOfProducts  HasCrCard  IsActiveMember  Exited  \\\n",
       "0          619   42       2              1          1               1       1   \n",
       "\n",
       "   Total_balance  \n",
       "0      101348.88  "
      ]
     },
     "execution_count": 12,
     "metadata": {},
     "output_type": "execute_result"
    }
   ],
   "source": [
    "data_num=data_num.drop(columns=['Balance','EstimatedSalary'],axis=1)\n",
    "data_num.head(1)"
   ]
  },
  {
   "cell_type": "code",
   "execution_count": 13,
   "id": "dabc4137",
   "metadata": {
    "execution": {
     "iopub.execute_input": "2022-07-01T10:02:11.260484Z",
     "iopub.status.busy": "2022-07-01T10:02:11.259246Z",
     "iopub.status.idle": "2022-07-01T10:02:11.275126Z",
     "shell.execute_reply": "2022-07-01T10:02:11.273896Z"
    },
    "papermill": {
     "duration": 0.036811,
     "end_time": "2022-07-01T10:02:11.278389",
     "exception": false,
     "start_time": "2022-07-01T10:02:11.241578",
     "status": "completed"
    },
    "tags": []
   },
   "outputs": [
    {
     "data": {
      "text/html": [
       "<div>\n",
       "<style scoped>\n",
       "    .dataframe tbody tr th:only-of-type {\n",
       "        vertical-align: middle;\n",
       "    }\n",
       "\n",
       "    .dataframe tbody tr th {\n",
       "        vertical-align: top;\n",
       "    }\n",
       "\n",
       "    .dataframe thead th {\n",
       "        text-align: right;\n",
       "    }\n",
       "</style>\n",
       "<table border=\"1\" class=\"dataframe\">\n",
       "  <thead>\n",
       "    <tr style=\"text-align: right;\">\n",
       "      <th></th>\n",
       "      <th>Surname</th>\n",
       "      <th>Geography</th>\n",
       "      <th>Gender</th>\n",
       "    </tr>\n",
       "  </thead>\n",
       "  <tbody>\n",
       "    <tr>\n",
       "      <th>0</th>\n",
       "      <td>Hargrave</td>\n",
       "      <td>France</td>\n",
       "      <td>Female</td>\n",
       "    </tr>\n",
       "    <tr>\n",
       "      <th>1</th>\n",
       "      <td>Hill</td>\n",
       "      <td>Spain</td>\n",
       "      <td>Female</td>\n",
       "    </tr>\n",
       "    <tr>\n",
       "      <th>2</th>\n",
       "      <td>Onio</td>\n",
       "      <td>France</td>\n",
       "      <td>Female</td>\n",
       "    </tr>\n",
       "    <tr>\n",
       "      <th>3</th>\n",
       "      <td>Boni</td>\n",
       "      <td>France</td>\n",
       "      <td>Female</td>\n",
       "    </tr>\n",
       "    <tr>\n",
       "      <th>4</th>\n",
       "      <td>Mitchell</td>\n",
       "      <td>Spain</td>\n",
       "      <td>Female</td>\n",
       "    </tr>\n",
       "  </tbody>\n",
       "</table>\n",
       "</div>"
      ],
      "text/plain": [
       "    Surname Geography  Gender\n",
       "0  Hargrave    France  Female\n",
       "1      Hill     Spain  Female\n",
       "2      Onio    France  Female\n",
       "3      Boni    France  Female\n",
       "4  Mitchell     Spain  Female"
      ]
     },
     "execution_count": 13,
     "metadata": {},
     "output_type": "execute_result"
    }
   ],
   "source": [
    "data_cat=data.select_dtypes(include=['object'])\n",
    "data_cat.head()"
   ]
  },
  {
   "cell_type": "code",
   "execution_count": 14,
   "id": "d0d433cb",
   "metadata": {
    "execution": {
     "iopub.execute_input": "2022-07-01T10:02:11.314166Z",
     "iopub.status.busy": "2022-07-01T10:02:11.313288Z",
     "iopub.status.idle": "2022-07-01T10:02:11.329762Z",
     "shell.execute_reply": "2022-07-01T10:02:11.328138Z"
    },
    "papermill": {
     "duration": 0.038208,
     "end_time": "2022-07-01T10:02:11.332629",
     "exception": false,
     "start_time": "2022-07-01T10:02:11.294421",
     "status": "completed"
    },
    "tags": []
   },
   "outputs": [
    {
     "data": {
      "text/html": [
       "<div>\n",
       "<style scoped>\n",
       "    .dataframe tbody tr th:only-of-type {\n",
       "        vertical-align: middle;\n",
       "    }\n",
       "\n",
       "    .dataframe tbody tr th {\n",
       "        vertical-align: top;\n",
       "    }\n",
       "\n",
       "    .dataframe thead th {\n",
       "        text-align: right;\n",
       "    }\n",
       "</style>\n",
       "<table border=\"1\" class=\"dataframe\">\n",
       "  <thead>\n",
       "    <tr style=\"text-align: right;\">\n",
       "      <th></th>\n",
       "      <th>Geography</th>\n",
       "      <th>Gender</th>\n",
       "    </tr>\n",
       "  </thead>\n",
       "  <tbody>\n",
       "    <tr>\n",
       "      <th>9999</th>\n",
       "      <td>France</td>\n",
       "      <td>Female</td>\n",
       "    </tr>\n",
       "  </tbody>\n",
       "</table>\n",
       "</div>"
      ],
      "text/plain": [
       "     Geography  Gender\n",
       "9999    France  Female"
      ]
     },
     "execution_count": 14,
     "metadata": {},
     "output_type": "execute_result"
    }
   ],
   "source": [
    "data_cat=data_cat.drop(columns='Surname',axis=1)\n",
    "data_cat.tail(1)"
   ]
  },
  {
   "cell_type": "code",
   "execution_count": 15,
   "id": "20137a23",
   "metadata": {
    "execution": {
     "iopub.execute_input": "2022-07-01T10:02:11.368530Z",
     "iopub.status.busy": "2022-07-01T10:02:11.367659Z",
     "iopub.status.idle": "2022-07-01T10:02:11.387834Z",
     "shell.execute_reply": "2022-07-01T10:02:11.386763Z"
    },
    "papermill": {
     "duration": 0.04095,
     "end_time": "2022-07-01T10:02:11.390278",
     "exception": false,
     "start_time": "2022-07-01T10:02:11.349328",
     "status": "completed"
    },
    "tags": []
   },
   "outputs": [
    {
     "data": {
      "text/html": [
       "<div>\n",
       "<style scoped>\n",
       "    .dataframe tbody tr th:only-of-type {\n",
       "        vertical-align: middle;\n",
       "    }\n",
       "\n",
       "    .dataframe tbody tr th {\n",
       "        vertical-align: top;\n",
       "    }\n",
       "\n",
       "    .dataframe thead th {\n",
       "        text-align: right;\n",
       "    }\n",
       "</style>\n",
       "<table border=\"1\" class=\"dataframe\">\n",
       "  <thead>\n",
       "    <tr style=\"text-align: right;\">\n",
       "      <th></th>\n",
       "      <th>Geography_Germany</th>\n",
       "      <th>Geography_Spain</th>\n",
       "      <th>Gender_Male</th>\n",
       "    </tr>\n",
       "  </thead>\n",
       "  <tbody>\n",
       "    <tr>\n",
       "      <th>0</th>\n",
       "      <td>0</td>\n",
       "      <td>0</td>\n",
       "      <td>0</td>\n",
       "    </tr>\n",
       "  </tbody>\n",
       "</table>\n",
       "</div>"
      ],
      "text/plain": [
       "   Geography_Germany  Geography_Spain  Gender_Male\n",
       "0                  0                0            0"
      ]
     },
     "execution_count": 15,
     "metadata": {},
     "output_type": "execute_result"
    }
   ],
   "source": [
    "data_cat=pd.get_dummies(data_cat,drop_first=True)\n",
    "data_cat.head(1)"
   ]
  },
  {
   "cell_type": "code",
   "execution_count": 16,
   "id": "a7b5bc01",
   "metadata": {
    "execution": {
     "iopub.execute_input": "2022-07-01T10:02:11.425210Z",
     "iopub.status.busy": "2022-07-01T10:02:11.424788Z",
     "iopub.status.idle": "2022-07-01T10:02:11.446595Z",
     "shell.execute_reply": "2022-07-01T10:02:11.445334Z"
    },
    "papermill": {
     "duration": 0.042504,
     "end_time": "2022-07-01T10:02:11.449201",
     "exception": false,
     "start_time": "2022-07-01T10:02:11.406697",
     "status": "completed"
    },
    "tags": []
   },
   "outputs": [
    {
     "data": {
      "text/html": [
       "<div>\n",
       "<style scoped>\n",
       "    .dataframe tbody tr th:only-of-type {\n",
       "        vertical-align: middle;\n",
       "    }\n",
       "\n",
       "    .dataframe tbody tr th {\n",
       "        vertical-align: top;\n",
       "    }\n",
       "\n",
       "    .dataframe thead th {\n",
       "        text-align: right;\n",
       "    }\n",
       "</style>\n",
       "<table border=\"1\" class=\"dataframe\">\n",
       "  <thead>\n",
       "    <tr style=\"text-align: right;\">\n",
       "      <th></th>\n",
       "      <th>CreditScore</th>\n",
       "      <th>Age</th>\n",
       "      <th>Tenure</th>\n",
       "      <th>NumOfProducts</th>\n",
       "      <th>HasCrCard</th>\n",
       "      <th>IsActiveMember</th>\n",
       "      <th>Exited</th>\n",
       "      <th>Total_balance</th>\n",
       "      <th>Geography_Germany</th>\n",
       "      <th>Geography_Spain</th>\n",
       "      <th>Gender_Male</th>\n",
       "    </tr>\n",
       "  </thead>\n",
       "  <tbody>\n",
       "    <tr>\n",
       "      <th>0</th>\n",
       "      <td>619</td>\n",
       "      <td>42</td>\n",
       "      <td>2</td>\n",
       "      <td>1</td>\n",
       "      <td>1</td>\n",
       "      <td>1</td>\n",
       "      <td>1</td>\n",
       "      <td>101348.88</td>\n",
       "      <td>0</td>\n",
       "      <td>0</td>\n",
       "      <td>0</td>\n",
       "    </tr>\n",
       "    <tr>\n",
       "      <th>1</th>\n",
       "      <td>608</td>\n",
       "      <td>41</td>\n",
       "      <td>1</td>\n",
       "      <td>1</td>\n",
       "      <td>0</td>\n",
       "      <td>1</td>\n",
       "      <td>0</td>\n",
       "      <td>196350.44</td>\n",
       "      <td>0</td>\n",
       "      <td>1</td>\n",
       "      <td>0</td>\n",
       "    </tr>\n",
       "    <tr>\n",
       "      <th>2</th>\n",
       "      <td>502</td>\n",
       "      <td>42</td>\n",
       "      <td>8</td>\n",
       "      <td>3</td>\n",
       "      <td>1</td>\n",
       "      <td>0</td>\n",
       "      <td>1</td>\n",
       "      <td>273592.37</td>\n",
       "      <td>0</td>\n",
       "      <td>0</td>\n",
       "      <td>0</td>\n",
       "    </tr>\n",
       "    <tr>\n",
       "      <th>3</th>\n",
       "      <td>699</td>\n",
       "      <td>39</td>\n",
       "      <td>1</td>\n",
       "      <td>2</td>\n",
       "      <td>0</td>\n",
       "      <td>0</td>\n",
       "      <td>0</td>\n",
       "      <td>93826.63</td>\n",
       "      <td>0</td>\n",
       "      <td>0</td>\n",
       "      <td>0</td>\n",
       "    </tr>\n",
       "    <tr>\n",
       "      <th>4</th>\n",
       "      <td>850</td>\n",
       "      <td>43</td>\n",
       "      <td>2</td>\n",
       "      <td>1</td>\n",
       "      <td>1</td>\n",
       "      <td>1</td>\n",
       "      <td>0</td>\n",
       "      <td>204594.92</td>\n",
       "      <td>0</td>\n",
       "      <td>1</td>\n",
       "      <td>0</td>\n",
       "    </tr>\n",
       "  </tbody>\n",
       "</table>\n",
       "</div>"
      ],
      "text/plain": [
       "   CreditScore  Age  Tenure  NumOfProducts  HasCrCard  IsActiveMember  Exited  \\\n",
       "0          619   42       2              1          1               1       1   \n",
       "1          608   41       1              1          0               1       0   \n",
       "2          502   42       8              3          1               0       1   \n",
       "3          699   39       1              2          0               0       0   \n",
       "4          850   43       2              1          1               1       0   \n",
       "\n",
       "   Total_balance  Geography_Germany  Geography_Spain  Gender_Male  \n",
       "0      101348.88                  0                0            0  \n",
       "1      196350.44                  0                1            0  \n",
       "2      273592.37                  0                0            0  \n",
       "3       93826.63                  0                0            0  \n",
       "4      204594.92                  0                1            0  "
      ]
     },
     "execution_count": 16,
     "metadata": {},
     "output_type": "execute_result"
    }
   ],
   "source": [
    "df=pd.merge(data_num,data_cat,left_index=True,right_index=True)\n",
    "df.head()"
   ]
  },
  {
   "cell_type": "code",
   "execution_count": 17,
   "id": "94818212",
   "metadata": {
    "execution": {
     "iopub.execute_input": "2022-07-01T10:02:11.485205Z",
     "iopub.status.busy": "2022-07-01T10:02:11.484723Z",
     "iopub.status.idle": "2022-07-01T10:02:12.369610Z",
     "shell.execute_reply": "2022-07-01T10:02:12.367898Z"
    },
    "papermill": {
     "duration": 0.907779,
     "end_time": "2022-07-01T10:02:12.373444",
     "exception": false,
     "start_time": "2022-07-01T10:02:11.465665",
     "status": "completed"
    },
    "tags": []
   },
   "outputs": [
    {
     "data": {
      "image/png": "[encoded data removed]",
      "text/plain": [
       "<Figure size 1080x936 with 2 Axes>"
      ]
     },
     "metadata": {
      "needs_background": "light"
     },
     "output_type": "display_data"
    }
   ],
   "source": [
    "plt.figure(figsize=(15,13))\n",
    "sns.heatmap(df.corr(),annot=True,cmap='BuPu')\n",
    "plt.show()"
   ]
  },
  {
   "cell_type": "code",
   "execution_count": 18,
   "id": "6d4d44cb",
   "metadata": {
    "execution": {
     "iopub.execute_input": "2022-07-01T10:02:12.412885Z",
     "iopub.status.busy": "2022-07-01T10:02:12.411734Z",
     "iopub.status.idle": "2022-07-01T10:02:13.897477Z",
     "shell.execute_reply": "2022-07-01T10:02:13.896181Z"
    },
    "papermill": {
     "duration": 1.508064,
     "end_time": "2022-07-01T10:02:13.900213",
     "exception": false,
     "start_time": "2022-07-01T10:02:12.392149",
     "status": "completed"
    },
    "tags": []
   },
   "outputs": [
    {
     "data": {
      "image/png": "[encoded data removed]",
      "text/plain": [
       "<Figure size 1440x1800 with 11 Axes>"
      ]
     },
     "metadata": {
      "needs_background": "light"
     },
     "output_type": "display_data"
    }
   ],
   "source": [
    "plt.figure(figsize=(20,25))\n",
    "for i,var in enumerate(df.columns):\n",
    "    plt.subplot(6,2,i+1)\n",
    "    sns.boxplot(df[var],color='green')"
   ]
  },
  {
   "cell_type": "code",
   "execution_count": 19,
   "id": "f96f81d3",
   "metadata": {
    "execution": {
     "iopub.execute_input": "2022-07-01T10:02:13.939885Z",
     "iopub.status.busy": "2022-07-01T10:02:13.938533Z",
     "iopub.status.idle": "2022-07-01T10:02:13.946270Z",
     "shell.execute_reply": "2022-07-01T10:02:13.945298Z"
    },
    "papermill": {
     "duration": 0.030243,
     "end_time": "2022-07-01T10:02:13.948846",
     "exception": false,
     "start_time": "2022-07-01T10:02:13.918603",
     "status": "completed"
    },
    "tags": []
   },
   "outputs": [],
   "source": [
    "x=df.drop(columns='Exited')\n",
    "y=df['Exited']"
   ]
  },
  {
   "cell_type": "code",
   "execution_count": 20,
   "id": "8771e80b",
   "metadata": {
    "execution": {
     "iopub.execute_input": "2022-07-01T10:02:13.989883Z",
     "iopub.status.busy": "2022-07-01T10:02:13.988750Z",
     "iopub.status.idle": "2022-07-01T10:02:14.263210Z",
     "shell.execute_reply": "2022-07-01T10:02:14.261703Z"
    },
    "papermill": {
     "duration": 0.298883,
     "end_time": "2022-07-01T10:02:14.266751",
     "exception": false,
     "start_time": "2022-07-01T10:02:13.967868",
     "status": "completed"
    },
    "tags": []
   },
   "outputs": [],
   "source": [
    "from sklearn.model_selection import train_test_split\n",
    "x_train,x_test,y_train,y_test=train_test_split(x,y,test_size=0.20)"
   ]
  },
  {
   "cell_type": "code",
   "execution_count": 21,
   "id": "34caec3d",
   "metadata": {
    "execution": {
     "iopub.execute_input": "2022-07-01T10:02:14.308570Z",
     "iopub.status.busy": "2022-07-01T10:02:14.308151Z",
     "iopub.status.idle": "2022-07-01T10:02:15.310155Z",
     "shell.execute_reply": "2022-07-01T10:02:15.308965Z"
    },
    "papermill": {
     "duration": 1.026199,
     "end_time": "2022-07-01T10:02:15.313183",
     "exception": false,
     "start_time": "2022-07-01T10:02:14.286984",
     "status": "completed"
    },
    "tags": []
   },
   "outputs": [
    {
     "data": {
      "text/plain": [
       "XGBClassifier(base_score=0.5, booster='gbtree', callbacks=None,\n",
       "              colsample_bylevel=1, colsample_bynode=1, colsample_bytree=1,\n",
       "              early_stopping_rounds=None, enable_categorical=False,\n",
       "              eval_metric=None, gamma=0, gpu_id=-1, grow_policy='depthwise',\n",
       "              importance_type=None, interaction_constraints='',\n",
       "              learning_rate=0.300000012, max_bin=256, max_cat_to_onehot=4,\n",
       "              max_delta_step=0, max_depth=6, max_leaves=0, min_child_weight=1,\n",
       "              missing=nan, monotone_constraints='()', n_estimators=100,\n",
       "              n_jobs=0, num_parallel_tree=1, predictor='auto', random_state=0,\n",
       "              reg_alpha=0, reg_lambda=1, ...)"
      ]
     },
     "execution_count": 21,
     "metadata": {},
     "output_type": "execute_result"
    }
   ],
   "source": [
    "from xgboost import XGBClassifier\n",
    "xgb=XGBClassifier()\n",
    "xgb.fit(x_train,y_train)"
   ]
  },
  {
   "cell_type": "code",
   "execution_count": 22,
   "id": "0190b8ca",
   "metadata": {
    "execution": {
     "iopub.execute_input": "2022-07-01T10:02:15.351870Z",
     "iopub.status.busy": "2022-07-01T10:02:15.351178Z",
     "iopub.status.idle": "2022-07-01T10:02:15.364422Z",
     "shell.execute_reply": "2022-07-01T10:02:15.363434Z"
    },
    "papermill": {
     "duration": 0.036654,
     "end_time": "2022-07-01T10:02:15.367587",
     "exception": false,
     "start_time": "2022-07-01T10:02:15.330933",
     "status": "completed"
    },
    "tags": []
   },
   "outputs": [],
   "source": [
    "y_pred=xgb.predict(x_test)"
   ]
  },
  {
   "cell_type": "code",
   "execution_count": 23,
   "id": "6844b2be",
   "metadata": {
    "execution": {
     "iopub.execute_input": "2022-07-01T10:02:15.408872Z",
     "iopub.status.busy": "2022-07-01T10:02:15.408413Z",
     "iopub.status.idle": "2022-07-01T10:02:15.416784Z",
     "shell.execute_reply": "2022-07-01T10:02:15.415578Z"
    },
    "papermill": {
     "duration": 0.032031,
     "end_time": "2022-07-01T10:02:15.420038",
     "exception": false,
     "start_time": "2022-07-01T10:02:15.388007",
     "status": "completed"
    },
    "tags": []
   },
   "outputs": [
    {
     "data": {
      "text/plain": [
       "array([1, 0, 1, ..., 0, 1, 1])"
      ]
     },
     "execution_count": 23,
     "metadata": {},
     "output_type": "execute_result"
    }
   ],
   "source": [
    "y_pred"
   ]
  },
  {
   "cell_type": "code",
   "execution_count": 24,
   "id": "34124a8c",
   "metadata": {
    "execution": {
     "iopub.execute_input": "2022-07-01T10:02:15.461125Z",
     "iopub.status.busy": "2022-07-01T10:02:15.460667Z",
     "iopub.status.idle": "2022-07-01T10:02:15.466383Z",
     "shell.execute_reply": "2022-07-01T10:02:15.465112Z"
    },
    "papermill": {
     "duration": 0.030217,
     "end_time": "2022-07-01T10:02:15.469813",
     "exception": false,
     "start_time": "2022-07-01T10:02:15.439596",
     "status": "completed"
    },
    "tags": []
   },
   "outputs": [],
   "source": [
    "from sklearn.metrics import accuracy_score,confusion_matrix"
   ]
  },
  {
   "cell_type": "code",
   "execution_count": 25,
   "id": "acdb27dc",
   "metadata": {
    "execution": {
     "iopub.execute_input": "2022-07-01T10:02:15.508979Z",
     "iopub.status.busy": "2022-07-01T10:02:15.508560Z",
     "iopub.status.idle": "2022-07-01T10:02:15.518407Z",
     "shell.execute_reply": "2022-07-01T10:02:15.516432Z"
    },
    "papermill": {
     "duration": 0.033583,
     "end_time": "2022-07-01T10:02:15.521384",
     "exception": false,
     "start_time": "2022-07-01T10:02:15.487801",
     "status": "completed"
    },
    "tags": []
   },
   "outputs": [
    {
     "data": {
      "text/plain": [
       "0.845"
      ]
     },
     "execution_count": 25,
     "metadata": {},
     "output_type": "execute_result"
    }
   ],
   "source": [
    "accuracy_score(y_test,y_pred)"
   ]
  },
  {
   "cell_type": "code",
   "execution_count": 26,
   "id": "6f388517",
   "metadata": {
    "execution": {
     "iopub.execute_input": "2022-07-01T10:02:15.561929Z",
     "iopub.status.busy": "2022-07-01T10:02:15.561429Z",
     "iopub.status.idle": "2022-07-01T10:02:15.570836Z",
     "shell.execute_reply": "2022-07-01T10:02:15.569671Z"
    },
    "papermill": {
     "duration": 0.03338,
     "end_time": "2022-07-01T10:02:15.573356",
     "exception": false,
     "start_time": "2022-07-01T10:02:15.539976",
     "status": "completed"
    },
    "tags": []
   },
   "outputs": [],
   "source": [
    "cm=confusion_matrix(y_test,y_pred)"
   ]
  },
  {
   "cell_type": "code",
   "execution_count": 27,
   "id": "cec4edff",
   "metadata": {
    "execution": {
     "iopub.execute_input": "2022-07-01T10:02:15.617060Z",
     "iopub.status.busy": "2022-07-01T10:02:15.616616Z",
     "iopub.status.idle": "2022-07-01T10:02:15.624670Z",
     "shell.execute_reply": "2022-07-01T10:02:15.622783Z"
    },
    "papermill": {
     "duration": 0.032855,
     "end_time": "2022-07-01T10:02:15.627390",
     "exception": false,
     "start_time": "2022-07-01T10:02:15.594535",
     "status": "completed"
    },
    "tags": []
   },
   "outputs": [
    {
     "data": {
      "text/plain": [
       "array([[1499,   83],\n",
       "       [ 227,  191]])"
      ]
     },
     "execution_count": 27,
     "metadata": {},
     "output_type": "execute_result"
    }
   ],
   "source": [
    "cm"
   ]
  },
  {
   "cell_type": "code",
   "execution_count": 28,
   "id": "ef9e8b8d",
   "metadata": {
    "execution": {
     "iopub.execute_input": "2022-07-01T10:02:15.667627Z",
     "iopub.status.busy": "2022-07-01T10:02:15.667162Z",
     "iopub.status.idle": "2022-07-01T10:02:15.930876Z",
     "shell.execute_reply": "2022-07-01T10:02:15.929795Z"
    },
    "papermill": {
     "duration": 0.287809,
     "end_time": "2022-07-01T10:02:15.934511",
     "exception": false,
     "start_time": "2022-07-01T10:02:15.646702",
     "status": "completed"
    },
    "tags": []
   },
   "outputs": [
    {
     "data": {
      "image/png": "[encoded data removed]",
      "text/plain": [
       "<Figure size 432x288 with 2 Axes>"
      ]
     },
     "metadata": {
      "needs_background": "light"
     },
     "output_type": "display_data"
    }
   ],
   "source": [
    "sns.heatmap(cm,cmap='viridis',annot=True)\n",
    "plt.show()"
   ]
  },
  {
   "cell_type": "code",
   "execution_count": 29,
   "id": "41a0ab55",
   "metadata": {
    "execution": {
     "iopub.execute_input": "2022-07-01T10:02:15.975964Z",
     "iopub.status.busy": "2022-07-01T10:02:15.974367Z",
     "iopub.status.idle": "2022-07-01T10:02:18.482162Z",
     "shell.execute_reply": "2022-07-01T10:02:18.480893Z"
    },
    "papermill": {
     "duration": 2.53199,
     "end_time": "2022-07-01T10:02:18.485155",
     "exception": false,
     "start_time": "2022-07-01T10:02:15.953165",
     "status": "completed"
    },
    "tags": []
   },
   "outputs": [
    {
     "data": {
      "text/plain": [
       "0.8525"
      ]
     },
     "execution_count": 29,
     "metadata": {},
     "output_type": "execute_result"
    }
   ],
   "source": [
    "from sklearn.ensemble import RandomForestClassifier\n",
    "rfg=RandomForestClassifier(n_estimators=200)\n",
    "rfg.fit(x_train,y_train)\n",
    "y_pred2=rfg.predict(x_test)\n",
    "accuracy_score(y_test,y_pred2)"
   ]
  },
  {
   "cell_type": "markdown",
   "id": "b195da86",
   "metadata": {
    "papermill": {
     "duration": 0.02792,
     "end_time": "2022-07-01T10:02:18.532707",
     "exception": false,
     "start_time": "2022-07-01T10:02:18.504787",
     "status": "completed"
    },
    "tags": []
   },
   "source": [
    "#Applying Neural Network"
   ]
  },
  {
   "cell_type": "code",
   "execution_count": 30,
   "id": "bcc68132",
   "metadata": {
    "execution": {
     "iopub.execute_input": "2022-07-01T10:02:18.575104Z",
     "iopub.status.busy": "2022-07-01T10:02:18.574328Z",
     "iopub.status.idle": "2022-07-01T10:02:30.722890Z",
     "shell.execute_reply": "2022-07-01T10:02:30.720807Z"
    },
    "papermill": {
     "duration": 12.173361,
     "end_time": "2022-07-01T10:02:30.725919",
     "exception": false,
     "start_time": "2022-07-01T10:02:18.552558",
     "status": "completed"
    },
    "tags": []
   },
   "outputs": [],
   "source": [
    "from tensorflow.keras import layers,models"
   ]
  },
  {
   "cell_type": "code",
   "execution_count": 31,
   "id": "57554d9e",
   "metadata": {
    "execution": {
     "iopub.execute_input": "2022-07-01T10:02:30.766954Z",
     "iopub.status.busy": "2022-07-01T10:02:30.766147Z",
     "iopub.status.idle": "2022-07-01T10:02:30.916263Z",
     "shell.execute_reply": "2022-07-01T10:02:30.915010Z"
    },
    "papermill": {
     "duration": 0.173762,
     "end_time": "2022-07-01T10:02:30.918981",
     "exception": false,
     "start_time": "2022-07-01T10:02:30.745219",
     "status": "completed"
    },
    "tags": []
   },
   "outputs": [
    {
     "name": "stderr",
     "output_type": "stream",
     "text": [
      "2022-07-01 10:02:30.816802: I tensorflow/core/common_runtime/process_util.cc:146] Creating new thread pool with default inter op setting: 2. Tune using inter_op_parallelism_threads for best performance.\n"
     ]
    }
   ],
   "source": [
    "nn=models.Sequential([\n",
    "    \n",
    "    layers.Dense(101,activation='relu',input_shape=(10,)),\n",
    "    layers.Dense(29,activation='relu'),\n",
    "    layers.Dense(1,activation='sigmoid')\n",
    "    \n",
    "    \n",
    "])"
   ]
  },
  {
   "cell_type": "code",
   "execution_count": 32,
   "id": "3cac2b39",
   "metadata": {
    "execution": {
     "iopub.execute_input": "2022-07-01T10:02:30.960363Z",
     "iopub.status.busy": "2022-07-01T10:02:30.959931Z",
     "iopub.status.idle": "2022-07-01T10:02:30.979807Z",
     "shell.execute_reply": "2022-07-01T10:02:30.978725Z"
    },
    "papermill": {
     "duration": 0.043274,
     "end_time": "2022-07-01T10:02:30.982468",
     "exception": false,
     "start_time": "2022-07-01T10:02:30.939194",
     "status": "completed"
    },
    "tags": []
   },
   "outputs": [],
   "source": [
    "from sklearn.preprocessing import RobustScaler\n",
    "rb=RobustScaler()\n",
    "x_train=rb.fit_transform(x_train)\n",
    "x_test=rb.transform(x_test)"
   ]
  },
  {
   "cell_type": "code",
   "execution_count": 33,
   "id": "b23173c1",
   "metadata": {
    "execution": {
     "iopub.execute_input": "2022-07-01T10:02:31.023035Z",
     "iopub.status.busy": "2022-07-01T10:02:31.022639Z",
     "iopub.status.idle": "2022-07-01T10:03:10.529535Z",
     "shell.execute_reply": "2022-07-01T10:03:10.528364Z"
    },
    "papermill": {
     "duration": 39.530862,
     "end_time": "2022-07-01T10:03:10.532295",
     "exception": false,
     "start_time": "2022-07-01T10:02:31.001433",
     "status": "completed"
    },
    "tags": []
   },
   "outputs": [
    {
     "name": "stderr",
     "output_type": "stream",
     "text": [
      "2022-07-01 10:02:31.136032: I tensorflow/compiler/mlir/mlir_graph_optimization_pass.cc:185] None of the MLIR Optimization Passes are enabled (registered 2)\n"
     ]
    },
    {
     "name": "stdout",
     "output_type": "stream",
     "text": [
      "Epoch 1/50\n",
      "250/250 [==============================] - 2s 3ms/step - loss: 0.4601 - accuracy: 0.8099\n",
      "Epoch 2/50\n",
      "250/250 [==============================] - 1s 3ms/step - loss: 0.3973 - accuracy: 0.8356\n",
      "Epoch 3/50\n",
      "250/250 [==============================] - 1s 3ms/step - loss: 0.3659 - accuracy: 0.8545\n",
      "Epoch 4/50\n",
      "250/250 [==============================] - 1s 3ms/step - loss: 0.3482 - accuracy: 0.8610\n",
      "Epoch 5/50\n",
      "250/250 [==============================] - 1s 3ms/step - loss: 0.3428 - accuracy: 0.8614\n",
      "Epoch 6/50\n",
      "250/250 [==============================] - 1s 3ms/step - loss: 0.3362 - accuracy: 0.8661\n",
      "Epoch 7/50\n",
      "250/250 [==============================] - 1s 3ms/step - loss: 0.3351 - accuracy: 0.8631\n",
      "Epoch 8/50\n",
      "250/250 [==============================] - 1s 3ms/step - loss: 0.3321 - accuracy: 0.8660\n",
      "Epoch 9/50\n",
      "250/250 [==============================] - 1s 3ms/step - loss: 0.3296 - accuracy: 0.8670\n",
      "Epoch 10/50\n",
      "250/250 [==============================] - 1s 3ms/step - loss: 0.3277 - accuracy: 0.8670\n",
      "Epoch 11/50\n",
      "250/250 [==============================] - 1s 3ms/step - loss: 0.3264 - accuracy: 0.8668\n",
      "Epoch 12/50\n",
      "250/250 [==============================] - 1s 3ms/step - loss: 0.3252 - accuracy: 0.8666\n",
      "Epoch 13/50\n",
      "250/250 [==============================] - 1s 3ms/step - loss: 0.3245 - accuracy: 0.8690\n",
      "Epoch 14/50\n",
      "250/250 [==============================] - 1s 3ms/step - loss: 0.3235 - accuracy: 0.8681\n",
      "Epoch 15/50\n",
      "250/250 [==============================] - 1s 3ms/step - loss: 0.3235 - accuracy: 0.8686\n",
      "Epoch 16/50\n",
      "250/250 [==============================] - 1s 3ms/step - loss: 0.3223 - accuracy: 0.8692\n",
      "Epoch 17/50\n",
      "250/250 [==============================] - 1s 3ms/step - loss: 0.3201 - accuracy: 0.8685\n",
      "Epoch 18/50\n",
      "250/250 [==============================] - 1s 3ms/step - loss: 0.3202 - accuracy: 0.8691\n",
      "Epoch 19/50\n",
      "250/250 [==============================] - 1s 3ms/step - loss: 0.3197 - accuracy: 0.8699\n",
      "Epoch 20/50\n",
      "250/250 [==============================] - 1s 3ms/step - loss: 0.3193 - accuracy: 0.8699\n",
      "Epoch 21/50\n",
      "250/250 [==============================] - 1s 3ms/step - loss: 0.3192 - accuracy: 0.8695\n",
      "Epoch 22/50\n",
      "250/250 [==============================] - 1s 3ms/step - loss: 0.3165 - accuracy: 0.8709\n",
      "Epoch 23/50\n",
      "250/250 [==============================] - 1s 3ms/step - loss: 0.3169 - accuracy: 0.8686\n",
      "Epoch 24/50\n",
      "250/250 [==============================] - 1s 3ms/step - loss: 0.3151 - accuracy: 0.8735\n",
      "Epoch 25/50\n",
      "250/250 [==============================] - 1s 3ms/step - loss: 0.3154 - accuracy: 0.8708\n",
      "Epoch 26/50\n",
      "250/250 [==============================] - 1s 3ms/step - loss: 0.3136 - accuracy: 0.8714\n",
      "Epoch 27/50\n",
      "250/250 [==============================] - 1s 3ms/step - loss: 0.3134 - accuracy: 0.8739\n",
      "Epoch 28/50\n",
      "250/250 [==============================] - 1s 3ms/step - loss: 0.3131 - accuracy: 0.8734\n",
      "Epoch 29/50\n",
      "250/250 [==============================] - 1s 3ms/step - loss: 0.3143 - accuracy: 0.8709\n",
      "Epoch 30/50\n",
      "250/250 [==============================] - 1s 3ms/step - loss: 0.3114 - accuracy: 0.8726\n",
      "Epoch 31/50\n",
      "250/250 [==============================] - 1s 3ms/step - loss: 0.3115 - accuracy: 0.8720\n",
      "Epoch 32/50\n",
      "250/250 [==============================] - 1s 3ms/step - loss: 0.3104 - accuracy: 0.8727\n",
      "Epoch 33/50\n",
      "250/250 [==============================] - 1s 3ms/step - loss: 0.3097 - accuracy: 0.8750\n",
      "Epoch 34/50\n",
      "250/250 [==============================] - 1s 3ms/step - loss: 0.3081 - accuracy: 0.8740\n",
      "Epoch 35/50\n",
      "250/250 [==============================] - 1s 3ms/step - loss: 0.3077 - accuracy: 0.8725\n",
      "Epoch 36/50\n",
      "250/250 [==============================] - 1s 3ms/step - loss: 0.3076 - accuracy: 0.8736\n",
      "Epoch 37/50\n",
      "250/250 [==============================] - 1s 3ms/step - loss: 0.3056 - accuracy: 0.8750\n",
      "Epoch 38/50\n",
      "250/250 [==============================] - 1s 5ms/step - loss: 0.3053 - accuracy: 0.8751\n",
      "Epoch 39/50\n",
      "250/250 [==============================] - 1s 4ms/step - loss: 0.3070 - accuracy: 0.8740\n",
      "Epoch 40/50\n",
      "250/250 [==============================] - 1s 3ms/step - loss: 0.3056 - accuracy: 0.8727\n",
      "Epoch 41/50\n",
      "250/250 [==============================] - 1s 3ms/step - loss: 0.3041 - accuracy: 0.8761\n",
      "Epoch 42/50\n",
      "250/250 [==============================] - 1s 3ms/step - loss: 0.3054 - accuracy: 0.8754\n",
      "Epoch 43/50\n",
      "250/250 [==============================] - 1s 3ms/step - loss: 0.3031 - accuracy: 0.8769\n",
      "Epoch 44/50\n",
      "250/250 [==============================] - 1s 3ms/step - loss: 0.3027 - accuracy: 0.8742\n",
      "Epoch 45/50\n",
      "250/250 [==============================] - 1s 3ms/step - loss: 0.3013 - accuracy: 0.8745\n",
      "Epoch 46/50\n",
      "250/250 [==============================] - 1s 3ms/step - loss: 0.3023 - accuracy: 0.8769\n",
      "Epoch 47/50\n",
      "250/250 [==============================] - 1s 3ms/step - loss: 0.2998 - accuracy: 0.8754\n",
      "Epoch 48/50\n",
      "250/250 [==============================] - 1s 3ms/step - loss: 0.2994 - accuracy: 0.8770\n",
      "Epoch 49/50\n",
      "250/250 [==============================] - 1s 3ms/step - loss: 0.3014 - accuracy: 0.8746\n",
      "Epoch 50/50\n",
      "250/250 [==============================] - 1s 3ms/step - loss: 0.2972 - accuracy: 0.8788\n"
     ]
    },
    {
     "data": {
      "text/plain": [
       "<keras.callbacks.History at 0x7fcb642ec890>"
      ]
     },
     "execution_count": 33,
     "metadata": {},
     "output_type": "execute_result"
    }
   ],
   "source": [
    "nn.compile(optimizer='adam',loss='binary_crossentropy',metrics=['accuracy'])\n",
    "nn.fit(x_train,y_train,epochs=50)"
   ]
  },
  {
   "cell_type": "code",
   "execution_count": 34,
   "id": "19aa28bc",
   "metadata": {
    "execution": {
     "iopub.execute_input": "2022-07-01T10:03:10.695797Z",
     "iopub.status.busy": "2022-07-01T10:03:10.694979Z",
     "iopub.status.idle": "2022-07-01T10:03:10.945577Z",
     "shell.execute_reply": "2022-07-01T10:03:10.944271Z"
    },
    "papermill": {
     "duration": 0.334629,
     "end_time": "2022-07-01T10:03:10.948351",
     "exception": false,
     "start_time": "2022-07-01T10:03:10.613722",
     "status": "completed"
    },
    "tags": []
   },
   "outputs": [
    {
     "data": {
      "text/plain": [
       "array([[0.8543925 ],\n",
       "       [0.0297395 ],\n",
       "       [0.9492817 ],\n",
       "       [0.48191023],\n",
       "       [0.7613361 ],\n",
       "       [0.14347804]], dtype=float32)"
      ]
     },
     "execution_count": 34,
     "metadata": {},
     "output_type": "execute_result"
    }
   ],
   "source": [
    "y_pred3=nn.predict(x_test)\n",
    "y_pred3[:6]"
   ]
  },
  {
   "cell_type": "code",
   "execution_count": 35,
   "id": "53332053",
   "metadata": {
    "execution": {
     "iopub.execute_input": "2022-07-01T10:03:11.104383Z",
     "iopub.status.busy": "2022-07-01T10:03:11.103552Z",
     "iopub.status.idle": "2022-07-01T10:03:11.111136Z",
     "shell.execute_reply": "2022-07-01T10:03:11.109981Z"
    },
    "papermill": {
     "duration": 0.089109,
     "end_time": "2022-07-01T10:03:11.113744",
     "exception": false,
     "start_time": "2022-07-01T10:03:11.024635",
     "status": "completed"
    },
    "tags": []
   },
   "outputs": [
    {
     "data": {
      "text/plain": [
       "array([[ True],\n",
       "       [False],\n",
       "       [ True],\n",
       "       [False]])"
      ]
     },
     "execution_count": 35,
     "metadata": {},
     "output_type": "execute_result"
    }
   ],
   "source": [
    "y_pred3=(y_pred3>0.5)\n",
    "y_pred3[:4]"
   ]
  },
  {
   "cell_type": "code",
   "execution_count": 36,
   "id": "b1c3409e",
   "metadata": {
    "execution": {
     "iopub.execute_input": "2022-07-01T10:03:11.273269Z",
     "iopub.status.busy": "2022-07-01T10:03:11.272270Z",
     "iopub.status.idle": "2022-07-01T10:03:11.280185Z",
     "shell.execute_reply": "2022-07-01T10:03:11.279172Z"
    },
    "papermill": {
     "duration": 0.09272,
     "end_time": "2022-07-01T10:03:11.283451",
     "exception": false,
     "start_time": "2022-07-01T10:03:11.190731",
     "status": "completed"
    },
    "tags": []
   },
   "outputs": [
    {
     "data": {
      "text/plain": [
       "array([ True, False,  True, False,  True])"
      ]
     },
     "execution_count": 36,
     "metadata": {},
     "output_type": "execute_result"
    }
   ],
   "source": [
    "y_pred3=y_pred3.reshape(-1,)\n",
    "y_pred3[:5]"
   ]
  },
  {
   "cell_type": "code",
   "execution_count": 37,
   "id": "659ad597",
   "metadata": {
    "execution": {
     "iopub.execute_input": "2022-07-01T10:03:11.442939Z",
     "iopub.status.busy": "2022-07-01T10:03:11.442299Z",
     "iopub.status.idle": "2022-07-01T10:03:11.451305Z",
     "shell.execute_reply": "2022-07-01T10:03:11.450349Z"
    },
    "papermill": {
     "duration": 0.091489,
     "end_time": "2022-07-01T10:03:11.454248",
     "exception": false,
     "start_time": "2022-07-01T10:03:11.362759",
     "status": "completed"
    },
    "tags": []
   },
   "outputs": [
    {
     "data": {
      "text/plain": [
       "0    1\n",
       "1    0\n",
       "2    1\n",
       "3    0\n",
       "4    0\n",
       "Name: Exited, dtype: int64"
      ]
     },
     "execution_count": 37,
     "metadata": {},
     "output_type": "execute_result"
    }
   ],
   "source": [
    "y.head()"
   ]
  },
  {
   "cell_type": "code",
   "execution_count": 38,
   "id": "8f133f5b",
   "metadata": {
    "execution": {
     "iopub.execute_input": "2022-07-01T10:03:11.608898Z",
     "iopub.status.busy": "2022-07-01T10:03:11.607379Z",
     "iopub.status.idle": "2022-07-01T10:03:11.621695Z",
     "shell.execute_reply": "2022-07-01T10:03:11.620752Z"
    },
    "papermill": {
     "duration": 0.094327,
     "end_time": "2022-07-01T10:03:11.623981",
     "exception": false,
     "start_time": "2022-07-01T10:03:11.529654",
     "status": "completed"
    },
    "tags": []
   },
   "outputs": [
    {
     "data": {
      "text/html": [
       "<div>\n",
       "<style scoped>\n",
       "    .dataframe tbody tr th:only-of-type {\n",
       "        vertical-align: middle;\n",
       "    }\n",
       "\n",
       "    .dataframe tbody tr th {\n",
       "        vertical-align: top;\n",
       "    }\n",
       "\n",
       "    .dataframe thead th {\n",
       "        text-align: right;\n",
       "    }\n",
       "</style>\n",
       "<table border=\"1\" class=\"dataframe\">\n",
       "  <thead>\n",
       "    <tr style=\"text-align: right;\">\n",
       "      <th></th>\n",
       "      <th>Exited</th>\n",
       "    </tr>\n",
       "  </thead>\n",
       "  <tbody>\n",
       "    <tr>\n",
       "      <th>0</th>\n",
       "      <td>True</td>\n",
       "    </tr>\n",
       "    <tr>\n",
       "      <th>1</th>\n",
       "      <td>False</td>\n",
       "    </tr>\n",
       "    <tr>\n",
       "      <th>2</th>\n",
       "      <td>True</td>\n",
       "    </tr>\n",
       "    <tr>\n",
       "      <th>3</th>\n",
       "      <td>False</td>\n",
       "    </tr>\n",
       "    <tr>\n",
       "      <th>4</th>\n",
       "      <td>True</td>\n",
       "    </tr>\n",
       "    <tr>\n",
       "      <th>...</th>\n",
       "      <td>...</td>\n",
       "    </tr>\n",
       "    <tr>\n",
       "      <th>1995</th>\n",
       "      <td>False</td>\n",
       "    </tr>\n",
       "    <tr>\n",
       "      <th>1996</th>\n",
       "      <td>False</td>\n",
       "    </tr>\n",
       "    <tr>\n",
       "      <th>1997</th>\n",
       "      <td>False</td>\n",
       "    </tr>\n",
       "    <tr>\n",
       "      <th>1998</th>\n",
       "      <td>True</td>\n",
       "    </tr>\n",
       "    <tr>\n",
       "      <th>1999</th>\n",
       "      <td>True</td>\n",
       "    </tr>\n",
       "  </tbody>\n",
       "</table>\n",
       "<p>2000 rows × 1 columns</p>\n",
       "</div>"
      ],
      "text/plain": [
       "      Exited\n",
       "0       True\n",
       "1      False\n",
       "2       True\n",
       "3      False\n",
       "4       True\n",
       "...      ...\n",
       "1995   False\n",
       "1996   False\n",
       "1997   False\n",
       "1998    True\n",
       "1999    True\n",
       "\n",
       "[2000 rows x 1 columns]"
      ]
     },
     "execution_count": 38,
     "metadata": {},
     "output_type": "execute_result"
    }
   ],
   "source": [
    "y_pred3=pd.DataFrame(y_pred3)\n",
    "y_pred3=y_pred3.rename(columns={0:'Exited'})\n",
    "y_pred3"
   ]
  },
  {
   "cell_type": "code",
   "execution_count": 39,
   "id": "2e6e6096",
   "metadata": {
    "execution": {
     "iopub.execute_input": "2022-07-01T10:03:11.781913Z",
     "iopub.status.busy": "2022-07-01T10:03:11.780639Z",
     "iopub.status.idle": "2022-07-01T10:03:11.788718Z",
     "shell.execute_reply": "2022-07-01T10:03:11.787608Z"
    },
    "papermill": {
     "duration": 0.088658,
     "end_time": "2022-07-01T10:03:11.791155",
     "exception": false,
     "start_time": "2022-07-01T10:03:11.702497",
     "status": "completed"
    },
    "tags": []
   },
   "outputs": [
    {
     "data": {
      "text/plain": [
       "array([1, 0, 1, ..., 0, 1, 1])"
      ]
     },
     "execution_count": 39,
     "metadata": {},
     "output_type": "execute_result"
    }
   ],
   "source": [
    "from sklearn.preprocessing import LabelEncoder\n",
    "le=LabelEncoder()\n",
    "y_pred3=le.fit_transform(y_pred3)\n",
    "y_pred3"
   ]
  },
  {
   "cell_type": "code",
   "execution_count": 40,
   "id": "36900d7a",
   "metadata": {
    "execution": {
     "iopub.execute_input": "2022-07-01T10:03:11.946813Z",
     "iopub.status.busy": "2022-07-01T10:03:11.946333Z",
     "iopub.status.idle": "2022-07-01T10:03:11.955357Z",
     "shell.execute_reply": "2022-07-01T10:03:11.954022Z"
    },
    "papermill": {
     "duration": 0.090419,
     "end_time": "2022-07-01T10:03:11.958044",
     "exception": false,
     "start_time": "2022-07-01T10:03:11.867625",
     "status": "completed"
    },
    "tags": []
   },
   "outputs": [
    {
     "data": {
      "text/plain": [
       "0.8485"
      ]
     },
     "execution_count": 40,
     "metadata": {},
     "output_type": "execute_result"
    }
   ],
   "source": [
    "accuracy_score(y_test,y_pred3)"
   ]
  },
  {
   "cell_type": "code",
   "execution_count": null,
   "id": "52485f95",
   "metadata": {
    "papermill": {
     "duration": 0.081567,
     "end_time": "2022-07-01T10:03:12.120181",
     "exception": false,
     "start_time": "2022-07-01T10:03:12.038614",
     "status": "completed"
    },
    "tags": []
   },
   "outputs": [],
   "source": []
  }
 ],
 "metadata": {
  "kernelspec": {
   "display_name": "Python 3",
   "language": "python",
   "name": "python3"
  },
  "language_info": {
   "codemirror_mode": {
    "name": "ipython",
    "version": 3
   },
   "file_extension": ".py",
   "mimetype": "text/x-python",
   "name": "python",
   "nbconvert_exporter": "python",
   "pygments_lexer": "ipython3",
   "version": "3.7.12"
  },
  "papermill": {
   "default_parameters": {},
   "duration": 81.980413,
   "end_time": "2022-07-01T10:03:15.359558",
   "environment_variables": {},
   "exception": null,
   "input_path": "__notebook__.ipynb",
   "output_path": "__notebook__.ipynb",
   "parameters": {},
   "start_time": "2022-07-01T10:01:53.379145",
   "version": "2.3.4"
  }
 },
 "nbformat": 4,
 "nbformat_minor": 5
}
