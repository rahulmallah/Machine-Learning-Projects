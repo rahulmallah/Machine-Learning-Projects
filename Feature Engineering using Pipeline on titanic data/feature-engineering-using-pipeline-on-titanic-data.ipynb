{
 "cells": [
  {
   "cell_type": "code",
   "execution_count": 1,
   "id": "918d724c",
   "metadata": {
    "execution": {
     "iopub.execute_input": "2022-06-27T23:28:15.440467Z",
     "iopub.status.busy": "2022-06-27T23:28:15.440033Z",
     "iopub.status.idle": "2022-06-27T23:28:16.832506Z",
     "shell.execute_reply": "2022-06-27T23:28:16.831283Z"
    },
    "papermill": {
     "duration": 1.407214,
     "end_time": "2022-06-27T23:28:16.835629",
     "exception": false,
     "start_time": "2022-06-27T23:28:15.428415",
     "status": "completed"
    },
    "tags": []
   },
   "outputs": [],
   "source": [
    "import pandas as pd\n",
    "import numpy as np\n",
    "from sklearn.model_selection import train_test_split\n",
    "from sklearn.compose import ColumnTransformer,make_column_transformer\n",
    "from sklearn.impute import SimpleImputer\n",
    "from sklearn.feature_selection import SelectKBest,chi2\n",
    "from sklearn.preprocessing import OneHotEncoder\n",
    "from sklearn.preprocessing import MinMaxScaler\n",
    "from sklearn.pipeline import Pipeline,make_pipeline\n",
    "from sklearn.tree import DecisionTreeClassifier"
   ]
  },
  {
   "cell_type": "code",
   "execution_count": 2,
   "id": "a627ab2b",
   "metadata": {
    "execution": {
     "iopub.execute_input": "2022-06-27T23:28:16.855271Z",
     "iopub.status.busy": "2022-06-27T23:28:16.854887Z",
     "iopub.status.idle": "2022-06-27T23:28:16.875329Z",
     "shell.execute_reply": "2022-06-27T23:28:16.874103Z"
    },
    "papermill": {
     "duration": 0.033438,
     "end_time": "2022-06-27T23:28:16.877966",
     "exception": false,
     "start_time": "2022-06-27T23:28:16.844528",
     "status": "completed"
    },
    "tags": []
   },
   "outputs": [],
   "source": [
    "data = pd.read_csv('../input/titanic/train.csv')"
   ]
  },
  {
   "cell_type": "code",
   "execution_count": 3,
   "id": "e3319b6a",
   "metadata": {
    "execution": {
     "iopub.execute_input": "2022-06-27T23:28:16.897649Z",
     "iopub.status.busy": "2022-06-27T23:28:16.896666Z",
     "iopub.status.idle": "2022-06-27T23:28:16.922707Z",
     "shell.execute_reply": "2022-06-27T23:28:16.921521Z"
    },
    "papermill": {
     "duration": 0.03905,
     "end_time": "2022-06-27T23:28:16.925677",
     "exception": false,
     "start_time": "2022-06-27T23:28:16.886627",
     "status": "completed"
    },
    "tags": []
   },
   "outputs": [
    {
     "data": {
      "text/html": [
       "<div>\n",
       "<style scoped>\n",
       "    .dataframe tbody tr th:only-of-type {\n",
       "        vertical-align: middle;\n",
       "    }\n",
       "\n",
       "    .dataframe tbody tr th {\n",
       "        vertical-align: top;\n",
       "    }\n",
       "\n",
       "    .dataframe thead th {\n",
       "        text-align: right;\n",
       "    }\n",
       "</style>\n",
       "<table border=\"1\" class=\"dataframe\">\n",
       "  <thead>\n",
       "    <tr style=\"text-align: right;\">\n",
       "      <th></th>\n",
       "      <th>PassengerId</th>\n",
       "      <th>Survived</th>\n",
       "      <th>Pclass</th>\n",
       "      <th>Name</th>\n",
       "      <th>Sex</th>\n",
       "      <th>Age</th>\n",
       "      <th>SibSp</th>\n",
       "      <th>Parch</th>\n",
       "      <th>Ticket</th>\n",
       "      <th>Fare</th>\n",
       "      <th>Cabin</th>\n",
       "      <th>Embarked</th>\n",
       "    </tr>\n",
       "  </thead>\n",
       "  <tbody>\n",
       "    <tr>\n",
       "      <th>0</th>\n",
       "      <td>1</td>\n",
       "      <td>0</td>\n",
       "      <td>3</td>\n",
       "      <td>Braund, Mr. Owen Harris</td>\n",
       "      <td>male</td>\n",
       "      <td>22.0</td>\n",
       "      <td>1</td>\n",
       "      <td>0</td>\n",
       "      <td>A/5 21171</td>\n",
       "      <td>7.2500</td>\n",
       "      <td>NaN</td>\n",
       "      <td>S</td>\n",
       "    </tr>\n",
       "    <tr>\n",
       "      <th>1</th>\n",
       "      <td>2</td>\n",
       "      <td>1</td>\n",
       "      <td>1</td>\n",
       "      <td>Cumings, Mrs. John Bradley (Florence Briggs Th...</td>\n",
       "      <td>female</td>\n",
       "      <td>38.0</td>\n",
       "      <td>1</td>\n",
       "      <td>0</td>\n",
       "      <td>PC 17599</td>\n",
       "      <td>71.2833</td>\n",
       "      <td>C85</td>\n",
       "      <td>C</td>\n",
       "    </tr>\n",
       "    <tr>\n",
       "      <th>2</th>\n",
       "      <td>3</td>\n",
       "      <td>1</td>\n",
       "      <td>3</td>\n",
       "      <td>Heikkinen, Miss. Laina</td>\n",
       "      <td>female</td>\n",
       "      <td>26.0</td>\n",
       "      <td>0</td>\n",
       "      <td>0</td>\n",
       "      <td>STON/O2. 3101282</td>\n",
       "      <td>7.9250</td>\n",
       "      <td>NaN</td>\n",
       "      <td>S</td>\n",
       "    </tr>\n",
       "    <tr>\n",
       "      <th>3</th>\n",
       "      <td>4</td>\n",
       "      <td>1</td>\n",
       "      <td>1</td>\n",
       "      <td>Futrelle, Mrs. Jacques Heath (Lily May Peel)</td>\n",
       "      <td>female</td>\n",
       "      <td>35.0</td>\n",
       "      <td>1</td>\n",
       "      <td>0</td>\n",
       "      <td>113803</td>\n",
       "      <td>53.1000</td>\n",
       "      <td>C123</td>\n",
       "      <td>S</td>\n",
       "    </tr>\n",
       "    <tr>\n",
       "      <th>4</th>\n",
       "      <td>5</td>\n",
       "      <td>0</td>\n",
       "      <td>3</td>\n",
       "      <td>Allen, Mr. William Henry</td>\n",
       "      <td>male</td>\n",
       "      <td>35.0</td>\n",
       "      <td>0</td>\n",
       "      <td>0</td>\n",
       "      <td>373450</td>\n",
       "      <td>8.0500</td>\n",
       "      <td>NaN</td>\n",
       "      <td>S</td>\n",
       "    </tr>\n",
       "  </tbody>\n",
       "</table>\n",
       "</div>"
      ],
      "text/plain": [
       "   PassengerId  Survived  Pclass  \\\n",
       "0            1         0       3   \n",
       "1            2         1       1   \n",
       "2            3         1       3   \n",
       "3            4         1       1   \n",
       "4            5         0       3   \n",
       "\n",
       "                                                Name     Sex   Age  SibSp  \\\n",
       "0                            Braund, Mr. Owen Harris    male  22.0      1   \n",
       "1  Cumings, Mrs. John Bradley (Florence Briggs Th...  female  38.0      1   \n",
       "2                             Heikkinen, Miss. Laina  female  26.0      0   \n",
       "3       Futrelle, Mrs. Jacques Heath (Lily May Peel)  female  35.0      1   \n",
       "4                           Allen, Mr. William Henry    male  35.0      0   \n",
       "\n",
       "   Parch            Ticket     Fare Cabin Embarked  \n",
       "0      0         A/5 21171   7.2500   NaN        S  \n",
       "1      0          PC 17599  71.2833   C85        C  \n",
       "2      0  STON/O2. 3101282   7.9250   NaN        S  \n",
       "3      0            113803  53.1000  C123        S  \n",
       "4      0            373450   8.0500   NaN        S  "
      ]
     },
     "execution_count": 3,
     "metadata": {},
     "output_type": "execute_result"
    }
   ],
   "source": [
    "data.head()"
   ]
  },
  {
   "cell_type": "code",
   "execution_count": 4,
   "id": "e9898eba",
   "metadata": {
    "execution": {
     "iopub.execute_input": "2022-06-27T23:28:16.946723Z",
     "iopub.status.busy": "2022-06-27T23:28:16.946009Z",
     "iopub.status.idle": "2022-06-27T23:28:16.955028Z",
     "shell.execute_reply": "2022-06-27T23:28:16.954147Z"
    },
    "papermill": {
     "duration": 0.02196,
     "end_time": "2022-06-27T23:28:16.957247",
     "exception": false,
     "start_time": "2022-06-27T23:28:16.935287",
     "status": "completed"
    },
    "tags": []
   },
   "outputs": [
    {
     "data": {
      "text/plain": [
       "PassengerId      0\n",
       "Survived         0\n",
       "Pclass           0\n",
       "Name             0\n",
       "Sex              0\n",
       "Age            177\n",
       "SibSp            0\n",
       "Parch            0\n",
       "Ticket           0\n",
       "Fare             0\n",
       "Cabin          687\n",
       "Embarked         2\n",
       "dtype: int64"
      ]
     },
     "execution_count": 4,
     "metadata": {},
     "output_type": "execute_result"
    }
   ],
   "source": [
    "data.isnull().sum()"
   ]
  },
  {
   "cell_type": "code",
   "execution_count": 5,
   "id": "8849114b",
   "metadata": {
    "execution": {
     "iopub.execute_input": "2022-06-27T23:28:16.978237Z",
     "iopub.status.busy": "2022-06-27T23:28:16.977498Z",
     "iopub.status.idle": "2022-06-27T23:28:16.998488Z",
     "shell.execute_reply": "2022-06-27T23:28:16.997436Z"
    },
    "papermill": {
     "duration": 0.034276,
     "end_time": "2022-06-27T23:28:17.000970",
     "exception": false,
     "start_time": "2022-06-27T23:28:16.966694",
     "status": "completed"
    },
    "tags": []
   },
   "outputs": [
    {
     "data": {
      "text/html": [
       "<div>\n",
       "<style scoped>\n",
       "    .dataframe tbody tr th:only-of-type {\n",
       "        vertical-align: middle;\n",
       "    }\n",
       "\n",
       "    .dataframe tbody tr th {\n",
       "        vertical-align: top;\n",
       "    }\n",
       "\n",
       "    .dataframe thead th {\n",
       "        text-align: right;\n",
       "    }\n",
       "</style>\n",
       "<table border=\"1\" class=\"dataframe\">\n",
       "  <thead>\n",
       "    <tr style=\"text-align: right;\">\n",
       "      <th></th>\n",
       "      <th>Survived</th>\n",
       "      <th>Pclass</th>\n",
       "      <th>Sex</th>\n",
       "      <th>Age</th>\n",
       "      <th>SibSp</th>\n",
       "      <th>Parch</th>\n",
       "      <th>Fare</th>\n",
       "      <th>Embarked</th>\n",
       "    </tr>\n",
       "  </thead>\n",
       "  <tbody>\n",
       "    <tr>\n",
       "      <th>631</th>\n",
       "      <td>0</td>\n",
       "      <td>3</td>\n",
       "      <td>male</td>\n",
       "      <td>51.0</td>\n",
       "      <td>0</td>\n",
       "      <td>0</td>\n",
       "      <td>7.0542</td>\n",
       "      <td>S</td>\n",
       "    </tr>\n",
       "    <tr>\n",
       "      <th>384</th>\n",
       "      <td>0</td>\n",
       "      <td>3</td>\n",
       "      <td>male</td>\n",
       "      <td>NaN</td>\n",
       "      <td>0</td>\n",
       "      <td>0</td>\n",
       "      <td>7.8958</td>\n",
       "      <td>S</td>\n",
       "    </tr>\n",
       "  </tbody>\n",
       "</table>\n",
       "</div>"
      ],
      "text/plain": [
       "     Survived  Pclass   Sex   Age  SibSp  Parch    Fare Embarked\n",
       "631         0       3  male  51.0      0      0  7.0542        S\n",
       "384         0       3  male   NaN      0      0  7.8958        S"
      ]
     },
     "execution_count": 5,
     "metadata": {},
     "output_type": "execute_result"
    }
   ],
   "source": [
    "data=data.drop(columns=['PassengerId','Name','Cabin','Ticket'],axis=1)\n",
    "data.sample(2)"
   ]
  },
  {
   "cell_type": "code",
   "execution_count": 6,
   "id": "ab68ccc3",
   "metadata": {
    "execution": {
     "iopub.execute_input": "2022-06-27T23:28:17.021694Z",
     "iopub.status.busy": "2022-06-27T23:28:17.020988Z",
     "iopub.status.idle": "2022-06-27T23:28:17.042335Z",
     "shell.execute_reply": "2022-06-27T23:28:17.041432Z"
    },
    "papermill": {
     "duration": 0.034141,
     "end_time": "2022-06-27T23:28:17.044400",
     "exception": false,
     "start_time": "2022-06-27T23:28:17.010259",
     "status": "completed"
    },
    "tags": []
   },
   "outputs": [
    {
     "data": {
      "text/html": [
       "<div>\n",
       "<style scoped>\n",
       "    .dataframe tbody tr th:only-of-type {\n",
       "        vertical-align: middle;\n",
       "    }\n",
       "\n",
       "    .dataframe tbody tr th {\n",
       "        vertical-align: top;\n",
       "    }\n",
       "\n",
       "    .dataframe thead th {\n",
       "        text-align: right;\n",
       "    }\n",
       "</style>\n",
       "<table border=\"1\" class=\"dataframe\">\n",
       "  <thead>\n",
       "    <tr style=\"text-align: right;\">\n",
       "      <th></th>\n",
       "      <th>Pclass</th>\n",
       "      <th>Sex</th>\n",
       "      <th>Age</th>\n",
       "      <th>SibSp</th>\n",
       "      <th>Parch</th>\n",
       "      <th>Fare</th>\n",
       "      <th>Embarked</th>\n",
       "    </tr>\n",
       "  </thead>\n",
       "  <tbody>\n",
       "    <tr>\n",
       "      <th>0</th>\n",
       "      <td>3</td>\n",
       "      <td>male</td>\n",
       "      <td>22.0</td>\n",
       "      <td>1</td>\n",
       "      <td>0</td>\n",
       "      <td>7.2500</td>\n",
       "      <td>S</td>\n",
       "    </tr>\n",
       "    <tr>\n",
       "      <th>1</th>\n",
       "      <td>1</td>\n",
       "      <td>female</td>\n",
       "      <td>38.0</td>\n",
       "      <td>1</td>\n",
       "      <td>0</td>\n",
       "      <td>71.2833</td>\n",
       "      <td>C</td>\n",
       "    </tr>\n",
       "    <tr>\n",
       "      <th>2</th>\n",
       "      <td>3</td>\n",
       "      <td>female</td>\n",
       "      <td>26.0</td>\n",
       "      <td>0</td>\n",
       "      <td>0</td>\n",
       "      <td>7.9250</td>\n",
       "      <td>S</td>\n",
       "    </tr>\n",
       "    <tr>\n",
       "      <th>3</th>\n",
       "      <td>1</td>\n",
       "      <td>female</td>\n",
       "      <td>35.0</td>\n",
       "      <td>1</td>\n",
       "      <td>0</td>\n",
       "      <td>53.1000</td>\n",
       "      <td>S</td>\n",
       "    </tr>\n",
       "    <tr>\n",
       "      <th>4</th>\n",
       "      <td>3</td>\n",
       "      <td>male</td>\n",
       "      <td>35.0</td>\n",
       "      <td>0</td>\n",
       "      <td>0</td>\n",
       "      <td>8.0500</td>\n",
       "      <td>S</td>\n",
       "    </tr>\n",
       "    <tr>\n",
       "      <th>...</th>\n",
       "      <td>...</td>\n",
       "      <td>...</td>\n",
       "      <td>...</td>\n",
       "      <td>...</td>\n",
       "      <td>...</td>\n",
       "      <td>...</td>\n",
       "      <td>...</td>\n",
       "    </tr>\n",
       "    <tr>\n",
       "      <th>886</th>\n",
       "      <td>2</td>\n",
       "      <td>male</td>\n",
       "      <td>27.0</td>\n",
       "      <td>0</td>\n",
       "      <td>0</td>\n",
       "      <td>13.0000</td>\n",
       "      <td>S</td>\n",
       "    </tr>\n",
       "    <tr>\n",
       "      <th>887</th>\n",
       "      <td>1</td>\n",
       "      <td>female</td>\n",
       "      <td>19.0</td>\n",
       "      <td>0</td>\n",
       "      <td>0</td>\n",
       "      <td>30.0000</td>\n",
       "      <td>S</td>\n",
       "    </tr>\n",
       "    <tr>\n",
       "      <th>888</th>\n",
       "      <td>3</td>\n",
       "      <td>female</td>\n",
       "      <td>NaN</td>\n",
       "      <td>1</td>\n",
       "      <td>2</td>\n",
       "      <td>23.4500</td>\n",
       "      <td>S</td>\n",
       "    </tr>\n",
       "    <tr>\n",
       "      <th>889</th>\n",
       "      <td>1</td>\n",
       "      <td>male</td>\n",
       "      <td>26.0</td>\n",
       "      <td>0</td>\n",
       "      <td>0</td>\n",
       "      <td>30.0000</td>\n",
       "      <td>C</td>\n",
       "    </tr>\n",
       "    <tr>\n",
       "      <th>890</th>\n",
       "      <td>3</td>\n",
       "      <td>male</td>\n",
       "      <td>32.0</td>\n",
       "      <td>0</td>\n",
       "      <td>0</td>\n",
       "      <td>7.7500</td>\n",
       "      <td>Q</td>\n",
       "    </tr>\n",
       "  </tbody>\n",
       "</table>\n",
       "<p>891 rows × 7 columns</p>\n",
       "</div>"
      ],
      "text/plain": [
       "     Pclass     Sex   Age  SibSp  Parch     Fare Embarked\n",
       "0         3    male  22.0      1      0   7.2500        S\n",
       "1         1  female  38.0      1      0  71.2833        C\n",
       "2         3  female  26.0      0      0   7.9250        S\n",
       "3         1  female  35.0      1      0  53.1000        S\n",
       "4         3    male  35.0      0      0   8.0500        S\n",
       "..      ...     ...   ...    ...    ...      ...      ...\n",
       "886       2    male  27.0      0      0  13.0000        S\n",
       "887       1  female  19.0      0      0  30.0000        S\n",
       "888       3  female   NaN      1      2  23.4500        S\n",
       "889       1    male  26.0      0      0  30.0000        C\n",
       "890       3    male  32.0      0      0   7.7500        Q\n",
       "\n",
       "[891 rows x 7 columns]"
      ]
     },
     "execution_count": 6,
     "metadata": {},
     "output_type": "execute_result"
    }
   ],
   "source": [
    "x=data.drop(columns='Survived',axis=1)\n",
    "y=data['Survived']\n",
    "x"
   ]
  },
  {
   "cell_type": "code",
   "execution_count": 7,
   "id": "ef145285",
   "metadata": {
    "execution": {
     "iopub.execute_input": "2022-06-27T23:28:17.066040Z",
     "iopub.status.busy": "2022-06-27T23:28:17.065329Z",
     "iopub.status.idle": "2022-06-27T23:28:17.071624Z",
     "shell.execute_reply": "2022-06-27T23:28:17.070775Z"
    },
    "papermill": {
     "duration": 0.020117,
     "end_time": "2022-06-27T23:28:17.074028",
     "exception": false,
     "start_time": "2022-06-27T23:28:17.053911",
     "status": "completed"
    },
    "tags": []
   },
   "outputs": [],
   "source": [
    "x_train,x_test,y_train,y_test=train_test_split(x,y,test_size=0.30,random_state=20)"
   ]
  },
  {
   "cell_type": "code",
   "execution_count": 8,
   "id": "1edd2c99",
   "metadata": {
    "execution": {
     "iopub.execute_input": "2022-06-27T23:28:17.096219Z",
     "iopub.status.busy": "2022-06-27T23:28:17.095498Z",
     "iopub.status.idle": "2022-06-27T23:28:17.100703Z",
     "shell.execute_reply": "2022-06-27T23:28:17.099922Z"
    },
    "papermill": {
     "duration": 0.019528,
     "end_time": "2022-06-27T23:28:17.103305",
     "exception": false,
     "start_time": "2022-06-27T23:28:17.083777",
     "status": "completed"
    },
    "tags": []
   },
   "outputs": [
    {
     "name": "stdout",
     "output_type": "stream",
     "text": [
      "(623, 7) (268, 7) (623,) (268,)\n"
     ]
    }
   ],
   "source": [
    "print(x_train.shape,x_test.shape,y_train.shape,y_test.shape)"
   ]
  },
  {
   "cell_type": "code",
   "execution_count": 9,
   "id": "9165a934",
   "metadata": {
    "execution": {
     "iopub.execute_input": "2022-06-27T23:28:17.124996Z",
     "iopub.status.busy": "2022-06-27T23:28:17.124292Z",
     "iopub.status.idle": "2022-06-27T23:28:17.129443Z",
     "shell.execute_reply": "2022-06-27T23:28:17.128377Z"
    },
    "papermill": {
     "duration": 0.018744,
     "end_time": "2022-06-27T23:28:17.131681",
     "exception": false,
     "start_time": "2022-06-27T23:28:17.112937",
     "status": "completed"
    },
    "tags": []
   },
   "outputs": [],
   "source": [
    "trf1=ColumnTransformer([\n",
    "    \n",
    "    ('impute_age',SimpleImputer,[2]),\n",
    "    ('impute_embarked',SimpleImputer(strategy='most_frequent'),[6])],\n",
    "    remainder='passthrough')\n",
    "    \n",
    "            "
   ]
  },
  {
   "cell_type": "code",
   "execution_count": 10,
   "id": "f2347f74",
   "metadata": {
    "execution": {
     "iopub.execute_input": "2022-06-27T23:28:17.153881Z",
     "iopub.status.busy": "2022-06-27T23:28:17.153101Z",
     "iopub.status.idle": "2022-06-27T23:28:17.157995Z",
     "shell.execute_reply": "2022-06-27T23:28:17.157082Z"
    },
    "papermill": {
     "duration": 0.018493,
     "end_time": "2022-06-27T23:28:17.160111",
     "exception": false,
     "start_time": "2022-06-27T23:28:17.141618",
     "status": "completed"
    },
    "tags": []
   },
   "outputs": [],
   "source": [
    "trf2=ColumnTransformer([\n",
    "    \n",
    "    ('ohe_sex_embarked',OneHotEncoder(sparse=False,handle_unknown='ignore')\n",
    "     ,[1,6])],\n",
    "    remainder='passthrough')"
   ]
  },
  {
   "cell_type": "code",
   "execution_count": 11,
   "id": "641f1c7b",
   "metadata": {
    "execution": {
     "iopub.execute_input": "2022-06-27T23:28:17.182151Z",
     "iopub.status.busy": "2022-06-27T23:28:17.181436Z",
     "iopub.status.idle": "2022-06-27T23:28:17.186687Z",
     "shell.execute_reply": "2022-06-27T23:28:17.185900Z"
    },
    "papermill": {
     "duration": 0.019153,
     "end_time": "2022-06-27T23:28:17.188905",
     "exception": false,
     "start_time": "2022-06-27T23:28:17.169752",
     "status": "completed"
    },
    "tags": []
   },
   "outputs": [],
   "source": [
    "trf3=ColumnTransformer([\n",
    "    \n",
    "    ('scale',MinMaxScaler(),slice(0,10))\n",
    "    \n",
    "    \n",
    "])"
   ]
  },
  {
   "cell_type": "code",
   "execution_count": 12,
   "id": "98adf988",
   "metadata": {
    "execution": {
     "iopub.execute_input": "2022-06-27T23:28:17.210492Z",
     "iopub.status.busy": "2022-06-27T23:28:17.209782Z",
     "iopub.status.idle": "2022-06-27T23:28:17.214379Z",
     "shell.execute_reply": "2022-06-27T23:28:17.213406Z"
    },
    "papermill": {
     "duration": 0.017681,
     "end_time": "2022-06-27T23:28:17.216368",
     "exception": false,
     "start_time": "2022-06-27T23:28:17.198687",
     "status": "completed"
    },
    "tags": []
   },
   "outputs": [],
   "source": [
    "trf4=SelectKBest(score_func=chi2,k=8)"
   ]
  },
  {
   "cell_type": "code",
   "execution_count": 13,
   "id": "9ba237ab",
   "metadata": {
    "execution": {
     "iopub.execute_input": "2022-06-27T23:28:17.238040Z",
     "iopub.status.busy": "2022-06-27T23:28:17.237634Z",
     "iopub.status.idle": "2022-06-27T23:28:17.242279Z",
     "shell.execute_reply": "2022-06-27T23:28:17.241095Z"
    },
    "papermill": {
     "duration": 0.018162,
     "end_time": "2022-06-27T23:28:17.244582",
     "exception": false,
     "start_time": "2022-06-27T23:28:17.226420",
     "status": "completed"
    },
    "tags": []
   },
   "outputs": [],
   "source": [
    "trf5=DecisionTreeClassifier()"
   ]
  },
  {
   "cell_type": "code",
   "execution_count": 14,
   "id": "4a9ad4ce",
   "metadata": {
    "execution": {
     "iopub.execute_input": "2022-06-27T23:28:17.266910Z",
     "iopub.status.busy": "2022-06-27T23:28:17.265697Z",
     "iopub.status.idle": "2022-06-27T23:28:17.272376Z",
     "shell.execute_reply": "2022-06-27T23:28:17.271249Z"
    },
    "papermill": {
     "duration": 0.020524,
     "end_time": "2022-06-27T23:28:17.274888",
     "exception": false,
     "start_time": "2022-06-27T23:28:17.254364",
     "status": "completed"
    },
    "tags": []
   },
   "outputs": [],
   "source": [
    "pipe=Pipeline([\n",
    "    ('trf1',trf1),\n",
    "    ('trf2',trf2),\n",
    "    ('trf3',trf3),\n",
    "    ('trf4',trf4),\n",
    "    (\"trf5\",trf5)\n",
    "    \n",
    "    \n",
    "])"
   ]
  },
  {
   "cell_type": "code",
   "execution_count": 15,
   "id": "3f416ad3",
   "metadata": {
    "execution": {
     "iopub.execute_input": "2022-06-27T23:28:17.297160Z",
     "iopub.status.busy": "2022-06-27T23:28:17.296392Z",
     "iopub.status.idle": "2022-06-27T23:28:17.313128Z",
     "shell.execute_reply": "2022-06-27T23:28:17.312092Z"
    },
    "papermill": {
     "duration": 0.030432,
     "end_time": "2022-06-27T23:28:17.315488",
     "exception": false,
     "start_time": "2022-06-27T23:28:17.285056",
     "status": "completed"
    },
    "tags": []
   },
   "outputs": [
    {
     "data": {
      "text/html": [
       "<div>\n",
       "<style scoped>\n",
       "    .dataframe tbody tr th:only-of-type {\n",
       "        vertical-align: middle;\n",
       "    }\n",
       "\n",
       "    .dataframe tbody tr th {\n",
       "        vertical-align: top;\n",
       "    }\n",
       "\n",
       "    .dataframe thead th {\n",
       "        text-align: right;\n",
       "    }\n",
       "</style>\n",
       "<table border=\"1\" class=\"dataframe\">\n",
       "  <thead>\n",
       "    <tr style=\"text-align: right;\">\n",
       "      <th></th>\n",
       "      <th>Pclass</th>\n",
       "      <th>Sex</th>\n",
       "      <th>Age</th>\n",
       "      <th>SibSp</th>\n",
       "      <th>Parch</th>\n",
       "      <th>Fare</th>\n",
       "      <th>Embarked</th>\n",
       "    </tr>\n",
       "  </thead>\n",
       "  <tbody>\n",
       "    <tr>\n",
       "      <th>773</th>\n",
       "      <td>3</td>\n",
       "      <td>male</td>\n",
       "      <td>NaN</td>\n",
       "      <td>0</td>\n",
       "      <td>0</td>\n",
       "      <td>7.2250</td>\n",
       "      <td>C</td>\n",
       "    </tr>\n",
       "    <tr>\n",
       "      <th>88</th>\n",
       "      <td>1</td>\n",
       "      <td>female</td>\n",
       "      <td>23.0</td>\n",
       "      <td>3</td>\n",
       "      <td>2</td>\n",
       "      <td>263.0000</td>\n",
       "      <td>S</td>\n",
       "    </tr>\n",
       "    <tr>\n",
       "      <th>136</th>\n",
       "      <td>1</td>\n",
       "      <td>female</td>\n",
       "      <td>19.0</td>\n",
       "      <td>0</td>\n",
       "      <td>2</td>\n",
       "      <td>26.2833</td>\n",
       "      <td>S</td>\n",
       "    </tr>\n",
       "    <tr>\n",
       "      <th>785</th>\n",
       "      <td>3</td>\n",
       "      <td>male</td>\n",
       "      <td>25.0</td>\n",
       "      <td>0</td>\n",
       "      <td>0</td>\n",
       "      <td>7.2500</td>\n",
       "      <td>S</td>\n",
       "    </tr>\n",
       "    <tr>\n",
       "      <th>599</th>\n",
       "      <td>1</td>\n",
       "      <td>male</td>\n",
       "      <td>49.0</td>\n",
       "      <td>1</td>\n",
       "      <td>0</td>\n",
       "      <td>56.9292</td>\n",
       "      <td>C</td>\n",
       "    </tr>\n",
       "  </tbody>\n",
       "</table>\n",
       "</div>"
      ],
      "text/plain": [
       "     Pclass     Sex   Age  SibSp  Parch      Fare Embarked\n",
       "773       3    male   NaN      0      0    7.2250        C\n",
       "88        1  female  23.0      3      2  263.0000        S\n",
       "136       1  female  19.0      0      2   26.2833        S\n",
       "785       3    male  25.0      0      0    7.2500        S\n",
       "599       1    male  49.0      1      0   56.9292        C"
      ]
     },
     "execution_count": 15,
     "metadata": {},
     "output_type": "execute_result"
    }
   ],
   "source": [
    "x_train.head()"
   ]
  },
  {
   "cell_type": "code",
   "execution_count": 16,
   "id": "3bb3f2d7",
   "metadata": {
    "execution": {
     "iopub.execute_input": "2022-06-27T23:28:17.344586Z",
     "iopub.status.busy": "2022-06-27T23:28:17.344006Z",
     "iopub.status.idle": "2022-06-27T23:28:17.350691Z",
     "shell.execute_reply": "2022-06-27T23:28:17.349892Z"
    },
    "papermill": {
     "duration": 0.024114,
     "end_time": "2022-06-27T23:28:17.352980",
     "exception": false,
     "start_time": "2022-06-27T23:28:17.328866",
     "status": "completed"
    },
    "tags": []
   },
   "outputs": [],
   "source": [
    "trf1 = ColumnTransformer([\n",
    "    ('impute_age',SimpleImputer(),[2]),\n",
    "    ('impute_embarked',SimpleImputer(strategy='most_frequent'),[6])\n",
    "],remainder='passthrough')\n",
    "# one hot encoding\n",
    "trf2 = ColumnTransformer([\n",
    "    ('ohe_sex_embarked',OneHotEncoder(sparse=False,handle_unknown='ignore'),[1,6])\n",
    "],remainder='passthrough')\n",
    "# Scaling\n",
    "trf3 = ColumnTransformer([\n",
    "    ('scale',MinMaxScaler(),slice(0,10))\n",
    "])\n",
    "# Feature selection\n",
    "trf4 = SelectKBest(score_func=chi2,k=8)\n",
    "# train the model\n"
   ]
  },
  {
   "cell_type": "code",
   "execution_count": 17,
   "id": "c741887c",
   "metadata": {
    "execution": {
     "iopub.execute_input": "2022-06-27T23:28:17.374561Z",
     "iopub.status.busy": "2022-06-27T23:28:17.374009Z",
     "iopub.status.idle": "2022-06-27T23:28:17.438749Z",
     "shell.execute_reply": "2022-06-27T23:28:17.437617Z"
    },
    "papermill": {
     "duration": 0.078479,
     "end_time": "2022-06-27T23:28:17.441277",
     "exception": false,
     "start_time": "2022-06-27T23:28:17.362798",
     "status": "completed"
    },
    "tags": []
   },
   "outputs": [
    {
     "data": {
      "text/plain": [
       "Pipeline(steps=[('columntransformer-1',\n",
       "                 ColumnTransformer(remainder='passthrough',\n",
       "                                   transformers=[('impute_age', SimpleImputer(),\n",
       "                                                  [2]),\n",
       "                                                 ('impute_embarked',\n",
       "                                                  SimpleImputer(strategy='most_frequent'),\n",
       "                                                  [6])])),\n",
       "                ('columntransformer-2',\n",
       "                 ColumnTransformer(remainder='passthrough',\n",
       "                                   transformers=[('ohe_sex_embarked',\n",
       "                                                  OneHotEncoder(handle_unknown='ignore',\n",
       "                                                                sparse=False),\n",
       "                                                  [1, 6])])),\n",
       "                ('columntransformer-3',\n",
       "                 ColumnTransformer(transformers=[('scale', MinMaxScaler(),\n",
       "                                                  slice(0, 10, None))])),\n",
       "                ('selectkbest',\n",
       "                 SelectKBest(k=8,\n",
       "                             score_func=<function chi2 at 0x7fa623561d40>)),\n",
       "                ('decisiontreeclassifier', DecisionTreeClassifier())])"
      ]
     },
     "execution_count": 17,
     "metadata": {},
     "output_type": "execute_result"
    }
   ],
   "source": [
    "trf5 = DecisionTreeClassifier()\n",
    "#Create Pipeline\n",
    "pipe = Pipeline([\n",
    "    ('trf1',trf1),\n",
    "    ('trf2',trf2),\n",
    "    ('trf3',trf3),\n",
    "    ('trf4',trf4),\n",
    "    ('trf5',trf5)\n",
    "])\n",
    "#Pipeline Vs make_pipeline\n",
    "#Pipeline requires naming of steps, make_pipeline does not.\n",
    "\n",
    "#(Same applies to ColumnTransformer vs make_column_transformer)\n",
    "\n",
    "# Alternate Syntax\n",
    "pipe = make_pipeline(trf1,trf2,trf3,trf4,trf5)\n",
    "# train\n",
    "pipe.fit(x_train,y_train)"
   ]
  },
  {
   "cell_type": "code",
   "execution_count": 18,
   "id": "673ff1db",
   "metadata": {
    "execution": {
     "iopub.execute_input": "2022-06-27T23:28:17.463078Z",
     "iopub.status.busy": "2022-06-27T23:28:17.462542Z",
     "iopub.status.idle": "2022-06-27T23:28:17.473436Z",
     "shell.execute_reply": "2022-06-27T23:28:17.472636Z"
    },
    "papermill": {
     "duration": 0.024395,
     "end_time": "2022-06-27T23:28:17.475643",
     "exception": false,
     "start_time": "2022-06-27T23:28:17.451248",
     "status": "completed"
    },
    "tags": []
   },
   "outputs": [
    {
     "data": {
      "text/plain": [
       "{'columntransformer-1': ColumnTransformer(remainder='passthrough',\n",
       "                   transformers=[('impute_age', SimpleImputer(), [2]),\n",
       "                                 ('impute_embarked',\n",
       "                                  SimpleImputer(strategy='most_frequent'),\n",
       "                                  [6])]),\n",
       " 'columntransformer-2': ColumnTransformer(remainder='passthrough',\n",
       "                   transformers=[('ohe_sex_embarked',\n",
       "                                  OneHotEncoder(handle_unknown='ignore',\n",
       "                                                sparse=False),\n",
       "                                  [1, 6])]),\n",
       " 'columntransformer-3': ColumnTransformer(transformers=[('scale', MinMaxScaler(), slice(0, 10, None))]),\n",
       " 'selectkbest': SelectKBest(k=8, score_func=<function chi2 at 0x7fa623561d40>),\n",
       " 'decisiontreeclassifier': DecisionTreeClassifier()}"
      ]
     },
     "execution_count": 18,
     "metadata": {},
     "output_type": "execute_result"
    }
   ],
   "source": [
    "pipe.named_steps"
   ]
  },
  {
   "cell_type": "code",
   "execution_count": 19,
   "id": "ac2524b4",
   "metadata": {
    "execution": {
     "iopub.execute_input": "2022-06-27T23:28:17.498276Z",
     "iopub.status.busy": "2022-06-27T23:28:17.497475Z",
     "iopub.status.idle": "2022-06-27T23:28:17.501864Z",
     "shell.execute_reply": "2022-06-27T23:28:17.500965Z"
    },
    "papermill": {
     "duration": 0.018283,
     "end_time": "2022-06-27T23:28:17.504104",
     "exception": false,
     "start_time": "2022-06-27T23:28:17.485821",
     "status": "completed"
    },
    "tags": []
   },
   "outputs": [],
   "source": [
    "from sklearn import set_config\n",
    "set_config(display='diagram')"
   ]
  },
  {
   "cell_type": "code",
   "execution_count": 20,
   "id": "a4057057",
   "metadata": {
    "execution": {
     "iopub.execute_input": "2022-06-27T23:28:17.527102Z",
     "iopub.status.busy": "2022-06-27T23:28:17.526405Z",
     "iopub.status.idle": "2022-06-27T23:28:17.536489Z",
     "shell.execute_reply": "2022-06-27T23:28:17.535588Z"
    },
    "papermill": {
     "duration": 0.024408,
     "end_time": "2022-06-27T23:28:17.538652",
     "exception": false,
     "start_time": "2022-06-27T23:28:17.514244",
     "status": "completed"
    },
    "tags": []
   },
   "outputs": [
    {
     "data": {
      "text/plain": [
       "{'columntransformer-1': ColumnTransformer(remainder='passthrough',\n",
       "                   transformers=[('impute_age', SimpleImputer(), [2]),\n",
       "                                 ('impute_embarked',\n",
       "                                  SimpleImputer(strategy='most_frequent'),\n",
       "                                  [6])]),\n",
       " 'columntransformer-2': ColumnTransformer(remainder='passthrough',\n",
       "                   transformers=[('ohe_sex_embarked',\n",
       "                                  OneHotEncoder(handle_unknown='ignore',\n",
       "                                                sparse=False),\n",
       "                                  [1, 6])]),\n",
       " 'columntransformer-3': ColumnTransformer(transformers=[('scale', MinMaxScaler(), slice(0, 10, None))]),\n",
       " 'selectkbest': SelectKBest(k=8, score_func=<function chi2 at 0x7fa623561d40>),\n",
       " 'decisiontreeclassifier': DecisionTreeClassifier()}"
      ]
     },
     "execution_count": 20,
     "metadata": {},
     "output_type": "execute_result"
    }
   ],
   "source": [
    "pipe.named_steps"
   ]
  },
  {
   "cell_type": "code",
   "execution_count": 21,
   "id": "0091fa1e",
   "metadata": {
    "execution": {
     "iopub.execute_input": "2022-06-27T23:28:17.561641Z",
     "iopub.status.busy": "2022-06-27T23:28:17.560941Z",
     "iopub.status.idle": "2022-06-27T23:28:17.630551Z",
     "shell.execute_reply": "2022-06-27T23:28:17.629306Z"
    },
    "papermill": {
     "duration": 0.084087,
     "end_time": "2022-06-27T23:28:17.633087",
     "exception": false,
     "start_time": "2022-06-27T23:28:17.549000",
     "status": "completed"
    },
    "tags": []
   },
   "outputs": [
    {
     "data": {
      "text/html": [
       "<style>#sk-6d1dabab-1edc-4a01-8a71-9f1b1c8c6630 {color: black;background-color: white;}#sk-6d1dabab-1edc-4a01-8a71-9f1b1c8c6630 pre{padding: 0;}#sk-6d1dabab-1edc-4a01-8a71-9f1b1c8c6630 div.sk-toggleable {background-color: white;}#sk-6d1dabab-1edc-4a01-8a71-9f1b1c8c6630 label.sk-toggleable__label {cursor: pointer;display: block;width: 100%;margin-bottom: 0;padding: 0.3em;box-sizing: border-box;text-align: center;}#sk-6d1dabab-1edc-4a01-8a71-9f1b1c8c6630 label.sk-toggleable__label-arrow:before {content: \"▸\";float: left;margin-right: 0.25em;color: #696969;}#sk-6d1dabab-1edc-4a01-8a71-9f1b1c8c6630 label.sk-toggleable__label-arrow:hover:before {color: black;}#sk-6d1dabab-1edc-4a01-8a71-9f1b1c8c6630 div.sk-estimator:hover label.sk-toggleable__label-arrow:before {color: black;}#sk-6d1dabab-1edc-4a01-8a71-9f1b1c8c6630 div.sk-toggleable__content {max-height: 0;max-width: 0;overflow: hidden;text-align: left;background-color: #f0f8ff;}#sk-6d1dabab-1edc-4a01-8a71-9f1b1c8c6630 div.sk-toggleable__content pre {margin: 0.2em;color: black;border-radius: 0.25em;background-color: #f0f8ff;}#sk-6d1dabab-1edc-4a01-8a71-9f1b1c8c6630 input.sk-toggleable__control:checked~div.sk-toggleable__content {max-height: 200px;max-width: 100%;overflow: auto;}#sk-6d1dabab-1edc-4a01-8a71-9f1b1c8c6630 input.sk-toggleable__control:checked~label.sk-toggleable__label-arrow:before {content: \"▾\";}#sk-6d1dabab-1edc-4a01-8a71-9f1b1c8c6630 div.sk-estimator input.sk-toggleable__control:checked~label.sk-toggleable__label {background-color: #d4ebff;}#sk-6d1dabab-1edc-4a01-8a71-9f1b1c8c6630 div.sk-label input.sk-toggleable__control:checked~label.sk-toggleable__label {background-color: #d4ebff;}#sk-6d1dabab-1edc-4a01-8a71-9f1b1c8c6630 input.sk-hidden--visually {border: 0;clip: rect(1px 1px 1px 1px);clip: rect(1px, 1px, 1px, 1px);height: 1px;margin: -1px;overflow: hidden;padding: 0;position: absolute;width: 1px;}#sk-6d1dabab-1edc-4a01-8a71-9f1b1c8c6630 div.sk-estimator {font-family: monospace;background-color: #f0f8ff;border: 1px dotted black;border-radius: 0.25em;box-sizing: border-box;margin-bottom: 0.5em;}#sk-6d1dabab-1edc-4a01-8a71-9f1b1c8c6630 div.sk-estimator:hover {background-color: #d4ebff;}#sk-6d1dabab-1edc-4a01-8a71-9f1b1c8c6630 div.sk-parallel-item::after {content: \"\";width: 100%;border-bottom: 1px solid gray;flex-grow: 1;}#sk-6d1dabab-1edc-4a01-8a71-9f1b1c8c6630 div.sk-label:hover label.sk-toggleable__label {background-color: #d4ebff;}#sk-6d1dabab-1edc-4a01-8a71-9f1b1c8c6630 div.sk-serial::before {content: \"\";position: absolute;border-left: 1px solid gray;box-sizing: border-box;top: 2em;bottom: 0;left: 50%;}#sk-6d1dabab-1edc-4a01-8a71-9f1b1c8c6630 div.sk-serial {display: flex;flex-direction: column;align-items: center;background-color: white;padding-right: 0.2em;padding-left: 0.2em;}#sk-6d1dabab-1edc-4a01-8a71-9f1b1c8c6630 div.sk-item {z-index: 1;}#sk-6d1dabab-1edc-4a01-8a71-9f1b1c8c6630 div.sk-parallel {display: flex;align-items: stretch;justify-content: center;background-color: white;}#sk-6d1dabab-1edc-4a01-8a71-9f1b1c8c6630 div.sk-parallel::before {content: \"\";position: absolute;border-left: 1px solid gray;box-sizing: border-box;top: 2em;bottom: 0;left: 50%;}#sk-6d1dabab-1edc-4a01-8a71-9f1b1c8c6630 div.sk-parallel-item {display: flex;flex-direction: column;position: relative;background-color: white;}#sk-6d1dabab-1edc-4a01-8a71-9f1b1c8c6630 div.sk-parallel-item:first-child::after {align-self: flex-end;width: 50%;}#sk-6d1dabab-1edc-4a01-8a71-9f1b1c8c6630 div.sk-parallel-item:last-child::after {align-self: flex-start;width: 50%;}#sk-6d1dabab-1edc-4a01-8a71-9f1b1c8c6630 div.sk-parallel-item:only-child::after {width: 0;}#sk-6d1dabab-1edc-4a01-8a71-9f1b1c8c6630 div.sk-dashed-wrapped {border: 1px dashed gray;margin: 0 0.4em 0.5em 0.4em;box-sizing: border-box;padding-bottom: 0.4em;background-color: white;position: relative;}#sk-6d1dabab-1edc-4a01-8a71-9f1b1c8c6630 div.sk-label label {font-family: monospace;font-weight: bold;background-color: white;display: inline-block;line-height: 1.2em;}#sk-6d1dabab-1edc-4a01-8a71-9f1b1c8c6630 div.sk-label-container {position: relative;z-index: 2;text-align: center;}#sk-6d1dabab-1edc-4a01-8a71-9f1b1c8c6630 div.sk-container {/* jupyter's `normalize.less` sets `[hidden] { display: none; }` but bootstrap.min.css set `[hidden] { display: none !important; }` so we also need the `!important` here to be able to override the default hidden behavior on the sphinx rendered scikit-learn.org. See: https://github.com/scikit-learn/scikit-learn/issues/21755 */display: inline-block !important;position: relative;}#sk-6d1dabab-1edc-4a01-8a71-9f1b1c8c6630 div.sk-text-repr-fallback {display: none;}</style><div id=\"sk-6d1dabab-1edc-4a01-8a71-9f1b1c8c6630\" class=\"sk-top-container\"><div class=\"sk-text-repr-fallback\"><pre>Pipeline(steps=[(&#x27;columntransformer-1&#x27;,\n",
       "                 ColumnTransformer(remainder=&#x27;passthrough&#x27;,\n",
       "                                   transformers=[(&#x27;impute_age&#x27;, SimpleImputer(),\n",
       "                                                  [2]),\n",
       "                                                 (&#x27;impute_embarked&#x27;,\n",
       "                                                  SimpleImputer(strategy=&#x27;most_frequent&#x27;),\n",
       "                                                  [6])])),\n",
       "                (&#x27;columntransformer-2&#x27;,\n",
       "                 ColumnTransformer(remainder=&#x27;passthrough&#x27;,\n",
       "                                   transformers=[(&#x27;ohe_sex_embarked&#x27;,\n",
       "                                                  OneHotEncoder(handle_unknown=&#x27;ignore&#x27;,\n",
       "                                                                sparse=False),\n",
       "                                                  [1, 6])])),\n",
       "                (&#x27;columntransformer-3&#x27;,\n",
       "                 ColumnTransformer(transformers=[(&#x27;scale&#x27;, MinMaxScaler(),\n",
       "                                                  slice(0, 10, None))])),\n",
       "                (&#x27;selectkbest&#x27;,\n",
       "                 SelectKBest(k=8,\n",
       "                             score_func=&lt;function chi2 at 0x7fa623561d40&gt;)),\n",
       "                (&#x27;decisiontreeclassifier&#x27;, DecisionTreeClassifier())])</pre><b>Please rerun this cell to show the HTML repr or trust the notebook.</b></div><div class=\"sk-container\" hidden><div class=\"sk-item sk-dashed-wrapped\"><div class=\"sk-label-container\"><div class=\"sk-label sk-toggleable\"><input class=\"sk-toggleable__control sk-hidden--visually\" id=\"a39d2a90-46ec-46a5-bdf7-e3bb653783f1\" type=\"checkbox\" ><label for=\"a39d2a90-46ec-46a5-bdf7-e3bb653783f1\" class=\"sk-toggleable__label sk-toggleable__label-arrow\">Pipeline</label><div class=\"sk-toggleable__content\"><pre>Pipeline(steps=[(&#x27;columntransformer-1&#x27;,\n",
       "                 ColumnTransformer(remainder=&#x27;passthrough&#x27;,\n",
       "                                   transformers=[(&#x27;impute_age&#x27;, SimpleImputer(),\n",
       "                                                  [2]),\n",
       "                                                 (&#x27;impute_embarked&#x27;,\n",
       "                                                  SimpleImputer(strategy=&#x27;most_frequent&#x27;),\n",
       "                                                  [6])])),\n",
       "                (&#x27;columntransformer-2&#x27;,\n",
       "                 ColumnTransformer(remainder=&#x27;passthrough&#x27;,\n",
       "                                   transformers=[(&#x27;ohe_sex_embarked&#x27;,\n",
       "                                                  OneHotEncoder(handle_unknown=&#x27;ignore&#x27;,\n",
       "                                                                sparse=False),\n",
       "                                                  [1, 6])])),\n",
       "                (&#x27;columntransformer-3&#x27;,\n",
       "                 ColumnTransformer(transformers=[(&#x27;scale&#x27;, MinMaxScaler(),\n",
       "                                                  slice(0, 10, None))])),\n",
       "                (&#x27;selectkbest&#x27;,\n",
       "                 SelectKBest(k=8,\n",
       "                             score_func=&lt;function chi2 at 0x7fa623561d40&gt;)),\n",
       "                (&#x27;decisiontreeclassifier&#x27;, DecisionTreeClassifier())])</pre></div></div></div><div class=\"sk-serial\"><div class=\"sk-item sk-dashed-wrapped\"><div class=\"sk-label-container\"><div class=\"sk-label sk-toggleable\"><input class=\"sk-toggleable__control sk-hidden--visually\" id=\"484f256f-9f3d-419d-b698-168a3951ff57\" type=\"checkbox\" ><label for=\"484f256f-9f3d-419d-b698-168a3951ff57\" class=\"sk-toggleable__label sk-toggleable__label-arrow\">columntransformer-1: ColumnTransformer</label><div class=\"sk-toggleable__content\"><pre>ColumnTransformer(remainder=&#x27;passthrough&#x27;,\n",
       "                  transformers=[(&#x27;impute_age&#x27;, SimpleImputer(), [2]),\n",
       "                                (&#x27;impute_embarked&#x27;,\n",
       "                                 SimpleImputer(strategy=&#x27;most_frequent&#x27;),\n",
       "                                 [6])])</pre></div></div></div><div class=\"sk-parallel\"><div class=\"sk-parallel-item\"><div class=\"sk-item\"><div class=\"sk-label-container\"><div class=\"sk-label sk-toggleable\"><input class=\"sk-toggleable__control sk-hidden--visually\" id=\"05c4cd23-6e64-422d-a002-a04dc74fcda3\" type=\"checkbox\" ><label for=\"05c4cd23-6e64-422d-a002-a04dc74fcda3\" class=\"sk-toggleable__label sk-toggleable__label-arrow\">impute_age</label><div class=\"sk-toggleable__content\"><pre>[2]</pre></div></div></div><div class=\"sk-serial\"><div class=\"sk-item\"><div class=\"sk-estimator sk-toggleable\"><input class=\"sk-toggleable__control sk-hidden--visually\" id=\"9478e564-2f5b-4cc3-8c60-20b923d6a6d9\" type=\"checkbox\" ><label for=\"9478e564-2f5b-4cc3-8c60-20b923d6a6d9\" class=\"sk-toggleable__label sk-toggleable__label-arrow\">SimpleImputer</label><div class=\"sk-toggleable__content\"><pre>SimpleImputer()</pre></div></div></div></div></div></div><div class=\"sk-parallel-item\"><div class=\"sk-item\"><div class=\"sk-label-container\"><div class=\"sk-label sk-toggleable\"><input class=\"sk-toggleable__control sk-hidden--visually\" id=\"6abe6410-b6d2-4e74-b8a4-382759afe41b\" type=\"checkbox\" ><label for=\"6abe6410-b6d2-4e74-b8a4-382759afe41b\" class=\"sk-toggleable__label sk-toggleable__label-arrow\">impute_embarked</label><div class=\"sk-toggleable__content\"><pre>[6]</pre></div></div></div><div class=\"sk-serial\"><div class=\"sk-item\"><div class=\"sk-estimator sk-toggleable\"><input class=\"sk-toggleable__control sk-hidden--visually\" id=\"07f0c2ef-8c73-49a0-9f3a-b79358fa0dd0\" type=\"checkbox\" ><label for=\"07f0c2ef-8c73-49a0-9f3a-b79358fa0dd0\" class=\"sk-toggleable__label sk-toggleable__label-arrow\">SimpleImputer</label><div class=\"sk-toggleable__content\"><pre>SimpleImputer(strategy=&#x27;most_frequent&#x27;)</pre></div></div></div></div></div></div><div class=\"sk-parallel-item\"><div class=\"sk-item\"><div class=\"sk-label-container\"><div class=\"sk-label sk-toggleable\"><input class=\"sk-toggleable__control sk-hidden--visually\" id=\"cecedd96-32af-4002-a67d-cca6606764f6\" type=\"checkbox\" ><label for=\"cecedd96-32af-4002-a67d-cca6606764f6\" class=\"sk-toggleable__label sk-toggleable__label-arrow\">remainder</label><div class=\"sk-toggleable__content\"><pre>[&#x27;Pclass&#x27;, &#x27;Sex&#x27;, &#x27;SibSp&#x27;, &#x27;Parch&#x27;, &#x27;Fare&#x27;]</pre></div></div></div><div class=\"sk-serial\"><div class=\"sk-item\"><div class=\"sk-estimator sk-toggleable\"><input class=\"sk-toggleable__control sk-hidden--visually\" id=\"36945bf5-53bd-4de6-b9c9-6fa7006aeba2\" type=\"checkbox\" ><label for=\"36945bf5-53bd-4de6-b9c9-6fa7006aeba2\" class=\"sk-toggleable__label sk-toggleable__label-arrow\">passthrough</label><div class=\"sk-toggleable__content\"><pre>passthrough</pre></div></div></div></div></div></div></div></div><div class=\"sk-item sk-dashed-wrapped\"><div class=\"sk-label-container\"><div class=\"sk-label sk-toggleable\"><input class=\"sk-toggleable__control sk-hidden--visually\" id=\"9574fa83-02df-40ec-9b80-0beed7c89a53\" type=\"checkbox\" ><label for=\"9574fa83-02df-40ec-9b80-0beed7c89a53\" class=\"sk-toggleable__label sk-toggleable__label-arrow\">columntransformer-2: ColumnTransformer</label><div class=\"sk-toggleable__content\"><pre>ColumnTransformer(remainder=&#x27;passthrough&#x27;,\n",
       "                  transformers=[(&#x27;ohe_sex_embarked&#x27;,\n",
       "                                 OneHotEncoder(handle_unknown=&#x27;ignore&#x27;,\n",
       "                                               sparse=False),\n",
       "                                 [1, 6])])</pre></div></div></div><div class=\"sk-parallel\"><div class=\"sk-parallel-item\"><div class=\"sk-item\"><div class=\"sk-label-container\"><div class=\"sk-label sk-toggleable\"><input class=\"sk-toggleable__control sk-hidden--visually\" id=\"c46c98b4-bb8c-4ded-8b24-5d06580629d8\" type=\"checkbox\" ><label for=\"c46c98b4-bb8c-4ded-8b24-5d06580629d8\" class=\"sk-toggleable__label sk-toggleable__label-arrow\">ohe_sex_embarked</label><div class=\"sk-toggleable__content\"><pre>[1, 6]</pre></div></div></div><div class=\"sk-serial\"><div class=\"sk-item\"><div class=\"sk-estimator sk-toggleable\"><input class=\"sk-toggleable__control sk-hidden--visually\" id=\"a6512bf3-cd1d-473d-bbda-94711231b133\" type=\"checkbox\" ><label for=\"a6512bf3-cd1d-473d-bbda-94711231b133\" class=\"sk-toggleable__label sk-toggleable__label-arrow\">OneHotEncoder</label><div class=\"sk-toggleable__content\"><pre>OneHotEncoder(handle_unknown=&#x27;ignore&#x27;, sparse=False)</pre></div></div></div></div></div></div><div class=\"sk-parallel-item\"><div class=\"sk-item\"><div class=\"sk-label-container\"><div class=\"sk-label sk-toggleable\"><input class=\"sk-toggleable__control sk-hidden--visually\" id=\"e0c6ff29-faa4-4d75-9086-e79261eb72af\" type=\"checkbox\" ><label for=\"e0c6ff29-faa4-4d75-9086-e79261eb72af\" class=\"sk-toggleable__label sk-toggleable__label-arrow\">remainder</label><div class=\"sk-toggleable__content\"><pre>[0, 2, 3, 4, 5]</pre></div></div></div><div class=\"sk-serial\"><div class=\"sk-item\"><div class=\"sk-estimator sk-toggleable\"><input class=\"sk-toggleable__control sk-hidden--visually\" id=\"1de396ea-df73-4f76-8200-16d04205d4fa\" type=\"checkbox\" ><label for=\"1de396ea-df73-4f76-8200-16d04205d4fa\" class=\"sk-toggleable__label sk-toggleable__label-arrow\">passthrough</label><div class=\"sk-toggleable__content\"><pre>passthrough</pre></div></div></div></div></div></div></div></div><div class=\"sk-item sk-dashed-wrapped\"><div class=\"sk-label-container\"><div class=\"sk-label sk-toggleable\"><input class=\"sk-toggleable__control sk-hidden--visually\" id=\"077212b8-645f-4dc5-9791-4a825c11cc4f\" type=\"checkbox\" ><label for=\"077212b8-645f-4dc5-9791-4a825c11cc4f\" class=\"sk-toggleable__label sk-toggleable__label-arrow\">columntransformer-3: ColumnTransformer</label><div class=\"sk-toggleable__content\"><pre>ColumnTransformer(transformers=[(&#x27;scale&#x27;, MinMaxScaler(), slice(0, 10, None))])</pre></div></div></div><div class=\"sk-parallel\"><div class=\"sk-parallel-item\"><div class=\"sk-item\"><div class=\"sk-label-container\"><div class=\"sk-label sk-toggleable\"><input class=\"sk-toggleable__control sk-hidden--visually\" id=\"9c7a2041-fc0e-4655-90cb-8ff579da0417\" type=\"checkbox\" ><label for=\"9c7a2041-fc0e-4655-90cb-8ff579da0417\" class=\"sk-toggleable__label sk-toggleable__label-arrow\">scale</label><div class=\"sk-toggleable__content\"><pre>slice(0, 10, None)</pre></div></div></div><div class=\"sk-serial\"><div class=\"sk-item\"><div class=\"sk-estimator sk-toggleable\"><input class=\"sk-toggleable__control sk-hidden--visually\" id=\"3df50d6d-f96a-46fe-b2c5-817d242a942b\" type=\"checkbox\" ><label for=\"3df50d6d-f96a-46fe-b2c5-817d242a942b\" class=\"sk-toggleable__label sk-toggleable__label-arrow\">MinMaxScaler</label><div class=\"sk-toggleable__content\"><pre>MinMaxScaler()</pre></div></div></div></div></div></div></div></div><div class=\"sk-item\"><div class=\"sk-estimator sk-toggleable\"><input class=\"sk-toggleable__control sk-hidden--visually\" id=\"63a10e12-9edd-4bd6-bf92-6d32eb017413\" type=\"checkbox\" ><label for=\"63a10e12-9edd-4bd6-bf92-6d32eb017413\" class=\"sk-toggleable__label sk-toggleable__label-arrow\">SelectKBest</label><div class=\"sk-toggleable__content\"><pre>SelectKBest(k=8, score_func=&lt;function chi2 at 0x7fa623561d40&gt;)</pre></div></div></div><div class=\"sk-item\"><div class=\"sk-estimator sk-toggleable\"><input class=\"sk-toggleable__control sk-hidden--visually\" id=\"9c1aaca0-53ca-44fd-a144-cd513767683f\" type=\"checkbox\" ><label for=\"9c1aaca0-53ca-44fd-a144-cd513767683f\" class=\"sk-toggleable__label sk-toggleable__label-arrow\">DecisionTreeClassifier</label><div class=\"sk-toggleable__content\"><pre>DecisionTreeClassifier()</pre></div></div></div></div></div></div></div>"
      ],
      "text/plain": [
       "Pipeline(steps=[('columntransformer-1',\n",
       "                 ColumnTransformer(remainder='passthrough',\n",
       "                                   transformers=[('impute_age', SimpleImputer(),\n",
       "                                                  [2]),\n",
       "                                                 ('impute_embarked',\n",
       "                                                  SimpleImputer(strategy='most_frequent'),\n",
       "                                                  [6])])),\n",
       "                ('columntransformer-2',\n",
       "                 ColumnTransformer(remainder='passthrough',\n",
       "                                   transformers=[('ohe_sex_embarked',\n",
       "                                                  OneHotEncoder(handle_unknown='ignore',\n",
       "                                                                sparse=False),\n",
       "                                                  [1, 6])])),\n",
       "                ('columntransformer-3',\n",
       "                 ColumnTransformer(transformers=[('scale', MinMaxScaler(),\n",
       "                                                  slice(0, 10, None))])),\n",
       "                ('selectkbest',\n",
       "                 SelectKBest(k=8,\n",
       "                             score_func=<function chi2 at 0x7fa623561d40>)),\n",
       "                ('decisiontreeclassifier', DecisionTreeClassifier())])"
      ]
     },
     "execution_count": 21,
     "metadata": {},
     "output_type": "execute_result"
    }
   ],
   "source": [
    "pipe.fit(x_train,y_train)"
   ]
  },
  {
   "cell_type": "code",
   "execution_count": 22,
   "id": "9c7b2d85",
   "metadata": {
    "execution": {
     "iopub.execute_input": "2022-06-27T23:28:17.657385Z",
     "iopub.status.busy": "2022-06-27T23:28:17.656762Z",
     "iopub.status.idle": "2022-06-27T23:28:17.670345Z",
     "shell.execute_reply": "2022-06-27T23:28:17.669204Z"
    },
    "papermill": {
     "duration": 0.028711,
     "end_time": "2022-06-27T23:28:17.672946",
     "exception": false,
     "start_time": "2022-06-27T23:28:17.644235",
     "status": "completed"
    },
    "tags": []
   },
   "outputs": [
    {
     "data": {
      "text/html": [
       "<div>\n",
       "<style scoped>\n",
       "    .dataframe tbody tr th:only-of-type {\n",
       "        vertical-align: middle;\n",
       "    }\n",
       "\n",
       "    .dataframe tbody tr th {\n",
       "        vertical-align: top;\n",
       "    }\n",
       "\n",
       "    .dataframe thead th {\n",
       "        text-align: right;\n",
       "    }\n",
       "</style>\n",
       "<table border=\"1\" class=\"dataframe\">\n",
       "  <thead>\n",
       "    <tr style=\"text-align: right;\">\n",
       "      <th></th>\n",
       "      <th>Pclass</th>\n",
       "      <th>Sex</th>\n",
       "      <th>Age</th>\n",
       "      <th>SibSp</th>\n",
       "      <th>Parch</th>\n",
       "      <th>Fare</th>\n",
       "      <th>Embarked</th>\n",
       "    </tr>\n",
       "  </thead>\n",
       "  <tbody>\n",
       "    <tr>\n",
       "      <th>773</th>\n",
       "      <td>3</td>\n",
       "      <td>male</td>\n",
       "      <td>NaN</td>\n",
       "      <td>0</td>\n",
       "      <td>0</td>\n",
       "      <td>7.2250</td>\n",
       "      <td>C</td>\n",
       "    </tr>\n",
       "    <tr>\n",
       "      <th>88</th>\n",
       "      <td>1</td>\n",
       "      <td>female</td>\n",
       "      <td>23.0</td>\n",
       "      <td>3</td>\n",
       "      <td>2</td>\n",
       "      <td>263.0000</td>\n",
       "      <td>S</td>\n",
       "    </tr>\n",
       "    <tr>\n",
       "      <th>136</th>\n",
       "      <td>1</td>\n",
       "      <td>female</td>\n",
       "      <td>19.0</td>\n",
       "      <td>0</td>\n",
       "      <td>2</td>\n",
       "      <td>26.2833</td>\n",
       "      <td>S</td>\n",
       "    </tr>\n",
       "    <tr>\n",
       "      <th>785</th>\n",
       "      <td>3</td>\n",
       "      <td>male</td>\n",
       "      <td>25.0</td>\n",
       "      <td>0</td>\n",
       "      <td>0</td>\n",
       "      <td>7.2500</td>\n",
       "      <td>S</td>\n",
       "    </tr>\n",
       "    <tr>\n",
       "      <th>599</th>\n",
       "      <td>1</td>\n",
       "      <td>male</td>\n",
       "      <td>49.0</td>\n",
       "      <td>1</td>\n",
       "      <td>0</td>\n",
       "      <td>56.9292</td>\n",
       "      <td>C</td>\n",
       "    </tr>\n",
       "  </tbody>\n",
       "</table>\n",
       "</div>"
      ],
      "text/plain": [
       "     Pclass     Sex   Age  SibSp  Parch      Fare Embarked\n",
       "773       3    male   NaN      0      0    7.2250        C\n",
       "88        1  female  23.0      3      2  263.0000        S\n",
       "136       1  female  19.0      0      2   26.2833        S\n",
       "785       3    male  25.0      0      0    7.2500        S\n",
       "599       1    male  49.0      1      0   56.9292        C"
      ]
     },
     "execution_count": 22,
     "metadata": {},
     "output_type": "execute_result"
    }
   ],
   "source": [
    "x_train.head()"
   ]
  },
  {
   "cell_type": "code",
   "execution_count": 23,
   "id": "12b56c1f",
   "metadata": {
    "execution": {
     "iopub.execute_input": "2022-06-27T23:28:17.697555Z",
     "iopub.status.busy": "2022-06-27T23:28:17.696921Z",
     "iopub.status.idle": "2022-06-27T23:28:17.717151Z",
     "shell.execute_reply": "2022-06-27T23:28:17.715922Z"
    },
    "papermill": {
     "duration": 0.035908,
     "end_time": "2022-06-27T23:28:17.719935",
     "exception": false,
     "start_time": "2022-06-27T23:28:17.684027",
     "status": "completed"
    },
    "tags": []
   },
   "outputs": [],
   "source": [
    "y_pred=pipe.predict(x_test)"
   ]
  },
  {
   "cell_type": "code",
   "execution_count": 24,
   "id": "ded4b57a",
   "metadata": {
    "execution": {
     "iopub.execute_input": "2022-06-27T23:28:17.744015Z",
     "iopub.status.busy": "2022-06-27T23:28:17.743619Z",
     "iopub.status.idle": "2022-06-27T23:28:17.749859Z",
     "shell.execute_reply": "2022-06-27T23:28:17.749102Z"
    },
    "papermill": {
     "duration": 0.020943,
     "end_time": "2022-06-27T23:28:17.752243",
     "exception": false,
     "start_time": "2022-06-27T23:28:17.731300",
     "status": "completed"
    },
    "tags": []
   },
   "outputs": [
    {
     "data": {
      "text/plain": [
       "array([0, 0, 0, 0, 0, 0, 1, 0, 0, 0, 0, 0, 1, 0, 0, 0, 0, 0, 0, 0, 0, 0,\n",
       "       0, 0, 0, 0, 0, 0, 0, 0, 1, 0, 0, 0, 1, 0, 0, 0, 0, 0, 0, 0, 0, 0,\n",
       "       0, 0, 0, 0, 1, 0, 0, 0, 1, 1, 1, 1, 0, 0, 1, 0, 0, 0, 0, 0, 0, 1,\n",
       "       0, 1, 0, 0, 1, 0, 0, 0, 0, 1, 0, 0, 0, 0, 0, 0, 0, 0, 0, 0, 0, 0,\n",
       "       0, 0, 0, 0, 0, 0, 0, 0, 0, 0, 0, 0, 0, 1, 1, 1, 0, 0, 0, 0, 1, 0,\n",
       "       1, 0, 0, 0, 0, 0, 1, 1, 1, 0, 0, 0, 1, 0, 0, 1, 0, 0, 0, 0, 0, 0,\n",
       "       0, 0, 0, 0, 0, 1, 0, 1, 1, 0, 0, 0, 0, 0, 0, 1, 0, 0, 1, 0, 0, 0,\n",
       "       1, 1, 0, 0, 0, 1, 0, 1, 1, 1, 0, 0, 0, 0, 0, 0, 0, 1, 0, 0, 0, 0,\n",
       "       0, 0, 1, 0, 0, 0, 0, 0, 1, 0, 0, 1, 0, 0, 1, 0, 0, 0, 1, 0, 0, 0,\n",
       "       0, 0, 1, 0, 0, 0, 0, 0, 0, 0, 0, 0, 1, 1, 1, 0, 0, 0, 1, 0, 0, 0,\n",
       "       0, 0, 0, 1, 0, 1, 1, 0, 0, 0, 0, 1, 0, 0, 0, 0, 0, 0, 1, 0, 0, 0,\n",
       "       0, 1, 0, 0, 0, 0, 0, 0, 0, 0, 0, 0, 0, 0, 0, 0, 0, 0, 0, 0, 0, 0,\n",
       "       0, 0, 0, 0])"
      ]
     },
     "execution_count": 24,
     "metadata": {},
     "output_type": "execute_result"
    }
   ],
   "source": [
    "y_pred"
   ]
  },
  {
   "cell_type": "code",
   "execution_count": 25,
   "id": "841c3010",
   "metadata": {
    "execution": {
     "iopub.execute_input": "2022-06-27T23:28:17.776437Z",
     "iopub.status.busy": "2022-06-27T23:28:17.775575Z",
     "iopub.status.idle": "2022-06-27T23:28:17.783638Z",
     "shell.execute_reply": "2022-06-27T23:28:17.782502Z"
    },
    "papermill": {
     "duration": 0.022587,
     "end_time": "2022-06-27T23:28:17.785920",
     "exception": false,
     "start_time": "2022-06-27T23:28:17.763333",
     "status": "completed"
    },
    "tags": []
   },
   "outputs": [
    {
     "data": {
      "text/plain": [
       "0.6567164179104478"
      ]
     },
     "execution_count": 25,
     "metadata": {},
     "output_type": "execute_result"
    }
   ],
   "source": [
    "from sklearn.metrics import accuracy_score\n",
    "accuracy_score(y_test,y_pred)"
   ]
  },
  {
   "cell_type": "code",
   "execution_count": 26,
   "id": "48d36165",
   "metadata": {
    "execution": {
     "iopub.execute_input": "2022-06-27T23:28:17.810697Z",
     "iopub.status.busy": "2022-06-27T23:28:17.809988Z",
     "iopub.status.idle": "2022-06-27T23:28:17.995645Z",
     "shell.execute_reply": "2022-06-27T23:28:17.994531Z"
    },
    "papermill": {
     "duration": 0.200977,
     "end_time": "2022-06-27T23:28:17.998069",
     "exception": false,
     "start_time": "2022-06-27T23:28:17.797092",
     "status": "completed"
    },
    "tags": []
   },
   "outputs": [
    {
     "data": {
      "text/plain": [
       "0.6195096774193549"
      ]
     },
     "execution_count": 26,
     "metadata": {},
     "output_type": "execute_result"
    }
   ],
   "source": [
    "#Cross validation\n",
    "from sklearn.model_selection import cross_val_score \n",
    "cross_val_score(pipe,x_train,y_train,cv=5,scoring='accuracy').mean()"
   ]
  },
  {
   "cell_type": "code",
   "execution_count": 27,
   "id": "790a990f",
   "metadata": {
    "execution": {
     "iopub.execute_input": "2022-06-27T23:28:18.023471Z",
     "iopub.status.busy": "2022-06-27T23:28:18.022758Z",
     "iopub.status.idle": "2022-06-27T23:28:18.027538Z",
     "shell.execute_reply": "2022-06-27T23:28:18.026753Z"
    },
    "papermill": {
     "duration": 0.020452,
     "end_time": "2022-06-27T23:28:18.029678",
     "exception": false,
     "start_time": "2022-06-27T23:28:18.009226",
     "status": "completed"
    },
    "tags": []
   },
   "outputs": [],
   "source": [
    "import pickle"
   ]
  },
  {
   "cell_type": "code",
   "execution_count": 28,
   "id": "3200fdce",
   "metadata": {
    "execution": {
     "iopub.execute_input": "2022-06-27T23:28:18.055457Z",
     "iopub.status.busy": "2022-06-27T23:28:18.054473Z",
     "iopub.status.idle": "2022-06-27T23:28:18.061061Z",
     "shell.execute_reply": "2022-06-27T23:28:18.060205Z"
    },
    "papermill": {
     "duration": 0.021918,
     "end_time": "2022-06-27T23:28:18.063369",
     "exception": false,
     "start_time": "2022-06-27T23:28:18.041451",
     "status": "completed"
    },
    "tags": []
   },
   "outputs": [],
   "source": [
    "pipe=pickle.dump(pipe,open('pipe.pkl','wb'))"
   ]
  },
  {
   "cell_type": "code",
   "execution_count": 29,
   "id": "7dd94bb0",
   "metadata": {
    "execution": {
     "iopub.execute_input": "2022-06-27T23:28:18.088037Z",
     "iopub.status.busy": "2022-06-27T23:28:18.087269Z",
     "iopub.status.idle": "2022-06-27T23:28:18.094063Z",
     "shell.execute_reply": "2022-06-27T23:28:18.093220Z"
    },
    "papermill": {
     "duration": 0.021986,
     "end_time": "2022-06-27T23:28:18.096563",
     "exception": false,
     "start_time": "2022-06-27T23:28:18.074577",
     "status": "completed"
    },
    "tags": []
   },
   "outputs": [],
   "source": [
    "pipe=pickle.load(open('pipe.pkl','rb'))\n",
    "test_input = np.array([2, 'male', 31.0, 0, 0, 10.5, 'S'],dtype=object).reshape(1,7)"
   ]
  },
  {
   "cell_type": "code",
   "execution_count": 30,
   "id": "89376c2f",
   "metadata": {
    "execution": {
     "iopub.execute_input": "2022-06-27T23:28:18.120826Z",
     "iopub.status.busy": "2022-06-27T23:28:18.120444Z",
     "iopub.status.idle": "2022-06-27T23:28:18.131090Z",
     "shell.execute_reply": "2022-06-27T23:28:18.129934Z"
    },
    "papermill": {
     "duration": 0.025309,
     "end_time": "2022-06-27T23:28:18.133202",
     "exception": false,
     "start_time": "2022-06-27T23:28:18.107893",
     "status": "completed"
    },
    "tags": []
   },
   "outputs": [
    {
     "data": {
      "text/plain": [
       "array([0])"
      ]
     },
     "execution_count": 30,
     "metadata": {},
     "output_type": "execute_result"
    }
   ],
   "source": [
    "import warnings\n",
    "warnings.filterwarnings('ignore')\n",
    "pipe.predict(test_input)"
   ]
  },
  {
   "cell_type": "code",
   "execution_count": null,
   "id": "e85fdbee",
   "metadata": {
    "papermill": {
     "duration": 0.01107,
     "end_time": "2022-06-27T23:28:18.155680",
     "exception": false,
     "start_time": "2022-06-27T23:28:18.144610",
     "status": "completed"
    },
    "tags": []
   },
   "outputs": [],
   "source": []
  }
 ],
 "metadata": {
  "kernelspec": {
   "display_name": "Python 3",
   "language": "python",
   "name": "python3"
  },
  "language_info": {
   "codemirror_mode": {
    "name": "ipython",
    "version": 3
   },
   "file_extension": ".py",
   "mimetype": "text/x-python",
   "name": "python",
   "nbconvert_exporter": "python",
   "pygments_lexer": "ipython3",
   "version": "3.7.12"
  },
  "papermill": {
   "default_parameters": {},
   "duration": 13.848668,
   "end_time": "2022-06-27T23:28:18.888370",
   "environment_variables": {},
   "exception": null,
   "input_path": "__notebook__.ipynb",
   "output_path": "__notebook__.ipynb",
   "parameters": {},
   "start_time": "2022-06-27T23:28:05.039702",
   "version": "2.3.4"
  }
 },
 "nbformat": 4,
 "nbformat_minor": 5
}
