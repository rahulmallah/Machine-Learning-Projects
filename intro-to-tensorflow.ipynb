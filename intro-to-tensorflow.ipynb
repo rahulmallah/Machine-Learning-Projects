{
 "cells": [
  {
   "cell_type": "code",
   "execution_count": 1,
   "id": "407093a1",
   "metadata": {
    "execution": {
     "iopub.execute_input": "2022-07-06T17:36:30.154624Z",
     "iopub.status.busy": "2022-07-06T17:36:30.153961Z",
     "iopub.status.idle": "2022-07-06T17:36:39.160670Z",
     "shell.execute_reply": "2022-07-06T17:36:39.159857Z"
    },
    "papermill": {
     "duration": 9.022203,
     "end_time": "2022-07-06T17:36:39.163311",
     "exception": false,
     "start_time": "2022-07-06T17:36:30.141108",
     "status": "completed"
    },
    "tags": []
   },
   "outputs": [
    {
     "data": {
      "text/plain": [
       "'2.6.4'"
      ]
     },
     "execution_count": 1,
     "metadata": {},
     "output_type": "execute_result"
    }
   ],
   "source": [
    "#Importing the tensorflow\n",
    "import tensorflow as tf\n",
    "tf.__version__"
   ]
  },
  {
   "cell_type": "code",
   "execution_count": 2,
   "id": "1cb954b9",
   "metadata": {
    "execution": {
     "iopub.execute_input": "2022-07-06T17:36:39.186307Z",
     "iopub.status.busy": "2022-07-06T17:36:39.185343Z",
     "iopub.status.idle": "2022-07-06T17:36:39.237982Z",
     "shell.execute_reply": "2022-07-06T17:36:39.236719Z"
    },
    "papermill": {
     "duration": 0.066352,
     "end_time": "2022-07-06T17:36:39.240086",
     "exception": false,
     "start_time": "2022-07-06T17:36:39.173734",
     "status": "completed"
    },
    "tags": []
   },
   "outputs": [
    {
     "name": "stdout",
     "output_type": "stream",
     "text": [
      "tf.Tensor([2], shape=(1,), dtype=int32)\n",
      "tf.Tensor(\n",
      "[[1 2 3 4]\n",
      " [1 2 3 8]], shape=(2, 4), dtype=int32)\n"
     ]
    },
    {
     "name": "stderr",
     "output_type": "stream",
     "text": [
      "2022-07-06 17:36:39.211193: I tensorflow/core/common_runtime/process_util.cc:146] Creating new thread pool with default inter op setting: 2. Tune using inter_op_parallelism_threads for best performance.\n"
     ]
    }
   ],
   "source": [
    "#Defining constants\n",
    "x=tf.constant([2])\n",
    "print(x)\n",
    "y=tf.constant([[1,2,3,4],[1,2,3,8]])\n",
    "print(y)"
   ]
  },
  {
   "cell_type": "code",
   "execution_count": 3,
   "id": "fb60580d",
   "metadata": {
    "execution": {
     "iopub.execute_input": "2022-07-06T17:36:39.263425Z",
     "iopub.status.busy": "2022-07-06T17:36:39.262713Z",
     "iopub.status.idle": "2022-07-06T17:36:39.277838Z",
     "shell.execute_reply": "2022-07-06T17:36:39.276299Z"
    },
    "papermill": {
     "duration": 0.029442,
     "end_time": "2022-07-06T17:36:39.280232",
     "exception": false,
     "start_time": "2022-07-06T17:36:39.250790",
     "status": "completed"
    },
    "tags": []
   },
   "outputs": [
    {
     "name": "stdout",
     "output_type": "stream",
     "text": [
      "tf.Tensor(\n",
      "[[1 1]\n",
      " [1 1]], shape=(2, 2), dtype=int32)\n"
     ]
    }
   ],
   "source": [
    "g=tf.ones((2,2),dtype=tf.int32)\n",
    "print(g)"
   ]
  },
  {
   "cell_type": "code",
   "execution_count": 4,
   "id": "99bde9cb",
   "metadata": {
    "execution": {
     "iopub.execute_input": "2022-07-06T17:36:39.302983Z",
     "iopub.status.busy": "2022-07-06T17:36:39.302576Z",
     "iopub.status.idle": "2022-07-06T17:36:39.311331Z",
     "shell.execute_reply": "2022-07-06T17:36:39.309771Z"
    },
    "papermill": {
     "duration": 0.022982,
     "end_time": "2022-07-06T17:36:39.313747",
     "exception": false,
     "start_time": "2022-07-06T17:36:39.290765",
     "status": "completed"
    },
    "tags": []
   },
   "outputs": [
    {
     "name": "stdout",
     "output_type": "stream",
     "text": [
      "tf.Tensor(\n",
      "[[0. 0. 0. 0. 0. 0. 0. 0. 0.]\n",
      " [0. 0. 0. 0. 0. 0. 0. 0. 0.]\n",
      " [0. 0. 0. 0. 0. 0. 0. 0. 0.]\n",
      " [0. 0. 0. 0. 0. 0. 0. 0. 0.]\n",
      " [0. 0. 0. 0. 0. 0. 0. 0. 0.]\n",
      " [0. 0. 0. 0. 0. 0. 0. 0. 0.]\n",
      " [0. 0. 0. 0. 0. 0. 0. 0. 0.]\n",
      " [0. 0. 0. 0. 0. 0. 0. 0. 0.]\n",
      " [0. 0. 0. 0. 0. 0. 0. 0. 0.]], shape=(9, 9), dtype=float32)\n"
     ]
    }
   ],
   "source": [
    "a=tf.zeros((9,9))\n",
    "print(a)"
   ]
  },
  {
   "cell_type": "code",
   "execution_count": 5,
   "id": "5891a5f7",
   "metadata": {
    "execution": {
     "iopub.execute_input": "2022-07-06T17:36:39.337394Z",
     "iopub.status.busy": "2022-07-06T17:36:39.337014Z",
     "iopub.status.idle": "2022-07-06T17:36:39.352774Z",
     "shell.execute_reply": "2022-07-06T17:36:39.351241Z"
    },
    "papermill": {
     "duration": 0.030662,
     "end_time": "2022-07-06T17:36:39.355192",
     "exception": false,
     "start_time": "2022-07-06T17:36:39.324530",
     "status": "completed"
    },
    "tags": []
   },
   "outputs": [
    {
     "name": "stdout",
     "output_type": "stream",
     "text": [
      "tf.Tensor(\n",
      "[[1. 0. 0. 0.]\n",
      " [0. 1. 0. 0.]\n",
      " [0. 0. 1. 0.]\n",
      " [0. 0. 0. 1.]], shape=(4, 4), dtype=float32)\n"
     ]
    }
   ],
   "source": [
    "x=tf.eye(4)\n",
    "print(x)"
   ]
  },
  {
   "cell_type": "code",
   "execution_count": 6,
   "id": "3caab7de",
   "metadata": {
    "execution": {
     "iopub.execute_input": "2022-07-06T17:36:39.378659Z",
     "iopub.status.busy": "2022-07-06T17:36:39.377970Z",
     "iopub.status.idle": "2022-07-06T17:36:39.405780Z",
     "shell.execute_reply": "2022-07-06T17:36:39.404243Z"
    },
    "papermill": {
     "duration": 0.043419,
     "end_time": "2022-07-06T17:36:39.409317",
     "exception": false,
     "start_time": "2022-07-06T17:36:39.365898",
     "status": "completed"
    },
    "tags": []
   },
   "outputs": [
    {
     "name": "stdout",
     "output_type": "stream",
     "text": [
      "tf.Tensor(\n",
      "[[794.5786  799.09784 799.4703  827.19257]\n",
      " [818.58435 803.37524 802.58167 804.56464]\n",
      " [779.3455  793.6819  802.8699  797.24384]\n",
      " [806.2651  780.1997  796.3649  799.68085]], shape=(4, 4), dtype=float32)\n"
     ]
    }
   ],
   "source": [
    "#Finding random matrix with mean=0, and std=1\n",
    "x=tf.random.normal((4,4),mean=800,stddev=10)\n",
    "print(x)"
   ]
  },
  {
   "cell_type": "code",
   "execution_count": 7,
   "id": "affa1fb7",
   "metadata": {
    "execution": {
     "iopub.execute_input": "2022-07-06T17:36:39.433800Z",
     "iopub.status.busy": "2022-07-06T17:36:39.433170Z",
     "iopub.status.idle": "2022-07-06T17:36:39.444006Z",
     "shell.execute_reply": "2022-07-06T17:36:39.442334Z"
    },
    "papermill": {
     "duration": 0.026223,
     "end_time": "2022-07-06T17:36:39.446991",
     "exception": false,
     "start_time": "2022-07-06T17:36:39.420768",
     "status": "completed"
    },
    "tags": []
   },
   "outputs": [
    {
     "name": "stdout",
     "output_type": "stream",
     "text": [
      "tf.Tensor(\n",
      "[[2.6060243 5.1612453 3.253797 ]\n",
      " [1.0411451 8.003285  7.905019 ]], shape=(2, 3), dtype=float32)\n"
     ]
    }
   ],
   "source": [
    "#Finding random matrix with minimum value=1 and max value=10\n",
    "x=tf.random.uniform((2,3),minval=1,maxval=10)\n",
    "print(x)"
   ]
  },
  {
   "cell_type": "code",
   "execution_count": 8,
   "id": "91e4ea79",
   "metadata": {
    "execution": {
     "iopub.execute_input": "2022-07-06T17:36:39.471324Z",
     "iopub.status.busy": "2022-07-06T17:36:39.470418Z",
     "iopub.status.idle": "2022-07-06T17:36:39.478651Z",
     "shell.execute_reply": "2022-07-06T17:36:39.477470Z"
    },
    "papermill": {
     "duration": 0.023702,
     "end_time": "2022-07-06T17:36:39.481964",
     "exception": false,
     "start_time": "2022-07-06T17:36:39.458262",
     "status": "completed"
    },
    "tags": []
   },
   "outputs": [
    {
     "name": "stdout",
     "output_type": "stream",
     "text": [
      "tf.Tensor(\n",
      "[ 0  1  2  3  4  5  6  7  8  9 10 11 12 13 14 15 16 17 18 19 20 21 22 23\n",
      " 24 25 26 27 28 29 30 31 32 33 34 35 36 37 38 39 40 41 42 43 44 45 46 47\n",
      " 48 49 50 51 52 53 54 55 56 57 58 59 60 61 62 63 64 65 66 67 68 69 70 71\n",
      " 72 73 74 75 76 77 78 79 80 81 82 83 84 85 86 87 88 89 90 91 92 93 94 95\n",
      " 96 97 98 99], shape=(100,), dtype=int32)\n"
     ]
    }
   ],
   "source": [
    "x=tf.range(100)\n",
    "print(x)"
   ]
  },
  {
   "cell_type": "code",
   "execution_count": 9,
   "id": "a4754fad",
   "metadata": {
    "execution": {
     "iopub.execute_input": "2022-07-06T17:36:39.507343Z",
     "iopub.status.busy": "2022-07-06T17:36:39.506419Z",
     "iopub.status.idle": "2022-07-06T17:36:39.516689Z",
     "shell.execute_reply": "2022-07-06T17:36:39.515343Z"
    },
    "papermill": {
     "duration": 0.025047,
     "end_time": "2022-07-06T17:36:39.519296",
     "exception": false,
     "start_time": "2022-07-06T17:36:39.494249",
     "status": "completed"
    },
    "tags": []
   },
   "outputs": [
    {
     "name": "stdout",
     "output_type": "stream",
     "text": [
      "tf.Tensor(\n",
      "[ 10.2  12.2  14.2  16.2  18.2  20.2  22.2  24.2  26.2  28.2  30.2  32.2\n",
      "  34.2  36.2  38.2  40.2  42.2  44.2  46.2  48.2  50.2  52.2  54.2  56.2\n",
      "  58.2  60.2  62.2  64.2  66.2  68.2  70.2  72.2  74.2  76.2  78.2  80.2\n",
      "  82.2  84.2  86.2  88.2  90.2  92.2  94.2  96.2  98.2 100.2], shape=(46,), dtype=float32)\n"
     ]
    }
   ],
   "source": [
    "x=tf.range(start=10.2,limit=100.99,delta=2)\n",
    "print(x)"
   ]
  },
  {
   "cell_type": "code",
   "execution_count": 10,
   "id": "a43b9659",
   "metadata": {
    "execution": {
     "iopub.execute_input": "2022-07-06T17:36:39.543530Z",
     "iopub.status.busy": "2022-07-06T17:36:39.542548Z",
     "iopub.status.idle": "2022-07-06T17:36:39.554082Z",
     "shell.execute_reply": "2022-07-06T17:36:39.552140Z"
    },
    "papermill": {
     "duration": 0.026105,
     "end_time": "2022-07-06T17:36:39.556438",
     "exception": false,
     "start_time": "2022-07-06T17:36:39.530333",
     "status": "completed"
    },
    "tags": []
   },
   "outputs": [
    {
     "name": "stdout",
     "output_type": "stream",
     "text": [
      "tf.Tensor(\n",
      "[ 10  12  14  16  18  20  22  24  26  28  30  32  34  36  38  40  42  44\n",
      "  46  48  50  52  54  56  58  60  62  64  66  68  70  72  74  76  78  80\n",
      "  82  84  86  88  90  92  94  96  98 100], shape=(46,), dtype=int64)\n"
     ]
    }
   ],
   "source": [
    "#Changing the datatype of x from float to integer\n",
    "x=tf.cast(x,dtype=tf.int64)\n",
    "print(x)"
   ]
  },
  {
   "cell_type": "code",
   "execution_count": 11,
   "id": "be918e33",
   "metadata": {
    "execution": {
     "iopub.execute_input": "2022-07-06T17:36:39.580645Z",
     "iopub.status.busy": "2022-07-06T17:36:39.579858Z",
     "iopub.status.idle": "2022-07-06T17:36:39.586682Z",
     "shell.execute_reply": "2022-07-06T17:36:39.585128Z"
    },
    "papermill": {
     "duration": 0.022288,
     "end_time": "2022-07-06T17:36:39.589779",
     "exception": false,
     "start_time": "2022-07-06T17:36:39.567491",
     "status": "completed"
    },
    "tags": []
   },
   "outputs": [
    {
     "name": "stdout",
     "output_type": "stream",
     "text": [
      "tf.Tensor(2.8, shape=(), dtype=float32)\n"
     ]
    }
   ],
   "source": [
    "x=tf.constant(2.8)\n",
    "print(x)"
   ]
  },
  {
   "cell_type": "code",
   "execution_count": 12,
   "id": "a980aacd",
   "metadata": {
    "execution": {
     "iopub.execute_input": "2022-07-06T17:36:39.615113Z",
     "iopub.status.busy": "2022-07-06T17:36:39.614337Z",
     "iopub.status.idle": "2022-07-06T17:36:39.621480Z",
     "shell.execute_reply": "2022-07-06T17:36:39.619902Z"
    },
    "papermill": {
     "duration": 0.022972,
     "end_time": "2022-07-06T17:36:39.624725",
     "exception": false,
     "start_time": "2022-07-06T17:36:39.601753",
     "status": "completed"
    },
    "tags": []
   },
   "outputs": [
    {
     "name": "stdout",
     "output_type": "stream",
     "text": [
      "tf.Tensor(2, shape=(), dtype=int32)\n"
     ]
    }
   ],
   "source": [
    "x=tf.cast(x,dtype=tf.int32)\n",
    "print(x)"
   ]
  },
  {
   "cell_type": "code",
   "execution_count": 13,
   "id": "7454933c",
   "metadata": {
    "execution": {
     "iopub.execute_input": "2022-07-06T17:36:39.649956Z",
     "iopub.status.busy": "2022-07-06T17:36:39.649172Z",
     "iopub.status.idle": "2022-07-06T17:36:39.659520Z",
     "shell.execute_reply": "2022-07-06T17:36:39.657771Z"
    },
    "papermill": {
     "duration": 0.026518,
     "end_time": "2022-07-06T17:36:39.662798",
     "exception": false,
     "start_time": "2022-07-06T17:36:39.636280",
     "status": "completed"
    },
    "tags": []
   },
   "outputs": [
    {
     "name": "stdout",
     "output_type": "stream",
     "text": [
      "tf.Tensor([5 7 9], shape=(3,), dtype=int32)\n"
     ]
    }
   ],
   "source": [
    "#Mathematical operations\n",
    "x=tf.constant([1,2,3])\n",
    "y=tf.constant([4,5,6])\n",
    "z=tf.add(x,y)\n",
    "print(z)"
   ]
  },
  {
   "cell_type": "code",
   "execution_count": 14,
   "id": "08ac2b20",
   "metadata": {
    "execution": {
     "iopub.execute_input": "2022-07-06T17:36:39.688061Z",
     "iopub.status.busy": "2022-07-06T17:36:39.687275Z",
     "iopub.status.idle": "2022-07-06T17:36:39.694492Z",
     "shell.execute_reply": "2022-07-06T17:36:39.692714Z"
    },
    "papermill": {
     "duration": 0.023622,
     "end_time": "2022-07-06T17:36:39.698018",
     "exception": false,
     "start_time": "2022-07-06T17:36:39.674396",
     "status": "completed"
    },
    "tags": []
   },
   "outputs": [
    {
     "name": "stdout",
     "output_type": "stream",
     "text": [
      "tf.Tensor([5 7 9], shape=(3,), dtype=int32)\n"
     ]
    }
   ],
   "source": [
    "z=x+y\n",
    "print(z)"
   ]
  },
  {
   "cell_type": "code",
   "execution_count": 15,
   "id": "dc035495",
   "metadata": {
    "execution": {
     "iopub.execute_input": "2022-07-06T17:36:39.722716Z",
     "iopub.status.busy": "2022-07-06T17:36:39.721951Z",
     "iopub.status.idle": "2022-07-06T17:36:39.729084Z",
     "shell.execute_reply": "2022-07-06T17:36:39.727493Z"
    },
    "papermill": {
     "duration": 0.022299,
     "end_time": "2022-07-06T17:36:39.731527",
     "exception": false,
     "start_time": "2022-07-06T17:36:39.709228",
     "status": "completed"
    },
    "tags": []
   },
   "outputs": [
    {
     "name": "stdout",
     "output_type": "stream",
     "text": [
      "tf.Tensor([ 4 10 18], shape=(3,), dtype=int32)\n"
     ]
    }
   ],
   "source": [
    "z=tf.multiply(x,y)\n",
    "print(z)"
   ]
  },
  {
   "cell_type": "code",
   "execution_count": 16,
   "id": "e3f85aec",
   "metadata": {
    "execution": {
     "iopub.execute_input": "2022-07-06T17:36:39.755422Z",
     "iopub.status.busy": "2022-07-06T17:36:39.755024Z",
     "iopub.status.idle": "2022-07-06T17:36:39.775638Z",
     "shell.execute_reply": "2022-07-06T17:36:39.774025Z"
    },
    "papermill": {
     "duration": 0.036411,
     "end_time": "2022-07-06T17:36:39.779098",
     "exception": false,
     "start_time": "2022-07-06T17:36:39.742687",
     "status": "completed"
    },
    "tags": []
   },
   "outputs": [
    {
     "name": "stdout",
     "output_type": "stream",
     "text": [
      "tf.Tensor(32, shape=(), dtype=int32)\n"
     ]
    }
   ],
   "source": [
    "#Dot product of x and y\n",
    "z=tf.tensordot(x,y,axes=1)\n",
    "print(z)"
   ]
  },
  {
   "cell_type": "code",
   "execution_count": 17,
   "id": "127de2a1",
   "metadata": {
    "execution": {
     "iopub.execute_input": "2022-07-06T17:36:39.805417Z",
     "iopub.status.busy": "2022-07-06T17:36:39.804323Z",
     "iopub.status.idle": "2022-07-06T17:36:39.817465Z",
     "shell.execute_reply": "2022-07-06T17:36:39.816015Z"
    },
    "papermill": {
     "duration": 0.028602,
     "end_time": "2022-07-06T17:36:39.819773",
     "exception": false,
     "start_time": "2022-07-06T17:36:39.791171",
     "status": "completed"
    },
    "tags": []
   },
   "outputs": [
    {
     "name": "stdout",
     "output_type": "stream",
     "text": [
      "tf.Tensor(32, shape=(), dtype=int32)\n"
     ]
    }
   ],
   "source": [
    "z=tf.reduce_sum(x*y,axis=0)\n",
    "print(z)"
   ]
  },
  {
   "cell_type": "code",
   "execution_count": 18,
   "id": "1ae3188c",
   "metadata": {
    "execution": {
     "iopub.execute_input": "2022-07-06T17:36:39.844702Z",
     "iopub.status.busy": "2022-07-06T17:36:39.844304Z",
     "iopub.status.idle": "2022-07-06T17:36:39.855596Z",
     "shell.execute_reply": "2022-07-06T17:36:39.854241Z"
    },
    "papermill": {
     "duration": 0.026812,
     "end_time": "2022-07-06T17:36:39.858409",
     "exception": false,
     "start_time": "2022-07-06T17:36:39.831597",
     "status": "completed"
    },
    "tags": []
   },
   "outputs": [
    {
     "name": "stdout",
     "output_type": "stream",
     "text": [
      "tf.Tensor([1 4 9], shape=(3,), dtype=int32)\n"
     ]
    }
   ],
   "source": [
    "z=x**2\n",
    "print(z)"
   ]
  },
  {
   "cell_type": "code",
   "execution_count": 19,
   "id": "d934f8e7",
   "metadata": {
    "execution": {
     "iopub.execute_input": "2022-07-06T17:36:39.886233Z",
     "iopub.status.busy": "2022-07-06T17:36:39.885540Z",
     "iopub.status.idle": "2022-07-06T17:36:39.896259Z",
     "shell.execute_reply": "2022-07-06T17:36:39.895088Z"
    },
    "papermill": {
     "duration": 0.027789,
     "end_time": "2022-07-06T17:36:39.899067",
     "exception": false,
     "start_time": "2022-07-06T17:36:39.871278",
     "status": "completed"
    },
    "tags": []
   },
   "outputs": [
    {
     "name": "stdout",
     "output_type": "stream",
     "text": [
      "tf.Tensor(\n",
      "[[ 1.3175894   0.56527305]\n",
      " [-0.48597163 -0.01611688]], shape=(2, 2), dtype=float32)\n"
     ]
    }
   ],
   "source": [
    "x=tf.random.normal((2,2))\n",
    "print(x)"
   ]
  },
  {
   "cell_type": "code",
   "execution_count": 20,
   "id": "5fdcf56a",
   "metadata": {
    "execution": {
     "iopub.execute_input": "2022-07-06T17:36:39.931493Z",
     "iopub.status.busy": "2022-07-06T17:36:39.931115Z",
     "iopub.status.idle": "2022-07-06T17:36:39.938461Z",
     "shell.execute_reply": "2022-07-06T17:36:39.937474Z"
    },
    "papermill": {
     "duration": 0.024652,
     "end_time": "2022-07-06T17:36:39.941497",
     "exception": false,
     "start_time": "2022-07-06T17:36:39.916845",
     "status": "completed"
    },
    "tags": []
   },
   "outputs": [
    {
     "name": "stdout",
     "output_type": "stream",
     "text": [
      "tf.Tensor(\n",
      "[[-1.186634   -0.7979198  -0.78520054 -0.62639064  1.7567343   0.5699243 ]\n",
      " [ 0.5248487  -0.6151739   0.16323252 -1.8050196  -0.21117309  0.7544309 ]\n",
      " [ 1.1911602  -0.21222854 -1.2059836   2.017528    0.64771664  1.7177929 ]], shape=(3, 6), dtype=float32)\n"
     ]
    }
   ],
   "source": [
    "c=tf.random.normal((3,6))\n",
    "print(c)"
   ]
  },
  {
   "cell_type": "code",
   "execution_count": 21,
   "id": "76cec2ab",
   "metadata": {
    "execution": {
     "iopub.execute_input": "2022-07-06T17:36:39.971981Z",
     "iopub.status.busy": "2022-07-06T17:36:39.971551Z",
     "iopub.status.idle": "2022-07-06T17:36:39.978275Z",
     "shell.execute_reply": "2022-07-06T17:36:39.977405Z"
    },
    "papermill": {
     "duration": 0.02216,
     "end_time": "2022-07-06T17:36:39.980468",
     "exception": false,
     "start_time": "2022-07-06T17:36:39.958308",
     "status": "completed"
    },
    "tags": []
   },
   "outputs": [],
   "source": [
    "x=tf.random.normal((3,3))\n",
    "y=tf.random.normal((3,3))"
   ]
  },
  {
   "cell_type": "code",
   "execution_count": 22,
   "id": "adad3089",
   "metadata": {
    "execution": {
     "iopub.execute_input": "2022-07-06T17:36:40.006343Z",
     "iopub.status.busy": "2022-07-06T17:36:40.005644Z",
     "iopub.status.idle": "2022-07-06T17:36:40.082751Z",
     "shell.execute_reply": "2022-07-06T17:36:40.081275Z"
    },
    "papermill": {
     "duration": 0.093755,
     "end_time": "2022-07-06T17:36:40.086140",
     "exception": false,
     "start_time": "2022-07-06T17:36:39.992385",
     "status": "completed"
    },
    "tags": []
   },
   "outputs": [
    {
     "name": "stdout",
     "output_type": "stream",
     "text": [
      "tf.Tensor(\n",
      "[[-3.2393413   0.39313    -2.216203  ]\n",
      " [ 4.4347186   0.50039095  2.9679625 ]\n",
      " [ 3.6631188  -1.3066992   1.2378366 ]], shape=(3, 3), dtype=float32)\n"
     ]
    }
   ],
   "source": [
    "#Multiply the matrices x and dy\n",
    "z=tf.matmul(x,y)\n",
    "print(z)"
   ]
  },
  {
   "cell_type": "code",
   "execution_count": 23,
   "id": "8ed6dba3",
   "metadata": {
    "execution": {
     "iopub.execute_input": "2022-07-06T17:36:40.112661Z",
     "iopub.status.busy": "2022-07-06T17:36:40.111970Z",
     "iopub.status.idle": "2022-07-06T17:36:40.125881Z",
     "shell.execute_reply": "2022-07-06T17:36:40.125136Z"
    },
    "papermill": {
     "duration": 0.029628,
     "end_time": "2022-07-06T17:36:40.128168",
     "exception": false,
     "start_time": "2022-07-06T17:36:40.098540",
     "status": "completed"
    },
    "tags": []
   },
   "outputs": [
    {
     "name": "stdout",
     "output_type": "stream",
     "text": [
      "tf.Tensor(\n",
      "[[-3.2393413   0.39313    -2.216203  ]\n",
      " [ 4.4347186   0.50039095  2.9679625 ]\n",
      " [ 3.6631188  -1.3066992   1.2378366 ]], shape=(3, 3), dtype=float32)\n"
     ]
    }
   ],
   "source": [
    "z=x @ y #Same as matrix multiplication\n",
    "print(z)"
   ]
  },
  {
   "cell_type": "code",
   "execution_count": 24,
   "id": "ad9f04ed",
   "metadata": {
    "execution": {
     "iopub.execute_input": "2022-07-06T17:36:40.154343Z",
     "iopub.status.busy": "2022-07-06T17:36:40.153184Z",
     "iopub.status.idle": "2022-07-06T17:36:40.158280Z",
     "shell.execute_reply": "2022-07-06T17:36:40.157415Z"
    },
    "papermill": {
     "duration": 0.020258,
     "end_time": "2022-07-06T17:36:40.160363",
     "exception": false,
     "start_time": "2022-07-06T17:36:40.140105",
     "status": "completed"
    },
    "tags": []
   },
   "outputs": [],
   "source": [
    "#INDEXING\n",
    "x=tf.constant([1,23,45,68,9])"
   ]
  },
  {
   "cell_type": "code",
   "execution_count": 25,
   "id": "0a8cc2e0",
   "metadata": {
    "execution": {
     "iopub.execute_input": "2022-07-06T17:36:40.186214Z",
     "iopub.status.busy": "2022-07-06T17:36:40.185485Z",
     "iopub.status.idle": "2022-07-06T17:36:40.195738Z",
     "shell.execute_reply": "2022-07-06T17:36:40.194599Z"
    },
    "papermill": {
     "duration": 0.025934,
     "end_time": "2022-07-06T17:36:40.198243",
     "exception": false,
     "start_time": "2022-07-06T17:36:40.172309",
     "status": "completed"
    },
    "tags": []
   },
   "outputs": [
    {
     "name": "stdout",
     "output_type": "stream",
     "text": [
      "tf.Tensor([ 1 23 45 68  9], shape=(5,), dtype=int32)\n"
     ]
    }
   ],
   "source": [
    "print(x[:])"
   ]
  },
  {
   "cell_type": "code",
   "execution_count": 26,
   "id": "afc6cc2f",
   "metadata": {
    "execution": {
     "iopub.execute_input": "2022-07-06T17:36:40.224195Z",
     "iopub.status.busy": "2022-07-06T17:36:40.223773Z",
     "iopub.status.idle": "2022-07-06T17:36:40.238708Z",
     "shell.execute_reply": "2022-07-06T17:36:40.237284Z"
    },
    "papermill": {
     "duration": 0.030787,
     "end_time": "2022-07-06T17:36:40.241089",
     "exception": false,
     "start_time": "2022-07-06T17:36:40.210302",
     "status": "completed"
    },
    "tags": []
   },
   "outputs": [
    {
     "name": "stdout",
     "output_type": "stream",
     "text": [
      "tf.Tensor([23 45 68], shape=(3,), dtype=int32)\n"
     ]
    }
   ],
   "source": [
    "print(x[1:4])"
   ]
  },
  {
   "cell_type": "code",
   "execution_count": 27,
   "id": "ce1b45fa",
   "metadata": {
    "execution": {
     "iopub.execute_input": "2022-07-06T17:36:40.266820Z",
     "iopub.status.busy": "2022-07-06T17:36:40.266430Z",
     "iopub.status.idle": "2022-07-06T17:36:40.272975Z",
     "shell.execute_reply": "2022-07-06T17:36:40.271649Z"
    },
    "papermill": {
     "duration": 0.022093,
     "end_time": "2022-07-06T17:36:40.275138",
     "exception": false,
     "start_time": "2022-07-06T17:36:40.253045",
     "status": "completed"
    },
    "tags": []
   },
   "outputs": [
    {
     "name": "stdout",
     "output_type": "stream",
     "text": [
      "tf.Tensor([ 1 45  9], shape=(3,), dtype=int32)\n"
     ]
    }
   ],
   "source": [
    "print(x[::2])"
   ]
  },
  {
   "cell_type": "code",
   "execution_count": 28,
   "id": "9ed53f9a",
   "metadata": {
    "execution": {
     "iopub.execute_input": "2022-07-06T17:36:40.301197Z",
     "iopub.status.busy": "2022-07-06T17:36:40.300789Z",
     "iopub.status.idle": "2022-07-06T17:36:40.307001Z",
     "shell.execute_reply": "2022-07-06T17:36:40.305855Z"
    },
    "papermill": {
     "duration": 0.022162,
     "end_time": "2022-07-06T17:36:40.309459",
     "exception": false,
     "start_time": "2022-07-06T17:36:40.287297",
     "status": "completed"
    },
    "tags": []
   },
   "outputs": [
    {
     "name": "stdout",
     "output_type": "stream",
     "text": [
      "tf.Tensor([ 9 68 45 23  1], shape=(5,), dtype=int32)\n"
     ]
    }
   ],
   "source": [
    "print(x[::-1])"
   ]
  },
  {
   "cell_type": "code",
   "execution_count": 29,
   "id": "6dcd37c6",
   "metadata": {
    "execution": {
     "iopub.execute_input": "2022-07-06T17:36:40.335550Z",
     "iopub.status.busy": "2022-07-06T17:36:40.335164Z",
     "iopub.status.idle": "2022-07-06T17:36:40.348245Z",
     "shell.execute_reply": "2022-07-06T17:36:40.346978Z"
    },
    "papermill": {
     "duration": 0.028798,
     "end_time": "2022-07-06T17:36:40.350319",
     "exception": false,
     "start_time": "2022-07-06T17:36:40.321521",
     "status": "completed"
    },
    "tags": []
   },
   "outputs": [
    {
     "name": "stdout",
     "output_type": "stream",
     "text": [
      "tf.Tensor([ 9 23], shape=(2,), dtype=int32)\n"
     ]
    }
   ],
   "source": [
    "indices=tf.constant([4,1])\n",
    "x_ind=tf.gather(x,indices)\n",
    "print(x_ind)"
   ]
  },
  {
   "cell_type": "code",
   "execution_count": 30,
   "id": "ef2dca8f",
   "metadata": {
    "execution": {
     "iopub.execute_input": "2022-07-06T17:36:40.376935Z",
     "iopub.status.busy": "2022-07-06T17:36:40.376399Z",
     "iopub.status.idle": "2022-07-06T17:36:40.381257Z",
     "shell.execute_reply": "2022-07-06T17:36:40.380400Z"
    },
    "papermill": {
     "duration": 0.020696,
     "end_time": "2022-07-06T17:36:40.383292",
     "exception": false,
     "start_time": "2022-07-06T17:36:40.362596",
     "status": "completed"
    },
    "tags": []
   },
   "outputs": [],
   "source": [
    "x=tf.constant([\n",
    "[1,2,3],\n",
    "[3,4,7],\n",
    "[9,96,5]\n",
    "\n",
    "])"
   ]
  },
  {
   "cell_type": "code",
   "execution_count": 31,
   "id": "09e213f0",
   "metadata": {
    "execution": {
     "iopub.execute_input": "2022-07-06T17:36:40.409421Z",
     "iopub.status.busy": "2022-07-06T17:36:40.409013Z",
     "iopub.status.idle": "2022-07-06T17:36:40.414508Z",
     "shell.execute_reply": "2022-07-06T17:36:40.413717Z"
    },
    "papermill": {
     "duration": 0.021617,
     "end_time": "2022-07-06T17:36:40.417131",
     "exception": false,
     "start_time": "2022-07-06T17:36:40.395514",
     "status": "completed"
    },
    "tags": []
   },
   "outputs": [
    {
     "name": "stdout",
     "output_type": "stream",
     "text": [
      "tf.Tensor(\n",
      "[[ 1  2  3]\n",
      " [ 3  4  7]\n",
      " [ 9 96  5]], shape=(3, 3), dtype=int32)\n"
     ]
    }
   ],
   "source": [
    "print(x[:])"
   ]
  },
  {
   "cell_type": "code",
   "execution_count": 32,
   "id": "dc90f547",
   "metadata": {
    "execution": {
     "iopub.execute_input": "2022-07-06T17:36:40.444006Z",
     "iopub.status.busy": "2022-07-06T17:36:40.443636Z",
     "iopub.status.idle": "2022-07-06T17:36:40.453727Z",
     "shell.execute_reply": "2022-07-06T17:36:40.452614Z"
    },
    "papermill": {
     "duration": 0.026089,
     "end_time": "2022-07-06T17:36:40.456280",
     "exception": false,
     "start_time": "2022-07-06T17:36:40.430191",
     "status": "completed"
    },
    "tags": []
   },
   "outputs": [
    {
     "name": "stdout",
     "output_type": "stream",
     "text": [
      "tf.Tensor([1 2 3], shape=(3,), dtype=int32)\n"
     ]
    }
   ],
   "source": [
    "print(x[0,:])"
   ]
  },
  {
   "cell_type": "code",
   "execution_count": 33,
   "id": "d6bd1375",
   "metadata": {
    "execution": {
     "iopub.execute_input": "2022-07-06T17:36:40.482916Z",
     "iopub.status.busy": "2022-07-06T17:36:40.482144Z",
     "iopub.status.idle": "2022-07-06T17:36:40.488610Z",
     "shell.execute_reply": "2022-07-06T17:36:40.487240Z"
    },
    "papermill": {
     "duration": 0.022435,
     "end_time": "2022-07-06T17:36:40.490942",
     "exception": false,
     "start_time": "2022-07-06T17:36:40.468507",
     "status": "completed"
    },
    "tags": []
   },
   "outputs": [
    {
     "name": "stdout",
     "output_type": "stream",
     "text": [
      "tf.Tensor(\n",
      "[[ 3  4  7]\n",
      " [ 9 96  5]], shape=(2, 3), dtype=int32)\n"
     ]
    }
   ],
   "source": [
    "print(x[1:100,:])"
   ]
  },
  {
   "cell_type": "code",
   "execution_count": 34,
   "id": "c4cf51ad",
   "metadata": {
    "execution": {
     "iopub.execute_input": "2022-07-06T17:36:40.517904Z",
     "iopub.status.busy": "2022-07-06T17:36:40.517206Z",
     "iopub.status.idle": "2022-07-06T17:36:40.521600Z",
     "shell.execute_reply": "2022-07-06T17:36:40.520863Z"
    },
    "papermill": {
     "duration": 0.0203,
     "end_time": "2022-07-06T17:36:40.523539",
     "exception": false,
     "start_time": "2022-07-06T17:36:40.503239",
     "status": "completed"
    },
    "tags": []
   },
   "outputs": [],
   "source": [
    "x=tf.range(6)"
   ]
  },
  {
   "cell_type": "code",
   "execution_count": 35,
   "id": "96303020",
   "metadata": {
    "execution": {
     "iopub.execute_input": "2022-07-06T17:36:40.550194Z",
     "iopub.status.busy": "2022-07-06T17:36:40.549481Z",
     "iopub.status.idle": "2022-07-06T17:36:40.555162Z",
     "shell.execute_reply": "2022-07-06T17:36:40.553935Z"
    },
    "papermill": {
     "duration": 0.021898,
     "end_time": "2022-07-06T17:36:40.557814",
     "exception": false,
     "start_time": "2022-07-06T17:36:40.535916",
     "status": "completed"
    },
    "tags": []
   },
   "outputs": [
    {
     "name": "stdout",
     "output_type": "stream",
     "text": [
      "tf.Tensor([0 1 2 3 4 5], shape=(6,), dtype=int32)\n"
     ]
    }
   ],
   "source": [
    "print(x)"
   ]
  },
  {
   "cell_type": "code",
   "execution_count": 36,
   "id": "60a29446",
   "metadata": {
    "execution": {
     "iopub.execute_input": "2022-07-06T17:36:40.584744Z",
     "iopub.status.busy": "2022-07-06T17:36:40.584365Z",
     "iopub.status.idle": "2022-07-06T17:36:40.589755Z",
     "shell.execute_reply": "2022-07-06T17:36:40.588921Z"
    },
    "papermill": {
     "duration": 0.022714,
     "end_time": "2022-07-06T17:36:40.593244",
     "exception": false,
     "start_time": "2022-07-06T17:36:40.570530",
     "status": "completed"
    },
    "tags": []
   },
   "outputs": [
    {
     "name": "stdout",
     "output_type": "stream",
     "text": [
      "tf.Tensor(\n",
      "[[0 1 2]\n",
      " [3 4 5]], shape=(2, 3), dtype=int32)\n"
     ]
    }
   ],
   "source": [
    "#RESHAPING\n",
    "x=tf.reshape(x,(2,3))\n",
    "print(x)"
   ]
  },
  {
   "cell_type": "code",
   "execution_count": 37,
   "id": "4e034c0f",
   "metadata": {
    "execution": {
     "iopub.execute_input": "2022-07-06T17:36:40.621603Z",
     "iopub.status.busy": "2022-07-06T17:36:40.621021Z",
     "iopub.status.idle": "2022-07-06T17:36:40.632653Z",
     "shell.execute_reply": "2022-07-06T17:36:40.631870Z"
    },
    "papermill": {
     "duration": 0.027834,
     "end_time": "2022-07-06T17:36:40.634850",
     "exception": false,
     "start_time": "2022-07-06T17:36:40.607016",
     "status": "completed"
    },
    "tags": []
   },
   "outputs": [
    {
     "name": "stdout",
     "output_type": "stream",
     "text": [
      "tf.Tensor(\n",
      "[[0 3]\n",
      " [1 4]\n",
      " [2 5]], shape=(3, 2), dtype=int32)\n"
     ]
    }
   ],
   "source": [
    "#Finding the transpose matrix of x\n",
    "x=tf.transpose(x,perm=[1,0])\n",
    "print(x)"
   ]
  },
  {
   "cell_type": "code",
   "execution_count": null,
   "id": "7e36cef3",
   "metadata": {
    "papermill": {
     "duration": 0.012193,
     "end_time": "2022-07-06T17:36:40.659522",
     "exception": false,
     "start_time": "2022-07-06T17:36:40.647329",
     "status": "completed"
    },
    "tags": []
   },
   "outputs": [],
   "source": []
  }
 ],
 "metadata": {
  "kernelspec": {
   "display_name": "Python 3",
   "language": "python",
   "name": "python3"
  },
  "language_info": {
   "codemirror_mode": {
    "name": "ipython",
    "version": 3
   },
   "file_extension": ".py",
   "mimetype": "text/x-python",
   "name": "python",
   "nbconvert_exporter": "python",
   "pygments_lexer": "ipython3",
   "version": "3.7.12"
  },
  "papermill": {
   "default_parameters": {},
   "duration": 23.645362,
   "end_time": "2022-07-06T17:36:43.800666",
   "environment_variables": {},
   "exception": null,
   "input_path": "__notebook__.ipynb",
   "output_path": "__notebook__.ipynb",
   "parameters": {},
   "start_time": "2022-07-06T17:36:20.155304",
   "version": "2.3.4"
  }
 },
 "nbformat": 4,
 "nbformat_minor": 5
}
