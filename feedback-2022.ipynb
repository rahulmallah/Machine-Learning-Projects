{
 "cells": [
  {
   "cell_type": "code",
   "execution_count": 1,
   "id": "265b9351",
   "metadata": {
    "execution": {
     "iopub.execute_input": "2022-07-16T05:43:54.134776Z",
     "iopub.status.busy": "2022-07-16T05:43:54.133851Z",
     "iopub.status.idle": "2022-07-16T05:43:54.509503Z",
     "shell.execute_reply": "2022-07-16T05:43:54.510313Z",
     "shell.execute_reply.started": "2022-07-15T19:32:29.035015Z"
    },
    "papermill": {
     "duration": 0.431528,
     "end_time": "2022-07-16T05:43:54.510748",
     "exception": false,
     "start_time": "2022-07-16T05:43:54.079220",
     "status": "completed"
    },
    "tags": []
   },
   "outputs": [],
   "source": [
    "import pandas as pd\n",
    "import numpy as np\n",
    "train_df=pd.read_csv('../input/feedback-prize-effectiveness/train.csv')\n",
    "test_df=pd.read_csv('../input/feedback-prize-effectiveness/test.csv')\n",
    "sub_df=pd.read_csv('../input/feedback-prize-effectiveness/sample_submission.csv')"
   ]
  },
  {
   "cell_type": "code",
   "execution_count": 2,
   "id": "b7e4d3e2",
   "metadata": {
    "execution": {
     "iopub.execute_input": "2022-07-16T05:43:54.601576Z",
     "iopub.status.busy": "2022-07-16T05:43:54.600587Z",
     "iopub.status.idle": "2022-07-16T05:43:54.622110Z",
     "shell.execute_reply": "2022-07-16T05:43:54.621529Z",
     "shell.execute_reply.started": "2022-07-15T18:18:28.916334Z"
    },
    "papermill": {
     "duration": 0.06021,
     "end_time": "2022-07-16T05:43:54.622251",
     "exception": false,
     "start_time": "2022-07-16T05:43:54.562041",
     "status": "completed"
    },
    "tags": []
   },
   "outputs": [
    {
     "data": {
      "text/html": [
       "<div>\n",
       "<style scoped>\n",
       "    .dataframe tbody tr th:only-of-type {\n",
       "        vertical-align: middle;\n",
       "    }\n",
       "\n",
       "    .dataframe tbody tr th {\n",
       "        vertical-align: top;\n",
       "    }\n",
       "\n",
       "    .dataframe thead th {\n",
       "        text-align: right;\n",
       "    }\n",
       "</style>\n",
       "<table border=\"1\" class=\"dataframe\">\n",
       "  <thead>\n",
       "    <tr style=\"text-align: right;\">\n",
       "      <th></th>\n",
       "      <th>discourse_id</th>\n",
       "      <th>essay_id</th>\n",
       "      <th>discourse_text</th>\n",
       "      <th>discourse_type</th>\n",
       "      <th>discourse_effectiveness</th>\n",
       "    </tr>\n",
       "  </thead>\n",
       "  <tbody>\n",
       "    <tr>\n",
       "      <th>0</th>\n",
       "      <td>0013cc385424</td>\n",
       "      <td>007ACE74B050</td>\n",
       "      <td>Hi, i'm Isaac, i'm going to be writing about h...</td>\n",
       "      <td>Lead</td>\n",
       "      <td>Adequate</td>\n",
       "    </tr>\n",
       "    <tr>\n",
       "      <th>1</th>\n",
       "      <td>9704a709b505</td>\n",
       "      <td>007ACE74B050</td>\n",
       "      <td>On my perspective, I think that the face is a ...</td>\n",
       "      <td>Position</td>\n",
       "      <td>Adequate</td>\n",
       "    </tr>\n",
       "    <tr>\n",
       "      <th>2</th>\n",
       "      <td>c22adee811b6</td>\n",
       "      <td>007ACE74B050</td>\n",
       "      <td>I think that the face is a natural landform be...</td>\n",
       "      <td>Claim</td>\n",
       "      <td>Adequate</td>\n",
       "    </tr>\n",
       "    <tr>\n",
       "      <th>3</th>\n",
       "      <td>a10d361e54e4</td>\n",
       "      <td>007ACE74B050</td>\n",
       "      <td>If life was on Mars, we would know by now. The...</td>\n",
       "      <td>Evidence</td>\n",
       "      <td>Adequate</td>\n",
       "    </tr>\n",
       "    <tr>\n",
       "      <th>4</th>\n",
       "      <td>db3e453ec4e2</td>\n",
       "      <td>007ACE74B050</td>\n",
       "      <td>People thought that the face was formed by ali...</td>\n",
       "      <td>Counterclaim</td>\n",
       "      <td>Adequate</td>\n",
       "    </tr>\n",
       "    <tr>\n",
       "      <th>5</th>\n",
       "      <td>36a565e45db7</td>\n",
       "      <td>007ACE74B050</td>\n",
       "      <td>though some say that life on Mars does exist, ...</td>\n",
       "      <td>Rebuttal</td>\n",
       "      <td>Ineffective</td>\n",
       "    </tr>\n",
       "    <tr>\n",
       "      <th>6</th>\n",
       "      <td>fb65fe816ba3</td>\n",
       "      <td>007ACE74B050</td>\n",
       "      <td>It says in paragraph 7, on April 5, 1998, Mars...</td>\n",
       "      <td>Evidence</td>\n",
       "      <td>Adequate</td>\n",
       "    </tr>\n",
       "    <tr>\n",
       "      <th>7</th>\n",
       "      <td>4e472e2584fa</td>\n",
       "      <td>007ACE74B050</td>\n",
       "      <td>Everyone who thought it was made by alieans ev...</td>\n",
       "      <td>Counterclaim</td>\n",
       "      <td>Adequate</td>\n",
       "    </tr>\n",
       "    <tr>\n",
       "      <th>8</th>\n",
       "      <td>28a94d3ee425</td>\n",
       "      <td>007ACE74B050</td>\n",
       "      <td>Though people were not satified about how the ...</td>\n",
       "      <td>Concluding Statement</td>\n",
       "      <td>Adequate</td>\n",
       "    </tr>\n",
       "    <tr>\n",
       "      <th>9</th>\n",
       "      <td>d226f06362f5</td>\n",
       "      <td>00944C693682</td>\n",
       "      <td>Limiting the usage of cars has personal and pr...</td>\n",
       "      <td>Lead</td>\n",
       "      <td>Effective</td>\n",
       "    </tr>\n",
       "  </tbody>\n",
       "</table>\n",
       "</div>"
      ],
      "text/plain": [
       "   discourse_id      essay_id  \\\n",
       "0  0013cc385424  007ACE74B050   \n",
       "1  9704a709b505  007ACE74B050   \n",
       "2  c22adee811b6  007ACE74B050   \n",
       "3  a10d361e54e4  007ACE74B050   \n",
       "4  db3e453ec4e2  007ACE74B050   \n",
       "5  36a565e45db7  007ACE74B050   \n",
       "6  fb65fe816ba3  007ACE74B050   \n",
       "7  4e472e2584fa  007ACE74B050   \n",
       "8  28a94d3ee425  007ACE74B050   \n",
       "9  d226f06362f5  00944C693682   \n",
       "\n",
       "                                      discourse_text        discourse_type  \\\n",
       "0  Hi, i'm Isaac, i'm going to be writing about h...                  Lead   \n",
       "1  On my perspective, I think that the face is a ...              Position   \n",
       "2  I think that the face is a natural landform be...                 Claim   \n",
       "3  If life was on Mars, we would know by now. The...              Evidence   \n",
       "4  People thought that the face was formed by ali...          Counterclaim   \n",
       "5  though some say that life on Mars does exist, ...              Rebuttal   \n",
       "6  It says in paragraph 7, on April 5, 1998, Mars...              Evidence   \n",
       "7  Everyone who thought it was made by alieans ev...          Counterclaim   \n",
       "8  Though people were not satified about how the ...  Concluding Statement   \n",
       "9  Limiting the usage of cars has personal and pr...                  Lead   \n",
       "\n",
       "  discourse_effectiveness  \n",
       "0                Adequate  \n",
       "1                Adequate  \n",
       "2                Adequate  \n",
       "3                Adequate  \n",
       "4                Adequate  \n",
       "5             Ineffective  \n",
       "6                Adequate  \n",
       "7                Adequate  \n",
       "8                Adequate  \n",
       "9               Effective  "
      ]
     },
     "execution_count": 2,
     "metadata": {},
     "output_type": "execute_result"
    }
   ],
   "source": [
    "train_df.head(10)"
   ]
  },
  {
   "cell_type": "code",
   "execution_count": 3,
   "id": "748ae8c3",
   "metadata": {
    "execution": {
     "iopub.execute_input": "2022-07-16T05:43:54.696104Z",
     "iopub.status.busy": "2022-07-16T05:43:54.695095Z",
     "iopub.status.idle": "2022-07-16T05:43:54.704074Z",
     "shell.execute_reply": "2022-07-16T05:43:54.704543Z",
     "shell.execute_reply.started": "2022-07-15T18:18:28.946821Z"
    },
    "papermill": {
     "duration": 0.046266,
     "end_time": "2022-07-16T05:43:54.704753",
     "exception": false,
     "start_time": "2022-07-16T05:43:54.658487",
     "status": "completed"
    },
    "tags": []
   },
   "outputs": [
    {
     "data": {
      "text/plain": [
       "'I think that the face is a natural landform because there is no life on Mars that we have descovered yet '"
      ]
     },
     "execution_count": 3,
     "metadata": {},
     "output_type": "execute_result"
    }
   ],
   "source": [
    "train_df['discourse_text'][2]"
   ]
  },
  {
   "cell_type": "code",
   "execution_count": 4,
   "id": "b702af3d",
   "metadata": {
    "execution": {
     "iopub.execute_input": "2022-07-16T05:43:54.777036Z",
     "iopub.status.busy": "2022-07-16T05:43:54.776056Z",
     "iopub.status.idle": "2022-07-16T05:43:54.781098Z",
     "shell.execute_reply": "2022-07-16T05:43:54.781627Z",
     "shell.execute_reply.started": "2022-07-15T18:18:28.95972Z"
    },
    "papermill": {
     "duration": 0.042902,
     "end_time": "2022-07-16T05:43:54.781827",
     "exception": false,
     "start_time": "2022-07-16T05:43:54.738925",
     "status": "completed"
    },
    "tags": []
   },
   "outputs": [
    {
     "data": {
      "text/plain": [
       "(36765, 5)"
      ]
     },
     "execution_count": 4,
     "metadata": {},
     "output_type": "execute_result"
    }
   ],
   "source": [
    "train_df.shape"
   ]
  },
  {
   "cell_type": "code",
   "execution_count": 5,
   "id": "e132f369",
   "metadata": {
    "execution": {
     "iopub.execute_input": "2022-07-16T05:43:54.853731Z",
     "iopub.status.busy": "2022-07-16T05:43:54.852803Z",
     "iopub.status.idle": "2022-07-16T05:43:54.864077Z",
     "shell.execute_reply": "2022-07-16T05:43:54.864619Z",
     "shell.execute_reply.started": "2022-07-15T18:18:28.978066Z"
    },
    "papermill": {
     "duration": 0.04895,
     "end_time": "2022-07-16T05:43:54.864802",
     "exception": false,
     "start_time": "2022-07-16T05:43:54.815852",
     "status": "completed"
    },
    "tags": []
   },
   "outputs": [
    {
     "data": {
      "text/html": [
       "<div>\n",
       "<style scoped>\n",
       "    .dataframe tbody tr th:only-of-type {\n",
       "        vertical-align: middle;\n",
       "    }\n",
       "\n",
       "    .dataframe tbody tr th {\n",
       "        vertical-align: top;\n",
       "    }\n",
       "\n",
       "    .dataframe thead th {\n",
       "        text-align: right;\n",
       "    }\n",
       "</style>\n",
       "<table border=\"1\" class=\"dataframe\">\n",
       "  <thead>\n",
       "    <tr style=\"text-align: right;\">\n",
       "      <th></th>\n",
       "      <th>discourse_id</th>\n",
       "      <th>essay_id</th>\n",
       "      <th>discourse_text</th>\n",
       "      <th>discourse_type</th>\n",
       "    </tr>\n",
       "  </thead>\n",
       "  <tbody>\n",
       "    <tr>\n",
       "      <th>0</th>\n",
       "      <td>a261b6e14276</td>\n",
       "      <td>D72CB1C11673</td>\n",
       "      <td>Making choices in life can be very difficult. ...</td>\n",
       "      <td>Lead</td>\n",
       "    </tr>\n",
       "    <tr>\n",
       "      <th>1</th>\n",
       "      <td>5a88900e7dc1</td>\n",
       "      <td>D72CB1C11673</td>\n",
       "      <td>Seeking multiple opinions can help a person ma...</td>\n",
       "      <td>Position</td>\n",
       "    </tr>\n",
       "    <tr>\n",
       "      <th>2</th>\n",
       "      <td>9790d835736b</td>\n",
       "      <td>D72CB1C11673</td>\n",
       "      <td>it can decrease stress levels</td>\n",
       "      <td>Claim</td>\n",
       "    </tr>\n",
       "    <tr>\n",
       "      <th>3</th>\n",
       "      <td>75ce6d68b67b</td>\n",
       "      <td>D72CB1C11673</td>\n",
       "      <td>a great chance to learn something new</td>\n",
       "      <td>Claim</td>\n",
       "    </tr>\n",
       "    <tr>\n",
       "      <th>4</th>\n",
       "      <td>93578d946723</td>\n",
       "      <td>D72CB1C11673</td>\n",
       "      <td>can be very helpful and beneficial.</td>\n",
       "      <td>Claim</td>\n",
       "    </tr>\n",
       "    <tr>\n",
       "      <th>5</th>\n",
       "      <td>2e214524dbe3</td>\n",
       "      <td>D72CB1C11673</td>\n",
       "      <td>When making a decision there is a chance that ...</td>\n",
       "      <td>Evidence</td>\n",
       "    </tr>\n",
       "    <tr>\n",
       "      <th>6</th>\n",
       "      <td>84812fc2ab9f</td>\n",
       "      <td>D72CB1C11673</td>\n",
       "      <td>Everyone is different and may have more experi...</td>\n",
       "      <td>Evidence</td>\n",
       "    </tr>\n",
       "    <tr>\n",
       "      <th>7</th>\n",
       "      <td>c668ff840720</td>\n",
       "      <td>D72CB1C11673</td>\n",
       "      <td>Seeking others opinion can be very helpful and...</td>\n",
       "      <td>Claim</td>\n",
       "    </tr>\n",
       "    <tr>\n",
       "      <th>8</th>\n",
       "      <td>739a6d00f44a</td>\n",
       "      <td>D72CB1C11673</td>\n",
       "      <td>Taking other peoples advice and doing what the...</td>\n",
       "      <td>Evidence</td>\n",
       "    </tr>\n",
       "    <tr>\n",
       "      <th>9</th>\n",
       "      <td>bcfae2c9a244</td>\n",
       "      <td>D72CB1C11673</td>\n",
       "      <td>You can learn from others experiences by seeki...</td>\n",
       "      <td>Concluding Statement</td>\n",
       "    </tr>\n",
       "  </tbody>\n",
       "</table>\n",
       "</div>"
      ],
      "text/plain": [
       "   discourse_id      essay_id  \\\n",
       "0  a261b6e14276  D72CB1C11673   \n",
       "1  5a88900e7dc1  D72CB1C11673   \n",
       "2  9790d835736b  D72CB1C11673   \n",
       "3  75ce6d68b67b  D72CB1C11673   \n",
       "4  93578d946723  D72CB1C11673   \n",
       "5  2e214524dbe3  D72CB1C11673   \n",
       "6  84812fc2ab9f  D72CB1C11673   \n",
       "7  c668ff840720  D72CB1C11673   \n",
       "8  739a6d00f44a  D72CB1C11673   \n",
       "9  bcfae2c9a244  D72CB1C11673   \n",
       "\n",
       "                                      discourse_text        discourse_type  \n",
       "0  Making choices in life can be very difficult. ...                  Lead  \n",
       "1  Seeking multiple opinions can help a person ma...              Position  \n",
       "2                     it can decrease stress levels                  Claim  \n",
       "3             a great chance to learn something new                  Claim  \n",
       "4               can be very helpful and beneficial.                  Claim  \n",
       "5  When making a decision there is a chance that ...              Evidence  \n",
       "6  Everyone is different and may have more experi...              Evidence  \n",
       "7  Seeking others opinion can be very helpful and...                 Claim  \n",
       "8  Taking other peoples advice and doing what the...              Evidence  \n",
       "9  You can learn from others experiences by seeki...  Concluding Statement  "
      ]
     },
     "execution_count": 5,
     "metadata": {},
     "output_type": "execute_result"
    }
   ],
   "source": [
    "test_df"
   ]
  },
  {
   "cell_type": "code",
   "execution_count": 6,
   "id": "93cf5d3f",
   "metadata": {
    "execution": {
     "iopub.execute_input": "2022-07-16T05:43:54.939485Z",
     "iopub.status.busy": "2022-07-16T05:43:54.938499Z",
     "iopub.status.idle": "2022-07-16T05:43:54.943287Z",
     "shell.execute_reply": "2022-07-16T05:43:54.943803Z",
     "shell.execute_reply.started": "2022-07-15T18:18:28.997238Z"
    },
    "papermill": {
     "duration": 0.044205,
     "end_time": "2022-07-16T05:43:54.943972",
     "exception": false,
     "start_time": "2022-07-16T05:43:54.899767",
     "status": "completed"
    },
    "tags": []
   },
   "outputs": [
    {
     "data": {
      "text/plain": [
       "(10, 4)"
      ]
     },
     "execution_count": 6,
     "metadata": {},
     "output_type": "execute_result"
    }
   ],
   "source": [
    "test_df.shape"
   ]
  },
  {
   "cell_type": "code",
   "execution_count": 7,
   "id": "a23b6986",
   "metadata": {
    "execution": {
     "iopub.execute_input": "2022-07-16T05:43:55.028067Z",
     "iopub.status.busy": "2022-07-16T05:43:55.026970Z",
     "iopub.status.idle": "2022-07-16T05:43:55.035702Z",
     "shell.execute_reply": "2022-07-16T05:43:55.036163Z",
     "shell.execute_reply.started": "2022-07-15T18:18:29.011932Z"
    },
    "papermill": {
     "duration": 0.055871,
     "end_time": "2022-07-16T05:43:55.036346",
     "exception": false,
     "start_time": "2022-07-16T05:43:54.980475",
     "status": "completed"
    },
    "tags": []
   },
   "outputs": [
    {
     "data": {
      "text/html": [
       "<div>\n",
       "<style scoped>\n",
       "    .dataframe tbody tr th:only-of-type {\n",
       "        vertical-align: middle;\n",
       "    }\n",
       "\n",
       "    .dataframe tbody tr th {\n",
       "        vertical-align: top;\n",
       "    }\n",
       "\n",
       "    .dataframe thead th {\n",
       "        text-align: right;\n",
       "    }\n",
       "</style>\n",
       "<table border=\"1\" class=\"dataframe\">\n",
       "  <thead>\n",
       "    <tr style=\"text-align: right;\">\n",
       "      <th></th>\n",
       "      <th>discourse_id</th>\n",
       "      <th>Ineffective</th>\n",
       "      <th>Adequate</th>\n",
       "      <th>Effective</th>\n",
       "    </tr>\n",
       "  </thead>\n",
       "  <tbody>\n",
       "    <tr>\n",
       "      <th>0</th>\n",
       "      <td>a261b6e14276</td>\n",
       "      <td>0.20</td>\n",
       "      <td>0.60</td>\n",
       "      <td>0.40</td>\n",
       "    </tr>\n",
       "    <tr>\n",
       "      <th>1</th>\n",
       "      <td>5a88900e7dc1</td>\n",
       "      <td>3.00</td>\n",
       "      <td>6.00</td>\n",
       "      <td>1.00</td>\n",
       "    </tr>\n",
       "    <tr>\n",
       "      <th>2</th>\n",
       "      <td>9790d835736b</td>\n",
       "      <td>1.00</td>\n",
       "      <td>2.00</td>\n",
       "      <td>3.00</td>\n",
       "    </tr>\n",
       "    <tr>\n",
       "      <th>3</th>\n",
       "      <td>75ce6d68b67b</td>\n",
       "      <td>0.33</td>\n",
       "      <td>0.34</td>\n",
       "      <td>0.33</td>\n",
       "    </tr>\n",
       "    <tr>\n",
       "      <th>4</th>\n",
       "      <td>93578d946723</td>\n",
       "      <td>0.01</td>\n",
       "      <td>0.24</td>\n",
       "      <td>0.47</td>\n",
       "    </tr>\n",
       "    <tr>\n",
       "      <th>5</th>\n",
       "      <td>2e214524dbe3</td>\n",
       "      <td>0.20</td>\n",
       "      <td>0.60</td>\n",
       "      <td>0.40</td>\n",
       "    </tr>\n",
       "    <tr>\n",
       "      <th>6</th>\n",
       "      <td>84812fc2ab9f</td>\n",
       "      <td>3.00</td>\n",
       "      <td>6.00</td>\n",
       "      <td>1.00</td>\n",
       "    </tr>\n",
       "    <tr>\n",
       "      <th>7</th>\n",
       "      <td>c668ff840720</td>\n",
       "      <td>1.00</td>\n",
       "      <td>2.00</td>\n",
       "      <td>3.00</td>\n",
       "    </tr>\n",
       "    <tr>\n",
       "      <th>8</th>\n",
       "      <td>739a6d00f44a</td>\n",
       "      <td>0.33</td>\n",
       "      <td>0.34</td>\n",
       "      <td>0.33</td>\n",
       "    </tr>\n",
       "    <tr>\n",
       "      <th>9</th>\n",
       "      <td>bcfae2c9a244</td>\n",
       "      <td>0.01</td>\n",
       "      <td>0.24</td>\n",
       "      <td>0.47</td>\n",
       "    </tr>\n",
       "  </tbody>\n",
       "</table>\n",
       "</div>"
      ],
      "text/plain": [
       "   discourse_id  Ineffective  Adequate  Effective\n",
       "0  a261b6e14276         0.20      0.60       0.40\n",
       "1  5a88900e7dc1         3.00      6.00       1.00\n",
       "2  9790d835736b         1.00      2.00       3.00\n",
       "3  75ce6d68b67b         0.33      0.34       0.33\n",
       "4  93578d946723         0.01      0.24       0.47\n",
       "5  2e214524dbe3         0.20      0.60       0.40\n",
       "6  84812fc2ab9f         3.00      6.00       1.00\n",
       "7  c668ff840720         1.00      2.00       3.00\n",
       "8  739a6d00f44a         0.33      0.34       0.33\n",
       "9  bcfae2c9a244         0.01      0.24       0.47"
      ]
     },
     "execution_count": 7,
     "metadata": {},
     "output_type": "execute_result"
    }
   ],
   "source": [
    "sub_df"
   ]
  },
  {
   "cell_type": "code",
   "execution_count": 8,
   "id": "69003121",
   "metadata": {
    "execution": {
     "iopub.execute_input": "2022-07-16T05:43:55.112517Z",
     "iopub.status.busy": "2022-07-16T05:43:55.111497Z",
     "iopub.status.idle": "2022-07-16T05:43:55.116246Z",
     "shell.execute_reply": "2022-07-16T05:43:55.116746Z",
     "shell.execute_reply.started": "2022-07-15T18:18:29.032026Z"
    },
    "papermill": {
     "duration": 0.044677,
     "end_time": "2022-07-16T05:43:55.116913",
     "exception": false,
     "start_time": "2022-07-16T05:43:55.072236",
     "status": "completed"
    },
    "tags": []
   },
   "outputs": [
    {
     "data": {
      "text/plain": [
       "(10, 4)"
      ]
     },
     "execution_count": 8,
     "metadata": {},
     "output_type": "execute_result"
    }
   ],
   "source": [
    "sub_df.shape"
   ]
  },
  {
   "cell_type": "code",
   "execution_count": 9,
   "id": "d797196a",
   "metadata": {
    "execution": {
     "iopub.execute_input": "2022-07-16T05:43:55.192172Z",
     "iopub.status.busy": "2022-07-16T05:43:55.191174Z",
     "iopub.status.idle": "2022-07-16T05:43:55.196464Z",
     "shell.execute_reply": "2022-07-16T05:43:55.196925Z",
     "shell.execute_reply.started": "2022-07-15T18:18:29.049014Z"
    },
    "papermill": {
     "duration": 0.044718,
     "end_time": "2022-07-16T05:43:55.197091",
     "exception": false,
     "start_time": "2022-07-16T05:43:55.152373",
     "status": "completed"
    },
    "tags": []
   },
   "outputs": [
    {
     "data": {
      "text/plain": [
       "\"Making choices in life can be very difficult. People often ask for advice when they can not decide on one thing. It's always good to ask others for their advice when making a choice. When you have multiple opinions you have the ability to make the best choice for yourself. \""
      ]
     },
     "execution_count": 9,
     "metadata": {},
     "output_type": "execute_result"
    }
   ],
   "source": [
    "test_df['discourse_text'][0]"
   ]
  },
  {
   "cell_type": "code",
   "execution_count": 10,
   "id": "2d962925",
   "metadata": {
    "execution": {
     "iopub.execute_input": "2022-07-16T05:43:55.281336Z",
     "iopub.status.busy": "2022-07-16T05:43:55.272409Z",
     "iopub.status.idle": "2022-07-16T05:43:55.284387Z",
     "shell.execute_reply": "2022-07-16T05:43:55.284859Z",
     "shell.execute_reply.started": "2022-07-15T18:18:29.062877Z"
    },
    "papermill": {
     "duration": 0.052125,
     "end_time": "2022-07-16T05:43:55.285039",
     "exception": false,
     "start_time": "2022-07-16T05:43:55.232914",
     "status": "completed"
    },
    "tags": []
   },
   "outputs": [
    {
     "data": {
      "text/html": [
       "<div>\n",
       "<style scoped>\n",
       "    .dataframe tbody tr th:only-of-type {\n",
       "        vertical-align: middle;\n",
       "    }\n",
       "\n",
       "    .dataframe tbody tr th {\n",
       "        vertical-align: top;\n",
       "    }\n",
       "\n",
       "    .dataframe thead th {\n",
       "        text-align: right;\n",
       "    }\n",
       "</style>\n",
       "<table border=\"1\" class=\"dataframe\">\n",
       "  <thead>\n",
       "    <tr style=\"text-align: right;\">\n",
       "      <th></th>\n",
       "      <th>discourse_id</th>\n",
       "      <th>essay_id</th>\n",
       "      <th>discourse_text</th>\n",
       "      <th>discourse_type</th>\n",
       "      <th>discourse_effectiveness</th>\n",
       "    </tr>\n",
       "  </thead>\n",
       "  <tbody>\n",
       "    <tr>\n",
       "      <th>36760</th>\n",
       "      <td>9f63b687e76a</td>\n",
       "      <td>FFA381E58FC6</td>\n",
       "      <td>For many people they don't like only asking on...</td>\n",
       "      <td>Claim</td>\n",
       "      <td>Adequate</td>\n",
       "    </tr>\n",
       "    <tr>\n",
       "      <th>36761</th>\n",
       "      <td>9d5bd7d86212</td>\n",
       "      <td>FFA381E58FC6</td>\n",
       "      <td>also people have different views and opinions ...</td>\n",
       "      <td>Claim</td>\n",
       "      <td>Adequate</td>\n",
       "    </tr>\n",
       "    <tr>\n",
       "      <th>36762</th>\n",
       "      <td>f1b78becd573</td>\n",
       "      <td>FFA381E58FC6</td>\n",
       "      <td>Advice is something that can impact a persons ...</td>\n",
       "      <td>Position</td>\n",
       "      <td>Adequate</td>\n",
       "    </tr>\n",
       "    <tr>\n",
       "      <th>36763</th>\n",
       "      <td>cc184624ca8e</td>\n",
       "      <td>FFA381E58FC6</td>\n",
       "      <td>someone can use everything that many people sa...</td>\n",
       "      <td>Evidence</td>\n",
       "      <td>Ineffective</td>\n",
       "    </tr>\n",
       "    <tr>\n",
       "      <th>36764</th>\n",
       "      <td>c8a973681feb</td>\n",
       "      <td>FFA381E58FC6</td>\n",
       "      <td>In conclusion asking for an opinion can be ben...</td>\n",
       "      <td>Concluding Statement</td>\n",
       "      <td>Ineffective</td>\n",
       "    </tr>\n",
       "  </tbody>\n",
       "</table>\n",
       "</div>"
      ],
      "text/plain": [
       "       discourse_id      essay_id  \\\n",
       "36760  9f63b687e76a  FFA381E58FC6   \n",
       "36761  9d5bd7d86212  FFA381E58FC6   \n",
       "36762  f1b78becd573  FFA381E58FC6   \n",
       "36763  cc184624ca8e  FFA381E58FC6   \n",
       "36764  c8a973681feb  FFA381E58FC6   \n",
       "\n",
       "                                          discourse_text  \\\n",
       "36760  For many people they don't like only asking on...   \n",
       "36761  also people have different views and opinions ...   \n",
       "36762  Advice is something that can impact a persons ...   \n",
       "36763  someone can use everything that many people sa...   \n",
       "36764  In conclusion asking for an opinion can be ben...   \n",
       "\n",
       "             discourse_type discourse_effectiveness  \n",
       "36760                 Claim                Adequate  \n",
       "36761                 Claim                Adequate  \n",
       "36762              Position                Adequate  \n",
       "36763              Evidence             Ineffective  \n",
       "36764  Concluding Statement             Ineffective  "
      ]
     },
     "execution_count": 10,
     "metadata": {},
     "output_type": "execute_result"
    }
   ],
   "source": [
    "train_df.tail()"
   ]
  },
  {
   "cell_type": "code",
   "execution_count": 11,
   "id": "c0c19d25",
   "metadata": {
    "execution": {
     "iopub.execute_input": "2022-07-16T05:43:55.362450Z",
     "iopub.status.busy": "2022-07-16T05:43:55.361418Z",
     "iopub.status.idle": "2022-07-16T05:43:55.375702Z",
     "shell.execute_reply": "2022-07-16T05:43:55.376149Z",
     "shell.execute_reply.started": "2022-07-15T18:18:29.086874Z"
    },
    "papermill": {
     "duration": 0.054468,
     "end_time": "2022-07-16T05:43:55.376318",
     "exception": false,
     "start_time": "2022-07-16T05:43:55.321850",
     "status": "completed"
    },
    "tags": []
   },
   "outputs": [
    {
     "data": {
      "text/html": [
       "<div>\n",
       "<style scoped>\n",
       "    .dataframe tbody tr th:only-of-type {\n",
       "        vertical-align: middle;\n",
       "    }\n",
       "\n",
       "    .dataframe tbody tr th {\n",
       "        vertical-align: top;\n",
       "    }\n",
       "\n",
       "    .dataframe thead th {\n",
       "        text-align: right;\n",
       "    }\n",
       "</style>\n",
       "<table border=\"1\" class=\"dataframe\">\n",
       "  <thead>\n",
       "    <tr style=\"text-align: right;\">\n",
       "      <th></th>\n",
       "      <th>discourse_text</th>\n",
       "      <th>discourse_effectiveness</th>\n",
       "    </tr>\n",
       "  </thead>\n",
       "  <tbody>\n",
       "    <tr>\n",
       "      <th>0</th>\n",
       "      <td>Hi, i'm Isaac, i'm going to be writing about h...</td>\n",
       "      <td>Adequate</td>\n",
       "    </tr>\n",
       "  </tbody>\n",
       "</table>\n",
       "</div>"
      ],
      "text/plain": [
       "                                      discourse_text discourse_effectiveness\n",
       "0  Hi, i'm Isaac, i'm going to be writing about h...                Adequate"
      ]
     },
     "execution_count": 11,
     "metadata": {},
     "output_type": "execute_result"
    }
   ],
   "source": [
    "train_df=train_df.drop(columns=['discourse_id','essay_id','discourse_type'],axis=1)\n",
    "train_df.head(1)"
   ]
  },
  {
   "cell_type": "code",
   "execution_count": 12,
   "id": "131144c2",
   "metadata": {
    "execution": {
     "iopub.execute_input": "2022-07-16T05:43:55.456373Z",
     "iopub.status.busy": "2022-07-16T05:43:55.455374Z",
     "iopub.status.idle": "2022-07-16T05:43:55.469347Z",
     "shell.execute_reply": "2022-07-16T05:43:55.469807Z",
     "shell.execute_reply.started": "2022-07-15T18:18:29.11158Z"
    },
    "papermill": {
     "duration": 0.055477,
     "end_time": "2022-07-16T05:43:55.469977",
     "exception": false,
     "start_time": "2022-07-16T05:43:55.414500",
     "status": "completed"
    },
    "tags": []
   },
   "outputs": [
    {
     "data": {
      "text/plain": [
       "Adequate       20977\n",
       "Effective       9326\n",
       "Ineffective     6462\n",
       "Name: discourse_effectiveness, dtype: int64"
      ]
     },
     "execution_count": 12,
     "metadata": {},
     "output_type": "execute_result"
    }
   ],
   "source": [
    "train_df['discourse_effectiveness'].value_counts()"
   ]
  },
  {
   "cell_type": "code",
   "execution_count": 13,
   "id": "3def1997",
   "metadata": {
    "execution": {
     "iopub.execute_input": "2022-07-16T05:43:55.556224Z",
     "iopub.status.busy": "2022-07-16T05:43:55.555542Z",
     "iopub.status.idle": "2022-07-16T05:43:55.564532Z",
     "shell.execute_reply": "2022-07-16T05:43:55.565032Z",
     "shell.execute_reply.started": "2022-07-15T18:18:29.133032Z"
    },
    "papermill": {
     "duration": 0.057274,
     "end_time": "2022-07-16T05:43:55.565200",
     "exception": false,
     "start_time": "2022-07-16T05:43:55.507926",
     "status": "completed"
    },
    "tags": []
   },
   "outputs": [
    {
     "data": {
      "text/plain": [
       "1    20977\n",
       "2     9326\n",
       "0     6462\n",
       "Name: discourse_effectiveness, dtype: int64"
      ]
     },
     "execution_count": 13,
     "metadata": {},
     "output_type": "execute_result"
    }
   ],
   "source": [
    "train_df['discourse_effectiveness']=train_df['discourse_effectiveness'].map({'Ineffective':0,'Adequate':1,'Effective':2})\n",
    "train_df['discourse_effectiveness'].value_counts()"
   ]
  },
  {
   "cell_type": "code",
   "execution_count": 14,
   "id": "162071d1",
   "metadata": {
    "execution": {
     "iopub.execute_input": "2022-07-16T05:43:55.644874Z",
     "iopub.status.busy": "2022-07-16T05:43:55.644184Z",
     "iopub.status.idle": "2022-07-16T05:43:55.647336Z",
     "shell.execute_reply": "2022-07-16T05:43:55.647932Z",
     "shell.execute_reply.started": "2022-07-15T18:18:29.167798Z"
    },
    "papermill": {
     "duration": 0.044902,
     "end_time": "2022-07-16T05:43:55.648104",
     "exception": false,
     "start_time": "2022-07-16T05:43:55.603202",
     "status": "completed"
    },
    "tags": []
   },
   "outputs": [],
   "source": [
    "import warnings\n",
    "warnings.filterwarnings('ignore')"
   ]
  },
  {
   "cell_type": "code",
   "execution_count": 15,
   "id": "d5410b89",
   "metadata": {
    "execution": {
     "iopub.execute_input": "2022-07-16T05:43:55.727140Z",
     "iopub.status.busy": "2022-07-16T05:43:55.726467Z",
     "iopub.status.idle": "2022-07-16T05:44:16.869530Z",
     "shell.execute_reply": "2022-07-16T05:44:16.870058Z",
     "shell.execute_reply.started": "2022-07-15T18:18:29.173405Z"
    },
    "papermill": {
     "duration": 21.184065,
     "end_time": "2022-07-16T05:44:16.870234",
     "exception": false,
     "start_time": "2022-07-16T05:43:55.686169",
     "status": "completed"
    },
    "tags": []
   },
   "outputs": [
    {
     "name": "stderr",
     "output_type": "stream",
     "text": [
      "2022-07-16 05:43:56.880166: W tensorflow/stream_executor/platform/default/dso_loader.cc:60] Could not load dynamic library 'libcudart.so.11.0'; dlerror: libcudart.so.11.0: cannot open shared object file: No such file or directory; LD_LIBRARY_PATH: /opt/conda/lib\n",
      "2022-07-16 05:43:56.880287: I tensorflow/stream_executor/cuda/cudart_stub.cc:29] Ignore above cudart dlerror if you do not have a GPU set up on your machine.\n"
     ]
    },
    {
     "data": {
      "application/vnd.jupyter.widget-view+json": {
       "model_id": "0368571cf3e743a8b4fedcccbcf9e0a7",
       "version_major": 2,
       "version_minor": 0
      },
      "text/plain": [
       "Downloading:   0%|          | 0.00/232k [00:00<?, ?B/s]"
      ]
     },
     "metadata": {},
     "output_type": "display_data"
    },
    {
     "data": {
      "application/vnd.jupyter.widget-view+json": {
       "model_id": "9e1bf4f8f2a54e3dbcdc9434511e88ef",
       "version_major": 2,
       "version_minor": 0
      },
      "text/plain": [
       "Downloading:   0%|          | 0.00/28.0 [00:00<?, ?B/s]"
      ]
     },
     "metadata": {},
     "output_type": "display_data"
    },
    {
     "data": {
      "application/vnd.jupyter.widget-view+json": {
       "model_id": "a6f80e78eeb04c13b21e2afdb3e6b1df",
       "version_major": 2,
       "version_minor": 0
      },
      "text/plain": [
       "Downloading:   0%|          | 0.00/466k [00:00<?, ?B/s]"
      ]
     },
     "metadata": {},
     "output_type": "display_data"
    },
    {
     "data": {
      "application/vnd.jupyter.widget-view+json": {
       "model_id": "ee4dcf5b88e949b0adba1967d4da79b6",
       "version_major": 2,
       "version_minor": 0
      },
      "text/plain": [
       "Downloading:   0%|          | 0.00/483 [00:00<?, ?B/s]"
      ]
     },
     "metadata": {},
     "output_type": "display_data"
    },
    {
     "data": {
      "application/vnd.jupyter.widget-view+json": {
       "model_id": "3a24af643aaf4cbb90f659c063695296",
       "version_major": 2,
       "version_minor": 0
      },
      "text/plain": [
       "Downloading:   0%|          | 0.00/363M [00:00<?, ?B/s]"
      ]
     },
     "metadata": {},
     "output_type": "display_data"
    },
    {
     "name": "stderr",
     "output_type": "stream",
     "text": [
      "2022-07-16 05:44:13.728291: I tensorflow/compiler/jit/xla_cpu_device.cc:41] Not creating XLA devices, tf_xla_enable_xla_devices not set\n",
      "2022-07-16 05:44:13.731335: W tensorflow/stream_executor/platform/default/dso_loader.cc:60] Could not load dynamic library 'libcuda.so.1'; dlerror: libcuda.so.1: cannot open shared object file: No such file or directory; LD_LIBRARY_PATH: /opt/conda/lib\n",
      "2022-07-16 05:44:13.731378: W tensorflow/stream_executor/cuda/cuda_driver.cc:326] failed call to cuInit: UNKNOWN ERROR (303)\n",
      "2022-07-16 05:44:13.731406: I tensorflow/stream_executor/cuda/cuda_diagnostics.cc:156] kernel driver does not appear to be running on this host (74965335de11): /proc/driver/nvidia/version does not exist\n",
      "2022-07-16 05:44:13.732607: I tensorflow/core/platform/cpu_feature_guard.cc:142] This TensorFlow binary is optimized with oneAPI Deep Neural Network Library (oneDNN) to use the following CPU instructions in performance-critical operations:  AVX2 FMA\n",
      "To enable them in other operations, rebuild TensorFlow with the appropriate compiler flags.\n",
      "2022-07-16 05:44:13.732981: I tensorflow/compiler/jit/xla_gpu_device.cc:99] Not creating XLA devices, tf_xla_enable_xla_devices not set\n",
      "2022-07-16 05:44:13.770447: W tensorflow/python/util/util.cc:348] Sets are not currently considered sequences, but this may change in the future, so consider avoiding using them.\n",
      "Some layers from the model checkpoint at distilbert-base-uncased were not used when initializing TFDistilBertModel: ['vocab_projector', 'activation_13', 'vocab_layer_norm', 'vocab_transform']\n",
      "- This IS expected if you are initializing TFDistilBertModel from the checkpoint of a model trained on another task or with another architecture (e.g. initializing a BertForSequenceClassification model from a BertForPreTraining model).\n",
      "- This IS NOT expected if you are initializing TFDistilBertModel from the checkpoint of a model that you expect to be exactly identical (initializing a BertForSequenceClassification model from a BertForSequenceClassification model).\n",
      "All the layers of TFDistilBertModel were initialized from the model checkpoint at distilbert-base-uncased.\n",
      "If your task is similar to the task the model of the checkpoint was trained on, you can already use TFDistilBertModel for predictions without further training.\n"
     ]
    }
   ],
   "source": [
    "import transformers\n",
    "from transformers import DistilBertTokenizer, TFDistilBertModel\n",
    "tokenizer = DistilBertTokenizer.from_pretrained('distilbert-base-uncased')\n",
    "bert= TFDistilBertModel.from_pretrained(\"distilbert-base-uncased\")"
   ]
  },
  {
   "cell_type": "code",
   "execution_count": 16,
   "id": "1d292277",
   "metadata": {
    "execution": {
     "iopub.execute_input": "2022-07-16T05:44:16.984090Z",
     "iopub.status.busy": "2022-07-16T05:44:16.963063Z",
     "iopub.status.idle": "2022-07-16T05:44:17.088599Z",
     "shell.execute_reply": "2022-07-16T05:44:17.089103Z",
     "shell.execute_reply.started": "2022-07-15T18:18:51.69093Z"
    },
    "papermill": {
     "duration": 0.176092,
     "end_time": "2022-07-16T05:44:17.089285",
     "exception": false,
     "start_time": "2022-07-16T05:44:16.913193",
     "status": "completed"
    },
    "tags": []
   },
   "outputs": [
    {
     "name": "stdout",
     "output_type": "stream",
     "text": [
      "max length of word 836\n"
     ]
    }
   ],
   "source": [
    "print('max length of word',max([len(x.split()) for x in train_df['discourse_text']]))"
   ]
  },
  {
   "cell_type": "code",
   "execution_count": 17,
   "id": "22b354c2",
   "metadata": {
    "execution": {
     "iopub.execute_input": "2022-07-16T05:44:17.209322Z",
     "iopub.status.busy": "2022-07-16T05:44:17.175140Z",
     "iopub.status.idle": "2022-07-16T05:44:17.324373Z",
     "shell.execute_reply": "2022-07-16T05:44:17.324881Z",
     "shell.execute_reply.started": "2022-07-15T18:18:51.829117Z"
    },
    "papermill": {
     "duration": 0.194293,
     "end_time": "2022-07-16T05:44:17.325082",
     "exception": false,
     "start_time": "2022-07-16T05:44:17.130789",
     "status": "completed"
    },
    "tags": []
   },
   "outputs": [
    {
     "data": {
      "text/plain": [
       "44.65407316741466"
      ]
     },
     "execution_count": 17,
     "metadata": {},
     "output_type": "execute_result"
    }
   ],
   "source": [
    "train_df['discourse_text'].apply(lambda x: len(x.split())).mean()"
   ]
  },
  {
   "cell_type": "code",
   "execution_count": 18,
   "id": "c944a359",
   "metadata": {
    "execution": {
     "iopub.execute_input": "2022-07-16T05:44:17.418419Z",
     "iopub.status.busy": "2022-07-16T05:44:17.417547Z",
     "iopub.status.idle": "2022-07-16T05:44:17.421365Z",
     "shell.execute_reply": "2022-07-16T05:44:17.421880Z",
     "shell.execute_reply.started": "2022-07-15T18:18:51.983967Z"
    },
    "papermill": {
     "duration": 0.05456,
     "end_time": "2022-07-16T05:44:17.422054",
     "exception": false,
     "start_time": "2022-07-16T05:44:17.367494",
     "status": "completed"
    },
    "tags": []
   },
   "outputs": [],
   "source": [
    "max_length=50"
   ]
  },
  {
   "cell_type": "code",
   "execution_count": 19,
   "id": "4bce426d",
   "metadata": {
    "execution": {
     "iopub.execute_input": "2022-07-16T05:44:17.514144Z",
     "iopub.status.busy": "2022-07-16T05:44:17.513389Z",
     "iopub.status.idle": "2022-07-16T05:44:17.518431Z",
     "shell.execute_reply": "2022-07-16T05:44:17.518895Z",
     "shell.execute_reply.started": "2022-07-15T18:18:51.991064Z"
    },
    "papermill": {
     "duration": 0.053497,
     "end_time": "2022-07-16T05:44:17.519065",
     "exception": false,
     "start_time": "2022-07-16T05:44:17.465568",
     "status": "completed"
    },
    "tags": []
   },
   "outputs": [
    {
     "data": {
      "text/plain": [
       "<transformers.models.distilbert.modeling_tf_distilbert.TFDistilBertModel at 0x7fa6b5beec90>"
      ]
     },
     "execution_count": 19,
     "metadata": {},
     "output_type": "execute_result"
    }
   ],
   "source": [
    "bert"
   ]
  },
  {
   "cell_type": "code",
   "execution_count": 20,
   "id": "e2f0154f",
   "metadata": {
    "execution": {
     "iopub.execute_input": "2022-07-16T05:44:17.613965Z",
     "iopub.status.busy": "2022-07-16T05:44:17.613302Z",
     "iopub.status.idle": "2022-07-16T05:44:17.616436Z",
     "shell.execute_reply": "2022-07-16T05:44:17.616950Z",
     "shell.execute_reply.started": "2022-07-15T18:18:52.004552Z"
    },
    "papermill": {
     "duration": 0.054216,
     "end_time": "2022-07-16T05:44:17.617120",
     "exception": false,
     "start_time": "2022-07-16T05:44:17.562904",
     "status": "completed"
    },
    "tags": []
   },
   "outputs": [
    {
     "data": {
      "text/plain": [
       "PreTrainedTokenizer(name_or_path='distilbert-base-uncased', vocab_size=30522, model_max_len=512, is_fast=False, padding_side='right', special_tokens={'unk_token': '[UNK]', 'sep_token': '[SEP]', 'pad_token': '[PAD]', 'cls_token': '[CLS]', 'mask_token': '[MASK]'})"
      ]
     },
     "execution_count": 20,
     "metadata": {},
     "output_type": "execute_result"
    }
   ],
   "source": [
    "tokenizer"
   ]
  },
  {
   "cell_type": "code",
   "execution_count": 21,
   "id": "47d25b2f",
   "metadata": {
    "execution": {
     "iopub.execute_input": "2022-07-16T05:44:17.706259Z",
     "iopub.status.busy": "2022-07-16T05:44:17.705595Z",
     "iopub.status.idle": "2022-07-16T05:44:17.712726Z",
     "shell.execute_reply": "2022-07-16T05:44:17.713251Z",
     "shell.execute_reply.started": "2022-07-15T18:18:52.021647Z"
    },
    "papermill": {
     "duration": 0.053798,
     "end_time": "2022-07-16T05:44:17.713425",
     "exception": false,
     "start_time": "2022-07-16T05:44:17.659627",
     "status": "completed"
    },
    "tags": []
   },
   "outputs": [
    {
     "data": {
      "text/plain": [
       "{'input_ids': [101, 1045, 2293, 3336, 102], 'attention_mask': [1, 1, 1, 1, 1]}"
      ]
     },
     "execution_count": 21,
     "metadata": {},
     "output_type": "execute_result"
    }
   ],
   "source": [
    "tokenizer('i love baby')"
   ]
  },
  {
   "cell_type": "code",
   "execution_count": 22,
   "id": "e18d4d07",
   "metadata": {
    "execution": {
     "iopub.execute_input": "2022-07-16T05:44:17.839151Z",
     "iopub.status.busy": "2022-07-16T05:44:17.838074Z",
     "iopub.status.idle": "2022-07-16T05:45:17.221040Z",
     "shell.execute_reply": "2022-07-16T05:45:17.220452Z",
     "shell.execute_reply.started": "2022-07-15T18:18:52.038644Z"
    },
    "papermill": {
     "duration": 59.449057,
     "end_time": "2022-07-16T05:45:17.221207",
     "exception": false,
     "start_time": "2022-07-16T05:44:17.772150",
     "status": "completed"
    },
    "tags": []
   },
   "outputs": [],
   "source": [
    "x_train=tokenizer(\n",
    "      \n",
    "    text=train_df['discourse_text'].tolist(),\n",
    "    add_special_tokens=True,\n",
    "    max_length=max_length,\n",
    "    truncation=True,\n",
    "    padding=True,\n",
    "    return_tensors='tf',\n",
    "    return_attention_mask=False,\n",
    "    verbose=True\n",
    "    \n",
    "    )"
   ]
  },
  {
   "cell_type": "code",
   "execution_count": 23,
   "id": "bdd26d31",
   "metadata": {
    "execution": {
     "iopub.execute_input": "2022-07-16T05:45:17.312458Z",
     "iopub.status.busy": "2022-07-16T05:45:17.311743Z",
     "iopub.status.idle": "2022-07-16T05:45:17.318189Z",
     "shell.execute_reply": "2022-07-16T05:45:17.318718Z",
     "shell.execute_reply.started": "2022-07-15T18:19:51.826404Z"
    },
    "papermill": {
     "duration": 0.054415,
     "end_time": "2022-07-16T05:45:17.318894",
     "exception": false,
     "start_time": "2022-07-16T05:45:17.264479",
     "status": "completed"
    },
    "tags": []
   },
   "outputs": [
    {
     "data": {
      "text/plain": [
       "{'input_ids': <tf.Tensor: shape=(36765, 50), dtype=int32, numpy=\n",
       "array([[ 101, 7632, 1010, ..., 7733, 1998,  102],\n",
       "       [ 101, 2006, 2026, ..., 1037, 3019,  102],\n",
       "       [ 101, 1045, 2228, ...,    0,    0,    0],\n",
       "       ...,\n",
       "       [ 101, 6040, 2003, ...,    0,    0,    0],\n",
       "       [ 101, 2619, 2064, ..., 2027, 2215,  102],\n",
       "       [ 101, 1999, 7091, ...,    0,    0,    0]], dtype=int32)>}"
      ]
     },
     "execution_count": 23,
     "metadata": {},
     "output_type": "execute_result"
    }
   ],
   "source": [
    "x_train"
   ]
  },
  {
   "cell_type": "code",
   "execution_count": 24,
   "id": "f82b0507",
   "metadata": {
    "execution": {
     "iopub.execute_input": "2022-07-16T05:45:17.408815Z",
     "iopub.status.busy": "2022-07-16T05:45:17.408202Z",
     "iopub.status.idle": "2022-07-16T05:45:17.411711Z",
     "shell.execute_reply": "2022-07-16T05:45:17.412216Z",
     "shell.execute_reply.started": "2022-07-15T18:19:51.835917Z"
    },
    "papermill": {
     "duration": 0.049455,
     "end_time": "2022-07-16T05:45:17.412386",
     "exception": false,
     "start_time": "2022-07-16T05:45:17.362931",
     "status": "completed"
    },
    "tags": []
   },
   "outputs": [],
   "source": [
    "import tensorflow as tf\n",
    "from tensorflow.keras import Model,layers,optimizers,callbacks,losses,metrics,utils"
   ]
  },
  {
   "cell_type": "code",
   "execution_count": 25,
   "id": "97e6d479",
   "metadata": {
    "execution": {
     "iopub.execute_input": "2022-07-16T05:45:17.502472Z",
     "iopub.status.busy": "2022-07-16T05:45:17.501832Z",
     "iopub.status.idle": "2022-07-16T05:45:23.344248Z",
     "shell.execute_reply": "2022-07-16T05:45:23.343623Z",
     "shell.execute_reply.started": "2022-07-15T18:19:51.854183Z"
    },
    "papermill": {
     "duration": 5.888974,
     "end_time": "2022-07-16T05:45:23.344462",
     "exception": false,
     "start_time": "2022-07-16T05:45:17.455488",
     "status": "completed"
    },
    "tags": []
   },
   "outputs": [],
   "source": [
    "input_ids=layers.Input(shape=(max_length,),dtype=tf.int32,name='input_ids')\n",
    "embedding=bert(input_ids)[0]"
   ]
  },
  {
   "cell_type": "code",
   "execution_count": 26,
   "id": "399e9ff5",
   "metadata": {
    "execution": {
     "iopub.execute_input": "2022-07-16T05:45:23.445001Z",
     "iopub.status.busy": "2022-07-16T05:45:23.441528Z",
     "iopub.status.idle": "2022-07-16T05:45:23.453112Z",
     "shell.execute_reply": "2022-07-16T05:45:23.453577Z",
     "shell.execute_reply.started": "2022-07-15T18:19:57.877827Z"
    },
    "papermill": {
     "duration": 0.06214,
     "end_time": "2022-07-16T05:45:23.453769",
     "exception": false,
     "start_time": "2022-07-16T05:45:23.391629",
     "status": "completed"
    },
    "tags": []
   },
   "outputs": [
    {
     "data": {
      "text/plain": [
       "<KerasTensor: shape=(50, 768) dtype=float32 (created by layer 'tf.__operators__.getitem')>"
      ]
     },
     "execution_count": 26,
     "metadata": {},
     "output_type": "execute_result"
    }
   ],
   "source": [
    "embedding[0]"
   ]
  },
  {
   "cell_type": "code",
   "execution_count": 27,
   "id": "c320f143",
   "metadata": {
    "execution": {
     "iopub.execute_input": "2022-07-16T05:45:23.555945Z",
     "iopub.status.busy": "2022-07-16T05:45:23.555180Z",
     "iopub.status.idle": "2022-07-16T05:45:23.605345Z",
     "shell.execute_reply": "2022-07-16T05:45:23.604743Z",
     "shell.execute_reply.started": "2022-07-15T18:19:57.892242Z"
    },
    "papermill": {
     "duration": 0.105921,
     "end_time": "2022-07-16T05:45:23.605484",
     "exception": false,
     "start_time": "2022-07-16T05:45:23.499563",
     "status": "completed"
    },
    "tags": []
   },
   "outputs": [],
   "source": [
    "out=layers.GlobalMaxPool1D()(embedding)\n",
    "out=layers.Dropout(0.1)(out)\n",
    "out=layers.Dense(399,activation='relu')(out)\n",
    "\n",
    "out=layers.Dropout(0.15)(out)\n",
    "out=layers.Dense(67,activation='relu')(out)\n",
    "out=layers.Dense(17,activation='relu')(out)\n",
    "y=layers.Dense(3,activation='softmax')(out)\n",
    "\n",
    "nn=Model(inputs=[input_ids],outputs=y)\n",
    "nn.layers[1].trainable=True\n",
    "optimizer=optimizers.Adam(learning_rate = 2e-5)"
   ]
  },
  {
   "cell_type": "code",
   "execution_count": 28,
   "id": "51dfebd8",
   "metadata": {
    "execution": {
     "iopub.execute_input": "2022-07-16T05:45:23.707481Z",
     "iopub.status.busy": "2022-07-16T05:45:23.706799Z",
     "iopub.status.idle": "2022-07-16T05:45:23.712403Z",
     "shell.execute_reply": "2022-07-16T05:45:23.712884Z",
     "shell.execute_reply.started": "2022-07-15T18:19:57.9518Z"
    },
    "papermill": {
     "duration": 0.063396,
     "end_time": "2022-07-16T05:45:23.713056",
     "exception": false,
     "start_time": "2022-07-16T05:45:23.649660",
     "status": "completed"
    },
    "tags": []
   },
   "outputs": [
    {
     "name": "stdout",
     "output_type": "stream",
     "text": [
      "Model: \"model\"\n",
      "_________________________________________________________________\n",
      "Layer (type)                 Output Shape              Param #   \n",
      "=================================================================\n",
      "input_ids (InputLayer)       [(None, 50)]              0         \n",
      "_________________________________________________________________\n",
      "tf_distil_bert_model (TFDist TFBaseModelOutput(last_hi 66362880  \n",
      "_________________________________________________________________\n",
      "global_max_pooling1d (Global (None, 768)               0         \n",
      "_________________________________________________________________\n",
      "dropout_19 (Dropout)         (None, 768)               0         \n",
      "_________________________________________________________________\n",
      "dense (Dense)                (None, 399)               306831    \n",
      "_________________________________________________________________\n",
      "dropout_20 (Dropout)         (None, 399)               0         \n",
      "_________________________________________________________________\n",
      "dense_1 (Dense)              (None, 67)                26800     \n",
      "_________________________________________________________________\n",
      "dense_2 (Dense)              (None, 17)                1156      \n",
      "_________________________________________________________________\n",
      "dense_3 (Dense)              (None, 3)                 54        \n",
      "=================================================================\n",
      "Total params: 66,697,721\n",
      "Trainable params: 66,697,721\n",
      "Non-trainable params: 0\n",
      "_________________________________________________________________\n"
     ]
    }
   ],
   "source": [
    "nn.summary()"
   ]
  },
  {
   "cell_type": "code",
   "execution_count": 29,
   "id": "4f417083",
   "metadata": {
    "execution": {
     "iopub.execute_input": "2022-07-16T05:45:23.806744Z",
     "iopub.status.busy": "2022-07-16T05:45:23.806113Z",
     "iopub.status.idle": "2022-07-16T05:45:23.813524Z",
     "shell.execute_reply": "2022-07-16T05:45:23.814114Z",
     "shell.execute_reply.started": "2022-07-15T18:19:57.973131Z"
    },
    "papermill": {
     "duration": 0.05532,
     "end_time": "2022-07-16T05:45:23.814304",
     "exception": false,
     "start_time": "2022-07-16T05:45:23.758984",
     "status": "completed"
    },
    "tags": []
   },
   "outputs": [
    {
     "data": {
      "text/plain": [
       "0        1\n",
       "1        1\n",
       "2        1\n",
       "3        1\n",
       "4        1\n",
       "        ..\n",
       "36760    1\n",
       "36761    1\n",
       "36762    1\n",
       "36763    0\n",
       "36764    0\n",
       "Name: discourse_effectiveness, Length: 36765, dtype: int64"
      ]
     },
     "execution_count": 29,
     "metadata": {},
     "output_type": "execute_result"
    }
   ],
   "source": [
    "y_train=train_df['discourse_effectiveness']\n",
    "y_train"
   ]
  },
  {
   "cell_type": "code",
   "execution_count": 30,
   "id": "aa43acd0",
   "metadata": {
    "execution": {
     "iopub.execute_input": "2022-07-16T05:45:23.910120Z",
     "iopub.status.busy": "2022-07-16T05:45:23.909443Z",
     "iopub.status.idle": "2022-07-16T05:45:23.915809Z",
     "shell.execute_reply": "2022-07-16T05:45:23.916341Z",
     "shell.execute_reply.started": "2022-07-15T18:19:57.984015Z"
    },
    "papermill": {
     "duration": 0.056843,
     "end_time": "2022-07-16T05:45:23.916504",
     "exception": false,
     "start_time": "2022-07-16T05:45:23.859661",
     "status": "completed"
    },
    "tags": []
   },
   "outputs": [
    {
     "data": {
      "text/plain": [
       "1    20977\n",
       "2     9326\n",
       "0     6462\n",
       "Name: discourse_effectiveness, dtype: int64"
      ]
     },
     "execution_count": 30,
     "metadata": {},
     "output_type": "execute_result"
    }
   ],
   "source": [
    "y_train.value_counts()"
   ]
  },
  {
   "cell_type": "code",
   "execution_count": 31,
   "id": "e153eaa2",
   "metadata": {
    "execution": {
     "iopub.execute_input": "2022-07-16T05:45:24.016717Z",
     "iopub.status.busy": "2022-07-16T05:45:24.015976Z",
     "iopub.status.idle": "2022-07-16T05:45:25.437404Z",
     "shell.execute_reply": "2022-07-16T05:45:25.438084Z",
     "shell.execute_reply.started": "2022-07-15T18:19:57.997506Z"
    },
    "papermill": {
     "duration": 1.473048,
     "end_time": "2022-07-16T05:45:25.438277",
     "exception": false,
     "start_time": "2022-07-16T05:45:23.965229",
     "status": "completed"
    },
    "tags": []
   },
   "outputs": [
    {
     "data": {
      "image/png": "[encoded data removed]",
      "text/plain": [
       "<IPython.core.display.Image object>"
      ]
     },
     "execution_count": 31,
     "metadata": {},
     "output_type": "execute_result"
    }
   ],
   "source": [
    "utils.plot_model(nn,show_shapes=True)"
   ]
  },
  {
   "cell_type": "code",
   "execution_count": 32,
   "id": "a33414dc",
   "metadata": {
    "execution": {
     "iopub.execute_input": "2022-07-16T05:45:25.545918Z",
     "iopub.status.busy": "2022-07-16T05:45:25.545211Z",
     "iopub.status.idle": "2022-07-16T06:53:27.245116Z",
     "shell.execute_reply": "2022-07-16T06:53:27.244290Z",
     "shell.execute_reply.started": "2022-07-15T18:20:33.873913Z"
    },
    "papermill": {
     "duration": 4081.754203,
     "end_time": "2022-07-16T06:53:27.245323",
     "exception": false,
     "start_time": "2022-07-16T05:45:25.491120",
     "status": "completed"
    },
    "tags": []
   },
   "outputs": [
    {
     "name": "stderr",
     "output_type": "stream",
     "text": [
      "2022-07-16 05:45:25.643214: I tensorflow/compiler/mlir/mlir_graph_optimization_pass.cc:116] None of the MLIR optimization passes are enabled (registered 2)\n",
      "2022-07-16 05:45:25.653763: I tensorflow/core/platform/profile_utils/cpu_utils.cc:112] CPU Frequency: 2199995000 Hz\n"
     ]
    },
    {
     "name": "stdout",
     "output_type": "stream",
     "text": [
      "654/654 [==============================] - 4081s 6s/step - loss: 0.8826 - accuracy: 0.6098 - val_loss: 0.8137 - val_accuracy: 0.6297\n"
     ]
    },
    {
     "data": {
      "text/plain": [
       "<tensorflow.python.keras.callbacks.History at 0x7fa6922a9750>"
      ]
     },
     "execution_count": 32,
     "metadata": {},
     "output_type": "execute_result"
    }
   ],
   "source": [
    "nn.compile(optimizer=optimizer,loss='sparse_categorical_crossentropy',metrics=['accuracy'])\n",
    "nn.fit(\n",
    "\n",
    "    x={'input_ids':x_train['input_ids']},\n",
    "    y=y_train,\n",
    "    validation_split=0.20,\n",
    "    epochs=1,\n",
    "    batch_size=45\n",
    "\n",
    ")"
   ]
  },
  {
   "cell_type": "markdown",
   "id": "4adf9597",
   "metadata": {
    "papermill": {
     "duration": 0.24635,
     "end_time": "2022-07-16T06:53:27.741785",
     "exception": false,
     "start_time": "2022-07-16T06:53:27.495435",
     "status": "completed"
    },
    "tags": []
   },
   "source": [
    "# Working with test data"
   ]
  },
  {
   "cell_type": "code",
   "execution_count": 33,
   "id": "dd1f7703",
   "metadata": {
    "execution": {
     "iopub.execute_input": "2022-07-16T06:53:28.238212Z",
     "iopub.status.busy": "2022-07-16T06:53:28.237519Z",
     "iopub.status.idle": "2022-07-16T06:53:28.249909Z",
     "shell.execute_reply": "2022-07-16T06:53:28.250483Z",
     "shell.execute_reply.started": "2022-07-15T19:33:30.195388Z"
    },
    "papermill": {
     "duration": 0.261669,
     "end_time": "2022-07-16T06:53:28.250655",
     "exception": false,
     "start_time": "2022-07-16T06:53:27.988986",
     "status": "completed"
    },
    "tags": []
   },
   "outputs": [
    {
     "data": {
      "text/html": [
       "<div>\n",
       "<style scoped>\n",
       "    .dataframe tbody tr th:only-of-type {\n",
       "        vertical-align: middle;\n",
       "    }\n",
       "\n",
       "    .dataframe tbody tr th {\n",
       "        vertical-align: top;\n",
       "    }\n",
       "\n",
       "    .dataframe thead th {\n",
       "        text-align: right;\n",
       "    }\n",
       "</style>\n",
       "<table border=\"1\" class=\"dataframe\">\n",
       "  <thead>\n",
       "    <tr style=\"text-align: right;\">\n",
       "      <th></th>\n",
       "      <th>discourse_text</th>\n",
       "    </tr>\n",
       "  </thead>\n",
       "  <tbody>\n",
       "    <tr>\n",
       "      <th>0</th>\n",
       "      <td>Making choices in life can be very difficult. ...</td>\n",
       "    </tr>\n",
       "    <tr>\n",
       "      <th>1</th>\n",
       "      <td>Seeking multiple opinions can help a person ma...</td>\n",
       "    </tr>\n",
       "    <tr>\n",
       "      <th>2</th>\n",
       "      <td>it can decrease stress levels</td>\n",
       "    </tr>\n",
       "    <tr>\n",
       "      <th>3</th>\n",
       "      <td>a great chance to learn something new</td>\n",
       "    </tr>\n",
       "    <tr>\n",
       "      <th>4</th>\n",
       "      <td>can be very helpful and beneficial.</td>\n",
       "    </tr>\n",
       "  </tbody>\n",
       "</table>\n",
       "</div>"
      ],
      "text/plain": [
       "                                      discourse_text\n",
       "0  Making choices in life can be very difficult. ...\n",
       "1  Seeking multiple opinions can help a person ma...\n",
       "2                     it can decrease stress levels \n",
       "3             a great chance to learn something new \n",
       "4               can be very helpful and beneficial. "
      ]
     },
     "execution_count": 33,
     "metadata": {},
     "output_type": "execute_result"
    }
   ],
   "source": [
    "test_df=test_df.drop(columns=['discourse_id','essay_id','discourse_type'],axis=1)\n",
    "test_df.head()"
   ]
  },
  {
   "cell_type": "code",
   "execution_count": 34,
   "id": "da23b8ea",
   "metadata": {
    "execution": {
     "iopub.execute_input": "2022-07-16T06:53:28.744474Z",
     "iopub.status.busy": "2022-07-16T06:53:28.743810Z",
     "iopub.status.idle": "2022-07-16T06:53:28.765506Z",
     "shell.execute_reply": "2022-07-16T06:53:28.766050Z",
     "shell.execute_reply.started": "2022-07-15T19:33:42.390398Z"
    },
    "papermill": {
     "duration": 0.270092,
     "end_time": "2022-07-16T06:53:28.766230",
     "exception": false,
     "start_time": "2022-07-16T06:53:28.496138",
     "status": "completed"
    },
    "tags": []
   },
   "outputs": [],
   "source": [
    "x_test=tokenizer(\n",
    "\n",
    "    text=test_df['discourse_text'].tolist(),\n",
    "    add_special_tokens=True,\n",
    "    max_length=max_length,\n",
    "    truncation=True,\n",
    "    padding=True,\n",
    "    return_tensors='tf',\n",
    "    return_attention_mask=False,\n",
    "    verbose=True\n",
    "\n",
    "\n",
    ")"
   ]
  },
  {
   "cell_type": "code",
   "execution_count": 35,
   "id": "08ee9e67",
   "metadata": {
    "execution": {
     "iopub.execute_input": "2022-07-16T06:53:29.265461Z",
     "iopub.status.busy": "2022-07-16T06:53:29.264810Z",
     "iopub.status.idle": "2022-07-16T06:53:29.272560Z",
     "shell.execute_reply": "2022-07-16T06:53:29.273108Z",
     "shell.execute_reply.started": "2022-07-15T19:33:45.5449Z"
    },
    "papermill": {
     "duration": 0.257929,
     "end_time": "2022-07-16T06:53:29.273295",
     "exception": false,
     "start_time": "2022-07-16T06:53:29.015366",
     "status": "completed"
    },
    "tags": []
   },
   "outputs": [
    {
     "data": {
      "text/plain": [
       "{'input_ids': <tf.Tensor: shape=(10, 50), dtype=int32, numpy=\n",
       "array([[  101,  2437,  9804,  1999,  2166,  2064,  2022,  2200,  3697,\n",
       "         1012,  2111,  2411,  3198,  2005,  6040,  2043,  2027,  2064,\n",
       "         2025,  5630,  2006,  2028,  2518,  1012,  2009,  1005,  1055,\n",
       "         2467,  2204,  2000,  3198,  2500,  2005,  2037,  6040,  2043,\n",
       "         2437,  1037,  3601,  1012,  2043,  2017,  2031,  3674, 10740,\n",
       "         2017,  2031,  1996,  3754,   102],\n",
       "       [  101,  6224,  3674, 10740,  2064,  2393,  1037,  2711,  2191,\n",
       "         1037,  2488,  3601,   102,     0,     0,     0,     0,     0,\n",
       "            0,     0,     0,     0,     0,     0,     0,     0,     0,\n",
       "            0,     0,     0,     0,     0,     0,     0,     0,     0,\n",
       "            0,     0,     0,     0,     0,     0,     0,     0,     0,\n",
       "            0,     0,     0,     0,     0],\n",
       "       [  101,  2009,  2064,  9885,  6911,  3798,   102,     0,     0,\n",
       "            0,     0,     0,     0,     0,     0,     0,     0,     0,\n",
       "            0,     0,     0,     0,     0,     0,     0,     0,     0,\n",
       "            0,     0,     0,     0,     0,     0,     0,     0,     0,\n",
       "            0,     0,     0,     0,     0,     0,     0,     0,     0,\n",
       "            0,     0,     0,     0,     0],\n",
       "       [  101,  1037,  2307,  3382,  2000,  4553,  2242,  2047,   102,\n",
       "            0,     0,     0,     0,     0,     0,     0,     0,     0,\n",
       "            0,     0,     0,     0,     0,     0,     0,     0,     0,\n",
       "            0,     0,     0,     0,     0,     0,     0,     0,     0,\n",
       "            0,     0,     0,     0,     0,     0,     0,     0,     0,\n",
       "            0,     0,     0,     0,     0],\n",
       "       [  101,  2064,  2022,  2200, 14044,  1998, 15189,  1012,   102,\n",
       "            0,     0,     0,     0,     0,     0,     0,     0,     0,\n",
       "            0,     0,     0,     0,     0,     0,     0,     0,     0,\n",
       "            0,     0,     0,     0,     0,     0,     0,     0,     0,\n",
       "            0,     0,     0,     0,     0,     0,     0,     0,     0,\n",
       "            0,     0,     0,     0,     0],\n",
       "       [  101,  2043,  2437,  1037,  3247,  2045,  2003,  1037,  3382,\n",
       "         2008,  2017,  2064,  2468,  2200, 13233,  1998, 13394,  1012,\n",
       "         2108, 13233,  2064,  3426,  1037,  2711,  2000,  2507,  2039,\n",
       "         2006,  2054,  2027,  2024,  2725,  1012,  2383,  3674, 10740,\n",
       "         2013,  2111,  2064,  2191, 10549,  2019,  5724,  2625,  3697,\n",
       "         1998,  2062,  6082,  1012,   102],\n",
       "       [  101,  3071,  2003,  2367,  1998,  2089,  2031,  2062,  3325,\n",
       "         2084,  2017,  1012,  6224,  2060,  7243,  5448,  2064,  3426,\n",
       "         2017,  2000,  5114,  1037,  2047,  8066,  2030, 10800,  1012,\n",
       "         2005,  2742,  1010,  2619,  2015,  6040,  2071,  6570,  2017,\n",
       "         2129,  2000,  2079,  2242,  1996,  6149,  2126,  1012,  2116,\n",
       "         2111,  2024,  2200,  2367,   102],\n",
       "       [  101,  6224,  2500,  5448,  2064,  2022,  2200, 14044,  1998,\n",
       "        15189,  1012,   102,     0,     0,     0,     0,     0,     0,\n",
       "            0,     0,     0,     0,     0,     0,     0,     0,     0,\n",
       "            0,     0,     0,     0,     0,     0,     0,     0,     0,\n",
       "            0,     0,     0,     0,     0,     0,     0,     0,     0,\n",
       "            0,     0,     0,     0,     0],\n",
       "       [  101,  2635,  2060,  7243,  6040,  1998,  2725,  2054,  2027,\n",
       "         2360,  2089,  2599,  2000,  1037,  2307,  9560,  1012,  2043,\n",
       "         2017,  4374,  2060, 10740,  3251,  2027,  2024,  2204,  2030,\n",
       "         2919,  2017,  2097,  2022,  2583,  2000,  2298,  2012,  2068,\n",
       "         2013,  1037,  2367,  2391,  1997,  3193,  1012,  2005,  2742,\n",
       "         1010,  2043,  1037,  2177,   102],\n",
       "       [  101,  2017,  2064,  4553,  2013,  2500,  6322,  2011,  6224,\n",
       "         1996,  6040,  2008,  2619,  2507,  2017,  1012,  2437,  6567,\n",
       "         2064,  3426,  6911,  2006,  1037,  2711,  1012,  8800,  2000,\n",
       "         2619,  2015,  6040,  2089,  3020,  2115,  2969,  1011, 19593,\n",
       "         2138,  2017,  2053,  2936,  2514,  2187,  2041,  1012,  3198,\n",
       "         2500,  2005,  6040,  2043,   102]], dtype=int32)>}"
      ]
     },
     "execution_count": 35,
     "metadata": {},
     "output_type": "execute_result"
    }
   ],
   "source": [
    "x_test"
   ]
  },
  {
   "cell_type": "code",
   "execution_count": 36,
   "id": "55998408",
   "metadata": {
    "execution": {
     "iopub.execute_input": "2022-07-16T06:53:29.773786Z",
     "iopub.status.busy": "2022-07-16T06:53:29.773112Z",
     "iopub.status.idle": "2022-07-16T06:53:31.884328Z",
     "shell.execute_reply": "2022-07-16T06:53:31.883712Z",
     "shell.execute_reply.started": "2022-07-15T19:33:53.585372Z"
    },
    "papermill": {
     "duration": 2.362983,
     "end_time": "2022-07-16T06:53:31.884484",
     "exception": false,
     "start_time": "2022-07-16T06:53:29.521501",
     "status": "completed"
    },
    "tags": []
   },
   "outputs": [],
   "source": [
    "predicted=nn.predict({'input_ids':x_test['input_ids']})"
   ]
  },
  {
   "cell_type": "code",
   "execution_count": 37,
   "id": "60912e0e",
   "metadata": {
    "execution": {
     "iopub.execute_input": "2022-07-16T06:53:32.404150Z",
     "iopub.status.busy": "2022-07-16T06:53:32.402335Z",
     "iopub.status.idle": "2022-07-16T06:53:32.406793Z",
     "shell.execute_reply": "2022-07-16T06:53:32.407479Z",
     "shell.execute_reply.started": "2022-07-15T19:33:58.035565Z"
    },
    "papermill": {
     "duration": 0.268827,
     "end_time": "2022-07-16T06:53:32.407693",
     "exception": false,
     "start_time": "2022-07-16T06:53:32.138866",
     "status": "completed"
    },
    "tags": []
   },
   "outputs": [
    {
     "data": {
      "text/plain": [
       "array([[0.03303089, 0.35951263, 0.6074565 ],\n",
       "       [0.09733398, 0.6689368 , 0.23372927],\n",
       "       [0.08764511, 0.622518  , 0.28983685],\n",
       "       [0.08565562, 0.5963481 , 0.31799626],\n",
       "       [0.1172531 , 0.6995788 , 0.18316801],\n",
       "       [0.02915141, 0.29074872, 0.68009984],\n",
       "       [0.05031464, 0.4702964 , 0.47938898],\n",
       "       [0.14999941, 0.7229919 , 0.12700872],\n",
       "       [0.04978271, 0.40017754, 0.5500397 ],\n",
       "       [0.04916247, 0.4347753 , 0.5160623 ]], dtype=float32)"
      ]
     },
     "execution_count": 37,
     "metadata": {},
     "output_type": "execute_result"
    }
   ],
   "source": [
    "predicted"
   ]
  },
  {
   "cell_type": "code",
   "execution_count": 38,
   "id": "a399f470",
   "metadata": {
    "execution": {
     "iopub.execute_input": "2022-07-16T06:53:32.920696Z",
     "iopub.status.busy": "2022-07-16T06:53:32.911497Z",
     "iopub.status.idle": "2022-07-16T06:53:32.924237Z",
     "shell.execute_reply": "2022-07-16T06:53:32.924714Z",
     "shell.execute_reply.started": "2022-07-15T19:34:06.826037Z"
    },
    "papermill": {
     "duration": 0.267082,
     "end_time": "2022-07-16T06:53:32.924896",
     "exception": false,
     "start_time": "2022-07-16T06:53:32.657814",
     "status": "completed"
    },
    "tags": []
   },
   "outputs": [
    {
     "data": {
      "text/html": [
       "<div>\n",
       "<style scoped>\n",
       "    .dataframe tbody tr th:only-of-type {\n",
       "        vertical-align: middle;\n",
       "    }\n",
       "\n",
       "    .dataframe tbody tr th {\n",
       "        vertical-align: top;\n",
       "    }\n",
       "\n",
       "    .dataframe thead th {\n",
       "        text-align: right;\n",
       "    }\n",
       "</style>\n",
       "<table border=\"1\" class=\"dataframe\">\n",
       "  <thead>\n",
       "    <tr style=\"text-align: right;\">\n",
       "      <th></th>\n",
       "      <th>discourse_id</th>\n",
       "    </tr>\n",
       "  </thead>\n",
       "  <tbody>\n",
       "    <tr>\n",
       "      <th>0</th>\n",
       "      <td>a261b6e14276</td>\n",
       "    </tr>\n",
       "    <tr>\n",
       "      <th>1</th>\n",
       "      <td>5a88900e7dc1</td>\n",
       "    </tr>\n",
       "    <tr>\n",
       "      <th>2</th>\n",
       "      <td>9790d835736b</td>\n",
       "    </tr>\n",
       "    <tr>\n",
       "      <th>3</th>\n",
       "      <td>75ce6d68b67b</td>\n",
       "    </tr>\n",
       "    <tr>\n",
       "      <th>4</th>\n",
       "      <td>93578d946723</td>\n",
       "    </tr>\n",
       "    <tr>\n",
       "      <th>5</th>\n",
       "      <td>2e214524dbe3</td>\n",
       "    </tr>\n",
       "    <tr>\n",
       "      <th>6</th>\n",
       "      <td>84812fc2ab9f</td>\n",
       "    </tr>\n",
       "    <tr>\n",
       "      <th>7</th>\n",
       "      <td>c668ff840720</td>\n",
       "    </tr>\n",
       "    <tr>\n",
       "      <th>8</th>\n",
       "      <td>739a6d00f44a</td>\n",
       "    </tr>\n",
       "    <tr>\n",
       "      <th>9</th>\n",
       "      <td>bcfae2c9a244</td>\n",
       "    </tr>\n",
       "  </tbody>\n",
       "</table>\n",
       "</div>"
      ],
      "text/plain": [
       "   discourse_id\n",
       "0  a261b6e14276\n",
       "1  5a88900e7dc1\n",
       "2  9790d835736b\n",
       "3  75ce6d68b67b\n",
       "4  93578d946723\n",
       "5  2e214524dbe3\n",
       "6  84812fc2ab9f\n",
       "7  c668ff840720\n",
       "8  739a6d00f44a\n",
       "9  bcfae2c9a244"
      ]
     },
     "execution_count": 38,
     "metadata": {},
     "output_type": "execute_result"
    }
   ],
   "source": [
    "sub_df=sub_df.drop(columns=['Adequate','Ineffective','Effective'],axis=1)\n",
    "sub_df"
   ]
  },
  {
   "cell_type": "code",
   "execution_count": 39,
   "id": "1a471da3",
   "metadata": {
    "execution": {
     "iopub.execute_input": "2022-07-16T06:53:33.444209Z",
     "iopub.status.busy": "2022-07-16T06:53:33.443074Z",
     "iopub.status.idle": "2022-07-16T06:53:33.457616Z",
     "shell.execute_reply": "2022-07-16T06:53:33.457019Z",
     "shell.execute_reply.started": "2022-07-15T19:34:15.696772Z"
    },
    "papermill": {
     "duration": 0.282125,
     "end_time": "2022-07-16T06:53:33.457816",
     "exception": false,
     "start_time": "2022-07-16T06:53:33.175691",
     "status": "completed"
    },
    "tags": []
   },
   "outputs": [
    {
     "data": {
      "text/html": [
       "<div>\n",
       "<style scoped>\n",
       "    .dataframe tbody tr th:only-of-type {\n",
       "        vertical-align: middle;\n",
       "    }\n",
       "\n",
       "    .dataframe tbody tr th {\n",
       "        vertical-align: top;\n",
       "    }\n",
       "\n",
       "    .dataframe thead th {\n",
       "        text-align: right;\n",
       "    }\n",
       "</style>\n",
       "<table border=\"1\" class=\"dataframe\">\n",
       "  <thead>\n",
       "    <tr style=\"text-align: right;\">\n",
       "      <th></th>\n",
       "      <th>discourse_id</th>\n",
       "      <th>Ineffective</th>\n",
       "      <th>Adequate</th>\n",
       "      <th>Effective</th>\n",
       "    </tr>\n",
       "  </thead>\n",
       "  <tbody>\n",
       "    <tr>\n",
       "      <th>0</th>\n",
       "      <td>a261b6e14276</td>\n",
       "      <td>0.033031</td>\n",
       "      <td>0.359513</td>\n",
       "      <td>0.607457</td>\n",
       "    </tr>\n",
       "    <tr>\n",
       "      <th>1</th>\n",
       "      <td>5a88900e7dc1</td>\n",
       "      <td>0.097334</td>\n",
       "      <td>0.668937</td>\n",
       "      <td>0.233729</td>\n",
       "    </tr>\n",
       "    <tr>\n",
       "      <th>2</th>\n",
       "      <td>9790d835736b</td>\n",
       "      <td>0.087645</td>\n",
       "      <td>0.622518</td>\n",
       "      <td>0.289837</td>\n",
       "    </tr>\n",
       "    <tr>\n",
       "      <th>3</th>\n",
       "      <td>75ce6d68b67b</td>\n",
       "      <td>0.085656</td>\n",
       "      <td>0.596348</td>\n",
       "      <td>0.317996</td>\n",
       "    </tr>\n",
       "    <tr>\n",
       "      <th>4</th>\n",
       "      <td>93578d946723</td>\n",
       "      <td>0.117253</td>\n",
       "      <td>0.699579</td>\n",
       "      <td>0.183168</td>\n",
       "    </tr>\n",
       "    <tr>\n",
       "      <th>5</th>\n",
       "      <td>2e214524dbe3</td>\n",
       "      <td>0.029151</td>\n",
       "      <td>0.290749</td>\n",
       "      <td>0.680100</td>\n",
       "    </tr>\n",
       "    <tr>\n",
       "      <th>6</th>\n",
       "      <td>84812fc2ab9f</td>\n",
       "      <td>0.050315</td>\n",
       "      <td>0.470296</td>\n",
       "      <td>0.479389</td>\n",
       "    </tr>\n",
       "    <tr>\n",
       "      <th>7</th>\n",
       "      <td>c668ff840720</td>\n",
       "      <td>0.149999</td>\n",
       "      <td>0.722992</td>\n",
       "      <td>0.127009</td>\n",
       "    </tr>\n",
       "    <tr>\n",
       "      <th>8</th>\n",
       "      <td>739a6d00f44a</td>\n",
       "      <td>0.049783</td>\n",
       "      <td>0.400178</td>\n",
       "      <td>0.550040</td>\n",
       "    </tr>\n",
       "    <tr>\n",
       "      <th>9</th>\n",
       "      <td>bcfae2c9a244</td>\n",
       "      <td>0.049162</td>\n",
       "      <td>0.434775</td>\n",
       "      <td>0.516062</td>\n",
       "    </tr>\n",
       "  </tbody>\n",
       "</table>\n",
       "</div>"
      ],
      "text/plain": [
       "   discourse_id  Ineffective  Adequate  Effective\n",
       "0  a261b6e14276     0.033031  0.359513   0.607457\n",
       "1  5a88900e7dc1     0.097334  0.668937   0.233729\n",
       "2  9790d835736b     0.087645  0.622518   0.289837\n",
       "3  75ce6d68b67b     0.085656  0.596348   0.317996\n",
       "4  93578d946723     0.117253  0.699579   0.183168\n",
       "5  2e214524dbe3     0.029151  0.290749   0.680100\n",
       "6  84812fc2ab9f     0.050315  0.470296   0.479389\n",
       "7  c668ff840720     0.149999  0.722992   0.127009\n",
       "8  739a6d00f44a     0.049783  0.400178   0.550040\n",
       "9  bcfae2c9a244     0.049162  0.434775   0.516062"
      ]
     },
     "execution_count": 39,
     "metadata": {},
     "output_type": "execute_result"
    }
   ],
   "source": [
    "sub_df['Ineffective'] = predicted[:,0]\n",
    "sub_df['Adequate'] = predicted[:,1]\n",
    "sub_df['Effective'] = predicted[:,2]\n",
    "sub_df"
   ]
  },
  {
   "cell_type": "code",
   "execution_count": 40,
   "id": "e1080635",
   "metadata": {
    "execution": {
     "iopub.execute_input": "2022-07-16T06:53:33.966256Z",
     "iopub.status.busy": "2022-07-16T06:53:33.965081Z",
     "iopub.status.idle": "2022-07-16T06:53:33.973473Z",
     "shell.execute_reply": "2022-07-16T06:53:33.973986Z",
     "shell.execute_reply.started": "2022-07-15T19:34:39.856194Z"
    },
    "papermill": {
     "duration": 0.261803,
     "end_time": "2022-07-16T06:53:33.974177",
     "exception": false,
     "start_time": "2022-07-16T06:53:33.712374",
     "status": "completed"
    },
    "tags": []
   },
   "outputs": [],
   "source": [
    "sub_df.to_csv('feedback_prize_1.csv',index=None)"
   ]
  },
  {
   "cell_type": "code",
   "execution_count": null,
   "id": "069b42a7",
   "metadata": {
    "papermill": {
     "duration": 0.265722,
     "end_time": "2022-07-16T06:53:34.490565",
     "exception": false,
     "start_time": "2022-07-16T06:53:34.224843",
     "status": "completed"
    },
    "tags": []
   },
   "outputs": [],
   "source": []
  }
 ],
 "metadata": {
  "kernelspec": {
   "display_name": "Python 3",
   "language": "python",
   "name": "python3"
  },
  "language_info": {
   "codemirror_mode": {
    "name": "ipython",
    "version": 3
   },
   "file_extension": ".py",
   "mimetype": "text/x-python",
   "name": "python",
   "nbconvert_exporter": "python",
   "pygments_lexer": "ipython3",
   "version": "3.7.10"
  },
  "papermill": {
   "default_parameters": {},
   "duration": 4192.515527,
   "end_time": "2022-07-16T06:53:38.252362",
   "environment_variables": {},
   "exception": null,
   "input_path": "__notebook__.ipynb",
   "output_path": "__notebook__.ipynb",
   "parameters": {},
   "start_time": "2022-07-16T05:43:45.736835",
   "version": "2.3.3"
  },
  "widgets": {
   "application/vnd.jupyter.widget-state+json": {
    "state": {
     "0368571cf3e743a8b4fedcccbcf9e0a7": {
      "model_module": "@jupyter-widgets/controls",
      "model_module_version": "1.5.0",
      "model_name": "HBoxModel",
      "state": {
       "_dom_classes": [],
       "_model_module": "@jupyter-widgets/controls",
       "_model_module_version": "1.5.0",
       "_model_name": "HBoxModel",
       "_view_count": null,
       "_view_module": "@jupyter-widgets/controls",
       "_view_module_version": "1.5.0",
       "_view_name": "HBoxView",
       "box_style": "",
       "children": [
        "IPY_MODEL_684be9626d044d988a3f622c9aed646d",
        "IPY_MODEL_acb2ecce4ca1419bbc5f4b299479aa05",
        "IPY_MODEL_a877681810aa442a8de11184d75bd624"
       ],
       "layout": "IPY_MODEL_a2db62bbcccb42e6ab0adce57eb0c3b5"
      }
     },
     "12014133320847f388da86d948e62ab6": {
      "model_module": "@jupyter-widgets/controls",
      "model_module_version": "1.5.0",
      "model_name": "DescriptionStyleModel",
      "state": {
       "_model_module": "@jupyter-widgets/controls",
       "_model_module_version": "1.5.0",
       "_model_name": "DescriptionStyleModel",
       "_view_count": null,
       "_view_module": "@jupyter-widgets/base",
       "_view_module_version": "1.2.0",
       "_view_name": "StyleView",
       "description_width": ""
      }
     },
     "14559b529e1e469082daa4fe423f53fa": {
      "model_module": "@jupyter-widgets/base",
      "model_module_version": "1.2.0",
      "model_name": "LayoutModel",
      "state": {
       "_model_module": "@jupyter-widgets/base",
       "_model_module_version": "1.2.0",
       "_model_name": "LayoutModel",
       "_view_count": null,
       "_view_module": "@jupyter-widgets/base",
       "_view_module_version": "1.2.0",
       "_view_name": "LayoutView",
       "align_content": null,
       "align_items": null,
       "align_self": null,
       "border": null,
       "bottom": null,
       "display": null,
       "flex": null,
       "flex_flow": null,
       "grid_area": null,
       "grid_auto_columns": null,
       "grid_auto_flow": null,
       "grid_auto_rows": null,
       "grid_column": null,
       "grid_gap": null,
       "grid_row": null,
       "grid_template_areas": null,
       "grid_template_columns": null,
       "grid_template_rows": null,
       "height": null,
       "justify_content": null,
       "justify_items": null,
       "left": null,
       "margin": null,
       "max_height": null,
       "max_width": null,
       "min_height": null,
       "min_width": null,
       "object_fit": null,
       "object_position": null,
       "order": null,
       "overflow": null,
       "overflow_x": null,
       "overflow_y": null,
       "padding": null,
       "right": null,
       "top": null,
       "visibility": null,
       "width": null
      }
     },
     "14b246ecbc7848bbac2bc3a3cb4167e5": {
      "model_module": "@jupyter-widgets/base",
      "model_module_version": "1.2.0",
      "model_name": "LayoutModel",
      "state": {
       "_model_module": "@jupyter-widgets/base",
       "_model_module_version": "1.2.0",
       "_model_name": "LayoutModel",
       "_view_count": null,
       "_view_module": "@jupyter-widgets/base",
       "_view_module_version": "1.2.0",
       "_view_name": "LayoutView",
       "align_content": null,
       "align_items": null,
       "align_self": null,
       "border": null,
       "bottom": null,
       "display": null,
       "flex": null,
       "flex_flow": null,
       "grid_area": null,
       "grid_auto_columns": null,
       "grid_auto_flow": null,
       "grid_auto_rows": null,
       "grid_column": null,
       "grid_gap": null,
       "grid_row": null,
       "grid_template_areas": null,
       "grid_template_columns": null,
       "grid_template_rows": null,
       "height": null,
       "justify_content": null,
       "justify_items": null,
       "left": null,
       "margin": null,
       "max_height": null,
       "max_width": null,
       "min_height": null,
       "min_width": null,
       "object_fit": null,
       "object_position": null,
       "order": null,
       "overflow": null,
       "overflow_x": null,
       "overflow_y": null,
       "padding": null,
       "right": null,
       "top": null,
       "visibility": null,
       "width": null
      }
     },
     "167df45e50a74a63ab72486544edb7b6": {
      "model_module": "@jupyter-widgets/base",
      "model_module_version": "1.2.0",
      "model_name": "LayoutModel",
      "state": {
       "_model_module": "@jupyter-widgets/base",
       "_model_module_version": "1.2.0",
       "_model_name": "LayoutModel",
       "_view_count": null,
       "_view_module": "@jupyter-widgets/base",
       "_view_module_version": "1.2.0",
       "_view_name": "LayoutView",
       "align_content": null,
       "align_items": null,
       "align_self": null,
       "border": null,
       "bottom": null,
       "display": null,
       "flex": null,
       "flex_flow": null,
       "grid_area": null,
       "grid_auto_columns": null,
       "grid_auto_flow": null,
       "grid_auto_rows": null,
       "grid_column": null,
       "grid_gap": null,
       "grid_row": null,
       "grid_template_areas": null,
       "grid_template_columns": null,
       "grid_template_rows": null,
       "height": null,
       "justify_content": null,
       "justify_items": null,
       "left": null,
       "margin": null,
       "max_height": null,
       "max_width": null,
       "min_height": null,
       "min_width": null,
       "object_fit": null,
       "object_position": null,
       "order": null,
       "overflow": null,
       "overflow_x": null,
       "overflow_y": null,
       "padding": null,
       "right": null,
       "top": null,
       "visibility": null,
       "width": null
      }
     },
     "17518a85605f4f36b14d8ff2dde488f5": {
      "model_module": "@jupyter-widgets/base",
      "model_module_version": "1.2.0",
      "model_name": "LayoutModel",
      "state": {
       "_model_module": "@jupyter-widgets/base",
       "_model_module_version": "1.2.0",
       "_model_name": "LayoutModel",
       "_view_count": null,
       "_view_module": "@jupyter-widgets/base",
       "_view_module_version": "1.2.0",
       "_view_name": "LayoutView",
       "align_content": null,
       "align_items": null,
       "align_self": null,
       "border": null,
       "bottom": null,
       "display": null,
       "flex": null,
       "flex_flow": null,
       "grid_area": null,
       "grid_auto_columns": null,
       "grid_auto_flow": null,
       "grid_auto_rows": null,
       "grid_column": null,
       "grid_gap": null,
       "grid_row": null,
       "grid_template_areas": null,
       "grid_template_columns": null,
       "grid_template_rows": null,
       "height": null,
       "justify_content": null,
       "justify_items": null,
       "left": null,
       "margin": null,
       "max_height": null,
       "max_width": null,
       "min_height": null,
       "min_width": null,
       "object_fit": null,
       "object_position": null,
       "order": null,
       "overflow": null,
       "overflow_x": null,
       "overflow_y": null,
       "padding": null,
       "right": null,
       "top": null,
       "visibility": null,
       "width": null
      }
     },
     "1a39c8368ee148c6af59d40b830287af": {
      "model_module": "@jupyter-widgets/controls",
      "model_module_version": "1.5.0",
      "model_name": "HTMLModel",
      "state": {
       "_dom_classes": [],
       "_model_module": "@jupyter-widgets/controls",
       "_model_module_version": "1.5.0",
       "_model_name": "HTMLModel",
       "_view_count": null,
       "_view_module": "@jupyter-widgets/controls",
       "_view_module_version": "1.5.0",
       "_view_name": "HTMLView",
       "description": "",
       "description_tooltip": null,
       "layout": "IPY_MODEL_f3ab0583ec6d497dbb579defca49bf4a",
       "placeholder": "​",
       "style": "IPY_MODEL_67b2a2cfa78046d689f7a58bdb475ec2",
       "value": "Downloading: 100%"
      }
     },
     "1cd3808f5919498ba97c5f5ae6ad2d2a": {
      "model_module": "@jupyter-widgets/base",
      "model_module_version": "1.2.0",
      "model_name": "LayoutModel",
      "state": {
       "_model_module": "@jupyter-widgets/base",
       "_model_module_version": "1.2.0",
       "_model_name": "LayoutModel",
       "_view_count": null,
       "_view_module": "@jupyter-widgets/base",
       "_view_module_version": "1.2.0",
       "_view_name": "LayoutView",
       "align_content": null,
       "align_items": null,
       "align_self": null,
       "border": null,
       "bottom": null,
       "display": null,
       "flex": null,
       "flex_flow": null,
       "grid_area": null,
       "grid_auto_columns": null,
       "grid_auto_flow": null,
       "grid_auto_rows": null,
       "grid_column": null,
       "grid_gap": null,
       "grid_row": null,
       "grid_template_areas": null,
       "grid_template_columns": null,
       "grid_template_rows": null,
       "height": null,
       "justify_content": null,
       "justify_items": null,
       "left": null,
       "margin": null,
       "max_height": null,
       "max_width": null,
       "min_height": null,
       "min_width": null,
       "object_fit": null,
       "object_position": null,
       "order": null,
       "overflow": null,
       "overflow_x": null,
       "overflow_y": null,
       "padding": null,
       "right": null,
       "top": null,
       "visibility": null,
       "width": null
      }
     },
     "2a0a8486ada34865b900bca77f9a6c73": {
      "model_module": "@jupyter-widgets/controls",
      "model_module_version": "1.5.0",
      "model_name": "ProgressStyleModel",
      "state": {
       "_model_module": "@jupyter-widgets/controls",
       "_model_module_version": "1.5.0",
       "_model_name": "ProgressStyleModel",
       "_view_count": null,
       "_view_module": "@jupyter-widgets/base",
       "_view_module_version": "1.2.0",
       "_view_name": "StyleView",
       "bar_color": null,
       "description_width": ""
      }
     },
     "2e04e64e30184ecab590fdec58577a9a": {
      "model_module": "@jupyter-widgets/controls",
      "model_module_version": "1.5.0",
      "model_name": "HTMLModel",
      "state": {
       "_dom_classes": [],
       "_model_module": "@jupyter-widgets/controls",
       "_model_module_version": "1.5.0",
       "_model_name": "HTMLModel",
       "_view_count": null,
       "_view_module": "@jupyter-widgets/controls",
       "_view_module_version": "1.5.0",
       "_view_name": "HTMLView",
       "description": "",
       "description_tooltip": null,
       "layout": "IPY_MODEL_e2f619dc7f88453a949b5543049738a0",
       "placeholder": "​",
       "style": "IPY_MODEL_87fae111fd4a4d268b082037a01046e0",
       "value": "Downloading: 100%"
      }
     },
     "328a9bb9222447738856aff2536d1073": {
      "model_module": "@jupyter-widgets/base",
      "model_module_version": "1.2.0",
      "model_name": "LayoutModel",
      "state": {
       "_model_module": "@jupyter-widgets/base",
       "_model_module_version": "1.2.0",
       "_model_name": "LayoutModel",
       "_view_count": null,
       "_view_module": "@jupyter-widgets/base",
       "_view_module_version": "1.2.0",
       "_view_name": "LayoutView",
       "align_content": null,
       "align_items": null,
       "align_self": null,
       "border": null,
       "bottom": null,
       "display": null,
       "flex": null,
       "flex_flow": null,
       "grid_area": null,
       "grid_auto_columns": null,
       "grid_auto_flow": null,
       "grid_auto_rows": null,
       "grid_column": null,
       "grid_gap": null,
       "grid_row": null,
       "grid_template_areas": null,
       "grid_template_columns": null,
       "grid_template_rows": null,
       "height": null,
       "justify_content": null,
       "justify_items": null,
       "left": null,
       "margin": null,
       "max_height": null,
       "max_width": null,
       "min_height": null,
       "min_width": null,
       "object_fit": null,
       "object_position": null,
       "order": null,
       "overflow": null,
       "overflow_x": null,
       "overflow_y": null,
       "padding": null,
       "right": null,
       "top": null,
       "visibility": null,
       "width": null
      }
     },
     "3a24af643aaf4cbb90f659c063695296": {
      "model_module": "@jupyter-widgets/controls",
      "model_module_version": "1.5.0",
      "model_name": "HBoxModel",
      "state": {
       "_dom_classes": [],
       "_model_module": "@jupyter-widgets/controls",
       "_model_module_version": "1.5.0",
       "_model_name": "HBoxModel",
       "_view_count": null,
       "_view_module": "@jupyter-widgets/controls",
       "_view_module_version": "1.5.0",
       "_view_name": "HBoxView",
       "box_style": "",
       "children": [
        "IPY_MODEL_2e04e64e30184ecab590fdec58577a9a",
        "IPY_MODEL_ad6a2f6547a04792b2ddb5293cd048f7",
        "IPY_MODEL_c1a74b921f334480892d3de5ec2fb90e"
       ],
       "layout": "IPY_MODEL_1cd3808f5919498ba97c5f5ae6ad2d2a"
      }
     },
     "3b1d0b967245469a988263067b2036f3": {
      "model_module": "@jupyter-widgets/controls",
      "model_module_version": "1.5.0",
      "model_name": "HTMLModel",
      "state": {
       "_dom_classes": [],
       "_model_module": "@jupyter-widgets/controls",
       "_model_module_version": "1.5.0",
       "_model_name": "HTMLModel",
       "_view_count": null,
       "_view_module": "@jupyter-widgets/controls",
       "_view_module_version": "1.5.0",
       "_view_name": "HTMLView",
       "description": "",
       "description_tooltip": null,
       "layout": "IPY_MODEL_508f6000cf054fbda4d73be6e3ce0c33",
       "placeholder": "​",
       "style": "IPY_MODEL_ae9174fe2c3543aaad453251668ddfea",
       "value": "Downloading: 100%"
      }
     },
     "4e83feaa020d4d35aea39387dcbd1be3": {
      "model_module": "@jupyter-widgets/base",
      "model_module_version": "1.2.0",
      "model_name": "LayoutModel",
      "state": {
       "_model_module": "@jupyter-widgets/base",
       "_model_module_version": "1.2.0",
       "_model_name": "LayoutModel",
       "_view_count": null,
       "_view_module": "@jupyter-widgets/base",
       "_view_module_version": "1.2.0",
       "_view_name": "LayoutView",
       "align_content": null,
       "align_items": null,
       "align_self": null,
       "border": null,
       "bottom": null,
       "display": null,
       "flex": null,
       "flex_flow": null,
       "grid_area": null,
       "grid_auto_columns": null,
       "grid_auto_flow": null,
       "grid_auto_rows": null,
       "grid_column": null,
       "grid_gap": null,
       "grid_row": null,
       "grid_template_areas": null,
       "grid_template_columns": null,
       "grid_template_rows": null,
       "height": null,
       "justify_content": null,
       "justify_items": null,
       "left": null,
       "margin": null,
       "max_height": null,
       "max_width": null,
       "min_height": null,
       "min_width": null,
       "object_fit": null,
       "object_position": null,
       "order": null,
       "overflow": null,
       "overflow_x": null,
       "overflow_y": null,
       "padding": null,
       "right": null,
       "top": null,
       "visibility": null,
       "width": null
      }
     },
     "4ee540598a934edfa7269223cd0ff7a6": {
      "model_module": "@jupyter-widgets/controls",
      "model_module_version": "1.5.0",
      "model_name": "FloatProgressModel",
      "state": {
       "_dom_classes": [],
       "_model_module": "@jupyter-widgets/controls",
       "_model_module_version": "1.5.0",
       "_model_name": "FloatProgressModel",
       "_view_count": null,
       "_view_module": "@jupyter-widgets/controls",
       "_view_module_version": "1.5.0",
       "_view_name": "ProgressView",
       "bar_style": "success",
       "description": "",
       "description_tooltip": null,
       "layout": "IPY_MODEL_f930660e122049d9a29cfda60b68986c",
       "max": 466062.0,
       "min": 0.0,
       "orientation": "horizontal",
       "style": "IPY_MODEL_cf63215092e6400fb862b6d2b8b61cdf",
       "value": 466062.0
      }
     },
     "508f6000cf054fbda4d73be6e3ce0c33": {
      "model_module": "@jupyter-widgets/base",
      "model_module_version": "1.2.0",
      "model_name": "LayoutModel",
      "state": {
       "_model_module": "@jupyter-widgets/base",
       "_model_module_version": "1.2.0",
       "_model_name": "LayoutModel",
       "_view_count": null,
       "_view_module": "@jupyter-widgets/base",
       "_view_module_version": "1.2.0",
       "_view_name": "LayoutView",
       "align_content": null,
       "align_items": null,
       "align_self": null,
       "border": null,
       "bottom": null,
       "display": null,
       "flex": null,
       "flex_flow": null,
       "grid_area": null,
       "grid_auto_columns": null,
       "grid_auto_flow": null,
       "grid_auto_rows": null,
       "grid_column": null,
       "grid_gap": null,
       "grid_row": null,
       "grid_template_areas": null,
       "grid_template_columns": null,
       "grid_template_rows": null,
       "height": null,
       "justify_content": null,
       "justify_items": null,
       "left": null,
       "margin": null,
       "max_height": null,
       "max_width": null,
       "min_height": null,
       "min_width": null,
       "object_fit": null,
       "object_position": null,
       "order": null,
       "overflow": null,
       "overflow_x": null,
       "overflow_y": null,
       "padding": null,
       "right": null,
       "top": null,
       "visibility": null,
       "width": null
      }
     },
     "5763d1d7b846432ea677d9b7c9e18b73": {
      "model_module": "@jupyter-widgets/base",
      "model_module_version": "1.2.0",
      "model_name": "LayoutModel",
      "state": {
       "_model_module": "@jupyter-widgets/base",
       "_model_module_version": "1.2.0",
       "_model_name": "LayoutModel",
       "_view_count": null,
       "_view_module": "@jupyter-widgets/base",
       "_view_module_version": "1.2.0",
       "_view_name": "LayoutView",
       "align_content": null,
       "align_items": null,
       "align_self": null,
       "border": null,
       "bottom": null,
       "display": null,
       "flex": null,
       "flex_flow": null,
       "grid_area": null,
       "grid_auto_columns": null,
       "grid_auto_flow": null,
       "grid_auto_rows": null,
       "grid_column": null,
       "grid_gap": null,
       "grid_row": null,
       "grid_template_areas": null,
       "grid_template_columns": null,
       "grid_template_rows": null,
       "height": null,
       "justify_content": null,
       "justify_items": null,
       "left": null,
       "margin": null,
       "max_height": null,
       "max_width": null,
       "min_height": null,
       "min_width": null,
       "object_fit": null,
       "object_position": null,
       "order": null,
       "overflow": null,
       "overflow_x": null,
       "overflow_y": null,
       "padding": null,
       "right": null,
       "top": null,
       "visibility": null,
       "width": null
      }
     },
     "59fc5c43ca1b4293b484e035d854dcc4": {
      "model_module": "@jupyter-widgets/base",
      "model_module_version": "1.2.0",
      "model_name": "LayoutModel",
      "state": {
       "_model_module": "@jupyter-widgets/base",
       "_model_module_version": "1.2.0",
       "_model_name": "LayoutModel",
       "_view_count": null,
       "_view_module": "@jupyter-widgets/base",
       "_view_module_version": "1.2.0",
       "_view_name": "LayoutView",
       "align_content": null,
       "align_items": null,
       "align_self": null,
       "border": null,
       "bottom": null,
       "display": null,
       "flex": null,
       "flex_flow": null,
       "grid_area": null,
       "grid_auto_columns": null,
       "grid_auto_flow": null,
       "grid_auto_rows": null,
       "grid_column": null,
       "grid_gap": null,
       "grid_row": null,
       "grid_template_areas": null,
       "grid_template_columns": null,
       "grid_template_rows": null,
       "height": null,
       "justify_content": null,
       "justify_items": null,
       "left": null,
       "margin": null,
       "max_height": null,
       "max_width": null,
       "min_height": null,
       "min_width": null,
       "object_fit": null,
       "object_position": null,
       "order": null,
       "overflow": null,
       "overflow_x": null,
       "overflow_y": null,
       "padding": null,
       "right": null,
       "top": null,
       "visibility": null,
       "width": null
      }
     },
     "5cba4401d89a4755a59aa2ad38937051": {
      "model_module": "@jupyter-widgets/base",
      "model_module_version": "1.2.0",
      "model_name": "LayoutModel",
      "state": {
       "_model_module": "@jupyter-widgets/base",
       "_model_module_version": "1.2.0",
       "_model_name": "LayoutModel",
       "_view_count": null,
       "_view_module": "@jupyter-widgets/base",
       "_view_module_version": "1.2.0",
       "_view_name": "LayoutView",
       "align_content": null,
       "align_items": null,
       "align_self": null,
       "border": null,
       "bottom": null,
       "display": null,
       "flex": null,
       "flex_flow": null,
       "grid_area": null,
       "grid_auto_columns": null,
       "grid_auto_flow": null,
       "grid_auto_rows": null,
       "grid_column": null,
       "grid_gap": null,
       "grid_row": null,
       "grid_template_areas": null,
       "grid_template_columns": null,
       "grid_template_rows": null,
       "height": null,
       "justify_content": null,
       "justify_items": null,
       "left": null,
       "margin": null,
       "max_height": null,
       "max_width": null,
       "min_height": null,
       "min_width": null,
       "object_fit": null,
       "object_position": null,
       "order": null,
       "overflow": null,
       "overflow_x": null,
       "overflow_y": null,
       "padding": null,
       "right": null,
       "top": null,
       "visibility": null,
       "width": null
      }
     },
     "67b2a2cfa78046d689f7a58bdb475ec2": {
      "model_module": "@jupyter-widgets/controls",
      "model_module_version": "1.5.0",
      "model_name": "DescriptionStyleModel",
      "state": {
       "_model_module": "@jupyter-widgets/controls",
       "_model_module_version": "1.5.0",
       "_model_name": "DescriptionStyleModel",
       "_view_count": null,
       "_view_module": "@jupyter-widgets/base",
       "_view_module_version": "1.2.0",
       "_view_name": "StyleView",
       "description_width": ""
      }
     },
     "684be9626d044d988a3f622c9aed646d": {
      "model_module": "@jupyter-widgets/controls",
      "model_module_version": "1.5.0",
      "model_name": "HTMLModel",
      "state": {
       "_dom_classes": [],
       "_model_module": "@jupyter-widgets/controls",
       "_model_module_version": "1.5.0",
       "_model_name": "HTMLModel",
       "_view_count": null,
       "_view_module": "@jupyter-widgets/controls",
       "_view_module_version": "1.5.0",
       "_view_name": "HTMLView",
       "description": "",
       "description_tooltip": null,
       "layout": "IPY_MODEL_5763d1d7b846432ea677d9b7c9e18b73",
       "placeholder": "​",
       "style": "IPY_MODEL_f27ae1774c824337a968d9280db3980f",
       "value": "Downloading: 100%"
      }
     },
     "6cb8efdf703445c39bd3701933bb4ca2": {
      "model_module": "@jupyter-widgets/base",
      "model_module_version": "1.2.0",
      "model_name": "LayoutModel",
      "state": {
       "_model_module": "@jupyter-widgets/base",
       "_model_module_version": "1.2.0",
       "_model_name": "LayoutModel",
       "_view_count": null,
       "_view_module": "@jupyter-widgets/base",
       "_view_module_version": "1.2.0",
       "_view_name": "LayoutView",
       "align_content": null,
       "align_items": null,
       "align_self": null,
       "border": null,
       "bottom": null,
       "display": null,
       "flex": null,
       "flex_flow": null,
       "grid_area": null,
       "grid_auto_columns": null,
       "grid_auto_flow": null,
       "grid_auto_rows": null,
       "grid_column": null,
       "grid_gap": null,
       "grid_row": null,
       "grid_template_areas": null,
       "grid_template_columns": null,
       "grid_template_rows": null,
       "height": null,
       "justify_content": null,
       "justify_items": null,
       "left": null,
       "margin": null,
       "max_height": null,
       "max_width": null,
       "min_height": null,
       "min_width": null,
       "object_fit": null,
       "object_position": null,
       "order": null,
       "overflow": null,
       "overflow_x": null,
       "overflow_y": null,
       "padding": null,
       "right": null,
       "top": null,
       "visibility": null,
       "width": null
      }
     },
     "725b0b3922ad4124906198d4eb9ee7e8": {
      "model_module": "@jupyter-widgets/controls",
      "model_module_version": "1.5.0",
      "model_name": "DescriptionStyleModel",
      "state": {
       "_model_module": "@jupyter-widgets/controls",
       "_model_module_version": "1.5.0",
       "_model_name": "DescriptionStyleModel",
       "_view_count": null,
       "_view_module": "@jupyter-widgets/base",
       "_view_module_version": "1.2.0",
       "_view_name": "StyleView",
       "description_width": ""
      }
     },
     "75f39746b5c34d2c8b8b0c5e6f16150b": {
      "model_module": "@jupyter-widgets/controls",
      "model_module_version": "1.5.0",
      "model_name": "FloatProgressModel",
      "state": {
       "_dom_classes": [],
       "_model_module": "@jupyter-widgets/controls",
       "_model_module_version": "1.5.0",
       "_model_name": "FloatProgressModel",
       "_view_count": null,
       "_view_module": "@jupyter-widgets/controls",
       "_view_module_version": "1.5.0",
       "_view_name": "ProgressView",
       "bar_style": "success",
       "description": "",
       "description_tooltip": null,
       "layout": "IPY_MODEL_806187ea2b6e46359d797d4976a0e52d",
       "max": 483.0,
       "min": 0.0,
       "orientation": "horizontal",
       "style": "IPY_MODEL_e3b444c2fe634dcfb20a686d4496954d",
       "value": 483.0
      }
     },
     "7f1d72dff2af4348b087222adfb504f9": {
      "model_module": "@jupyter-widgets/controls",
      "model_module_version": "1.5.0",
      "model_name": "HTMLModel",
      "state": {
       "_dom_classes": [],
       "_model_module": "@jupyter-widgets/controls",
       "_model_module_version": "1.5.0",
       "_model_name": "HTMLModel",
       "_view_count": null,
       "_view_module": "@jupyter-widgets/controls",
       "_view_module_version": "1.5.0",
       "_view_name": "HTMLView",
       "description": "",
       "description_tooltip": null,
       "layout": "IPY_MODEL_5cba4401d89a4755a59aa2ad38937051",
       "placeholder": "​",
       "style": "IPY_MODEL_12014133320847f388da86d948e62ab6",
       "value": "Downloading: 100%"
      }
     },
     "806187ea2b6e46359d797d4976a0e52d": {
      "model_module": "@jupyter-widgets/base",
      "model_module_version": "1.2.0",
      "model_name": "LayoutModel",
      "state": {
       "_model_module": "@jupyter-widgets/base",
       "_model_module_version": "1.2.0",
       "_model_name": "LayoutModel",
       "_view_count": null,
       "_view_module": "@jupyter-widgets/base",
       "_view_module_version": "1.2.0",
       "_view_name": "LayoutView",
       "align_content": null,
       "align_items": null,
       "align_self": null,
       "border": null,
       "bottom": null,
       "display": null,
       "flex": null,
       "flex_flow": null,
       "grid_area": null,
       "grid_auto_columns": null,
       "grid_auto_flow": null,
       "grid_auto_rows": null,
       "grid_column": null,
       "grid_gap": null,
       "grid_row": null,
       "grid_template_areas": null,
       "grid_template_columns": null,
       "grid_template_rows": null,
       "height": null,
       "justify_content": null,
       "justify_items": null,
       "left": null,
       "margin": null,
       "max_height": null,
       "max_width": null,
       "min_height": null,
       "min_width": null,
       "object_fit": null,
       "object_position": null,
       "order": null,
       "overflow": null,
       "overflow_x": null,
       "overflow_y": null,
       "padding": null,
       "right": null,
       "top": null,
       "visibility": null,
       "width": null
      }
     },
     "83139c7a861343c79b15f3b76f3d8bd3": {
      "model_module": "@jupyter-widgets/controls",
      "model_module_version": "1.5.0",
      "model_name": "ProgressStyleModel",
      "state": {
       "_model_module": "@jupyter-widgets/controls",
       "_model_module_version": "1.5.0",
       "_model_name": "ProgressStyleModel",
       "_view_count": null,
       "_view_module": "@jupyter-widgets/base",
       "_view_module_version": "1.2.0",
       "_view_name": "StyleView",
       "bar_color": null,
       "description_width": ""
      }
     },
     "87fae111fd4a4d268b082037a01046e0": {
      "model_module": "@jupyter-widgets/controls",
      "model_module_version": "1.5.0",
      "model_name": "DescriptionStyleModel",
      "state": {
       "_model_module": "@jupyter-widgets/controls",
       "_model_module_version": "1.5.0",
       "_model_name": "DescriptionStyleModel",
       "_view_count": null,
       "_view_module": "@jupyter-widgets/base",
       "_view_module_version": "1.2.0",
       "_view_name": "StyleView",
       "description_width": ""
      }
     },
     "99fccdb2ebed4413bf9ec23a4b868c10": {
      "model_module": "@jupyter-widgets/controls",
      "model_module_version": "1.5.0",
      "model_name": "HTMLModel",
      "state": {
       "_dom_classes": [],
       "_model_module": "@jupyter-widgets/controls",
       "_model_module_version": "1.5.0",
       "_model_name": "HTMLModel",
       "_view_count": null,
       "_view_module": "@jupyter-widgets/controls",
       "_view_module_version": "1.5.0",
       "_view_name": "HTMLView",
       "description": "",
       "description_tooltip": null,
       "layout": "IPY_MODEL_14559b529e1e469082daa4fe423f53fa",
       "placeholder": "​",
       "style": "IPY_MODEL_b8526ce504c74eac9eda29b5805f1543",
       "value": " 483/483 [00:00&lt;00:00, 16.0kB/s]"
      }
     },
     "9a7ad264cff449e7983188f5d554d00f": {
      "model_module": "@jupyter-widgets/controls",
      "model_module_version": "1.5.0",
      "model_name": "DescriptionStyleModel",
      "state": {
       "_model_module": "@jupyter-widgets/controls",
       "_model_module_version": "1.5.0",
       "_model_name": "DescriptionStyleModel",
       "_view_count": null,
       "_view_module": "@jupyter-widgets/base",
       "_view_module_version": "1.2.0",
       "_view_name": "StyleView",
       "description_width": ""
      }
     },
     "9e1bf4f8f2a54e3dbcdc9434511e88ef": {
      "model_module": "@jupyter-widgets/controls",
      "model_module_version": "1.5.0",
      "model_name": "HBoxModel",
      "state": {
       "_dom_classes": [],
       "_model_module": "@jupyter-widgets/controls",
       "_model_module_version": "1.5.0",
       "_model_name": "HBoxModel",
       "_view_count": null,
       "_view_module": "@jupyter-widgets/controls",
       "_view_module_version": "1.5.0",
       "_view_name": "HBoxView",
       "box_style": "",
       "children": [
        "IPY_MODEL_7f1d72dff2af4348b087222adfb504f9",
        "IPY_MODEL_d9ad0d51c5da45cda58fff3f6aecd185",
        "IPY_MODEL_ffa9607fb9a14fe68a4e105cb238902d"
       ],
       "layout": "IPY_MODEL_328a9bb9222447738856aff2536d1073"
      }
     },
     "a2db62bbcccb42e6ab0adce57eb0c3b5": {
      "model_module": "@jupyter-widgets/base",
      "model_module_version": "1.2.0",
      "model_name": "LayoutModel",
      "state": {
       "_model_module": "@jupyter-widgets/base",
       "_model_module_version": "1.2.0",
       "_model_name": "LayoutModel",
       "_view_count": null,
       "_view_module": "@jupyter-widgets/base",
       "_view_module_version": "1.2.0",
       "_view_name": "LayoutView",
       "align_content": null,
       "align_items": null,
       "align_self": null,
       "border": null,
       "bottom": null,
       "display": null,
       "flex": null,
       "flex_flow": null,
       "grid_area": null,
       "grid_auto_columns": null,
       "grid_auto_flow": null,
       "grid_auto_rows": null,
       "grid_column": null,
       "grid_gap": null,
       "grid_row": null,
       "grid_template_areas": null,
       "grid_template_columns": null,
       "grid_template_rows": null,
       "height": null,
       "justify_content": null,
       "justify_items": null,
       "left": null,
       "margin": null,
       "max_height": null,
       "max_width": null,
       "min_height": null,
       "min_width": null,
       "object_fit": null,
       "object_position": null,
       "order": null,
       "overflow": null,
       "overflow_x": null,
       "overflow_y": null,
       "padding": null,
       "right": null,
       "top": null,
       "visibility": null,
       "width": null
      }
     },
     "a6f80e78eeb04c13b21e2afdb3e6b1df": {
      "model_module": "@jupyter-widgets/controls",
      "model_module_version": "1.5.0",
      "model_name": "HBoxModel",
      "state": {
       "_dom_classes": [],
       "_model_module": "@jupyter-widgets/controls",
       "_model_module_version": "1.5.0",
       "_model_name": "HBoxModel",
       "_view_count": null,
       "_view_module": "@jupyter-widgets/controls",
       "_view_module_version": "1.5.0",
       "_view_name": "HBoxView",
       "box_style": "",
       "children": [
        "IPY_MODEL_3b1d0b967245469a988263067b2036f3",
        "IPY_MODEL_4ee540598a934edfa7269223cd0ff7a6",
        "IPY_MODEL_f4362b06263e48b6a66d7aeceac439bf"
       ],
       "layout": "IPY_MODEL_14b246ecbc7848bbac2bc3a3cb4167e5"
      }
     },
     "a877681810aa442a8de11184d75bd624": {
      "model_module": "@jupyter-widgets/controls",
      "model_module_version": "1.5.0",
      "model_name": "HTMLModel",
      "state": {
       "_dom_classes": [],
       "_model_module": "@jupyter-widgets/controls",
       "_model_module_version": "1.5.0",
       "_model_name": "HTMLModel",
       "_view_count": null,
       "_view_module": "@jupyter-widgets/controls",
       "_view_module_version": "1.5.0",
       "_view_name": "HTMLView",
       "description": "",
       "description_tooltip": null,
       "layout": "IPY_MODEL_6cb8efdf703445c39bd3701933bb4ca2",
       "placeholder": "​",
       "style": "IPY_MODEL_ae533079982a4e91bcb9fbf28148b2f0",
       "value": " 232k/232k [00:00&lt;00:00, 1.79MB/s]"
      }
     },
     "acb2ecce4ca1419bbc5f4b299479aa05": {
      "model_module": "@jupyter-widgets/controls",
      "model_module_version": "1.5.0",
      "model_name": "FloatProgressModel",
      "state": {
       "_dom_classes": [],
       "_model_module": "@jupyter-widgets/controls",
       "_model_module_version": "1.5.0",
       "_model_name": "FloatProgressModel",
       "_view_count": null,
       "_view_module": "@jupyter-widgets/controls",
       "_view_module_version": "1.5.0",
       "_view_name": "ProgressView",
       "bar_style": "success",
       "description": "",
       "description_tooltip": null,
       "layout": "IPY_MODEL_167df45e50a74a63ab72486544edb7b6",
       "max": 231508.0,
       "min": 0.0,
       "orientation": "horizontal",
       "style": "IPY_MODEL_2a0a8486ada34865b900bca77f9a6c73",
       "value": 231508.0
      }
     },
     "ad6a2f6547a04792b2ddb5293cd048f7": {
      "model_module": "@jupyter-widgets/controls",
      "model_module_version": "1.5.0",
      "model_name": "FloatProgressModel",
      "state": {
       "_dom_classes": [],
       "_model_module": "@jupyter-widgets/controls",
       "_model_module_version": "1.5.0",
       "_model_name": "FloatProgressModel",
       "_view_count": null,
       "_view_module": "@jupyter-widgets/controls",
       "_view_module_version": "1.5.0",
       "_view_name": "ProgressView",
       "bar_style": "success",
       "description": "",
       "description_tooltip": null,
       "layout": "IPY_MODEL_ba7c682921e44e27912e5d87379eb521",
       "max": 363423424.0,
       "min": 0.0,
       "orientation": "horizontal",
       "style": "IPY_MODEL_83139c7a861343c79b15f3b76f3d8bd3",
       "value": 363423424.0
      }
     },
     "ae533079982a4e91bcb9fbf28148b2f0": {
      "model_module": "@jupyter-widgets/controls",
      "model_module_version": "1.5.0",
      "model_name": "DescriptionStyleModel",
      "state": {
       "_model_module": "@jupyter-widgets/controls",
       "_model_module_version": "1.5.0",
       "_model_name": "DescriptionStyleModel",
       "_view_count": null,
       "_view_module": "@jupyter-widgets/base",
       "_view_module_version": "1.2.0",
       "_view_name": "StyleView",
       "description_width": ""
      }
     },
     "ae9174fe2c3543aaad453251668ddfea": {
      "model_module": "@jupyter-widgets/controls",
      "model_module_version": "1.5.0",
      "model_name": "DescriptionStyleModel",
      "state": {
       "_model_module": "@jupyter-widgets/controls",
       "_model_module_version": "1.5.0",
       "_model_name": "DescriptionStyleModel",
       "_view_count": null,
       "_view_module": "@jupyter-widgets/base",
       "_view_module_version": "1.2.0",
       "_view_name": "StyleView",
       "description_width": ""
      }
     },
     "b3db65193af048039c42b686a73f326a": {
      "model_module": "@jupyter-widgets/controls",
      "model_module_version": "1.5.0",
      "model_name": "DescriptionStyleModel",
      "state": {
       "_model_module": "@jupyter-widgets/controls",
       "_model_module_version": "1.5.0",
       "_model_name": "DescriptionStyleModel",
       "_view_count": null,
       "_view_module": "@jupyter-widgets/base",
       "_view_module_version": "1.2.0",
       "_view_name": "StyleView",
       "description_width": ""
      }
     },
     "b53a3032f23549148c24246737acf05f": {
      "model_module": "@jupyter-widgets/controls",
      "model_module_version": "1.5.0",
      "model_name": "ProgressStyleModel",
      "state": {
       "_model_module": "@jupyter-widgets/controls",
       "_model_module_version": "1.5.0",
       "_model_name": "ProgressStyleModel",
       "_view_count": null,
       "_view_module": "@jupyter-widgets/base",
       "_view_module_version": "1.2.0",
       "_view_name": "StyleView",
       "bar_color": null,
       "description_width": ""
      }
     },
     "b8526ce504c74eac9eda29b5805f1543": {
      "model_module": "@jupyter-widgets/controls",
      "model_module_version": "1.5.0",
      "model_name": "DescriptionStyleModel",
      "state": {
       "_model_module": "@jupyter-widgets/controls",
       "_model_module_version": "1.5.0",
       "_model_name": "DescriptionStyleModel",
       "_view_count": null,
       "_view_module": "@jupyter-widgets/base",
       "_view_module_version": "1.2.0",
       "_view_name": "StyleView",
       "description_width": ""
      }
     },
     "ba7c682921e44e27912e5d87379eb521": {
      "model_module": "@jupyter-widgets/base",
      "model_module_version": "1.2.0",
      "model_name": "LayoutModel",
      "state": {
       "_model_module": "@jupyter-widgets/base",
       "_model_module_version": "1.2.0",
       "_model_name": "LayoutModel",
       "_view_count": null,
       "_view_module": "@jupyter-widgets/base",
       "_view_module_version": "1.2.0",
       "_view_name": "LayoutView",
       "align_content": null,
       "align_items": null,
       "align_self": null,
       "border": null,
       "bottom": null,
       "display": null,
       "flex": null,
       "flex_flow": null,
       "grid_area": null,
       "grid_auto_columns": null,
       "grid_auto_flow": null,
       "grid_auto_rows": null,
       "grid_column": null,
       "grid_gap": null,
       "grid_row": null,
       "grid_template_areas": null,
       "grid_template_columns": null,
       "grid_template_rows": null,
       "height": null,
       "justify_content": null,
       "justify_items": null,
       "left": null,
       "margin": null,
       "max_height": null,
       "max_width": null,
       "min_height": null,
       "min_width": null,
       "object_fit": null,
       "object_position": null,
       "order": null,
       "overflow": null,
       "overflow_x": null,
       "overflow_y": null,
       "padding": null,
       "right": null,
       "top": null,
       "visibility": null,
       "width": null
      }
     },
     "c1a74b921f334480892d3de5ec2fb90e": {
      "model_module": "@jupyter-widgets/controls",
      "model_module_version": "1.5.0",
      "model_name": "HTMLModel",
      "state": {
       "_dom_classes": [],
       "_model_module": "@jupyter-widgets/controls",
       "_model_module_version": "1.5.0",
       "_model_name": "HTMLModel",
       "_view_count": null,
       "_view_module": "@jupyter-widgets/controls",
       "_view_module_version": "1.5.0",
       "_view_name": "HTMLView",
       "description": "",
       "description_tooltip": null,
       "layout": "IPY_MODEL_4e83feaa020d4d35aea39387dcbd1be3",
       "placeholder": "​",
       "style": "IPY_MODEL_9a7ad264cff449e7983188f5d554d00f",
       "value": " 363M/363M [00:09&lt;00:00, 42.2MB/s]"
      }
     },
     "c6e826e29c7d4141a328aef7c9414ec1": {
      "model_module": "@jupyter-widgets/base",
      "model_module_version": "1.2.0",
      "model_name": "LayoutModel",
      "state": {
       "_model_module": "@jupyter-widgets/base",
       "_model_module_version": "1.2.0",
       "_model_name": "LayoutModel",
       "_view_count": null,
       "_view_module": "@jupyter-widgets/base",
       "_view_module_version": "1.2.0",
       "_view_name": "LayoutView",
       "align_content": null,
       "align_items": null,
       "align_self": null,
       "border": null,
       "bottom": null,
       "display": null,
       "flex": null,
       "flex_flow": null,
       "grid_area": null,
       "grid_auto_columns": null,
       "grid_auto_flow": null,
       "grid_auto_rows": null,
       "grid_column": null,
       "grid_gap": null,
       "grid_row": null,
       "grid_template_areas": null,
       "grid_template_columns": null,
       "grid_template_rows": null,
       "height": null,
       "justify_content": null,
       "justify_items": null,
       "left": null,
       "margin": null,
       "max_height": null,
       "max_width": null,
       "min_height": null,
       "min_width": null,
       "object_fit": null,
       "object_position": null,
       "order": null,
       "overflow": null,
       "overflow_x": null,
       "overflow_y": null,
       "padding": null,
       "right": null,
       "top": null,
       "visibility": null,
       "width": null
      }
     },
     "cf63215092e6400fb862b6d2b8b61cdf": {
      "model_module": "@jupyter-widgets/controls",
      "model_module_version": "1.5.0",
      "model_name": "ProgressStyleModel",
      "state": {
       "_model_module": "@jupyter-widgets/controls",
       "_model_module_version": "1.5.0",
       "_model_name": "ProgressStyleModel",
       "_view_count": null,
       "_view_module": "@jupyter-widgets/base",
       "_view_module_version": "1.2.0",
       "_view_name": "StyleView",
       "bar_color": null,
       "description_width": ""
      }
     },
     "d9a78a76a09d41ba8f41f906ef390e63": {
      "model_module": "@jupyter-widgets/base",
      "model_module_version": "1.2.0",
      "model_name": "LayoutModel",
      "state": {
       "_model_module": "@jupyter-widgets/base",
       "_model_module_version": "1.2.0",
       "_model_name": "LayoutModel",
       "_view_count": null,
       "_view_module": "@jupyter-widgets/base",
       "_view_module_version": "1.2.0",
       "_view_name": "LayoutView",
       "align_content": null,
       "align_items": null,
       "align_self": null,
       "border": null,
       "bottom": null,
       "display": null,
       "flex": null,
       "flex_flow": null,
       "grid_area": null,
       "grid_auto_columns": null,
       "grid_auto_flow": null,
       "grid_auto_rows": null,
       "grid_column": null,
       "grid_gap": null,
       "grid_row": null,
       "grid_template_areas": null,
       "grid_template_columns": null,
       "grid_template_rows": null,
       "height": null,
       "justify_content": null,
       "justify_items": null,
       "left": null,
       "margin": null,
       "max_height": null,
       "max_width": null,
       "min_height": null,
       "min_width": null,
       "object_fit": null,
       "object_position": null,
       "order": null,
       "overflow": null,
       "overflow_x": null,
       "overflow_y": null,
       "padding": null,
       "right": null,
       "top": null,
       "visibility": null,
       "width": null
      }
     },
     "d9ad0d51c5da45cda58fff3f6aecd185": {
      "model_module": "@jupyter-widgets/controls",
      "model_module_version": "1.5.0",
      "model_name": "FloatProgressModel",
      "state": {
       "_dom_classes": [],
       "_model_module": "@jupyter-widgets/controls",
       "_model_module_version": "1.5.0",
       "_model_name": "FloatProgressModel",
       "_view_count": null,
       "_view_module": "@jupyter-widgets/controls",
       "_view_module_version": "1.5.0",
       "_view_name": "ProgressView",
       "bar_style": "success",
       "description": "",
       "description_tooltip": null,
       "layout": "IPY_MODEL_d9a78a76a09d41ba8f41f906ef390e63",
       "max": 28.0,
       "min": 0.0,
       "orientation": "horizontal",
       "style": "IPY_MODEL_b53a3032f23549148c24246737acf05f",
       "value": 28.0
      }
     },
     "e2f619dc7f88453a949b5543049738a0": {
      "model_module": "@jupyter-widgets/base",
      "model_module_version": "1.2.0",
      "model_name": "LayoutModel",
      "state": {
       "_model_module": "@jupyter-widgets/base",
       "_model_module_version": "1.2.0",
       "_model_name": "LayoutModel",
       "_view_count": null,
       "_view_module": "@jupyter-widgets/base",
       "_view_module_version": "1.2.0",
       "_view_name": "LayoutView",
       "align_content": null,
       "align_items": null,
       "align_self": null,
       "border": null,
       "bottom": null,
       "display": null,
       "flex": null,
       "flex_flow": null,
       "grid_area": null,
       "grid_auto_columns": null,
       "grid_auto_flow": null,
       "grid_auto_rows": null,
       "grid_column": null,
       "grid_gap": null,
       "grid_row": null,
       "grid_template_areas": null,
       "grid_template_columns": null,
       "grid_template_rows": null,
       "height": null,
       "justify_content": null,
       "justify_items": null,
       "left": null,
       "margin": null,
       "max_height": null,
       "max_width": null,
       "min_height": null,
       "min_width": null,
       "object_fit": null,
       "object_position": null,
       "order": null,
       "overflow": null,
       "overflow_x": null,
       "overflow_y": null,
       "padding": null,
       "right": null,
       "top": null,
       "visibility": null,
       "width": null
      }
     },
     "e3b444c2fe634dcfb20a686d4496954d": {
      "model_module": "@jupyter-widgets/controls",
      "model_module_version": "1.5.0",
      "model_name": "ProgressStyleModel",
      "state": {
       "_model_module": "@jupyter-widgets/controls",
       "_model_module_version": "1.5.0",
       "_model_name": "ProgressStyleModel",
       "_view_count": null,
       "_view_module": "@jupyter-widgets/base",
       "_view_module_version": "1.2.0",
       "_view_name": "StyleView",
       "bar_color": null,
       "description_width": ""
      }
     },
     "ee4dcf5b88e949b0adba1967d4da79b6": {
      "model_module": "@jupyter-widgets/controls",
      "model_module_version": "1.5.0",
      "model_name": "HBoxModel",
      "state": {
       "_dom_classes": [],
       "_model_module": "@jupyter-widgets/controls",
       "_model_module_version": "1.5.0",
       "_model_name": "HBoxModel",
       "_view_count": null,
       "_view_module": "@jupyter-widgets/controls",
       "_view_module_version": "1.5.0",
       "_view_name": "HBoxView",
       "box_style": "",
       "children": [
        "IPY_MODEL_1a39c8368ee148c6af59d40b830287af",
        "IPY_MODEL_75f39746b5c34d2c8b8b0c5e6f16150b",
        "IPY_MODEL_99fccdb2ebed4413bf9ec23a4b868c10"
       ],
       "layout": "IPY_MODEL_59fc5c43ca1b4293b484e035d854dcc4"
      }
     },
     "f27ae1774c824337a968d9280db3980f": {
      "model_module": "@jupyter-widgets/controls",
      "model_module_version": "1.5.0",
      "model_name": "DescriptionStyleModel",
      "state": {
       "_model_module": "@jupyter-widgets/controls",
       "_model_module_version": "1.5.0",
       "_model_name": "DescriptionStyleModel",
       "_view_count": null,
       "_view_module": "@jupyter-widgets/base",
       "_view_module_version": "1.2.0",
       "_view_name": "StyleView",
       "description_width": ""
      }
     },
     "f3ab0583ec6d497dbb579defca49bf4a": {
      "model_module": "@jupyter-widgets/base",
      "model_module_version": "1.2.0",
      "model_name": "LayoutModel",
      "state": {
       "_model_module": "@jupyter-widgets/base",
       "_model_module_version": "1.2.0",
       "_model_name": "LayoutModel",
       "_view_count": null,
       "_view_module": "@jupyter-widgets/base",
       "_view_module_version": "1.2.0",
       "_view_name": "LayoutView",
       "align_content": null,
       "align_items": null,
       "align_self": null,
       "border": null,
       "bottom": null,
       "display": null,
       "flex": null,
       "flex_flow": null,
       "grid_area": null,
       "grid_auto_columns": null,
       "grid_auto_flow": null,
       "grid_auto_rows": null,
       "grid_column": null,
       "grid_gap": null,
       "grid_row": null,
       "grid_template_areas": null,
       "grid_template_columns": null,
       "grid_template_rows": null,
       "height": null,
       "justify_content": null,
       "justify_items": null,
       "left": null,
       "margin": null,
       "max_height": null,
       "max_width": null,
       "min_height": null,
       "min_width": null,
       "object_fit": null,
       "object_position": null,
       "order": null,
       "overflow": null,
       "overflow_x": null,
       "overflow_y": null,
       "padding": null,
       "right": null,
       "top": null,
       "visibility": null,
       "width": null
      }
     },
     "f4362b06263e48b6a66d7aeceac439bf": {
      "model_module": "@jupyter-widgets/controls",
      "model_module_version": "1.5.0",
      "model_name": "HTMLModel",
      "state": {
       "_dom_classes": [],
       "_model_module": "@jupyter-widgets/controls",
       "_model_module_version": "1.5.0",
       "_model_name": "HTMLModel",
       "_view_count": null,
       "_view_module": "@jupyter-widgets/controls",
       "_view_module_version": "1.5.0",
       "_view_name": "HTMLView",
       "description": "",
       "description_tooltip": null,
       "layout": "IPY_MODEL_17518a85605f4f36b14d8ff2dde488f5",
       "placeholder": "​",
       "style": "IPY_MODEL_b3db65193af048039c42b686a73f326a",
       "value": " 466k/466k [00:00&lt;00:00, 1.45MB/s]"
      }
     },
     "f930660e122049d9a29cfda60b68986c": {
      "model_module": "@jupyter-widgets/base",
      "model_module_version": "1.2.0",
      "model_name": "LayoutModel",
      "state": {
       "_model_module": "@jupyter-widgets/base",
       "_model_module_version": "1.2.0",
       "_model_name": "LayoutModel",
       "_view_count": null,
       "_view_module": "@jupyter-widgets/base",
       "_view_module_version": "1.2.0",
       "_view_name": "LayoutView",
       "align_content": null,
       "align_items": null,
       "align_self": null,
       "border": null,
       "bottom": null,
       "display": null,
       "flex": null,
       "flex_flow": null,
       "grid_area": null,
       "grid_auto_columns": null,
       "grid_auto_flow": null,
       "grid_auto_rows": null,
       "grid_column": null,
       "grid_gap": null,
       "grid_row": null,
       "grid_template_areas": null,
       "grid_template_columns": null,
       "grid_template_rows": null,
       "height": null,
       "justify_content": null,
       "justify_items": null,
       "left": null,
       "margin": null,
       "max_height": null,
       "max_width": null,
       "min_height": null,
       "min_width": null,
       "object_fit": null,
       "object_position": null,
       "order": null,
       "overflow": null,
       "overflow_x": null,
       "overflow_y": null,
       "padding": null,
       "right": null,
       "top": null,
       "visibility": null,
       "width": null
      }
     },
     "ffa9607fb9a14fe68a4e105cb238902d": {
      "model_module": "@jupyter-widgets/controls",
      "model_module_version": "1.5.0",
      "model_name": "HTMLModel",
      "state": {
       "_dom_classes": [],
       "_model_module": "@jupyter-widgets/controls",
       "_model_module_version": "1.5.0",
       "_model_name": "HTMLModel",
       "_view_count": null,
       "_view_module": "@jupyter-widgets/controls",
       "_view_module_version": "1.5.0",
       "_view_name": "HTMLView",
       "description": "",
       "description_tooltip": null,
       "layout": "IPY_MODEL_c6e826e29c7d4141a328aef7c9414ec1",
       "placeholder": "​",
       "style": "IPY_MODEL_725b0b3922ad4124906198d4eb9ee7e8",
       "value": " 28.0/28.0 [00:00&lt;00:00, 930B/s]"
      }
     }
    },
    "version_major": 2,
    "version_minor": 0
   }
  }
 },
 "nbformat": 4,
 "nbformat_minor": 5
}
