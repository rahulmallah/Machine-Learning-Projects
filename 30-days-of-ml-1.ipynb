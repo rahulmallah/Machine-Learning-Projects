{
 "cells": [
  {
   "cell_type": "code",
   "execution_count": 1,
   "id": "ffc78513",
   "metadata": {
    "execution": {
     "iopub.execute_input": "2022-07-02T21:00:05.792448Z",
     "iopub.status.busy": "2022-07-02T21:00:05.786502Z",
     "iopub.status.idle": "2022-07-02T21:00:06.800924Z",
     "shell.execute_reply": "2022-07-02T21:00:06.800214Z",
     "shell.execute_reply.started": "2022-07-02T20:52:11.577575Z"
    },
    "papermill": {
     "duration": 1.062571,
     "end_time": "2022-07-02T21:00:06.801121",
     "exception": false,
     "start_time": "2022-07-02T21:00:05.738550",
     "status": "completed"
    },
    "tags": []
   },
   "outputs": [],
   "source": [
    "import pandas as pd\n",
    "import numpy as np\n",
    "from matplotlib import pyplot as plt\n",
    "import seaborn as sns\n",
    "train_df=pd.read_csv('../input/30daysofml/data.csv')\n",
    "test_df=pd.read_csv('../input/30daysofml/test_data.csv')\n",
    "sample_df=pd.read_csv('../input/30daysofml/sample_subs.csv')"
   ]
  },
  {
   "cell_type": "code",
   "execution_count": 2,
   "id": "851a5baa",
   "metadata": {
    "execution": {
     "iopub.execute_input": "2022-07-02T21:00:06.883723Z",
     "iopub.status.busy": "2022-07-02T21:00:06.882745Z",
     "iopub.status.idle": "2022-07-02T21:00:06.906372Z",
     "shell.execute_reply": "2022-07-02T21:00:06.905689Z",
     "shell.execute_reply.started": "2022-07-02T20:52:11.596320Z"
    },
    "papermill": {
     "duration": 0.064494,
     "end_time": "2022-07-02T21:00:06.906520",
     "exception": false,
     "start_time": "2022-07-02T21:00:06.842026",
     "status": "completed"
    },
    "tags": []
   },
   "outputs": [
    {
     "data": {
      "text/html": [
       "<div>\n",
       "<style scoped>\n",
       "    .dataframe tbody tr th:only-of-type {\n",
       "        vertical-align: middle;\n",
       "    }\n",
       "\n",
       "    .dataframe tbody tr th {\n",
       "        vertical-align: top;\n",
       "    }\n",
       "\n",
       "    .dataframe thead th {\n",
       "        text-align: right;\n",
       "    }\n",
       "</style>\n",
       "<table border=\"1\" class=\"dataframe\">\n",
       "  <thead>\n",
       "    <tr style=\"text-align: right;\">\n",
       "      <th></th>\n",
       "      <th>Unnamed: 0</th>\n",
       "      <th>id</th>\n",
       "      <th>total_bill</th>\n",
       "      <th>sex</th>\n",
       "      <th>smoker</th>\n",
       "      <th>day</th>\n",
       "      <th>time</th>\n",
       "      <th>size</th>\n",
       "      <th>tip</th>\n",
       "    </tr>\n",
       "  </thead>\n",
       "  <tbody>\n",
       "    <tr>\n",
       "      <th>0</th>\n",
       "      <td>0</td>\n",
       "      <td>1</td>\n",
       "      <td>16.99</td>\n",
       "      <td>Female</td>\n",
       "      <td>No</td>\n",
       "      <td>Sun</td>\n",
       "      <td>Dinner</td>\n",
       "      <td>2</td>\n",
       "      <td>1.01</td>\n",
       "    </tr>\n",
       "    <tr>\n",
       "      <th>1</th>\n",
       "      <td>1</td>\n",
       "      <td>2</td>\n",
       "      <td>10.34</td>\n",
       "      <td>Male</td>\n",
       "      <td>No</td>\n",
       "      <td>Sun</td>\n",
       "      <td>Dinner</td>\n",
       "      <td>3</td>\n",
       "      <td>1.66</td>\n",
       "    </tr>\n",
       "    <tr>\n",
       "      <th>2</th>\n",
       "      <td>2</td>\n",
       "      <td>3</td>\n",
       "      <td>21.01</td>\n",
       "      <td>Male</td>\n",
       "      <td>No</td>\n",
       "      <td>Sun</td>\n",
       "      <td>Dinner</td>\n",
       "      <td>3</td>\n",
       "      <td>3.50</td>\n",
       "    </tr>\n",
       "    <tr>\n",
       "      <th>3</th>\n",
       "      <td>3</td>\n",
       "      <td>4</td>\n",
       "      <td>23.68</td>\n",
       "      <td>Male</td>\n",
       "      <td>No</td>\n",
       "      <td>Sun</td>\n",
       "      <td>Dinner</td>\n",
       "      <td>2</td>\n",
       "      <td>3.31</td>\n",
       "    </tr>\n",
       "    <tr>\n",
       "      <th>4</th>\n",
       "      <td>4</td>\n",
       "      <td>5</td>\n",
       "      <td>24.59</td>\n",
       "      <td>Female</td>\n",
       "      <td>No</td>\n",
       "      <td>Sun</td>\n",
       "      <td>Dinner</td>\n",
       "      <td>4</td>\n",
       "      <td>3.61</td>\n",
       "    </tr>\n",
       "  </tbody>\n",
       "</table>\n",
       "</div>"
      ],
      "text/plain": [
       "   Unnamed: 0  id  total_bill     sex smoker  day    time  size   tip\n",
       "0           0   1       16.99  Female     No  Sun  Dinner     2  1.01\n",
       "1           1   2       10.34    Male     No  Sun  Dinner     3  1.66\n",
       "2           2   3       21.01    Male     No  Sun  Dinner     3  3.50\n",
       "3           3   4       23.68    Male     No  Sun  Dinner     2  3.31\n",
       "4           4   5       24.59  Female     No  Sun  Dinner     4  3.61"
      ]
     },
     "execution_count": 2,
     "metadata": {},
     "output_type": "execute_result"
    }
   ],
   "source": [
    "train_df.head()"
   ]
  },
  {
   "cell_type": "code",
   "execution_count": 3,
   "id": "7cb23830",
   "metadata": {
    "execution": {
     "iopub.execute_input": "2022-07-02T21:00:06.988739Z",
     "iopub.status.busy": "2022-07-02T21:00:06.988065Z",
     "iopub.status.idle": "2022-07-02T21:00:06.990570Z",
     "shell.execute_reply": "2022-07-02T21:00:06.991072Z",
     "shell.execute_reply.started": "2022-07-02T20:52:11.617267Z"
    },
    "papermill": {
     "duration": 0.045702,
     "end_time": "2022-07-02T21:00:06.991242",
     "exception": false,
     "start_time": "2022-07-02T21:00:06.945540",
     "status": "completed"
    },
    "tags": []
   },
   "outputs": [
    {
     "data": {
      "text/plain": [
       "(244, 9)"
      ]
     },
     "execution_count": 3,
     "metadata": {},
     "output_type": "execute_result"
    }
   ],
   "source": [
    "train_df.shape"
   ]
  },
  {
   "cell_type": "code",
   "execution_count": 4,
   "id": "e378ba2f",
   "metadata": {
    "execution": {
     "iopub.execute_input": "2022-07-02T21:00:07.084632Z",
     "iopub.status.busy": "2022-07-02T21:00:07.083905Z",
     "iopub.status.idle": "2022-07-02T21:00:07.086544Z",
     "shell.execute_reply": "2022-07-02T21:00:07.087031Z",
     "shell.execute_reply.started": "2022-07-02T20:52:11.626364Z"
    },
    "papermill": {
     "duration": 0.05613,
     "end_time": "2022-07-02T21:00:07.087214",
     "exception": false,
     "start_time": "2022-07-02T21:00:07.031084",
     "status": "completed"
    },
    "tags": []
   },
   "outputs": [
    {
     "data": {
      "text/html": [
       "<div>\n",
       "<style scoped>\n",
       "    .dataframe tbody tr th:only-of-type {\n",
       "        vertical-align: middle;\n",
       "    }\n",
       "\n",
       "    .dataframe tbody tr th {\n",
       "        vertical-align: top;\n",
       "    }\n",
       "\n",
       "    .dataframe thead th {\n",
       "        text-align: right;\n",
       "    }\n",
       "</style>\n",
       "<table border=\"1\" class=\"dataframe\">\n",
       "  <thead>\n",
       "    <tr style=\"text-align: right;\">\n",
       "      <th></th>\n",
       "      <th>id</th>\n",
       "      <th>total_bill</th>\n",
       "      <th>sex</th>\n",
       "      <th>smoker</th>\n",
       "      <th>day</th>\n",
       "      <th>time</th>\n",
       "      <th>size</th>\n",
       "    </tr>\n",
       "  </thead>\n",
       "  <tbody>\n",
       "    <tr>\n",
       "      <th>0</th>\n",
       "      <td>1</td>\n",
       "      <td>16.99</td>\n",
       "      <td>Female</td>\n",
       "      <td>No</td>\n",
       "      <td>Sun</td>\n",
       "      <td>Dinner</td>\n",
       "      <td>2</td>\n",
       "    </tr>\n",
       "    <tr>\n",
       "      <th>1</th>\n",
       "      <td>2</td>\n",
       "      <td>10.34</td>\n",
       "      <td>Male</td>\n",
       "      <td>No</td>\n",
       "      <td>Sun</td>\n",
       "      <td>Dinner</td>\n",
       "      <td>3</td>\n",
       "    </tr>\n",
       "    <tr>\n",
       "      <th>2</th>\n",
       "      <td>3</td>\n",
       "      <td>21.01</td>\n",
       "      <td>Male</td>\n",
       "      <td>No</td>\n",
       "      <td>Sun</td>\n",
       "      <td>Dinner</td>\n",
       "      <td>3</td>\n",
       "    </tr>\n",
       "    <tr>\n",
       "      <th>3</th>\n",
       "      <td>4</td>\n",
       "      <td>23.68</td>\n",
       "      <td>Male</td>\n",
       "      <td>No</td>\n",
       "      <td>Sun</td>\n",
       "      <td>Dinner</td>\n",
       "      <td>2</td>\n",
       "    </tr>\n",
       "    <tr>\n",
       "      <th>4</th>\n",
       "      <td>5</td>\n",
       "      <td>24.59</td>\n",
       "      <td>Female</td>\n",
       "      <td>No</td>\n",
       "      <td>Sun</td>\n",
       "      <td>Dinner</td>\n",
       "      <td>4</td>\n",
       "    </tr>\n",
       "  </tbody>\n",
       "</table>\n",
       "</div>"
      ],
      "text/plain": [
       "   id  total_bill     sex smoker  day    time  size\n",
       "0   1       16.99  Female     No  Sun  Dinner     2\n",
       "1   2       10.34    Male     No  Sun  Dinner     3\n",
       "2   3       21.01    Male     No  Sun  Dinner     3\n",
       "3   4       23.68    Male     No  Sun  Dinner     2\n",
       "4   5       24.59  Female     No  Sun  Dinner     4"
      ]
     },
     "execution_count": 4,
     "metadata": {},
     "output_type": "execute_result"
    }
   ],
   "source": [
    "test_df.head()"
   ]
  },
  {
   "cell_type": "code",
   "execution_count": 5,
   "id": "37de3feb",
   "metadata": {
    "execution": {
     "iopub.execute_input": "2022-07-02T21:00:07.170630Z",
     "iopub.status.busy": "2022-07-02T21:00:07.169811Z",
     "iopub.status.idle": "2022-07-02T21:00:07.172548Z",
     "shell.execute_reply": "2022-07-02T21:00:07.173041Z",
     "shell.execute_reply.started": "2022-07-02T20:52:11.646566Z"
    },
    "papermill": {
     "duration": 0.046651,
     "end_time": "2022-07-02T21:00:07.173212",
     "exception": false,
     "start_time": "2022-07-02T21:00:07.126561",
     "status": "completed"
    },
    "tags": []
   },
   "outputs": [
    {
     "data": {
      "text/plain": [
       "(25, 7)"
      ]
     },
     "execution_count": 5,
     "metadata": {},
     "output_type": "execute_result"
    }
   ],
   "source": [
    "test_df.shape"
   ]
  },
  {
   "cell_type": "code",
   "execution_count": 6,
   "id": "b8b7d41b",
   "metadata": {
    "execution": {
     "iopub.execute_input": "2022-07-02T21:00:07.257650Z",
     "iopub.status.busy": "2022-07-02T21:00:07.256932Z",
     "iopub.status.idle": "2022-07-02T21:00:07.264993Z",
     "shell.execute_reply": "2022-07-02T21:00:07.265634Z",
     "shell.execute_reply.started": "2022-07-02T20:52:11.659030Z"
    },
    "papermill": {
     "duration": 0.052642,
     "end_time": "2022-07-02T21:00:07.265813",
     "exception": false,
     "start_time": "2022-07-02T21:00:07.213171",
     "status": "completed"
    },
    "tags": []
   },
   "outputs": [
    {
     "data": {
      "text/html": [
       "<div>\n",
       "<style scoped>\n",
       "    .dataframe tbody tr th:only-of-type {\n",
       "        vertical-align: middle;\n",
       "    }\n",
       "\n",
       "    .dataframe tbody tr th {\n",
       "        vertical-align: top;\n",
       "    }\n",
       "\n",
       "    .dataframe thead th {\n",
       "        text-align: right;\n",
       "    }\n",
       "</style>\n",
       "<table border=\"1\" class=\"dataframe\">\n",
       "  <thead>\n",
       "    <tr style=\"text-align: right;\">\n",
       "      <th></th>\n",
       "      <th>id</th>\n",
       "      <th>tip</th>\n",
       "    </tr>\n",
       "  </thead>\n",
       "  <tbody>\n",
       "    <tr>\n",
       "      <th>0</th>\n",
       "      <td>1</td>\n",
       "      <td>5</td>\n",
       "    </tr>\n",
       "    <tr>\n",
       "      <th>1</th>\n",
       "      <td>2</td>\n",
       "      <td>5</td>\n",
       "    </tr>\n",
       "    <tr>\n",
       "      <th>2</th>\n",
       "      <td>3</td>\n",
       "      <td>5</td>\n",
       "    </tr>\n",
       "    <tr>\n",
       "      <th>3</th>\n",
       "      <td>4</td>\n",
       "      <td>5</td>\n",
       "    </tr>\n",
       "    <tr>\n",
       "      <th>4</th>\n",
       "      <td>5</td>\n",
       "      <td>5</td>\n",
       "    </tr>\n",
       "  </tbody>\n",
       "</table>\n",
       "</div>"
      ],
      "text/plain": [
       "   id  tip\n",
       "0   1    5\n",
       "1   2    5\n",
       "2   3    5\n",
       "3   4    5\n",
       "4   5    5"
      ]
     },
     "execution_count": 6,
     "metadata": {},
     "output_type": "execute_result"
    }
   ],
   "source": [
    "sample_df.head()"
   ]
  },
  {
   "cell_type": "code",
   "execution_count": 7,
   "id": "8846d0e3",
   "metadata": {
    "execution": {
     "iopub.execute_input": "2022-07-02T21:00:07.350186Z",
     "iopub.status.busy": "2022-07-02T21:00:07.349452Z",
     "iopub.status.idle": "2022-07-02T21:00:07.353998Z",
     "shell.execute_reply": "2022-07-02T21:00:07.354541Z",
     "shell.execute_reply.started": "2022-07-02T20:52:11.674299Z"
    },
    "papermill": {
     "duration": 0.048373,
     "end_time": "2022-07-02T21:00:07.354714",
     "exception": false,
     "start_time": "2022-07-02T21:00:07.306341",
     "status": "completed"
    },
    "tags": []
   },
   "outputs": [
    {
     "data": {
      "text/plain": [
       "(25, 2)"
      ]
     },
     "execution_count": 7,
     "metadata": {},
     "output_type": "execute_result"
    }
   ],
   "source": [
    "sample_df.shape"
   ]
  },
  {
   "cell_type": "code",
   "execution_count": 8,
   "id": "771ac10c",
   "metadata": {
    "execution": {
     "iopub.execute_input": "2022-07-02T21:00:07.439831Z",
     "iopub.status.busy": "2022-07-02T21:00:07.438869Z",
     "iopub.status.idle": "2022-07-02T21:00:07.447804Z",
     "shell.execute_reply": "2022-07-02T21:00:07.448457Z",
     "shell.execute_reply.started": "2022-07-02T20:52:11.688331Z"
    },
    "papermill": {
     "duration": 0.052057,
     "end_time": "2022-07-02T21:00:07.448629",
     "exception": false,
     "start_time": "2022-07-02T21:00:07.396572",
     "status": "completed"
    },
    "tags": []
   },
   "outputs": [
    {
     "data": {
      "text/plain": [
       "Unnamed: 0    0\n",
       "id            0\n",
       "total_bill    0\n",
       "sex           0\n",
       "smoker        0\n",
       "day           0\n",
       "time          0\n",
       "size          0\n",
       "tip           0\n",
       "dtype: int64"
      ]
     },
     "execution_count": 8,
     "metadata": {},
     "output_type": "execute_result"
    }
   ],
   "source": [
    "train_df.isnull().sum()"
   ]
  },
  {
   "cell_type": "code",
   "execution_count": 9,
   "id": "8276d620",
   "metadata": {
    "execution": {
     "iopub.execute_input": "2022-07-02T21:00:07.537081Z",
     "iopub.status.busy": "2022-07-02T21:00:07.535636Z",
     "iopub.status.idle": "2022-07-02T21:00:07.573513Z",
     "shell.execute_reply": "2022-07-02T21:00:07.574108Z",
     "shell.execute_reply.started": "2022-07-02T20:52:11.702373Z"
    },
    "papermill": {
     "duration": 0.084938,
     "end_time": "2022-07-02T21:00:07.574287",
     "exception": false,
     "start_time": "2022-07-02T21:00:07.489349",
     "status": "completed"
    },
    "tags": []
   },
   "outputs": [
    {
     "data": {
      "text/html": [
       "<div>\n",
       "<style scoped>\n",
       "    .dataframe tbody tr th:only-of-type {\n",
       "        vertical-align: middle;\n",
       "    }\n",
       "\n",
       "    .dataframe tbody tr th {\n",
       "        vertical-align: top;\n",
       "    }\n",
       "\n",
       "    .dataframe thead th {\n",
       "        text-align: right;\n",
       "    }\n",
       "</style>\n",
       "<table border=\"1\" class=\"dataframe\">\n",
       "  <thead>\n",
       "    <tr style=\"text-align: right;\">\n",
       "      <th></th>\n",
       "      <th>Unnamed: 0</th>\n",
       "      <th>id</th>\n",
       "      <th>total_bill</th>\n",
       "      <th>size</th>\n",
       "      <th>tip</th>\n",
       "    </tr>\n",
       "  </thead>\n",
       "  <tbody>\n",
       "    <tr>\n",
       "      <th>count</th>\n",
       "      <td>244.000000</td>\n",
       "      <td>244.000000</td>\n",
       "      <td>244.000000</td>\n",
       "      <td>244.000000</td>\n",
       "      <td>244.000000</td>\n",
       "    </tr>\n",
       "    <tr>\n",
       "      <th>mean</th>\n",
       "      <td>121.500000</td>\n",
       "      <td>122.500000</td>\n",
       "      <td>19.785943</td>\n",
       "      <td>2.569672</td>\n",
       "      <td>2.998279</td>\n",
       "    </tr>\n",
       "    <tr>\n",
       "      <th>std</th>\n",
       "      <td>70.580923</td>\n",
       "      <td>70.580923</td>\n",
       "      <td>8.902412</td>\n",
       "      <td>0.951100</td>\n",
       "      <td>1.383638</td>\n",
       "    </tr>\n",
       "    <tr>\n",
       "      <th>min</th>\n",
       "      <td>0.000000</td>\n",
       "      <td>1.000000</td>\n",
       "      <td>3.070000</td>\n",
       "      <td>1.000000</td>\n",
       "      <td>1.000000</td>\n",
       "    </tr>\n",
       "    <tr>\n",
       "      <th>25%</th>\n",
       "      <td>60.750000</td>\n",
       "      <td>61.750000</td>\n",
       "      <td>13.347500</td>\n",
       "      <td>2.000000</td>\n",
       "      <td>2.000000</td>\n",
       "    </tr>\n",
       "    <tr>\n",
       "      <th>50%</th>\n",
       "      <td>121.500000</td>\n",
       "      <td>122.500000</td>\n",
       "      <td>17.795000</td>\n",
       "      <td>2.000000</td>\n",
       "      <td>2.900000</td>\n",
       "    </tr>\n",
       "    <tr>\n",
       "      <th>75%</th>\n",
       "      <td>182.250000</td>\n",
       "      <td>183.250000</td>\n",
       "      <td>24.127500</td>\n",
       "      <td>3.000000</td>\n",
       "      <td>3.562500</td>\n",
       "    </tr>\n",
       "    <tr>\n",
       "      <th>max</th>\n",
       "      <td>243.000000</td>\n",
       "      <td>244.000000</td>\n",
       "      <td>50.810000</td>\n",
       "      <td>6.000000</td>\n",
       "      <td>10.000000</td>\n",
       "    </tr>\n",
       "  </tbody>\n",
       "</table>\n",
       "</div>"
      ],
      "text/plain": [
       "       Unnamed: 0          id  total_bill        size         tip\n",
       "count  244.000000  244.000000  244.000000  244.000000  244.000000\n",
       "mean   121.500000  122.500000   19.785943    2.569672    2.998279\n",
       "std     70.580923   70.580923    8.902412    0.951100    1.383638\n",
       "min      0.000000    1.000000    3.070000    1.000000    1.000000\n",
       "25%     60.750000   61.750000   13.347500    2.000000    2.000000\n",
       "50%    121.500000  122.500000   17.795000    2.000000    2.900000\n",
       "75%    182.250000  183.250000   24.127500    3.000000    3.562500\n",
       "max    243.000000  244.000000   50.810000    6.000000   10.000000"
      ]
     },
     "execution_count": 9,
     "metadata": {},
     "output_type": "execute_result"
    }
   ],
   "source": [
    "train_df.describe()"
   ]
  },
  {
   "cell_type": "code",
   "execution_count": 10,
   "id": "6abee9ed",
   "metadata": {
    "execution": {
     "iopub.execute_input": "2022-07-02T21:00:07.681500Z",
     "iopub.status.busy": "2022-07-02T21:00:07.680436Z",
     "iopub.status.idle": "2022-07-02T21:00:07.685442Z",
     "shell.execute_reply": "2022-07-02T21:00:07.686035Z",
     "shell.execute_reply.started": "2022-07-02T20:52:11.733107Z"
    },
    "papermill": {
     "duration": 0.069967,
     "end_time": "2022-07-02T21:00:07.686222",
     "exception": false,
     "start_time": "2022-07-02T21:00:07.616255",
     "status": "completed"
    },
    "tags": []
   },
   "outputs": [
    {
     "data": {
      "text/html": [
       "<div>\n",
       "<style scoped>\n",
       "    .dataframe tbody tr th:only-of-type {\n",
       "        vertical-align: middle;\n",
       "    }\n",
       "\n",
       "    .dataframe tbody tr th {\n",
       "        vertical-align: top;\n",
       "    }\n",
       "\n",
       "    .dataframe thead th {\n",
       "        text-align: right;\n",
       "    }\n",
       "</style>\n",
       "<table border=\"1\" class=\"dataframe\">\n",
       "  <thead>\n",
       "    <tr style=\"text-align: right;\">\n",
       "      <th></th>\n",
       "      <th>Unnamed: 0</th>\n",
       "      <th>id</th>\n",
       "      <th>total_bill</th>\n",
       "      <th>sex</th>\n",
       "      <th>smoker</th>\n",
       "      <th>day</th>\n",
       "      <th>time</th>\n",
       "      <th>size</th>\n",
       "      <th>tip</th>\n",
       "    </tr>\n",
       "  </thead>\n",
       "  <tbody>\n",
       "    <tr>\n",
       "      <th>243</th>\n",
       "      <td>243</td>\n",
       "      <td>244</td>\n",
       "      <td>18.78</td>\n",
       "      <td>Female</td>\n",
       "      <td>No</td>\n",
       "      <td>Thur</td>\n",
       "      <td>Dinner</td>\n",
       "      <td>2</td>\n",
       "      <td>3.0</td>\n",
       "    </tr>\n",
       "  </tbody>\n",
       "</table>\n",
       "</div>"
      ],
      "text/plain": [
       "     Unnamed: 0   id  total_bill     sex smoker   day    time  size  tip\n",
       "243         243  244       18.78  Female     No  Thur  Dinner     2  3.0"
      ]
     },
     "execution_count": 10,
     "metadata": {},
     "output_type": "execute_result"
    }
   ],
   "source": [
    "train_df.tail(1)"
   ]
  },
  {
   "cell_type": "code",
   "execution_count": 11,
   "id": "18d14ee5",
   "metadata": {
    "execution": {
     "iopub.execute_input": "2022-07-02T21:00:07.773075Z",
     "iopub.status.busy": "2022-07-02T21:00:07.772291Z",
     "iopub.status.idle": "2022-07-02T21:00:07.785444Z",
     "shell.execute_reply": "2022-07-02T21:00:07.786062Z",
     "shell.execute_reply.started": "2022-07-02T20:52:11.748063Z"
    },
    "papermill": {
     "duration": 0.058908,
     "end_time": "2022-07-02T21:00:07.786247",
     "exception": false,
     "start_time": "2022-07-02T21:00:07.727339",
     "status": "completed"
    },
    "tags": []
   },
   "outputs": [
    {
     "data": {
      "text/html": [
       "<div>\n",
       "<style scoped>\n",
       "    .dataframe tbody tr th:only-of-type {\n",
       "        vertical-align: middle;\n",
       "    }\n",
       "\n",
       "    .dataframe tbody tr th {\n",
       "        vertical-align: top;\n",
       "    }\n",
       "\n",
       "    .dataframe thead th {\n",
       "        text-align: right;\n",
       "    }\n",
       "</style>\n",
       "<table border=\"1\" class=\"dataframe\">\n",
       "  <thead>\n",
       "    <tr style=\"text-align: right;\">\n",
       "      <th></th>\n",
       "      <th>total_bill</th>\n",
       "      <th>sex</th>\n",
       "      <th>smoker</th>\n",
       "      <th>day</th>\n",
       "      <th>time</th>\n",
       "      <th>size</th>\n",
       "      <th>tip</th>\n",
       "    </tr>\n",
       "  </thead>\n",
       "  <tbody>\n",
       "    <tr>\n",
       "      <th>0</th>\n",
       "      <td>16.99</td>\n",
       "      <td>Female</td>\n",
       "      <td>No</td>\n",
       "      <td>Sun</td>\n",
       "      <td>Dinner</td>\n",
       "      <td>2</td>\n",
       "      <td>1.01</td>\n",
       "    </tr>\n",
       "  </tbody>\n",
       "</table>\n",
       "</div>"
      ],
      "text/plain": [
       "   total_bill     sex smoker  day    time  size   tip\n",
       "0       16.99  Female     No  Sun  Dinner     2  1.01"
      ]
     },
     "execution_count": 11,
     "metadata": {},
     "output_type": "execute_result"
    }
   ],
   "source": [
    "train_df=train_df.drop(columns=['Unnamed: 0','id'],axis=1)\n",
    "train_df.head(1)"
   ]
  },
  {
   "cell_type": "code",
   "execution_count": 12,
   "id": "9901769a",
   "metadata": {
    "execution": {
     "iopub.execute_input": "2022-07-02T21:00:07.875512Z",
     "iopub.status.busy": "2022-07-02T21:00:07.874809Z",
     "iopub.status.idle": "2022-07-02T21:00:08.117916Z",
     "shell.execute_reply": "2022-07-02T21:00:08.117226Z",
     "shell.execute_reply.started": "2022-07-02T20:52:11.768819Z"
    },
    "papermill": {
     "duration": 0.289837,
     "end_time": "2022-07-02T21:00:08.118059",
     "exception": false,
     "start_time": "2022-07-02T21:00:07.828222",
     "status": "completed"
    },
    "tags": []
   },
   "outputs": [
    {
     "data": {
      "image/png": "[encoded data removed]",
      "text/plain": [
       "<Figure size 432x288 with 1 Axes>"
      ]
     },
     "metadata": {
      "needs_background": "light"
     },
     "output_type": "display_data"
    }
   ],
   "source": [
    "import warnings\n",
    "warnings.filterwarnings('ignore')\n",
    "sns.distplot(train_df['total_bill'])\n",
    "plt.show()"
   ]
  },
  {
   "cell_type": "code",
   "execution_count": 13,
   "id": "d7386bf5",
   "metadata": {
    "execution": {
     "iopub.execute_input": "2022-07-02T21:00:08.207178Z",
     "iopub.status.busy": "2022-07-02T21:00:08.206458Z",
     "iopub.status.idle": "2022-07-02T21:00:08.362302Z",
     "shell.execute_reply": "2022-07-02T21:00:08.362824Z",
     "shell.execute_reply.started": "2022-07-02T20:52:12.047517Z"
    },
    "papermill": {
     "duration": 0.202136,
     "end_time": "2022-07-02T21:00:08.363038",
     "exception": false,
     "start_time": "2022-07-02T21:00:08.160902",
     "status": "completed"
    },
    "tags": []
   },
   "outputs": [
    {
     "data": {
      "image/png": "[encoded data removed]",
      "text/plain": [
       "<Figure size 432x288 with 1 Axes>"
      ]
     },
     "metadata": {},
     "output_type": "display_data"
    }
   ],
   "source": [
    "sns.set_style('darkgrid')\n",
    "sns.countplot(train_df['sex'])\n",
    "plt.show()"
   ]
  },
  {
   "cell_type": "code",
   "execution_count": 14,
   "id": "fc093eb7",
   "metadata": {
    "execution": {
     "iopub.execute_input": "2022-07-02T21:00:08.455782Z",
     "iopub.status.busy": "2022-07-02T21:00:08.454762Z",
     "iopub.status.idle": "2022-07-02T21:00:08.643540Z",
     "shell.execute_reply": "2022-07-02T21:00:08.644227Z",
     "shell.execute_reply.started": "2022-07-02T20:52:12.210439Z"
    },
    "papermill": {
     "duration": 0.238236,
     "end_time": "2022-07-02T21:00:08.644434",
     "exception": false,
     "start_time": "2022-07-02T21:00:08.406198",
     "status": "completed"
    },
    "tags": []
   },
   "outputs": [
    {
     "data": {
      "image/png": "[encoded data removed]",
      "text/plain": [
       "<Figure size 432x288 with 1 Axes>"
      ]
     },
     "metadata": {},
     "output_type": "display_data"
    }
   ],
   "source": [
    "sns.countplot(train_df['size'])\n",
    "plt.show()"
   ]
  },
  {
   "cell_type": "code",
   "execution_count": 15,
   "id": "2171d5d2",
   "metadata": {
    "execution": {
     "iopub.execute_input": "2022-07-02T21:00:08.735861Z",
     "iopub.status.busy": "2022-07-02T21:00:08.735221Z",
     "iopub.status.idle": "2022-07-02T21:00:08.978739Z",
     "shell.execute_reply": "2022-07-02T21:00:08.979322Z",
     "shell.execute_reply.started": "2022-07-02T20:52:12.554731Z"
    },
    "papermill": {
     "duration": 0.29093,
     "end_time": "2022-07-02T21:00:08.979510",
     "exception": false,
     "start_time": "2022-07-02T21:00:08.688580",
     "status": "completed"
    },
    "tags": []
   },
   "outputs": [
    {
     "data": {
      "image/png": "[encoded data removed]",
      "text/plain": [
       "<Figure size 432x288 with 1 Axes>"
      ]
     },
     "metadata": {},
     "output_type": "display_data"
    }
   ],
   "source": [
    "sns.distplot(train_df['tip'])\n",
    "plt.show()"
   ]
  },
  {
   "cell_type": "code",
   "execution_count": 16,
   "id": "bce5619d",
   "metadata": {
    "execution": {
     "iopub.execute_input": "2022-07-02T21:00:09.075001Z",
     "iopub.status.busy": "2022-07-02T21:00:09.074352Z",
     "iopub.status.idle": "2022-07-02T21:00:09.211972Z",
     "shell.execute_reply": "2022-07-02T21:00:09.212871Z",
     "shell.execute_reply.started": "2022-07-02T20:52:12.822670Z"
    },
    "papermill": {
     "duration": 0.186263,
     "end_time": "2022-07-02T21:00:09.213188",
     "exception": false,
     "start_time": "2022-07-02T21:00:09.026925",
     "status": "completed"
    },
    "tags": []
   },
   "outputs": [
    {
     "data": {
      "image/png": "[encoded data removed]",
      "text/plain": [
       "<Figure size 432x288 with 1 Axes>"
      ]
     },
     "metadata": {},
     "output_type": "display_data"
    }
   ],
   "source": [
    "sns.countplot(train_df['smoker'])\n",
    "plt.show()"
   ]
  },
  {
   "cell_type": "code",
   "execution_count": 17,
   "id": "7640b5f5",
   "metadata": {
    "execution": {
     "iopub.execute_input": "2022-07-02T21:00:09.317370Z",
     "iopub.status.busy": "2022-07-02T21:00:09.316661Z",
     "iopub.status.idle": "2022-07-02T21:00:09.510049Z",
     "shell.execute_reply": "2022-07-02T21:00:09.509505Z",
     "shell.execute_reply.started": "2022-07-02T20:52:12.970472Z"
    },
    "papermill": {
     "duration": 0.241401,
     "end_time": "2022-07-02T21:00:09.510197",
     "exception": false,
     "start_time": "2022-07-02T21:00:09.268796",
     "status": "completed"
    },
    "tags": []
   },
   "outputs": [
    {
     "data": {
      "image/png": "[encoded data removed]",
      "text/plain": [
       "<Figure size 432x288 with 1 Axes>"
      ]
     },
     "metadata": {},
     "output_type": "display_data"
    }
   ],
   "source": [
    "sns.countplot(train_df.time,color='green')\n",
    "plt.show()"
   ]
  },
  {
   "cell_type": "code",
   "execution_count": 18,
   "id": "1254c9fb",
   "metadata": {
    "execution": {
     "iopub.execute_input": "2022-07-02T21:00:09.608388Z",
     "iopub.status.busy": "2022-07-02T21:00:09.607659Z",
     "iopub.status.idle": "2022-07-02T21:00:09.619434Z",
     "shell.execute_reply": "2022-07-02T21:00:09.619974Z",
     "shell.execute_reply.started": "2022-07-02T20:52:13.163093Z"
    },
    "papermill": {
     "duration": 0.062338,
     "end_time": "2022-07-02T21:00:09.620168",
     "exception": false,
     "start_time": "2022-07-02T21:00:09.557830",
     "status": "completed"
    },
    "tags": []
   },
   "outputs": [
    {
     "data": {
      "text/html": [
       "<div>\n",
       "<style scoped>\n",
       "    .dataframe tbody tr th:only-of-type {\n",
       "        vertical-align: middle;\n",
       "    }\n",
       "\n",
       "    .dataframe tbody tr th {\n",
       "        vertical-align: top;\n",
       "    }\n",
       "\n",
       "    .dataframe thead th {\n",
       "        text-align: right;\n",
       "    }\n",
       "</style>\n",
       "<table border=\"1\" class=\"dataframe\">\n",
       "  <thead>\n",
       "    <tr style=\"text-align: right;\">\n",
       "      <th></th>\n",
       "      <th>total_bill</th>\n",
       "      <th>sex</th>\n",
       "      <th>smoker</th>\n",
       "      <th>day</th>\n",
       "      <th>time</th>\n",
       "      <th>size</th>\n",
       "      <th>tip</th>\n",
       "    </tr>\n",
       "  </thead>\n",
       "  <tbody>\n",
       "    <tr>\n",
       "      <th>0</th>\n",
       "      <td>16.99</td>\n",
       "      <td>Female</td>\n",
       "      <td>No</td>\n",
       "      <td>Sun</td>\n",
       "      <td>Dinner</td>\n",
       "      <td>2</td>\n",
       "      <td>1.01</td>\n",
       "    </tr>\n",
       "  </tbody>\n",
       "</table>\n",
       "</div>"
      ],
      "text/plain": [
       "   total_bill     sex smoker  day    time  size   tip\n",
       "0       16.99  Female     No  Sun  Dinner     2  1.01"
      ]
     },
     "execution_count": 18,
     "metadata": {},
     "output_type": "execute_result"
    }
   ],
   "source": [
    "train_df.head(1)"
   ]
  },
  {
   "cell_type": "code",
   "execution_count": 19,
   "id": "3b15ef9a",
   "metadata": {
    "execution": {
     "iopub.execute_input": "2022-07-02T21:00:09.721838Z",
     "iopub.status.busy": "2022-07-02T21:00:09.721165Z",
     "iopub.status.idle": "2022-07-02T21:00:09.976283Z",
     "shell.execute_reply": "2022-07-02T21:00:09.975666Z",
     "shell.execute_reply.started": "2022-07-02T20:52:13.180642Z"
    },
    "papermill": {
     "duration": 0.308337,
     "end_time": "2022-07-02T21:00:09.976425",
     "exception": false,
     "start_time": "2022-07-02T21:00:09.668088",
     "status": "completed"
    },
    "tags": []
   },
   "outputs": [],
   "source": [
    "from sklearn.preprocessing import OneHotEncoder\n",
    "oh=OneHotEncoder(drop='first',sparse=False)\n",
    "train_cols=['sex','smoker','day','time']\n",
    "for col in train_cols:\n",
    "    train_df[col]=oh.fit_transform(train_df[[col]])"
   ]
  },
  {
   "cell_type": "code",
   "execution_count": 20,
   "id": "70739041",
   "metadata": {
    "execution": {
     "iopub.execute_input": "2022-07-02T21:00:10.087005Z",
     "iopub.status.busy": "2022-07-02T21:00:10.085802Z",
     "iopub.status.idle": "2022-07-02T21:00:10.090431Z",
     "shell.execute_reply": "2022-07-02T21:00:10.089926Z",
     "shell.execute_reply.started": "2022-07-02T20:52:13.199035Z"
    },
    "papermill": {
     "duration": 0.066778,
     "end_time": "2022-07-02T21:00:10.090591",
     "exception": false,
     "start_time": "2022-07-02T21:00:10.023813",
     "status": "completed"
    },
    "tags": []
   },
   "outputs": [
    {
     "data": {
      "text/html": [
       "<div>\n",
       "<style scoped>\n",
       "    .dataframe tbody tr th:only-of-type {\n",
       "        vertical-align: middle;\n",
       "    }\n",
       "\n",
       "    .dataframe tbody tr th {\n",
       "        vertical-align: top;\n",
       "    }\n",
       "\n",
       "    .dataframe thead th {\n",
       "        text-align: right;\n",
       "    }\n",
       "</style>\n",
       "<table border=\"1\" class=\"dataframe\">\n",
       "  <thead>\n",
       "    <tr style=\"text-align: right;\">\n",
       "      <th></th>\n",
       "      <th>total_bill</th>\n",
       "      <th>sex</th>\n",
       "      <th>smoker</th>\n",
       "      <th>day</th>\n",
       "      <th>time</th>\n",
       "      <th>size</th>\n",
       "      <th>tip</th>\n",
       "    </tr>\n",
       "  </thead>\n",
       "  <tbody>\n",
       "    <tr>\n",
       "      <th>0</th>\n",
       "      <td>16.99</td>\n",
       "      <td>0.0</td>\n",
       "      <td>0.0</td>\n",
       "      <td>0.0</td>\n",
       "      <td>0.0</td>\n",
       "      <td>2</td>\n",
       "      <td>1.01</td>\n",
       "    </tr>\n",
       "    <tr>\n",
       "      <th>1</th>\n",
       "      <td>10.34</td>\n",
       "      <td>1.0</td>\n",
       "      <td>0.0</td>\n",
       "      <td>0.0</td>\n",
       "      <td>0.0</td>\n",
       "      <td>3</td>\n",
       "      <td>1.66</td>\n",
       "    </tr>\n",
       "    <tr>\n",
       "      <th>2</th>\n",
       "      <td>21.01</td>\n",
       "      <td>1.0</td>\n",
       "      <td>0.0</td>\n",
       "      <td>0.0</td>\n",
       "      <td>0.0</td>\n",
       "      <td>3</td>\n",
       "      <td>3.50</td>\n",
       "    </tr>\n",
       "    <tr>\n",
       "      <th>3</th>\n",
       "      <td>23.68</td>\n",
       "      <td>1.0</td>\n",
       "      <td>0.0</td>\n",
       "      <td>0.0</td>\n",
       "      <td>0.0</td>\n",
       "      <td>2</td>\n",
       "      <td>3.31</td>\n",
       "    </tr>\n",
       "    <tr>\n",
       "      <th>4</th>\n",
       "      <td>24.59</td>\n",
       "      <td>0.0</td>\n",
       "      <td>0.0</td>\n",
       "      <td>0.0</td>\n",
       "      <td>0.0</td>\n",
       "      <td>4</td>\n",
       "      <td>3.61</td>\n",
       "    </tr>\n",
       "  </tbody>\n",
       "</table>\n",
       "</div>"
      ],
      "text/plain": [
       "   total_bill  sex  smoker  day  time  size   tip\n",
       "0       16.99  0.0     0.0  0.0   0.0     2  1.01\n",
       "1       10.34  1.0     0.0  0.0   0.0     3  1.66\n",
       "2       21.01  1.0     0.0  0.0   0.0     3  3.50\n",
       "3       23.68  1.0     0.0  0.0   0.0     2  3.31\n",
       "4       24.59  0.0     0.0  0.0   0.0     4  3.61"
      ]
     },
     "execution_count": 20,
     "metadata": {},
     "output_type": "execute_result"
    }
   ],
   "source": [
    "train_df.head()"
   ]
  },
  {
   "cell_type": "code",
   "execution_count": 21,
   "id": "4b90867f",
   "metadata": {
    "execution": {
     "iopub.execute_input": "2022-07-02T21:00:10.219412Z",
     "iopub.status.busy": "2022-07-02T21:00:10.191783Z",
     "iopub.status.idle": "2022-07-02T21:00:10.754599Z",
     "shell.execute_reply": "2022-07-02T21:00:10.754003Z",
     "shell.execute_reply.started": "2022-07-02T20:52:13.219253Z"
    },
    "papermill": {
     "duration": 0.616271,
     "end_time": "2022-07-02T21:00:10.754743",
     "exception": false,
     "start_time": "2022-07-02T21:00:10.138472",
     "status": "completed"
    },
    "tags": []
   },
   "outputs": [
    {
     "data": {
      "image/png": "[encoded data removed]",
      "text/plain": [
       "<Figure size 720x720 with 2 Axes>"
      ]
     },
     "metadata": {},
     "output_type": "display_data"
    }
   ],
   "source": [
    "plt.figure(figsize=(10,10))\n",
    "sns.heatmap(train_df.corr(),annot=True,cmap='BuPu')\n",
    "plt.show()"
   ]
  },
  {
   "cell_type": "code",
   "execution_count": 22,
   "id": "0ff79024",
   "metadata": {
    "execution": {
     "iopub.execute_input": "2022-07-02T21:00:10.862672Z",
     "iopub.status.busy": "2022-07-02T21:00:10.861593Z",
     "iopub.status.idle": "2022-07-02T21:00:10.864556Z",
     "shell.execute_reply": "2022-07-02T21:00:10.863684Z",
     "shell.execute_reply.started": "2022-07-02T20:52:13.788704Z"
    },
    "papermill": {
     "duration": 0.0606,
     "end_time": "2022-07-02T21:00:10.864714",
     "exception": false,
     "start_time": "2022-07-02T21:00:10.804114",
     "status": "completed"
    },
    "tags": []
   },
   "outputs": [],
   "source": [
    "x=train_df.drop(columns='tip',axis=1)\n",
    "y=train_df['tip']"
   ]
  },
  {
   "cell_type": "code",
   "execution_count": 23,
   "id": "0b9c3c47",
   "metadata": {
    "execution": {
     "iopub.execute_input": "2022-07-02T21:00:10.985197Z",
     "iopub.status.busy": "2022-07-02T21:00:10.984205Z",
     "iopub.status.idle": "2022-07-02T21:00:10.988633Z",
     "shell.execute_reply": "2022-07-02T21:00:10.988086Z",
     "shell.execute_reply.started": "2022-07-02T20:52:13.796989Z"
    },
    "papermill": {
     "duration": 0.075412,
     "end_time": "2022-07-02T21:00:10.988778",
     "exception": false,
     "start_time": "2022-07-02T21:00:10.913366",
     "status": "completed"
    },
    "tags": []
   },
   "outputs": [
    {
     "data": {
      "text/html": [
       "<div>\n",
       "<style scoped>\n",
       "    .dataframe tbody tr th:only-of-type {\n",
       "        vertical-align: middle;\n",
       "    }\n",
       "\n",
       "    .dataframe tbody tr th {\n",
       "        vertical-align: top;\n",
       "    }\n",
       "\n",
       "    .dataframe thead th {\n",
       "        text-align: right;\n",
       "    }\n",
       "</style>\n",
       "<table border=\"1\" class=\"dataframe\">\n",
       "  <thead>\n",
       "    <tr style=\"text-align: right;\">\n",
       "      <th></th>\n",
       "      <th>total_bill</th>\n",
       "      <th>sex</th>\n",
       "      <th>smoker</th>\n",
       "      <th>day</th>\n",
       "      <th>time</th>\n",
       "      <th>size</th>\n",
       "    </tr>\n",
       "  </thead>\n",
       "  <tbody>\n",
       "    <tr>\n",
       "      <th>0</th>\n",
       "      <td>16.99</td>\n",
       "      <td>0.0</td>\n",
       "      <td>0.0</td>\n",
       "      <td>0.0</td>\n",
       "      <td>0.0</td>\n",
       "      <td>2</td>\n",
       "    </tr>\n",
       "    <tr>\n",
       "      <th>1</th>\n",
       "      <td>10.34</td>\n",
       "      <td>1.0</td>\n",
       "      <td>0.0</td>\n",
       "      <td>0.0</td>\n",
       "      <td>0.0</td>\n",
       "      <td>3</td>\n",
       "    </tr>\n",
       "    <tr>\n",
       "      <th>2</th>\n",
       "      <td>21.01</td>\n",
       "      <td>1.0</td>\n",
       "      <td>0.0</td>\n",
       "      <td>0.0</td>\n",
       "      <td>0.0</td>\n",
       "      <td>3</td>\n",
       "    </tr>\n",
       "    <tr>\n",
       "      <th>3</th>\n",
       "      <td>23.68</td>\n",
       "      <td>1.0</td>\n",
       "      <td>0.0</td>\n",
       "      <td>0.0</td>\n",
       "      <td>0.0</td>\n",
       "      <td>2</td>\n",
       "    </tr>\n",
       "    <tr>\n",
       "      <th>4</th>\n",
       "      <td>24.59</td>\n",
       "      <td>0.0</td>\n",
       "      <td>0.0</td>\n",
       "      <td>0.0</td>\n",
       "      <td>0.0</td>\n",
       "      <td>4</td>\n",
       "    </tr>\n",
       "    <tr>\n",
       "      <th>...</th>\n",
       "      <td>...</td>\n",
       "      <td>...</td>\n",
       "      <td>...</td>\n",
       "      <td>...</td>\n",
       "      <td>...</td>\n",
       "      <td>...</td>\n",
       "    </tr>\n",
       "    <tr>\n",
       "      <th>239</th>\n",
       "      <td>29.03</td>\n",
       "      <td>1.0</td>\n",
       "      <td>0.0</td>\n",
       "      <td>1.0</td>\n",
       "      <td>0.0</td>\n",
       "      <td>3</td>\n",
       "    </tr>\n",
       "    <tr>\n",
       "      <th>240</th>\n",
       "      <td>27.18</td>\n",
       "      <td>0.0</td>\n",
       "      <td>1.0</td>\n",
       "      <td>1.0</td>\n",
       "      <td>0.0</td>\n",
       "      <td>2</td>\n",
       "    </tr>\n",
       "    <tr>\n",
       "      <th>241</th>\n",
       "      <td>22.67</td>\n",
       "      <td>1.0</td>\n",
       "      <td>1.0</td>\n",
       "      <td>1.0</td>\n",
       "      <td>0.0</td>\n",
       "      <td>2</td>\n",
       "    </tr>\n",
       "    <tr>\n",
       "      <th>242</th>\n",
       "      <td>17.82</td>\n",
       "      <td>1.0</td>\n",
       "      <td>0.0</td>\n",
       "      <td>1.0</td>\n",
       "      <td>0.0</td>\n",
       "      <td>2</td>\n",
       "    </tr>\n",
       "    <tr>\n",
       "      <th>243</th>\n",
       "      <td>18.78</td>\n",
       "      <td>0.0</td>\n",
       "      <td>0.0</td>\n",
       "      <td>0.0</td>\n",
       "      <td>0.0</td>\n",
       "      <td>2</td>\n",
       "    </tr>\n",
       "  </tbody>\n",
       "</table>\n",
       "<p>244 rows × 6 columns</p>\n",
       "</div>"
      ],
      "text/plain": [
       "     total_bill  sex  smoker  day  time  size\n",
       "0         16.99  0.0     0.0  0.0   0.0     2\n",
       "1         10.34  1.0     0.0  0.0   0.0     3\n",
       "2         21.01  1.0     0.0  0.0   0.0     3\n",
       "3         23.68  1.0     0.0  0.0   0.0     2\n",
       "4         24.59  0.0     0.0  0.0   0.0     4\n",
       "..          ...  ...     ...  ...   ...   ...\n",
       "239       29.03  1.0     0.0  1.0   0.0     3\n",
       "240       27.18  0.0     1.0  1.0   0.0     2\n",
       "241       22.67  1.0     1.0  1.0   0.0     2\n",
       "242       17.82  1.0     0.0  1.0   0.0     2\n",
       "243       18.78  0.0     0.0  0.0   0.0     2\n",
       "\n",
       "[244 rows x 6 columns]"
      ]
     },
     "execution_count": 23,
     "metadata": {},
     "output_type": "execute_result"
    }
   ],
   "source": [
    "x"
   ]
  },
  {
   "cell_type": "code",
   "execution_count": 24,
   "id": "7cb95893",
   "metadata": {
    "execution": {
     "iopub.execute_input": "2022-07-02T21:00:11.098594Z",
     "iopub.status.busy": "2022-07-02T21:00:11.097593Z",
     "iopub.status.idle": "2022-07-02T21:00:11.101707Z",
     "shell.execute_reply": "2022-07-02T21:00:11.101177Z",
     "shell.execute_reply.started": "2022-07-02T20:52:13.827935Z"
    },
    "papermill": {
     "duration": 0.062629,
     "end_time": "2022-07-02T21:00:11.101846",
     "exception": false,
     "start_time": "2022-07-02T21:00:11.039217",
     "status": "completed"
    },
    "tags": []
   },
   "outputs": [
    {
     "data": {
      "text/plain": [
       "0      1.01\n",
       "1      1.66\n",
       "2      3.50\n",
       "3      3.31\n",
       "4      3.61\n",
       "       ... \n",
       "239    5.92\n",
       "240    2.00\n",
       "241    2.00\n",
       "242    1.75\n",
       "243    3.00\n",
       "Name: tip, Length: 244, dtype: float64"
      ]
     },
     "execution_count": 24,
     "metadata": {},
     "output_type": "execute_result"
    }
   ],
   "source": [
    "y"
   ]
  },
  {
   "cell_type": "code",
   "execution_count": 25,
   "id": "ec042328",
   "metadata": {
    "execution": {
     "iopub.execute_input": "2022-07-02T21:00:11.210161Z",
     "iopub.status.busy": "2022-07-02T21:00:11.209275Z",
     "iopub.status.idle": "2022-07-02T21:00:11.270335Z",
     "shell.execute_reply": "2022-07-02T21:00:11.269748Z",
     "shell.execute_reply.started": "2022-07-02T20:52:13.842995Z"
    },
    "papermill": {
     "duration": 0.118353,
     "end_time": "2022-07-02T21:00:11.270514",
     "exception": false,
     "start_time": "2022-07-02T21:00:11.152161",
     "status": "completed"
    },
    "tags": []
   },
   "outputs": [],
   "source": [
    "from sklearn.model_selection import train_test_split\n",
    "x_train,x_test,y_train,y_test=train_test_split(x,y,test_size=0.11)"
   ]
  },
  {
   "cell_type": "code",
   "execution_count": 26,
   "id": "f63643ab",
   "metadata": {
    "execution": {
     "iopub.execute_input": "2022-07-02T21:00:11.376318Z",
     "iopub.status.busy": "2022-07-02T21:00:11.375560Z",
     "iopub.status.idle": "2022-07-02T21:00:11.591983Z",
     "shell.execute_reply": "2022-07-02T21:00:11.591355Z",
     "shell.execute_reply.started": "2022-07-02T20:52:13.855803Z"
    },
    "papermill": {
     "duration": 0.271532,
     "end_time": "2022-07-02T21:00:11.592132",
     "exception": false,
     "start_time": "2022-07-02T21:00:11.320600",
     "status": "completed"
    },
    "tags": []
   },
   "outputs": [],
   "source": [
    "from sklearn.ensemble import RandomForestRegressor\n",
    "rfg=RandomForestRegressor()"
   ]
  },
  {
   "cell_type": "code",
   "execution_count": 27,
   "id": "47f0598e",
   "metadata": {
    "execution": {
     "iopub.execute_input": "2022-07-02T21:00:11.701371Z",
     "iopub.status.busy": "2022-07-02T21:00:11.697984Z",
     "iopub.status.idle": "2022-07-02T21:00:11.706205Z",
     "shell.execute_reply": "2022-07-02T21:00:11.705297Z",
     "shell.execute_reply.started": "2022-07-02T20:52:13.867257Z"
    },
    "papermill": {
     "duration": 0.062036,
     "end_time": "2022-07-02T21:00:11.706374",
     "exception": false,
     "start_time": "2022-07-02T21:00:11.644338",
     "status": "completed"
    },
    "tags": []
   },
   "outputs": [
    {
     "data": {
      "text/plain": [
       "{'bootstrap': True,\n",
       " 'ccp_alpha': 0.0,\n",
       " 'criterion': 'mse',\n",
       " 'max_depth': None,\n",
       " 'max_features': 'auto',\n",
       " 'max_leaf_nodes': None,\n",
       " 'max_samples': None,\n",
       " 'min_impurity_decrease': 0.0,\n",
       " 'min_impurity_split': None,\n",
       " 'min_samples_leaf': 1,\n",
       " 'min_samples_split': 2,\n",
       " 'min_weight_fraction_leaf': 0.0,\n",
       " 'n_estimators': 100,\n",
       " 'n_jobs': None,\n",
       " 'oob_score': False,\n",
       " 'random_state': None,\n",
       " 'verbose': 0,\n",
       " 'warm_start': False}"
      ]
     },
     "execution_count": 27,
     "metadata": {},
     "output_type": "execute_result"
    }
   ],
   "source": [
    "rfg.get_params()"
   ]
  },
  {
   "cell_type": "code",
   "execution_count": 28,
   "id": "8437ae5d",
   "metadata": {
    "execution": {
     "iopub.execute_input": "2022-07-02T21:00:11.819351Z",
     "iopub.status.busy": "2022-07-02T21:00:11.818335Z",
     "iopub.status.idle": "2022-07-02T21:00:11.821397Z",
     "shell.execute_reply": "2022-07-02T21:00:11.820758Z",
     "shell.execute_reply.started": "2022-07-02T20:52:13.880432Z"
    },
    "papermill": {
     "duration": 0.06379,
     "end_time": "2022-07-02T21:00:11.821537",
     "exception": false,
     "start_time": "2022-07-02T21:00:11.757747",
     "status": "completed"
    },
    "tags": []
   },
   "outputs": [],
   "source": [
    "n_estimators=[int(x) for x in np.linspace(5,300,6)]\n",
    "criterion=['mse','mae']\n",
    "max_features=['auto','sqrt','log2']\n",
    "max_samples=[0.5,0.75,1.0]"
   ]
  },
  {
   "cell_type": "code",
   "execution_count": 29,
   "id": "1a3ba1dc",
   "metadata": {
    "execution": {
     "iopub.execute_input": "2022-07-02T21:00:11.927224Z",
     "iopub.status.busy": "2022-07-02T21:00:11.926151Z",
     "iopub.status.idle": "2022-07-02T21:00:11.928674Z",
     "shell.execute_reply": "2022-07-02T21:00:11.928064Z",
     "shell.execute_reply.started": "2022-07-02T20:52:13.890700Z"
    },
    "papermill": {
     "duration": 0.056747,
     "end_time": "2022-07-02T21:00:11.928815",
     "exception": false,
     "start_time": "2022-07-02T21:00:11.872068",
     "status": "completed"
    },
    "tags": []
   },
   "outputs": [],
   "source": [
    "param_grid={\n",
    "    \n",
    "    'n_estimators':n_estimators,\n",
    "    'criterion':criterion,\n",
    "    'max_features':max_features,\n",
    "    'max_samples':max_samples\n",
    "    \n",
    "}"
   ]
  },
  {
   "cell_type": "code",
   "execution_count": 30,
   "id": "65c153b9",
   "metadata": {
    "execution": {
     "iopub.execute_input": "2022-07-02T21:00:12.034795Z",
     "iopub.status.busy": "2022-07-02T21:00:12.033806Z",
     "iopub.status.idle": "2022-07-02T21:00:12.038372Z",
     "shell.execute_reply": "2022-07-02T21:00:12.037767Z",
     "shell.execute_reply.started": "2022-07-02T20:52:13.900638Z"
    },
    "papermill": {
     "duration": 0.060444,
     "end_time": "2022-07-02T21:00:12.038531",
     "exception": false,
     "start_time": "2022-07-02T21:00:11.978087",
     "status": "completed"
    },
    "tags": []
   },
   "outputs": [
    {
     "data": {
      "text/plain": [
       "{'n_estimators': [5, 64, 123, 182, 241, 300],\n",
       " 'criterion': ['mse', 'mae'],\n",
       " 'max_features': ['auto', 'sqrt', 'log2'],\n",
       " 'max_samples': [0.5, 0.75, 1.0]}"
      ]
     },
     "execution_count": 30,
     "metadata": {},
     "output_type": "execute_result"
    }
   ],
   "source": [
    "param_grid"
   ]
  },
  {
   "cell_type": "code",
   "execution_count": 31,
   "id": "db2f3223",
   "metadata": {
    "execution": {
     "iopub.execute_input": "2022-07-02T21:00:12.146391Z",
     "iopub.status.busy": "2022-07-02T21:00:12.145573Z",
     "iopub.status.idle": "2022-07-02T21:00:12.148690Z",
     "shell.execute_reply": "2022-07-02T21:00:12.148099Z",
     "shell.execute_reply.started": "2022-07-02T20:52:13.913940Z"
    },
    "papermill": {
     "duration": 0.05867,
     "end_time": "2022-07-02T21:00:12.148839",
     "exception": false,
     "start_time": "2022-07-02T21:00:12.090169",
     "status": "completed"
    },
    "tags": []
   },
   "outputs": [],
   "source": [
    "from sklearn.model_selection import GridSearchCV\n",
    "rfg_grid=GridSearchCV(estimator=rfg,param_grid=param_grid,cv=2)"
   ]
  },
  {
   "cell_type": "code",
   "execution_count": 32,
   "id": "0c4da70d",
   "metadata": {
    "execution": {
     "iopub.execute_input": "2022-07-02T21:00:12.265664Z",
     "iopub.status.busy": "2022-07-02T21:00:12.264997Z",
     "iopub.status.idle": "2022-07-02T21:00:55.835400Z",
     "shell.execute_reply": "2022-07-02T21:00:55.835965Z",
     "shell.execute_reply.started": "2022-07-02T20:52:13.923689Z"
    },
    "papermill": {
     "duration": 43.635525,
     "end_time": "2022-07-02T21:00:55.836154",
     "exception": false,
     "start_time": "2022-07-02T21:00:12.200629",
     "status": "completed"
    },
    "tags": []
   },
   "outputs": [
    {
     "data": {
      "text/plain": [
       "GridSearchCV(cv=2, estimator=RandomForestRegressor(),\n",
       "             param_grid={'criterion': ['mse', 'mae'],\n",
       "                         'max_features': ['auto', 'sqrt', 'log2'],\n",
       "                         'max_samples': [0.5, 0.75, 1.0],\n",
       "                         'n_estimators': [5, 64, 123, 182, 241, 300]})"
      ]
     },
     "execution_count": 32,
     "metadata": {},
     "output_type": "execute_result"
    }
   ],
   "source": [
    "rfg_grid.fit(x_train,y_train)"
   ]
  },
  {
   "cell_type": "code",
   "execution_count": 33,
   "id": "5eb4fb05",
   "metadata": {
    "execution": {
     "iopub.execute_input": "2022-07-02T21:00:55.941716Z",
     "iopub.status.busy": "2022-07-02T21:00:55.941092Z",
     "iopub.status.idle": "2022-07-02T21:00:55.946078Z",
     "shell.execute_reply": "2022-07-02T21:00:55.946580Z",
     "shell.execute_reply.started": "2022-07-02T20:52:57.690864Z"
    },
    "papermill": {
     "duration": 0.059069,
     "end_time": "2022-07-02T21:00:55.946755",
     "exception": false,
     "start_time": "2022-07-02T21:00:55.887686",
     "status": "completed"
    },
    "tags": []
   },
   "outputs": [
    {
     "data": {
      "text/plain": [
       "{'criterion': 'mse',\n",
       " 'max_features': 'auto',\n",
       " 'max_samples': 0.5,\n",
       " 'n_estimators': 123}"
      ]
     },
     "execution_count": 33,
     "metadata": {},
     "output_type": "execute_result"
    }
   ],
   "source": [
    "rfg_grid.best_params_"
   ]
  },
  {
   "cell_type": "code",
   "execution_count": 34,
   "id": "86a27a10",
   "metadata": {
    "execution": {
     "iopub.execute_input": "2022-07-02T21:00:56.055218Z",
     "iopub.status.busy": "2022-07-02T21:00:56.054554Z",
     "iopub.status.idle": "2022-07-02T21:00:56.059469Z",
     "shell.execute_reply": "2022-07-02T21:00:56.060082Z",
     "shell.execute_reply.started": "2022-07-02T20:52:57.700547Z"
    },
    "papermill": {
     "duration": 0.060659,
     "end_time": "2022-07-02T21:00:56.060254",
     "exception": false,
     "start_time": "2022-07-02T21:00:55.999595",
     "status": "completed"
    },
    "tags": []
   },
   "outputs": [
    {
     "data": {
      "text/plain": [
       "0.4098078754540229"
      ]
     },
     "execution_count": 34,
     "metadata": {},
     "output_type": "execute_result"
    }
   ],
   "source": [
    "rfg_grid.best_score_"
   ]
  },
  {
   "cell_type": "code",
   "execution_count": 35,
   "id": "6bcd12d3",
   "metadata": {
    "execution": {
     "iopub.execute_input": "2022-07-02T21:00:56.169109Z",
     "iopub.status.busy": "2022-07-02T21:00:56.168408Z",
     "iopub.status.idle": "2022-07-02T21:00:56.175021Z",
     "shell.execute_reply": "2022-07-02T21:00:56.174137Z",
     "shell.execute_reply.started": "2022-07-02T20:52:57.716175Z"
    },
    "papermill": {
     "duration": 0.063253,
     "end_time": "2022-07-02T21:00:56.175185",
     "exception": false,
     "start_time": "2022-07-02T21:00:56.111932",
     "status": "completed"
    },
    "tags": []
   },
   "outputs": [
    {
     "data": {
      "text/plain": [
       "RandomForestRegressor(max_samples=0.5, n_estimators=123)"
      ]
     },
     "execution_count": 35,
     "metadata": {},
     "output_type": "execute_result"
    }
   ],
   "source": [
    "best_grid=rfg_grid.best_estimator_\n",
    "best_grid"
   ]
  },
  {
   "cell_type": "code",
   "execution_count": 36,
   "id": "d06ce46e",
   "metadata": {
    "execution": {
     "iopub.execute_input": "2022-07-02T21:00:56.358333Z",
     "iopub.status.busy": "2022-07-02T21:00:56.321621Z",
     "iopub.status.idle": "2022-07-02T21:00:56.571647Z",
     "shell.execute_reply": "2022-07-02T21:00:56.570990Z",
     "shell.execute_reply.started": "2022-07-02T20:52:57.724077Z"
    },
    "papermill": {
     "duration": 0.340076,
     "end_time": "2022-07-02T21:00:56.571799",
     "exception": false,
     "start_time": "2022-07-02T21:00:56.231723",
     "status": "completed"
    },
    "tags": []
   },
   "outputs": [
    {
     "data": {
      "text/plain": [
       "0.5402324975580386"
      ]
     },
     "execution_count": 36,
     "metadata": {},
     "output_type": "execute_result"
    }
   ],
   "source": [
    "best_grid.fit(x_train,y_train)\n",
    "y_pred1=best_grid.predict(x_test)\n",
    "from sklearn.metrics import mean_squared_error\n",
    "mean_squared_error(y_test,y_pred1)"
   ]
  },
  {
   "cell_type": "code",
   "execution_count": 37,
   "id": "910a63ca",
   "metadata": {
    "execution": {
     "iopub.execute_input": "2022-07-02T21:00:56.692725Z",
     "iopub.status.busy": "2022-07-02T21:00:56.691729Z",
     "iopub.status.idle": "2022-07-02T21:00:56.705198Z",
     "shell.execute_reply": "2022-07-02T21:00:56.705920Z",
     "shell.execute_reply.started": "2022-07-02T20:52:58.403865Z"
    },
    "papermill": {
     "duration": 0.07782,
     "end_time": "2022-07-02T21:00:56.706182",
     "exception": false,
     "start_time": "2022-07-02T21:00:56.628362",
     "status": "completed"
    },
    "tags": []
   },
   "outputs": [
    {
     "data": {
      "text/html": [
       "<div>\n",
       "<style scoped>\n",
       "    .dataframe tbody tr th:only-of-type {\n",
       "        vertical-align: middle;\n",
       "    }\n",
       "\n",
       "    .dataframe tbody tr th {\n",
       "        vertical-align: top;\n",
       "    }\n",
       "\n",
       "    .dataframe thead th {\n",
       "        text-align: right;\n",
       "    }\n",
       "</style>\n",
       "<table border=\"1\" class=\"dataframe\">\n",
       "  <thead>\n",
       "    <tr style=\"text-align: right;\">\n",
       "      <th></th>\n",
       "      <th>id</th>\n",
       "      <th>total_bill</th>\n",
       "      <th>sex</th>\n",
       "      <th>smoker</th>\n",
       "      <th>day</th>\n",
       "      <th>time</th>\n",
       "      <th>size</th>\n",
       "    </tr>\n",
       "  </thead>\n",
       "  <tbody>\n",
       "    <tr>\n",
       "      <th>0</th>\n",
       "      <td>1</td>\n",
       "      <td>16.99</td>\n",
       "      <td>Female</td>\n",
       "      <td>No</td>\n",
       "      <td>Sun</td>\n",
       "      <td>Dinner</td>\n",
       "      <td>2</td>\n",
       "    </tr>\n",
       "  </tbody>\n",
       "</table>\n",
       "</div>"
      ],
      "text/plain": [
       "   id  total_bill     sex smoker  day    time  size\n",
       "0   1       16.99  Female     No  Sun  Dinner     2"
      ]
     },
     "execution_count": 37,
     "metadata": {},
     "output_type": "execute_result"
    }
   ],
   "source": [
    "test_df.head(1)"
   ]
  },
  {
   "cell_type": "code",
   "execution_count": 38,
   "id": "2ae2b84f",
   "metadata": {
    "execution": {
     "iopub.execute_input": "2022-07-02T21:00:56.854622Z",
     "iopub.status.busy": "2022-07-02T21:00:56.852796Z",
     "iopub.status.idle": "2022-07-02T21:00:56.873150Z",
     "shell.execute_reply": "2022-07-02T21:00:56.873990Z",
     "shell.execute_reply.started": "2022-07-02T20:52:58.417162Z"
    },
    "papermill": {
     "duration": 0.089702,
     "end_time": "2022-07-02T21:00:56.874186",
     "exception": false,
     "start_time": "2022-07-02T21:00:56.784484",
     "status": "completed"
    },
    "tags": []
   },
   "outputs": [
    {
     "data": {
      "text/html": [
       "<div>\n",
       "<style scoped>\n",
       "    .dataframe tbody tr th:only-of-type {\n",
       "        vertical-align: middle;\n",
       "    }\n",
       "\n",
       "    .dataframe tbody tr th {\n",
       "        vertical-align: top;\n",
       "    }\n",
       "\n",
       "    .dataframe thead th {\n",
       "        text-align: right;\n",
       "    }\n",
       "</style>\n",
       "<table border=\"1\" class=\"dataframe\">\n",
       "  <thead>\n",
       "    <tr style=\"text-align: right;\">\n",
       "      <th></th>\n",
       "      <th>total_bill</th>\n",
       "      <th>sex</th>\n",
       "      <th>smoker</th>\n",
       "      <th>day</th>\n",
       "      <th>time</th>\n",
       "      <th>size</th>\n",
       "    </tr>\n",
       "  </thead>\n",
       "  <tbody>\n",
       "    <tr>\n",
       "      <th>0</th>\n",
       "      <td>16.99</td>\n",
       "      <td>Female</td>\n",
       "      <td>No</td>\n",
       "      <td>Sun</td>\n",
       "      <td>Dinner</td>\n",
       "      <td>2</td>\n",
       "    </tr>\n",
       "    <tr>\n",
       "      <th>1</th>\n",
       "      <td>10.34</td>\n",
       "      <td>Male</td>\n",
       "      <td>No</td>\n",
       "      <td>Sun</td>\n",
       "      <td>Dinner</td>\n",
       "      <td>3</td>\n",
       "    </tr>\n",
       "    <tr>\n",
       "      <th>2</th>\n",
       "      <td>21.01</td>\n",
       "      <td>Male</td>\n",
       "      <td>No</td>\n",
       "      <td>Sun</td>\n",
       "      <td>Dinner</td>\n",
       "      <td>3</td>\n",
       "    </tr>\n",
       "    <tr>\n",
       "      <th>3</th>\n",
       "      <td>23.68</td>\n",
       "      <td>Male</td>\n",
       "      <td>No</td>\n",
       "      <td>Sun</td>\n",
       "      <td>Dinner</td>\n",
       "      <td>2</td>\n",
       "    </tr>\n",
       "    <tr>\n",
       "      <th>4</th>\n",
       "      <td>24.59</td>\n",
       "      <td>Female</td>\n",
       "      <td>No</td>\n",
       "      <td>Sun</td>\n",
       "      <td>Dinner</td>\n",
       "      <td>4</td>\n",
       "    </tr>\n",
       "    <tr>\n",
       "      <th>5</th>\n",
       "      <td>25.29</td>\n",
       "      <td>Male</td>\n",
       "      <td>No</td>\n",
       "      <td>Sun</td>\n",
       "      <td>Dinner</td>\n",
       "      <td>4</td>\n",
       "    </tr>\n",
       "    <tr>\n",
       "      <th>6</th>\n",
       "      <td>8.77</td>\n",
       "      <td>Male</td>\n",
       "      <td>No</td>\n",
       "      <td>Sun</td>\n",
       "      <td>Dinner</td>\n",
       "      <td>2</td>\n",
       "    </tr>\n",
       "    <tr>\n",
       "      <th>7</th>\n",
       "      <td>26.88</td>\n",
       "      <td>Male</td>\n",
       "      <td>No</td>\n",
       "      <td>Sun</td>\n",
       "      <td>Dinner</td>\n",
       "      <td>4</td>\n",
       "    </tr>\n",
       "    <tr>\n",
       "      <th>8</th>\n",
       "      <td>15.04</td>\n",
       "      <td>Male</td>\n",
       "      <td>No</td>\n",
       "      <td>Sun</td>\n",
       "      <td>Dinner</td>\n",
       "      <td>2</td>\n",
       "    </tr>\n",
       "    <tr>\n",
       "      <th>9</th>\n",
       "      <td>14.78</td>\n",
       "      <td>Male</td>\n",
       "      <td>No</td>\n",
       "      <td>Sun</td>\n",
       "      <td>Dinner</td>\n",
       "      <td>2</td>\n",
       "    </tr>\n",
       "    <tr>\n",
       "      <th>10</th>\n",
       "      <td>10.27</td>\n",
       "      <td>Male</td>\n",
       "      <td>No</td>\n",
       "      <td>Sun</td>\n",
       "      <td>Dinner</td>\n",
       "      <td>2</td>\n",
       "    </tr>\n",
       "    <tr>\n",
       "      <th>11</th>\n",
       "      <td>35.26</td>\n",
       "      <td>Female</td>\n",
       "      <td>No</td>\n",
       "      <td>Sun</td>\n",
       "      <td>Dinner</td>\n",
       "      <td>4</td>\n",
       "    </tr>\n",
       "    <tr>\n",
       "      <th>12</th>\n",
       "      <td>15.42</td>\n",
       "      <td>Male</td>\n",
       "      <td>No</td>\n",
       "      <td>Sun</td>\n",
       "      <td>Dinner</td>\n",
       "      <td>2</td>\n",
       "    </tr>\n",
       "    <tr>\n",
       "      <th>13</th>\n",
       "      <td>18.43</td>\n",
       "      <td>Male</td>\n",
       "      <td>No</td>\n",
       "      <td>Sun</td>\n",
       "      <td>Dinner</td>\n",
       "      <td>4</td>\n",
       "    </tr>\n",
       "    <tr>\n",
       "      <th>14</th>\n",
       "      <td>14.83</td>\n",
       "      <td>Female</td>\n",
       "      <td>No</td>\n",
       "      <td>Sun</td>\n",
       "      <td>Dinner</td>\n",
       "      <td>2</td>\n",
       "    </tr>\n",
       "    <tr>\n",
       "      <th>15</th>\n",
       "      <td>21.58</td>\n",
       "      <td>Male</td>\n",
       "      <td>No</td>\n",
       "      <td>Sun</td>\n",
       "      <td>Dinner</td>\n",
       "      <td>2</td>\n",
       "    </tr>\n",
       "    <tr>\n",
       "      <th>16</th>\n",
       "      <td>10.33</td>\n",
       "      <td>Female</td>\n",
       "      <td>No</td>\n",
       "      <td>Sun</td>\n",
       "      <td>Dinner</td>\n",
       "      <td>3</td>\n",
       "    </tr>\n",
       "    <tr>\n",
       "      <th>17</th>\n",
       "      <td>16.29</td>\n",
       "      <td>Male</td>\n",
       "      <td>No</td>\n",
       "      <td>Sun</td>\n",
       "      <td>Dinner</td>\n",
       "      <td>3</td>\n",
       "    </tr>\n",
       "    <tr>\n",
       "      <th>18</th>\n",
       "      <td>16.97</td>\n",
       "      <td>Female</td>\n",
       "      <td>No</td>\n",
       "      <td>Sun</td>\n",
       "      <td>Dinner</td>\n",
       "      <td>3</td>\n",
       "    </tr>\n",
       "    <tr>\n",
       "      <th>19</th>\n",
       "      <td>20.65</td>\n",
       "      <td>Male</td>\n",
       "      <td>No</td>\n",
       "      <td>Sat</td>\n",
       "      <td>Dinner</td>\n",
       "      <td>3</td>\n",
       "    </tr>\n",
       "    <tr>\n",
       "      <th>20</th>\n",
       "      <td>17.92</td>\n",
       "      <td>Male</td>\n",
       "      <td>No</td>\n",
       "      <td>Sat</td>\n",
       "      <td>Dinner</td>\n",
       "      <td>2</td>\n",
       "    </tr>\n",
       "    <tr>\n",
       "      <th>21</th>\n",
       "      <td>20.29</td>\n",
       "      <td>Female</td>\n",
       "      <td>No</td>\n",
       "      <td>Sat</td>\n",
       "      <td>Dinner</td>\n",
       "      <td>2</td>\n",
       "    </tr>\n",
       "    <tr>\n",
       "      <th>22</th>\n",
       "      <td>15.77</td>\n",
       "      <td>Female</td>\n",
       "      <td>No</td>\n",
       "      <td>Sat</td>\n",
       "      <td>Dinner</td>\n",
       "      <td>2</td>\n",
       "    </tr>\n",
       "    <tr>\n",
       "      <th>23</th>\n",
       "      <td>39.42</td>\n",
       "      <td>Male</td>\n",
       "      <td>No</td>\n",
       "      <td>Sat</td>\n",
       "      <td>Dinner</td>\n",
       "      <td>4</td>\n",
       "    </tr>\n",
       "    <tr>\n",
       "      <th>24</th>\n",
       "      <td>19.82</td>\n",
       "      <td>Male</td>\n",
       "      <td>No</td>\n",
       "      <td>Sat</td>\n",
       "      <td>Dinner</td>\n",
       "      <td>2</td>\n",
       "    </tr>\n",
       "  </tbody>\n",
       "</table>\n",
       "</div>"
      ],
      "text/plain": [
       "    total_bill     sex smoker  day    time  size\n",
       "0        16.99  Female     No  Sun  Dinner     2\n",
       "1        10.34    Male     No  Sun  Dinner     3\n",
       "2        21.01    Male     No  Sun  Dinner     3\n",
       "3        23.68    Male     No  Sun  Dinner     2\n",
       "4        24.59  Female     No  Sun  Dinner     4\n",
       "5        25.29    Male     No  Sun  Dinner     4\n",
       "6         8.77    Male     No  Sun  Dinner     2\n",
       "7        26.88    Male     No  Sun  Dinner     4\n",
       "8        15.04    Male     No  Sun  Dinner     2\n",
       "9        14.78    Male     No  Sun  Dinner     2\n",
       "10       10.27    Male     No  Sun  Dinner     2\n",
       "11       35.26  Female     No  Sun  Dinner     4\n",
       "12       15.42    Male     No  Sun  Dinner     2\n",
       "13       18.43    Male     No  Sun  Dinner     4\n",
       "14       14.83  Female     No  Sun  Dinner     2\n",
       "15       21.58    Male     No  Sun  Dinner     2\n",
       "16       10.33  Female     No  Sun  Dinner     3\n",
       "17       16.29    Male     No  Sun  Dinner     3\n",
       "18       16.97  Female     No  Sun  Dinner     3\n",
       "19       20.65    Male     No  Sat  Dinner     3\n",
       "20       17.92    Male     No  Sat  Dinner     2\n",
       "21       20.29  Female     No  Sat  Dinner     2\n",
       "22       15.77  Female     No  Sat  Dinner     2\n",
       "23       39.42    Male     No  Sat  Dinner     4\n",
       "24       19.82    Male     No  Sat  Dinner     2"
      ]
     },
     "execution_count": 38,
     "metadata": {},
     "output_type": "execute_result"
    }
   ],
   "source": [
    "test_df=test_df.drop(columns='id',axis=1)\n",
    "test_df"
   ]
  },
  {
   "cell_type": "code",
   "execution_count": 39,
   "id": "b200cb12",
   "metadata": {
    "execution": {
     "iopub.execute_input": "2022-07-02T21:00:56.996214Z",
     "iopub.status.busy": "2022-07-02T21:00:56.994994Z",
     "iopub.status.idle": "2022-07-02T21:00:57.009778Z",
     "shell.execute_reply": "2022-07-02T21:00:57.010394Z",
     "shell.execute_reply.started": "2022-07-02T20:52:58.442899Z"
    },
    "papermill": {
     "duration": 0.077249,
     "end_time": "2022-07-02T21:00:57.010572",
     "exception": false,
     "start_time": "2022-07-02T21:00:56.933323",
     "status": "completed"
    },
    "tags": []
   },
   "outputs": [
    {
     "data": {
      "text/html": [
       "<div>\n",
       "<style scoped>\n",
       "    .dataframe tbody tr th:only-of-type {\n",
       "        vertical-align: middle;\n",
       "    }\n",
       "\n",
       "    .dataframe tbody tr th {\n",
       "        vertical-align: top;\n",
       "    }\n",
       "\n",
       "    .dataframe thead th {\n",
       "        text-align: right;\n",
       "    }\n",
       "</style>\n",
       "<table border=\"1\" class=\"dataframe\">\n",
       "  <thead>\n",
       "    <tr style=\"text-align: right;\">\n",
       "      <th></th>\n",
       "      <th>total_bill</th>\n",
       "      <th>sex</th>\n",
       "      <th>smoker</th>\n",
       "      <th>day</th>\n",
       "      <th>time</th>\n",
       "      <th>size</th>\n",
       "    </tr>\n",
       "  </thead>\n",
       "  <tbody>\n",
       "    <tr>\n",
       "      <th>0</th>\n",
       "      <td>16.99</td>\n",
       "      <td>0</td>\n",
       "      <td>No</td>\n",
       "      <td>Sun</td>\n",
       "      <td>Dinner</td>\n",
       "      <td>2</td>\n",
       "    </tr>\n",
       "    <tr>\n",
       "      <th>1</th>\n",
       "      <td>10.34</td>\n",
       "      <td>1</td>\n",
       "      <td>No</td>\n",
       "      <td>Sun</td>\n",
       "      <td>Dinner</td>\n",
       "      <td>3</td>\n",
       "    </tr>\n",
       "    <tr>\n",
       "      <th>2</th>\n",
       "      <td>21.01</td>\n",
       "      <td>1</td>\n",
       "      <td>No</td>\n",
       "      <td>Sun</td>\n",
       "      <td>Dinner</td>\n",
       "      <td>3</td>\n",
       "    </tr>\n",
       "    <tr>\n",
       "      <th>3</th>\n",
       "      <td>23.68</td>\n",
       "      <td>1</td>\n",
       "      <td>No</td>\n",
       "      <td>Sun</td>\n",
       "      <td>Dinner</td>\n",
       "      <td>2</td>\n",
       "    </tr>\n",
       "    <tr>\n",
       "      <th>4</th>\n",
       "      <td>24.59</td>\n",
       "      <td>0</td>\n",
       "      <td>No</td>\n",
       "      <td>Sun</td>\n",
       "      <td>Dinner</td>\n",
       "      <td>4</td>\n",
       "    </tr>\n",
       "  </tbody>\n",
       "</table>\n",
       "</div>"
      ],
      "text/plain": [
       "   total_bill  sex smoker  day    time  size\n",
       "0       16.99    0     No  Sun  Dinner     2\n",
       "1       10.34    1     No  Sun  Dinner     3\n",
       "2       21.01    1     No  Sun  Dinner     3\n",
       "3       23.68    1     No  Sun  Dinner     2\n",
       "4       24.59    0     No  Sun  Dinner     4"
      ]
     },
     "execution_count": 39,
     "metadata": {},
     "output_type": "execute_result"
    }
   ],
   "source": [
    "test_df['sex']=test_df['sex'].map({'Female':0,'Male':1})\n",
    "test_df.head()"
   ]
  },
  {
   "cell_type": "code",
   "execution_count": 40,
   "id": "f381c1ed",
   "metadata": {
    "execution": {
     "iopub.execute_input": "2022-07-02T21:00:57.139330Z",
     "iopub.status.busy": "2022-07-02T21:00:57.138281Z",
     "iopub.status.idle": "2022-07-02T21:00:57.144298Z",
     "shell.execute_reply": "2022-07-02T21:00:57.144898Z",
     "shell.execute_reply.started": "2022-07-02T20:55:57.378950Z"
    },
    "papermill": {
     "duration": 0.076492,
     "end_time": "2022-07-02T21:00:57.145090",
     "exception": false,
     "start_time": "2022-07-02T21:00:57.068598",
     "status": "completed"
    },
    "tags": []
   },
   "outputs": [],
   "source": [
    "test_df['smoker']=test_df['smoker'].map({'No':0})\n",
    "test_df['day']=test_df['day'].map({'Sun':0,'Sat':1})\n",
    "test_df['time']=test_df['time'].map({'Dinner':0})"
   ]
  },
  {
   "cell_type": "code",
   "execution_count": 41,
   "id": "4b2f75e1",
   "metadata": {
    "execution": {
     "iopub.execute_input": "2022-07-02T21:00:57.265579Z",
     "iopub.status.busy": "2022-07-02T21:00:57.264520Z",
     "iopub.status.idle": "2022-07-02T21:00:57.276617Z",
     "shell.execute_reply": "2022-07-02T21:00:57.277236Z",
     "shell.execute_reply.started": "2022-07-02T20:56:04.908264Z"
    },
    "papermill": {
     "duration": 0.073198,
     "end_time": "2022-07-02T21:00:57.277447",
     "exception": false,
     "start_time": "2022-07-02T21:00:57.204249",
     "status": "completed"
    },
    "tags": []
   },
   "outputs": [
    {
     "data": {
      "text/html": [
       "<div>\n",
       "<style scoped>\n",
       "    .dataframe tbody tr th:only-of-type {\n",
       "        vertical-align: middle;\n",
       "    }\n",
       "\n",
       "    .dataframe tbody tr th {\n",
       "        vertical-align: top;\n",
       "    }\n",
       "\n",
       "    .dataframe thead th {\n",
       "        text-align: right;\n",
       "    }\n",
       "</style>\n",
       "<table border=\"1\" class=\"dataframe\">\n",
       "  <thead>\n",
       "    <tr style=\"text-align: right;\">\n",
       "      <th></th>\n",
       "      <th>total_bill</th>\n",
       "      <th>sex</th>\n",
       "      <th>smoker</th>\n",
       "      <th>day</th>\n",
       "      <th>time</th>\n",
       "      <th>size</th>\n",
       "    </tr>\n",
       "  </thead>\n",
       "  <tbody>\n",
       "    <tr>\n",
       "      <th>0</th>\n",
       "      <td>16.99</td>\n",
       "      <td>0</td>\n",
       "      <td>0</td>\n",
       "      <td>0</td>\n",
       "      <td>0</td>\n",
       "      <td>2</td>\n",
       "    </tr>\n",
       "    <tr>\n",
       "      <th>1</th>\n",
       "      <td>10.34</td>\n",
       "      <td>1</td>\n",
       "      <td>0</td>\n",
       "      <td>0</td>\n",
       "      <td>0</td>\n",
       "      <td>3</td>\n",
       "    </tr>\n",
       "    <tr>\n",
       "      <th>2</th>\n",
       "      <td>21.01</td>\n",
       "      <td>1</td>\n",
       "      <td>0</td>\n",
       "      <td>0</td>\n",
       "      <td>0</td>\n",
       "      <td>3</td>\n",
       "    </tr>\n",
       "    <tr>\n",
       "      <th>3</th>\n",
       "      <td>23.68</td>\n",
       "      <td>1</td>\n",
       "      <td>0</td>\n",
       "      <td>0</td>\n",
       "      <td>0</td>\n",
       "      <td>2</td>\n",
       "    </tr>\n",
       "    <tr>\n",
       "      <th>4</th>\n",
       "      <td>24.59</td>\n",
       "      <td>0</td>\n",
       "      <td>0</td>\n",
       "      <td>0</td>\n",
       "      <td>0</td>\n",
       "      <td>4</td>\n",
       "    </tr>\n",
       "  </tbody>\n",
       "</table>\n",
       "</div>"
      ],
      "text/plain": [
       "   total_bill  sex  smoker  day  time  size\n",
       "0       16.99    0       0    0     0     2\n",
       "1       10.34    1       0    0     0     3\n",
       "2       21.01    1       0    0     0     3\n",
       "3       23.68    1       0    0     0     2\n",
       "4       24.59    0       0    0     0     4"
      ]
     },
     "execution_count": 41,
     "metadata": {},
     "output_type": "execute_result"
    }
   ],
   "source": [
    "test_df.head()"
   ]
  },
  {
   "cell_type": "code",
   "execution_count": 42,
   "id": "a2bc3e3e",
   "metadata": {
    "execution": {
     "iopub.execute_input": "2022-07-02T21:00:57.398816Z",
     "iopub.status.busy": "2022-07-02T21:00:57.397592Z",
     "iopub.status.idle": "2022-07-02T21:00:57.648664Z",
     "shell.execute_reply": "2022-07-02T21:00:57.648020Z",
     "shell.execute_reply.started": "2022-07-02T20:56:32.248663Z"
    },
    "papermill": {
     "duration": 0.314181,
     "end_time": "2022-07-02T21:00:57.648833",
     "exception": false,
     "start_time": "2022-07-02T21:00:57.334652",
     "status": "completed"
    },
    "tags": []
   },
   "outputs": [
    {
     "data": {
      "text/plain": [
       "RandomForestRegressor(max_samples=0.5, n_estimators=123)"
      ]
     },
     "execution_count": 42,
     "metadata": {},
     "output_type": "execute_result"
    }
   ],
   "source": [
    "best_grid.fit(x,y)"
   ]
  },
  {
   "cell_type": "code",
   "execution_count": 43,
   "id": "46c73298",
   "metadata": {
    "execution": {
     "iopub.execute_input": "2022-07-02T21:00:57.775192Z",
     "iopub.status.busy": "2022-07-02T21:00:57.774470Z",
     "iopub.status.idle": "2022-07-02T21:00:57.788321Z",
     "shell.execute_reply": "2022-07-02T21:00:57.789080Z",
     "shell.execute_reply.started": "2022-07-02T20:56:55.916070Z"
    },
    "papermill": {
     "duration": 0.078907,
     "end_time": "2022-07-02T21:00:57.789289",
     "exception": false,
     "start_time": "2022-07-02T21:00:57.710382",
     "status": "completed"
    },
    "tags": []
   },
   "outputs": [],
   "source": [
    "y_pred=best_grid.predict(test_df)"
   ]
  },
  {
   "cell_type": "code",
   "execution_count": 44,
   "id": "b3deca70",
   "metadata": {
    "execution": {
     "iopub.execute_input": "2022-07-02T21:00:57.926548Z",
     "iopub.status.busy": "2022-07-02T21:00:57.925519Z",
     "iopub.status.idle": "2022-07-02T21:00:57.932236Z",
     "shell.execute_reply": "2022-07-02T21:00:57.932681Z",
     "shell.execute_reply.started": "2022-07-02T20:58:01.066840Z"
    },
    "papermill": {
     "duration": 0.067265,
     "end_time": "2022-07-02T21:00:57.932875",
     "exception": false,
     "start_time": "2022-07-02T21:00:57.865610",
     "status": "completed"
    },
    "tags": []
   },
   "outputs": [
    {
     "data": {
      "text/plain": [
       "array([2.34, 1.74, 3.41, 3.35, 3.35, 4.38, 1.71, 3.65, 2.26, 2.6 , 1.83,\n",
       "       4.98, 1.98, 2.82, 2.72, 3.73, 1.91, 2.73, 2.84, 3.1 , 3.04, 2.85,\n",
       "       2.48, 5.76, 3.06])"
      ]
     },
     "execution_count": 44,
     "metadata": {},
     "output_type": "execute_result"
    }
   ],
   "source": [
    "y_pred=y_pred.round(2)\n",
    "y_pred"
   ]
  },
  {
   "cell_type": "code",
   "execution_count": 45,
   "id": "11a84a5c",
   "metadata": {
    "execution": {
     "iopub.execute_input": "2022-07-02T21:00:58.052246Z",
     "iopub.status.busy": "2022-07-02T21:00:58.051007Z",
     "iopub.status.idle": "2022-07-02T21:00:58.057152Z",
     "shell.execute_reply": "2022-07-02T21:00:58.057775Z",
     "shell.execute_reply.started": "2022-07-02T20:58:53.989040Z"
    },
    "papermill": {
     "duration": 0.067134,
     "end_time": "2022-07-02T21:00:58.057993",
     "exception": false,
     "start_time": "2022-07-02T21:00:57.990859",
     "status": "completed"
    },
    "tags": []
   },
   "outputs": [],
   "source": [
    "sub=pd.DataFrame({'id':sample_df['id'],'tip':y_pred})"
   ]
  },
  {
   "cell_type": "code",
   "execution_count": 46,
   "id": "33074383",
   "metadata": {
    "execution": {
     "iopub.execute_input": "2022-07-02T21:00:58.182411Z",
     "iopub.status.busy": "2022-07-02T21:00:58.181294Z",
     "iopub.status.idle": "2022-07-02T21:00:58.188690Z",
     "shell.execute_reply": "2022-07-02T21:00:58.189243Z",
     "shell.execute_reply.started": "2022-07-02T20:59:27.066436Z"
    },
    "papermill": {
     "duration": 0.071318,
     "end_time": "2022-07-02T21:00:58.189458",
     "exception": false,
     "start_time": "2022-07-02T21:00:58.118140",
     "status": "completed"
    },
    "tags": []
   },
   "outputs": [],
   "source": [
    "sub.to_csv('submission.csv',index=None)"
   ]
  },
  {
   "cell_type": "code",
   "execution_count": null,
   "id": "6fbe9693",
   "metadata": {
    "papermill": {
     "duration": 0.05999,
     "end_time": "2022-07-02T21:00:58.309339",
     "exception": false,
     "start_time": "2022-07-02T21:00:58.249349",
     "status": "completed"
    },
    "tags": []
   },
   "outputs": [],
   "source": []
  }
 ],
 "metadata": {
  "kernelspec": {
   "display_name": "Python 3",
   "language": "python",
   "name": "python3"
  },
  "language_info": {
   "codemirror_mode": {
    "name": "ipython",
    "version": 3
   },
   "file_extension": ".py",
   "mimetype": "text/x-python",
   "name": "python",
   "nbconvert_exporter": "python",
   "pygments_lexer": "ipython3",
   "version": "3.7.10"
  },
  "papermill": {
   "default_parameters": {},
   "duration": 62.890363,
   "end_time": "2022-07-02T21:00:59.668329",
   "environment_variables": {},
   "exception": null,
   "input_path": "__notebook__.ipynb",
   "output_path": "__notebook__.ipynb",
   "parameters": {},
   "start_time": "2022-07-02T20:59:56.777966",
   "version": "2.3.3"
  }
 },
 "nbformat": 4,
 "nbformat_minor": 5
}
