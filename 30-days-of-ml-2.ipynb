{
 "cells": [
  {
   "cell_type": "code",
   "execution_count": 1,
   "id": "49194007",
   "metadata": {
    "execution": {
     "iopub.execute_input": "2022-07-02T16:49:35.141996Z",
     "iopub.status.busy": "2022-07-02T16:49:35.140797Z",
     "iopub.status.idle": "2022-07-02T16:49:36.172966Z",
     "shell.execute_reply": "2022-07-02T16:49:36.172085Z",
     "shell.execute_reply.started": "2022-07-02T16:06:35.317721Z"
    },
    "papermill": {
     "duration": 1.080379,
     "end_time": "2022-07-02T16:49:36.173162",
     "exception": false,
     "start_time": "2022-07-02T16:49:35.092783",
     "status": "completed"
    },
    "tags": []
   },
   "outputs": [],
   "source": [
    "import pandas as pd\n",
    "import numpy as np\n",
    "from matplotlib import pyplot as plt\n",
    "import seaborn as sns\n",
    "train_df=pd.read_csv('../input/30-days-of-ml-2/training.csv')\n",
    "test_df=pd.read_csv('../input/30-days-of-ml-2/test.csv')\n",
    "sample_df=pd.read_csv('../input/30-days-of-ml-2/sample.csv')"
   ]
  },
  {
   "cell_type": "code",
   "execution_count": 2,
   "id": "775684fb",
   "metadata": {
    "execution": {
     "iopub.execute_input": "2022-07-02T16:49:36.271439Z",
     "iopub.status.busy": "2022-07-02T16:49:36.270725Z",
     "iopub.status.idle": "2022-07-02T16:49:36.284899Z",
     "shell.execute_reply": "2022-07-02T16:49:36.284395Z",
     "shell.execute_reply.started": "2022-07-02T16:06:36.444389Z"
    },
    "papermill": {
     "duration": 0.064792,
     "end_time": "2022-07-02T16:49:36.285046",
     "exception": false,
     "start_time": "2022-07-02T16:49:36.220254",
     "status": "completed"
    },
    "tags": []
   },
   "outputs": [
    {
     "data": {
      "text/html": [
       "<div>\n",
       "<style scoped>\n",
       "    .dataframe tbody tr th:only-of-type {\n",
       "        vertical-align: middle;\n",
       "    }\n",
       "\n",
       "    .dataframe tbody tr th {\n",
       "        vertical-align: top;\n",
       "    }\n",
       "\n",
       "    .dataframe thead th {\n",
       "        text-align: right;\n",
       "    }\n",
       "</style>\n",
       "<table border=\"1\" class=\"dataframe\">\n",
       "  <thead>\n",
       "    <tr style=\"text-align: right;\">\n",
       "      <th></th>\n",
       "      <th>User ID</th>\n",
       "      <th>Gender</th>\n",
       "      <th>Age</th>\n",
       "      <th>EstimatedSalary</th>\n",
       "      <th>Purchased</th>\n",
       "    </tr>\n",
       "  </thead>\n",
       "  <tbody>\n",
       "    <tr>\n",
       "      <th>0</th>\n",
       "      <td>15761950</td>\n",
       "      <td>Female</td>\n",
       "      <td>48</td>\n",
       "      <td>138000</td>\n",
       "      <td>1</td>\n",
       "    </tr>\n",
       "    <tr>\n",
       "      <th>1</th>\n",
       "      <td>15782530</td>\n",
       "      <td>Female</td>\n",
       "      <td>33</td>\n",
       "      <td>113000</td>\n",
       "      <td>0</td>\n",
       "    </tr>\n",
       "    <tr>\n",
       "      <th>2</th>\n",
       "      <td>15588080</td>\n",
       "      <td>Female</td>\n",
       "      <td>53</td>\n",
       "      <td>104000</td>\n",
       "      <td>1</td>\n",
       "    </tr>\n",
       "    <tr>\n",
       "      <th>3</th>\n",
       "      <td>15589449</td>\n",
       "      <td>Male</td>\n",
       "      <td>39</td>\n",
       "      <td>106000</td>\n",
       "      <td>1</td>\n",
       "    </tr>\n",
       "    <tr>\n",
       "      <th>4</th>\n",
       "      <td>15782806</td>\n",
       "      <td>Female</td>\n",
       "      <td>27</td>\n",
       "      <td>31000</td>\n",
       "      <td>0</td>\n",
       "    </tr>\n",
       "  </tbody>\n",
       "</table>\n",
       "</div>"
      ],
      "text/plain": [
       "    User ID  Gender  Age  EstimatedSalary  Purchased\n",
       "0  15761950  Female   48           138000          1\n",
       "1  15782530  Female   33           113000          0\n",
       "2  15588080  Female   53           104000          1\n",
       "3  15589449    Male   39           106000          1\n",
       "4  15782806  Female   27            31000          0"
      ]
     },
     "execution_count": 2,
     "metadata": {},
     "output_type": "execute_result"
    }
   ],
   "source": [
    "train_df.head()"
   ]
  },
  {
   "cell_type": "code",
   "execution_count": 3,
   "id": "305e5c26",
   "metadata": {
    "execution": {
     "iopub.execute_input": "2022-07-02T16:49:36.377019Z",
     "iopub.status.busy": "2022-07-02T16:49:36.374698Z",
     "iopub.status.idle": "2022-07-02T16:49:36.380244Z",
     "shell.execute_reply": "2022-07-02T16:49:36.380701Z",
     "shell.execute_reply.started": "2022-07-02T16:06:36.472383Z"
    },
    "papermill": {
     "duration": 0.052665,
     "end_time": "2022-07-02T16:49:36.380875",
     "exception": false,
     "start_time": "2022-07-02T16:49:36.328210",
     "status": "completed"
    },
    "tags": []
   },
   "outputs": [
    {
     "data": {
      "text/plain": [
       "(320, 5)"
      ]
     },
     "execution_count": 3,
     "metadata": {},
     "output_type": "execute_result"
    }
   ],
   "source": [
    "train_df.shape"
   ]
  },
  {
   "cell_type": "code",
   "execution_count": 4,
   "id": "10dcac83",
   "metadata": {
    "execution": {
     "iopub.execute_input": "2022-07-02T16:49:36.476853Z",
     "iopub.status.busy": "2022-07-02T16:49:36.476126Z",
     "iopub.status.idle": "2022-07-02T16:49:36.478747Z",
     "shell.execute_reply": "2022-07-02T16:49:36.479238Z",
     "shell.execute_reply.started": "2022-07-02T16:06:36.480865Z"
    },
    "papermill": {
     "duration": 0.055213,
     "end_time": "2022-07-02T16:49:36.479401",
     "exception": false,
     "start_time": "2022-07-02T16:49:36.424188",
     "status": "completed"
    },
    "tags": []
   },
   "outputs": [
    {
     "data": {
      "text/html": [
       "<div>\n",
       "<style scoped>\n",
       "    .dataframe tbody tr th:only-of-type {\n",
       "        vertical-align: middle;\n",
       "    }\n",
       "\n",
       "    .dataframe tbody tr th {\n",
       "        vertical-align: top;\n",
       "    }\n",
       "\n",
       "    .dataframe thead th {\n",
       "        text-align: right;\n",
       "    }\n",
       "</style>\n",
       "<table border=\"1\" class=\"dataframe\">\n",
       "  <thead>\n",
       "    <tr style=\"text-align: right;\">\n",
       "      <th></th>\n",
       "      <th>User ID</th>\n",
       "      <th>Gender</th>\n",
       "      <th>Age</th>\n",
       "      <th>EstimatedSalary</th>\n",
       "    </tr>\n",
       "  </thead>\n",
       "  <tbody>\n",
       "    <tr>\n",
       "      <th>0</th>\n",
       "      <td>15657163</td>\n",
       "      <td>Male</td>\n",
       "      <td>35</td>\n",
       "      <td>58000</td>\n",
       "    </tr>\n",
       "    <tr>\n",
       "      <th>1</th>\n",
       "      <td>15577514</td>\n",
       "      <td>Male</td>\n",
       "      <td>43</td>\n",
       "      <td>129000</td>\n",
       "    </tr>\n",
       "    <tr>\n",
       "      <th>2</th>\n",
       "      <td>15807909</td>\n",
       "      <td>Male</td>\n",
       "      <td>19</td>\n",
       "      <td>85000</td>\n",
       "    </tr>\n",
       "    <tr>\n",
       "      <th>3</th>\n",
       "      <td>15646091</td>\n",
       "      <td>Female</td>\n",
       "      <td>46</td>\n",
       "      <td>32000</td>\n",
       "    </tr>\n",
       "    <tr>\n",
       "      <th>4</th>\n",
       "      <td>15730688</td>\n",
       "      <td>Male</td>\n",
       "      <td>41</td>\n",
       "      <td>52000</td>\n",
       "    </tr>\n",
       "  </tbody>\n",
       "</table>\n",
       "</div>"
      ],
      "text/plain": [
       "    User ID  Gender  Age  EstimatedSalary\n",
       "0  15657163    Male   35            58000\n",
       "1  15577514    Male   43           129000\n",
       "2  15807909    Male   19            85000\n",
       "3  15646091  Female   46            32000\n",
       "4  15730688    Male   41            52000"
      ]
     },
     "execution_count": 4,
     "metadata": {},
     "output_type": "execute_result"
    }
   ],
   "source": [
    "test_df.head()"
   ]
  },
  {
   "cell_type": "code",
   "execution_count": 5,
   "id": "ae9dc3e7",
   "metadata": {
    "execution": {
     "iopub.execute_input": "2022-07-02T16:49:36.572436Z",
     "iopub.status.busy": "2022-07-02T16:49:36.571625Z",
     "iopub.status.idle": "2022-07-02T16:49:36.574686Z",
     "shell.execute_reply": "2022-07-02T16:49:36.575129Z",
     "shell.execute_reply.started": "2022-07-02T16:06:36.503041Z"
    },
    "papermill": {
     "duration": 0.051966,
     "end_time": "2022-07-02T16:49:36.575336",
     "exception": false,
     "start_time": "2022-07-02T16:49:36.523370",
     "status": "completed"
    },
    "tags": []
   },
   "outputs": [
    {
     "data": {
      "text/plain": [
       "(80, 4)"
      ]
     },
     "execution_count": 5,
     "metadata": {},
     "output_type": "execute_result"
    }
   ],
   "source": [
    "test_df.shape"
   ]
  },
  {
   "cell_type": "code",
   "execution_count": 6,
   "id": "013b107e",
   "metadata": {
    "execution": {
     "iopub.execute_input": "2022-07-02T16:49:36.671609Z",
     "iopub.status.busy": "2022-07-02T16:49:36.670554Z",
     "iopub.status.idle": "2022-07-02T16:49:36.674582Z",
     "shell.execute_reply": "2022-07-02T16:49:36.674049Z",
     "shell.execute_reply.started": "2022-07-02T16:06:36.516914Z"
    },
    "papermill": {
     "duration": 0.055793,
     "end_time": "2022-07-02T16:49:36.674735",
     "exception": false,
     "start_time": "2022-07-02T16:49:36.618942",
     "status": "completed"
    },
    "tags": []
   },
   "outputs": [
    {
     "data": {
      "text/html": [
       "<div>\n",
       "<style scoped>\n",
       "    .dataframe tbody tr th:only-of-type {\n",
       "        vertical-align: middle;\n",
       "    }\n",
       "\n",
       "    .dataframe tbody tr th {\n",
       "        vertical-align: top;\n",
       "    }\n",
       "\n",
       "    .dataframe thead th {\n",
       "        text-align: right;\n",
       "    }\n",
       "</style>\n",
       "<table border=\"1\" class=\"dataframe\">\n",
       "  <thead>\n",
       "    <tr style=\"text-align: right;\">\n",
       "      <th></th>\n",
       "      <th>User ID</th>\n",
       "      <th>Purchased</th>\n",
       "    </tr>\n",
       "  </thead>\n",
       "  <tbody>\n",
       "    <tr>\n",
       "      <th>0</th>\n",
       "      <td>15657163</td>\n",
       "      <td>0</td>\n",
       "    </tr>\n",
       "    <tr>\n",
       "      <th>1</th>\n",
       "      <td>15577514</td>\n",
       "      <td>0</td>\n",
       "    </tr>\n",
       "    <tr>\n",
       "      <th>2</th>\n",
       "      <td>15807909</td>\n",
       "      <td>0</td>\n",
       "    </tr>\n",
       "    <tr>\n",
       "      <th>3</th>\n",
       "      <td>15646091</td>\n",
       "      <td>0</td>\n",
       "    </tr>\n",
       "    <tr>\n",
       "      <th>4</th>\n",
       "      <td>15730688</td>\n",
       "      <td>0</td>\n",
       "    </tr>\n",
       "  </tbody>\n",
       "</table>\n",
       "</div>"
      ],
      "text/plain": [
       "    User ID  Purchased\n",
       "0  15657163          0\n",
       "1  15577514          0\n",
       "2  15807909          0\n",
       "3  15646091          0\n",
       "4  15730688          0"
      ]
     },
     "execution_count": 6,
     "metadata": {},
     "output_type": "execute_result"
    }
   ],
   "source": [
    "sample_df.head()"
   ]
  },
  {
   "cell_type": "code",
   "execution_count": 7,
   "id": "84e5fab0",
   "metadata": {
    "execution": {
     "iopub.execute_input": "2022-07-02T16:49:36.777566Z",
     "iopub.status.busy": "2022-07-02T16:49:36.776447Z",
     "iopub.status.idle": "2022-07-02T16:49:36.780528Z",
     "shell.execute_reply": "2022-07-02T16:49:36.780029Z",
     "shell.execute_reply.started": "2022-07-02T16:06:36.534690Z"
    },
    "papermill": {
     "duration": 0.061459,
     "end_time": "2022-07-02T16:49:36.780667",
     "exception": false,
     "start_time": "2022-07-02T16:49:36.719208",
     "status": "completed"
    },
    "tags": []
   },
   "outputs": [
    {
     "data": {
      "text/plain": [
       "0    80\n",
       "Name: Purchased, dtype: int64"
      ]
     },
     "execution_count": 7,
     "metadata": {},
     "output_type": "execute_result"
    }
   ],
   "source": [
    "sample_df['Purchased'].value_counts()"
   ]
  },
  {
   "cell_type": "code",
   "execution_count": 8,
   "id": "7536cb50",
   "metadata": {
    "execution": {
     "iopub.execute_input": "2022-07-02T16:49:36.874313Z",
     "iopub.status.busy": "2022-07-02T16:49:36.873361Z",
     "iopub.status.idle": "2022-07-02T16:49:36.882570Z",
     "shell.execute_reply": "2022-07-02T16:49:36.883039Z",
     "shell.execute_reply.started": "2022-07-02T16:06:36.559640Z"
    },
    "papermill": {
     "duration": 0.057454,
     "end_time": "2022-07-02T16:49:36.883216",
     "exception": false,
     "start_time": "2022-07-02T16:49:36.825762",
     "status": "completed"
    },
    "tags": []
   },
   "outputs": [
    {
     "data": {
      "text/html": [
       "<div>\n",
       "<style scoped>\n",
       "    .dataframe tbody tr th:only-of-type {\n",
       "        vertical-align: middle;\n",
       "    }\n",
       "\n",
       "    .dataframe tbody tr th {\n",
       "        vertical-align: top;\n",
       "    }\n",
       "\n",
       "    .dataframe thead th {\n",
       "        text-align: right;\n",
       "    }\n",
       "</style>\n",
       "<table border=\"1\" class=\"dataframe\">\n",
       "  <thead>\n",
       "    <tr style=\"text-align: right;\">\n",
       "      <th></th>\n",
       "      <th>User ID</th>\n",
       "      <th>Gender</th>\n",
       "      <th>Age</th>\n",
       "      <th>EstimatedSalary</th>\n",
       "      <th>Purchased</th>\n",
       "    </tr>\n",
       "  </thead>\n",
       "  <tbody>\n",
       "    <tr>\n",
       "      <th>319</th>\n",
       "      <td>15750447</td>\n",
       "      <td>Male</td>\n",
       "      <td>37</td>\n",
       "      <td>70000</td>\n",
       "      <td>1</td>\n",
       "    </tr>\n",
       "  </tbody>\n",
       "</table>\n",
       "</div>"
      ],
      "text/plain": [
       "      User ID Gender  Age  EstimatedSalary  Purchased\n",
       "319  15750447   Male   37            70000          1"
      ]
     },
     "execution_count": 8,
     "metadata": {},
     "output_type": "execute_result"
    }
   ],
   "source": [
    "train_df.tail(1)"
   ]
  },
  {
   "cell_type": "code",
   "execution_count": 9,
   "id": "0bf72667",
   "metadata": {
    "execution": {
     "iopub.execute_input": "2022-07-02T16:49:36.987551Z",
     "iopub.status.busy": "2022-07-02T16:49:36.986752Z",
     "iopub.status.idle": "2022-07-02T16:49:36.989943Z",
     "shell.execute_reply": "2022-07-02T16:49:36.990424Z",
     "shell.execute_reply.started": "2022-07-02T16:06:36.579302Z"
    },
    "papermill": {
     "duration": 0.062552,
     "end_time": "2022-07-02T16:49:36.990587",
     "exception": false,
     "start_time": "2022-07-02T16:49:36.928035",
     "status": "completed"
    },
    "tags": []
   },
   "outputs": [
    {
     "data": {
      "text/html": [
       "<div>\n",
       "<style scoped>\n",
       "    .dataframe tbody tr th:only-of-type {\n",
       "        vertical-align: middle;\n",
       "    }\n",
       "\n",
       "    .dataframe tbody tr th {\n",
       "        vertical-align: top;\n",
       "    }\n",
       "\n",
       "    .dataframe thead th {\n",
       "        text-align: right;\n",
       "    }\n",
       "</style>\n",
       "<table border=\"1\" class=\"dataframe\">\n",
       "  <thead>\n",
       "    <tr style=\"text-align: right;\">\n",
       "      <th></th>\n",
       "      <th>Gender</th>\n",
       "      <th>Age</th>\n",
       "      <th>EstimatedSalary</th>\n",
       "      <th>Purchased</th>\n",
       "    </tr>\n",
       "  </thead>\n",
       "  <tbody>\n",
       "    <tr>\n",
       "      <th>315</th>\n",
       "      <td>Male</td>\n",
       "      <td>35</td>\n",
       "      <td>55000</td>\n",
       "      <td>0</td>\n",
       "    </tr>\n",
       "    <tr>\n",
       "      <th>316</th>\n",
       "      <td>Female</td>\n",
       "      <td>53</td>\n",
       "      <td>82000</td>\n",
       "      <td>1</td>\n",
       "    </tr>\n",
       "    <tr>\n",
       "      <th>317</th>\n",
       "      <td>Male</td>\n",
       "      <td>38</td>\n",
       "      <td>71000</td>\n",
       "      <td>0</td>\n",
       "    </tr>\n",
       "    <tr>\n",
       "      <th>318</th>\n",
       "      <td>Male</td>\n",
       "      <td>35</td>\n",
       "      <td>50000</td>\n",
       "      <td>0</td>\n",
       "    </tr>\n",
       "    <tr>\n",
       "      <th>319</th>\n",
       "      <td>Male</td>\n",
       "      <td>37</td>\n",
       "      <td>70000</td>\n",
       "      <td>1</td>\n",
       "    </tr>\n",
       "  </tbody>\n",
       "</table>\n",
       "</div>"
      ],
      "text/plain": [
       "     Gender  Age  EstimatedSalary  Purchased\n",
       "315    Male   35            55000          0\n",
       "316  Female   53            82000          1\n",
       "317    Male   38            71000          0\n",
       "318    Male   35            50000          0\n",
       "319    Male   37            70000          1"
      ]
     },
     "execution_count": 9,
     "metadata": {},
     "output_type": "execute_result"
    }
   ],
   "source": [
    "train_df=train_df.drop(columns='User ID',axis=1)\n",
    "train_df.tail()"
   ]
  },
  {
   "cell_type": "code",
   "execution_count": 10,
   "id": "f2731394",
   "metadata": {
    "execution": {
     "iopub.execute_input": "2022-07-02T16:49:37.085512Z",
     "iopub.status.busy": "2022-07-02T16:49:37.084560Z",
     "iopub.status.idle": "2022-07-02T16:49:37.223069Z",
     "shell.execute_reply": "2022-07-02T16:49:37.222490Z",
     "shell.execute_reply.started": "2022-07-02T16:06:36.638287Z"
    },
    "papermill": {
     "duration": 0.186882,
     "end_time": "2022-07-02T16:49:37.223224",
     "exception": false,
     "start_time": "2022-07-02T16:49:37.036342",
     "status": "completed"
    },
    "tags": []
   },
   "outputs": [],
   "source": [
    "from sklearn.preprocessing import OneHotEncoder\n",
    "oh=OneHotEncoder(drop='first',sparse=False)"
   ]
  },
  {
   "cell_type": "code",
   "execution_count": 11,
   "id": "cf19ec59",
   "metadata": {
    "execution": {
     "iopub.execute_input": "2022-07-02T16:49:37.325832Z",
     "iopub.status.busy": "2022-07-02T16:49:37.319847Z",
     "iopub.status.idle": "2022-07-02T16:49:37.335923Z",
     "shell.execute_reply": "2022-07-02T16:49:37.336434Z",
     "shell.execute_reply.started": "2022-07-02T16:06:36.789215Z"
    },
    "papermill": {
     "duration": 0.065995,
     "end_time": "2022-07-02T16:49:37.336626",
     "exception": false,
     "start_time": "2022-07-02T16:49:37.270631",
     "status": "completed"
    },
    "tags": []
   },
   "outputs": [
    {
     "data": {
      "text/html": [
       "<div>\n",
       "<style scoped>\n",
       "    .dataframe tbody tr th:only-of-type {\n",
       "        vertical-align: middle;\n",
       "    }\n",
       "\n",
       "    .dataframe tbody tr th {\n",
       "        vertical-align: top;\n",
       "    }\n",
       "\n",
       "    .dataframe thead th {\n",
       "        text-align: right;\n",
       "    }\n",
       "</style>\n",
       "<table border=\"1\" class=\"dataframe\">\n",
       "  <thead>\n",
       "    <tr style=\"text-align: right;\">\n",
       "      <th></th>\n",
       "      <th>Gender</th>\n",
       "      <th>Age</th>\n",
       "      <th>EstimatedSalary</th>\n",
       "      <th>Purchased</th>\n",
       "    </tr>\n",
       "  </thead>\n",
       "  <tbody>\n",
       "    <tr>\n",
       "      <th>0</th>\n",
       "      <td>0.0</td>\n",
       "      <td>48</td>\n",
       "      <td>138000</td>\n",
       "      <td>1</td>\n",
       "    </tr>\n",
       "    <tr>\n",
       "      <th>1</th>\n",
       "      <td>0.0</td>\n",
       "      <td>33</td>\n",
       "      <td>113000</td>\n",
       "      <td>0</td>\n",
       "    </tr>\n",
       "    <tr>\n",
       "      <th>2</th>\n",
       "      <td>0.0</td>\n",
       "      <td>53</td>\n",
       "      <td>104000</td>\n",
       "      <td>1</td>\n",
       "    </tr>\n",
       "    <tr>\n",
       "      <th>3</th>\n",
       "      <td>1.0</td>\n",
       "      <td>39</td>\n",
       "      <td>106000</td>\n",
       "      <td>1</td>\n",
       "    </tr>\n",
       "    <tr>\n",
       "      <th>4</th>\n",
       "      <td>0.0</td>\n",
       "      <td>27</td>\n",
       "      <td>31000</td>\n",
       "      <td>0</td>\n",
       "    </tr>\n",
       "  </tbody>\n",
       "</table>\n",
       "</div>"
      ],
      "text/plain": [
       "   Gender  Age  EstimatedSalary  Purchased\n",
       "0     0.0   48           138000          1\n",
       "1     0.0   33           113000          0\n",
       "2     0.0   53           104000          1\n",
       "3     1.0   39           106000          1\n",
       "4     0.0   27            31000          0"
      ]
     },
     "execution_count": 11,
     "metadata": {},
     "output_type": "execute_result"
    }
   ],
   "source": [
    "train_df['Gender']=oh.fit_transform(train_df[['Gender']])\n",
    "train_df.head()"
   ]
  },
  {
   "cell_type": "code",
   "execution_count": 12,
   "id": "855728ee",
   "metadata": {
    "execution": {
     "iopub.execute_input": "2022-07-02T16:49:37.434784Z",
     "iopub.status.busy": "2022-07-02T16:49:37.431217Z",
     "iopub.status.idle": "2022-07-02T16:49:37.436911Z",
     "shell.execute_reply": "2022-07-02T16:49:37.437389Z",
     "shell.execute_reply.started": "2022-07-02T16:06:36.856966Z"
    },
    "papermill": {
     "duration": 0.054958,
     "end_time": "2022-07-02T16:49:37.437568",
     "exception": false,
     "start_time": "2022-07-02T16:49:37.382610",
     "status": "completed"
    },
    "tags": []
   },
   "outputs": [],
   "source": [
    "x=train_df.drop(columns='Purchased',axis=1)\n",
    "y=train_df['Purchased']"
   ]
  },
  {
   "cell_type": "code",
   "execution_count": 13,
   "id": "c86ddbd3",
   "metadata": {
    "execution": {
     "iopub.execute_input": "2022-07-02T16:49:37.533098Z",
     "iopub.status.busy": "2022-07-02T16:49:37.532513Z",
     "iopub.status.idle": "2022-07-02T16:49:37.544937Z",
     "shell.execute_reply": "2022-07-02T16:49:37.544326Z",
     "shell.execute_reply.started": "2022-07-02T16:06:36.956518Z"
    },
    "papermill": {
     "duration": 0.061155,
     "end_time": "2022-07-02T16:49:37.545073",
     "exception": false,
     "start_time": "2022-07-02T16:49:37.483918",
     "status": "completed"
    },
    "tags": []
   },
   "outputs": [
    {
     "data": {
      "text/html": [
       "<div>\n",
       "<style scoped>\n",
       "    .dataframe tbody tr th:only-of-type {\n",
       "        vertical-align: middle;\n",
       "    }\n",
       "\n",
       "    .dataframe tbody tr th {\n",
       "        vertical-align: top;\n",
       "    }\n",
       "\n",
       "    .dataframe thead th {\n",
       "        text-align: right;\n",
       "    }\n",
       "</style>\n",
       "<table border=\"1\" class=\"dataframe\">\n",
       "  <thead>\n",
       "    <tr style=\"text-align: right;\">\n",
       "      <th></th>\n",
       "      <th>Gender</th>\n",
       "      <th>Age</th>\n",
       "      <th>EstimatedSalary</th>\n",
       "    </tr>\n",
       "  </thead>\n",
       "  <tbody>\n",
       "    <tr>\n",
       "      <th>0</th>\n",
       "      <td>0.0</td>\n",
       "      <td>48</td>\n",
       "      <td>138000</td>\n",
       "    </tr>\n",
       "    <tr>\n",
       "      <th>1</th>\n",
       "      <td>0.0</td>\n",
       "      <td>33</td>\n",
       "      <td>113000</td>\n",
       "    </tr>\n",
       "    <tr>\n",
       "      <th>2</th>\n",
       "      <td>0.0</td>\n",
       "      <td>53</td>\n",
       "      <td>104000</td>\n",
       "    </tr>\n",
       "    <tr>\n",
       "      <th>3</th>\n",
       "      <td>1.0</td>\n",
       "      <td>39</td>\n",
       "      <td>106000</td>\n",
       "    </tr>\n",
       "    <tr>\n",
       "      <th>4</th>\n",
       "      <td>0.0</td>\n",
       "      <td>27</td>\n",
       "      <td>31000</td>\n",
       "    </tr>\n",
       "    <tr>\n",
       "      <th>...</th>\n",
       "      <td>...</td>\n",
       "      <td>...</td>\n",
       "      <td>...</td>\n",
       "    </tr>\n",
       "    <tr>\n",
       "      <th>315</th>\n",
       "      <td>1.0</td>\n",
       "      <td>35</td>\n",
       "      <td>55000</td>\n",
       "    </tr>\n",
       "    <tr>\n",
       "      <th>316</th>\n",
       "      <td>0.0</td>\n",
       "      <td>53</td>\n",
       "      <td>82000</td>\n",
       "    </tr>\n",
       "    <tr>\n",
       "      <th>317</th>\n",
       "      <td>1.0</td>\n",
       "      <td>38</td>\n",
       "      <td>71000</td>\n",
       "    </tr>\n",
       "    <tr>\n",
       "      <th>318</th>\n",
       "      <td>1.0</td>\n",
       "      <td>35</td>\n",
       "      <td>50000</td>\n",
       "    </tr>\n",
       "    <tr>\n",
       "      <th>319</th>\n",
       "      <td>1.0</td>\n",
       "      <td>37</td>\n",
       "      <td>70000</td>\n",
       "    </tr>\n",
       "  </tbody>\n",
       "</table>\n",
       "<p>320 rows × 3 columns</p>\n",
       "</div>"
      ],
      "text/plain": [
       "     Gender  Age  EstimatedSalary\n",
       "0       0.0   48           138000\n",
       "1       0.0   33           113000\n",
       "2       0.0   53           104000\n",
       "3       1.0   39           106000\n",
       "4       0.0   27            31000\n",
       "..      ...  ...              ...\n",
       "315     1.0   35            55000\n",
       "316     0.0   53            82000\n",
       "317     1.0   38            71000\n",
       "318     1.0   35            50000\n",
       "319     1.0   37            70000\n",
       "\n",
       "[320 rows x 3 columns]"
      ]
     },
     "execution_count": 13,
     "metadata": {},
     "output_type": "execute_result"
    }
   ],
   "source": [
    "x"
   ]
  },
  {
   "cell_type": "code",
   "execution_count": 14,
   "id": "e77fc724",
   "metadata": {
    "execution": {
     "iopub.execute_input": "2022-07-02T16:49:37.645474Z",
     "iopub.status.busy": "2022-07-02T16:49:37.644643Z",
     "iopub.status.idle": "2022-07-02T16:49:37.647874Z",
     "shell.execute_reply": "2022-07-02T16:49:37.648378Z",
     "shell.execute_reply.started": "2022-07-02T16:06:37.096996Z"
    },
    "papermill": {
     "duration": 0.056514,
     "end_time": "2022-07-02T16:49:37.648539",
     "exception": false,
     "start_time": "2022-07-02T16:49:37.592025",
     "status": "completed"
    },
    "tags": []
   },
   "outputs": [
    {
     "data": {
      "text/plain": [
       "0      1\n",
       "1      0\n",
       "2      1\n",
       "3      1\n",
       "4      0\n",
       "      ..\n",
       "315    0\n",
       "316    1\n",
       "317    0\n",
       "318    0\n",
       "319    1\n",
       "Name: Purchased, Length: 320, dtype: int64"
      ]
     },
     "execution_count": 14,
     "metadata": {},
     "output_type": "execute_result"
    }
   ],
   "source": [
    "y"
   ]
  },
  {
   "cell_type": "code",
   "execution_count": 15,
   "id": "45ccad6b",
   "metadata": {
    "execution": {
     "iopub.execute_input": "2022-07-02T16:49:37.746855Z",
     "iopub.status.busy": "2022-07-02T16:49:37.745848Z",
     "iopub.status.idle": "2022-07-02T16:49:37.755213Z",
     "shell.execute_reply": "2022-07-02T16:49:37.755687Z",
     "shell.execute_reply.started": "2022-07-02T16:06:37.226991Z"
    },
    "papermill": {
     "duration": 0.06027,
     "end_time": "2022-07-02T16:49:37.755858",
     "exception": false,
     "start_time": "2022-07-02T16:49:37.695588",
     "status": "completed"
    },
    "tags": []
   },
   "outputs": [
    {
     "data": {
      "text/html": [
       "<div>\n",
       "<style scoped>\n",
       "    .dataframe tbody tr th:only-of-type {\n",
       "        vertical-align: middle;\n",
       "    }\n",
       "\n",
       "    .dataframe tbody tr th {\n",
       "        vertical-align: top;\n",
       "    }\n",
       "\n",
       "    .dataframe thead th {\n",
       "        text-align: right;\n",
       "    }\n",
       "</style>\n",
       "<table border=\"1\" class=\"dataframe\">\n",
       "  <thead>\n",
       "    <tr style=\"text-align: right;\">\n",
       "      <th></th>\n",
       "      <th>User ID</th>\n",
       "      <th>Gender</th>\n",
       "      <th>Age</th>\n",
       "      <th>EstimatedSalary</th>\n",
       "    </tr>\n",
       "  </thead>\n",
       "  <tbody>\n",
       "    <tr>\n",
       "      <th>0</th>\n",
       "      <td>15657163</td>\n",
       "      <td>Male</td>\n",
       "      <td>35</td>\n",
       "      <td>58000</td>\n",
       "    </tr>\n",
       "  </tbody>\n",
       "</table>\n",
       "</div>"
      ],
      "text/plain": [
       "    User ID Gender  Age  EstimatedSalary\n",
       "0  15657163   Male   35            58000"
      ]
     },
     "execution_count": 15,
     "metadata": {},
     "output_type": "execute_result"
    }
   ],
   "source": [
    "test_df.head(1)"
   ]
  },
  {
   "cell_type": "code",
   "execution_count": 16,
   "id": "3aa353ab",
   "metadata": {
    "execution": {
     "iopub.execute_input": "2022-07-02T16:49:37.860021Z",
     "iopub.status.busy": "2022-07-02T16:49:37.859307Z",
     "iopub.status.idle": "2022-07-02T16:49:37.862325Z",
     "shell.execute_reply": "2022-07-02T16:49:37.862789Z",
     "shell.execute_reply.started": "2022-07-02T16:06:37.357054Z"
    },
    "papermill": {
     "duration": 0.059986,
     "end_time": "2022-07-02T16:49:37.862944",
     "exception": false,
     "start_time": "2022-07-02T16:49:37.802958",
     "status": "completed"
    },
    "tags": []
   },
   "outputs": [
    {
     "data": {
      "text/html": [
       "<div>\n",
       "<style scoped>\n",
       "    .dataframe tbody tr th:only-of-type {\n",
       "        vertical-align: middle;\n",
       "    }\n",
       "\n",
       "    .dataframe tbody tr th {\n",
       "        vertical-align: top;\n",
       "    }\n",
       "\n",
       "    .dataframe thead th {\n",
       "        text-align: right;\n",
       "    }\n",
       "</style>\n",
       "<table border=\"1\" class=\"dataframe\">\n",
       "  <thead>\n",
       "    <tr style=\"text-align: right;\">\n",
       "      <th></th>\n",
       "      <th>Gender</th>\n",
       "      <th>Age</th>\n",
       "      <th>EstimatedSalary</th>\n",
       "    </tr>\n",
       "  </thead>\n",
       "  <tbody>\n",
       "    <tr>\n",
       "      <th>0</th>\n",
       "      <td>Male</td>\n",
       "      <td>35</td>\n",
       "      <td>58000</td>\n",
       "    </tr>\n",
       "  </tbody>\n",
       "</table>\n",
       "</div>"
      ],
      "text/plain": [
       "  Gender  Age  EstimatedSalary\n",
       "0   Male   35            58000"
      ]
     },
     "execution_count": 16,
     "metadata": {},
     "output_type": "execute_result"
    }
   ],
   "source": [
    "test_df=test_df.drop(columns='User ID',axis=1)\n",
    "test_df.head(1)"
   ]
  },
  {
   "cell_type": "code",
   "execution_count": 17,
   "id": "47a70b0d",
   "metadata": {
    "execution": {
     "iopub.execute_input": "2022-07-02T16:49:37.962067Z",
     "iopub.status.busy": "2022-07-02T16:49:37.961432Z",
     "iopub.status.idle": "2022-07-02T16:49:37.971824Z",
     "shell.execute_reply": "2022-07-02T16:49:37.972342Z",
     "shell.execute_reply.started": "2022-07-02T16:06:37.516965Z"
    },
    "papermill": {
     "duration": 0.061671,
     "end_time": "2022-07-02T16:49:37.972514",
     "exception": false,
     "start_time": "2022-07-02T16:49:37.910843",
     "status": "completed"
    },
    "tags": []
   },
   "outputs": [
    {
     "data": {
      "text/html": [
       "<div>\n",
       "<style scoped>\n",
       "    .dataframe tbody tr th:only-of-type {\n",
       "        vertical-align: middle;\n",
       "    }\n",
       "\n",
       "    .dataframe tbody tr th {\n",
       "        vertical-align: top;\n",
       "    }\n",
       "\n",
       "    .dataframe thead th {\n",
       "        text-align: right;\n",
       "    }\n",
       "</style>\n",
       "<table border=\"1\" class=\"dataframe\">\n",
       "  <thead>\n",
       "    <tr style=\"text-align: right;\">\n",
       "      <th></th>\n",
       "      <th>Gender</th>\n",
       "      <th>Age</th>\n",
       "      <th>EstimatedSalary</th>\n",
       "    </tr>\n",
       "  </thead>\n",
       "  <tbody>\n",
       "    <tr>\n",
       "      <th>0</th>\n",
       "      <td>1.0</td>\n",
       "      <td>35</td>\n",
       "      <td>58000</td>\n",
       "    </tr>\n",
       "  </tbody>\n",
       "</table>\n",
       "</div>"
      ],
      "text/plain": [
       "   Gender  Age  EstimatedSalary\n",
       "0     1.0   35            58000"
      ]
     },
     "execution_count": 17,
     "metadata": {},
     "output_type": "execute_result"
    }
   ],
   "source": [
    "test_df['Gender']=oh.transform(test_df[['Gender']])\n",
    "test_df.head(1)"
   ]
  },
  {
   "cell_type": "code",
   "execution_count": 18,
   "id": "19906e9f",
   "metadata": {
    "execution": {
     "iopub.execute_input": "2022-07-02T16:49:38.074803Z",
     "iopub.status.busy": "2022-07-02T16:49:38.074122Z",
     "iopub.status.idle": "2022-07-02T16:49:38.080948Z",
     "shell.execute_reply": "2022-07-02T16:49:38.081494Z",
     "shell.execute_reply.started": "2022-07-02T16:06:37.677005Z"
    },
    "papermill": {
     "duration": 0.059678,
     "end_time": "2022-07-02T16:49:38.081657",
     "exception": false,
     "start_time": "2022-07-02T16:49:38.021979",
     "status": "completed"
    },
    "tags": []
   },
   "outputs": [
    {
     "data": {
      "text/plain": [
       "0    0.64375\n",
       "1    0.35625\n",
       "Name: Purchased, dtype: float64"
      ]
     },
     "execution_count": 18,
     "metadata": {},
     "output_type": "execute_result"
    }
   ],
   "source": [
    "train_df['Purchased'].value_counts(normalize=True)"
   ]
  },
  {
   "cell_type": "code",
   "execution_count": 19,
   "id": "d411841f",
   "metadata": {
    "execution": {
     "iopub.execute_input": "2022-07-02T16:49:38.181988Z",
     "iopub.status.busy": "2022-07-02T16:49:38.181326Z",
     "iopub.status.idle": "2022-07-02T16:49:38.422578Z",
     "shell.execute_reply": "2022-07-02T16:49:38.421911Z",
     "shell.execute_reply.started": "2022-07-02T16:06:37.796592Z"
    },
    "papermill": {
     "duration": 0.292564,
     "end_time": "2022-07-02T16:49:38.422744",
     "exception": false,
     "start_time": "2022-07-02T16:49:38.130180",
     "status": "completed"
    },
    "tags": []
   },
   "outputs": [],
   "source": [
    "from sklearn.ensemble import RandomForestClassifier\n",
    "rfg=RandomForestClassifier()"
   ]
  },
  {
   "cell_type": "code",
   "execution_count": 20,
   "id": "69a55082",
   "metadata": {
    "execution": {
     "iopub.execute_input": "2022-07-02T16:49:38.525642Z",
     "iopub.status.busy": "2022-07-02T16:49:38.524930Z",
     "iopub.status.idle": "2022-07-02T16:49:38.736893Z",
     "shell.execute_reply": "2022-07-02T16:49:38.736260Z",
     "shell.execute_reply.started": "2022-07-02T16:06:38.086480Z"
    },
    "papermill": {
     "duration": 0.265791,
     "end_time": "2022-07-02T16:49:38.737032",
     "exception": false,
     "start_time": "2022-07-02T16:49:38.471241",
     "status": "completed"
    },
    "tags": []
   },
   "outputs": [
    {
     "data": {
      "text/plain": [
       "0.8875"
      ]
     },
     "execution_count": 20,
     "metadata": {},
     "output_type": "execute_result"
    }
   ],
   "source": [
    "from sklearn.model_selection import train_test_split\n",
    "x_train,x_test,y_train,y_test=train_test_split(x,y,test_size=0.25)\n",
    "rfg.fit(x_train,y_train)\n",
    "y_pred=rfg.predict(x_test)\n",
    "from sklearn.metrics import accuracy_score\n",
    "accuracy_score(y_test,y_pred)"
   ]
  },
  {
   "cell_type": "markdown",
   "id": "9b67a6f7",
   "metadata": {
    "papermill": {
     "duration": 0.050702,
     "end_time": "2022-07-02T16:49:38.837182",
     "exception": false,
     "start_time": "2022-07-02T16:49:38.786480",
     "status": "completed"
    },
    "tags": []
   },
   "source": [
    "# #Using random search CV"
   ]
  },
  {
   "cell_type": "code",
   "execution_count": 21,
   "id": "71d33d39",
   "metadata": {
    "execution": {
     "iopub.execute_input": "2022-07-02T16:49:38.938785Z",
     "iopub.status.busy": "2022-07-02T16:49:38.938136Z",
     "iopub.status.idle": "2022-07-02T16:49:38.941192Z",
     "shell.execute_reply": "2022-07-02T16:49:38.941768Z",
     "shell.execute_reply.started": "2022-07-02T16:06:38.346071Z"
    },
    "papermill": {
     "duration": 0.055687,
     "end_time": "2022-07-02T16:49:38.941931",
     "exception": false,
     "start_time": "2022-07-02T16:49:38.886244",
     "status": "completed"
    },
    "tags": []
   },
   "outputs": [],
   "source": [
    "from sklearn.model_selection import RandomizedSearchCV"
   ]
  },
  {
   "cell_type": "code",
   "execution_count": 22,
   "id": "e2b64391",
   "metadata": {
    "execution": {
     "iopub.execute_input": "2022-07-02T16:49:39.045360Z",
     "iopub.status.busy": "2022-07-02T16:49:39.044673Z",
     "iopub.status.idle": "2022-07-02T16:49:39.046334Z",
     "shell.execute_reply": "2022-07-02T16:49:39.046842Z",
     "shell.execute_reply.started": "2022-07-02T16:06:38.354934Z"
    },
    "papermill": {
     "duration": 0.056418,
     "end_time": "2022-07-02T16:49:39.047008",
     "exception": false,
     "start_time": "2022-07-02T16:49:38.990590",
     "status": "completed"
    },
    "tags": []
   },
   "outputs": [],
   "source": [
    "n_estimators=[int(x) for x in np.linspace(50,1000,10)]\n",
    "max_features=[0.2,0.6,1.0]\n",
    "max_depth=[2,6,8,None]\n",
    "bootstrap=[True,False]\n",
    "max_samples=[0.5,0.75,1.0]"
   ]
  },
  {
   "cell_type": "code",
   "execution_count": 23,
   "id": "83a46704",
   "metadata": {
    "execution": {
     "iopub.execute_input": "2022-07-02T16:49:39.149431Z",
     "iopub.status.busy": "2022-07-02T16:49:39.148720Z",
     "iopub.status.idle": "2022-07-02T16:49:39.152414Z",
     "shell.execute_reply": "2022-07-02T16:49:39.152920Z",
     "shell.execute_reply.started": "2022-07-02T16:06:38.368306Z"
    },
    "papermill": {
     "duration": 0.055653,
     "end_time": "2022-07-02T16:49:39.153088",
     "exception": false,
     "start_time": "2022-07-02T16:49:39.097435",
     "status": "completed"
    },
    "tags": []
   },
   "outputs": [],
   "source": [
    "param_grid={'n_estimators':n_estimators,\n",
    "            'max_features':max_features,\n",
    "            'max_depth':max_depth,\n",
    "            'bootstrap':bootstrap,\n",
    "            'max_samples':max_samples\n",
    "\n",
    "         }"
   ]
  },
  {
   "cell_type": "code",
   "execution_count": 24,
   "id": "214d2dae",
   "metadata": {
    "execution": {
     "iopub.execute_input": "2022-07-02T16:49:39.253841Z",
     "iopub.status.busy": "2022-07-02T16:49:39.253237Z",
     "iopub.status.idle": "2022-07-02T16:49:39.258194Z",
     "shell.execute_reply": "2022-07-02T16:49:39.258936Z",
     "shell.execute_reply.started": "2022-07-02T16:06:38.383827Z"
    },
    "papermill": {
     "duration": 0.057103,
     "end_time": "2022-07-02T16:49:39.259169",
     "exception": false,
     "start_time": "2022-07-02T16:49:39.202066",
     "status": "completed"
    },
    "tags": []
   },
   "outputs": [
    {
     "name": "stdout",
     "output_type": "stream",
     "text": [
      "{'n_estimators': [50, 155, 261, 366, 472, 577, 683, 788, 894, 1000], 'max_features': [0.2, 0.6, 1.0], 'max_depth': [2, 6, 8, None], 'bootstrap': [True, False], 'max_samples': [0.5, 0.75, 1.0]}\n"
     ]
    }
   ],
   "source": [
    "print(param_grid)"
   ]
  },
  {
   "cell_type": "code",
   "execution_count": 25,
   "id": "08864867",
   "metadata": {
    "execution": {
     "iopub.execute_input": "2022-07-02T16:49:39.362001Z",
     "iopub.status.busy": "2022-07-02T16:49:39.361022Z",
     "iopub.status.idle": "2022-07-02T16:49:39.365345Z",
     "shell.execute_reply": "2022-07-02T16:49:39.365861Z",
     "shell.execute_reply.started": "2022-07-02T16:06:38.400957Z"
    },
    "papermill": {
     "duration": 0.056739,
     "end_time": "2022-07-02T16:49:39.366040",
     "exception": false,
     "start_time": "2022-07-02T16:49:39.309301",
     "status": "completed"
    },
    "tags": []
   },
   "outputs": [],
   "source": [
    "random_grid=RandomizedSearchCV(estimator=rfg,param_distributions=param_grid,cv=3,verbose=2,n_jobs=-1)"
   ]
  },
  {
   "cell_type": "code",
   "execution_count": 26,
   "id": "7cbe4910",
   "metadata": {
    "execution": {
     "iopub.execute_input": "2022-07-02T16:49:39.472965Z",
     "iopub.status.busy": "2022-07-02T16:49:39.472044Z",
     "iopub.status.idle": "2022-07-02T16:49:50.438299Z",
     "shell.execute_reply": "2022-07-02T16:49:50.438768Z",
     "shell.execute_reply.started": "2022-07-02T16:06:38.412003Z"
    },
    "papermill": {
     "duration": 11.022535,
     "end_time": "2022-07-02T16:49:50.438950",
     "exception": false,
     "start_time": "2022-07-02T16:49:39.416415",
     "status": "completed"
    },
    "tags": []
   },
   "outputs": [
    {
     "name": "stdout",
     "output_type": "stream",
     "text": [
      "Fitting 3 folds for each of 10 candidates, totalling 30 fits\n"
     ]
    },
    {
     "name": "stderr",
     "output_type": "stream",
     "text": [
      "[Parallel(n_jobs=-1)]: Using backend LokyBackend with 4 concurrent workers.\n",
      "[Parallel(n_jobs=-1)]: Done  30 out of  30 | elapsed:   10.2s finished\n"
     ]
    },
    {
     "data": {
      "text/plain": [
       "RandomizedSearchCV(cv=3, estimator=RandomForestClassifier(), n_jobs=-1,\n",
       "                   param_distributions={'bootstrap': [True, False],\n",
       "                                        'max_depth': [2, 6, 8, None],\n",
       "                                        'max_features': [0.2, 0.6, 1.0],\n",
       "                                        'max_samples': [0.5, 0.75, 1.0],\n",
       "                                        'n_estimators': [50, 155, 261, 366, 472,\n",
       "                                                         577, 683, 788, 894,\n",
       "                                                         1000]},\n",
       "                   verbose=2)"
      ]
     },
     "execution_count": 26,
     "metadata": {},
     "output_type": "execute_result"
    }
   ],
   "source": [
    "import warnings\n",
    "warnings.filterwarnings('ignore')\n",
    "random_grid.fit(x_train,y_train)"
   ]
  },
  {
   "cell_type": "code",
   "execution_count": 27,
   "id": "f8ca09bd",
   "metadata": {
    "execution": {
     "iopub.execute_input": "2022-07-02T16:49:50.548900Z",
     "iopub.status.busy": "2022-07-02T16:49:50.548027Z",
     "iopub.status.idle": "2022-07-02T16:49:50.552014Z",
     "shell.execute_reply": "2022-07-02T16:49:50.551510Z",
     "shell.execute_reply.started": "2022-07-02T16:06:52.223950Z"
    },
    "papermill": {
     "duration": 0.061207,
     "end_time": "2022-07-02T16:49:50.552201",
     "exception": false,
     "start_time": "2022-07-02T16:49:50.490994",
     "status": "completed"
    },
    "tags": []
   },
   "outputs": [
    {
     "data": {
      "text/plain": [
       "{'n_estimators': 577,\n",
       " 'max_samples': 0.5,\n",
       " 'max_features': 0.2,\n",
       " 'max_depth': 2,\n",
       " 'bootstrap': False}"
      ]
     },
     "execution_count": 27,
     "metadata": {},
     "output_type": "execute_result"
    }
   ],
   "source": [
    "random_grid.best_params_"
   ]
  },
  {
   "cell_type": "code",
   "execution_count": 28,
   "id": "9de2ccb4",
   "metadata": {
    "execution": {
     "iopub.execute_input": "2022-07-02T16:49:50.658969Z",
     "iopub.status.busy": "2022-07-02T16:49:50.658005Z",
     "iopub.status.idle": "2022-07-02T16:49:50.662849Z",
     "shell.execute_reply": "2022-07-02T16:49:50.663379Z",
     "shell.execute_reply.started": "2022-07-02T16:06:52.234596Z"
    },
    "papermill": {
     "duration": 0.059784,
     "end_time": "2022-07-02T16:49:50.663572",
     "exception": false,
     "start_time": "2022-07-02T16:49:50.603788",
     "status": "completed"
    },
    "tags": []
   },
   "outputs": [
    {
     "data": {
      "text/plain": [
       "0.8875000000000001"
      ]
     },
     "execution_count": 28,
     "metadata": {},
     "output_type": "execute_result"
    }
   ],
   "source": [
    "random_grid.best_score_"
   ]
  },
  {
   "cell_type": "code",
   "execution_count": 29,
   "id": "87a4156c",
   "metadata": {
    "execution": {
     "iopub.execute_input": "2022-07-02T16:49:50.769708Z",
     "iopub.status.busy": "2022-07-02T16:49:50.768650Z",
     "iopub.status.idle": "2022-07-02T16:49:50.774861Z",
     "shell.execute_reply": "2022-07-02T16:49:50.775377Z",
     "shell.execute_reply.started": "2022-07-02T16:06:52.249661Z"
    },
    "papermill": {
     "duration": 0.06132,
     "end_time": "2022-07-02T16:49:50.775549",
     "exception": false,
     "start_time": "2022-07-02T16:49:50.714229",
     "status": "completed"
    },
    "tags": []
   },
   "outputs": [
    {
     "data": {
      "text/plain": [
       "RandomForestClassifier(bootstrap=False, max_depth=2, max_features=0.2,\n",
       "                       max_samples=0.5, n_estimators=577)"
      ]
     },
     "execution_count": 29,
     "metadata": {},
     "output_type": "execute_result"
    }
   ],
   "source": [
    "best_random_grid=random_grid.best_estimator_\n",
    "best_random_grid"
   ]
  },
  {
   "cell_type": "code",
   "execution_count": 30,
   "id": "296272fb",
   "metadata": {
    "execution": {
     "iopub.execute_input": "2022-07-02T16:49:50.884371Z",
     "iopub.status.busy": "2022-07-02T16:49:50.883386Z",
     "iopub.status.idle": "2022-07-02T16:49:50.943848Z",
     "shell.execute_reply": "2022-07-02T16:49:50.944354Z",
     "shell.execute_reply.started": "2022-07-02T16:06:52.271521Z"
    },
    "papermill": {
     "duration": 0.116416,
     "end_time": "2022-07-02T16:49:50.944532",
     "exception": false,
     "start_time": "2022-07-02T16:49:50.828116",
     "status": "completed"
    },
    "tags": []
   },
   "outputs": [
    {
     "data": {
      "text/plain": [
       "0.9125"
      ]
     },
     "execution_count": 30,
     "metadata": {},
     "output_type": "execute_result"
    }
   ],
   "source": [
    "y_pred1=best_random_grid.predict(x_test)\n",
    "accuracy_score(y_test,y_pred1)"
   ]
  },
  {
   "cell_type": "markdown",
   "id": "bb75468a",
   "metadata": {
    "papermill": {
     "duration": 0.051689,
     "end_time": "2022-07-02T16:49:51.049201",
     "exception": false,
     "start_time": "2022-07-02T16:49:50.997512",
     "status": "completed"
    },
    "tags": []
   },
   "source": [
    "# #Using Grid search CV"
   ]
  },
  {
   "cell_type": "code",
   "execution_count": 31,
   "id": "4bcf2e8c",
   "metadata": {
    "execution": {
     "iopub.execute_input": "2022-07-02T16:49:51.156968Z",
     "iopub.status.busy": "2022-07-02T16:49:51.156222Z",
     "iopub.status.idle": "2022-07-02T16:49:51.160717Z",
     "shell.execute_reply": "2022-07-02T16:49:51.161331Z",
     "shell.execute_reply.started": "2022-07-02T16:06:52.354542Z"
    },
    "papermill": {
     "duration": 0.060426,
     "end_time": "2022-07-02T16:49:51.161503",
     "exception": false,
     "start_time": "2022-07-02T16:49:51.101077",
     "status": "completed"
    },
    "tags": []
   },
   "outputs": [
    {
     "data": {
      "text/plain": [
       "array([  5,  55, 105, 155, 205, 255, 305, 355, 405, 455])"
      ]
     },
     "execution_count": 31,
     "metadata": {},
     "output_type": "execute_result"
    }
   ],
   "source": [
    "np.arange(5,500,50)"
   ]
  },
  {
   "cell_type": "code",
   "execution_count": 32,
   "id": "35afa756",
   "metadata": {
    "execution": {
     "iopub.execute_input": "2022-07-02T16:49:51.269888Z",
     "iopub.status.busy": "2022-07-02T16:49:51.269223Z",
     "iopub.status.idle": "2022-07-02T16:49:51.274714Z",
     "shell.execute_reply": "2022-07-02T16:49:51.275318Z",
     "shell.execute_reply.started": "2022-07-02T16:43:06.397831Z"
    },
    "papermill": {
     "duration": 0.061933,
     "end_time": "2022-07-02T16:49:51.275498",
     "exception": false,
     "start_time": "2022-07-02T16:49:51.213565",
     "status": "completed"
    },
    "tags": []
   },
   "outputs": [],
   "source": [
    "from sklearn.model_selection import GridSearchCV\n",
    "n_estimators=[int(x) for x in np.linspace(5,300,6)]\n",
    "max_features=[0.2,0.4]\n",
    "max_samples=[0.50,0.70]\n",
    "max_depth=[int(x) for x in np.linspace(1,10,3)]"
   ]
  },
  {
   "cell_type": "code",
   "execution_count": 33,
   "id": "91eed8d3",
   "metadata": {
    "execution": {
     "iopub.execute_input": "2022-07-02T16:49:51.385127Z",
     "iopub.status.busy": "2022-07-02T16:49:51.384477Z",
     "iopub.status.idle": "2022-07-02T16:49:51.388300Z",
     "shell.execute_reply": "2022-07-02T16:49:51.388825Z",
     "shell.execute_reply.started": "2022-07-02T16:43:30.648801Z"
    },
    "papermill": {
     "duration": 0.060368,
     "end_time": "2022-07-02T16:49:51.388990",
     "exception": false,
     "start_time": "2022-07-02T16:49:51.328622",
     "status": "completed"
    },
    "tags": []
   },
   "outputs": [],
   "source": [
    "param_grid={\n",
    "    'n_estimators':n_estimators,\n",
    "    'max_features':max_features,\n",
    "    'max_samples':max_samples,\n",
    "    'max_depth':max_depth\n",
    "        }"
   ]
  },
  {
   "cell_type": "code",
   "execution_count": 34,
   "id": "ad7545bd",
   "metadata": {
    "execution": {
     "iopub.execute_input": "2022-07-02T16:49:51.496935Z",
     "iopub.status.busy": "2022-07-02T16:49:51.496215Z",
     "iopub.status.idle": "2022-07-02T16:49:51.500804Z",
     "shell.execute_reply": "2022-07-02T16:49:51.501357Z",
     "shell.execute_reply.started": "2022-07-02T16:43:32.787724Z"
    },
    "papermill": {
     "duration": 0.060245,
     "end_time": "2022-07-02T16:49:51.501540",
     "exception": false,
     "start_time": "2022-07-02T16:49:51.441295",
     "status": "completed"
    },
    "tags": []
   },
   "outputs": [
    {
     "name": "stdout",
     "output_type": "stream",
     "text": [
      "{'n_estimators': [5, 64, 123, 182, 241, 300], 'max_features': [0.2, 0.4], 'max_samples': [0.5, 0.7], 'max_depth': [1, 5, 10]}\n"
     ]
    }
   ],
   "source": [
    "print(param_grid)"
   ]
  },
  {
   "cell_type": "code",
   "execution_count": 35,
   "id": "c93019a2",
   "metadata": {
    "execution": {
     "iopub.execute_input": "2022-07-02T16:49:51.610593Z",
     "iopub.status.busy": "2022-07-02T16:49:51.609937Z",
     "iopub.status.idle": "2022-07-02T16:49:51.613814Z",
     "shell.execute_reply": "2022-07-02T16:49:51.614393Z",
     "shell.execute_reply.started": "2022-07-02T16:43:36.567945Z"
    },
    "papermill": {
     "duration": 0.060406,
     "end_time": "2022-07-02T16:49:51.614564",
     "exception": false,
     "start_time": "2022-07-02T16:49:51.554158",
     "status": "completed"
    },
    "tags": []
   },
   "outputs": [],
   "source": [
    "rfg_grid=GridSearchCV(estimator=rfg,param_grid=param_grid,cv=3,verbose=2)"
   ]
  },
  {
   "cell_type": "code",
   "execution_count": 36,
   "id": "538a957f",
   "metadata": {
    "execution": {
     "iopub.execute_input": "2022-07-02T16:49:51.723362Z",
     "iopub.status.busy": "2022-07-02T16:49:51.722727Z",
     "iopub.status.idle": "2022-07-02T16:50:54.620887Z",
     "shell.execute_reply": "2022-07-02T16:50:54.621677Z",
     "shell.execute_reply.started": "2022-07-02T16:43:39.588004Z"
    },
    "papermill": {
     "duration": 62.954601,
     "end_time": "2022-07-02T16:50:54.621937",
     "exception": false,
     "start_time": "2022-07-02T16:49:51.667336",
     "status": "completed"
    },
    "tags": []
   },
   "outputs": [
    {
     "name": "stdout",
     "output_type": "stream",
     "text": [
      "Fitting 3 folds for each of 72 candidates, totalling 216 fits\n",
      "[CV] max_depth=1, max_features=0.2, max_samples=0.5, n_estimators=5 ..\n",
      "[CV]  max_depth=1, max_features=0.2, max_samples=0.5, n_estimators=5, total=   0.0s\n",
      "[CV] max_depth=1, max_features=0.2, max_samples=0.5, n_estimators=5 ..\n",
      "[CV]  max_depth=1, max_features=0.2, max_samples=0.5, n_estimators=5, total=   0.0s\n",
      "[CV] max_depth=1, max_features=0.2, max_samples=0.5, n_estimators=5 ..\n",
      "[CV]  max_depth=1, max_features=0.2, max_samples=0.5, n_estimators=5, total=   0.0s\n",
      "[CV] max_depth=1, max_features=0.2, max_samples=0.5, n_estimators=64 .\n",
      "[CV]  max_depth=1, max_features=0.2, max_samples=0.5, n_estimators=64, total=   0.1s\n",
      "[CV] max_depth=1, max_features=0.2, max_samples=0.5, n_estimators=64 .\n"
     ]
    },
    {
     "name": "stderr",
     "output_type": "stream",
     "text": [
      "[Parallel(n_jobs=1)]: Using backend SequentialBackend with 1 concurrent workers.\n",
      "[Parallel(n_jobs=1)]: Done   1 out of   1 | elapsed:    0.0s remaining:    0.0s\n"
     ]
    },
    {
     "name": "stdout",
     "output_type": "stream",
     "text": [
      "[CV]  max_depth=1, max_features=0.2, max_samples=0.5, n_estimators=64, total=   0.1s\n",
      "[CV] max_depth=1, max_features=0.2, max_samples=0.5, n_estimators=64 .\n",
      "[CV]  max_depth=1, max_features=0.2, max_samples=0.5, n_estimators=64, total=   0.1s\n",
      "[CV] max_depth=1, max_features=0.2, max_samples=0.5, n_estimators=123 \n",
      "[CV]  max_depth=1, max_features=0.2, max_samples=0.5, n_estimators=123, total=   0.2s\n",
      "[CV] max_depth=1, max_features=0.2, max_samples=0.5, n_estimators=123 \n",
      "[CV]  max_depth=1, max_features=0.2, max_samples=0.5, n_estimators=123, total=   0.2s\n",
      "[CV] max_depth=1, max_features=0.2, max_samples=0.5, n_estimators=123 \n",
      "[CV]  max_depth=1, max_features=0.2, max_samples=0.5, n_estimators=123, total=   0.2s\n",
      "[CV] max_depth=1, max_features=0.2, max_samples=0.5, n_estimators=182 \n",
      "[CV]  max_depth=1, max_features=0.2, max_samples=0.5, n_estimators=182, total=   0.3s\n",
      "[CV] max_depth=1, max_features=0.2, max_samples=0.5, n_estimators=182 \n",
      "[CV]  max_depth=1, max_features=0.2, max_samples=0.5, n_estimators=182, total=   0.3s\n",
      "[CV] max_depth=1, max_features=0.2, max_samples=0.5, n_estimators=182 \n",
      "[CV]  max_depth=1, max_features=0.2, max_samples=0.5, n_estimators=182, total=   0.3s\n",
      "[CV] max_depth=1, max_features=0.2, max_samples=0.5, n_estimators=241 \n",
      "[CV]  max_depth=1, max_features=0.2, max_samples=0.5, n_estimators=241, total=   0.4s\n",
      "[CV] max_depth=1, max_features=0.2, max_samples=0.5, n_estimators=241 \n",
      "[CV]  max_depth=1, max_features=0.2, max_samples=0.5, n_estimators=241, total=   0.4s\n",
      "[CV] max_depth=1, max_features=0.2, max_samples=0.5, n_estimators=241 \n",
      "[CV]  max_depth=1, max_features=0.2, max_samples=0.5, n_estimators=241, total=   0.5s\n",
      "[CV] max_depth=1, max_features=0.2, max_samples=0.5, n_estimators=300 \n",
      "[CV]  max_depth=1, max_features=0.2, max_samples=0.5, n_estimators=300, total=   0.6s\n",
      "[CV] max_depth=1, max_features=0.2, max_samples=0.5, n_estimators=300 \n",
      "[CV]  max_depth=1, max_features=0.2, max_samples=0.5, n_estimators=300, total=   0.6s\n",
      "[CV] max_depth=1, max_features=0.2, max_samples=0.5, n_estimators=300 \n",
      "[CV]  max_depth=1, max_features=0.2, max_samples=0.5, n_estimators=300, total=   0.6s\n",
      "[CV] max_depth=1, max_features=0.2, max_samples=0.7, n_estimators=5 ..\n",
      "[CV]  max_depth=1, max_features=0.2, max_samples=0.7, n_estimators=5, total=   0.0s\n",
      "[CV] max_depth=1, max_features=0.2, max_samples=0.7, n_estimators=5 ..\n",
      "[CV]  max_depth=1, max_features=0.2, max_samples=0.7, n_estimators=5, total=   0.0s\n",
      "[CV] max_depth=1, max_features=0.2, max_samples=0.7, n_estimators=5 ..\n",
      "[CV]  max_depth=1, max_features=0.2, max_samples=0.7, n_estimators=5, total=   0.0s\n",
      "[CV] max_depth=1, max_features=0.2, max_samples=0.7, n_estimators=64 .\n",
      "[CV]  max_depth=1, max_features=0.2, max_samples=0.7, n_estimators=64, total=   0.1s\n",
      "[CV] max_depth=1, max_features=0.2, max_samples=0.7, n_estimators=64 .\n",
      "[CV]  max_depth=1, max_features=0.2, max_samples=0.7, n_estimators=64, total=   0.1s\n",
      "[CV] max_depth=1, max_features=0.2, max_samples=0.7, n_estimators=64 .\n",
      "[CV]  max_depth=1, max_features=0.2, max_samples=0.7, n_estimators=64, total=   0.1s\n",
      "[CV] max_depth=1, max_features=0.2, max_samples=0.7, n_estimators=123 \n",
      "[CV]  max_depth=1, max_features=0.2, max_samples=0.7, n_estimators=123, total=   0.2s\n",
      "[CV] max_depth=1, max_features=0.2, max_samples=0.7, n_estimators=123 \n",
      "[CV]  max_depth=1, max_features=0.2, max_samples=0.7, n_estimators=123, total=   0.2s\n",
      "[CV] max_depth=1, max_features=0.2, max_samples=0.7, n_estimators=123 \n",
      "[CV]  max_depth=1, max_features=0.2, max_samples=0.7, n_estimators=123, total=   0.2s\n",
      "[CV] max_depth=1, max_features=0.2, max_samples=0.7, n_estimators=182 \n",
      "[CV]  max_depth=1, max_features=0.2, max_samples=0.7, n_estimators=182, total=   0.3s\n",
      "[CV] max_depth=1, max_features=0.2, max_samples=0.7, n_estimators=182 \n",
      "[CV]  max_depth=1, max_features=0.2, max_samples=0.7, n_estimators=182, total=   0.3s\n",
      "[CV] max_depth=1, max_features=0.2, max_samples=0.7, n_estimators=182 \n",
      "[CV]  max_depth=1, max_features=0.2, max_samples=0.7, n_estimators=182, total=   0.3s\n",
      "[CV] max_depth=1, max_features=0.2, max_samples=0.7, n_estimators=241 \n",
      "[CV]  max_depth=1, max_features=0.2, max_samples=0.7, n_estimators=241, total=   0.4s\n",
      "[CV] max_depth=1, max_features=0.2, max_samples=0.7, n_estimators=241 \n",
      "[CV]  max_depth=1, max_features=0.2, max_samples=0.7, n_estimators=241, total=   0.4s\n",
      "[CV] max_depth=1, max_features=0.2, max_samples=0.7, n_estimators=241 \n",
      "[CV]  max_depth=1, max_features=0.2, max_samples=0.7, n_estimators=241, total=   0.4s\n",
      "[CV] max_depth=1, max_features=0.2, max_samples=0.7, n_estimators=300 \n",
      "[CV]  max_depth=1, max_features=0.2, max_samples=0.7, n_estimators=300, total=   0.6s\n",
      "[CV] max_depth=1, max_features=0.2, max_samples=0.7, n_estimators=300 \n",
      "[CV]  max_depth=1, max_features=0.2, max_samples=0.7, n_estimators=300, total=   0.6s\n",
      "[CV] max_depth=1, max_features=0.2, max_samples=0.7, n_estimators=300 \n",
      "[CV]  max_depth=1, max_features=0.2, max_samples=0.7, n_estimators=300, total=   0.6s\n",
      "[CV] max_depth=1, max_features=0.4, max_samples=0.5, n_estimators=5 ..\n",
      "[CV]  max_depth=1, max_features=0.4, max_samples=0.5, n_estimators=5, total=   0.0s\n",
      "[CV] max_depth=1, max_features=0.4, max_samples=0.5, n_estimators=5 ..\n",
      "[CV]  max_depth=1, max_features=0.4, max_samples=0.5, n_estimators=5, total=   0.0s\n",
      "[CV] max_depth=1, max_features=0.4, max_samples=0.5, n_estimators=5 ..\n",
      "[CV]  max_depth=1, max_features=0.4, max_samples=0.5, n_estimators=5, total=   0.0s\n",
      "[CV] max_depth=1, max_features=0.4, max_samples=0.5, n_estimators=64 .\n",
      "[CV]  max_depth=1, max_features=0.4, max_samples=0.5, n_estimators=64, total=   0.1s\n",
      "[CV] max_depth=1, max_features=0.4, max_samples=0.5, n_estimators=64 .\n",
      "[CV]  max_depth=1, max_features=0.4, max_samples=0.5, n_estimators=64, total=   0.1s\n",
      "[CV] max_depth=1, max_features=0.4, max_samples=0.5, n_estimators=64 .\n",
      "[CV]  max_depth=1, max_features=0.4, max_samples=0.5, n_estimators=64, total=   0.1s\n",
      "[CV] max_depth=1, max_features=0.4, max_samples=0.5, n_estimators=123 \n",
      "[CV]  max_depth=1, max_features=0.4, max_samples=0.5, n_estimators=123, total=   0.2s\n",
      "[CV] max_depth=1, max_features=0.4, max_samples=0.5, n_estimators=123 \n",
      "[CV]  max_depth=1, max_features=0.4, max_samples=0.5, n_estimators=123, total=   0.2s\n",
      "[CV] max_depth=1, max_features=0.4, max_samples=0.5, n_estimators=123 \n",
      "[CV]  max_depth=1, max_features=0.4, max_samples=0.5, n_estimators=123, total=   0.2s\n",
      "[CV] max_depth=1, max_features=0.4, max_samples=0.5, n_estimators=182 \n",
      "[CV]  max_depth=1, max_features=0.4, max_samples=0.5, n_estimators=182, total=   0.3s\n",
      "[CV] max_depth=1, max_features=0.4, max_samples=0.5, n_estimators=182 \n",
      "[CV]  max_depth=1, max_features=0.4, max_samples=0.5, n_estimators=182, total=   0.3s\n",
      "[CV] max_depth=1, max_features=0.4, max_samples=0.5, n_estimators=182 \n",
      "[CV]  max_depth=1, max_features=0.4, max_samples=0.5, n_estimators=182, total=   0.3s\n",
      "[CV] max_depth=1, max_features=0.4, max_samples=0.5, n_estimators=241 \n",
      "[CV]  max_depth=1, max_features=0.4, max_samples=0.5, n_estimators=241, total=   0.5s\n",
      "[CV] max_depth=1, max_features=0.4, max_samples=0.5, n_estimators=241 \n",
      "[CV]  max_depth=1, max_features=0.4, max_samples=0.5, n_estimators=241, total=   0.5s\n",
      "[CV] max_depth=1, max_features=0.4, max_samples=0.5, n_estimators=241 \n",
      "[CV]  max_depth=1, max_features=0.4, max_samples=0.5, n_estimators=241, total=   0.5s\n",
      "[CV] max_depth=1, max_features=0.4, max_samples=0.5, n_estimators=300 \n",
      "[CV]  max_depth=1, max_features=0.4, max_samples=0.5, n_estimators=300, total=   0.7s\n",
      "[CV] max_depth=1, max_features=0.4, max_samples=0.5, n_estimators=300 \n",
      "[CV]  max_depth=1, max_features=0.4, max_samples=0.5, n_estimators=300, total=   0.6s\n",
      "[CV] max_depth=1, max_features=0.4, max_samples=0.5, n_estimators=300 \n",
      "[CV]  max_depth=1, max_features=0.4, max_samples=0.5, n_estimators=300, total=   0.6s\n",
      "[CV] max_depth=1, max_features=0.4, max_samples=0.7, n_estimators=5 ..\n",
      "[CV]  max_depth=1, max_features=0.4, max_samples=0.7, n_estimators=5, total=   0.0s\n",
      "[CV] max_depth=1, max_features=0.4, max_samples=0.7, n_estimators=5 ..\n",
      "[CV]  max_depth=1, max_features=0.4, max_samples=0.7, n_estimators=5, total=   0.0s\n",
      "[CV] max_depth=1, max_features=0.4, max_samples=0.7, n_estimators=5 ..\n",
      "[CV]  max_depth=1, max_features=0.4, max_samples=0.7, n_estimators=5, total=   0.0s\n",
      "[CV] max_depth=1, max_features=0.4, max_samples=0.7, n_estimators=64 .\n",
      "[CV]  max_depth=1, max_features=0.4, max_samples=0.7, n_estimators=64, total=   0.1s\n",
      "[CV] max_depth=1, max_features=0.4, max_samples=0.7, n_estimators=64 .\n",
      "[CV]  max_depth=1, max_features=0.4, max_samples=0.7, n_estimators=64, total=   0.1s\n",
      "[CV] max_depth=1, max_features=0.4, max_samples=0.7, n_estimators=64 .\n",
      "[CV]  max_depth=1, max_features=0.4, max_samples=0.7, n_estimators=64, total=   0.1s\n",
      "[CV] max_depth=1, max_features=0.4, max_samples=0.7, n_estimators=123 \n",
      "[CV]  max_depth=1, max_features=0.4, max_samples=0.7, n_estimators=123, total=   0.2s\n",
      "[CV] max_depth=1, max_features=0.4, max_samples=0.7, n_estimators=123 \n",
      "[CV]  max_depth=1, max_features=0.4, max_samples=0.7, n_estimators=123, total=   0.2s\n",
      "[CV] max_depth=1, max_features=0.4, max_samples=0.7, n_estimators=123 \n",
      "[CV]  max_depth=1, max_features=0.4, max_samples=0.7, n_estimators=123, total=   0.2s\n",
      "[CV] max_depth=1, max_features=0.4, max_samples=0.7, n_estimators=182 \n",
      "[CV]  max_depth=1, max_features=0.4, max_samples=0.7, n_estimators=182, total=   0.3s\n",
      "[CV] max_depth=1, max_features=0.4, max_samples=0.7, n_estimators=182 \n",
      "[CV]  max_depth=1, max_features=0.4, max_samples=0.7, n_estimators=182, total=   0.3s\n",
      "[CV] max_depth=1, max_features=0.4, max_samples=0.7, n_estimators=182 \n",
      "[CV]  max_depth=1, max_features=0.4, max_samples=0.7, n_estimators=182, total=   0.3s\n",
      "[CV] max_depth=1, max_features=0.4, max_samples=0.7, n_estimators=241 \n",
      "[CV]  max_depth=1, max_features=0.4, max_samples=0.7, n_estimators=241, total=   0.4s\n",
      "[CV] max_depth=1, max_features=0.4, max_samples=0.7, n_estimators=241 \n",
      "[CV]  max_depth=1, max_features=0.4, max_samples=0.7, n_estimators=241, total=   0.5s\n",
      "[CV] max_depth=1, max_features=0.4, max_samples=0.7, n_estimators=241 \n",
      "[CV]  max_depth=1, max_features=0.4, max_samples=0.7, n_estimators=241, total=   0.4s\n",
      "[CV] max_depth=1, max_features=0.4, max_samples=0.7, n_estimators=300 \n",
      "[CV]  max_depth=1, max_features=0.4, max_samples=0.7, n_estimators=300, total=   0.6s\n",
      "[CV] max_depth=1, max_features=0.4, max_samples=0.7, n_estimators=300 \n",
      "[CV]  max_depth=1, max_features=0.4, max_samples=0.7, n_estimators=300, total=   0.5s\n",
      "[CV] max_depth=1, max_features=0.4, max_samples=0.7, n_estimators=300 \n",
      "[CV]  max_depth=1, max_features=0.4, max_samples=0.7, n_estimators=300, total=   0.6s\n",
      "[CV] max_depth=5, max_features=0.2, max_samples=0.5, n_estimators=5 ..\n",
      "[CV]  max_depth=5, max_features=0.2, max_samples=0.5, n_estimators=5, total=   0.0s\n",
      "[CV] max_depth=5, max_features=0.2, max_samples=0.5, n_estimators=5 ..\n",
      "[CV]  max_depth=5, max_features=0.2, max_samples=0.5, n_estimators=5, total=   0.0s\n",
      "[CV] max_depth=5, max_features=0.2, max_samples=0.5, n_estimators=5 ..\n",
      "[CV]  max_depth=5, max_features=0.2, max_samples=0.5, n_estimators=5, total=   0.0s\n",
      "[CV] max_depth=5, max_features=0.2, max_samples=0.5, n_estimators=64 .\n",
      "[CV]  max_depth=5, max_features=0.2, max_samples=0.5, n_estimators=64, total=   0.1s\n",
      "[CV] max_depth=5, max_features=0.2, max_samples=0.5, n_estimators=64 .\n",
      "[CV]  max_depth=5, max_features=0.2, max_samples=0.5, n_estimators=64, total=   0.1s\n",
      "[CV] max_depth=5, max_features=0.2, max_samples=0.5, n_estimators=64 .\n",
      "[CV]  max_depth=5, max_features=0.2, max_samples=0.5, n_estimators=64, total=   0.1s\n",
      "[CV] max_depth=5, max_features=0.2, max_samples=0.5, n_estimators=123 \n",
      "[CV]  max_depth=5, max_features=0.2, max_samples=0.5, n_estimators=123, total=   0.2s\n",
      "[CV] max_depth=5, max_features=0.2, max_samples=0.5, n_estimators=123 \n",
      "[CV]  max_depth=5, max_features=0.2, max_samples=0.5, n_estimators=123, total=   0.2s\n",
      "[CV] max_depth=5, max_features=0.2, max_samples=0.5, n_estimators=123 \n",
      "[CV]  max_depth=5, max_features=0.2, max_samples=0.5, n_estimators=123, total=   0.2s\n",
      "[CV] max_depth=5, max_features=0.2, max_samples=0.5, n_estimators=182 \n",
      "[CV]  max_depth=5, max_features=0.2, max_samples=0.5, n_estimators=182, total=   0.3s\n",
      "[CV] max_depth=5, max_features=0.2, max_samples=0.5, n_estimators=182 \n",
      "[CV]  max_depth=5, max_features=0.2, max_samples=0.5, n_estimators=182, total=   0.3s\n",
      "[CV] max_depth=5, max_features=0.2, max_samples=0.5, n_estimators=182 \n",
      "[CV]  max_depth=5, max_features=0.2, max_samples=0.5, n_estimators=182, total=   0.3s\n",
      "[CV] max_depth=5, max_features=0.2, max_samples=0.5, n_estimators=241 \n",
      "[CV]  max_depth=5, max_features=0.2, max_samples=0.5, n_estimators=241, total=   0.5s\n",
      "[CV] max_depth=5, max_features=0.2, max_samples=0.5, n_estimators=241 \n",
      "[CV]  max_depth=5, max_features=0.2, max_samples=0.5, n_estimators=241, total=   0.5s\n",
      "[CV] max_depth=5, max_features=0.2, max_samples=0.5, n_estimators=241 \n",
      "[CV]  max_depth=5, max_features=0.2, max_samples=0.5, n_estimators=241, total=   0.5s\n",
      "[CV] max_depth=5, max_features=0.2, max_samples=0.5, n_estimators=300 \n",
      "[CV]  max_depth=5, max_features=0.2, max_samples=0.5, n_estimators=300, total=   0.6s\n",
      "[CV] max_depth=5, max_features=0.2, max_samples=0.5, n_estimators=300 \n",
      "[CV]  max_depth=5, max_features=0.2, max_samples=0.5, n_estimators=300, total=   0.6s\n",
      "[CV] max_depth=5, max_features=0.2, max_samples=0.5, n_estimators=300 \n",
      "[CV]  max_depth=5, max_features=0.2, max_samples=0.5, n_estimators=300, total=   0.6s\n",
      "[CV] max_depth=5, max_features=0.2, max_samples=0.7, n_estimators=5 ..\n",
      "[CV]  max_depth=5, max_features=0.2, max_samples=0.7, n_estimators=5, total=   0.0s\n",
      "[CV] max_depth=5, max_features=0.2, max_samples=0.7, n_estimators=5 ..\n",
      "[CV]  max_depth=5, max_features=0.2, max_samples=0.7, n_estimators=5, total=   0.0s\n",
      "[CV] max_depth=5, max_features=0.2, max_samples=0.7, n_estimators=5 ..\n",
      "[CV]  max_depth=5, max_features=0.2, max_samples=0.7, n_estimators=5, total=   0.0s\n",
      "[CV] max_depth=5, max_features=0.2, max_samples=0.7, n_estimators=64 .\n",
      "[CV]  max_depth=5, max_features=0.2, max_samples=0.7, n_estimators=64, total=   0.1s\n",
      "[CV] max_depth=5, max_features=0.2, max_samples=0.7, n_estimators=64 .\n",
      "[CV]  max_depth=5, max_features=0.2, max_samples=0.7, n_estimators=64, total=   0.1s\n",
      "[CV] max_depth=5, max_features=0.2, max_samples=0.7, n_estimators=64 .\n",
      "[CV]  max_depth=5, max_features=0.2, max_samples=0.7, n_estimators=64, total=   0.1s\n",
      "[CV] max_depth=5, max_features=0.2, max_samples=0.7, n_estimators=123 \n",
      "[CV]  max_depth=5, max_features=0.2, max_samples=0.7, n_estimators=123, total=   0.2s\n",
      "[CV] max_depth=5, max_features=0.2, max_samples=0.7, n_estimators=123 \n",
      "[CV]  max_depth=5, max_features=0.2, max_samples=0.7, n_estimators=123, total=   0.2s\n",
      "[CV] max_depth=5, max_features=0.2, max_samples=0.7, n_estimators=123 \n",
      "[CV]  max_depth=5, max_features=0.2, max_samples=0.7, n_estimators=123, total=   0.2s\n",
      "[CV] max_depth=5, max_features=0.2, max_samples=0.7, n_estimators=182 \n",
      "[CV]  max_depth=5, max_features=0.2, max_samples=0.7, n_estimators=182, total=   0.4s\n",
      "[CV] max_depth=5, max_features=0.2, max_samples=0.7, n_estimators=182 \n",
      "[CV]  max_depth=5, max_features=0.2, max_samples=0.7, n_estimators=182, total=   0.3s\n",
      "[CV] max_depth=5, max_features=0.2, max_samples=0.7, n_estimators=182 \n",
      "[CV]  max_depth=5, max_features=0.2, max_samples=0.7, n_estimators=182, total=   0.3s\n",
      "[CV] max_depth=5, max_features=0.2, max_samples=0.7, n_estimators=241 \n",
      "[CV]  max_depth=5, max_features=0.2, max_samples=0.7, n_estimators=241, total=   0.5s\n",
      "[CV] max_depth=5, max_features=0.2, max_samples=0.7, n_estimators=241 \n",
      "[CV]  max_depth=5, max_features=0.2, max_samples=0.7, n_estimators=241, total=   0.5s\n",
      "[CV] max_depth=5, max_features=0.2, max_samples=0.7, n_estimators=241 \n",
      "[CV]  max_depth=5, max_features=0.2, max_samples=0.7, n_estimators=241, total=   0.5s\n",
      "[CV] max_depth=5, max_features=0.2, max_samples=0.7, n_estimators=300 \n",
      "[CV]  max_depth=5, max_features=0.2, max_samples=0.7, n_estimators=300, total=   0.6s\n",
      "[CV] max_depth=5, max_features=0.2, max_samples=0.7, n_estimators=300 \n",
      "[CV]  max_depth=5, max_features=0.2, max_samples=0.7, n_estimators=300, total=   0.6s\n",
      "[CV] max_depth=5, max_features=0.2, max_samples=0.7, n_estimators=300 \n",
      "[CV]  max_depth=5, max_features=0.2, max_samples=0.7, n_estimators=300, total=   0.6s\n",
      "[CV] max_depth=5, max_features=0.4, max_samples=0.5, n_estimators=5 ..\n",
      "[CV]  max_depth=5, max_features=0.4, max_samples=0.5, n_estimators=5, total=   0.0s\n",
      "[CV] max_depth=5, max_features=0.4, max_samples=0.5, n_estimators=5 ..\n",
      "[CV]  max_depth=5, max_features=0.4, max_samples=0.5, n_estimators=5, total=   0.0s\n",
      "[CV] max_depth=5, max_features=0.4, max_samples=0.5, n_estimators=5 ..\n",
      "[CV]  max_depth=5, max_features=0.4, max_samples=0.5, n_estimators=5, total=   0.0s\n",
      "[CV] max_depth=5, max_features=0.4, max_samples=0.5, n_estimators=64 .\n",
      "[CV]  max_depth=5, max_features=0.4, max_samples=0.5, n_estimators=64, total=   0.1s\n",
      "[CV] max_depth=5, max_features=0.4, max_samples=0.5, n_estimators=64 .\n",
      "[CV]  max_depth=5, max_features=0.4, max_samples=0.5, n_estimators=64, total=   0.1s\n",
      "[CV] max_depth=5, max_features=0.4, max_samples=0.5, n_estimators=64 .\n",
      "[CV]  max_depth=5, max_features=0.4, max_samples=0.5, n_estimators=64, total=   0.1s\n",
      "[CV] max_depth=5, max_features=0.4, max_samples=0.5, n_estimators=123 \n",
      "[CV]  max_depth=5, max_features=0.4, max_samples=0.5, n_estimators=123, total=   0.2s\n",
      "[CV] max_depth=5, max_features=0.4, max_samples=0.5, n_estimators=123 \n",
      "[CV]  max_depth=5, max_features=0.4, max_samples=0.5, n_estimators=123, total=   0.2s\n",
      "[CV] max_depth=5, max_features=0.4, max_samples=0.5, n_estimators=123 \n",
      "[CV]  max_depth=5, max_features=0.4, max_samples=0.5, n_estimators=123, total=   0.2s\n",
      "[CV] max_depth=5, max_features=0.4, max_samples=0.5, n_estimators=182 \n",
      "[CV]  max_depth=5, max_features=0.4, max_samples=0.5, n_estimators=182, total=   0.3s\n",
      "[CV] max_depth=5, max_features=0.4, max_samples=0.5, n_estimators=182 \n",
      "[CV]  max_depth=5, max_features=0.4, max_samples=0.5, n_estimators=182, total=   0.3s\n",
      "[CV] max_depth=5, max_features=0.4, max_samples=0.5, n_estimators=182 \n",
      "[CV]  max_depth=5, max_features=0.4, max_samples=0.5, n_estimators=182, total=   0.3s\n",
      "[CV] max_depth=5, max_features=0.4, max_samples=0.5, n_estimators=241 \n",
      "[CV]  max_depth=5, max_features=0.4, max_samples=0.5, n_estimators=241, total=   0.5s\n",
      "[CV] max_depth=5, max_features=0.4, max_samples=0.5, n_estimators=241 \n",
      "[CV]  max_depth=5, max_features=0.4, max_samples=0.5, n_estimators=241, total=   0.5s\n",
      "[CV] max_depth=5, max_features=0.4, max_samples=0.5, n_estimators=241 \n",
      "[CV]  max_depth=5, max_features=0.4, max_samples=0.5, n_estimators=241, total=   0.5s\n",
      "[CV] max_depth=5, max_features=0.4, max_samples=0.5, n_estimators=300 \n",
      "[CV]  max_depth=5, max_features=0.4, max_samples=0.5, n_estimators=300, total=   0.6s\n",
      "[CV] max_depth=5, max_features=0.4, max_samples=0.5, n_estimators=300 \n",
      "[CV]  max_depth=5, max_features=0.4, max_samples=0.5, n_estimators=300, total=   0.6s\n",
      "[CV] max_depth=5, max_features=0.4, max_samples=0.5, n_estimators=300 \n",
      "[CV]  max_depth=5, max_features=0.4, max_samples=0.5, n_estimators=300, total=   0.6s\n",
      "[CV] max_depth=5, max_features=0.4, max_samples=0.7, n_estimators=5 ..\n",
      "[CV]  max_depth=5, max_features=0.4, max_samples=0.7, n_estimators=5, total=   0.0s\n",
      "[CV] max_depth=5, max_features=0.4, max_samples=0.7, n_estimators=5 ..\n",
      "[CV]  max_depth=5, max_features=0.4, max_samples=0.7, n_estimators=5, total=   0.0s\n",
      "[CV] max_depth=5, max_features=0.4, max_samples=0.7, n_estimators=5 ..\n",
      "[CV]  max_depth=5, max_features=0.4, max_samples=0.7, n_estimators=5, total=   0.0s\n",
      "[CV] max_depth=5, max_features=0.4, max_samples=0.7, n_estimators=64 .\n",
      "[CV]  max_depth=5, max_features=0.4, max_samples=0.7, n_estimators=64, total=   0.1s\n",
      "[CV] max_depth=5, max_features=0.4, max_samples=0.7, n_estimators=64 .\n",
      "[CV]  max_depth=5, max_features=0.4, max_samples=0.7, n_estimators=64, total=   0.1s\n",
      "[CV] max_depth=5, max_features=0.4, max_samples=0.7, n_estimators=64 .\n",
      "[CV]  max_depth=5, max_features=0.4, max_samples=0.7, n_estimators=64, total=   0.1s\n",
      "[CV] max_depth=5, max_features=0.4, max_samples=0.7, n_estimators=123 \n",
      "[CV]  max_depth=5, max_features=0.4, max_samples=0.7, n_estimators=123, total=   0.2s\n",
      "[CV] max_depth=5, max_features=0.4, max_samples=0.7, n_estimators=123 \n",
      "[CV]  max_depth=5, max_features=0.4, max_samples=0.7, n_estimators=123, total=   0.2s\n",
      "[CV] max_depth=5, max_features=0.4, max_samples=0.7, n_estimators=123 \n",
      "[CV]  max_depth=5, max_features=0.4, max_samples=0.7, n_estimators=123, total=   0.2s\n",
      "[CV] max_depth=5, max_features=0.4, max_samples=0.7, n_estimators=182 \n",
      "[CV]  max_depth=5, max_features=0.4, max_samples=0.7, n_estimators=182, total=   0.3s\n",
      "[CV] max_depth=5, max_features=0.4, max_samples=0.7, n_estimators=182 \n",
      "[CV]  max_depth=5, max_features=0.4, max_samples=0.7, n_estimators=182, total=   0.4s\n",
      "[CV] max_depth=5, max_features=0.4, max_samples=0.7, n_estimators=182 \n",
      "[CV]  max_depth=5, max_features=0.4, max_samples=0.7, n_estimators=182, total=   0.3s\n",
      "[CV] max_depth=5, max_features=0.4, max_samples=0.7, n_estimators=241 \n",
      "[CV]  max_depth=5, max_features=0.4, max_samples=0.7, n_estimators=241, total=   0.5s\n",
      "[CV] max_depth=5, max_features=0.4, max_samples=0.7, n_estimators=241 \n",
      "[CV]  max_depth=5, max_features=0.4, max_samples=0.7, n_estimators=241, total=   0.5s\n",
      "[CV] max_depth=5, max_features=0.4, max_samples=0.7, n_estimators=241 \n",
      "[CV]  max_depth=5, max_features=0.4, max_samples=0.7, n_estimators=241, total=   0.5s\n",
      "[CV] max_depth=5, max_features=0.4, max_samples=0.7, n_estimators=300 \n",
      "[CV]  max_depth=5, max_features=0.4, max_samples=0.7, n_estimators=300, total=   0.6s\n",
      "[CV] max_depth=5, max_features=0.4, max_samples=0.7, n_estimators=300 \n",
      "[CV]  max_depth=5, max_features=0.4, max_samples=0.7, n_estimators=300, total=   0.6s\n",
      "[CV] max_depth=5, max_features=0.4, max_samples=0.7, n_estimators=300 \n",
      "[CV]  max_depth=5, max_features=0.4, max_samples=0.7, n_estimators=300, total=   0.6s\n",
      "[CV] max_depth=10, max_features=0.2, max_samples=0.5, n_estimators=5 .\n",
      "[CV]  max_depth=10, max_features=0.2, max_samples=0.5, n_estimators=5, total=   0.0s\n",
      "[CV] max_depth=10, max_features=0.2, max_samples=0.5, n_estimators=5 .\n",
      "[CV]  max_depth=10, max_features=0.2, max_samples=0.5, n_estimators=5, total=   0.0s\n",
      "[CV] max_depth=10, max_features=0.2, max_samples=0.5, n_estimators=5 .\n",
      "[CV]  max_depth=10, max_features=0.2, max_samples=0.5, n_estimators=5, total=   0.0s\n",
      "[CV] max_depth=10, max_features=0.2, max_samples=0.5, n_estimators=64 \n",
      "[CV]  max_depth=10, max_features=0.2, max_samples=0.5, n_estimators=64, total=   0.1s\n",
      "[CV] max_depth=10, max_features=0.2, max_samples=0.5, n_estimators=64 \n",
      "[CV]  max_depth=10, max_features=0.2, max_samples=0.5, n_estimators=64, total=   0.1s\n",
      "[CV] max_depth=10, max_features=0.2, max_samples=0.5, n_estimators=64 \n",
      "[CV]  max_depth=10, max_features=0.2, max_samples=0.5, n_estimators=64, total=   0.1s\n",
      "[CV] max_depth=10, max_features=0.2, max_samples=0.5, n_estimators=123 \n",
      "[CV]  max_depth=10, max_features=0.2, max_samples=0.5, n_estimators=123, total=   0.2s\n",
      "[CV] max_depth=10, max_features=0.2, max_samples=0.5, n_estimators=123 \n",
      "[CV]  max_depth=10, max_features=0.2, max_samples=0.5, n_estimators=123, total=   0.2s\n",
      "[CV] max_depth=10, max_features=0.2, max_samples=0.5, n_estimators=123 \n",
      "[CV]  max_depth=10, max_features=0.2, max_samples=0.5, n_estimators=123, total=   0.2s\n",
      "[CV] max_depth=10, max_features=0.2, max_samples=0.5, n_estimators=182 \n",
      "[CV]  max_depth=10, max_features=0.2, max_samples=0.5, n_estimators=182, total=   0.3s\n",
      "[CV] max_depth=10, max_features=0.2, max_samples=0.5, n_estimators=182 \n",
      "[CV]  max_depth=10, max_features=0.2, max_samples=0.5, n_estimators=182, total=   0.3s\n",
      "[CV] max_depth=10, max_features=0.2, max_samples=0.5, n_estimators=182 \n",
      "[CV]  max_depth=10, max_features=0.2, max_samples=0.5, n_estimators=182, total=   0.3s\n",
      "[CV] max_depth=10, max_features=0.2, max_samples=0.5, n_estimators=241 \n",
      "[CV]  max_depth=10, max_features=0.2, max_samples=0.5, n_estimators=241, total=   0.5s\n",
      "[CV] max_depth=10, max_features=0.2, max_samples=0.5, n_estimators=241 \n",
      "[CV]  max_depth=10, max_features=0.2, max_samples=0.5, n_estimators=241, total=   0.4s\n",
      "[CV] max_depth=10, max_features=0.2, max_samples=0.5, n_estimators=241 \n",
      "[CV]  max_depth=10, max_features=0.2, max_samples=0.5, n_estimators=241, total=   0.5s\n",
      "[CV] max_depth=10, max_features=0.2, max_samples=0.5, n_estimators=300 \n",
      "[CV]  max_depth=10, max_features=0.2, max_samples=0.5, n_estimators=300, total=   0.6s\n",
      "[CV] max_depth=10, max_features=0.2, max_samples=0.5, n_estimators=300 \n",
      "[CV]  max_depth=10, max_features=0.2, max_samples=0.5, n_estimators=300, total=   0.6s\n",
      "[CV] max_depth=10, max_features=0.2, max_samples=0.5, n_estimators=300 \n",
      "[CV]  max_depth=10, max_features=0.2, max_samples=0.5, n_estimators=300, total=   0.6s\n",
      "[CV] max_depth=10, max_features=0.2, max_samples=0.7, n_estimators=5 .\n",
      "[CV]  max_depth=10, max_features=0.2, max_samples=0.7, n_estimators=5, total=   0.0s\n",
      "[CV] max_depth=10, max_features=0.2, max_samples=0.7, n_estimators=5 .\n",
      "[CV]  max_depth=10, max_features=0.2, max_samples=0.7, n_estimators=5, total=   0.0s\n",
      "[CV] max_depth=10, max_features=0.2, max_samples=0.7, n_estimators=5 .\n",
      "[CV]  max_depth=10, max_features=0.2, max_samples=0.7, n_estimators=5, total=   0.0s\n",
      "[CV] max_depth=10, max_features=0.2, max_samples=0.7, n_estimators=64 \n",
      "[CV]  max_depth=10, max_features=0.2, max_samples=0.7, n_estimators=64, total=   0.1s\n",
      "[CV] max_depth=10, max_features=0.2, max_samples=0.7, n_estimators=64 \n",
      "[CV]  max_depth=10, max_features=0.2, max_samples=0.7, n_estimators=64, total=   0.1s\n",
      "[CV] max_depth=10, max_features=0.2, max_samples=0.7, n_estimators=64 \n",
      "[CV]  max_depth=10, max_features=0.2, max_samples=0.7, n_estimators=64, total=   0.1s\n",
      "[CV] max_depth=10, max_features=0.2, max_samples=0.7, n_estimators=123 \n",
      "[CV]  max_depth=10, max_features=0.2, max_samples=0.7, n_estimators=123, total=   0.2s\n",
      "[CV] max_depth=10, max_features=0.2, max_samples=0.7, n_estimators=123 \n",
      "[CV]  max_depth=10, max_features=0.2, max_samples=0.7, n_estimators=123, total=   0.2s\n",
      "[CV] max_depth=10, max_features=0.2, max_samples=0.7, n_estimators=123 \n",
      "[CV]  max_depth=10, max_features=0.2, max_samples=0.7, n_estimators=123, total=   0.2s\n",
      "[CV] max_depth=10, max_features=0.2, max_samples=0.7, n_estimators=182 \n",
      "[CV]  max_depth=10, max_features=0.2, max_samples=0.7, n_estimators=182, total=   0.3s\n",
      "[CV] max_depth=10, max_features=0.2, max_samples=0.7, n_estimators=182 \n",
      "[CV]  max_depth=10, max_features=0.2, max_samples=0.7, n_estimators=182, total=   0.3s\n",
      "[CV] max_depth=10, max_features=0.2, max_samples=0.7, n_estimators=182 \n",
      "[CV]  max_depth=10, max_features=0.2, max_samples=0.7, n_estimators=182, total=   0.4s\n",
      "[CV] max_depth=10, max_features=0.2, max_samples=0.7, n_estimators=241 \n",
      "[CV]  max_depth=10, max_features=0.2, max_samples=0.7, n_estimators=241, total=   0.5s\n",
      "[CV] max_depth=10, max_features=0.2, max_samples=0.7, n_estimators=241 \n",
      "[CV]  max_depth=10, max_features=0.2, max_samples=0.7, n_estimators=241, total=   0.5s\n",
      "[CV] max_depth=10, max_features=0.2, max_samples=0.7, n_estimators=241 \n",
      "[CV]  max_depth=10, max_features=0.2, max_samples=0.7, n_estimators=241, total=   0.5s\n",
      "[CV] max_depth=10, max_features=0.2, max_samples=0.7, n_estimators=300 \n",
      "[CV]  max_depth=10, max_features=0.2, max_samples=0.7, n_estimators=300, total=   0.6s\n",
      "[CV] max_depth=10, max_features=0.2, max_samples=0.7, n_estimators=300 \n",
      "[CV]  max_depth=10, max_features=0.2, max_samples=0.7, n_estimators=300, total=   0.6s\n",
      "[CV] max_depth=10, max_features=0.2, max_samples=0.7, n_estimators=300 \n",
      "[CV]  max_depth=10, max_features=0.2, max_samples=0.7, n_estimators=300, total=   0.6s\n",
      "[CV] max_depth=10, max_features=0.4, max_samples=0.5, n_estimators=5 .\n",
      "[CV]  max_depth=10, max_features=0.4, max_samples=0.5, n_estimators=5, total=   0.0s\n",
      "[CV] max_depth=10, max_features=0.4, max_samples=0.5, n_estimators=5 .\n",
      "[CV]  max_depth=10, max_features=0.4, max_samples=0.5, n_estimators=5, total=   0.0s\n",
      "[CV] max_depth=10, max_features=0.4, max_samples=0.5, n_estimators=5 .\n",
      "[CV]  max_depth=10, max_features=0.4, max_samples=0.5, n_estimators=5, total=   0.0s\n",
      "[CV] max_depth=10, max_features=0.4, max_samples=0.5, n_estimators=64 \n",
      "[CV]  max_depth=10, max_features=0.4, max_samples=0.5, n_estimators=64, total=   0.1s\n",
      "[CV] max_depth=10, max_features=0.4, max_samples=0.5, n_estimators=64 \n",
      "[CV]  max_depth=10, max_features=0.4, max_samples=0.5, n_estimators=64, total=   0.1s\n",
      "[CV] max_depth=10, max_features=0.4, max_samples=0.5, n_estimators=64 \n",
      "[CV]  max_depth=10, max_features=0.4, max_samples=0.5, n_estimators=64, total=   0.1s\n",
      "[CV] max_depth=10, max_features=0.4, max_samples=0.5, n_estimators=123 \n",
      "[CV]  max_depth=10, max_features=0.4, max_samples=0.5, n_estimators=123, total=   0.2s\n",
      "[CV] max_depth=10, max_features=0.4, max_samples=0.5, n_estimators=123 \n",
      "[CV]  max_depth=10, max_features=0.4, max_samples=0.5, n_estimators=123, total=   0.2s\n",
      "[CV] max_depth=10, max_features=0.4, max_samples=0.5, n_estimators=123 \n",
      "[CV]  max_depth=10, max_features=0.4, max_samples=0.5, n_estimators=123, total=   0.2s\n",
      "[CV] max_depth=10, max_features=0.4, max_samples=0.5, n_estimators=182 \n",
      "[CV]  max_depth=10, max_features=0.4, max_samples=0.5, n_estimators=182, total=   0.3s\n",
      "[CV] max_depth=10, max_features=0.4, max_samples=0.5, n_estimators=182 \n",
      "[CV]  max_depth=10, max_features=0.4, max_samples=0.5, n_estimators=182, total=   0.3s\n",
      "[CV] max_depth=10, max_features=0.4, max_samples=0.5, n_estimators=182 \n",
      "[CV]  max_depth=10, max_features=0.4, max_samples=0.5, n_estimators=182, total=   0.3s\n",
      "[CV] max_depth=10, max_features=0.4, max_samples=0.5, n_estimators=241 \n",
      "[CV]  max_depth=10, max_features=0.4, max_samples=0.5, n_estimators=241, total=   0.4s\n",
      "[CV] max_depth=10, max_features=0.4, max_samples=0.5, n_estimators=241 \n",
      "[CV]  max_depth=10, max_features=0.4, max_samples=0.5, n_estimators=241, total=   0.5s\n",
      "[CV] max_depth=10, max_features=0.4, max_samples=0.5, n_estimators=241 \n",
      "[CV]  max_depth=10, max_features=0.4, max_samples=0.5, n_estimators=241, total=   0.4s\n",
      "[CV] max_depth=10, max_features=0.4, max_samples=0.5, n_estimators=300 \n",
      "[CV]  max_depth=10, max_features=0.4, max_samples=0.5, n_estimators=300, total=   0.6s\n",
      "[CV] max_depth=10, max_features=0.4, max_samples=0.5, n_estimators=300 \n",
      "[CV]  max_depth=10, max_features=0.4, max_samples=0.5, n_estimators=300, total=   0.6s\n",
      "[CV] max_depth=10, max_features=0.4, max_samples=0.5, n_estimators=300 \n",
      "[CV]  max_depth=10, max_features=0.4, max_samples=0.5, n_estimators=300, total=   0.6s\n",
      "[CV] max_depth=10, max_features=0.4, max_samples=0.7, n_estimators=5 .\n",
      "[CV]  max_depth=10, max_features=0.4, max_samples=0.7, n_estimators=5, total=   0.0s\n",
      "[CV] max_depth=10, max_features=0.4, max_samples=0.7, n_estimators=5 .\n",
      "[CV]  max_depth=10, max_features=0.4, max_samples=0.7, n_estimators=5, total=   0.0s\n",
      "[CV] max_depth=10, max_features=0.4, max_samples=0.7, n_estimators=5 .\n",
      "[CV]  max_depth=10, max_features=0.4, max_samples=0.7, n_estimators=5, total=   0.0s\n",
      "[CV] max_depth=10, max_features=0.4, max_samples=0.7, n_estimators=64 \n",
      "[CV]  max_depth=10, max_features=0.4, max_samples=0.7, n_estimators=64, total=   0.1s\n",
      "[CV] max_depth=10, max_features=0.4, max_samples=0.7, n_estimators=64 \n",
      "[CV]  max_depth=10, max_features=0.4, max_samples=0.7, n_estimators=64, total=   0.1s\n",
      "[CV] max_depth=10, max_features=0.4, max_samples=0.7, n_estimators=64 \n",
      "[CV]  max_depth=10, max_features=0.4, max_samples=0.7, n_estimators=64, total=   0.1s\n",
      "[CV] max_depth=10, max_features=0.4, max_samples=0.7, n_estimators=123 \n",
      "[CV]  max_depth=10, max_features=0.4, max_samples=0.7, n_estimators=123, total=   0.2s\n",
      "[CV] max_depth=10, max_features=0.4, max_samples=0.7, n_estimators=123 \n",
      "[CV]  max_depth=10, max_features=0.4, max_samples=0.7, n_estimators=123, total=   0.2s\n",
      "[CV] max_depth=10, max_features=0.4, max_samples=0.7, n_estimators=123 \n",
      "[CV]  max_depth=10, max_features=0.4, max_samples=0.7, n_estimators=123, total=   0.2s\n",
      "[CV] max_depth=10, max_features=0.4, max_samples=0.7, n_estimators=182 \n",
      "[CV]  max_depth=10, max_features=0.4, max_samples=0.7, n_estimators=182, total=   0.4s\n",
      "[CV] max_depth=10, max_features=0.4, max_samples=0.7, n_estimators=182 \n",
      "[CV]  max_depth=10, max_features=0.4, max_samples=0.7, n_estimators=182, total=   0.3s\n",
      "[CV] max_depth=10, max_features=0.4, max_samples=0.7, n_estimators=182 \n",
      "[CV]  max_depth=10, max_features=0.4, max_samples=0.7, n_estimators=182, total=   0.3s\n",
      "[CV] max_depth=10, max_features=0.4, max_samples=0.7, n_estimators=241 \n",
      "[CV]  max_depth=10, max_features=0.4, max_samples=0.7, n_estimators=241, total=   0.5s\n",
      "[CV] max_depth=10, max_features=0.4, max_samples=0.7, n_estimators=241 \n",
      "[CV]  max_depth=10, max_features=0.4, max_samples=0.7, n_estimators=241, total=   0.5s\n",
      "[CV] max_depth=10, max_features=0.4, max_samples=0.7, n_estimators=241 \n",
      "[CV]  max_depth=10, max_features=0.4, max_samples=0.7, n_estimators=241, total=   0.5s\n",
      "[CV] max_depth=10, max_features=0.4, max_samples=0.7, n_estimators=300 \n",
      "[CV]  max_depth=10, max_features=0.4, max_samples=0.7, n_estimators=300, total=   0.6s\n",
      "[CV] max_depth=10, max_features=0.4, max_samples=0.7, n_estimators=300 \n",
      "[CV]  max_depth=10, max_features=0.4, max_samples=0.7, n_estimators=300, total=   0.6s\n",
      "[CV] max_depth=10, max_features=0.4, max_samples=0.7, n_estimators=300 \n",
      "[CV]  max_depth=10, max_features=0.4, max_samples=0.7, n_estimators=300, total=   0.6s\n"
     ]
    },
    {
     "name": "stderr",
     "output_type": "stream",
     "text": [
      "[Parallel(n_jobs=1)]: Done 216 out of 216 | elapsed:  1.0min finished\n"
     ]
    },
    {
     "data": {
      "text/plain": [
       "GridSearchCV(cv=3, estimator=RandomForestClassifier(),\n",
       "             param_grid={'max_depth': [1, 5, 10], 'max_features': [0.2, 0.4],\n",
       "                         'max_samples': [0.5, 0.7],\n",
       "                         'n_estimators': [5, 64, 123, 182, 241, 300]},\n",
       "             verbose=2)"
      ]
     },
     "execution_count": 36,
     "metadata": {},
     "output_type": "execute_result"
    }
   ],
   "source": [
    "rfg_grid.fit(x_train,y_train)"
   ]
  },
  {
   "cell_type": "code",
   "execution_count": 37,
   "id": "34fe6d96",
   "metadata": {
    "execution": {
     "iopub.execute_input": "2022-07-02T16:50:54.832923Z",
     "iopub.status.busy": "2022-07-02T16:50:54.832009Z",
     "iopub.status.idle": "2022-07-02T16:50:54.835784Z",
     "shell.execute_reply": "2022-07-02T16:50:54.835276Z",
     "shell.execute_reply.started": "2022-07-02T16:45:18.968701Z"
    },
    "papermill": {
     "duration": 0.111216,
     "end_time": "2022-07-02T16:50:54.835915",
     "exception": false,
     "start_time": "2022-07-02T16:50:54.724699",
     "status": "completed"
    },
    "tags": []
   },
   "outputs": [
    {
     "data": {
      "text/plain": [
       "{'max_depth': 5, 'max_features': 0.2, 'max_samples': 0.5, 'n_estimators': 64}"
      ]
     },
     "execution_count": 37,
     "metadata": {},
     "output_type": "execute_result"
    }
   ],
   "source": [
    "rfg_grid.best_params_"
   ]
  },
  {
   "cell_type": "code",
   "execution_count": 38,
   "id": "0a5001c9",
   "metadata": {
    "execution": {
     "iopub.execute_input": "2022-07-02T16:50:55.048775Z",
     "iopub.status.busy": "2022-07-02T16:50:55.047823Z",
     "iopub.status.idle": "2022-07-02T16:50:55.051429Z",
     "shell.execute_reply": "2022-07-02T16:50:55.052116Z",
     "shell.execute_reply.started": "2022-07-02T16:45:21.777902Z"
    },
    "papermill": {
     "duration": 0.112595,
     "end_time": "2022-07-02T16:50:55.052329",
     "exception": false,
     "start_time": "2022-07-02T16:50:54.939734",
     "status": "completed"
    },
    "tags": []
   },
   "outputs": [
    {
     "data": {
      "text/plain": [
       "0.8916666666666666"
      ]
     },
     "execution_count": 38,
     "metadata": {},
     "output_type": "execute_result"
    }
   ],
   "source": [
    "rfg_grid.best_score_"
   ]
  },
  {
   "cell_type": "code",
   "execution_count": 39,
   "id": "099fb753",
   "metadata": {
    "execution": {
     "iopub.execute_input": "2022-07-02T16:50:55.260882Z",
     "iopub.status.busy": "2022-07-02T16:50:55.260089Z",
     "iopub.status.idle": "2022-07-02T16:50:55.263217Z",
     "shell.execute_reply": "2022-07-02T16:50:55.263715Z",
     "shell.execute_reply.started": "2022-07-02T16:45:24.298063Z"
    },
    "papermill": {
     "duration": 0.110503,
     "end_time": "2022-07-02T16:50:55.263878",
     "exception": false,
     "start_time": "2022-07-02T16:50:55.153375",
     "status": "completed"
    },
    "tags": []
   },
   "outputs": [
    {
     "data": {
      "text/plain": [
       "RandomForestClassifier(max_depth=5, max_features=0.2, max_samples=0.5,\n",
       "                       n_estimators=64)"
      ]
     },
     "execution_count": 39,
     "metadata": {},
     "output_type": "execute_result"
    }
   ],
   "source": [
    "best_grid=rfg_grid.best_estimator_\n",
    "best_grid"
   ]
  },
  {
   "cell_type": "code",
   "execution_count": 40,
   "id": "0b16c1cd",
   "metadata": {
    "execution": {
     "iopub.execute_input": "2022-07-02T16:50:55.483247Z",
     "iopub.status.busy": "2022-07-02T16:50:55.482596Z",
     "iopub.status.idle": "2022-07-02T16:50:55.485092Z",
     "shell.execute_reply": "2022-07-02T16:50:55.485572Z",
     "shell.execute_reply.started": "2022-07-02T16:45:47.489164Z"
    },
    "papermill": {
     "duration": 0.119073,
     "end_time": "2022-07-02T16:50:55.485732",
     "exception": false,
     "start_time": "2022-07-02T16:50:55.366659",
     "status": "completed"
    },
    "tags": []
   },
   "outputs": [
    {
     "data": {
      "text/plain": [
       "0.875"
      ]
     },
     "execution_count": 40,
     "metadata": {},
     "output_type": "execute_result"
    }
   ],
   "source": [
    "y_pred2=best_grid.predict(x_test)\n",
    "accuracy_score(y_test,y_pred2)"
   ]
  },
  {
   "cell_type": "code",
   "execution_count": 41,
   "id": "fc3fa635",
   "metadata": {
    "execution": {
     "iopub.execute_input": "2022-07-02T16:50:55.693180Z",
     "iopub.status.busy": "2022-07-02T16:50:55.692547Z",
     "iopub.status.idle": "2022-07-02T16:50:55.820618Z",
     "shell.execute_reply": "2022-07-02T16:50:55.819992Z",
     "shell.execute_reply.started": "2022-07-02T16:46:22.458086Z"
    },
    "papermill": {
     "duration": 0.232947,
     "end_time": "2022-07-02T16:50:55.820757",
     "exception": false,
     "start_time": "2022-07-02T16:50:55.587810",
     "status": "completed"
    },
    "tags": []
   },
   "outputs": [
    {
     "data": {
      "text/plain": [
       "RandomForestClassifier(max_depth=5, max_features=0.2, max_samples=0.5,\n",
       "                       n_estimators=64)"
      ]
     },
     "execution_count": 41,
     "metadata": {},
     "output_type": "execute_result"
    }
   ],
   "source": [
    "best_grid.fit(x,y)"
   ]
  },
  {
   "cell_type": "code",
   "execution_count": 42,
   "id": "b8120278",
   "metadata": {
    "execution": {
     "iopub.execute_input": "2022-07-02T16:50:56.033582Z",
     "iopub.status.busy": "2022-07-02T16:50:56.032907Z",
     "iopub.status.idle": "2022-07-02T16:50:56.044397Z",
     "shell.execute_reply": "2022-07-02T16:50:56.044898Z",
     "shell.execute_reply.started": "2022-07-02T16:46:41.938190Z"
    },
    "papermill": {
     "duration": 0.121497,
     "end_time": "2022-07-02T16:50:56.045069",
     "exception": false,
     "start_time": "2022-07-02T16:50:55.923572",
     "status": "completed"
    },
    "tags": []
   },
   "outputs": [
    {
     "data": {
      "text/plain": [
       "array([0, 1, 0, 1, 0, 1, 0, 0, 0, 1, 0, 0, 1, 1, 1, 0, 0, 0, 1, 1, 1, 1,\n",
       "       1, 0, 0, 0, 1, 1, 1, 0, 0, 0, 0, 0, 0, 0, 1, 1, 0, 0, 1, 1, 0, 0,\n",
       "       0, 1, 1, 0, 0, 1, 0, 0, 1, 0, 0, 1, 1, 0, 0, 0, 0, 0, 0, 0, 0, 0,\n",
       "       0, 0, 0, 1, 0, 0, 1, 1, 1, 0, 1, 0, 0, 1])"
      ]
     },
     "execution_count": 42,
     "metadata": {},
     "output_type": "execute_result"
    }
   ],
   "source": [
    "y_pred3=best_grid.predict(test_df)\n",
    "y_pred3"
   ]
  },
  {
   "cell_type": "code",
   "execution_count": 43,
   "id": "771ad146",
   "metadata": {
    "execution": {
     "iopub.execute_input": "2022-07-02T16:50:56.253943Z",
     "iopub.status.busy": "2022-07-02T16:50:56.253332Z",
     "iopub.status.idle": "2022-07-02T16:50:56.261676Z",
     "shell.execute_reply": "2022-07-02T16:50:56.261198Z",
     "shell.execute_reply.started": "2022-07-02T16:47:57.178172Z"
    },
    "papermill": {
     "duration": 0.113584,
     "end_time": "2022-07-02T16:50:56.261824",
     "exception": false,
     "start_time": "2022-07-02T16:50:56.148240",
     "status": "completed"
    },
    "tags": []
   },
   "outputs": [
    {
     "data": {
      "text/html": [
       "<div>\n",
       "<style scoped>\n",
       "    .dataframe tbody tr th:only-of-type {\n",
       "        vertical-align: middle;\n",
       "    }\n",
       "\n",
       "    .dataframe tbody tr th {\n",
       "        vertical-align: top;\n",
       "    }\n",
       "\n",
       "    .dataframe thead th {\n",
       "        text-align: right;\n",
       "    }\n",
       "</style>\n",
       "<table border=\"1\" class=\"dataframe\">\n",
       "  <thead>\n",
       "    <tr style=\"text-align: right;\">\n",
       "      <th></th>\n",
       "      <th>User ID</th>\n",
       "      <th>Purchased</th>\n",
       "    </tr>\n",
       "  </thead>\n",
       "  <tbody>\n",
       "    <tr>\n",
       "      <th>0</th>\n",
       "      <td>15657163</td>\n",
       "      <td>0</td>\n",
       "    </tr>\n",
       "  </tbody>\n",
       "</table>\n",
       "</div>"
      ],
      "text/plain": [
       "    User ID  Purchased\n",
       "0  15657163          0"
      ]
     },
     "execution_count": 43,
     "metadata": {},
     "output_type": "execute_result"
    }
   ],
   "source": [
    "sample_df.head(1)"
   ]
  },
  {
   "cell_type": "code",
   "execution_count": 44,
   "id": "a4b62acd",
   "metadata": {
    "execution": {
     "iopub.execute_input": "2022-07-02T16:50:56.475337Z",
     "iopub.status.busy": "2022-07-02T16:50:56.474712Z",
     "iopub.status.idle": "2022-07-02T16:50:56.477584Z",
     "shell.execute_reply": "2022-07-02T16:50:56.477004Z",
     "shell.execute_reply.started": "2022-07-02T16:48:09.298429Z"
    },
    "papermill": {
     "duration": 0.111755,
     "end_time": "2022-07-02T16:50:56.477716",
     "exception": false,
     "start_time": "2022-07-02T16:50:56.365961",
     "status": "completed"
    },
    "tags": []
   },
   "outputs": [],
   "source": [
    "submission=pd.DataFrame({'User ID':sample_df['User ID'],'Purchased':y_pred3})"
   ]
  },
  {
   "cell_type": "code",
   "execution_count": 45,
   "id": "0cd6d43c",
   "metadata": {
    "execution": {
     "iopub.execute_input": "2022-07-02T16:50:56.692999Z",
     "iopub.status.busy": "2022-07-02T16:50:56.692267Z",
     "iopub.status.idle": "2022-07-02T16:50:56.695360Z",
     "shell.execute_reply": "2022-07-02T16:50:56.695824Z",
     "shell.execute_reply.started": "2022-07-02T16:48:15.688906Z"
    },
    "papermill": {
     "duration": 0.114754,
     "end_time": "2022-07-02T16:50:56.695983",
     "exception": false,
     "start_time": "2022-07-02T16:50:56.581229",
     "status": "completed"
    },
    "tags": []
   },
   "outputs": [
    {
     "data": {
      "text/html": [
       "<div>\n",
       "<style scoped>\n",
       "    .dataframe tbody tr th:only-of-type {\n",
       "        vertical-align: middle;\n",
       "    }\n",
       "\n",
       "    .dataframe tbody tr th {\n",
       "        vertical-align: top;\n",
       "    }\n",
       "\n",
       "    .dataframe thead th {\n",
       "        text-align: right;\n",
       "    }\n",
       "</style>\n",
       "<table border=\"1\" class=\"dataframe\">\n",
       "  <thead>\n",
       "    <tr style=\"text-align: right;\">\n",
       "      <th></th>\n",
       "      <th>User ID</th>\n",
       "      <th>Purchased</th>\n",
       "    </tr>\n",
       "  </thead>\n",
       "  <tbody>\n",
       "    <tr>\n",
       "      <th>0</th>\n",
       "      <td>15657163</td>\n",
       "      <td>0</td>\n",
       "    </tr>\n",
       "    <tr>\n",
       "      <th>1</th>\n",
       "      <td>15577514</td>\n",
       "      <td>1</td>\n",
       "    </tr>\n",
       "    <tr>\n",
       "      <th>2</th>\n",
       "      <td>15807909</td>\n",
       "      <td>0</td>\n",
       "    </tr>\n",
       "    <tr>\n",
       "      <th>3</th>\n",
       "      <td>15646091</td>\n",
       "      <td>1</td>\n",
       "    </tr>\n",
       "    <tr>\n",
       "      <th>4</th>\n",
       "      <td>15730688</td>\n",
       "      <td>0</td>\n",
       "    </tr>\n",
       "  </tbody>\n",
       "</table>\n",
       "</div>"
      ],
      "text/plain": [
       "    User ID  Purchased\n",
       "0  15657163          0\n",
       "1  15577514          1\n",
       "2  15807909          0\n",
       "3  15646091          1\n",
       "4  15730688          0"
      ]
     },
     "execution_count": 45,
     "metadata": {},
     "output_type": "execute_result"
    }
   ],
   "source": [
    "submission.head()"
   ]
  },
  {
   "cell_type": "code",
   "execution_count": 46,
   "id": "92b7ec4d",
   "metadata": {
    "execution": {
     "iopub.execute_input": "2022-07-02T16:50:56.908257Z",
     "iopub.status.busy": "2022-07-02T16:50:56.907398Z",
     "iopub.status.idle": "2022-07-02T16:50:56.911666Z",
     "shell.execute_reply": "2022-07-02T16:50:56.912201Z",
     "shell.execute_reply.started": "2022-07-02T16:48:35.599141Z"
    },
    "papermill": {
     "duration": 0.112952,
     "end_time": "2022-07-02T16:50:56.912368",
     "exception": false,
     "start_time": "2022-07-02T16:50:56.799416",
     "status": "completed"
    },
    "tags": []
   },
   "outputs": [],
   "source": [
    "submission.to_csv('sub.csv',index=None)"
   ]
  },
  {
   "cell_type": "code",
   "execution_count": null,
   "id": "1a07f4ba",
   "metadata": {
    "papermill": {
     "duration": 0.102805,
     "end_time": "2022-07-02T16:50:57.118488",
     "exception": false,
     "start_time": "2022-07-02T16:50:57.015683",
     "status": "completed"
    },
    "tags": []
   },
   "outputs": [],
   "source": []
  },
  {
   "cell_type": "code",
   "execution_count": null,
   "id": "d418de65",
   "metadata": {
    "papermill": {
     "duration": 0.103235,
     "end_time": "2022-07-02T16:50:57.324847",
     "exception": false,
     "start_time": "2022-07-02T16:50:57.221612",
     "status": "completed"
    },
    "tags": []
   },
   "outputs": [],
   "source": []
  },
  {
   "cell_type": "code",
   "execution_count": null,
   "id": "497c2de6",
   "metadata": {
    "papermill": {
     "duration": 0.103013,
     "end_time": "2022-07-02T16:50:57.532066",
     "exception": false,
     "start_time": "2022-07-02T16:50:57.429053",
     "status": "completed"
    },
    "tags": []
   },
   "outputs": [],
   "source": []
  },
  {
   "cell_type": "code",
   "execution_count": null,
   "id": "1ada34c2",
   "metadata": {
    "papermill": {
     "duration": 0.103127,
     "end_time": "2022-07-02T16:50:57.738693",
     "exception": false,
     "start_time": "2022-07-02T16:50:57.635566",
     "status": "completed"
    },
    "tags": []
   },
   "outputs": [],
   "source": []
  },
  {
   "cell_type": "code",
   "execution_count": null,
   "id": "94f50ac2",
   "metadata": {
    "papermill": {
     "duration": 0.104079,
     "end_time": "2022-07-02T16:50:57.946854",
     "exception": false,
     "start_time": "2022-07-02T16:50:57.842775",
     "status": "completed"
    },
    "tags": []
   },
   "outputs": [],
   "source": []
  },
  {
   "cell_type": "code",
   "execution_count": null,
   "id": "b350509e",
   "metadata": {
    "papermill": {
     "duration": 0.104289,
     "end_time": "2022-07-02T16:50:58.154015",
     "exception": false,
     "start_time": "2022-07-02T16:50:58.049726",
     "status": "completed"
    },
    "tags": []
   },
   "outputs": [],
   "source": []
  },
  {
   "cell_type": "code",
   "execution_count": null,
   "id": "e430de28",
   "metadata": {
    "papermill": {
     "duration": 0.156783,
     "end_time": "2022-07-02T16:50:58.414622",
     "exception": false,
     "start_time": "2022-07-02T16:50:58.257839",
     "status": "completed"
    },
    "tags": []
   },
   "outputs": [],
   "source": []
  },
  {
   "cell_type": "code",
   "execution_count": null,
   "id": "702c20bc",
   "metadata": {
    "papermill": {
     "duration": 0.103113,
     "end_time": "2022-07-02T16:50:58.620906",
     "exception": false,
     "start_time": "2022-07-02T16:50:58.517793",
     "status": "completed"
    },
    "tags": []
   },
   "outputs": [],
   "source": []
  }
 ],
 "metadata": {
  "kernelspec": {
   "display_name": "Python 3",
   "language": "python",
   "name": "python3"
  },
  "language_info": {
   "codemirror_mode": {
    "name": "ipython",
    "version": 3
   },
   "file_extension": ".py",
   "mimetype": "text/x-python",
   "name": "python",
   "nbconvert_exporter": "python",
   "pygments_lexer": "ipython3",
   "version": "3.7.10"
  },
  "papermill": {
   "default_parameters": {},
   "duration": 93.970342,
   "end_time": "2022-07-02T16:51:00.404619",
   "environment_variables": {},
   "exception": null,
   "input_path": "__notebook__.ipynb",
   "output_path": "__notebook__.ipynb",
   "parameters": {},
   "start_time": "2022-07-02T16:49:26.434277",
   "version": "2.3.3"
  }
 },
 "nbformat": 4,
 "nbformat_minor": 5
}
