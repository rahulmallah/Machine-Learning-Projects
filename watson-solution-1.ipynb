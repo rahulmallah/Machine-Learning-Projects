{
 "cells": [
  {
   "cell_type": "code",
   "execution_count": 1,
   "id": "be557707",
   "metadata": {
    "execution": {
     "iopub.execute_input": "2022-07-16T13:07:42.960298Z",
     "iopub.status.busy": "2022-07-16T13:07:42.954526Z",
     "iopub.status.idle": "2022-07-16T13:07:43.170747Z",
     "shell.execute_reply": "2022-07-16T13:07:43.170136Z",
     "shell.execute_reply.started": "2022-07-16T12:27:32.750058Z"
    },
    "papermill": {
     "duration": 0.326621,
     "end_time": "2022-07-16T13:07:43.170890",
     "exception": false,
     "start_time": "2022-07-16T13:07:42.844269",
     "status": "completed"
    },
    "tags": []
   },
   "outputs": [],
   "source": [
    "import pandas as pd\n",
    "import numpy as np\n",
    "train_df=pd.read_csv('../input/contradictory-my-dear-watson/train.csv')\n",
    "test_df=pd.read_csv('../input/contradictory-my-dear-watson/test.csv')\n",
    "sub_df=pd.read_csv('../input/contradictory-my-dear-watson/sample_submission.csv')"
   ]
  },
  {
   "cell_type": "code",
   "execution_count": 2,
   "id": "ae4289bb",
   "metadata": {
    "execution": {
     "iopub.execute_input": "2022-07-16T13:07:43.239306Z",
     "iopub.status.busy": "2022-07-16T13:07:43.234478Z",
     "iopub.status.idle": "2022-07-16T13:07:43.256491Z",
     "shell.execute_reply": "2022-07-16T13:07:43.256923Z",
     "shell.execute_reply.started": "2022-07-16T11:22:30.615523Z"
    },
    "papermill": {
     "duration": 0.054802,
     "end_time": "2022-07-16T13:07:43.257053",
     "exception": false,
     "start_time": "2022-07-16T13:07:43.202251",
     "status": "completed"
    },
    "tags": []
   },
   "outputs": [
    {
     "data": {
      "text/html": [
       "<div>\n",
       "<style scoped>\n",
       "    .dataframe tbody tr th:only-of-type {\n",
       "        vertical-align: middle;\n",
       "    }\n",
       "\n",
       "    .dataframe tbody tr th {\n",
       "        vertical-align: top;\n",
       "    }\n",
       "\n",
       "    .dataframe thead th {\n",
       "        text-align: right;\n",
       "    }\n",
       "</style>\n",
       "<table border=\"1\" class=\"dataframe\">\n",
       "  <thead>\n",
       "    <tr style=\"text-align: right;\">\n",
       "      <th></th>\n",
       "      <th>id</th>\n",
       "      <th>premise</th>\n",
       "      <th>hypothesis</th>\n",
       "      <th>lang_abv</th>\n",
       "      <th>language</th>\n",
       "      <th>label</th>\n",
       "    </tr>\n",
       "  </thead>\n",
       "  <tbody>\n",
       "    <tr>\n",
       "      <th>0</th>\n",
       "      <td>5130fd2cb5</td>\n",
       "      <td>and these comments were considered in formulat...</td>\n",
       "      <td>The rules developed in the interim were put to...</td>\n",
       "      <td>en</td>\n",
       "      <td>English</td>\n",
       "      <td>0</td>\n",
       "    </tr>\n",
       "    <tr>\n",
       "      <th>1</th>\n",
       "      <td>5b72532a0b</td>\n",
       "      <td>These are issues that we wrestle with in pract...</td>\n",
       "      <td>Practice groups are not permitted to work on t...</td>\n",
       "      <td>en</td>\n",
       "      <td>English</td>\n",
       "      <td>2</td>\n",
       "    </tr>\n",
       "    <tr>\n",
       "      <th>2</th>\n",
       "      <td>3931fbe82a</td>\n",
       "      <td>Des petites choses comme celles-là font une di...</td>\n",
       "      <td>J'essayais d'accomplir quelque chose.</td>\n",
       "      <td>fr</td>\n",
       "      <td>French</td>\n",
       "      <td>0</td>\n",
       "    </tr>\n",
       "    <tr>\n",
       "      <th>3</th>\n",
       "      <td>5622f0c60b</td>\n",
       "      <td>you know they can't really defend themselves l...</td>\n",
       "      <td>They can't defend themselves because of their ...</td>\n",
       "      <td>en</td>\n",
       "      <td>English</td>\n",
       "      <td>0</td>\n",
       "    </tr>\n",
       "    <tr>\n",
       "      <th>4</th>\n",
       "      <td>86aaa48b45</td>\n",
       "      <td>ในการเล่นบทบาทสมมุติก็เช่นกัน โอกาสที่จะได้แสด...</td>\n",
       "      <td>เด็กสามารถเห็นได้ว่าชาติพันธุ์แตกต่างกันอย่างไร</td>\n",
       "      <td>th</td>\n",
       "      <td>Thai</td>\n",
       "      <td>1</td>\n",
       "    </tr>\n",
       "  </tbody>\n",
       "</table>\n",
       "</div>"
      ],
      "text/plain": [
       "           id                                            premise  \\\n",
       "0  5130fd2cb5  and these comments were considered in formulat...   \n",
       "1  5b72532a0b  These are issues that we wrestle with in pract...   \n",
       "2  3931fbe82a  Des petites choses comme celles-là font une di...   \n",
       "3  5622f0c60b  you know they can't really defend themselves l...   \n",
       "4  86aaa48b45  ในการเล่นบทบาทสมมุติก็เช่นกัน โอกาสที่จะได้แสด...   \n",
       "\n",
       "                                          hypothesis lang_abv language  label  \n",
       "0  The rules developed in the interim were put to...       en  English      0  \n",
       "1  Practice groups are not permitted to work on t...       en  English      2  \n",
       "2              J'essayais d'accomplir quelque chose.       fr   French      0  \n",
       "3  They can't defend themselves because of their ...       en  English      0  \n",
       "4    เด็กสามารถเห็นได้ว่าชาติพันธุ์แตกต่างกันอย่างไร       th     Thai      1  "
      ]
     },
     "execution_count": 2,
     "metadata": {},
     "output_type": "execute_result"
    }
   ],
   "source": [
    "train_df.head()"
   ]
  },
  {
   "cell_type": "code",
   "execution_count": 3,
   "id": "69f4fea6",
   "metadata": {
    "execution": {
     "iopub.execute_input": "2022-07-16T13:07:43.322684Z",
     "iopub.status.busy": "2022-07-16T13:07:43.322012Z",
     "iopub.status.idle": "2022-07-16T13:07:43.324512Z",
     "shell.execute_reply": "2022-07-16T13:07:43.324972Z",
     "shell.execute_reply.started": "2022-07-16T11:22:30.645747Z"
    },
    "papermill": {
     "duration": 0.037153,
     "end_time": "2022-07-16T13:07:43.325097",
     "exception": false,
     "start_time": "2022-07-16T13:07:43.287944",
     "status": "completed"
    },
    "tags": []
   },
   "outputs": [
    {
     "data": {
      "text/plain": [
       "(12120, 6)"
      ]
     },
     "execution_count": 3,
     "metadata": {},
     "output_type": "execute_result"
    }
   ],
   "source": [
    "train_df.shape"
   ]
  },
  {
   "cell_type": "code",
   "execution_count": 4,
   "id": "c4ac394e",
   "metadata": {
    "execution": {
     "iopub.execute_input": "2022-07-16T13:07:43.391304Z",
     "iopub.status.busy": "2022-07-16T13:07:43.390762Z",
     "iopub.status.idle": "2022-07-16T13:07:43.395551Z",
     "shell.execute_reply": "2022-07-16T13:07:43.395134Z",
     "shell.execute_reply.started": "2022-07-16T11:22:30.654954Z"
    },
    "papermill": {
     "duration": 0.04088,
     "end_time": "2022-07-16T13:07:43.395682",
     "exception": false,
     "start_time": "2022-07-16T13:07:43.354802",
     "status": "completed"
    },
    "tags": []
   },
   "outputs": [
    {
     "data": {
      "text/plain": [
       "'Practice groups are not permitted to work on these issues.'"
      ]
     },
     "execution_count": 4,
     "metadata": {},
     "output_type": "execute_result"
    }
   ],
   "source": [
    "train_df['hypothesis'][1]"
   ]
  },
  {
   "cell_type": "code",
   "execution_count": 5,
   "id": "62de9ad7",
   "metadata": {
    "execution": {
     "iopub.execute_input": "2022-07-16T13:07:43.461587Z",
     "iopub.status.busy": "2022-07-16T13:07:43.460763Z",
     "iopub.status.idle": "2022-07-16T13:07:43.464629Z",
     "shell.execute_reply": "2022-07-16T13:07:43.464207Z",
     "shell.execute_reply.started": "2022-07-16T11:22:30.673007Z"
    },
    "papermill": {
     "duration": 0.038931,
     "end_time": "2022-07-16T13:07:43.464744",
     "exception": false,
     "start_time": "2022-07-16T13:07:43.425813",
     "status": "completed"
    },
    "tags": []
   },
   "outputs": [
    {
     "data": {
      "text/plain": [
       "'These are issues that we wrestle with in practice groups of law firms, she said. '"
      ]
     },
     "execution_count": 5,
     "metadata": {},
     "output_type": "execute_result"
    }
   ],
   "source": [
    "train_df['premise'][1]"
   ]
  },
  {
   "cell_type": "code",
   "execution_count": 6,
   "id": "b73c545e",
   "metadata": {
    "execution": {
     "iopub.execute_input": "2022-07-16T13:07:43.545172Z",
     "iopub.status.busy": "2022-07-16T13:07:43.544389Z",
     "iopub.status.idle": "2022-07-16T13:07:43.559868Z",
     "shell.execute_reply": "2022-07-16T13:07:43.559127Z",
     "shell.execute_reply.started": "2022-07-16T11:22:30.686303Z"
    },
    "papermill": {
     "duration": 0.054271,
     "end_time": "2022-07-16T13:07:43.559995",
     "exception": false,
     "start_time": "2022-07-16T13:07:43.505724",
     "status": "completed"
    },
    "tags": []
   },
   "outputs": [
    {
     "data": {
      "text/plain": [
       "English       0.566832\n",
       "Chinese       0.033911\n",
       "Arabic        0.033086\n",
       "French        0.032178\n",
       "Swahili       0.031766\n",
       "Urdu          0.031436\n",
       "Vietnamese    0.031271\n",
       "Russian       0.031023\n",
       "Hindi         0.030858\n",
       "Greek         0.030693\n",
       "Thai          0.030611\n",
       "Spanish       0.030198\n",
       "German        0.028960\n",
       "Turkish       0.028960\n",
       "Bulgarian     0.028218\n",
       "Name: language, dtype: float64"
      ]
     },
     "execution_count": 6,
     "metadata": {},
     "output_type": "execute_result"
    }
   ],
   "source": [
    "train_df['language'].value_counts(normalize=True)"
   ]
  },
  {
   "cell_type": "code",
   "execution_count": 7,
   "id": "a47497af",
   "metadata": {
    "execution": {
     "iopub.execute_input": "2022-07-16T13:07:43.640504Z",
     "iopub.status.busy": "2022-07-16T13:07:43.630359Z",
     "iopub.status.idle": "2022-07-16T13:07:43.644142Z",
     "shell.execute_reply": "2022-07-16T13:07:43.643561Z",
     "shell.execute_reply.started": "2022-07-16T11:22:30.717225Z"
    },
    "papermill": {
     "duration": 0.051937,
     "end_time": "2022-07-16T13:07:43.644280",
     "exception": false,
     "start_time": "2022-07-16T13:07:43.592343",
     "status": "completed"
    },
    "tags": []
   },
   "outputs": [
    {
     "data": {
      "text/html": [
       "<div>\n",
       "<style scoped>\n",
       "    .dataframe tbody tr th:only-of-type {\n",
       "        vertical-align: middle;\n",
       "    }\n",
       "\n",
       "    .dataframe tbody tr th {\n",
       "        vertical-align: top;\n",
       "    }\n",
       "\n",
       "    .dataframe thead th {\n",
       "        text-align: right;\n",
       "    }\n",
       "</style>\n",
       "<table border=\"1\" class=\"dataframe\">\n",
       "  <thead>\n",
       "    <tr style=\"text-align: right;\">\n",
       "      <th></th>\n",
       "      <th>id</th>\n",
       "      <th>premise</th>\n",
       "      <th>hypothesis</th>\n",
       "      <th>lang_abv</th>\n",
       "      <th>language</th>\n",
       "      <th>label</th>\n",
       "    </tr>\n",
       "  </thead>\n",
       "  <tbody>\n",
       "    <tr>\n",
       "      <th>14</th>\n",
       "      <td>82f24422eb</td>\n",
       "      <td>म्जोडी का दावा है कि वह शादी करने के लिए मोरक्...</td>\n",
       "      <td>मज़ौदी ने दावा किया कि वह योजना के अनुसार योजन...</td>\n",
       "      <td>hi</td>\n",
       "      <td>Hindi</td>\n",
       "      <td>2</td>\n",
       "    </tr>\n",
       "    <tr>\n",
       "      <th>48</th>\n",
       "      <td>126018a551</td>\n",
       "      <td>उसने आश्चर्य से ऊपर देखा, और फिर उसके साथ सोचन...</td>\n",
       "      <td>वो उसके उम्मीद से बहादुर थी।</td>\n",
       "      <td>hi</td>\n",
       "      <td>Hindi</td>\n",
       "      <td>1</td>\n",
       "    </tr>\n",
       "    <tr>\n",
       "      <th>84</th>\n",
       "      <td>b02c0e148c</td>\n",
       "      <td>यह संगीत खुदरा विक्रेताओं के लिए कोई रहस्य नही...</td>\n",
       "      <td>संगीत खुदरा विक्रेता पूरी तरह से इस बारे में अ...</td>\n",
       "      <td>hi</td>\n",
       "      <td>Hindi</td>\n",
       "      <td>2</td>\n",
       "    </tr>\n",
       "    <tr>\n",
       "      <th>161</th>\n",
       "      <td>ee546513c1</td>\n",
       "      <td>धिक्कार है! शायद आप अपने आप को समझाएंगे? वोवरस...</td>\n",
       "      <td>मैं चाहता हूं कि आप खुद ही समझाएं! मुझे पता है...</td>\n",
       "      <td>hi</td>\n",
       "      <td>Hindi</td>\n",
       "      <td>1</td>\n",
       "    </tr>\n",
       "    <tr>\n",
       "      <th>186</th>\n",
       "      <td>6960d6ed8a</td>\n",
       "      <td>vahee baat New York Times ke lie nahin kaha ja...</td>\n",
       "      <td>टाइम्स ने कहा कि बुश को हर किसी से बस  झूठ बोल...</td>\n",
       "      <td>hi</td>\n",
       "      <td>Hindi</td>\n",
       "      <td>2</td>\n",
       "    </tr>\n",
       "    <tr>\n",
       "      <th>...</th>\n",
       "      <td>...</td>\n",
       "      <td>...</td>\n",
       "      <td>...</td>\n",
       "      <td>...</td>\n",
       "      <td>...</td>\n",
       "      <td>...</td>\n",
       "    </tr>\n",
       "    <tr>\n",
       "      <th>11824</th>\n",
       "      <td>7e47d1b52a</td>\n",
       "      <td>यह परम रिपब्लिकन की सबसे बडी हार है</td>\n",
       "      <td>अब कोई दूसरा रिपब्लिकन फालबैक काम नहीं करेगा।</td>\n",
       "      <td>hi</td>\n",
       "      <td>Hindi</td>\n",
       "      <td>1</td>\n",
       "    </tr>\n",
       "    <tr>\n",
       "      <th>11853</th>\n",
       "      <td>73ccdc9cc8</td>\n",
       "      <td>यह ज्यादा सरल किया गया हो ऐसा है, उसने मुझे पह...</td>\n",
       "      <td>उसने मुझे केवल एक संस्करण दिया और यह केवल कुछ ...</td>\n",
       "      <td>hi</td>\n",
       "      <td>Hindi</td>\n",
       "      <td>2</td>\n",
       "    </tr>\n",
       "    <tr>\n",
       "      <th>11864</th>\n",
       "      <td>9cb26f1f66</td>\n",
       "      <td>वह कुछ एक फाइल थी जिसमे कई सरे टैब्स थी , सब ह...</td>\n",
       "      <td>Ye tabs saare accounts ka current balance dikh...</td>\n",
       "      <td>hi</td>\n",
       "      <td>Hindi</td>\n",
       "      <td>1</td>\n",
       "    </tr>\n",
       "    <tr>\n",
       "      <th>11882</th>\n",
       "      <td>c33c2e38de</td>\n",
       "      <td>यह साफ नहीं है कि 2010 से पहले की प्रणाली को इ...</td>\n",
       "      <td>सिस्टम को स्थापित करना मुश्किल है क्योंकि हैकर...</td>\n",
       "      <td>hi</td>\n",
       "      <td>Hindi</td>\n",
       "      <td>1</td>\n",
       "    </tr>\n",
       "    <tr>\n",
       "      <th>12034</th>\n",
       "      <td>cae3fc50ab</td>\n",
       "      <td>वह नहीं जानता था कि ओग्ले ने उनमें जगाए आतंक स...</td>\n",
       "      <td>उसे यकीन नहीं था कि क्या घबराए हुए पुरुष वूवरस...</td>\n",
       "      <td>hi</td>\n",
       "      <td>Hindi</td>\n",
       "      <td>0</td>\n",
       "    </tr>\n",
       "  </tbody>\n",
       "</table>\n",
       "<p>374 rows × 6 columns</p>\n",
       "</div>"
      ],
      "text/plain": [
       "               id                                            premise  \\\n",
       "14     82f24422eb  म्जोडी का दावा है कि वह शादी करने के लिए मोरक्...   \n",
       "48     126018a551  उसने आश्चर्य से ऊपर देखा, और फिर उसके साथ सोचन...   \n",
       "84     b02c0e148c  यह संगीत खुदरा विक्रेताओं के लिए कोई रहस्य नही...   \n",
       "161    ee546513c1  धिक्कार है! शायद आप अपने आप को समझाएंगे? वोवरस...   \n",
       "186    6960d6ed8a  vahee baat New York Times ke lie nahin kaha ja...   \n",
       "...           ...                                                ...   \n",
       "11824  7e47d1b52a                यह परम रिपब्लिकन की सबसे बडी हार है   \n",
       "11853  73ccdc9cc8  यह ज्यादा सरल किया गया हो ऐसा है, उसने मुझे पह...   \n",
       "11864  9cb26f1f66  वह कुछ एक फाइल थी जिसमे कई सरे टैब्स थी , सब ह...   \n",
       "11882  c33c2e38de  यह साफ नहीं है कि 2010 से पहले की प्रणाली को इ...   \n",
       "12034  cae3fc50ab  वह नहीं जानता था कि ओग्ले ने उनमें जगाए आतंक स...   \n",
       "\n",
       "                                              hypothesis lang_abv language  \\\n",
       "14     मज़ौदी ने दावा किया कि वह योजना के अनुसार योजन...       hi    Hindi   \n",
       "48                          वो उसके उम्मीद से बहादुर थी।       hi    Hindi   \n",
       "84     संगीत खुदरा विक्रेता पूरी तरह से इस बारे में अ...       hi    Hindi   \n",
       "161    मैं चाहता हूं कि आप खुद ही समझाएं! मुझे पता है...       hi    Hindi   \n",
       "186    टाइम्स ने कहा कि बुश को हर किसी से बस  झूठ बोल...       hi    Hindi   \n",
       "...                                                  ...      ...      ...   \n",
       "11824      अब कोई दूसरा रिपब्लिकन फालबैक काम नहीं करेगा।       hi    Hindi   \n",
       "11853  उसने मुझे केवल एक संस्करण दिया और यह केवल कुछ ...       hi    Hindi   \n",
       "11864  Ye tabs saare accounts ka current balance dikh...       hi    Hindi   \n",
       "11882  सिस्टम को स्थापित करना मुश्किल है क्योंकि हैकर...       hi    Hindi   \n",
       "12034  उसे यकीन नहीं था कि क्या घबराए हुए पुरुष वूवरस...       hi    Hindi   \n",
       "\n",
       "       label  \n",
       "14         2  \n",
       "48         1  \n",
       "84         2  \n",
       "161        1  \n",
       "186        2  \n",
       "...      ...  \n",
       "11824      1  \n",
       "11853      2  \n",
       "11864      1  \n",
       "11882      1  \n",
       "12034      0  \n",
       "\n",
       "[374 rows x 6 columns]"
      ]
     },
     "execution_count": 7,
     "metadata": {},
     "output_type": "execute_result"
    }
   ],
   "source": [
    "train_df[train_df['language']=='Hindi']"
   ]
  },
  {
   "cell_type": "code",
   "execution_count": 8,
   "id": "c5d7a0b0",
   "metadata": {
    "execution": {
     "iopub.execute_input": "2022-07-16T13:07:43.712027Z",
     "iopub.status.busy": "2022-07-16T13:07:43.711242Z",
     "iopub.status.idle": "2022-07-16T13:07:43.716731Z",
     "shell.execute_reply": "2022-07-16T13:07:43.716226Z",
     "shell.execute_reply.started": "2022-07-16T11:22:30.743347Z"
    },
    "papermill": {
     "duration": 0.040914,
     "end_time": "2022-07-16T13:07:43.716857",
     "exception": false,
     "start_time": "2022-07-16T13:07:43.675943",
     "status": "completed"
    },
    "tags": []
   },
   "outputs": [
    {
     "data": {
      "text/plain": [
       "0    4176\n",
       "2    4064\n",
       "1    3880\n",
       "Name: label, dtype: int64"
      ]
     },
     "execution_count": 8,
     "metadata": {},
     "output_type": "execute_result"
    }
   ],
   "source": [
    "train_df['label'].value_counts()"
   ]
  },
  {
   "cell_type": "code",
   "execution_count": 9,
   "id": "bfa66489",
   "metadata": {
    "execution": {
     "iopub.execute_input": "2022-07-16T13:07:43.785222Z",
     "iopub.status.busy": "2022-07-16T13:07:43.784557Z",
     "iopub.status.idle": "2022-07-16T13:07:43.787201Z",
     "shell.execute_reply": "2022-07-16T13:07:43.787638Z",
     "shell.execute_reply.started": "2022-07-16T11:22:30.759221Z"
    },
    "papermill": {
     "duration": 0.038976,
     "end_time": "2022-07-16T13:07:43.787757",
     "exception": false,
     "start_time": "2022-07-16T13:07:43.748781",
     "status": "completed"
    },
    "tags": []
   },
   "outputs": [
    {
     "data": {
      "text/plain": [
       "'and these comments were considered in formulating the interim rules.'"
      ]
     },
     "execution_count": 9,
     "metadata": {},
     "output_type": "execute_result"
    }
   ],
   "source": [
    "train_df['premise'][0]"
   ]
  },
  {
   "cell_type": "code",
   "execution_count": 10,
   "id": "9fc3dc81",
   "metadata": {
    "execution": {
     "iopub.execute_input": "2022-07-16T13:07:43.855912Z",
     "iopub.status.busy": "2022-07-16T13:07:43.855256Z",
     "iopub.status.idle": "2022-07-16T13:07:43.857870Z",
     "shell.execute_reply": "2022-07-16T13:07:43.858299Z",
     "shell.execute_reply.started": "2022-07-16T11:22:30.767931Z"
    },
    "papermill": {
     "duration": 0.039296,
     "end_time": "2022-07-16T13:07:43.858436",
     "exception": false,
     "start_time": "2022-07-16T13:07:43.819140",
     "status": "completed"
    },
    "tags": []
   },
   "outputs": [
    {
     "data": {
      "text/plain": [
       "'The rules developed in the interim were put together with these comments in mind.'"
      ]
     },
     "execution_count": 10,
     "metadata": {},
     "output_type": "execute_result"
    }
   ],
   "source": [
    "train_df['hypothesis'][0]"
   ]
  },
  {
   "cell_type": "code",
   "execution_count": 11,
   "id": "360a9bb4",
   "metadata": {
    "execution": {
     "iopub.execute_input": "2022-07-16T13:07:43.933463Z",
     "iopub.status.busy": "2022-07-16T13:07:43.932830Z",
     "iopub.status.idle": "2022-07-16T13:07:43.935501Z",
     "shell.execute_reply": "2022-07-16T13:07:43.935914Z",
     "shell.execute_reply.started": "2022-07-16T11:22:30.783326Z"
    },
    "papermill": {
     "duration": 0.044823,
     "end_time": "2022-07-16T13:07:43.936049",
     "exception": false,
     "start_time": "2022-07-16T13:07:43.891226",
     "status": "completed"
    },
    "tags": []
   },
   "outputs": [
    {
     "data": {
      "text/html": [
       "<div>\n",
       "<style scoped>\n",
       "    .dataframe tbody tr th:only-of-type {\n",
       "        vertical-align: middle;\n",
       "    }\n",
       "\n",
       "    .dataframe tbody tr th {\n",
       "        vertical-align: top;\n",
       "    }\n",
       "\n",
       "    .dataframe thead th {\n",
       "        text-align: right;\n",
       "    }\n",
       "</style>\n",
       "<table border=\"1\" class=\"dataframe\">\n",
       "  <thead>\n",
       "    <tr style=\"text-align: right;\">\n",
       "      <th></th>\n",
       "      <th>id</th>\n",
       "      <th>premise</th>\n",
       "      <th>hypothesis</th>\n",
       "      <th>lang_abv</th>\n",
       "      <th>language</th>\n",
       "    </tr>\n",
       "  </thead>\n",
       "  <tbody>\n",
       "    <tr>\n",
       "      <th>0</th>\n",
       "      <td>c6d58c3f69</td>\n",
       "      <td>بکس، کیسی، راہیل، یسعیاہ، کیلی، کیلی، اور کولم...</td>\n",
       "      <td>کیسی کے لئے کوئی یادگار نہیں ہوگا, کولمین ہائی...</td>\n",
       "      <td>ur</td>\n",
       "      <td>Urdu</td>\n",
       "    </tr>\n",
       "    <tr>\n",
       "      <th>1</th>\n",
       "      <td>cefcc82292</td>\n",
       "      <td>هذا هو ما تم نصحنا به.</td>\n",
       "      <td>عندما يتم إخبارهم بما يجب عليهم فعله ، فشلت ال...</td>\n",
       "      <td>ar</td>\n",
       "      <td>Arabic</td>\n",
       "    </tr>\n",
       "    <tr>\n",
       "      <th>2</th>\n",
       "      <td>e98005252c</td>\n",
       "      <td>et cela est en grande partie dû au fait que le...</td>\n",
       "      <td>Les mères se droguent.</td>\n",
       "      <td>fr</td>\n",
       "      <td>French</td>\n",
       "    </tr>\n",
       "    <tr>\n",
       "      <th>3</th>\n",
       "      <td>58518c10ba</td>\n",
       "      <td>与城市及其他公民及社区组织代表就IMA的艺术发展进行对话&amp;amp</td>\n",
       "      <td>IMA与其他组织合作，因为它们都依靠共享资金。</td>\n",
       "      <td>zh</td>\n",
       "      <td>Chinese</td>\n",
       "    </tr>\n",
       "    <tr>\n",
       "      <th>4</th>\n",
       "      <td>c32b0d16df</td>\n",
       "      <td>Она все еще была там.</td>\n",
       "      <td>Мы думали, что она ушла, однако, она осталась.</td>\n",
       "      <td>ru</td>\n",
       "      <td>Russian</td>\n",
       "    </tr>\n",
       "  </tbody>\n",
       "</table>\n",
       "</div>"
      ],
      "text/plain": [
       "           id                                            premise  \\\n",
       "0  c6d58c3f69  بکس، کیسی، راہیل، یسعیاہ، کیلی، کیلی، اور کولم...   \n",
       "1  cefcc82292                             هذا هو ما تم نصحنا به.   \n",
       "2  e98005252c  et cela est en grande partie dû au fait que le...   \n",
       "3  58518c10ba                   与城市及其他公民及社区组织代表就IMA的艺术发展进行对话&amp   \n",
       "4  c32b0d16df                              Она все еще была там.   \n",
       "\n",
       "                                          hypothesis lang_abv language  \n",
       "0  کیسی کے لئے کوئی یادگار نہیں ہوگا, کولمین ہائی...       ur     Urdu  \n",
       "1  عندما يتم إخبارهم بما يجب عليهم فعله ، فشلت ال...       ar   Arabic  \n",
       "2                             Les mères se droguent.       fr   French  \n",
       "3                            IMA与其他组织合作，因为它们都依靠共享资金。       zh  Chinese  \n",
       "4     Мы думали, что она ушла, однако, она осталась.       ru  Russian  "
      ]
     },
     "execution_count": 11,
     "metadata": {},
     "output_type": "execute_result"
    }
   ],
   "source": [
    "test_df.head()"
   ]
  },
  {
   "cell_type": "code",
   "execution_count": 12,
   "id": "20dfb135",
   "metadata": {
    "execution": {
     "iopub.execute_input": "2022-07-16T13:07:44.006236Z",
     "iopub.status.busy": "2022-07-16T13:07:44.005522Z",
     "iopub.status.idle": "2022-07-16T13:07:44.008236Z",
     "shell.execute_reply": "2022-07-16T13:07:44.008668Z",
     "shell.execute_reply.started": "2022-07-16T11:22:30.803035Z"
    },
    "papermill": {
     "duration": 0.040101,
     "end_time": "2022-07-16T13:07:44.008803",
     "exception": false,
     "start_time": "2022-07-16T13:07:43.968702",
     "status": "completed"
    },
    "tags": []
   },
   "outputs": [
    {
     "data": {
      "text/plain": [
       "(5195, 5)"
      ]
     },
     "execution_count": 12,
     "metadata": {},
     "output_type": "execute_result"
    }
   ],
   "source": [
    "test_df.shape"
   ]
  },
  {
   "cell_type": "code",
   "execution_count": 13,
   "id": "b4e7cb4a",
   "metadata": {
    "execution": {
     "iopub.execute_input": "2022-07-16T13:07:44.086965Z",
     "iopub.status.busy": "2022-07-16T13:07:44.086138Z",
     "iopub.status.idle": "2022-07-16T13:07:44.092230Z",
     "shell.execute_reply": "2022-07-16T13:07:44.092665Z",
     "shell.execute_reply.started": "2022-07-16T11:22:30.815424Z"
    },
    "papermill": {
     "duration": 0.050652,
     "end_time": "2022-07-16T13:07:44.092803",
     "exception": false,
     "start_time": "2022-07-16T13:07:44.042151",
     "status": "completed"
    },
    "tags": []
   },
   "outputs": [
    {
     "data": {
      "text/plain": [
       "id            0\n",
       "premise       0\n",
       "hypothesis    0\n",
       "lang_abv      0\n",
       "language      0\n",
       "label         0\n",
       "dtype: int64"
      ]
     },
     "execution_count": 13,
     "metadata": {},
     "output_type": "execute_result"
    }
   ],
   "source": [
    "train_df.isnull().sum()"
   ]
  },
  {
   "cell_type": "code",
   "execution_count": 14,
   "id": "918cb243",
   "metadata": {
    "execution": {
     "iopub.execute_input": "2022-07-16T13:07:44.171537Z",
     "iopub.status.busy": "2022-07-16T13:07:44.170768Z",
     "iopub.status.idle": "2022-07-16T13:07:44.173195Z",
     "shell.execute_reply": "2022-07-16T13:07:44.172780Z",
     "shell.execute_reply.started": "2022-07-16T11:22:30.841425Z"
    },
    "papermill": {
     "duration": 0.047526,
     "end_time": "2022-07-16T13:07:44.173324",
     "exception": false,
     "start_time": "2022-07-16T13:07:44.125798",
     "status": "completed"
    },
    "tags": []
   },
   "outputs": [],
   "source": [
    "train_data = train_df[['premise', 'hypothesis']].values.tolist()\n",
    "test_data = test_df[['premise', 'hypothesis']].values.tolist()"
   ]
  },
  {
   "cell_type": "code",
   "execution_count": 15,
   "id": "d4a15c19",
   "metadata": {
    "execution": {
     "iopub.execute_input": "2022-07-16T13:07:44.244373Z",
     "iopub.status.busy": "2022-07-16T13:07:44.243736Z",
     "iopub.status.idle": "2022-07-16T13:08:59.416930Z",
     "shell.execute_reply": "2022-07-16T13:08:59.417651Z",
     "shell.execute_reply.started": "2022-07-16T11:24:49.727796Z"
    },
    "papermill": {
     "duration": 75.210671,
     "end_time": "2022-07-16T13:08:59.417846",
     "exception": false,
     "start_time": "2022-07-16T13:07:44.207175",
     "status": "completed"
    },
    "tags": []
   },
   "outputs": [
    {
     "name": "stderr",
     "output_type": "stream",
     "text": [
      "2022-07-16 13:07:45.097484: I tensorflow/stream_executor/platform/default/dso_loader.cc:49] Successfully opened dynamic library libcudart.so.11.0\n"
     ]
    },
    {
     "data": {
      "application/vnd.jupyter.widget-view+json": {
       "model_id": "5986dc46234045d3b0dc7b44ea74a6cc",
       "version_major": 2,
       "version_minor": 0
      },
      "text/plain": [
       "Downloading:   0%|          | 0.00/872k [00:00<?, ?B/s]"
      ]
     },
     "metadata": {},
     "output_type": "display_data"
    },
    {
     "data": {
      "application/vnd.jupyter.widget-view+json": {
       "model_id": "a977d868777646bb89e33ab7604cb6db",
       "version_major": 2,
       "version_minor": 0
      },
      "text/plain": [
       "Downloading:   0%|          | 0.00/28.0 [00:00<?, ?B/s]"
      ]
     },
     "metadata": {},
     "output_type": "display_data"
    },
    {
     "data": {
      "application/vnd.jupyter.widget-view+json": {
       "model_id": "8d2a1a2c1d054c458e0af49d39c56f01",
       "version_major": 2,
       "version_minor": 0
      },
      "text/plain": [
       "Downloading:   0%|          | 0.00/1.72M [00:00<?, ?B/s]"
      ]
     },
     "metadata": {},
     "output_type": "display_data"
    },
    {
     "data": {
      "application/vnd.jupyter.widget-view+json": {
       "model_id": "8d040358c2ae4f3a8e68e81f03193650",
       "version_major": 2,
       "version_minor": 0
      },
      "text/plain": [
       "Downloading:   0%|          | 0.00/625 [00:00<?, ?B/s]"
      ]
     },
     "metadata": {},
     "output_type": "display_data"
    },
    {
     "data": {
      "application/vnd.jupyter.widget-view+json": {
       "model_id": "5aae10ca2f1d46d88be614369cb2118d",
       "version_major": 2,
       "version_minor": 0
      },
      "text/plain": [
       "Downloading:   0%|          | 0.00/999M [00:00<?, ?B/s]"
      ]
     },
     "metadata": {},
     "output_type": "display_data"
    },
    {
     "name": "stderr",
     "output_type": "stream",
     "text": [
      "2022-07-16 13:08:50.767161: I tensorflow/compiler/jit/xla_cpu_device.cc:41] Not creating XLA devices, tf_xla_enable_xla_devices not set\n",
      "2022-07-16 13:08:50.770116: I tensorflow/stream_executor/platform/default/dso_loader.cc:49] Successfully opened dynamic library libcuda.so.1\n",
      "2022-07-16 13:08:50.824393: I tensorflow/stream_executor/cuda/cuda_gpu_executor.cc:941] successful NUMA node read from SysFS had negative value (-1), but there must be at least one NUMA node, so returning NUMA node zero\n",
      "2022-07-16 13:08:50.825287: I tensorflow/core/common_runtime/gpu/gpu_device.cc:1720] Found device 0 with properties: \n",
      "pciBusID: 0000:00:04.0 name: Tesla P100-PCIE-16GB computeCapability: 6.0\n",
      "coreClock: 1.3285GHz coreCount: 56 deviceMemorySize: 15.90GiB deviceMemoryBandwidth: 681.88GiB/s\n",
      "2022-07-16 13:08:50.825356: I tensorflow/stream_executor/platform/default/dso_loader.cc:49] Successfully opened dynamic library libcudart.so.11.0\n",
      "2022-07-16 13:08:50.861495: I tensorflow/stream_executor/platform/default/dso_loader.cc:49] Successfully opened dynamic library libcublas.so.11\n",
      "2022-07-16 13:08:50.861573: I tensorflow/stream_executor/platform/default/dso_loader.cc:49] Successfully opened dynamic library libcublasLt.so.11\n",
      "2022-07-16 13:08:50.879494: I tensorflow/stream_executor/platform/default/dso_loader.cc:49] Successfully opened dynamic library libcufft.so.10\n",
      "2022-07-16 13:08:50.886891: I tensorflow/stream_executor/platform/default/dso_loader.cc:49] Successfully opened dynamic library libcurand.so.10\n",
      "2022-07-16 13:08:50.911032: I tensorflow/stream_executor/platform/default/dso_loader.cc:49] Successfully opened dynamic library libcusolver.so.10\n",
      "2022-07-16 13:08:50.918581: I tensorflow/stream_executor/platform/default/dso_loader.cc:49] Successfully opened dynamic library libcusparse.so.11\n",
      "2022-07-16 13:08:50.921884: I tensorflow/stream_executor/platform/default/dso_loader.cc:49] Successfully opened dynamic library libcudnn.so.8\n",
      "2022-07-16 13:08:50.922038: I tensorflow/stream_executor/cuda/cuda_gpu_executor.cc:941] successful NUMA node read from SysFS had negative value (-1), but there must be at least one NUMA node, so returning NUMA node zero\n",
      "2022-07-16 13:08:50.922784: I tensorflow/stream_executor/cuda/cuda_gpu_executor.cc:941] successful NUMA node read from SysFS had negative value (-1), but there must be at least one NUMA node, so returning NUMA node zero\n",
      "2022-07-16 13:08:50.924531: I tensorflow/core/common_runtime/gpu/gpu_device.cc:1862] Adding visible gpu devices: 0\n",
      "2022-07-16 13:08:50.925411: I tensorflow/core/platform/cpu_feature_guard.cc:142] This TensorFlow binary is optimized with oneAPI Deep Neural Network Library (oneDNN) to use the following CPU instructions in performance-critical operations:  AVX2 AVX512F FMA\n",
      "To enable them in other operations, rebuild TensorFlow with the appropriate compiler flags.\n",
      "2022-07-16 13:08:50.925614: I tensorflow/compiler/jit/xla_gpu_device.cc:99] Not creating XLA devices, tf_xla_enable_xla_devices not set\n",
      "2022-07-16 13:08:50.925762: I tensorflow/stream_executor/cuda/cuda_gpu_executor.cc:941] successful NUMA node read from SysFS had negative value (-1), but there must be at least one NUMA node, so returning NUMA node zero\n",
      "2022-07-16 13:08:50.926356: I tensorflow/core/common_runtime/gpu/gpu_device.cc:1720] Found device 0 with properties: \n",
      "pciBusID: 0000:00:04.0 name: Tesla P100-PCIE-16GB computeCapability: 6.0\n",
      "coreClock: 1.3285GHz coreCount: 56 deviceMemorySize: 15.90GiB deviceMemoryBandwidth: 681.88GiB/s\n",
      "2022-07-16 13:08:50.926403: I tensorflow/stream_executor/platform/default/dso_loader.cc:49] Successfully opened dynamic library libcudart.so.11.0\n",
      "2022-07-16 13:08:50.926433: I tensorflow/stream_executor/platform/default/dso_loader.cc:49] Successfully opened dynamic library libcublas.so.11\n",
      "2022-07-16 13:08:50.926450: I tensorflow/stream_executor/platform/default/dso_loader.cc:49] Successfully opened dynamic library libcublasLt.so.11\n",
      "2022-07-16 13:08:50.926466: I tensorflow/stream_executor/platform/default/dso_loader.cc:49] Successfully opened dynamic library libcufft.so.10\n",
      "2022-07-16 13:08:50.926481: I tensorflow/stream_executor/platform/default/dso_loader.cc:49] Successfully opened dynamic library libcurand.so.10\n",
      "2022-07-16 13:08:50.926496: I tensorflow/stream_executor/platform/default/dso_loader.cc:49] Successfully opened dynamic library libcusolver.so.10\n",
      "2022-07-16 13:08:50.926512: I tensorflow/stream_executor/platform/default/dso_loader.cc:49] Successfully opened dynamic library libcusparse.so.11\n",
      "2022-07-16 13:08:50.926528: I tensorflow/stream_executor/platform/default/dso_loader.cc:49] Successfully opened dynamic library libcudnn.so.8\n",
      "2022-07-16 13:08:50.926622: I tensorflow/stream_executor/cuda/cuda_gpu_executor.cc:941] successful NUMA node read from SysFS had negative value (-1), but there must be at least one NUMA node, so returning NUMA node zero\n",
      "2022-07-16 13:08:50.927262: I tensorflow/stream_executor/cuda/cuda_gpu_executor.cc:941] successful NUMA node read from SysFS had negative value (-1), but there must be at least one NUMA node, so returning NUMA node zero\n",
      "2022-07-16 13:08:50.927825: I tensorflow/core/common_runtime/gpu/gpu_device.cc:1862] Adding visible gpu devices: 0\n",
      "2022-07-16 13:08:50.928856: I tensorflow/stream_executor/platform/default/dso_loader.cc:49] Successfully opened dynamic library libcudart.so.11.0\n",
      "2022-07-16 13:08:52.363620: I tensorflow/core/common_runtime/gpu/gpu_device.cc:1261] Device interconnect StreamExecutor with strength 1 edge matrix:\n",
      "2022-07-16 13:08:52.363668: I tensorflow/core/common_runtime/gpu/gpu_device.cc:1267]      0 \n",
      "2022-07-16 13:08:52.363678: I tensorflow/core/common_runtime/gpu/gpu_device.cc:1280] 0:   N \n",
      "2022-07-16 13:08:52.365426: I tensorflow/stream_executor/cuda/cuda_gpu_executor.cc:941] successful NUMA node read from SysFS had negative value (-1), but there must be at least one NUMA node, so returning NUMA node zero\n",
      "2022-07-16 13:08:52.366266: I tensorflow/stream_executor/cuda/cuda_gpu_executor.cc:941] successful NUMA node read from SysFS had negative value (-1), but there must be at least one NUMA node, so returning NUMA node zero\n",
      "2022-07-16 13:08:52.367067: I tensorflow/stream_executor/cuda/cuda_gpu_executor.cc:941] successful NUMA node read from SysFS had negative value (-1), but there must be at least one NUMA node, so returning NUMA node zero\n",
      "2022-07-16 13:08:52.367759: I tensorflow/core/common_runtime/gpu/gpu_device.cc:1406] Created TensorFlow device (/job:localhost/replica:0/task:0/device:GPU:0 with 14957 MB memory) -> physical GPU (device: 0, name: Tesla P100-PCIE-16GB, pci bus id: 0000:00:04.0, compute capability: 6.0)\n",
      "2022-07-16 13:08:52.995356: I tensorflow/stream_executor/platform/default/dso_loader.cc:49] Successfully opened dynamic library libcublas.so.11\n",
      "2022-07-16 13:08:53.777675: I tensorflow/stream_executor/platform/default/dso_loader.cc:49] Successfully opened dynamic library libcublasLt.so.11\n",
      "Some layers from the model checkpoint at bert-base-multilingual-uncased were not used when initializing TFBertModel: ['nsp___cls', 'mlm___cls']\n",
      "- This IS expected if you are initializing TFBertModel from the checkpoint of a model trained on another task or with another architecture (e.g. initializing a BertForSequenceClassification model from a BertForPreTraining model).\n",
      "- This IS NOT expected if you are initializing TFBertModel from the checkpoint of a model that you expect to be exactly identical (initializing a BertForSequenceClassification model from a BertForSequenceClassification model).\n",
      "All the layers of TFBertModel were initialized from the model checkpoint at bert-base-multilingual-uncased.\n",
      "If your task is similar to the task the model of the checkpoint was trained on, you can already use TFBertModel for predictions without further training.\n"
     ]
    }
   ],
   "source": [
    "from transformers import BertTokenizer, TFBertModel\n",
    "tokenizer = BertTokenizer.from_pretrained('bert-base-multilingual-uncased')\n",
    "bert = TFBertModel.from_pretrained(\"bert-base-multilingual-uncased\")"
   ]
  },
  {
   "cell_type": "code",
   "execution_count": 16,
   "id": "86f6bc69",
   "metadata": {
    "execution": {
     "iopub.execute_input": "2022-07-16T13:08:59.499345Z",
     "iopub.status.busy": "2022-07-16T13:08:59.498862Z",
     "iopub.status.idle": "2022-07-16T13:08:59.503784Z",
     "shell.execute_reply": "2022-07-16T13:08:59.503249Z",
     "shell.execute_reply.started": "2022-07-16T11:28:26.215004Z"
    },
    "papermill": {
     "duration": 0.047821,
     "end_time": "2022-07-16T13:08:59.503908",
     "exception": false,
     "start_time": "2022-07-16T13:08:59.456087",
     "status": "completed"
    },
    "tags": []
   },
   "outputs": [
    {
     "data": {
      "text/plain": [
       "{'input_ids': [101, 10191, 10127, 12922, 102], 'token_type_ids': [0, 0, 0, 0, 0], 'attention_mask': [1, 1, 1, 1, 1]}"
      ]
     },
     "execution_count": 16,
     "metadata": {},
     "output_type": "execute_result"
    }
   ],
   "source": [
    "tokenizer('he is fine')"
   ]
  },
  {
   "cell_type": "code",
   "execution_count": 17,
   "id": "2850e6bb",
   "metadata": {
    "execution": {
     "iopub.execute_input": "2022-07-16T13:08:59.593312Z",
     "iopub.status.busy": "2022-07-16T13:08:59.592619Z",
     "iopub.status.idle": "2022-07-16T13:08:59.602028Z",
     "shell.execute_reply": "2022-07-16T13:08:59.601558Z",
     "shell.execute_reply.started": "2022-07-16T11:30:12.422919Z"
    },
    "papermill": {
     "duration": 0.061201,
     "end_time": "2022-07-16T13:08:59.602133",
     "exception": false,
     "start_time": "2022-07-16T13:08:59.540932",
     "status": "completed"
    },
    "tags": []
   },
   "outputs": [
    {
     "data": {
      "text/plain": [
       "9.19529702970297"
      ]
     },
     "execution_count": 17,
     "metadata": {},
     "output_type": "execute_result"
    }
   ],
   "source": [
    "train_df['hypothesis'].apply(lambda x: len(x.split())).mean()"
   ]
  },
  {
   "cell_type": "code",
   "execution_count": 18,
   "id": "dc735a75",
   "metadata": {
    "execution": {
     "iopub.execute_input": "2022-07-16T13:08:59.692307Z",
     "iopub.status.busy": "2022-07-16T13:08:59.691681Z",
     "iopub.status.idle": "2022-07-16T13:08:59.697229Z",
     "shell.execute_reply": "2022-07-16T13:08:59.696657Z",
     "shell.execute_reply.started": "2022-07-16T11:32:08.784819Z"
    },
    "papermill": {
     "duration": 0.057012,
     "end_time": "2022-07-16T13:08:59.697365",
     "exception": false,
     "start_time": "2022-07-16T13:08:59.640353",
     "status": "completed"
    },
    "tags": []
   },
   "outputs": [
    {
     "name": "stdout",
     "output_type": "stream",
     "text": [
      "max length of word 46\n"
     ]
    }
   ],
   "source": [
    "print('max length of word',max([len(x.split()) for x in train_df['hypothesis']]))"
   ]
  },
  {
   "cell_type": "code",
   "execution_count": 19,
   "id": "eca1a3ba",
   "metadata": {
    "execution": {
     "iopub.execute_input": "2022-07-16T13:08:59.777981Z",
     "iopub.status.busy": "2022-07-16T13:08:59.777199Z",
     "iopub.status.idle": "2022-07-16T13:08:59.779564Z",
     "shell.execute_reply": "2022-07-16T13:08:59.779148Z",
     "shell.execute_reply.started": "2022-07-16T12:19:12.861441Z"
    },
    "papermill": {
     "duration": 0.044779,
     "end_time": "2022-07-16T13:08:59.779692",
     "exception": false,
     "start_time": "2022-07-16T13:08:59.734913",
     "status": "completed"
    },
    "tags": []
   },
   "outputs": [],
   "source": [
    "max_length=90"
   ]
  },
  {
   "cell_type": "code",
   "execution_count": 20,
   "id": "2d6a45b3",
   "metadata": {
    "execution": {
     "iopub.execute_input": "2022-07-16T13:08:59.886668Z",
     "iopub.status.busy": "2022-07-16T13:08:59.881363Z",
     "iopub.status.idle": "2022-07-16T13:09:13.371071Z",
     "shell.execute_reply": "2022-07-16T13:09:13.370519Z",
     "shell.execute_reply.started": "2022-07-16T12:19:16.241063Z"
    },
    "papermill": {
     "duration": 13.552695,
     "end_time": "2022-07-16T13:09:13.371198",
     "exception": false,
     "start_time": "2022-07-16T13:08:59.818503",
     "status": "completed"
    },
    "tags": []
   },
   "outputs": [],
   "source": [
    "x_train=tokenizer(\n",
    "      \n",
    "    text=train_df[['premise','hypothesis']].values.tolist(),\n",
    "    add_special_tokens=True,\n",
    "    max_length=max_length,\n",
    "    truncation=True,\n",
    "    padding=True,\n",
    "    return_tensors='tf',\n",
    "    return_token_type_ids=True,\n",
    "    return_attention_mask=True,\n",
    "    verbose=True\n",
    "    \n",
    "    )"
   ]
  },
  {
   "cell_type": "code",
   "execution_count": 21,
   "id": "1d9a64c3",
   "metadata": {
    "execution": {
     "iopub.execute_input": "2022-07-16T13:09:13.455339Z",
     "iopub.status.busy": "2022-07-16T13:09:13.454683Z",
     "iopub.status.idle": "2022-07-16T13:09:13.457350Z",
     "shell.execute_reply": "2022-07-16T13:09:13.457750Z",
     "shell.execute_reply.started": "2022-07-16T12:19:35.085662Z"
    },
    "papermill": {
     "duration": 0.047885,
     "end_time": "2022-07-16T13:09:13.457874",
     "exception": false,
     "start_time": "2022-07-16T13:09:13.409989",
     "status": "completed"
    },
    "tags": []
   },
   "outputs": [
    {
     "data": {
      "text/plain": [
       "{'input_ids': <tf.Tensor: shape=(12120, 90), dtype=int32, numpy=\n",
       "array([[  101, 10110, 11269, ...,     0,     0,     0],\n",
       "       [  101, 11269, 10320, ...,     0,     0,     0],\n",
       "       [  101, 10143, 29761, ...,     0,     0,     0],\n",
       "       ...,\n",
       "       [  101, 10103, 12652, ...,     0,     0,     0],\n",
       "       [  101, 10160, 10103, ...,     0,     0,     0],\n",
       "       [  101, 10139, 14885, ...,     0,     0,     0]], dtype=int32)>, 'token_type_ids': <tf.Tensor: shape=(12120, 90), dtype=int32, numpy=\n",
       "array([[0, 0, 0, ..., 0, 0, 0],\n",
       "       [0, 0, 0, ..., 0, 0, 0],\n",
       "       [0, 0, 0, ..., 0, 0, 0],\n",
       "       ...,\n",
       "       [0, 0, 0, ..., 0, 0, 0],\n",
       "       [0, 0, 0, ..., 0, 0, 0],\n",
       "       [0, 0, 0, ..., 0, 0, 0]], dtype=int32)>, 'attention_mask': <tf.Tensor: shape=(12120, 90), dtype=int32, numpy=\n",
       "array([[1, 1, 1, ..., 0, 0, 0],\n",
       "       [1, 1, 1, ..., 0, 0, 0],\n",
       "       [1, 1, 1, ..., 0, 0, 0],\n",
       "       ...,\n",
       "       [1, 1, 1, ..., 0, 0, 0],\n",
       "       [1, 1, 1, ..., 0, 0, 0],\n",
       "       [1, 1, 1, ..., 0, 0, 0]], dtype=int32)>}"
      ]
     },
     "execution_count": 21,
     "metadata": {},
     "output_type": "execute_result"
    }
   ],
   "source": [
    "x_train"
   ]
  },
  {
   "cell_type": "code",
   "execution_count": 22,
   "id": "5da567ff",
   "metadata": {
    "execution": {
     "iopub.execute_input": "2022-07-16T13:09:13.538806Z",
     "iopub.status.busy": "2022-07-16T13:09:13.538122Z",
     "iopub.status.idle": "2022-07-16T13:09:13.540836Z",
     "shell.execute_reply": "2022-07-16T13:09:13.541324Z",
     "shell.execute_reply.started": "2022-07-16T12:19:38.880323Z"
    },
    "papermill": {
     "duration": 0.045721,
     "end_time": "2022-07-16T13:09:13.541439",
     "exception": false,
     "start_time": "2022-07-16T13:09:13.495718",
     "status": "completed"
    },
    "tags": []
   },
   "outputs": [
    {
     "data": {
      "text/plain": [
       "TensorShape([12120, 90])"
      ]
     },
     "execution_count": 22,
     "metadata": {},
     "output_type": "execute_result"
    }
   ],
   "source": [
    "x_train.input_ids.shape"
   ]
  },
  {
   "cell_type": "code",
   "execution_count": 23,
   "id": "de7b759d",
   "metadata": {
    "execution": {
     "iopub.execute_input": "2022-07-16T13:09:13.628097Z",
     "iopub.status.busy": "2022-07-16T13:09:13.621490Z",
     "iopub.status.idle": "2022-07-16T13:09:13.630629Z",
     "shell.execute_reply": "2022-07-16T13:09:13.630185Z",
     "shell.execute_reply.started": "2022-07-16T12:19:42.156551Z"
    },
    "papermill": {
     "duration": 0.050869,
     "end_time": "2022-07-16T13:09:13.630737",
     "exception": false,
     "start_time": "2022-07-16T13:09:13.579868",
     "status": "completed"
    },
    "tags": []
   },
   "outputs": [],
   "source": [
    "import tensorflow as tf\n",
    "from tensorflow.keras import Model,layers,optimizers,callbacks,losses,metrics,utils\n",
    "input_ids=layers.Input(shape=(max_length,),dtype=tf.int32,name='input_ids')\n",
    "token_type_ids=layers.Input(shape=(max_length,),dtype=tf.int32,name='token_type_ids')\n",
    "attention_mask=layers.Input(shape=(max_length,),dtype=tf.int32,name='attention_mask')"
   ]
  },
  {
   "cell_type": "code",
   "execution_count": 24,
   "id": "dc413675",
   "metadata": {
    "execution": {
     "iopub.execute_input": "2022-07-16T13:09:13.711489Z",
     "iopub.status.busy": "2022-07-16T13:09:13.710697Z",
     "iopub.status.idle": "2022-07-16T13:09:19.770984Z",
     "shell.execute_reply": "2022-07-16T13:09:19.770469Z",
     "shell.execute_reply.started": "2022-07-16T12:32:19.379624Z"
    },
    "papermill": {
     "duration": 6.101206,
     "end_time": "2022-07-16T13:09:19.771117",
     "exception": false,
     "start_time": "2022-07-16T13:09:13.669911",
     "status": "completed"
    },
    "tags": []
   },
   "outputs": [],
   "source": [
    "embedding=bert(input_ids,token_type_ids,attention_mask)[1]"
   ]
  },
  {
   "cell_type": "code",
   "execution_count": 25,
   "id": "17aa46a3",
   "metadata": {
    "execution": {
     "iopub.execute_input": "2022-07-16T13:09:19.855333Z",
     "iopub.status.busy": "2022-07-16T13:09:19.854570Z",
     "iopub.status.idle": "2022-07-16T13:09:19.857347Z",
     "shell.execute_reply": "2022-07-16T13:09:19.857853Z",
     "shell.execute_reply.started": "2022-07-16T12:32:22.713582Z"
    },
    "papermill": {
     "duration": 0.046939,
     "end_time": "2022-07-16T13:09:19.857999",
     "exception": false,
     "start_time": "2022-07-16T13:09:19.811060",
     "status": "completed"
    },
    "tags": []
   },
   "outputs": [
    {
     "data": {
      "text/plain": [
       "<KerasTensor: shape=(None, 768) dtype=float32 (created by layer 'tf_bert_model')>"
      ]
     },
     "execution_count": 25,
     "metadata": {},
     "output_type": "execute_result"
    }
   ],
   "source": [
    "embedding"
   ]
  },
  {
   "cell_type": "code",
   "execution_count": 26,
   "id": "a546ad27",
   "metadata": {
    "execution": {
     "iopub.execute_input": "2022-07-16T13:09:19.940851Z",
     "iopub.status.busy": "2022-07-16T13:09:19.940182Z",
     "iopub.status.idle": "2022-07-16T13:09:19.942747Z",
     "shell.execute_reply": "2022-07-16T13:09:19.943228Z",
     "shell.execute_reply.started": "2022-07-16T12:32:25.443319Z"
    },
    "papermill": {
     "duration": 0.046438,
     "end_time": "2022-07-16T13:09:19.943343",
     "exception": false,
     "start_time": "2022-07-16T13:09:19.896905",
     "status": "completed"
    },
    "tags": []
   },
   "outputs": [
    {
     "data": {
      "text/plain": [
       "<KerasTensor: shape=(None, 90) dtype=int32 (created by layer 'input_ids')>"
      ]
     },
     "execution_count": 26,
     "metadata": {},
     "output_type": "execute_result"
    }
   ],
   "source": [
    "input_ids"
   ]
  },
  {
   "cell_type": "code",
   "execution_count": 27,
   "id": "3ef6f753",
   "metadata": {
    "execution": {
     "iopub.execute_input": "2022-07-16T13:09:20.029111Z",
     "iopub.status.busy": "2022-07-16T13:09:20.028324Z",
     "iopub.status.idle": "2022-07-16T13:09:20.069006Z",
     "shell.execute_reply": "2022-07-16T13:09:20.068200Z",
     "shell.execute_reply.started": "2022-07-16T12:32:47.980209Z"
    },
    "papermill": {
     "duration": 0.086906,
     "end_time": "2022-07-16T13:09:20.069110",
     "exception": false,
     "start_time": "2022-07-16T13:09:19.982204",
     "status": "completed"
    },
    "tags": []
   },
   "outputs": [],
   "source": [
    "out=layers.Dropout(0.15)(embedding)\n",
    "out=layers.Dense(399,activation='relu')(out)\n",
    "\n",
    "out=layers.Dropout(0.15)(out)\n",
    "out=layers.Dense(99,activation='relu')(out)\n",
    "out=layers.Dense(17,activation='relu')(out)\n",
    "y=layers.Dense(3,activation='softmax')(out)\n",
    "\n",
    "nn=Model(inputs=[input_ids,token_type_ids,attention_mask],outputs=y)\n",
    "nn.layers[3].trainable=True\n",
    "optimizer=optimizers.Adam(learning_rate = 2e-5)"
   ]
  },
  {
   "cell_type": "code",
   "execution_count": 28,
   "id": "6d016e46",
   "metadata": {
    "execution": {
     "iopub.execute_input": "2022-07-16T13:09:20.151668Z",
     "iopub.status.busy": "2022-07-16T13:09:20.150854Z",
     "iopub.status.idle": "2022-07-16T13:09:20.171437Z",
     "shell.execute_reply": "2022-07-16T13:09:20.171962Z",
     "shell.execute_reply.started": "2022-07-16T12:32:51.560974Z"
    },
    "papermill": {
     "duration": 0.063373,
     "end_time": "2022-07-16T13:09:20.172111",
     "exception": false,
     "start_time": "2022-07-16T13:09:20.108738",
     "status": "completed"
    },
    "tags": []
   },
   "outputs": [
    {
     "name": "stdout",
     "output_type": "stream",
     "text": [
      "Model: \"model\"\n",
      "__________________________________________________________________________________________________\n",
      "Layer (type)                    Output Shape         Param #     Connected to                     \n",
      "==================================================================================================\n",
      "input_ids (InputLayer)          [(None, 90)]         0                                            \n",
      "__________________________________________________________________________________________________\n",
      "token_type_ids (InputLayer)     [(None, 90)]         0                                            \n",
      "__________________________________________________________________________________________________\n",
      "attention_mask (InputLayer)     [(None, 90)]         0                                            \n",
      "__________________________________________________________________________________________________\n",
      "tf_bert_model (TFBertModel)     TFBaseModelOutputWit 167356416   input_ids[0][0]                  \n",
      "                                                                 token_type_ids[0][0]             \n",
      "                                                                 attention_mask[0][0]             \n",
      "__________________________________________________________________________________________________\n",
      "dropout_37 (Dropout)            (None, 768)          0           tf_bert_model[0][1]              \n",
      "__________________________________________________________________________________________________\n",
      "dense (Dense)                   (None, 399)          306831      dropout_37[0][0]                 \n",
      "__________________________________________________________________________________________________\n",
      "dropout_38 (Dropout)            (None, 399)          0           dense[0][0]                      \n",
      "__________________________________________________________________________________________________\n",
      "dense_1 (Dense)                 (None, 99)           39600       dropout_38[0][0]                 \n",
      "__________________________________________________________________________________________________\n",
      "dense_2 (Dense)                 (None, 17)           1700        dense_1[0][0]                    \n",
      "__________________________________________________________________________________________________\n",
      "dense_3 (Dense)                 (None, 3)            54          dense_2[0][0]                    \n",
      "==================================================================================================\n",
      "Total params: 167,704,601\n",
      "Trainable params: 167,704,601\n",
      "Non-trainable params: 0\n",
      "__________________________________________________________________________________________________\n"
     ]
    }
   ],
   "source": [
    "nn.summary()"
   ]
  },
  {
   "cell_type": "code",
   "execution_count": 29,
   "id": "10ac6bc5",
   "metadata": {
    "execution": {
     "iopub.execute_input": "2022-07-16T13:09:20.258148Z",
     "iopub.status.busy": "2022-07-16T13:09:20.257401Z",
     "iopub.status.idle": "2022-07-16T13:09:20.260232Z",
     "shell.execute_reply": "2022-07-16T13:09:20.260639Z",
     "shell.execute_reply.started": "2022-07-16T11:39:55.462711Z"
    },
    "papermill": {
     "duration": 0.049088,
     "end_time": "2022-07-16T13:09:20.260759",
     "exception": false,
     "start_time": "2022-07-16T13:09:20.211671",
     "status": "completed"
    },
    "tags": []
   },
   "outputs": [
    {
     "data": {
      "text/plain": [
       "0        0\n",
       "1        2\n",
       "2        0\n",
       "3        0\n",
       "4        1\n",
       "        ..\n",
       "12115    2\n",
       "12116    0\n",
       "12117    2\n",
       "12118    2\n",
       "12119    0\n",
       "Name: label, Length: 12120, dtype: int64"
      ]
     },
     "execution_count": 29,
     "metadata": {},
     "output_type": "execute_result"
    }
   ],
   "source": [
    "y_train=train_df['label']\n",
    "y_train"
   ]
  },
  {
   "cell_type": "code",
   "execution_count": 30,
   "id": "404ee05e",
   "metadata": {
    "execution": {
     "iopub.execute_input": "2022-07-16T13:09:20.345505Z",
     "iopub.status.busy": "2022-07-16T13:09:20.344572Z",
     "iopub.status.idle": "2022-07-16T13:09:20.350289Z",
     "shell.execute_reply": "2022-07-16T13:09:20.350772Z",
     "shell.execute_reply.started": "2022-07-16T11:40:12.435331Z"
    },
    "papermill": {
     "duration": 0.050815,
     "end_time": "2022-07-16T13:09:20.350904",
     "exception": false,
     "start_time": "2022-07-16T13:09:20.300089",
     "status": "completed"
    },
    "tags": []
   },
   "outputs": [
    {
     "data": {
      "text/plain": [
       "0    4176\n",
       "2    4064\n",
       "1    3880\n",
       "Name: label, dtype: int64"
      ]
     },
     "execution_count": 30,
     "metadata": {},
     "output_type": "execute_result"
    }
   ],
   "source": [
    "y_train.value_counts()"
   ]
  },
  {
   "cell_type": "code",
   "execution_count": 31,
   "id": "46dac28e",
   "metadata": {
    "execution": {
     "iopub.execute_input": "2022-07-16T13:09:20.436656Z",
     "iopub.status.busy": "2022-07-16T13:09:20.435680Z",
     "iopub.status.idle": "2022-07-16T13:09:21.448139Z",
     "shell.execute_reply": "2022-07-16T13:09:21.448540Z",
     "shell.execute_reply.started": "2022-07-16T12:32:55.748198Z"
    },
    "papermill": {
     "duration": 1.05694,
     "end_time": "2022-07-16T13:09:21.448703",
     "exception": false,
     "start_time": "2022-07-16T13:09:20.391763",
     "status": "completed"
    },
    "tags": []
   },
   "outputs": [
    {
     "data": {
      "image/png": "[encoded data removed]",
      "text/plain": [
       "<IPython.core.display.Image object>"
      ]
     },
     "execution_count": 31,
     "metadata": {},
     "output_type": "execute_result"
    }
   ],
   "source": [
    "utils.plot_model(nn)"
   ]
  },
  {
   "cell_type": "code",
   "execution_count": 32,
   "id": "3bcdb2bb",
   "metadata": {
    "execution": {
     "iopub.execute_input": "2022-07-16T13:09:21.550289Z",
     "iopub.status.busy": "2022-07-16T13:09:21.543387Z",
     "iopub.status.idle": "2022-07-16T13:18:05.551945Z",
     "shell.execute_reply": "2022-07-16T13:18:05.551248Z",
     "shell.execute_reply.started": "2022-07-16T12:33:09.478363Z"
    },
    "papermill": {
     "duration": 524.061165,
     "end_time": "2022-07-16T13:18:05.552116",
     "exception": false,
     "start_time": "2022-07-16T13:09:21.490951",
     "status": "completed"
    },
    "tags": []
   },
   "outputs": [
    {
     "name": "stderr",
     "output_type": "stream",
     "text": [
      "2022-07-16 13:09:21.616990: I tensorflow/compiler/mlir/mlir_graph_optimization_pass.cc:116] None of the MLIR optimization passes are enabled (registered 2)\n",
      "2022-07-16 13:09:21.625379: I tensorflow/core/platform/profile_utils/cpu_utils.cc:112] CPU Frequency: 2000200000 Hz\n"
     ]
    },
    {
     "name": "stdout",
     "output_type": "stream",
     "text": [
      "Epoch 1/5\n",
      "202/202 [==============================] - 114s 520ms/step - loss: 1.0986 - accuracy: 0.3502 - val_loss: 1.0393 - val_accuracy: 0.4587\n",
      "Epoch 2/5\n",
      "202/202 [==============================] - 103s 508ms/step - loss: 1.0135 - accuracy: 0.4817 - val_loss: 0.9978 - val_accuracy: 0.5125\n",
      "Epoch 3/5\n",
      "202/202 [==============================] - 102s 508ms/step - loss: 0.9214 - accuracy: 0.5598 - val_loss: 1.0249 - val_accuracy: 0.4908\n",
      "Epoch 4/5\n",
      "202/202 [==============================] - 102s 507ms/step - loss: 0.8071 - accuracy: 0.6456 - val_loss: 1.1044 - val_accuracy: 0.4987\n",
      "Epoch 5/5\n",
      "202/202 [==============================] - 102s 507ms/step - loss: 0.6537 - accuracy: 0.7257 - val_loss: 1.2159 - val_accuracy: 0.5003\n"
     ]
    },
    {
     "data": {
      "text/plain": [
       "<tensorflow.python.keras.callbacks.History at 0x7fc21813e610>"
      ]
     },
     "execution_count": 32,
     "metadata": {},
     "output_type": "execute_result"
    }
   ],
   "source": [
    "nn.compile(optimizer=optimizer,loss='sparse_categorical_crossentropy',metrics=['accuracy'])\n",
    "nn.fit(\n",
    "\n",
    "    x={'input_ids':x_train['input_ids'],'token_type_ids':x_train['token_type_ids'],'attention_mask':x_train['attention_mask']},\n",
    "    y=y_train,\n",
    "    validation_split=0.25,\n",
    "    epochs=5,\n",
    "    batch_size=45\n",
    "\n",
    ")"
   ]
  },
  {
   "cell_type": "markdown",
   "id": "2722cd9f",
   "metadata": {
    "papermill": {
     "duration": 0.308325,
     "end_time": "2022-07-16T13:18:06.158408",
     "exception": false,
     "start_time": "2022-07-16T13:18:05.850083",
     "status": "completed"
    },
    "tags": []
   },
   "source": [
    "# Working with test data"
   ]
  },
  {
   "cell_type": "code",
   "execution_count": 33,
   "id": "07e0b7af",
   "metadata": {
    "execution": {
     "iopub.execute_input": "2022-07-16T13:18:06.770731Z",
     "iopub.status.busy": "2022-07-16T13:18:06.769553Z",
     "iopub.status.idle": "2022-07-16T13:18:06.772932Z",
     "shell.execute_reply": "2022-07-16T13:18:06.773338Z",
     "shell.execute_reply.started": "2022-07-16T12:27:40.349637Z"
    },
    "papermill": {
     "duration": 0.317028,
     "end_time": "2022-07-16T13:18:06.773472",
     "exception": false,
     "start_time": "2022-07-16T13:18:06.456444",
     "status": "completed"
    },
    "tags": []
   },
   "outputs": [
    {
     "data": {
      "text/html": [
       "<div>\n",
       "<style scoped>\n",
       "    .dataframe tbody tr th:only-of-type {\n",
       "        vertical-align: middle;\n",
       "    }\n",
       "\n",
       "    .dataframe tbody tr th {\n",
       "        vertical-align: top;\n",
       "    }\n",
       "\n",
       "    .dataframe thead th {\n",
       "        text-align: right;\n",
       "    }\n",
       "</style>\n",
       "<table border=\"1\" class=\"dataframe\">\n",
       "  <thead>\n",
       "    <tr style=\"text-align: right;\">\n",
       "      <th></th>\n",
       "      <th>id</th>\n",
       "      <th>premise</th>\n",
       "      <th>hypothesis</th>\n",
       "      <th>lang_abv</th>\n",
       "      <th>language</th>\n",
       "    </tr>\n",
       "  </thead>\n",
       "  <tbody>\n",
       "    <tr>\n",
       "      <th>0</th>\n",
       "      <td>c6d58c3f69</td>\n",
       "      <td>بکس، کیسی، راہیل، یسعیاہ، کیلی، کیلی، اور کولم...</td>\n",
       "      <td>کیسی کے لئے کوئی یادگار نہیں ہوگا, کولمین ہائی...</td>\n",
       "      <td>ur</td>\n",
       "      <td>Urdu</td>\n",
       "    </tr>\n",
       "    <tr>\n",
       "      <th>1</th>\n",
       "      <td>cefcc82292</td>\n",
       "      <td>هذا هو ما تم نصحنا به.</td>\n",
       "      <td>عندما يتم إخبارهم بما يجب عليهم فعله ، فشلت ال...</td>\n",
       "      <td>ar</td>\n",
       "      <td>Arabic</td>\n",
       "    </tr>\n",
       "    <tr>\n",
       "      <th>2</th>\n",
       "      <td>e98005252c</td>\n",
       "      <td>et cela est en grande partie dû au fait que le...</td>\n",
       "      <td>Les mères se droguent.</td>\n",
       "      <td>fr</td>\n",
       "      <td>French</td>\n",
       "    </tr>\n",
       "    <tr>\n",
       "      <th>3</th>\n",
       "      <td>58518c10ba</td>\n",
       "      <td>与城市及其他公民及社区组织代表就IMA的艺术发展进行对话&amp;amp</td>\n",
       "      <td>IMA与其他组织合作，因为它们都依靠共享资金。</td>\n",
       "      <td>zh</td>\n",
       "      <td>Chinese</td>\n",
       "    </tr>\n",
       "    <tr>\n",
       "      <th>4</th>\n",
       "      <td>c32b0d16df</td>\n",
       "      <td>Она все еще была там.</td>\n",
       "      <td>Мы думали, что она ушла, однако, она осталась.</td>\n",
       "      <td>ru</td>\n",
       "      <td>Russian</td>\n",
       "    </tr>\n",
       "  </tbody>\n",
       "</table>\n",
       "</div>"
      ],
      "text/plain": [
       "           id                                            premise  \\\n",
       "0  c6d58c3f69  بکس، کیسی، راہیل، یسعیاہ، کیلی، کیلی، اور کولم...   \n",
       "1  cefcc82292                             هذا هو ما تم نصحنا به.   \n",
       "2  e98005252c  et cela est en grande partie dû au fait que le...   \n",
       "3  58518c10ba                   与城市及其他公民及社区组织代表就IMA的艺术发展进行对话&amp   \n",
       "4  c32b0d16df                              Она все еще была там.   \n",
       "\n",
       "                                          hypothesis lang_abv language  \n",
       "0  کیسی کے لئے کوئی یادگار نہیں ہوگا, کولمین ہائی...       ur     Urdu  \n",
       "1  عندما يتم إخبارهم بما يجب عليهم فعله ، فشلت ال...       ar   Arabic  \n",
       "2                             Les mères se droguent.       fr   French  \n",
       "3                            IMA与其他组织合作，因为它们都依靠共享资金。       zh  Chinese  \n",
       "4     Мы думали, что она ушла, однако, она осталась.       ru  Russian  "
      ]
     },
     "execution_count": 33,
     "metadata": {},
     "output_type": "execute_result"
    }
   ],
   "source": [
    "test_df.head()"
   ]
  },
  {
   "cell_type": "code",
   "execution_count": 34,
   "id": "db2e7afb",
   "metadata": {
    "execution": {
     "iopub.execute_input": "2022-07-16T13:18:07.388048Z",
     "iopub.status.busy": "2022-07-16T13:18:07.387408Z",
     "iopub.status.idle": "2022-07-16T13:18:07.390174Z",
     "shell.execute_reply": "2022-07-16T13:18:07.390561Z",
     "shell.execute_reply.started": "2022-07-16T12:27:42.829612Z"
    },
    "papermill": {
     "duration": 0.313895,
     "end_time": "2022-07-16T13:18:07.390702",
     "exception": false,
     "start_time": "2022-07-16T13:18:07.076807",
     "status": "completed"
    },
    "tags": []
   },
   "outputs": [
    {
     "data": {
      "text/html": [
       "<div>\n",
       "<style scoped>\n",
       "    .dataframe tbody tr th:only-of-type {\n",
       "        vertical-align: middle;\n",
       "    }\n",
       "\n",
       "    .dataframe tbody tr th {\n",
       "        vertical-align: top;\n",
       "    }\n",
       "\n",
       "    .dataframe thead th {\n",
       "        text-align: right;\n",
       "    }\n",
       "</style>\n",
       "<table border=\"1\" class=\"dataframe\">\n",
       "  <thead>\n",
       "    <tr style=\"text-align: right;\">\n",
       "      <th></th>\n",
       "      <th>premise</th>\n",
       "      <th>hypothesis</th>\n",
       "    </tr>\n",
       "  </thead>\n",
       "  <tbody>\n",
       "    <tr>\n",
       "      <th>0</th>\n",
       "      <td>بکس، کیسی، راہیل، یسعیاہ، کیلی، کیلی، اور کولم...</td>\n",
       "      <td>کیسی کے لئے کوئی یادگار نہیں ہوگا, کولمین ہائی...</td>\n",
       "    </tr>\n",
       "    <tr>\n",
       "      <th>1</th>\n",
       "      <td>هذا هو ما تم نصحنا به.</td>\n",
       "      <td>عندما يتم إخبارهم بما يجب عليهم فعله ، فشلت ال...</td>\n",
       "    </tr>\n",
       "    <tr>\n",
       "      <th>2</th>\n",
       "      <td>et cela est en grande partie dû au fait que le...</td>\n",
       "      <td>Les mères se droguent.</td>\n",
       "    </tr>\n",
       "    <tr>\n",
       "      <th>3</th>\n",
       "      <td>与城市及其他公民及社区组织代表就IMA的艺术发展进行对话&amp;amp</td>\n",
       "      <td>IMA与其他组织合作，因为它们都依靠共享资金。</td>\n",
       "    </tr>\n",
       "    <tr>\n",
       "      <th>4</th>\n",
       "      <td>Она все еще была там.</td>\n",
       "      <td>Мы думали, что она ушла, однако, она осталась.</td>\n",
       "    </tr>\n",
       "  </tbody>\n",
       "</table>\n",
       "</div>"
      ],
      "text/plain": [
       "                                             premise  \\\n",
       "0  بکس، کیسی، راہیل، یسعیاہ، کیلی، کیلی، اور کولم...   \n",
       "1                             هذا هو ما تم نصحنا به.   \n",
       "2  et cela est en grande partie dû au fait que le...   \n",
       "3                   与城市及其他公民及社区组织代表就IMA的艺术发展进行对话&amp   \n",
       "4                              Она все еще была там.   \n",
       "\n",
       "                                          hypothesis  \n",
       "0  کیسی کے لئے کوئی یادگار نہیں ہوگا, کولمین ہائی...  \n",
       "1  عندما يتم إخبارهم بما يجب عليهم فعله ، فشلت ال...  \n",
       "2                             Les mères se droguent.  \n",
       "3                            IMA与其他组织合作，因为它们都依靠共享资金。  \n",
       "4     Мы думали, что она ушла, однако, она осталась.  "
      ]
     },
     "execution_count": 34,
     "metadata": {},
     "output_type": "execute_result"
    }
   ],
   "source": [
    "test_df=test_df.drop(columns=['id','lang_abv','language'],axis=1)\n",
    "test_df.head()"
   ]
  },
  {
   "cell_type": "code",
   "execution_count": 35,
   "id": "09e793f6",
   "metadata": {
    "execution": {
     "iopub.execute_input": "2022-07-16T13:18:08.033008Z",
     "iopub.status.busy": "2022-07-16T13:18:08.022816Z",
     "iopub.status.idle": "2022-07-16T13:18:13.521478Z",
     "shell.execute_reply": "2022-07-16T13:18:13.521004Z",
     "shell.execute_reply.started": "2022-07-16T12:42:06.438914Z"
    },
    "papermill": {
     "duration": 5.830719,
     "end_time": "2022-07-16T13:18:13.521631",
     "exception": false,
     "start_time": "2022-07-16T13:18:07.690912",
     "status": "completed"
    },
    "tags": []
   },
   "outputs": [],
   "source": [
    "x_test=tokenizer(\n",
    "\n",
    "    text=test_df[['premise','hypothesis']].values.tolist(),\n",
    "    add_special_tokens=True,\n",
    "    max_length=max_length,\n",
    "    truncation=True,\n",
    "    padding=True,\n",
    "    return_tensors='tf',\n",
    "    return_token_type_ids=True,\n",
    "    return_attention_mask=True,\n",
    "    verbose=True\n",
    "\n",
    "\n",
    ")"
   ]
  },
  {
   "cell_type": "code",
   "execution_count": 36,
   "id": "2c09eb0e",
   "metadata": {
    "execution": {
     "iopub.execute_input": "2022-07-16T13:18:14.134224Z",
     "iopub.status.busy": "2022-07-16T13:18:14.132965Z",
     "iopub.status.idle": "2022-07-16T13:18:14.137990Z",
     "shell.execute_reply": "2022-07-16T13:18:14.137527Z",
     "shell.execute_reply.started": "2022-07-16T12:42:48.228363Z"
    },
    "papermill": {
     "duration": 0.31524,
     "end_time": "2022-07-16T13:18:14.138104",
     "exception": false,
     "start_time": "2022-07-16T13:18:13.822864",
     "status": "completed"
    },
    "tags": []
   },
   "outputs": [
    {
     "data": {
      "text/plain": [
       "{'input_ids': <tf.Tensor: shape=(5195, 90), dtype=int32, numpy=\n",
       "array([[  101,   452, 28821, ..., 18055,   119,   102],\n",
       "       [  101, 13812, 12153, ...,     0,     0,     0],\n",
       "       [  101, 10137, 17779, ...,     0,     0,     0],\n",
       "       ...,\n",
       "       [  101,  3018,  6017, ...,     0,     0,     0],\n",
       "       [  101, 65148,   112, ...,     0,     0,     0],\n",
       "       [  101, 10104, 14001, ...,     0,     0,     0]], dtype=int32)>, 'token_type_ids': <tf.Tensor: shape=(5195, 90), dtype=int32, numpy=\n",
       "array([[0, 0, 0, ..., 1, 1, 1],\n",
       "       [0, 0, 0, ..., 0, 0, 0],\n",
       "       [0, 0, 0, ..., 0, 0, 0],\n",
       "       ...,\n",
       "       [0, 0, 0, ..., 0, 0, 0],\n",
       "       [0, 0, 0, ..., 0, 0, 0],\n",
       "       [0, 0, 0, ..., 0, 0, 0]], dtype=int32)>, 'attention_mask': <tf.Tensor: shape=(5195, 90), dtype=int32, numpy=\n",
       "array([[1, 1, 1, ..., 1, 1, 1],\n",
       "       [1, 1, 1, ..., 0, 0, 0],\n",
       "       [1, 1, 1, ..., 0, 0, 0],\n",
       "       ...,\n",
       "       [1, 1, 1, ..., 0, 0, 0],\n",
       "       [1, 1, 1, ..., 0, 0, 0],\n",
       "       [1, 1, 1, ..., 0, 0, 0]], dtype=int32)>}"
      ]
     },
     "execution_count": 36,
     "metadata": {},
     "output_type": "execute_result"
    }
   ],
   "source": [
    "x_test"
   ]
  },
  {
   "cell_type": "code",
   "execution_count": 37,
   "id": "5582f0e7",
   "metadata": {
    "execution": {
     "iopub.execute_input": "2022-07-16T13:18:14.749969Z",
     "iopub.status.busy": "2022-07-16T13:18:14.749070Z",
     "iopub.status.idle": "2022-07-16T13:18:37.466864Z",
     "shell.execute_reply": "2022-07-16T13:18:37.467417Z",
     "shell.execute_reply.started": "2022-07-16T12:42:51.519439Z"
    },
    "papermill": {
     "duration": 23.028494,
     "end_time": "2022-07-16T13:18:37.467580",
     "exception": false,
     "start_time": "2022-07-16T13:18:14.439086",
     "status": "completed"
    },
    "tags": []
   },
   "outputs": [],
   "source": [
    "predicted=nn.predict({'input_ids':x_test['input_ids'],'token_type_ids':x_test['token_type_ids'],'attention_mask':x_test['attention_mask']})"
   ]
  },
  {
   "cell_type": "code",
   "execution_count": 38,
   "id": "caf41d8c",
   "metadata": {
    "execution": {
     "iopub.execute_input": "2022-07-16T13:18:38.132042Z",
     "iopub.status.busy": "2022-07-16T13:18:38.131362Z",
     "iopub.status.idle": "2022-07-16T13:18:38.134155Z",
     "shell.execute_reply": "2022-07-16T13:18:38.134558Z",
     "shell.execute_reply.started": "2022-07-16T12:43:18.363586Z"
    },
    "papermill": {
     "duration": 0.315924,
     "end_time": "2022-07-16T13:18:38.134727",
     "exception": false,
     "start_time": "2022-07-16T13:18:37.818803",
     "status": "completed"
    },
    "tags": []
   },
   "outputs": [
    {
     "data": {
      "text/plain": [
       "array([[0.01498939, 0.0044905 , 0.98052007],\n",
       "       [0.11100465, 0.09598657, 0.79300874],\n",
       "       [0.6442806 , 0.2959478 , 0.05977161],\n",
       "       ...,\n",
       "       [0.12784916, 0.80271524, 0.0694356 ],\n",
       "       [0.5919143 , 0.08026554, 0.3278202 ],\n",
       "       [0.02231183, 0.00940587, 0.9682823 ]], dtype=float32)"
      ]
     },
     "execution_count": 38,
     "metadata": {},
     "output_type": "execute_result"
    }
   ],
   "source": [
    "predicted"
   ]
  },
  {
   "cell_type": "code",
   "execution_count": 39,
   "id": "5af5e523",
   "metadata": {
    "execution": {
     "iopub.execute_input": "2022-07-16T13:18:38.756941Z",
     "iopub.status.busy": "2022-07-16T13:18:38.755680Z",
     "iopub.status.idle": "2022-07-16T13:18:38.759388Z",
     "shell.execute_reply": "2022-07-16T13:18:38.758981Z",
     "shell.execute_reply.started": "2022-07-16T12:43:22.789703Z"
    },
    "papermill": {
     "duration": 0.319602,
     "end_time": "2022-07-16T13:18:38.759498",
     "exception": false,
     "start_time": "2022-07-16T13:18:38.439896",
     "status": "completed"
    },
    "tags": []
   },
   "outputs": [
    {
     "data": {
      "text/plain": [
       "array([2, 2, 0, ..., 1, 0, 2])"
      ]
     },
     "execution_count": 39,
     "metadata": {},
     "output_type": "execute_result"
    }
   ],
   "source": [
    "y_pred=np.argmax(predicted,axis=1)\n",
    "y_pred"
   ]
  },
  {
   "cell_type": "code",
   "execution_count": 40,
   "id": "abb23c83",
   "metadata": {
    "execution": {
     "iopub.execute_input": "2022-07-16T13:18:39.385359Z",
     "iopub.status.busy": "2022-07-16T13:18:39.377096Z",
     "iopub.status.idle": "2022-07-16T13:18:39.388123Z",
     "shell.execute_reply": "2022-07-16T13:18:39.388554Z",
     "shell.execute_reply.started": "2022-07-16T12:43:54.447786Z"
    },
    "papermill": {
     "duration": 0.3185,
     "end_time": "2022-07-16T13:18:39.388710",
     "exception": false,
     "start_time": "2022-07-16T13:18:39.070210",
     "status": "completed"
    },
    "tags": []
   },
   "outputs": [
    {
     "data": {
      "text/html": [
       "<div>\n",
       "<style scoped>\n",
       "    .dataframe tbody tr th:only-of-type {\n",
       "        vertical-align: middle;\n",
       "    }\n",
       "\n",
       "    .dataframe tbody tr th {\n",
       "        vertical-align: top;\n",
       "    }\n",
       "\n",
       "    .dataframe thead th {\n",
       "        text-align: right;\n",
       "    }\n",
       "</style>\n",
       "<table border=\"1\" class=\"dataframe\">\n",
       "  <thead>\n",
       "    <tr style=\"text-align: right;\">\n",
       "      <th></th>\n",
       "      <th>id</th>\n",
       "      <th>prediction</th>\n",
       "    </tr>\n",
       "  </thead>\n",
       "  <tbody>\n",
       "    <tr>\n",
       "      <th>0</th>\n",
       "      <td>c6d58c3f69</td>\n",
       "      <td>1</td>\n",
       "    </tr>\n",
       "    <tr>\n",
       "      <th>1</th>\n",
       "      <td>cefcc82292</td>\n",
       "      <td>1</td>\n",
       "    </tr>\n",
       "    <tr>\n",
       "      <th>2</th>\n",
       "      <td>e98005252c</td>\n",
       "      <td>1</td>\n",
       "    </tr>\n",
       "    <tr>\n",
       "      <th>3</th>\n",
       "      <td>58518c10ba</td>\n",
       "      <td>1</td>\n",
       "    </tr>\n",
       "    <tr>\n",
       "      <th>4</th>\n",
       "      <td>c32b0d16df</td>\n",
       "      <td>1</td>\n",
       "    </tr>\n",
       "    <tr>\n",
       "      <th>...</th>\n",
       "      <td>...</td>\n",
       "      <td>...</td>\n",
       "    </tr>\n",
       "    <tr>\n",
       "      <th>5190</th>\n",
       "      <td>5f90dd59b0</td>\n",
       "      <td>1</td>\n",
       "    </tr>\n",
       "    <tr>\n",
       "      <th>5191</th>\n",
       "      <td>f357a04e86</td>\n",
       "      <td>1</td>\n",
       "    </tr>\n",
       "    <tr>\n",
       "      <th>5192</th>\n",
       "      <td>1f0ea92118</td>\n",
       "      <td>1</td>\n",
       "    </tr>\n",
       "    <tr>\n",
       "      <th>5193</th>\n",
       "      <td>0407b48afb</td>\n",
       "      <td>1</td>\n",
       "    </tr>\n",
       "    <tr>\n",
       "      <th>5194</th>\n",
       "      <td>16c2f2ab89</td>\n",
       "      <td>1</td>\n",
       "    </tr>\n",
       "  </tbody>\n",
       "</table>\n",
       "<p>5195 rows × 2 columns</p>\n",
       "</div>"
      ],
      "text/plain": [
       "              id  prediction\n",
       "0     c6d58c3f69           1\n",
       "1     cefcc82292           1\n",
       "2     e98005252c           1\n",
       "3     58518c10ba           1\n",
       "4     c32b0d16df           1\n",
       "...          ...         ...\n",
       "5190  5f90dd59b0           1\n",
       "5191  f357a04e86           1\n",
       "5192  1f0ea92118           1\n",
       "5193  0407b48afb           1\n",
       "5194  16c2f2ab89           1\n",
       "\n",
       "[5195 rows x 2 columns]"
      ]
     },
     "execution_count": 40,
     "metadata": {},
     "output_type": "execute_result"
    }
   ],
   "source": [
    "sub_df"
   ]
  },
  {
   "cell_type": "code",
   "execution_count": 41,
   "id": "a7d4875b",
   "metadata": {
    "execution": {
     "iopub.execute_input": "2022-07-16T13:18:40.010386Z",
     "iopub.status.busy": "2022-07-16T13:18:40.009553Z",
     "iopub.status.idle": "2022-07-16T13:18:40.012032Z",
     "shell.execute_reply": "2022-07-16T13:18:40.011611Z",
     "shell.execute_reply.started": "2022-07-16T12:44:21.52946Z"
    },
    "papermill": {
     "duration": 0.315272,
     "end_time": "2022-07-16T13:18:40.012145",
     "exception": false,
     "start_time": "2022-07-16T13:18:39.696873",
     "status": "completed"
    },
    "tags": []
   },
   "outputs": [],
   "source": [
    "sub=pd.DataFrame({'id':sub_df['id'],'prediction':y_pred})"
   ]
  },
  {
   "cell_type": "code",
   "execution_count": 42,
   "id": "c1495034",
   "metadata": {
    "execution": {
     "iopub.execute_input": "2022-07-16T13:18:40.637161Z",
     "iopub.status.busy": "2022-07-16T13:18:40.636377Z",
     "iopub.status.idle": "2022-07-16T13:18:40.640804Z",
     "shell.execute_reply": "2022-07-16T13:18:40.640354Z",
     "shell.execute_reply.started": "2022-07-16T12:44:26.209038Z"
    },
    "papermill": {
     "duration": 0.322269,
     "end_time": "2022-07-16T13:18:40.640921",
     "exception": false,
     "start_time": "2022-07-16T13:18:40.318652",
     "status": "completed"
    },
    "tags": []
   },
   "outputs": [
    {
     "data": {
      "text/html": [
       "<div>\n",
       "<style scoped>\n",
       "    .dataframe tbody tr th:only-of-type {\n",
       "        vertical-align: middle;\n",
       "    }\n",
       "\n",
       "    .dataframe tbody tr th {\n",
       "        vertical-align: top;\n",
       "    }\n",
       "\n",
       "    .dataframe thead th {\n",
       "        text-align: right;\n",
       "    }\n",
       "</style>\n",
       "<table border=\"1\" class=\"dataframe\">\n",
       "  <thead>\n",
       "    <tr style=\"text-align: right;\">\n",
       "      <th></th>\n",
       "      <th>id</th>\n",
       "      <th>prediction</th>\n",
       "    </tr>\n",
       "  </thead>\n",
       "  <tbody>\n",
       "    <tr>\n",
       "      <th>0</th>\n",
       "      <td>c6d58c3f69</td>\n",
       "      <td>2</td>\n",
       "    </tr>\n",
       "    <tr>\n",
       "      <th>1</th>\n",
       "      <td>cefcc82292</td>\n",
       "      <td>2</td>\n",
       "    </tr>\n",
       "    <tr>\n",
       "      <th>2</th>\n",
       "      <td>e98005252c</td>\n",
       "      <td>0</td>\n",
       "    </tr>\n",
       "    <tr>\n",
       "      <th>3</th>\n",
       "      <td>58518c10ba</td>\n",
       "      <td>1</td>\n",
       "    </tr>\n",
       "    <tr>\n",
       "      <th>4</th>\n",
       "      <td>c32b0d16df</td>\n",
       "      <td>0</td>\n",
       "    </tr>\n",
       "    <tr>\n",
       "      <th>...</th>\n",
       "      <td>...</td>\n",
       "      <td>...</td>\n",
       "    </tr>\n",
       "    <tr>\n",
       "      <th>5190</th>\n",
       "      <td>5f90dd59b0</td>\n",
       "      <td>0</td>\n",
       "    </tr>\n",
       "    <tr>\n",
       "      <th>5191</th>\n",
       "      <td>f357a04e86</td>\n",
       "      <td>1</td>\n",
       "    </tr>\n",
       "    <tr>\n",
       "      <th>5192</th>\n",
       "      <td>1f0ea92118</td>\n",
       "      <td>1</td>\n",
       "    </tr>\n",
       "    <tr>\n",
       "      <th>5193</th>\n",
       "      <td>0407b48afb</td>\n",
       "      <td>0</td>\n",
       "    </tr>\n",
       "    <tr>\n",
       "      <th>5194</th>\n",
       "      <td>16c2f2ab89</td>\n",
       "      <td>2</td>\n",
       "    </tr>\n",
       "  </tbody>\n",
       "</table>\n",
       "<p>5195 rows × 2 columns</p>\n",
       "</div>"
      ],
      "text/plain": [
       "              id  prediction\n",
       "0     c6d58c3f69           2\n",
       "1     cefcc82292           2\n",
       "2     e98005252c           0\n",
       "3     58518c10ba           1\n",
       "4     c32b0d16df           0\n",
       "...          ...         ...\n",
       "5190  5f90dd59b0           0\n",
       "5191  f357a04e86           1\n",
       "5192  1f0ea92118           1\n",
       "5193  0407b48afb           0\n",
       "5194  16c2f2ab89           2\n",
       "\n",
       "[5195 rows x 2 columns]"
      ]
     },
     "execution_count": 42,
     "metadata": {},
     "output_type": "execute_result"
    }
   ],
   "source": [
    "sub"
   ]
  },
  {
   "cell_type": "code",
   "execution_count": 43,
   "id": "d5708992",
   "metadata": {
    "execution": {
     "iopub.execute_input": "2022-07-16T13:18:41.266666Z",
     "iopub.status.busy": "2022-07-16T13:18:41.265985Z",
     "iopub.status.idle": "2022-07-16T13:18:41.268798Z",
     "shell.execute_reply": "2022-07-16T13:18:41.269389Z",
     "shell.execute_reply.started": "2022-07-16T12:44:46.10945Z"
    },
    "papermill": {
     "duration": 0.321426,
     "end_time": "2022-07-16T13:18:41.269549",
     "exception": false,
     "start_time": "2022-07-16T13:18:40.948123",
     "status": "completed"
    },
    "tags": []
   },
   "outputs": [
    {
     "data": {
      "text/plain": [
       "0    2148\n",
       "2    1814\n",
       "1    1233\n",
       "Name: prediction, dtype: int64"
      ]
     },
     "execution_count": 43,
     "metadata": {},
     "output_type": "execute_result"
    }
   ],
   "source": [
    "sub['prediction'].value_counts()"
   ]
  },
  {
   "cell_type": "code",
   "execution_count": 44,
   "id": "6e9f44e3",
   "metadata": {
    "execution": {
     "iopub.execute_input": "2022-07-16T13:18:41.890775Z",
     "iopub.status.busy": "2022-07-16T13:18:41.890025Z",
     "iopub.status.idle": "2022-07-16T13:18:41.905411Z",
     "shell.execute_reply": "2022-07-16T13:18:41.904860Z",
     "shell.execute_reply.started": "2022-07-16T12:45:17.438672Z"
    },
    "papermill": {
     "duration": 0.326723,
     "end_time": "2022-07-16T13:18:41.905538",
     "exception": false,
     "start_time": "2022-07-16T13:18:41.578815",
     "status": "completed"
    },
    "tags": []
   },
   "outputs": [],
   "source": [
    "sub.to_csv('submission.csv',index=None)"
   ]
  }
 ],
 "metadata": {
  "kernelspec": {
   "display_name": "Python 3",
   "language": "python",
   "name": "python3"
  },
  "language_info": {
   "codemirror_mode": {
    "name": "ipython",
    "version": 3
   },
   "file_extension": ".py",
   "mimetype": "text/x-python",
   "name": "python",
   "nbconvert_exporter": "python",
   "pygments_lexer": "ipython3",
   "version": "3.7.10"
  },
  "papermill": {
   "default_parameters": {},
   "duration": 668.897055,
   "end_time": "2022-07-16T13:18:45.090111",
   "environment_variables": {},
   "exception": null,
   "input_path": "__notebook__.ipynb",
   "output_path": "__notebook__.ipynb",
   "parameters": {},
   "start_time": "2022-07-16T13:07:36.193056",
   "version": "2.3.3"
  },
  "widgets": {
   "application/vnd.jupyter.widget-state+json": {
    "state": {
     "0041ac668ecd466fa92b4ce0706d9b5d": {
      "model_module": "@jupyter-widgets/controls",
      "model_module_version": "1.5.0",
      "model_name": "FloatProgressModel",
      "state": {
       "_dom_classes": [],
       "_model_module": "@jupyter-widgets/controls",
       "_model_module_version": "1.5.0",
       "_model_name": "FloatProgressModel",
       "_view_count": null,
       "_view_module": "@jupyter-widgets/controls",
       "_view_module_version": "1.5.0",
       "_view_name": "ProgressView",
       "bar_style": "success",
       "description": "",
       "description_tooltip": null,
       "layout": "IPY_MODEL_bc198e8beb874bbb8f1484e30af4356f",
       "max": 1715180.0,
       "min": 0.0,
       "orientation": "horizontal",
       "style": "IPY_MODEL_93a045e4b47345da8512bc73fc736e5f",
       "value": 1715180.0
      }
     },
     "03260e9d962f4fd390b366dc3b10cf13": {
      "model_module": "@jupyter-widgets/controls",
      "model_module_version": "1.5.0",
      "model_name": "DescriptionStyleModel",
      "state": {
       "_model_module": "@jupyter-widgets/controls",
       "_model_module_version": "1.5.0",
       "_model_name": "DescriptionStyleModel",
       "_view_count": null,
       "_view_module": "@jupyter-widgets/base",
       "_view_module_version": "1.2.0",
       "_view_name": "StyleView",
       "description_width": ""
      }
     },
     "05592448a4f54c33a18c97d8f5167c31": {
      "model_module": "@jupyter-widgets/base",
      "model_module_version": "1.2.0",
      "model_name": "LayoutModel",
      "state": {
       "_model_module": "@jupyter-widgets/base",
       "_model_module_version": "1.2.0",
       "_model_name": "LayoutModel",
       "_view_count": null,
       "_view_module": "@jupyter-widgets/base",
       "_view_module_version": "1.2.0",
       "_view_name": "LayoutView",
       "align_content": null,
       "align_items": null,
       "align_self": null,
       "border": null,
       "bottom": null,
       "display": null,
       "flex": null,
       "flex_flow": null,
       "grid_area": null,
       "grid_auto_columns": null,
       "grid_auto_flow": null,
       "grid_auto_rows": null,
       "grid_column": null,
       "grid_gap": null,
       "grid_row": null,
       "grid_template_areas": null,
       "grid_template_columns": null,
       "grid_template_rows": null,
       "height": null,
       "justify_content": null,
       "justify_items": null,
       "left": null,
       "margin": null,
       "max_height": null,
       "max_width": null,
       "min_height": null,
       "min_width": null,
       "object_fit": null,
       "object_position": null,
       "order": null,
       "overflow": null,
       "overflow_x": null,
       "overflow_y": null,
       "padding": null,
       "right": null,
       "top": null,
       "visibility": null,
       "width": null
      }
     },
     "0aa1845b9b3544228b1419e83f1e882b": {
      "model_module": "@jupyter-widgets/controls",
      "model_module_version": "1.5.0",
      "model_name": "HTMLModel",
      "state": {
       "_dom_classes": [],
       "_model_module": "@jupyter-widgets/controls",
       "_model_module_version": "1.5.0",
       "_model_name": "HTMLModel",
       "_view_count": null,
       "_view_module": "@jupyter-widgets/controls",
       "_view_module_version": "1.5.0",
       "_view_name": "HTMLView",
       "description": "",
       "description_tooltip": null,
       "layout": "IPY_MODEL_e0d31caedc004b2c9a4a22542c7ccf08",
       "placeholder": "​",
       "style": "IPY_MODEL_ca6a5c6fa09248038ef1813fd60b3e90",
       "value": " 1.72M/1.72M [00:01&lt;00:00, 1.88MB/s]"
      }
     },
     "1001f8878cac420da55f19a65281ed5b": {
      "model_module": "@jupyter-widgets/controls",
      "model_module_version": "1.5.0",
      "model_name": "DescriptionStyleModel",
      "state": {
       "_model_module": "@jupyter-widgets/controls",
       "_model_module_version": "1.5.0",
       "_model_name": "DescriptionStyleModel",
       "_view_count": null,
       "_view_module": "@jupyter-widgets/base",
       "_view_module_version": "1.2.0",
       "_view_name": "StyleView",
       "description_width": ""
      }
     },
     "12e26b422d0e4ecc99491de89e773f4f": {
      "model_module": "@jupyter-widgets/base",
      "model_module_version": "1.2.0",
      "model_name": "LayoutModel",
      "state": {
       "_model_module": "@jupyter-widgets/base",
       "_model_module_version": "1.2.0",
       "_model_name": "LayoutModel",
       "_view_count": null,
       "_view_module": "@jupyter-widgets/base",
       "_view_module_version": "1.2.0",
       "_view_name": "LayoutView",
       "align_content": null,
       "align_items": null,
       "align_self": null,
       "border": null,
       "bottom": null,
       "display": null,
       "flex": null,
       "flex_flow": null,
       "grid_area": null,
       "grid_auto_columns": null,
       "grid_auto_flow": null,
       "grid_auto_rows": null,
       "grid_column": null,
       "grid_gap": null,
       "grid_row": null,
       "grid_template_areas": null,
       "grid_template_columns": null,
       "grid_template_rows": null,
       "height": null,
       "justify_content": null,
       "justify_items": null,
       "left": null,
       "margin": null,
       "max_height": null,
       "max_width": null,
       "min_height": null,
       "min_width": null,
       "object_fit": null,
       "object_position": null,
       "order": null,
       "overflow": null,
       "overflow_x": null,
       "overflow_y": null,
       "padding": null,
       "right": null,
       "top": null,
       "visibility": null,
       "width": null
      }
     },
     "146b9836a6ca495eb306f225cdc56aa8": {
      "model_module": "@jupyter-widgets/base",
      "model_module_version": "1.2.0",
      "model_name": "LayoutModel",
      "state": {
       "_model_module": "@jupyter-widgets/base",
       "_model_module_version": "1.2.0",
       "_model_name": "LayoutModel",
       "_view_count": null,
       "_view_module": "@jupyter-widgets/base",
       "_view_module_version": "1.2.0",
       "_view_name": "LayoutView",
       "align_content": null,
       "align_items": null,
       "align_self": null,
       "border": null,
       "bottom": null,
       "display": null,
       "flex": null,
       "flex_flow": null,
       "grid_area": null,
       "grid_auto_columns": null,
       "grid_auto_flow": null,
       "grid_auto_rows": null,
       "grid_column": null,
       "grid_gap": null,
       "grid_row": null,
       "grid_template_areas": null,
       "grid_template_columns": null,
       "grid_template_rows": null,
       "height": null,
       "justify_content": null,
       "justify_items": null,
       "left": null,
       "margin": null,
       "max_height": null,
       "max_width": null,
       "min_height": null,
       "min_width": null,
       "object_fit": null,
       "object_position": null,
       "order": null,
       "overflow": null,
       "overflow_x": null,
       "overflow_y": null,
       "padding": null,
       "right": null,
       "top": null,
       "visibility": null,
       "width": null
      }
     },
     "151cf34ae7f94055880ee7106ca15de2": {
      "model_module": "@jupyter-widgets/controls",
      "model_module_version": "1.5.0",
      "model_name": "HTMLModel",
      "state": {
       "_dom_classes": [],
       "_model_module": "@jupyter-widgets/controls",
       "_model_module_version": "1.5.0",
       "_model_name": "HTMLModel",
       "_view_count": null,
       "_view_module": "@jupyter-widgets/controls",
       "_view_module_version": "1.5.0",
       "_view_name": "HTMLView",
       "description": "",
       "description_tooltip": null,
       "layout": "IPY_MODEL_b44d5d1820d74857af1a72d266ac295c",
       "placeholder": "​",
       "style": "IPY_MODEL_516c12ddd83c47f7a7e7da6ab215aaa5",
       "value": " 872k/872k [00:01&lt;00:00, 1.05MB/s]"
      }
     },
     "175dfa2caba94a76b5fed5b522b191e9": {
      "model_module": "@jupyter-widgets/base",
      "model_module_version": "1.2.0",
      "model_name": "LayoutModel",
      "state": {
       "_model_module": "@jupyter-widgets/base",
       "_model_module_version": "1.2.0",
       "_model_name": "LayoutModel",
       "_view_count": null,
       "_view_module": "@jupyter-widgets/base",
       "_view_module_version": "1.2.0",
       "_view_name": "LayoutView",
       "align_content": null,
       "align_items": null,
       "align_self": null,
       "border": null,
       "bottom": null,
       "display": null,
       "flex": null,
       "flex_flow": null,
       "grid_area": null,
       "grid_auto_columns": null,
       "grid_auto_flow": null,
       "grid_auto_rows": null,
       "grid_column": null,
       "grid_gap": null,
       "grid_row": null,
       "grid_template_areas": null,
       "grid_template_columns": null,
       "grid_template_rows": null,
       "height": null,
       "justify_content": null,
       "justify_items": null,
       "left": null,
       "margin": null,
       "max_height": null,
       "max_width": null,
       "min_height": null,
       "min_width": null,
       "object_fit": null,
       "object_position": null,
       "order": null,
       "overflow": null,
       "overflow_x": null,
       "overflow_y": null,
       "padding": null,
       "right": null,
       "top": null,
       "visibility": null,
       "width": null
      }
     },
     "1c5612b026a54589b55f5ecbbc510c99": {
      "model_module": "@jupyter-widgets/base",
      "model_module_version": "1.2.0",
      "model_name": "LayoutModel",
      "state": {
       "_model_module": "@jupyter-widgets/base",
       "_model_module_version": "1.2.0",
       "_model_name": "LayoutModel",
       "_view_count": null,
       "_view_module": "@jupyter-widgets/base",
       "_view_module_version": "1.2.0",
       "_view_name": "LayoutView",
       "align_content": null,
       "align_items": null,
       "align_self": null,
       "border": null,
       "bottom": null,
       "display": null,
       "flex": null,
       "flex_flow": null,
       "grid_area": null,
       "grid_auto_columns": null,
       "grid_auto_flow": null,
       "grid_auto_rows": null,
       "grid_column": null,
       "grid_gap": null,
       "grid_row": null,
       "grid_template_areas": null,
       "grid_template_columns": null,
       "grid_template_rows": null,
       "height": null,
       "justify_content": null,
       "justify_items": null,
       "left": null,
       "margin": null,
       "max_height": null,
       "max_width": null,
       "min_height": null,
       "min_width": null,
       "object_fit": null,
       "object_position": null,
       "order": null,
       "overflow": null,
       "overflow_x": null,
       "overflow_y": null,
       "padding": null,
       "right": null,
       "top": null,
       "visibility": null,
       "width": null
      }
     },
     "1caed971708643f8a12bda62e3210e55": {
      "model_module": "@jupyter-widgets/base",
      "model_module_version": "1.2.0",
      "model_name": "LayoutModel",
      "state": {
       "_model_module": "@jupyter-widgets/base",
       "_model_module_version": "1.2.0",
       "_model_name": "LayoutModel",
       "_view_count": null,
       "_view_module": "@jupyter-widgets/base",
       "_view_module_version": "1.2.0",
       "_view_name": "LayoutView",
       "align_content": null,
       "align_items": null,
       "align_self": null,
       "border": null,
       "bottom": null,
       "display": null,
       "flex": null,
       "flex_flow": null,
       "grid_area": null,
       "grid_auto_columns": null,
       "grid_auto_flow": null,
       "grid_auto_rows": null,
       "grid_column": null,
       "grid_gap": null,
       "grid_row": null,
       "grid_template_areas": null,
       "grid_template_columns": null,
       "grid_template_rows": null,
       "height": null,
       "justify_content": null,
       "justify_items": null,
       "left": null,
       "margin": null,
       "max_height": null,
       "max_width": null,
       "min_height": null,
       "min_width": null,
       "object_fit": null,
       "object_position": null,
       "order": null,
       "overflow": null,
       "overflow_x": null,
       "overflow_y": null,
       "padding": null,
       "right": null,
       "top": null,
       "visibility": null,
       "width": null
      }
     },
     "1d67cd9df3f747c3aba565ddec04ba3e": {
      "model_module": "@jupyter-widgets/base",
      "model_module_version": "1.2.0",
      "model_name": "LayoutModel",
      "state": {
       "_model_module": "@jupyter-widgets/base",
       "_model_module_version": "1.2.0",
       "_model_name": "LayoutModel",
       "_view_count": null,
       "_view_module": "@jupyter-widgets/base",
       "_view_module_version": "1.2.0",
       "_view_name": "LayoutView",
       "align_content": null,
       "align_items": null,
       "align_self": null,
       "border": null,
       "bottom": null,
       "display": null,
       "flex": null,
       "flex_flow": null,
       "grid_area": null,
       "grid_auto_columns": null,
       "grid_auto_flow": null,
       "grid_auto_rows": null,
       "grid_column": null,
       "grid_gap": null,
       "grid_row": null,
       "grid_template_areas": null,
       "grid_template_columns": null,
       "grid_template_rows": null,
       "height": null,
       "justify_content": null,
       "justify_items": null,
       "left": null,
       "margin": null,
       "max_height": null,
       "max_width": null,
       "min_height": null,
       "min_width": null,
       "object_fit": null,
       "object_position": null,
       "order": null,
       "overflow": null,
       "overflow_x": null,
       "overflow_y": null,
       "padding": null,
       "right": null,
       "top": null,
       "visibility": null,
       "width": null
      }
     },
     "1f5bf673933b40b69719f78bb2e38234": {
      "model_module": "@jupyter-widgets/controls",
      "model_module_version": "1.5.0",
      "model_name": "HTMLModel",
      "state": {
       "_dom_classes": [],
       "_model_module": "@jupyter-widgets/controls",
       "_model_module_version": "1.5.0",
       "_model_name": "HTMLModel",
       "_view_count": null,
       "_view_module": "@jupyter-widgets/controls",
       "_view_module_version": "1.5.0",
       "_view_name": "HTMLView",
       "description": "",
       "description_tooltip": null,
       "layout": "IPY_MODEL_f8b7eaac7038481b84203287b8504b86",
       "placeholder": "​",
       "style": "IPY_MODEL_1001f8878cac420da55f19a65281ed5b",
       "value": "Downloading: 100%"
      }
     },
     "20ac7f1e180e4d3fac24ff0f27e1c5b2": {
      "model_module": "@jupyter-widgets/base",
      "model_module_version": "1.2.0",
      "model_name": "LayoutModel",
      "state": {
       "_model_module": "@jupyter-widgets/base",
       "_model_module_version": "1.2.0",
       "_model_name": "LayoutModel",
       "_view_count": null,
       "_view_module": "@jupyter-widgets/base",
       "_view_module_version": "1.2.0",
       "_view_name": "LayoutView",
       "align_content": null,
       "align_items": null,
       "align_self": null,
       "border": null,
       "bottom": null,
       "display": null,
       "flex": null,
       "flex_flow": null,
       "grid_area": null,
       "grid_auto_columns": null,
       "grid_auto_flow": null,
       "grid_auto_rows": null,
       "grid_column": null,
       "grid_gap": null,
       "grid_row": null,
       "grid_template_areas": null,
       "grid_template_columns": null,
       "grid_template_rows": null,
       "height": null,
       "justify_content": null,
       "justify_items": null,
       "left": null,
       "margin": null,
       "max_height": null,
       "max_width": null,
       "min_height": null,
       "min_width": null,
       "object_fit": null,
       "object_position": null,
       "order": null,
       "overflow": null,
       "overflow_x": null,
       "overflow_y": null,
       "padding": null,
       "right": null,
       "top": null,
       "visibility": null,
       "width": null
      }
     },
     "215b31a26e0f45408c031b628902b324": {
      "model_module": "@jupyter-widgets/controls",
      "model_module_version": "1.5.0",
      "model_name": "DescriptionStyleModel",
      "state": {
       "_model_module": "@jupyter-widgets/controls",
       "_model_module_version": "1.5.0",
       "_model_name": "DescriptionStyleModel",
       "_view_count": null,
       "_view_module": "@jupyter-widgets/base",
       "_view_module_version": "1.2.0",
       "_view_name": "StyleView",
       "description_width": ""
      }
     },
     "2a51230b51a54a98bf9abb95d293a816": {
      "model_module": "@jupyter-widgets/controls",
      "model_module_version": "1.5.0",
      "model_name": "HTMLModel",
      "state": {
       "_dom_classes": [],
       "_model_module": "@jupyter-widgets/controls",
       "_model_module_version": "1.5.0",
       "_model_name": "HTMLModel",
       "_view_count": null,
       "_view_module": "@jupyter-widgets/controls",
       "_view_module_version": "1.5.0",
       "_view_name": "HTMLView",
       "description": "",
       "description_tooltip": null,
       "layout": "IPY_MODEL_ed8d82990c804d91bc02e26f8432ce0e",
       "placeholder": "​",
       "style": "IPY_MODEL_d66e7511b4c94e49b9c926d477e8611e",
       "value": "Downloading: 100%"
      }
     },
     "2b0cdd303fdd403cbd40f0269b9ba72c": {
      "model_module": "@jupyter-widgets/controls",
      "model_module_version": "1.5.0",
      "model_name": "DescriptionStyleModel",
      "state": {
       "_model_module": "@jupyter-widgets/controls",
       "_model_module_version": "1.5.0",
       "_model_name": "DescriptionStyleModel",
       "_view_count": null,
       "_view_module": "@jupyter-widgets/base",
       "_view_module_version": "1.2.0",
       "_view_name": "StyleView",
       "description_width": ""
      }
     },
     "2e4280835c5f47799e2b70eac24d5c40": {
      "model_module": "@jupyter-widgets/controls",
      "model_module_version": "1.5.0",
      "model_name": "DescriptionStyleModel",
      "state": {
       "_model_module": "@jupyter-widgets/controls",
       "_model_module_version": "1.5.0",
       "_model_name": "DescriptionStyleModel",
       "_view_count": null,
       "_view_module": "@jupyter-widgets/base",
       "_view_module_version": "1.2.0",
       "_view_name": "StyleView",
       "description_width": ""
      }
     },
     "2f55f33c1b764332a80d08f3ff0fad46": {
      "model_module": "@jupyter-widgets/controls",
      "model_module_version": "1.5.0",
      "model_name": "FloatProgressModel",
      "state": {
       "_dom_classes": [],
       "_model_module": "@jupyter-widgets/controls",
       "_model_module_version": "1.5.0",
       "_model_name": "FloatProgressModel",
       "_view_count": null,
       "_view_module": "@jupyter-widgets/controls",
       "_view_module_version": "1.5.0",
       "_view_name": "ProgressView",
       "bar_style": "success",
       "description": "",
       "description_tooltip": null,
       "layout": "IPY_MODEL_d278825418184ef7992446e64830c8cc",
       "max": 999358484.0,
       "min": 0.0,
       "orientation": "horizontal",
       "style": "IPY_MODEL_4948efa4259a4a7fa7c462c38d2e50e1",
       "value": 999358484.0
      }
     },
     "330be12458dd4f239146fd20d1531e58": {
      "model_module": "@jupyter-widgets/controls",
      "model_module_version": "1.5.0",
      "model_name": "ProgressStyleModel",
      "state": {
       "_model_module": "@jupyter-widgets/controls",
       "_model_module_version": "1.5.0",
       "_model_name": "ProgressStyleModel",
       "_view_count": null,
       "_view_module": "@jupyter-widgets/base",
       "_view_module_version": "1.2.0",
       "_view_name": "StyleView",
       "bar_color": null,
       "description_width": ""
      }
     },
     "377219ae39d0476db6fee863c56400b7": {
      "model_module": "@jupyter-widgets/base",
      "model_module_version": "1.2.0",
      "model_name": "LayoutModel",
      "state": {
       "_model_module": "@jupyter-widgets/base",
       "_model_module_version": "1.2.0",
       "_model_name": "LayoutModel",
       "_view_count": null,
       "_view_module": "@jupyter-widgets/base",
       "_view_module_version": "1.2.0",
       "_view_name": "LayoutView",
       "align_content": null,
       "align_items": null,
       "align_self": null,
       "border": null,
       "bottom": null,
       "display": null,
       "flex": null,
       "flex_flow": null,
       "grid_area": null,
       "grid_auto_columns": null,
       "grid_auto_flow": null,
       "grid_auto_rows": null,
       "grid_column": null,
       "grid_gap": null,
       "grid_row": null,
       "grid_template_areas": null,
       "grid_template_columns": null,
       "grid_template_rows": null,
       "height": null,
       "justify_content": null,
       "justify_items": null,
       "left": null,
       "margin": null,
       "max_height": null,
       "max_width": null,
       "min_height": null,
       "min_width": null,
       "object_fit": null,
       "object_position": null,
       "order": null,
       "overflow": null,
       "overflow_x": null,
       "overflow_y": null,
       "padding": null,
       "right": null,
       "top": null,
       "visibility": null,
       "width": null
      }
     },
     "4948efa4259a4a7fa7c462c38d2e50e1": {
      "model_module": "@jupyter-widgets/controls",
      "model_module_version": "1.5.0",
      "model_name": "ProgressStyleModel",
      "state": {
       "_model_module": "@jupyter-widgets/controls",
       "_model_module_version": "1.5.0",
       "_model_name": "ProgressStyleModel",
       "_view_count": null,
       "_view_module": "@jupyter-widgets/base",
       "_view_module_version": "1.2.0",
       "_view_name": "StyleView",
       "bar_color": null,
       "description_width": ""
      }
     },
     "4c3c4c7ee3a0434296d199c5490776fc": {
      "model_module": "@jupyter-widgets/controls",
      "model_module_version": "1.5.0",
      "model_name": "FloatProgressModel",
      "state": {
       "_dom_classes": [],
       "_model_module": "@jupyter-widgets/controls",
       "_model_module_version": "1.5.0",
       "_model_name": "FloatProgressModel",
       "_view_count": null,
       "_view_module": "@jupyter-widgets/controls",
       "_view_module_version": "1.5.0",
       "_view_name": "ProgressView",
       "bar_style": "success",
       "description": "",
       "description_tooltip": null,
       "layout": "IPY_MODEL_8940648c17b44827a9913afc7732333d",
       "max": 871891.0,
       "min": 0.0,
       "orientation": "horizontal",
       "style": "IPY_MODEL_56c5eda835734a66a633f8b54cf83a2f",
       "value": 871891.0
      }
     },
     "516c12ddd83c47f7a7e7da6ab215aaa5": {
      "model_module": "@jupyter-widgets/controls",
      "model_module_version": "1.5.0",
      "model_name": "DescriptionStyleModel",
      "state": {
       "_model_module": "@jupyter-widgets/controls",
       "_model_module_version": "1.5.0",
       "_model_name": "DescriptionStyleModel",
       "_view_count": null,
       "_view_module": "@jupyter-widgets/base",
       "_view_module_version": "1.2.0",
       "_view_name": "StyleView",
       "description_width": ""
      }
     },
     "56c5eda835734a66a633f8b54cf83a2f": {
      "model_module": "@jupyter-widgets/controls",
      "model_module_version": "1.5.0",
      "model_name": "ProgressStyleModel",
      "state": {
       "_model_module": "@jupyter-widgets/controls",
       "_model_module_version": "1.5.0",
       "_model_name": "ProgressStyleModel",
       "_view_count": null,
       "_view_module": "@jupyter-widgets/base",
       "_view_module_version": "1.2.0",
       "_view_name": "StyleView",
       "bar_color": null,
       "description_width": ""
      }
     },
     "5986dc46234045d3b0dc7b44ea74a6cc": {
      "model_module": "@jupyter-widgets/controls",
      "model_module_version": "1.5.0",
      "model_name": "HBoxModel",
      "state": {
       "_dom_classes": [],
       "_model_module": "@jupyter-widgets/controls",
       "_model_module_version": "1.5.0",
       "_model_name": "HBoxModel",
       "_view_count": null,
       "_view_module": "@jupyter-widgets/controls",
       "_view_module_version": "1.5.0",
       "_view_name": "HBoxView",
       "box_style": "",
       "children": [
        "IPY_MODEL_1f5bf673933b40b69719f78bb2e38234",
        "IPY_MODEL_4c3c4c7ee3a0434296d199c5490776fc",
        "IPY_MODEL_151cf34ae7f94055880ee7106ca15de2"
       ],
       "layout": "IPY_MODEL_05592448a4f54c33a18c97d8f5167c31"
      }
     },
     "5aae10ca2f1d46d88be614369cb2118d": {
      "model_module": "@jupyter-widgets/controls",
      "model_module_version": "1.5.0",
      "model_name": "HBoxModel",
      "state": {
       "_dom_classes": [],
       "_model_module": "@jupyter-widgets/controls",
       "_model_module_version": "1.5.0",
       "_model_name": "HBoxModel",
       "_view_count": null,
       "_view_module": "@jupyter-widgets/controls",
       "_view_module_version": "1.5.0",
       "_view_name": "HBoxView",
       "box_style": "",
       "children": [
        "IPY_MODEL_5dc0316f38cd4b3e9ce5124d203943a4",
        "IPY_MODEL_2f55f33c1b764332a80d08f3ff0fad46",
        "IPY_MODEL_a7bd542d895a499abe1f74a684dba490"
       ],
       "layout": "IPY_MODEL_85f7305aadfc441fb1a6cbfa69489508"
      }
     },
     "5dc0316f38cd4b3e9ce5124d203943a4": {
      "model_module": "@jupyter-widgets/controls",
      "model_module_version": "1.5.0",
      "model_name": "HTMLModel",
      "state": {
       "_dom_classes": [],
       "_model_module": "@jupyter-widgets/controls",
       "_model_module_version": "1.5.0",
       "_model_name": "HTMLModel",
       "_view_count": null,
       "_view_module": "@jupyter-widgets/controls",
       "_view_module_version": "1.5.0",
       "_view_name": "HTMLView",
       "description": "",
       "description_tooltip": null,
       "layout": "IPY_MODEL_1d67cd9df3f747c3aba565ddec04ba3e",
       "placeholder": "​",
       "style": "IPY_MODEL_215b31a26e0f45408c031b628902b324",
       "value": "Downloading: 100%"
      }
     },
     "6b51b1f6b42643f5a07616133f795e51": {
      "model_module": "@jupyter-widgets/base",
      "model_module_version": "1.2.0",
      "model_name": "LayoutModel",
      "state": {
       "_model_module": "@jupyter-widgets/base",
       "_model_module_version": "1.2.0",
       "_model_name": "LayoutModel",
       "_view_count": null,
       "_view_module": "@jupyter-widgets/base",
       "_view_module_version": "1.2.0",
       "_view_name": "LayoutView",
       "align_content": null,
       "align_items": null,
       "align_self": null,
       "border": null,
       "bottom": null,
       "display": null,
       "flex": null,
       "flex_flow": null,
       "grid_area": null,
       "grid_auto_columns": null,
       "grid_auto_flow": null,
       "grid_auto_rows": null,
       "grid_column": null,
       "grid_gap": null,
       "grid_row": null,
       "grid_template_areas": null,
       "grid_template_columns": null,
       "grid_template_rows": null,
       "height": null,
       "justify_content": null,
       "justify_items": null,
       "left": null,
       "margin": null,
       "max_height": null,
       "max_width": null,
       "min_height": null,
       "min_width": null,
       "object_fit": null,
       "object_position": null,
       "order": null,
       "overflow": null,
       "overflow_x": null,
       "overflow_y": null,
       "padding": null,
       "right": null,
       "top": null,
       "visibility": null,
       "width": null
      }
     },
     "778ab5e67b3a4c939e8745b8283d8f92": {
      "model_module": "@jupyter-widgets/controls",
      "model_module_version": "1.5.0",
      "model_name": "HTMLModel",
      "state": {
       "_dom_classes": [],
       "_model_module": "@jupyter-widgets/controls",
       "_model_module_version": "1.5.0",
       "_model_name": "HTMLModel",
       "_view_count": null,
       "_view_module": "@jupyter-widgets/controls",
       "_view_module_version": "1.5.0",
       "_view_name": "HTMLView",
       "description": "",
       "description_tooltip": null,
       "layout": "IPY_MODEL_1c5612b026a54589b55f5ecbbc510c99",
       "placeholder": "​",
       "style": "IPY_MODEL_2e4280835c5f47799e2b70eac24d5c40",
       "value": "Downloading: 100%"
      }
     },
     "7f1100a5ecd04ef4a2bd8cfd37d82de7": {
      "model_module": "@jupyter-widgets/controls",
      "model_module_version": "1.5.0",
      "model_name": "FloatProgressModel",
      "state": {
       "_dom_classes": [],
       "_model_module": "@jupyter-widgets/controls",
       "_model_module_version": "1.5.0",
       "_model_name": "FloatProgressModel",
       "_view_count": null,
       "_view_module": "@jupyter-widgets/controls",
       "_view_module_version": "1.5.0",
       "_view_name": "ProgressView",
       "bar_style": "success",
       "description": "",
       "description_tooltip": null,
       "layout": "IPY_MODEL_a8341940c2244bb58ba75ee4e7314e5c",
       "max": 28.0,
       "min": 0.0,
       "orientation": "horizontal",
       "style": "IPY_MODEL_330be12458dd4f239146fd20d1531e58",
       "value": 28.0
      }
     },
     "839ab4bf8e9a48d79f83f833c7a59726": {
      "model_module": "@jupyter-widgets/controls",
      "model_module_version": "1.5.0",
      "model_name": "DescriptionStyleModel",
      "state": {
       "_model_module": "@jupyter-widgets/controls",
       "_model_module_version": "1.5.0",
       "_model_name": "DescriptionStyleModel",
       "_view_count": null,
       "_view_module": "@jupyter-widgets/base",
       "_view_module_version": "1.2.0",
       "_view_name": "StyleView",
       "description_width": ""
      }
     },
     "85f7305aadfc441fb1a6cbfa69489508": {
      "model_module": "@jupyter-widgets/base",
      "model_module_version": "1.2.0",
      "model_name": "LayoutModel",
      "state": {
       "_model_module": "@jupyter-widgets/base",
       "_model_module_version": "1.2.0",
       "_model_name": "LayoutModel",
       "_view_count": null,
       "_view_module": "@jupyter-widgets/base",
       "_view_module_version": "1.2.0",
       "_view_name": "LayoutView",
       "align_content": null,
       "align_items": null,
       "align_self": null,
       "border": null,
       "bottom": null,
       "display": null,
       "flex": null,
       "flex_flow": null,
       "grid_area": null,
       "grid_auto_columns": null,
       "grid_auto_flow": null,
       "grid_auto_rows": null,
       "grid_column": null,
       "grid_gap": null,
       "grid_row": null,
       "grid_template_areas": null,
       "grid_template_columns": null,
       "grid_template_rows": null,
       "height": null,
       "justify_content": null,
       "justify_items": null,
       "left": null,
       "margin": null,
       "max_height": null,
       "max_width": null,
       "min_height": null,
       "min_width": null,
       "object_fit": null,
       "object_position": null,
       "order": null,
       "overflow": null,
       "overflow_x": null,
       "overflow_y": null,
       "padding": null,
       "right": null,
       "top": null,
       "visibility": null,
       "width": null
      }
     },
     "8608134090f748388e45b3d5cbd4bcc6": {
      "model_module": "@jupyter-widgets/controls",
      "model_module_version": "1.5.0",
      "model_name": "HTMLModel",
      "state": {
       "_dom_classes": [],
       "_model_module": "@jupyter-widgets/controls",
       "_model_module_version": "1.5.0",
       "_model_name": "HTMLModel",
       "_view_count": null,
       "_view_module": "@jupyter-widgets/controls",
       "_view_module_version": "1.5.0",
       "_view_name": "HTMLView",
       "description": "",
       "description_tooltip": null,
       "layout": "IPY_MODEL_a4f7b13580064227af8f8d1722952714",
       "placeholder": "​",
       "style": "IPY_MODEL_2b0cdd303fdd403cbd40f0269b9ba72c",
       "value": " 625/625 [00:00&lt;00:00, 21.0kB/s]"
      }
     },
     "8928622a72284d9b9cc9e843e6b8cb46": {
      "model_module": "@jupyter-widgets/controls",
      "model_module_version": "1.5.0",
      "model_name": "DescriptionStyleModel",
      "state": {
       "_model_module": "@jupyter-widgets/controls",
       "_model_module_version": "1.5.0",
       "_model_name": "DescriptionStyleModel",
       "_view_count": null,
       "_view_module": "@jupyter-widgets/base",
       "_view_module_version": "1.2.0",
       "_view_name": "StyleView",
       "description_width": ""
      }
     },
     "8940648c17b44827a9913afc7732333d": {
      "model_module": "@jupyter-widgets/base",
      "model_module_version": "1.2.0",
      "model_name": "LayoutModel",
      "state": {
       "_model_module": "@jupyter-widgets/base",
       "_model_module_version": "1.2.0",
       "_model_name": "LayoutModel",
       "_view_count": null,
       "_view_module": "@jupyter-widgets/base",
       "_view_module_version": "1.2.0",
       "_view_name": "LayoutView",
       "align_content": null,
       "align_items": null,
       "align_self": null,
       "border": null,
       "bottom": null,
       "display": null,
       "flex": null,
       "flex_flow": null,
       "grid_area": null,
       "grid_auto_columns": null,
       "grid_auto_flow": null,
       "grid_auto_rows": null,
       "grid_column": null,
       "grid_gap": null,
       "grid_row": null,
       "grid_template_areas": null,
       "grid_template_columns": null,
       "grid_template_rows": null,
       "height": null,
       "justify_content": null,
       "justify_items": null,
       "left": null,
       "margin": null,
       "max_height": null,
       "max_width": null,
       "min_height": null,
       "min_width": null,
       "object_fit": null,
       "object_position": null,
       "order": null,
       "overflow": null,
       "overflow_x": null,
       "overflow_y": null,
       "padding": null,
       "right": null,
       "top": null,
       "visibility": null,
       "width": null
      }
     },
     "8d040358c2ae4f3a8e68e81f03193650": {
      "model_module": "@jupyter-widgets/controls",
      "model_module_version": "1.5.0",
      "model_name": "HBoxModel",
      "state": {
       "_dom_classes": [],
       "_model_module": "@jupyter-widgets/controls",
       "_model_module_version": "1.5.0",
       "_model_name": "HBoxModel",
       "_view_count": null,
       "_view_module": "@jupyter-widgets/controls",
       "_view_module_version": "1.5.0",
       "_view_name": "HBoxView",
       "box_style": "",
       "children": [
        "IPY_MODEL_778ab5e67b3a4c939e8745b8283d8f92",
        "IPY_MODEL_c2f0426b0c844611b21cee9dbbf10258",
        "IPY_MODEL_8608134090f748388e45b3d5cbd4bcc6"
       ],
       "layout": "IPY_MODEL_6b51b1f6b42643f5a07616133f795e51"
      }
     },
     "8d2a1a2c1d054c458e0af49d39c56f01": {
      "model_module": "@jupyter-widgets/controls",
      "model_module_version": "1.5.0",
      "model_name": "HBoxModel",
      "state": {
       "_dom_classes": [],
       "_model_module": "@jupyter-widgets/controls",
       "_model_module_version": "1.5.0",
       "_model_name": "HBoxModel",
       "_view_count": null,
       "_view_module": "@jupyter-widgets/controls",
       "_view_module_version": "1.5.0",
       "_view_name": "HBoxView",
       "box_style": "",
       "children": [
        "IPY_MODEL_2a51230b51a54a98bf9abb95d293a816",
        "IPY_MODEL_0041ac668ecd466fa92b4ce0706d9b5d",
        "IPY_MODEL_0aa1845b9b3544228b1419e83f1e882b"
       ],
       "layout": "IPY_MODEL_1caed971708643f8a12bda62e3210e55"
      }
     },
     "93a045e4b47345da8512bc73fc736e5f": {
      "model_module": "@jupyter-widgets/controls",
      "model_module_version": "1.5.0",
      "model_name": "ProgressStyleModel",
      "state": {
       "_model_module": "@jupyter-widgets/controls",
       "_model_module_version": "1.5.0",
       "_model_name": "ProgressStyleModel",
       "_view_count": null,
       "_view_module": "@jupyter-widgets/base",
       "_view_module_version": "1.2.0",
       "_view_name": "StyleView",
       "bar_color": null,
       "description_width": ""
      }
     },
     "9b6269097ccb4e4abc974239a093002f": {
      "model_module": "@jupyter-widgets/controls",
      "model_module_version": "1.5.0",
      "model_name": "ProgressStyleModel",
      "state": {
       "_model_module": "@jupyter-widgets/controls",
       "_model_module_version": "1.5.0",
       "_model_name": "ProgressStyleModel",
       "_view_count": null,
       "_view_module": "@jupyter-widgets/base",
       "_view_module_version": "1.2.0",
       "_view_name": "StyleView",
       "bar_color": null,
       "description_width": ""
      }
     },
     "a4f7b13580064227af8f8d1722952714": {
      "model_module": "@jupyter-widgets/base",
      "model_module_version": "1.2.0",
      "model_name": "LayoutModel",
      "state": {
       "_model_module": "@jupyter-widgets/base",
       "_model_module_version": "1.2.0",
       "_model_name": "LayoutModel",
       "_view_count": null,
       "_view_module": "@jupyter-widgets/base",
       "_view_module_version": "1.2.0",
       "_view_name": "LayoutView",
       "align_content": null,
       "align_items": null,
       "align_self": null,
       "border": null,
       "bottom": null,
       "display": null,
       "flex": null,
       "flex_flow": null,
       "grid_area": null,
       "grid_auto_columns": null,
       "grid_auto_flow": null,
       "grid_auto_rows": null,
       "grid_column": null,
       "grid_gap": null,
       "grid_row": null,
       "grid_template_areas": null,
       "grid_template_columns": null,
       "grid_template_rows": null,
       "height": null,
       "justify_content": null,
       "justify_items": null,
       "left": null,
       "margin": null,
       "max_height": null,
       "max_width": null,
       "min_height": null,
       "min_width": null,
       "object_fit": null,
       "object_position": null,
       "order": null,
       "overflow": null,
       "overflow_x": null,
       "overflow_y": null,
       "padding": null,
       "right": null,
       "top": null,
       "visibility": null,
       "width": null
      }
     },
     "a7bd542d895a499abe1f74a684dba490": {
      "model_module": "@jupyter-widgets/controls",
      "model_module_version": "1.5.0",
      "model_name": "HTMLModel",
      "state": {
       "_dom_classes": [],
       "_model_module": "@jupyter-widgets/controls",
       "_model_module_version": "1.5.0",
       "_model_name": "HTMLModel",
       "_view_count": null,
       "_view_module": "@jupyter-widgets/controls",
       "_view_module_version": "1.5.0",
       "_view_name": "HTMLView",
       "description": "",
       "description_tooltip": null,
       "layout": "IPY_MODEL_377219ae39d0476db6fee863c56400b7",
       "placeholder": "​",
       "style": "IPY_MODEL_839ab4bf8e9a48d79f83f833c7a59726",
       "value": " 999M/999M [00:46&lt;00:00, 22.1MB/s]"
      }
     },
     "a8341940c2244bb58ba75ee4e7314e5c": {
      "model_module": "@jupyter-widgets/base",
      "model_module_version": "1.2.0",
      "model_name": "LayoutModel",
      "state": {
       "_model_module": "@jupyter-widgets/base",
       "_model_module_version": "1.2.0",
       "_model_name": "LayoutModel",
       "_view_count": null,
       "_view_module": "@jupyter-widgets/base",
       "_view_module_version": "1.2.0",
       "_view_name": "LayoutView",
       "align_content": null,
       "align_items": null,
       "align_self": null,
       "border": null,
       "bottom": null,
       "display": null,
       "flex": null,
       "flex_flow": null,
       "grid_area": null,
       "grid_auto_columns": null,
       "grid_auto_flow": null,
       "grid_auto_rows": null,
       "grid_column": null,
       "grid_gap": null,
       "grid_row": null,
       "grid_template_areas": null,
       "grid_template_columns": null,
       "grid_template_rows": null,
       "height": null,
       "justify_content": null,
       "justify_items": null,
       "left": null,
       "margin": null,
       "max_height": null,
       "max_width": null,
       "min_height": null,
       "min_width": null,
       "object_fit": null,
       "object_position": null,
       "order": null,
       "overflow": null,
       "overflow_x": null,
       "overflow_y": null,
       "padding": null,
       "right": null,
       "top": null,
       "visibility": null,
       "width": null
      }
     },
     "a977d868777646bb89e33ab7604cb6db": {
      "model_module": "@jupyter-widgets/controls",
      "model_module_version": "1.5.0",
      "model_name": "HBoxModel",
      "state": {
       "_dom_classes": [],
       "_model_module": "@jupyter-widgets/controls",
       "_model_module_version": "1.5.0",
       "_model_name": "HBoxModel",
       "_view_count": null,
       "_view_module": "@jupyter-widgets/controls",
       "_view_module_version": "1.5.0",
       "_view_name": "HBoxView",
       "box_style": "",
       "children": [
        "IPY_MODEL_f5591e1f8986452b9cea25946abbd375",
        "IPY_MODEL_7f1100a5ecd04ef4a2bd8cfd37d82de7",
        "IPY_MODEL_d22e53ae5bee46c6b02461cdff48a053"
       ],
       "layout": "IPY_MODEL_20ac7f1e180e4d3fac24ff0f27e1c5b2"
      }
     },
     "b44d5d1820d74857af1a72d266ac295c": {
      "model_module": "@jupyter-widgets/base",
      "model_module_version": "1.2.0",
      "model_name": "LayoutModel",
      "state": {
       "_model_module": "@jupyter-widgets/base",
       "_model_module_version": "1.2.0",
       "_model_name": "LayoutModel",
       "_view_count": null,
       "_view_module": "@jupyter-widgets/base",
       "_view_module_version": "1.2.0",
       "_view_name": "LayoutView",
       "align_content": null,
       "align_items": null,
       "align_self": null,
       "border": null,
       "bottom": null,
       "display": null,
       "flex": null,
       "flex_flow": null,
       "grid_area": null,
       "grid_auto_columns": null,
       "grid_auto_flow": null,
       "grid_auto_rows": null,
       "grid_column": null,
       "grid_gap": null,
       "grid_row": null,
       "grid_template_areas": null,
       "grid_template_columns": null,
       "grid_template_rows": null,
       "height": null,
       "justify_content": null,
       "justify_items": null,
       "left": null,
       "margin": null,
       "max_height": null,
       "max_width": null,
       "min_height": null,
       "min_width": null,
       "object_fit": null,
       "object_position": null,
       "order": null,
       "overflow": null,
       "overflow_x": null,
       "overflow_y": null,
       "padding": null,
       "right": null,
       "top": null,
       "visibility": null,
       "width": null
      }
     },
     "bc198e8beb874bbb8f1484e30af4356f": {
      "model_module": "@jupyter-widgets/base",
      "model_module_version": "1.2.0",
      "model_name": "LayoutModel",
      "state": {
       "_model_module": "@jupyter-widgets/base",
       "_model_module_version": "1.2.0",
       "_model_name": "LayoutModel",
       "_view_count": null,
       "_view_module": "@jupyter-widgets/base",
       "_view_module_version": "1.2.0",
       "_view_name": "LayoutView",
       "align_content": null,
       "align_items": null,
       "align_self": null,
       "border": null,
       "bottom": null,
       "display": null,
       "flex": null,
       "flex_flow": null,
       "grid_area": null,
       "grid_auto_columns": null,
       "grid_auto_flow": null,
       "grid_auto_rows": null,
       "grid_column": null,
       "grid_gap": null,
       "grid_row": null,
       "grid_template_areas": null,
       "grid_template_columns": null,
       "grid_template_rows": null,
       "height": null,
       "justify_content": null,
       "justify_items": null,
       "left": null,
       "margin": null,
       "max_height": null,
       "max_width": null,
       "min_height": null,
       "min_width": null,
       "object_fit": null,
       "object_position": null,
       "order": null,
       "overflow": null,
       "overflow_x": null,
       "overflow_y": null,
       "padding": null,
       "right": null,
       "top": null,
       "visibility": null,
       "width": null
      }
     },
     "c2f0426b0c844611b21cee9dbbf10258": {
      "model_module": "@jupyter-widgets/controls",
      "model_module_version": "1.5.0",
      "model_name": "FloatProgressModel",
      "state": {
       "_dom_classes": [],
       "_model_module": "@jupyter-widgets/controls",
       "_model_module_version": "1.5.0",
       "_model_name": "FloatProgressModel",
       "_view_count": null,
       "_view_module": "@jupyter-widgets/controls",
       "_view_module_version": "1.5.0",
       "_view_name": "ProgressView",
       "bar_style": "success",
       "description": "",
       "description_tooltip": null,
       "layout": "IPY_MODEL_146b9836a6ca495eb306f225cdc56aa8",
       "max": 625.0,
       "min": 0.0,
       "orientation": "horizontal",
       "style": "IPY_MODEL_9b6269097ccb4e4abc974239a093002f",
       "value": 625.0
      }
     },
     "ca6a5c6fa09248038ef1813fd60b3e90": {
      "model_module": "@jupyter-widgets/controls",
      "model_module_version": "1.5.0",
      "model_name": "DescriptionStyleModel",
      "state": {
       "_model_module": "@jupyter-widgets/controls",
       "_model_module_version": "1.5.0",
       "_model_name": "DescriptionStyleModel",
       "_view_count": null,
       "_view_module": "@jupyter-widgets/base",
       "_view_module_version": "1.2.0",
       "_view_name": "StyleView",
       "description_width": ""
      }
     },
     "d22e53ae5bee46c6b02461cdff48a053": {
      "model_module": "@jupyter-widgets/controls",
      "model_module_version": "1.5.0",
      "model_name": "HTMLModel",
      "state": {
       "_dom_classes": [],
       "_model_module": "@jupyter-widgets/controls",
       "_model_module_version": "1.5.0",
       "_model_name": "HTMLModel",
       "_view_count": null,
       "_view_module": "@jupyter-widgets/controls",
       "_view_module_version": "1.5.0",
       "_view_name": "HTMLView",
       "description": "",
       "description_tooltip": null,
       "layout": "IPY_MODEL_12e26b422d0e4ecc99491de89e773f4f",
       "placeholder": "​",
       "style": "IPY_MODEL_8928622a72284d9b9cc9e843e6b8cb46",
       "value": " 28.0/28.0 [00:00&lt;00:00, 1.05kB/s]"
      }
     },
     "d278825418184ef7992446e64830c8cc": {
      "model_module": "@jupyter-widgets/base",
      "model_module_version": "1.2.0",
      "model_name": "LayoutModel",
      "state": {
       "_model_module": "@jupyter-widgets/base",
       "_model_module_version": "1.2.0",
       "_model_name": "LayoutModel",
       "_view_count": null,
       "_view_module": "@jupyter-widgets/base",
       "_view_module_version": "1.2.0",
       "_view_name": "LayoutView",
       "align_content": null,
       "align_items": null,
       "align_self": null,
       "border": null,
       "bottom": null,
       "display": null,
       "flex": null,
       "flex_flow": null,
       "grid_area": null,
       "grid_auto_columns": null,
       "grid_auto_flow": null,
       "grid_auto_rows": null,
       "grid_column": null,
       "grid_gap": null,
       "grid_row": null,
       "grid_template_areas": null,
       "grid_template_columns": null,
       "grid_template_rows": null,
       "height": null,
       "justify_content": null,
       "justify_items": null,
       "left": null,
       "margin": null,
       "max_height": null,
       "max_width": null,
       "min_height": null,
       "min_width": null,
       "object_fit": null,
       "object_position": null,
       "order": null,
       "overflow": null,
       "overflow_x": null,
       "overflow_y": null,
       "padding": null,
       "right": null,
       "top": null,
       "visibility": null,
       "width": null
      }
     },
     "d66e7511b4c94e49b9c926d477e8611e": {
      "model_module": "@jupyter-widgets/controls",
      "model_module_version": "1.5.0",
      "model_name": "DescriptionStyleModel",
      "state": {
       "_model_module": "@jupyter-widgets/controls",
       "_model_module_version": "1.5.0",
       "_model_name": "DescriptionStyleModel",
       "_view_count": null,
       "_view_module": "@jupyter-widgets/base",
       "_view_module_version": "1.2.0",
       "_view_name": "StyleView",
       "description_width": ""
      }
     },
     "e0d31caedc004b2c9a4a22542c7ccf08": {
      "model_module": "@jupyter-widgets/base",
      "model_module_version": "1.2.0",
      "model_name": "LayoutModel",
      "state": {
       "_model_module": "@jupyter-widgets/base",
       "_model_module_version": "1.2.0",
       "_model_name": "LayoutModel",
       "_view_count": null,
       "_view_module": "@jupyter-widgets/base",
       "_view_module_version": "1.2.0",
       "_view_name": "LayoutView",
       "align_content": null,
       "align_items": null,
       "align_self": null,
       "border": null,
       "bottom": null,
       "display": null,
       "flex": null,
       "flex_flow": null,
       "grid_area": null,
       "grid_auto_columns": null,
       "grid_auto_flow": null,
       "grid_auto_rows": null,
       "grid_column": null,
       "grid_gap": null,
       "grid_row": null,
       "grid_template_areas": null,
       "grid_template_columns": null,
       "grid_template_rows": null,
       "height": null,
       "justify_content": null,
       "justify_items": null,
       "left": null,
       "margin": null,
       "max_height": null,
       "max_width": null,
       "min_height": null,
       "min_width": null,
       "object_fit": null,
       "object_position": null,
       "order": null,
       "overflow": null,
       "overflow_x": null,
       "overflow_y": null,
       "padding": null,
       "right": null,
       "top": null,
       "visibility": null,
       "width": null
      }
     },
     "ed8d82990c804d91bc02e26f8432ce0e": {
      "model_module": "@jupyter-widgets/base",
      "model_module_version": "1.2.0",
      "model_name": "LayoutModel",
      "state": {
       "_model_module": "@jupyter-widgets/base",
       "_model_module_version": "1.2.0",
       "_model_name": "LayoutModel",
       "_view_count": null,
       "_view_module": "@jupyter-widgets/base",
       "_view_module_version": "1.2.0",
       "_view_name": "LayoutView",
       "align_content": null,
       "align_items": null,
       "align_self": null,
       "border": null,
       "bottom": null,
       "display": null,
       "flex": null,
       "flex_flow": null,
       "grid_area": null,
       "grid_auto_columns": null,
       "grid_auto_flow": null,
       "grid_auto_rows": null,
       "grid_column": null,
       "grid_gap": null,
       "grid_row": null,
       "grid_template_areas": null,
       "grid_template_columns": null,
       "grid_template_rows": null,
       "height": null,
       "justify_content": null,
       "justify_items": null,
       "left": null,
       "margin": null,
       "max_height": null,
       "max_width": null,
       "min_height": null,
       "min_width": null,
       "object_fit": null,
       "object_position": null,
       "order": null,
       "overflow": null,
       "overflow_x": null,
       "overflow_y": null,
       "padding": null,
       "right": null,
       "top": null,
       "visibility": null,
       "width": null
      }
     },
     "f5591e1f8986452b9cea25946abbd375": {
      "model_module": "@jupyter-widgets/controls",
      "model_module_version": "1.5.0",
      "model_name": "HTMLModel",
      "state": {
       "_dom_classes": [],
       "_model_module": "@jupyter-widgets/controls",
       "_model_module_version": "1.5.0",
       "_model_name": "HTMLModel",
       "_view_count": null,
       "_view_module": "@jupyter-widgets/controls",
       "_view_module_version": "1.5.0",
       "_view_name": "HTMLView",
       "description": "",
       "description_tooltip": null,
       "layout": "IPY_MODEL_175dfa2caba94a76b5fed5b522b191e9",
       "placeholder": "​",
       "style": "IPY_MODEL_03260e9d962f4fd390b366dc3b10cf13",
       "value": "Downloading: 100%"
      }
     },
     "f8b7eaac7038481b84203287b8504b86": {
      "model_module": "@jupyter-widgets/base",
      "model_module_version": "1.2.0",
      "model_name": "LayoutModel",
      "state": {
       "_model_module": "@jupyter-widgets/base",
       "_model_module_version": "1.2.0",
       "_model_name": "LayoutModel",
       "_view_count": null,
       "_view_module": "@jupyter-widgets/base",
       "_view_module_version": "1.2.0",
       "_view_name": "LayoutView",
       "align_content": null,
       "align_items": null,
       "align_self": null,
       "border": null,
       "bottom": null,
       "display": null,
       "flex": null,
       "flex_flow": null,
       "grid_area": null,
       "grid_auto_columns": null,
       "grid_auto_flow": null,
       "grid_auto_rows": null,
       "grid_column": null,
       "grid_gap": null,
       "grid_row": null,
       "grid_template_areas": null,
       "grid_template_columns": null,
       "grid_template_rows": null,
       "height": null,
       "justify_content": null,
       "justify_items": null,
       "left": null,
       "margin": null,
       "max_height": null,
       "max_width": null,
       "min_height": null,
       "min_width": null,
       "object_fit": null,
       "object_position": null,
       "order": null,
       "overflow": null,
       "overflow_x": null,
       "overflow_y": null,
       "padding": null,
       "right": null,
       "top": null,
       "visibility": null,
       "width": null
      }
     }
    },
    "version_major": 2,
    "version_minor": 0
   }
  }
 },
 "nbformat": 4,
 "nbformat_minor": 5
}
