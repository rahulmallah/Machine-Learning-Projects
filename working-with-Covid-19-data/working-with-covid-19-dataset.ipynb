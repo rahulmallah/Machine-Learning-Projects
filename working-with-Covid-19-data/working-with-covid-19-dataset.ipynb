{
 "cells": [
  {
   "cell_type": "code",
   "execution_count": 1,
   "id": "1e0a508c",
   "metadata": {
    "execution": {
     "iopub.execute_input": "2022-07-01T06:34:59.819042Z",
     "iopub.status.busy": "2022-07-01T06:34:59.816284Z",
     "iopub.status.idle": "2022-07-01T06:34:59.838389Z",
     "shell.execute_reply": "2022-07-01T06:34:59.838937Z",
     "shell.execute_reply.started": "2022-07-01T05:58:58.858534Z"
    },
    "papermill": {
     "duration": 0.049409,
     "end_time": "2022-07-01T06:34:59.839223",
     "exception": false,
     "start_time": "2022-07-01T06:34:59.789814",
     "status": "completed"
    },
    "tags": []
   },
   "outputs": [],
   "source": [
    "import pandas as pd\n",
    "data=pd.read_csv('../input/latest-covid19-india-statewise-data/Latest Covid-19 India Status.csv')"
   ]
  },
  {
   "cell_type": "code",
   "execution_count": 2,
   "id": "2ea884c3",
   "metadata": {
    "execution": {
     "iopub.execute_input": "2022-07-01T06:34:59.882044Z",
     "iopub.status.busy": "2022-07-01T06:34:59.881433Z",
     "iopub.status.idle": "2022-07-01T06:34:59.896877Z",
     "shell.execute_reply": "2022-07-01T06:34:59.897364Z",
     "shell.execute_reply.started": "2022-07-01T05:59:12.817158Z"
    },
    "papermill": {
     "duration": 0.040716,
     "end_time": "2022-07-01T06:34:59.897567",
     "exception": false,
     "start_time": "2022-07-01T06:34:59.856851",
     "status": "completed"
    },
    "tags": []
   },
   "outputs": [
    {
     "data": {
      "text/html": [
       "<div>\n",
       "<style scoped>\n",
       "    .dataframe tbody tr th:only-of-type {\n",
       "        vertical-align: middle;\n",
       "    }\n",
       "\n",
       "    .dataframe tbody tr th {\n",
       "        vertical-align: top;\n",
       "    }\n",
       "\n",
       "    .dataframe thead th {\n",
       "        text-align: right;\n",
       "    }\n",
       "</style>\n",
       "<table border=\"1\" class=\"dataframe\">\n",
       "  <thead>\n",
       "    <tr style=\"text-align: right;\">\n",
       "      <th></th>\n",
       "      <th>State/UTs</th>\n",
       "      <th>Total Cases</th>\n",
       "      <th>Active</th>\n",
       "      <th>Discharged</th>\n",
       "      <th>Deaths</th>\n",
       "      <th>Active Ratio</th>\n",
       "      <th>Discharge Ratio</th>\n",
       "      <th>Death Ratio</th>\n",
       "      <th>Population</th>\n",
       "    </tr>\n",
       "  </thead>\n",
       "  <tbody>\n",
       "    <tr>\n",
       "      <th>0</th>\n",
       "      <td>Andaman and Nicobar</td>\n",
       "      <td>10039</td>\n",
       "      <td>0</td>\n",
       "      <td>9910</td>\n",
       "      <td>129</td>\n",
       "      <td>0.00</td>\n",
       "      <td>98.72</td>\n",
       "      <td>1.28</td>\n",
       "      <td>100896618</td>\n",
       "    </tr>\n",
       "    <tr>\n",
       "      <th>1</th>\n",
       "      <td>Andhra Pradesh</td>\n",
       "      <td>2319869</td>\n",
       "      <td>62</td>\n",
       "      <td>2305076</td>\n",
       "      <td>14731</td>\n",
       "      <td>0.00</td>\n",
       "      <td>99.36</td>\n",
       "      <td>0.63</td>\n",
       "      <td>128500364</td>\n",
       "    </tr>\n",
       "    <tr>\n",
       "      <th>2</th>\n",
       "      <td>Arunachal Pradesh</td>\n",
       "      <td>64504</td>\n",
       "      <td>1</td>\n",
       "      <td>64207</td>\n",
       "      <td>296</td>\n",
       "      <td>0.00</td>\n",
       "      <td>99.54</td>\n",
       "      <td>0.46</td>\n",
       "      <td>658019</td>\n",
       "    </tr>\n",
       "    <tr>\n",
       "      <th>3</th>\n",
       "      <td>Assam</td>\n",
       "      <td>724225</td>\n",
       "      <td>4</td>\n",
       "      <td>716235</td>\n",
       "      <td>7986</td>\n",
       "      <td>0.00</td>\n",
       "      <td>98.90</td>\n",
       "      <td>1.10</td>\n",
       "      <td>290492</td>\n",
       "    </tr>\n",
       "    <tr>\n",
       "      <th>4</th>\n",
       "      <td>Bihar</td>\n",
       "      <td>830702</td>\n",
       "      <td>43</td>\n",
       "      <td>818403</td>\n",
       "      <td>12256</td>\n",
       "      <td>0.01</td>\n",
       "      <td>98.52</td>\n",
       "      <td>1.48</td>\n",
       "      <td>40100376</td>\n",
       "    </tr>\n",
       "  </tbody>\n",
       "</table>\n",
       "</div>"
      ],
      "text/plain": [
       "             State/UTs  Total Cases  Active  Discharged  Deaths  Active Ratio  \\\n",
       "0  Andaman and Nicobar        10039       0        9910     129          0.00   \n",
       "1       Andhra Pradesh      2319869      62     2305076   14731          0.00   \n",
       "2    Arunachal Pradesh        64504       1       64207     296          0.00   \n",
       "3                Assam       724225       4      716235    7986          0.00   \n",
       "4                Bihar       830702      43      818403   12256          0.01   \n",
       "\n",
       "   Discharge Ratio  Death Ratio  Population  \n",
       "0            98.72         1.28   100896618  \n",
       "1            99.36         0.63   128500364  \n",
       "2            99.54         0.46      658019  \n",
       "3            98.90         1.10      290492  \n",
       "4            98.52         1.48    40100376  "
      ]
     },
     "execution_count": 2,
     "metadata": {},
     "output_type": "execute_result"
    }
   ],
   "source": [
    "data.head()"
   ]
  },
  {
   "cell_type": "code",
   "execution_count": 3,
   "id": "33aab97a",
   "metadata": {
    "execution": {
     "iopub.execute_input": "2022-07-01T06:34:59.953139Z",
     "iopub.status.busy": "2022-07-01T06:34:59.935407Z",
     "iopub.status.idle": "2022-07-01T06:34:59.958668Z",
     "shell.execute_reply": "2022-07-01T06:34:59.958137Z",
     "shell.execute_reply.started": "2022-07-01T06:02:11.297889Z"
    },
    "papermill": {
     "duration": 0.043466,
     "end_time": "2022-07-01T06:34:59.958802",
     "exception": false,
     "start_time": "2022-07-01T06:34:59.915336",
     "status": "completed"
    },
    "tags": []
   },
   "outputs": [
    {
     "name": "stdout",
     "output_type": "stream",
     "text": [
      "<class 'pandas.core.frame.DataFrame'>\n",
      "RangeIndex: 36 entries, 0 to 35\n",
      "Data columns (total 9 columns):\n",
      " #   Column           Non-Null Count  Dtype  \n",
      "---  ------           --------------  -----  \n",
      " 0   State/UTs        36 non-null     object \n",
      " 1   Total Cases      36 non-null     int64  \n",
      " 2   Active           36 non-null     int64  \n",
      " 3   Discharged       36 non-null     int64  \n",
      " 4   Deaths           36 non-null     int64  \n",
      " 5   Active Ratio     36 non-null     float64\n",
      " 6   Discharge Ratio  36 non-null     float64\n",
      " 7   Death Ratio      36 non-null     float64\n",
      " 8   Population       36 non-null     int64  \n",
      "dtypes: float64(3), int64(5), object(1)\n",
      "memory usage: 2.7+ KB\n"
     ]
    }
   ],
   "source": [
    "data.info()"
   ]
  },
  {
   "cell_type": "code",
   "execution_count": 4,
   "id": "eec3cc3c",
   "metadata": {
    "execution": {
     "iopub.execute_input": "2022-07-01T06:34:59.998307Z",
     "iopub.status.busy": "2022-07-01T06:34:59.997605Z",
     "iopub.status.idle": "2022-07-01T06:35:00.004454Z",
     "shell.execute_reply": "2022-07-01T06:35:00.004976Z",
     "shell.execute_reply.started": "2022-07-01T06:02:32.537494Z"
    },
    "papermill": {
     "duration": 0.028152,
     "end_time": "2022-07-01T06:35:00.005129",
     "exception": false,
     "start_time": "2022-07-01T06:34:59.976977",
     "status": "completed"
    },
    "tags": []
   },
   "outputs": [
    {
     "data": {
      "text/plain": [
       "State/UTs          0\n",
       "Total Cases        0\n",
       "Active             0\n",
       "Discharged         0\n",
       "Deaths             0\n",
       "Active Ratio       0\n",
       "Discharge Ratio    0\n",
       "Death Ratio        0\n",
       "Population         0\n",
       "dtype: int64"
      ]
     },
     "execution_count": 4,
     "metadata": {},
     "output_type": "execute_result"
    }
   ],
   "source": [
    "data.isnull().sum()"
   ]
  },
  {
   "cell_type": "code",
   "execution_count": 5,
   "id": "52e0c407",
   "metadata": {
    "execution": {
     "iopub.execute_input": "2022-07-01T06:35:00.044594Z",
     "iopub.status.busy": "2022-07-01T06:35:00.044000Z",
     "iopub.status.idle": "2022-07-01T06:35:00.055082Z",
     "shell.execute_reply": "2022-07-01T06:35:00.054582Z",
     "shell.execute_reply.started": "2022-07-01T06:02:52.638516Z"
    },
    "papermill": {
     "duration": 0.031699,
     "end_time": "2022-07-01T06:35:00.055220",
     "exception": false,
     "start_time": "2022-07-01T06:35:00.023521",
     "status": "completed"
    },
    "tags": []
   },
   "outputs": [
    {
     "data": {
      "text/plain": [
       "0"
      ]
     },
     "execution_count": 5,
     "metadata": {},
     "output_type": "execute_result"
    }
   ],
   "source": [
    "data.duplicated().sum()"
   ]
  },
  {
   "cell_type": "code",
   "execution_count": 6,
   "id": "61219c34",
   "metadata": {
    "execution": {
     "iopub.execute_input": "2022-07-01T06:35:00.099740Z",
     "iopub.status.busy": "2022-07-01T06:35:00.098886Z",
     "iopub.status.idle": "2022-07-01T06:35:00.102548Z",
     "shell.execute_reply": "2022-07-01T06:35:00.102031Z",
     "shell.execute_reply.started": "2022-07-01T06:03:02.739067Z"
    },
    "papermill": {
     "duration": 0.026825,
     "end_time": "2022-07-01T06:35:00.102687",
     "exception": false,
     "start_time": "2022-07-01T06:35:00.075862",
     "status": "completed"
    },
    "tags": []
   },
   "outputs": [
    {
     "data": {
      "text/plain": [
       "(36, 9)"
      ]
     },
     "execution_count": 6,
     "metadata": {},
     "output_type": "execute_result"
    }
   ],
   "source": [
    "data.shape"
   ]
  },
  {
   "cell_type": "code",
   "execution_count": 7,
   "id": "5cbc7e40",
   "metadata": {
    "execution": {
     "iopub.execute_input": "2022-07-01T06:35:00.143912Z",
     "iopub.status.busy": "2022-07-01T06:35:00.143271Z",
     "iopub.status.idle": "2022-07-01T06:35:00.156447Z",
     "shell.execute_reply": "2022-07-01T06:35:00.155851Z",
     "shell.execute_reply.started": "2022-07-01T06:03:32.187582Z"
    },
    "papermill": {
     "duration": 0.034806,
     "end_time": "2022-07-01T06:35:00.156606",
     "exception": false,
     "start_time": "2022-07-01T06:35:00.121800",
     "status": "completed"
    },
    "tags": []
   },
   "outputs": [
    {
     "data": {
      "text/html": [
       "<div>\n",
       "<style scoped>\n",
       "    .dataframe tbody tr th:only-of-type {\n",
       "        vertical-align: middle;\n",
       "    }\n",
       "\n",
       "    .dataframe tbody tr th {\n",
       "        vertical-align: top;\n",
       "    }\n",
       "\n",
       "    .dataframe thead th {\n",
       "        text-align: right;\n",
       "    }\n",
       "</style>\n",
       "<table border=\"1\" class=\"dataframe\">\n",
       "  <thead>\n",
       "    <tr style=\"text-align: right;\">\n",
       "      <th></th>\n",
       "      <th>State/UTs</th>\n",
       "      <th>Total Cases</th>\n",
       "      <th>Active</th>\n",
       "      <th>Discharged</th>\n",
       "      <th>Deaths</th>\n",
       "      <th>Active Ratio</th>\n",
       "      <th>Discharge Ratio</th>\n",
       "      <th>Death Ratio</th>\n",
       "      <th>Population</th>\n",
       "    </tr>\n",
       "  </thead>\n",
       "  <tbody>\n",
       "    <tr>\n",
       "      <th>31</th>\n",
       "      <td>Telengana</td>\n",
       "      <td>792842</td>\n",
       "      <td>407</td>\n",
       "      <td>788324</td>\n",
       "      <td>4111</td>\n",
       "      <td>0.05</td>\n",
       "      <td>99.43</td>\n",
       "      <td>0.52</td>\n",
       "      <td>69599762</td>\n",
       "    </tr>\n",
       "    <tr>\n",
       "      <th>32</th>\n",
       "      <td>Tripura</td>\n",
       "      <td>100887</td>\n",
       "      <td>0</td>\n",
       "      <td>99964</td>\n",
       "      <td>923</td>\n",
       "      <td>0.00</td>\n",
       "      <td>99.09</td>\n",
       "      <td>0.91</td>\n",
       "      <td>1646050</td>\n",
       "    </tr>\n",
       "    <tr>\n",
       "      <th>33</th>\n",
       "      <td>Uttar Pradesh</td>\n",
       "      <td>2078519</td>\n",
       "      <td>874</td>\n",
       "      <td>2054127</td>\n",
       "      <td>23518</td>\n",
       "      <td>0.04</td>\n",
       "      <td>98.83</td>\n",
       "      <td>1.13</td>\n",
       "      <td>1158040</td>\n",
       "    </tr>\n",
       "    <tr>\n",
       "      <th>34</th>\n",
       "      <td>Uttarakhand</td>\n",
       "      <td>437789</td>\n",
       "      <td>477</td>\n",
       "      <td>429619</td>\n",
       "      <td>7693</td>\n",
       "      <td>0.11</td>\n",
       "      <td>98.13</td>\n",
       "      <td>1.76</td>\n",
       "      <td>85002417</td>\n",
       "    </tr>\n",
       "    <tr>\n",
       "      <th>35</th>\n",
       "      <td>West Bengal</td>\n",
       "      <td>2019058</td>\n",
       "      <td>378</td>\n",
       "      <td>1997477</td>\n",
       "      <td>21203</td>\n",
       "      <td>0.02</td>\n",
       "      <td>98.93</td>\n",
       "      <td>1.05</td>\n",
       "      <td>32199722</td>\n",
       "    </tr>\n",
       "  </tbody>\n",
       "</table>\n",
       "</div>"
      ],
      "text/plain": [
       "        State/UTs  Total Cases  Active  Discharged  Deaths  Active Ratio  \\\n",
       "31      Telengana       792842     407      788324    4111          0.05   \n",
       "32        Tripura       100887       0       99964     923          0.00   \n",
       "33  Uttar Pradesh      2078519     874     2054127   23518          0.04   \n",
       "34    Uttarakhand       437789     477      429619    7693          0.11   \n",
       "35    West Bengal      2019058     378     1997477   21203          0.02   \n",
       "\n",
       "    Discharge Ratio  Death Ratio  Population  \n",
       "31            99.43         0.52    69599762  \n",
       "32            99.09         0.91     1646050  \n",
       "33            98.83         1.13     1158040  \n",
       "34            98.13         1.76    85002417  \n",
       "35            98.93         1.05    32199722  "
      ]
     },
     "execution_count": 7,
     "metadata": {},
     "output_type": "execute_result"
    }
   ],
   "source": [
    "data.tail()"
   ]
  },
  {
   "cell_type": "code",
   "execution_count": 8,
   "id": "96c892e2",
   "metadata": {
    "execution": {
     "iopub.execute_input": "2022-07-01T06:35:00.200368Z",
     "iopub.status.busy": "2022-07-01T06:35:00.199755Z",
     "iopub.status.idle": "2022-07-01T06:35:00.204957Z",
     "shell.execute_reply": "2022-07-01T06:35:00.205547Z",
     "shell.execute_reply.started": "2022-07-01T06:04:11.377985Z"
    },
    "papermill": {
     "duration": 0.02814,
     "end_time": "2022-07-01T06:35:00.205707",
     "exception": false,
     "start_time": "2022-07-01T06:35:00.177567",
     "status": "completed"
    },
    "tags": []
   },
   "outputs": [
    {
     "data": {
      "text/plain": [
       "0    Andaman and Nicobar\n",
       "1         Andhra Pradesh\n",
       "2      Arunachal Pradesh\n",
       "3                  Assam\n",
       "4                  Bihar\n",
       "Name: State/UTs, dtype: object"
      ]
     },
     "execution_count": 8,
     "metadata": {},
     "output_type": "execute_result"
    }
   ],
   "source": [
    "data_cat=data['State/UTs']\n",
    "data_cat.head()"
   ]
  },
  {
   "cell_type": "code",
   "execution_count": 9,
   "id": "3741de3e",
   "metadata": {
    "execution": {
     "iopub.execute_input": "2022-07-01T06:35:00.257635Z",
     "iopub.status.busy": "2022-07-01T06:35:00.247644Z",
     "iopub.status.idle": "2022-07-01T06:35:00.267561Z",
     "shell.execute_reply": "2022-07-01T06:35:00.268069Z",
     "shell.execute_reply.started": "2022-07-01T06:08:34.057431Z"
    },
    "papermill": {
     "duration": 0.042803,
     "end_time": "2022-07-01T06:35:00.268227",
     "exception": false,
     "start_time": "2022-07-01T06:35:00.225424",
     "status": "completed"
    },
    "tags": []
   },
   "outputs": [
    {
     "data": {
      "text/html": [
       "<div>\n",
       "<style scoped>\n",
       "    .dataframe tbody tr th:only-of-type {\n",
       "        vertical-align: middle;\n",
       "    }\n",
       "\n",
       "    .dataframe tbody tr th {\n",
       "        vertical-align: top;\n",
       "    }\n",
       "\n",
       "    .dataframe thead th {\n",
       "        text-align: right;\n",
       "    }\n",
       "</style>\n",
       "<table border=\"1\" class=\"dataframe\">\n",
       "  <thead>\n",
       "    <tr style=\"text-align: right;\">\n",
       "      <th></th>\n",
       "      <th>Andhra Pradesh</th>\n",
       "      <th>Arunachal Pradesh</th>\n",
       "      <th>Assam</th>\n",
       "      <th>Bihar</th>\n",
       "      <th>Chandigarh</th>\n",
       "      <th>Chhattisgarh</th>\n",
       "      <th>Dadra and Nagar Haveli and Daman and Diu</th>\n",
       "      <th>Delhi</th>\n",
       "      <th>Goa</th>\n",
       "      <th>Gujarat</th>\n",
       "      <th>...</th>\n",
       "      <th>Puducherry</th>\n",
       "      <th>Punjab</th>\n",
       "      <th>Rajasthan</th>\n",
       "      <th>Sikkim</th>\n",
       "      <th>Tamil Nadu</th>\n",
       "      <th>Telengana</th>\n",
       "      <th>Tripura</th>\n",
       "      <th>Uttar Pradesh</th>\n",
       "      <th>Uttarakhand</th>\n",
       "      <th>West Bengal</th>\n",
       "    </tr>\n",
       "  </thead>\n",
       "  <tbody>\n",
       "    <tr>\n",
       "      <th>0</th>\n",
       "      <td>0</td>\n",
       "      <td>0</td>\n",
       "      <td>0</td>\n",
       "      <td>0</td>\n",
       "      <td>0</td>\n",
       "      <td>0</td>\n",
       "      <td>0</td>\n",
       "      <td>0</td>\n",
       "      <td>0</td>\n",
       "      <td>0</td>\n",
       "      <td>...</td>\n",
       "      <td>0</td>\n",
       "      <td>0</td>\n",
       "      <td>0</td>\n",
       "      <td>0</td>\n",
       "      <td>0</td>\n",
       "      <td>0</td>\n",
       "      <td>0</td>\n",
       "      <td>0</td>\n",
       "      <td>0</td>\n",
       "      <td>0</td>\n",
       "    </tr>\n",
       "    <tr>\n",
       "      <th>1</th>\n",
       "      <td>1</td>\n",
       "      <td>0</td>\n",
       "      <td>0</td>\n",
       "      <td>0</td>\n",
       "      <td>0</td>\n",
       "      <td>0</td>\n",
       "      <td>0</td>\n",
       "      <td>0</td>\n",
       "      <td>0</td>\n",
       "      <td>0</td>\n",
       "      <td>...</td>\n",
       "      <td>0</td>\n",
       "      <td>0</td>\n",
       "      <td>0</td>\n",
       "      <td>0</td>\n",
       "      <td>0</td>\n",
       "      <td>0</td>\n",
       "      <td>0</td>\n",
       "      <td>0</td>\n",
       "      <td>0</td>\n",
       "      <td>0</td>\n",
       "    </tr>\n",
       "    <tr>\n",
       "      <th>2</th>\n",
       "      <td>0</td>\n",
       "      <td>1</td>\n",
       "      <td>0</td>\n",
       "      <td>0</td>\n",
       "      <td>0</td>\n",
       "      <td>0</td>\n",
       "      <td>0</td>\n",
       "      <td>0</td>\n",
       "      <td>0</td>\n",
       "      <td>0</td>\n",
       "      <td>...</td>\n",
       "      <td>0</td>\n",
       "      <td>0</td>\n",
       "      <td>0</td>\n",
       "      <td>0</td>\n",
       "      <td>0</td>\n",
       "      <td>0</td>\n",
       "      <td>0</td>\n",
       "      <td>0</td>\n",
       "      <td>0</td>\n",
       "      <td>0</td>\n",
       "    </tr>\n",
       "    <tr>\n",
       "      <th>3</th>\n",
       "      <td>0</td>\n",
       "      <td>0</td>\n",
       "      <td>1</td>\n",
       "      <td>0</td>\n",
       "      <td>0</td>\n",
       "      <td>0</td>\n",
       "      <td>0</td>\n",
       "      <td>0</td>\n",
       "      <td>0</td>\n",
       "      <td>0</td>\n",
       "      <td>...</td>\n",
       "      <td>0</td>\n",
       "      <td>0</td>\n",
       "      <td>0</td>\n",
       "      <td>0</td>\n",
       "      <td>0</td>\n",
       "      <td>0</td>\n",
       "      <td>0</td>\n",
       "      <td>0</td>\n",
       "      <td>0</td>\n",
       "      <td>0</td>\n",
       "    </tr>\n",
       "    <tr>\n",
       "      <th>4</th>\n",
       "      <td>0</td>\n",
       "      <td>0</td>\n",
       "      <td>0</td>\n",
       "      <td>1</td>\n",
       "      <td>0</td>\n",
       "      <td>0</td>\n",
       "      <td>0</td>\n",
       "      <td>0</td>\n",
       "      <td>0</td>\n",
       "      <td>0</td>\n",
       "      <td>...</td>\n",
       "      <td>0</td>\n",
       "      <td>0</td>\n",
       "      <td>0</td>\n",
       "      <td>0</td>\n",
       "      <td>0</td>\n",
       "      <td>0</td>\n",
       "      <td>0</td>\n",
       "      <td>0</td>\n",
       "      <td>0</td>\n",
       "      <td>0</td>\n",
       "    </tr>\n",
       "  </tbody>\n",
       "</table>\n",
       "<p>5 rows × 35 columns</p>\n",
       "</div>"
      ],
      "text/plain": [
       "   Andhra Pradesh  Arunachal Pradesh  Assam  Bihar  Chandigarh  Chhattisgarh  \\\n",
       "0               0                  0      0      0           0             0   \n",
       "1               1                  0      0      0           0             0   \n",
       "2               0                  1      0      0           0             0   \n",
       "3               0                  0      1      0           0             0   \n",
       "4               0                  0      0      1           0             0   \n",
       "\n",
       "   Dadra and Nagar Haveli and Daman and Diu  Delhi  Goa  Gujarat  ...  \\\n",
       "0                                         0      0    0        0  ...   \n",
       "1                                         0      0    0        0  ...   \n",
       "2                                         0      0    0        0  ...   \n",
       "3                                         0      0    0        0  ...   \n",
       "4                                         0      0    0        0  ...   \n",
       "\n",
       "   Puducherry  Punjab  Rajasthan  Sikkim  Tamil Nadu  Telengana  Tripura  \\\n",
       "0           0       0          0       0           0          0        0   \n",
       "1           0       0          0       0           0          0        0   \n",
       "2           0       0          0       0           0          0        0   \n",
       "3           0       0          0       0           0          0        0   \n",
       "4           0       0          0       0           0          0        0   \n",
       "\n",
       "   Uttar Pradesh  Uttarakhand  West Bengal  \n",
       "0              0            0            0  \n",
       "1              0            0            0  \n",
       "2              0            0            0  \n",
       "3              0            0            0  \n",
       "4              0            0            0  \n",
       "\n",
       "[5 rows x 35 columns]"
      ]
     },
     "execution_count": 9,
     "metadata": {},
     "output_type": "execute_result"
    }
   ],
   "source": [
    "data_cat=pd.get_dummies(data_cat,drop_first=True)\n",
    "data_cat.head()"
   ]
  },
  {
   "cell_type": "code",
   "execution_count": 10,
   "id": "1a6b0f5d",
   "metadata": {
    "execution": {
     "iopub.execute_input": "2022-07-01T06:35:00.315382Z",
     "iopub.status.busy": "2022-07-01T06:35:00.314771Z",
     "iopub.status.idle": "2022-07-01T06:35:00.317507Z",
     "shell.execute_reply": "2022-07-01T06:35:00.318037Z",
     "shell.execute_reply.started": "2022-07-01T06:27:27.497597Z"
    },
    "papermill": {
     "duration": 0.029341,
     "end_time": "2022-07-01T06:35:00.318193",
     "exception": false,
     "start_time": "2022-07-01T06:35:00.288852",
     "status": "completed"
    },
    "tags": []
   },
   "outputs": [
    {
     "data": {
      "text/plain": [
       "(36, 35)"
      ]
     },
     "execution_count": 10,
     "metadata": {},
     "output_type": "execute_result"
    }
   ],
   "source": [
    "data_cat.shape"
   ]
  },
  {
   "cell_type": "code",
   "execution_count": 11,
   "id": "ac2575f0",
   "metadata": {
    "execution": {
     "iopub.execute_input": "2022-07-01T06:35:00.362721Z",
     "iopub.status.busy": "2022-07-01T06:35:00.362124Z",
     "iopub.status.idle": "2022-07-01T06:35:00.379418Z",
     "shell.execute_reply": "2022-07-01T06:35:00.379938Z",
     "shell.execute_reply.started": "2022-07-01T06:09:25.097551Z"
    },
    "papermill": {
     "duration": 0.041187,
     "end_time": "2022-07-01T06:35:00.380105",
     "exception": false,
     "start_time": "2022-07-01T06:35:00.338918",
     "status": "completed"
    },
    "tags": []
   },
   "outputs": [
    {
     "data": {
      "text/html": [
       "<div>\n",
       "<style scoped>\n",
       "    .dataframe tbody tr th:only-of-type {\n",
       "        vertical-align: middle;\n",
       "    }\n",
       "\n",
       "    .dataframe tbody tr th {\n",
       "        vertical-align: top;\n",
       "    }\n",
       "\n",
       "    .dataframe thead th {\n",
       "        text-align: right;\n",
       "    }\n",
       "</style>\n",
       "<table border=\"1\" class=\"dataframe\">\n",
       "  <thead>\n",
       "    <tr style=\"text-align: right;\">\n",
       "      <th></th>\n",
       "      <th>Total Cases</th>\n",
       "      <th>Active</th>\n",
       "      <th>Discharged</th>\n",
       "      <th>Deaths</th>\n",
       "      <th>Active Ratio</th>\n",
       "      <th>Discharge Ratio</th>\n",
       "      <th>Death Ratio</th>\n",
       "      <th>Population</th>\n",
       "    </tr>\n",
       "  </thead>\n",
       "  <tbody>\n",
       "    <tr>\n",
       "      <th>0</th>\n",
       "      <td>10039</td>\n",
       "      <td>0</td>\n",
       "      <td>9910</td>\n",
       "      <td>129</td>\n",
       "      <td>0.00</td>\n",
       "      <td>98.72</td>\n",
       "      <td>1.28</td>\n",
       "      <td>100896618</td>\n",
       "    </tr>\n",
       "    <tr>\n",
       "      <th>1</th>\n",
       "      <td>2319869</td>\n",
       "      <td>62</td>\n",
       "      <td>2305076</td>\n",
       "      <td>14731</td>\n",
       "      <td>0.00</td>\n",
       "      <td>99.36</td>\n",
       "      <td>0.63</td>\n",
       "      <td>128500364</td>\n",
       "    </tr>\n",
       "    <tr>\n",
       "      <th>2</th>\n",
       "      <td>64504</td>\n",
       "      <td>1</td>\n",
       "      <td>64207</td>\n",
       "      <td>296</td>\n",
       "      <td>0.00</td>\n",
       "      <td>99.54</td>\n",
       "      <td>0.46</td>\n",
       "      <td>658019</td>\n",
       "    </tr>\n",
       "    <tr>\n",
       "      <th>3</th>\n",
       "      <td>724225</td>\n",
       "      <td>4</td>\n",
       "      <td>716235</td>\n",
       "      <td>7986</td>\n",
       "      <td>0.00</td>\n",
       "      <td>98.90</td>\n",
       "      <td>1.10</td>\n",
       "      <td>290492</td>\n",
       "    </tr>\n",
       "    <tr>\n",
       "      <th>4</th>\n",
       "      <td>830702</td>\n",
       "      <td>43</td>\n",
       "      <td>818403</td>\n",
       "      <td>12256</td>\n",
       "      <td>0.01</td>\n",
       "      <td>98.52</td>\n",
       "      <td>1.48</td>\n",
       "      <td>40100376</td>\n",
       "    </tr>\n",
       "  </tbody>\n",
       "</table>\n",
       "</div>"
      ],
      "text/plain": [
       "   Total Cases  Active  Discharged  Deaths  Active Ratio  Discharge Ratio  \\\n",
       "0        10039       0        9910     129          0.00            98.72   \n",
       "1      2319869      62     2305076   14731          0.00            99.36   \n",
       "2        64504       1       64207     296          0.00            99.54   \n",
       "3       724225       4      716235    7986          0.00            98.90   \n",
       "4       830702      43      818403   12256          0.01            98.52   \n",
       "\n",
       "   Death Ratio  Population  \n",
       "0         1.28   100896618  \n",
       "1         0.63   128500364  \n",
       "2         0.46      658019  \n",
       "3         1.10      290492  \n",
       "4         1.48    40100376  "
      ]
     },
     "execution_count": 11,
     "metadata": {},
     "output_type": "execute_result"
    }
   ],
   "source": [
    "data_num=data.drop(columns='State/UTs',axis=1)\n",
    "data_num.head()"
   ]
  },
  {
   "cell_type": "code",
   "execution_count": 12,
   "id": "6eef6e7f",
   "metadata": {
    "execution": {
     "iopub.execute_input": "2022-07-01T06:35:00.428896Z",
     "iopub.status.busy": "2022-07-01T06:35:00.427837Z",
     "iopub.status.idle": "2022-07-01T06:35:03.340039Z",
     "shell.execute_reply": "2022-07-01T06:35:03.340533Z",
     "shell.execute_reply.started": "2022-07-01T06:11:47.577053Z"
    },
    "papermill": {
     "duration": 2.938357,
     "end_time": "2022-07-01T06:35:03.340703",
     "exception": false,
     "start_time": "2022-07-01T06:35:00.402346",
     "status": "completed"
    },
    "tags": []
   },
   "outputs": [
    {
     "data": {
      "image/png": "[encoded data removed]",
      "text/plain": [
       "<Figure size 1440x1800 with 8 Axes>"
      ]
     },
     "metadata": {
      "needs_background": "light"
     },
     "output_type": "display_data"
    }
   ],
   "source": [
    "from matplotlib import pyplot as plt\n",
    "import seaborn as sns\n",
    "import warnings\n",
    "warnings.filterwarnings('ignore')\n",
    "plt.figure(figsize=(20,25))\n",
    "for i, var in enumerate(data_num.columns):\n",
    "    plt.subplot(4,2,i+1)\n",
    "    sns.distplot(data_num[var])"
   ]
  },
  {
   "cell_type": "code",
   "execution_count": 13,
   "id": "dc18fc7b",
   "metadata": {
    "execution": {
     "iopub.execute_input": "2022-07-01T06:35:03.394226Z",
     "iopub.status.busy": "2022-07-01T06:35:03.393623Z",
     "iopub.status.idle": "2022-07-01T06:35:04.502308Z",
     "shell.execute_reply": "2022-07-01T06:35:04.501814Z",
     "shell.execute_reply.started": "2022-07-01T06:13:13.096287Z"
    },
    "papermill": {
     "duration": 1.136228,
     "end_time": "2022-07-01T06:35:04.502455",
     "exception": false,
     "start_time": "2022-07-01T06:35:03.366227",
     "status": "completed"
    },
    "tags": []
   },
   "outputs": [
    {
     "data": {
      "image/png": "[encoded data removed]",
      "text/plain": [
       "<Figure size 1440x1800 with 8 Axes>"
      ]
     },
     "metadata": {
      "needs_background": "light"
     },
     "output_type": "display_data"
    }
   ],
   "source": [
    "plt.figure(figsize=(20,25))\n",
    "for i, var in enumerate(data_num.columns):\n",
    "    plt.subplot(4,2,i+1)\n",
    "    sns.boxplot(data_num[var])"
   ]
  },
  {
   "cell_type": "code",
   "execution_count": 14,
   "id": "c401a380",
   "metadata": {
    "execution": {
     "iopub.execute_input": "2022-07-01T06:35:04.558658Z",
     "iopub.status.busy": "2022-07-01T06:35:04.558031Z",
     "iopub.status.idle": "2022-07-01T06:35:04.562324Z",
     "shell.execute_reply": "2022-07-01T06:35:04.562992Z",
     "shell.execute_reply.started": "2022-07-01T06:27:56.876988Z"
    },
    "papermill": {
     "duration": 0.03417,
     "end_time": "2022-07-01T06:35:04.563165",
     "exception": false,
     "start_time": "2022-07-01T06:35:04.528995",
     "status": "completed"
    },
    "tags": []
   },
   "outputs": [
    {
     "data": {
      "text/plain": [
       "(36, 8)"
      ]
     },
     "execution_count": 14,
     "metadata": {},
     "output_type": "execute_result"
    }
   ],
   "source": [
    "data_num.shape"
   ]
  },
  {
   "cell_type": "code",
   "execution_count": 15,
   "id": "a4c3bfd9",
   "metadata": {
    "execution": {
     "iopub.execute_input": "2022-07-01T06:35:04.620263Z",
     "iopub.status.busy": "2022-07-01T06:35:04.619650Z",
     "iopub.status.idle": "2022-07-01T06:35:04.645157Z",
     "shell.execute_reply": "2022-07-01T06:35:04.644535Z",
     "shell.execute_reply.started": "2022-07-01T06:29:44.077477Z"
    },
    "papermill": {
     "duration": 0.055362,
     "end_time": "2022-07-01T06:35:04.645290",
     "exception": false,
     "start_time": "2022-07-01T06:35:04.589928",
     "status": "completed"
    },
    "tags": []
   },
   "outputs": [
    {
     "data": {
      "text/html": [
       "<div>\n",
       "<style scoped>\n",
       "    .dataframe tbody tr th:only-of-type {\n",
       "        vertical-align: middle;\n",
       "    }\n",
       "\n",
       "    .dataframe tbody tr th {\n",
       "        vertical-align: top;\n",
       "    }\n",
       "\n",
       "    .dataframe thead th {\n",
       "        text-align: right;\n",
       "    }\n",
       "</style>\n",
       "<table border=\"1\" class=\"dataframe\">\n",
       "  <thead>\n",
       "    <tr style=\"text-align: right;\">\n",
       "      <th></th>\n",
       "      <th>Total Cases</th>\n",
       "      <th>Active</th>\n",
       "      <th>Discharged</th>\n",
       "      <th>Deaths</th>\n",
       "      <th>Active Ratio</th>\n",
       "      <th>Discharge Ratio</th>\n",
       "      <th>Death Ratio</th>\n",
       "      <th>Population</th>\n",
       "      <th>Andhra Pradesh</th>\n",
       "      <th>Arunachal Pradesh</th>\n",
       "      <th>...</th>\n",
       "      <th>Puducherry</th>\n",
       "      <th>Punjab</th>\n",
       "      <th>Rajasthan</th>\n",
       "      <th>Sikkim</th>\n",
       "      <th>Tamil Nadu</th>\n",
       "      <th>Telengana</th>\n",
       "      <th>Tripura</th>\n",
       "      <th>Uttar Pradesh</th>\n",
       "      <th>Uttarakhand</th>\n",
       "      <th>West Bengal</th>\n",
       "    </tr>\n",
       "  </thead>\n",
       "  <tbody>\n",
       "    <tr>\n",
       "      <th>0</th>\n",
       "      <td>10039</td>\n",
       "      <td>0</td>\n",
       "      <td>9910</td>\n",
       "      <td>129</td>\n",
       "      <td>0.00</td>\n",
       "      <td>98.72</td>\n",
       "      <td>1.28</td>\n",
       "      <td>100896618</td>\n",
       "      <td>0</td>\n",
       "      <td>0</td>\n",
       "      <td>...</td>\n",
       "      <td>0</td>\n",
       "      <td>0</td>\n",
       "      <td>0</td>\n",
       "      <td>0</td>\n",
       "      <td>0</td>\n",
       "      <td>0</td>\n",
       "      <td>0</td>\n",
       "      <td>0</td>\n",
       "      <td>0</td>\n",
       "      <td>0</td>\n",
       "    </tr>\n",
       "    <tr>\n",
       "      <th>1</th>\n",
       "      <td>2319869</td>\n",
       "      <td>62</td>\n",
       "      <td>2305076</td>\n",
       "      <td>14731</td>\n",
       "      <td>0.00</td>\n",
       "      <td>99.36</td>\n",
       "      <td>0.63</td>\n",
       "      <td>128500364</td>\n",
       "      <td>1</td>\n",
       "      <td>0</td>\n",
       "      <td>...</td>\n",
       "      <td>0</td>\n",
       "      <td>0</td>\n",
       "      <td>0</td>\n",
       "      <td>0</td>\n",
       "      <td>0</td>\n",
       "      <td>0</td>\n",
       "      <td>0</td>\n",
       "      <td>0</td>\n",
       "      <td>0</td>\n",
       "      <td>0</td>\n",
       "    </tr>\n",
       "    <tr>\n",
       "      <th>2</th>\n",
       "      <td>64504</td>\n",
       "      <td>1</td>\n",
       "      <td>64207</td>\n",
       "      <td>296</td>\n",
       "      <td>0.00</td>\n",
       "      <td>99.54</td>\n",
       "      <td>0.46</td>\n",
       "      <td>658019</td>\n",
       "      <td>0</td>\n",
       "      <td>1</td>\n",
       "      <td>...</td>\n",
       "      <td>0</td>\n",
       "      <td>0</td>\n",
       "      <td>0</td>\n",
       "      <td>0</td>\n",
       "      <td>0</td>\n",
       "      <td>0</td>\n",
       "      <td>0</td>\n",
       "      <td>0</td>\n",
       "      <td>0</td>\n",
       "      <td>0</td>\n",
       "    </tr>\n",
       "    <tr>\n",
       "      <th>3</th>\n",
       "      <td>724225</td>\n",
       "      <td>4</td>\n",
       "      <td>716235</td>\n",
       "      <td>7986</td>\n",
       "      <td>0.00</td>\n",
       "      <td>98.90</td>\n",
       "      <td>1.10</td>\n",
       "      <td>290492</td>\n",
       "      <td>0</td>\n",
       "      <td>0</td>\n",
       "      <td>...</td>\n",
       "      <td>0</td>\n",
       "      <td>0</td>\n",
       "      <td>0</td>\n",
       "      <td>0</td>\n",
       "      <td>0</td>\n",
       "      <td>0</td>\n",
       "      <td>0</td>\n",
       "      <td>0</td>\n",
       "      <td>0</td>\n",
       "      <td>0</td>\n",
       "    </tr>\n",
       "    <tr>\n",
       "      <th>4</th>\n",
       "      <td>830702</td>\n",
       "      <td>43</td>\n",
       "      <td>818403</td>\n",
       "      <td>12256</td>\n",
       "      <td>0.01</td>\n",
       "      <td>98.52</td>\n",
       "      <td>1.48</td>\n",
       "      <td>40100376</td>\n",
       "      <td>0</td>\n",
       "      <td>0</td>\n",
       "      <td>...</td>\n",
       "      <td>0</td>\n",
       "      <td>0</td>\n",
       "      <td>0</td>\n",
       "      <td>0</td>\n",
       "      <td>0</td>\n",
       "      <td>0</td>\n",
       "      <td>0</td>\n",
       "      <td>0</td>\n",
       "      <td>0</td>\n",
       "      <td>0</td>\n",
       "    </tr>\n",
       "  </tbody>\n",
       "</table>\n",
       "<p>5 rows × 43 columns</p>\n",
       "</div>"
      ],
      "text/plain": [
       "   Total Cases  Active  Discharged  Deaths  Active Ratio  Discharge Ratio  \\\n",
       "0        10039       0        9910     129          0.00            98.72   \n",
       "1      2319869      62     2305076   14731          0.00            99.36   \n",
       "2        64504       1       64207     296          0.00            99.54   \n",
       "3       724225       4      716235    7986          0.00            98.90   \n",
       "4       830702      43      818403   12256          0.01            98.52   \n",
       "\n",
       "   Death Ratio  Population  Andhra Pradesh  Arunachal Pradesh  ...  \\\n",
       "0         1.28   100896618               0                  0  ...   \n",
       "1         0.63   128500364               1                  0  ...   \n",
       "2         0.46      658019               0                  1  ...   \n",
       "3         1.10      290492               0                  0  ...   \n",
       "4         1.48    40100376               0                  0  ...   \n",
       "\n",
       "   Puducherry  Punjab  Rajasthan  Sikkim  Tamil Nadu  Telengana  Tripura  \\\n",
       "0           0       0          0       0           0          0        0   \n",
       "1           0       0          0       0           0          0        0   \n",
       "2           0       0          0       0           0          0        0   \n",
       "3           0       0          0       0           0          0        0   \n",
       "4           0       0          0       0           0          0        0   \n",
       "\n",
       "   Uttar Pradesh  Uttarakhand  West Bengal  \n",
       "0              0            0            0  \n",
       "1              0            0            0  \n",
       "2              0            0            0  \n",
       "3              0            0            0  \n",
       "4              0            0            0  \n",
       "\n",
       "[5 rows x 43 columns]"
      ]
     },
     "execution_count": 15,
     "metadata": {},
     "output_type": "execute_result"
    }
   ],
   "source": [
    "df=pd.merge(data_num,data_cat,right_index=True,left_index=True)\n",
    "df.head()"
   ]
  },
  {
   "cell_type": "code",
   "execution_count": 16,
   "id": "fcf3220e",
   "metadata": {
    "execution": {
     "iopub.execute_input": "2022-07-01T06:35:04.703237Z",
     "iopub.status.busy": "2022-07-01T06:35:04.702611Z",
     "iopub.status.idle": "2022-07-01T06:35:04.707404Z",
     "shell.execute_reply": "2022-07-01T06:35:04.707982Z",
     "shell.execute_reply.started": "2022-07-01T06:30:33.777536Z"
    },
    "papermill": {
     "duration": 0.035862,
     "end_time": "2022-07-01T06:35:04.708143",
     "exception": false,
     "start_time": "2022-07-01T06:35:04.672281",
     "status": "completed"
    },
    "tags": []
   },
   "outputs": [],
   "source": [
    "x=df.drop(columns='Deaths',axis=1)\n",
    "y=df['Deaths']"
   ]
  },
  {
   "cell_type": "code",
   "execution_count": 17,
   "id": "27065041",
   "metadata": {
    "execution": {
     "iopub.execute_input": "2022-07-01T06:35:04.767157Z",
     "iopub.status.busy": "2022-07-01T06:35:04.766448Z",
     "iopub.status.idle": "2022-07-01T06:35:04.948846Z",
     "shell.execute_reply": "2022-07-01T06:35:04.948026Z",
     "shell.execute_reply.started": "2022-07-01T06:31:39.536489Z"
    },
    "papermill": {
     "duration": 0.213512,
     "end_time": "2022-07-01T06:35:04.949049",
     "exception": false,
     "start_time": "2022-07-01T06:35:04.735537",
     "status": "completed"
    },
    "tags": []
   },
   "outputs": [],
   "source": [
    "from sklearn.model_selection import train_test_split\n",
    "x_train,x_test,y_train,y_test=train_test_split(x,y,test_size=0.20)"
   ]
  },
  {
   "cell_type": "code",
   "execution_count": 18,
   "id": "5da7d293",
   "metadata": {
    "execution": {
     "iopub.execute_input": "2022-07-01T06:35:05.008379Z",
     "iopub.status.busy": "2022-07-01T06:35:05.007769Z",
     "iopub.status.idle": "2022-07-01T06:35:05.183989Z",
     "shell.execute_reply": "2022-07-01T06:35:05.184572Z",
     "shell.execute_reply.started": "2022-07-01T06:32:25.107687Z"
    },
    "papermill": {
     "duration": 0.207559,
     "end_time": "2022-07-01T06:35:05.184735",
     "exception": false,
     "start_time": "2022-07-01T06:35:04.977176",
     "status": "completed"
    },
    "tags": []
   },
   "outputs": [
    {
     "data": {
      "text/plain": [
       "XGBRegressor(base_score=0.5, booster='gbtree', colsample_bylevel=1,\n",
       "             colsample_bynode=1, colsample_bytree=1, gamma=0, gpu_id=-1,\n",
       "             importance_type='gain', interaction_constraints='',\n",
       "             learning_rate=0.300000012, max_delta_step=0, max_depth=6,\n",
       "             min_child_weight=1, missing=nan, monotone_constraints='()',\n",
       "             n_estimators=100, n_jobs=4, num_parallel_tree=1, random_state=0,\n",
       "             reg_alpha=0, reg_lambda=1, scale_pos_weight=1, subsample=1,\n",
       "             tree_method='exact', validate_parameters=1, verbosity=None)"
      ]
     },
     "execution_count": 18,
     "metadata": {},
     "output_type": "execute_result"
    }
   ],
   "source": [
    "from xgboost import XGBRegressor\n",
    "xgb=XGBRegressor()\n",
    "xgb.fit(x_train,y_train)"
   ]
  },
  {
   "cell_type": "code",
   "execution_count": 19,
   "id": "0ec2e188",
   "metadata": {
    "execution": {
     "iopub.execute_input": "2022-07-01T06:35:05.242679Z",
     "iopub.status.busy": "2022-07-01T06:35:05.242079Z",
     "iopub.status.idle": "2022-07-01T06:35:05.251353Z",
     "shell.execute_reply": "2022-07-01T06:35:05.251876Z",
     "shell.execute_reply.started": "2022-07-01T06:32:47.297521Z"
    },
    "papermill": {
     "duration": 0.04002,
     "end_time": "2022-07-01T06:35:05.252081",
     "exception": false,
     "start_time": "2022-07-01T06:35:05.212061",
     "status": "completed"
    },
    "tags": []
   },
   "outputs": [
    {
     "data": {
      "text/plain": [
       "array([22607.814 , 11002.269 , 11326.304 ,  1211.8274,  1251.7542,\n",
       "        7924.3447, 41093.434 , 22758.898 ], dtype=float32)"
      ]
     },
     "execution_count": 19,
     "metadata": {},
     "output_type": "execute_result"
    }
   ],
   "source": [
    "y_pred=xgb.predict(x_test)\n",
    "y_pred"
   ]
  },
  {
   "cell_type": "code",
   "execution_count": 20,
   "id": "964aaf0e",
   "metadata": {
    "execution": {
     "iopub.execute_input": "2022-07-01T06:35:05.316249Z",
     "iopub.status.busy": "2022-07-01T06:35:05.315591Z",
     "iopub.status.idle": "2022-07-01T06:35:05.318829Z",
     "shell.execute_reply": "2022-07-01T06:35:05.319402Z",
     "shell.execute_reply.started": "2022-07-01T06:34:06.456935Z"
    },
    "papermill": {
     "duration": 0.037832,
     "end_time": "2022-07-01T06:35:05.319578",
     "exception": false,
     "start_time": "2022-07-01T06:35:05.281746",
     "status": "completed"
    },
    "tags": []
   },
   "outputs": [
    {
     "data": {
      "text/plain": [
       "1230.716552734375"
      ]
     },
     "execution_count": 20,
     "metadata": {},
     "output_type": "execute_result"
    }
   ],
   "source": [
    "from sklearn.metrics import r2_score,mean_absolute_error\n",
    "mean_absolute_error(y_test,y_pred)"
   ]
  },
  {
   "cell_type": "code",
   "execution_count": null,
   "id": "d4aa9027",
   "metadata": {
    "papermill": {
     "duration": 0.028033,
     "end_time": "2022-07-01T06:35:05.376004",
     "exception": false,
     "start_time": "2022-07-01T06:35:05.347971",
     "status": "completed"
    },
    "tags": []
   },
   "outputs": [],
   "source": []
  }
 ],
 "metadata": {
  "kernelspec": {
   "display_name": "Python 3",
   "language": "python",
   "name": "python3"
  },
  "language_info": {
   "codemirror_mode": {
    "name": "ipython",
    "version": 3
   },
   "file_extension": ".py",
   "mimetype": "text/x-python",
   "name": "python",
   "nbconvert_exporter": "python",
   "pygments_lexer": "ipython3",
   "version": "3.7.10"
  },
  "papermill": {
   "default_parameters": {},
   "duration": 14.589192,
   "end_time": "2022-07-01T06:35:06.113802",
   "environment_variables": {},
   "exception": null,
   "input_path": "__notebook__.ipynb",
   "output_path": "__notebook__.ipynb",
   "parameters": {},
   "start_time": "2022-07-01T06:34:51.524610",
   "version": "2.3.3"
  }
 },
 "nbformat": 4,
 "nbformat_minor": 5
}
