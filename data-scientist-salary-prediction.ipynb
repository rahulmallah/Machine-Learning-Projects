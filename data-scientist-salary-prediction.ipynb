{
 "cells": [
  {
   "cell_type": "code",
   "execution_count": 1,
   "id": "f7fd20b0",
   "metadata": {
    "execution": {
     "iopub.execute_input": "2022-07-03T15:29:36.820660Z",
     "iopub.status.busy": "2022-07-03T15:29:36.820266Z",
     "iopub.status.idle": "2022-07-03T15:29:36.842715Z",
     "shell.execute_reply": "2022-07-03T15:29:36.841850Z"
    },
    "papermill": {
     "duration": 0.042706,
     "end_time": "2022-07-03T15:29:36.844999",
     "exception": false,
     "start_time": "2022-07-03T15:29:36.802293",
     "status": "completed"
    },
    "tags": []
   },
   "outputs": [],
   "source": [
    "import pandas as pd\n",
    "data=pd.read_csv('../input/data-science-job-salaries/ds_salaries.csv')"
   ]
  },
  {
   "cell_type": "code",
   "execution_count": 2,
   "id": "c319c337",
   "metadata": {
    "execution": {
     "iopub.execute_input": "2022-07-03T15:29:36.876952Z",
     "iopub.status.busy": "2022-07-03T15:29:36.876705Z",
     "iopub.status.idle": "2022-07-03T15:29:36.896537Z",
     "shell.execute_reply": "2022-07-03T15:29:36.895570Z"
    },
    "papermill": {
     "duration": 0.038496,
     "end_time": "2022-07-03T15:29:36.899354",
     "exception": false,
     "start_time": "2022-07-03T15:29:36.860858",
     "status": "completed"
    },
    "tags": []
   },
   "outputs": [
    {
     "data": {
      "text/html": [
       "<div>\n",
       "<style scoped>\n",
       "    .dataframe tbody tr th:only-of-type {\n",
       "        vertical-align: middle;\n",
       "    }\n",
       "\n",
       "    .dataframe tbody tr th {\n",
       "        vertical-align: top;\n",
       "    }\n",
       "\n",
       "    .dataframe thead th {\n",
       "        text-align: right;\n",
       "    }\n",
       "</style>\n",
       "<table border=\"1\" class=\"dataframe\">\n",
       "  <thead>\n",
       "    <tr style=\"text-align: right;\">\n",
       "      <th></th>\n",
       "      <th>Unnamed: 0</th>\n",
       "      <th>work_year</th>\n",
       "      <th>experience_level</th>\n",
       "      <th>employment_type</th>\n",
       "      <th>job_title</th>\n",
       "      <th>salary</th>\n",
       "      <th>salary_currency</th>\n",
       "      <th>salary_in_usd</th>\n",
       "      <th>employee_residence</th>\n",
       "      <th>remote_ratio</th>\n",
       "      <th>company_location</th>\n",
       "      <th>company_size</th>\n",
       "    </tr>\n",
       "  </thead>\n",
       "  <tbody>\n",
       "    <tr>\n",
       "      <th>0</th>\n",
       "      <td>0</td>\n",
       "      <td>2020</td>\n",
       "      <td>MI</td>\n",
       "      <td>FT</td>\n",
       "      <td>Data Scientist</td>\n",
       "      <td>70000</td>\n",
       "      <td>EUR</td>\n",
       "      <td>79833</td>\n",
       "      <td>DE</td>\n",
       "      <td>0</td>\n",
       "      <td>DE</td>\n",
       "      <td>L</td>\n",
       "    </tr>\n",
       "    <tr>\n",
       "      <th>1</th>\n",
       "      <td>1</td>\n",
       "      <td>2020</td>\n",
       "      <td>SE</td>\n",
       "      <td>FT</td>\n",
       "      <td>Machine Learning Scientist</td>\n",
       "      <td>260000</td>\n",
       "      <td>USD</td>\n",
       "      <td>260000</td>\n",
       "      <td>JP</td>\n",
       "      <td>0</td>\n",
       "      <td>JP</td>\n",
       "      <td>S</td>\n",
       "    </tr>\n",
       "    <tr>\n",
       "      <th>2</th>\n",
       "      <td>2</td>\n",
       "      <td>2020</td>\n",
       "      <td>SE</td>\n",
       "      <td>FT</td>\n",
       "      <td>Big Data Engineer</td>\n",
       "      <td>85000</td>\n",
       "      <td>GBP</td>\n",
       "      <td>109024</td>\n",
       "      <td>GB</td>\n",
       "      <td>50</td>\n",
       "      <td>GB</td>\n",
       "      <td>M</td>\n",
       "    </tr>\n",
       "    <tr>\n",
       "      <th>3</th>\n",
       "      <td>3</td>\n",
       "      <td>2020</td>\n",
       "      <td>MI</td>\n",
       "      <td>FT</td>\n",
       "      <td>Product Data Analyst</td>\n",
       "      <td>20000</td>\n",
       "      <td>USD</td>\n",
       "      <td>20000</td>\n",
       "      <td>HN</td>\n",
       "      <td>0</td>\n",
       "      <td>HN</td>\n",
       "      <td>S</td>\n",
       "    </tr>\n",
       "    <tr>\n",
       "      <th>4</th>\n",
       "      <td>4</td>\n",
       "      <td>2020</td>\n",
       "      <td>SE</td>\n",
       "      <td>FT</td>\n",
       "      <td>Machine Learning Engineer</td>\n",
       "      <td>150000</td>\n",
       "      <td>USD</td>\n",
       "      <td>150000</td>\n",
       "      <td>US</td>\n",
       "      <td>50</td>\n",
       "      <td>US</td>\n",
       "      <td>L</td>\n",
       "    </tr>\n",
       "  </tbody>\n",
       "</table>\n",
       "</div>"
      ],
      "text/plain": [
       "   Unnamed: 0  work_year experience_level employment_type  \\\n",
       "0           0       2020               MI              FT   \n",
       "1           1       2020               SE              FT   \n",
       "2           2       2020               SE              FT   \n",
       "3           3       2020               MI              FT   \n",
       "4           4       2020               SE              FT   \n",
       "\n",
       "                    job_title  salary salary_currency  salary_in_usd  \\\n",
       "0              Data Scientist   70000             EUR          79833   \n",
       "1  Machine Learning Scientist  260000             USD         260000   \n",
       "2           Big Data Engineer   85000             GBP         109024   \n",
       "3        Product Data Analyst   20000             USD          20000   \n",
       "4   Machine Learning Engineer  150000             USD         150000   \n",
       "\n",
       "  employee_residence  remote_ratio company_location company_size  \n",
       "0                 DE             0               DE            L  \n",
       "1                 JP             0               JP            S  \n",
       "2                 GB            50               GB            M  \n",
       "3                 HN             0               HN            S  \n",
       "4                 US            50               US            L  "
      ]
     },
     "execution_count": 2,
     "metadata": {},
     "output_type": "execute_result"
    }
   ],
   "source": [
    "data.head()"
   ]
  },
  {
   "cell_type": "code",
   "execution_count": 3,
   "id": "db0f29f5",
   "metadata": {
    "execution": {
     "iopub.execute_input": "2022-07-03T15:29:36.933043Z",
     "iopub.status.busy": "2022-07-03T15:29:36.932759Z",
     "iopub.status.idle": "2022-07-03T15:29:36.950493Z",
     "shell.execute_reply": "2022-07-03T15:29:36.949526Z"
    },
    "papermill": {
     "duration": 0.036002,
     "end_time": "2022-07-03T15:29:36.952740",
     "exception": false,
     "start_time": "2022-07-03T15:29:36.916738",
     "status": "completed"
    },
    "tags": []
   },
   "outputs": [
    {
     "data": {
      "text/html": [
       "<div>\n",
       "<style scoped>\n",
       "    .dataframe tbody tr th:only-of-type {\n",
       "        vertical-align: middle;\n",
       "    }\n",
       "\n",
       "    .dataframe tbody tr th {\n",
       "        vertical-align: top;\n",
       "    }\n",
       "\n",
       "    .dataframe thead th {\n",
       "        text-align: right;\n",
       "    }\n",
       "</style>\n",
       "<table border=\"1\" class=\"dataframe\">\n",
       "  <thead>\n",
       "    <tr style=\"text-align: right;\">\n",
       "      <th></th>\n",
       "      <th>work_year</th>\n",
       "      <th>experience_level</th>\n",
       "      <th>employment_type</th>\n",
       "      <th>job_title</th>\n",
       "      <th>salary</th>\n",
       "      <th>salary_currency</th>\n",
       "      <th>salary_in_usd</th>\n",
       "      <th>employee_residence</th>\n",
       "      <th>remote_ratio</th>\n",
       "      <th>company_location</th>\n",
       "      <th>company_size</th>\n",
       "    </tr>\n",
       "  </thead>\n",
       "  <tbody>\n",
       "    <tr>\n",
       "      <th>0</th>\n",
       "      <td>2020</td>\n",
       "      <td>MI</td>\n",
       "      <td>FT</td>\n",
       "      <td>Data Scientist</td>\n",
       "      <td>70000</td>\n",
       "      <td>EUR</td>\n",
       "      <td>79833</td>\n",
       "      <td>DE</td>\n",
       "      <td>0</td>\n",
       "      <td>DE</td>\n",
       "      <td>L</td>\n",
       "    </tr>\n",
       "  </tbody>\n",
       "</table>\n",
       "</div>"
      ],
      "text/plain": [
       "   work_year experience_level employment_type       job_title  salary  \\\n",
       "0       2020               MI              FT  Data Scientist   70000   \n",
       "\n",
       "  salary_currency  salary_in_usd employee_residence  remote_ratio  \\\n",
       "0             EUR          79833                 DE             0   \n",
       "\n",
       "  company_location company_size  \n",
       "0               DE            L  "
      ]
     },
     "execution_count": 3,
     "metadata": {},
     "output_type": "execute_result"
    }
   ],
   "source": [
    "data=data.drop(columns='Unnamed: 0',axis=1)\n",
    "data.head(1)"
   ]
  },
  {
   "cell_type": "code",
   "execution_count": 4,
   "id": "2e787418",
   "metadata": {
    "execution": {
     "iopub.execute_input": "2022-07-03T15:29:36.984879Z",
     "iopub.status.busy": "2022-07-03T15:29:36.984636Z",
     "iopub.status.idle": "2022-07-03T15:29:36.990053Z",
     "shell.execute_reply": "2022-07-03T15:29:36.989132Z"
    },
    "papermill": {
     "duration": 0.023724,
     "end_time": "2022-07-03T15:29:36.992027",
     "exception": false,
     "start_time": "2022-07-03T15:29:36.968303",
     "status": "completed"
    },
    "tags": []
   },
   "outputs": [
    {
     "data": {
      "text/plain": [
       "(607, 11)"
      ]
     },
     "execution_count": 4,
     "metadata": {},
     "output_type": "execute_result"
    }
   ],
   "source": [
    "data.shape"
   ]
  },
  {
   "cell_type": "code",
   "execution_count": 5,
   "id": "a1a1d269",
   "metadata": {
    "execution": {
     "iopub.execute_input": "2022-07-03T15:29:37.024221Z",
     "iopub.status.busy": "2022-07-03T15:29:37.023965Z",
     "iopub.status.idle": "2022-07-03T15:29:37.042748Z",
     "shell.execute_reply": "2022-07-03T15:29:37.041192Z"
    },
    "papermill": {
     "duration": 0.037504,
     "end_time": "2022-07-03T15:29:37.045151",
     "exception": false,
     "start_time": "2022-07-03T15:29:37.007647",
     "status": "completed"
    },
    "tags": []
   },
   "outputs": [
    {
     "name": "stdout",
     "output_type": "stream",
     "text": [
      "<class 'pandas.core.frame.DataFrame'>\n",
      "RangeIndex: 607 entries, 0 to 606\n",
      "Data columns (total 11 columns):\n",
      " #   Column              Non-Null Count  Dtype \n",
      "---  ------              --------------  ----- \n",
      " 0   work_year           607 non-null    int64 \n",
      " 1   experience_level    607 non-null    object\n",
      " 2   employment_type     607 non-null    object\n",
      " 3   job_title           607 non-null    object\n",
      " 4   salary              607 non-null    int64 \n",
      " 5   salary_currency     607 non-null    object\n",
      " 6   salary_in_usd       607 non-null    int64 \n",
      " 7   employee_residence  607 non-null    object\n",
      " 8   remote_ratio        607 non-null    int64 \n",
      " 9   company_location    607 non-null    object\n",
      " 10  company_size        607 non-null    object\n",
      "dtypes: int64(4), object(7)\n",
      "memory usage: 52.3+ KB\n"
     ]
    }
   ],
   "source": [
    "data.info()"
   ]
  },
  {
   "cell_type": "code",
   "execution_count": 6,
   "id": "54c177ba",
   "metadata": {
    "execution": {
     "iopub.execute_input": "2022-07-03T15:29:37.077817Z",
     "iopub.status.busy": "2022-07-03T15:29:37.077575Z",
     "iopub.status.idle": "2022-07-03T15:29:37.100574Z",
     "shell.execute_reply": "2022-07-03T15:29:37.099586Z"
    },
    "papermill": {
     "duration": 0.042006,
     "end_time": "2022-07-03T15:29:37.102705",
     "exception": false,
     "start_time": "2022-07-03T15:29:37.060699",
     "status": "completed"
    },
    "tags": []
   },
   "outputs": [
    {
     "data": {
      "text/html": [
       "<div>\n",
       "<style scoped>\n",
       "    .dataframe tbody tr th:only-of-type {\n",
       "        vertical-align: middle;\n",
       "    }\n",
       "\n",
       "    .dataframe tbody tr th {\n",
       "        vertical-align: top;\n",
       "    }\n",
       "\n",
       "    .dataframe thead th {\n",
       "        text-align: right;\n",
       "    }\n",
       "</style>\n",
       "<table border=\"1\" class=\"dataframe\">\n",
       "  <thead>\n",
       "    <tr style=\"text-align: right;\">\n",
       "      <th></th>\n",
       "      <th>work_year</th>\n",
       "      <th>salary</th>\n",
       "      <th>salary_in_usd</th>\n",
       "      <th>remote_ratio</th>\n",
       "    </tr>\n",
       "  </thead>\n",
       "  <tbody>\n",
       "    <tr>\n",
       "      <th>count</th>\n",
       "      <td>607.00</td>\n",
       "      <td>607.00</td>\n",
       "      <td>607.00</td>\n",
       "      <td>607.00</td>\n",
       "    </tr>\n",
       "    <tr>\n",
       "      <th>mean</th>\n",
       "      <td>2021.41</td>\n",
       "      <td>324000.06</td>\n",
       "      <td>112297.87</td>\n",
       "      <td>70.92</td>\n",
       "    </tr>\n",
       "    <tr>\n",
       "      <th>std</th>\n",
       "      <td>0.69</td>\n",
       "      <td>1544357.49</td>\n",
       "      <td>70957.26</td>\n",
       "      <td>40.71</td>\n",
       "    </tr>\n",
       "    <tr>\n",
       "      <th>min</th>\n",
       "      <td>2020.00</td>\n",
       "      <td>4000.00</td>\n",
       "      <td>2859.00</td>\n",
       "      <td>0.00</td>\n",
       "    </tr>\n",
       "    <tr>\n",
       "      <th>25%</th>\n",
       "      <td>2021.00</td>\n",
       "      <td>70000.00</td>\n",
       "      <td>62726.00</td>\n",
       "      <td>50.00</td>\n",
       "    </tr>\n",
       "    <tr>\n",
       "      <th>50%</th>\n",
       "      <td>2022.00</td>\n",
       "      <td>115000.00</td>\n",
       "      <td>101570.00</td>\n",
       "      <td>100.00</td>\n",
       "    </tr>\n",
       "    <tr>\n",
       "      <th>75%</th>\n",
       "      <td>2022.00</td>\n",
       "      <td>165000.00</td>\n",
       "      <td>150000.00</td>\n",
       "      <td>100.00</td>\n",
       "    </tr>\n",
       "    <tr>\n",
       "      <th>max</th>\n",
       "      <td>2022.00</td>\n",
       "      <td>30400000.00</td>\n",
       "      <td>600000.00</td>\n",
       "      <td>100.00</td>\n",
       "    </tr>\n",
       "  </tbody>\n",
       "</table>\n",
       "</div>"
      ],
      "text/plain": [
       "       work_year       salary  salary_in_usd  remote_ratio\n",
       "count     607.00       607.00         607.00        607.00\n",
       "mean     2021.41    324000.06      112297.87         70.92\n",
       "std         0.69   1544357.49       70957.26         40.71\n",
       "min      2020.00      4000.00        2859.00          0.00\n",
       "25%      2021.00     70000.00       62726.00         50.00\n",
       "50%      2022.00    115000.00      101570.00        100.00\n",
       "75%      2022.00    165000.00      150000.00        100.00\n",
       "max      2022.00  30400000.00      600000.00        100.00"
      ]
     },
     "execution_count": 6,
     "metadata": {},
     "output_type": "execute_result"
    }
   ],
   "source": [
    "data.describe().round(2)"
   ]
  },
  {
   "cell_type": "code",
   "execution_count": 7,
   "id": "dc56f2c5",
   "metadata": {
    "execution": {
     "iopub.execute_input": "2022-07-03T15:29:37.135727Z",
     "iopub.status.busy": "2022-07-03T15:29:37.135472Z",
     "iopub.status.idle": "2022-07-03T15:29:37.143651Z",
     "shell.execute_reply": "2022-07-03T15:29:37.142507Z"
    },
    "papermill": {
     "duration": 0.026865,
     "end_time": "2022-07-03T15:29:37.145684",
     "exception": false,
     "start_time": "2022-07-03T15:29:37.118819",
     "status": "completed"
    },
    "tags": []
   },
   "outputs": [
    {
     "data": {
      "text/plain": [
       "work_year             0\n",
       "experience_level      0\n",
       "employment_type       0\n",
       "job_title             0\n",
       "salary                0\n",
       "salary_currency       0\n",
       "salary_in_usd         0\n",
       "employee_residence    0\n",
       "remote_ratio          0\n",
       "company_location      0\n",
       "company_size          0\n",
       "dtype: int64"
      ]
     },
     "execution_count": 7,
     "metadata": {},
     "output_type": "execute_result"
    }
   ],
   "source": [
    "data.isna().sum()"
   ]
  },
  {
   "cell_type": "code",
   "execution_count": 8,
   "id": "46234919",
   "metadata": {
    "execution": {
     "iopub.execute_input": "2022-07-03T15:29:37.178443Z",
     "iopub.status.busy": "2022-07-03T15:29:37.178200Z",
     "iopub.status.idle": "2022-07-03T15:29:37.189319Z",
     "shell.execute_reply": "2022-07-03T15:29:37.188319Z"
    },
    "papermill": {
     "duration": 0.030333,
     "end_time": "2022-07-03T15:29:37.191818",
     "exception": false,
     "start_time": "2022-07-03T15:29:37.161485",
     "status": "completed"
    },
    "tags": []
   },
   "outputs": [
    {
     "data": {
      "text/html": [
       "<div>\n",
       "<style scoped>\n",
       "    .dataframe tbody tr th:only-of-type {\n",
       "        vertical-align: middle;\n",
       "    }\n",
       "\n",
       "    .dataframe tbody tr th {\n",
       "        vertical-align: top;\n",
       "    }\n",
       "\n",
       "    .dataframe thead th {\n",
       "        text-align: right;\n",
       "    }\n",
       "</style>\n",
       "<table border=\"1\" class=\"dataframe\">\n",
       "  <thead>\n",
       "    <tr style=\"text-align: right;\">\n",
       "      <th></th>\n",
       "      <th>work_year</th>\n",
       "      <th>salary</th>\n",
       "      <th>salary_in_usd</th>\n",
       "      <th>remote_ratio</th>\n",
       "    </tr>\n",
       "  </thead>\n",
       "  <tbody>\n",
       "    <tr>\n",
       "      <th>work_year</th>\n",
       "      <td>1.000000</td>\n",
       "      <td>-0.087577</td>\n",
       "      <td>0.170493</td>\n",
       "      <td>0.076314</td>\n",
       "    </tr>\n",
       "    <tr>\n",
       "      <th>salary</th>\n",
       "      <td>-0.087577</td>\n",
       "      <td>1.000000</td>\n",
       "      <td>-0.083906</td>\n",
       "      <td>-0.014608</td>\n",
       "    </tr>\n",
       "    <tr>\n",
       "      <th>salary_in_usd</th>\n",
       "      <td>0.170493</td>\n",
       "      <td>-0.083906</td>\n",
       "      <td>1.000000</td>\n",
       "      <td>0.132122</td>\n",
       "    </tr>\n",
       "    <tr>\n",
       "      <th>remote_ratio</th>\n",
       "      <td>0.076314</td>\n",
       "      <td>-0.014608</td>\n",
       "      <td>0.132122</td>\n",
       "      <td>1.000000</td>\n",
       "    </tr>\n",
       "  </tbody>\n",
       "</table>\n",
       "</div>"
      ],
      "text/plain": [
       "               work_year    salary  salary_in_usd  remote_ratio\n",
       "work_year       1.000000 -0.087577       0.170493      0.076314\n",
       "salary         -0.087577  1.000000      -0.083906     -0.014608\n",
       "salary_in_usd   0.170493 -0.083906       1.000000      0.132122\n",
       "remote_ratio    0.076314 -0.014608       0.132122      1.000000"
      ]
     },
     "execution_count": 8,
     "metadata": {},
     "output_type": "execute_result"
    }
   ],
   "source": [
    "data.corr()"
   ]
  },
  {
   "cell_type": "code",
   "execution_count": 9,
   "id": "3c9ef374",
   "metadata": {
    "execution": {
     "iopub.execute_input": "2022-07-03T15:29:37.225327Z",
     "iopub.status.busy": "2022-07-03T15:29:37.225060Z",
     "iopub.status.idle": "2022-07-03T15:29:37.237472Z",
     "shell.execute_reply": "2022-07-03T15:29:37.236432Z"
    },
    "papermill": {
     "duration": 0.031419,
     "end_time": "2022-07-03T15:29:37.239636",
     "exception": false,
     "start_time": "2022-07-03T15:29:37.208217",
     "status": "completed"
    },
    "tags": []
   },
   "outputs": [
    {
     "data": {
      "text/html": [
       "<div>\n",
       "<style scoped>\n",
       "    .dataframe tbody tr th:only-of-type {\n",
       "        vertical-align: middle;\n",
       "    }\n",
       "\n",
       "    .dataframe tbody tr th {\n",
       "        vertical-align: top;\n",
       "    }\n",
       "\n",
       "    .dataframe thead th {\n",
       "        text-align: right;\n",
       "    }\n",
       "</style>\n",
       "<table border=\"1\" class=\"dataframe\">\n",
       "  <thead>\n",
       "    <tr style=\"text-align: right;\">\n",
       "      <th></th>\n",
       "      <th>work_year</th>\n",
       "      <th>experience_level</th>\n",
       "      <th>employment_type</th>\n",
       "      <th>job_title</th>\n",
       "      <th>salary</th>\n",
       "      <th>salary_currency</th>\n",
       "      <th>salary_in_usd</th>\n",
       "      <th>employee_residence</th>\n",
       "      <th>remote_ratio</th>\n",
       "      <th>company_location</th>\n",
       "      <th>company_size</th>\n",
       "    </tr>\n",
       "  </thead>\n",
       "  <tbody>\n",
       "    <tr>\n",
       "      <th>0</th>\n",
       "      <td>2020</td>\n",
       "      <td>MI</td>\n",
       "      <td>FT</td>\n",
       "      <td>Data Scientist</td>\n",
       "      <td>70000</td>\n",
       "      <td>EUR</td>\n",
       "      <td>79833</td>\n",
       "      <td>DE</td>\n",
       "      <td>0</td>\n",
       "      <td>DE</td>\n",
       "      <td>L</td>\n",
       "    </tr>\n",
       "  </tbody>\n",
       "</table>\n",
       "</div>"
      ],
      "text/plain": [
       "   work_year experience_level employment_type       job_title  salary  \\\n",
       "0       2020               MI              FT  Data Scientist   70000   \n",
       "\n",
       "  salary_currency  salary_in_usd employee_residence  remote_ratio  \\\n",
       "0             EUR          79833                 DE             0   \n",
       "\n",
       "  company_location company_size  \n",
       "0               DE            L  "
      ]
     },
     "execution_count": 9,
     "metadata": {},
     "output_type": "execute_result"
    }
   ],
   "source": [
    "data.head(1)"
   ]
  },
  {
   "cell_type": "code",
   "execution_count": 10,
   "id": "a5683029",
   "metadata": {
    "execution": {
     "iopub.execute_input": "2022-07-03T15:29:37.274288Z",
     "iopub.status.busy": "2022-07-03T15:29:37.273409Z",
     "iopub.status.idle": "2022-07-03T15:29:38.215970Z",
     "shell.execute_reply": "2022-07-03T15:29:38.214763Z"
    },
    "papermill": {
     "duration": 0.965999,
     "end_time": "2022-07-03T15:29:38.222285",
     "exception": false,
     "start_time": "2022-07-03T15:29:37.256286",
     "status": "completed"
    },
    "tags": []
   },
   "outputs": [],
   "source": [
    "from matplotlib import pyplot as plt\n",
    "import seaborn as sns\n",
    "import numpy as np"
   ]
  },
  {
   "cell_type": "code",
   "execution_count": 11,
   "id": "8dca2ab7",
   "metadata": {
    "execution": {
     "iopub.execute_input": "2022-07-03T15:29:38.277833Z",
     "iopub.status.busy": "2022-07-03T15:29:38.276926Z",
     "iopub.status.idle": "2022-07-03T15:29:38.447042Z",
     "shell.execute_reply": "2022-07-03T15:29:38.446183Z"
    },
    "papermill": {
     "duration": 0.198072,
     "end_time": "2022-07-03T15:29:38.448978",
     "exception": false,
     "start_time": "2022-07-03T15:29:38.250906",
     "status": "completed"
    },
    "tags": []
   },
   "outputs": [
    {
     "data": {
      "image/png": "[encoded data removed]",
      "text/plain": [
       "<Figure size 432x288 with 1 Axes>"
      ]
     },
     "metadata": {
      "needs_background": "light"
     },
     "output_type": "display_data"
    }
   ],
   "source": [
    "import warnings\n",
    "warnings.filterwarnings('ignore')\n",
    "sns.countplot(data['work_year'])\n",
    "plt.show()"
   ]
  },
  {
   "cell_type": "code",
   "execution_count": 12,
   "id": "d317930f",
   "metadata": {
    "execution": {
     "iopub.execute_input": "2022-07-03T15:29:38.484260Z",
     "iopub.status.busy": "2022-07-03T15:29:38.483322Z",
     "iopub.status.idle": "2022-07-03T15:29:38.625562Z",
     "shell.execute_reply": "2022-07-03T15:29:38.624573Z"
    },
    "papermill": {
     "duration": 0.162156,
     "end_time": "2022-07-03T15:29:38.627949",
     "exception": false,
     "start_time": "2022-07-03T15:29:38.465793",
     "status": "completed"
    },
    "tags": []
   },
   "outputs": [
    {
     "data": {
      "image/png": "[encoded data removed]",
      "text/plain": [
       "<Figure size 432x288 with 1 Axes>"
      ]
     },
     "metadata": {
      "needs_background": "light"
     },
     "output_type": "display_data"
    }
   ],
   "source": [
    "sns.countplot(data['experience_level'])\n",
    "plt.show()"
   ]
  },
  {
   "cell_type": "code",
   "execution_count": 13,
   "id": "d72f4c6b",
   "metadata": {
    "execution": {
     "iopub.execute_input": "2022-07-03T15:29:38.670641Z",
     "iopub.status.busy": "2022-07-03T15:29:38.670367Z",
     "iopub.status.idle": "2022-07-03T15:29:38.815459Z",
     "shell.execute_reply": "2022-07-03T15:29:38.814462Z"
    },
    "papermill": {
     "duration": 0.165934,
     "end_time": "2022-07-03T15:29:38.818373",
     "exception": false,
     "start_time": "2022-07-03T15:29:38.652439",
     "status": "completed"
    },
    "tags": []
   },
   "outputs": [
    {
     "data": {
      "image/png": "[encoded data removed]",
      "text/plain": [
       "<Figure size 432x288 with 1 Axes>"
      ]
     },
     "metadata": {
      "needs_background": "light"
     },
     "output_type": "display_data"
    }
   ],
   "source": [
    "sns.countplot(data['employment_type'])\n",
    "plt.show()"
   ]
  },
  {
   "cell_type": "code",
   "execution_count": 14,
   "id": "3a368afe",
   "metadata": {
    "execution": {
     "iopub.execute_input": "2022-07-03T15:29:38.860782Z",
     "iopub.status.busy": "2022-07-03T15:29:38.860513Z",
     "iopub.status.idle": "2022-07-03T15:29:38.868224Z",
     "shell.execute_reply": "2022-07-03T15:29:38.867329Z"
    },
    "papermill": {
     "duration": 0.028417,
     "end_time": "2022-07-03T15:29:38.870194",
     "exception": false,
     "start_time": "2022-07-03T15:29:38.841777",
     "status": "completed"
    },
    "tags": []
   },
   "outputs": [
    {
     "data": {
      "text/plain": [
       "Data Scientist                              143\n",
       "Data Engineer                               132\n",
       "Data Analyst                                 97\n",
       "Machine Learning Engineer                    41\n",
       "Research Scientist                           16\n",
       "Data Science Manager                         12\n",
       "Data Architect                               11\n",
       "Big Data Engineer                             8\n",
       "Machine Learning Scientist                    8\n",
       "Principal Data Scientist                      7\n",
       "AI Scientist                                  7\n",
       "Data Science Consultant                       7\n",
       "Director of Data Science                      7\n",
       "Data Analytics Manager                        7\n",
       "ML Engineer                                   6\n",
       "Computer Vision Engineer                      6\n",
       "BI Data Analyst                               6\n",
       "Lead Data Engineer                            6\n",
       "Data Engineering Manager                      5\n",
       "Business Data Analyst                         5\n",
       "Head of Data                                  5\n",
       "Applied Data Scientist                        5\n",
       "Applied Machine Learning Scientist            4\n",
       "Head of Data Science                          4\n",
       "Analytics Engineer                            4\n",
       "Data Analytics Engineer                       4\n",
       "Machine Learning Developer                    3\n",
       "Machine Learning Infrastructure Engineer      3\n",
       "Lead Data Scientist                           3\n",
       "Computer Vision Software Engineer             3\n",
       "Lead Data Analyst                             3\n",
       "Data Science Engineer                         3\n",
       "Principal Data Engineer                       3\n",
       "Principal Data Analyst                        2\n",
       "ETL Developer                                 2\n",
       "Product Data Analyst                          2\n",
       "Director of Data Engineering                  2\n",
       "Financial Data Analyst                        2\n",
       "Cloud Data Engineer                           2\n",
       "Lead Machine Learning Engineer                1\n",
       "NLP Engineer                                  1\n",
       "Head of Machine Learning                      1\n",
       "3D Computer Vision Researcher                 1\n",
       "Data Specialist                               1\n",
       "Staff Data Scientist                          1\n",
       "Big Data Architect                            1\n",
       "Finance Data Analyst                          1\n",
       "Marketing Data Analyst                        1\n",
       "Machine Learning Manager                      1\n",
       "Data Analytics Lead                           1\n",
       "Name: job_title, dtype: int64"
      ]
     },
     "execution_count": 14,
     "metadata": {},
     "output_type": "execute_result"
    }
   ],
   "source": [
    "data['job_title'].value_counts()"
   ]
  },
  {
   "cell_type": "code",
   "execution_count": 15,
   "id": "03028e44",
   "metadata": {
    "execution": {
     "iopub.execute_input": "2022-07-03T15:29:38.907195Z",
     "iopub.status.busy": "2022-07-03T15:29:38.905756Z",
     "iopub.status.idle": "2022-07-03T15:29:40.020884Z",
     "shell.execute_reply": "2022-07-03T15:29:40.019931Z"
    },
    "papermill": {
     "duration": 1.137673,
     "end_time": "2022-07-03T15:29:40.025269",
     "exception": false,
     "start_time": "2022-07-03T15:29:38.887596",
     "status": "completed"
    },
    "tags": []
   },
   "outputs": [
    {
     "data": {
      "image/png": "[encoded data removed]",
      "text/plain": [
       "<Figure size 1440x1440 with 1 Axes>"
      ]
     },
     "metadata": {
      "needs_background": "light"
     },
     "output_type": "display_data"
    }
   ],
   "source": [
    "plt.figure(figsize=(20,20))\n",
    "sns.countplot(data['job_title'])\n",
    "plt.xticks(rotation=60)\n",
    "plt.show()"
   ]
  },
  {
   "cell_type": "code",
   "execution_count": 16,
   "id": "5ae3078a",
   "metadata": {
    "execution": {
     "iopub.execute_input": "2022-07-03T15:29:40.096724Z",
     "iopub.status.busy": "2022-07-03T15:29:40.096361Z",
     "iopub.status.idle": "2022-07-03T15:29:40.106972Z",
     "shell.execute_reply": "2022-07-03T15:29:40.106083Z"
    },
    "papermill": {
     "duration": 0.048651,
     "end_time": "2022-07-03T15:29:40.109923",
     "exception": false,
     "start_time": "2022-07-03T15:29:40.061272",
     "status": "completed"
    },
    "tags": []
   },
   "outputs": [
    {
     "data": {
      "text/plain": [
       "USD    398\n",
       "EUR     95\n",
       "GBP     44\n",
       "INR     27\n",
       "CAD     18\n",
       "JPY      3\n",
       "PLN      3\n",
       "TRY      3\n",
       "CNY      2\n",
       "MXN      2\n",
       "HUF      2\n",
       "DKK      2\n",
       "SGD      2\n",
       "BRL      2\n",
       "AUD      2\n",
       "CLP      1\n",
       "CHF      1\n",
       "Name: salary_currency, dtype: int64"
      ]
     },
     "execution_count": 16,
     "metadata": {},
     "output_type": "execute_result"
    }
   ],
   "source": [
    "data['salary_currency'].value_counts()"
   ]
  },
  {
   "cell_type": "code",
   "execution_count": 17,
   "id": "a38bf69c",
   "metadata": {
    "execution": {
     "iopub.execute_input": "2022-07-03T15:29:40.170730Z",
     "iopub.status.busy": "2022-07-03T15:29:40.170427Z",
     "iopub.status.idle": "2022-07-03T15:29:40.407155Z",
     "shell.execute_reply": "2022-07-03T15:29:40.406139Z"
    },
    "papermill": {
     "duration": 0.261809,
     "end_time": "2022-07-03T15:29:40.409179",
     "exception": false,
     "start_time": "2022-07-03T15:29:40.147370",
     "status": "completed"
    },
    "tags": []
   },
   "outputs": [
    {
     "data": {
      "image/png": "[encoded data removed]",
      "text/plain": [
       "<Figure size 432x288 with 1 Axes>"
      ]
     },
     "metadata": {
      "needs_background": "light"
     },
     "output_type": "display_data"
    }
   ],
   "source": [
    "sns.countplot(data['salary_currency'])\n",
    "plt.xticks(rotation=45)\n",
    "plt.show()"
   ]
  },
  {
   "cell_type": "code",
   "execution_count": 18,
   "id": "21aa0ab7",
   "metadata": {
    "execution": {
     "iopub.execute_input": "2022-07-03T15:29:40.450830Z",
     "iopub.status.busy": "2022-07-03T15:29:40.449406Z",
     "iopub.status.idle": "2022-07-03T15:29:40.462880Z",
     "shell.execute_reply": "2022-07-03T15:29:40.461921Z"
    },
    "papermill": {
     "duration": 0.036198,
     "end_time": "2022-07-03T15:29:40.465004",
     "exception": false,
     "start_time": "2022-07-03T15:29:40.428806",
     "status": "completed"
    },
    "tags": []
   },
   "outputs": [
    {
     "data": {
      "text/html": [
       "<div>\n",
       "<style scoped>\n",
       "    .dataframe tbody tr th:only-of-type {\n",
       "        vertical-align: middle;\n",
       "    }\n",
       "\n",
       "    .dataframe tbody tr th {\n",
       "        vertical-align: top;\n",
       "    }\n",
       "\n",
       "    .dataframe thead th {\n",
       "        text-align: right;\n",
       "    }\n",
       "</style>\n",
       "<table border=\"1\" class=\"dataframe\">\n",
       "  <thead>\n",
       "    <tr style=\"text-align: right;\">\n",
       "      <th></th>\n",
       "      <th>work_year</th>\n",
       "      <th>experience_level</th>\n",
       "      <th>employment_type</th>\n",
       "      <th>job_title</th>\n",
       "      <th>salary</th>\n",
       "      <th>salary_currency</th>\n",
       "      <th>salary_in_usd</th>\n",
       "      <th>employee_residence</th>\n",
       "      <th>remote_ratio</th>\n",
       "      <th>company_location</th>\n",
       "      <th>company_size</th>\n",
       "    </tr>\n",
       "  </thead>\n",
       "  <tbody>\n",
       "    <tr>\n",
       "      <th>606</th>\n",
       "      <td>2022</td>\n",
       "      <td>MI</td>\n",
       "      <td>FT</td>\n",
       "      <td>AI Scientist</td>\n",
       "      <td>200000</td>\n",
       "      <td>USD</td>\n",
       "      <td>200000</td>\n",
       "      <td>IN</td>\n",
       "      <td>100</td>\n",
       "      <td>US</td>\n",
       "      <td>L</td>\n",
       "    </tr>\n",
       "  </tbody>\n",
       "</table>\n",
       "</div>"
      ],
      "text/plain": [
       "     work_year experience_level employment_type     job_title  salary  \\\n",
       "606       2022               MI              FT  AI Scientist  200000   \n",
       "\n",
       "    salary_currency  salary_in_usd employee_residence  remote_ratio  \\\n",
       "606             USD         200000                 IN           100   \n",
       "\n",
       "    company_location company_size  \n",
       "606               US            L  "
      ]
     },
     "execution_count": 18,
     "metadata": {},
     "output_type": "execute_result"
    }
   ],
   "source": [
    "data.tail(1)"
   ]
  },
  {
   "cell_type": "code",
   "execution_count": 19,
   "id": "ccec53dd",
   "metadata": {
    "execution": {
     "iopub.execute_input": "2022-07-03T15:29:40.504725Z",
     "iopub.status.busy": "2022-07-03T15:29:40.504002Z",
     "iopub.status.idle": "2022-07-03T15:29:40.510561Z",
     "shell.execute_reply": "2022-07-03T15:29:40.509605Z"
    },
    "papermill": {
     "duration": 0.028466,
     "end_time": "2022-07-03T15:29:40.512660",
     "exception": false,
     "start_time": "2022-07-03T15:29:40.484194",
     "status": "completed"
    },
    "tags": []
   },
   "outputs": [
    {
     "data": {
      "text/plain": [
       "57"
      ]
     },
     "execution_count": 19,
     "metadata": {},
     "output_type": "execute_result"
    }
   ],
   "source": [
    "data['employee_residence'].nunique()"
   ]
  },
  {
   "cell_type": "code",
   "execution_count": 20,
   "id": "4904a44e",
   "metadata": {
    "execution": {
     "iopub.execute_input": "2022-07-03T15:29:40.552199Z",
     "iopub.status.busy": "2022-07-03T15:29:40.551934Z",
     "iopub.status.idle": "2022-07-03T15:29:41.220978Z",
     "shell.execute_reply": "2022-07-03T15:29:41.220056Z"
    },
    "papermill": {
     "duration": 0.691108,
     "end_time": "2022-07-03T15:29:41.223063",
     "exception": false,
     "start_time": "2022-07-03T15:29:40.531955",
     "status": "completed"
    },
    "tags": []
   },
   "outputs": [
    {
     "data": {
      "image/png": "[encoded data removed]",
      "text/plain": [
       "<Figure size 1800x1800 with 1 Axes>"
      ]
     },
     "metadata": {
      "needs_background": "light"
     },
     "output_type": "display_data"
    }
   ],
   "source": [
    "plt.figure(figsize=(25,25))\n",
    "sns.countplot(data['employee_residence'])\n",
    "plt.xticks(rotation=79)\n",
    "plt.show()"
   ]
  },
  {
   "cell_type": "code",
   "execution_count": 21,
   "id": "e55dd2b0",
   "metadata": {
    "execution": {
     "iopub.execute_input": "2022-07-03T15:29:41.265503Z",
     "iopub.status.busy": "2022-07-03T15:29:41.263896Z",
     "iopub.status.idle": "2022-07-03T15:29:41.491538Z",
     "shell.execute_reply": "2022-07-03T15:29:41.490513Z"
    },
    "papermill": {
     "duration": 0.250215,
     "end_time": "2022-07-03T15:29:41.493746",
     "exception": false,
     "start_time": "2022-07-03T15:29:41.243531",
     "status": "completed"
    },
    "tags": []
   },
   "outputs": [
    {
     "data": {
      "image/png": "[encoded data removed]",
      "text/plain": [
       "<Figure size 432x288 with 1 Axes>"
      ]
     },
     "metadata": {
      "needs_background": "light"
     },
     "output_type": "display_data"
    }
   ],
   "source": [
    "sns.distplot(data['salary'],color='olive',bins=30)\n",
    "plt.show()"
   ]
  },
  {
   "cell_type": "code",
   "execution_count": 22,
   "id": "b1ca7827",
   "metadata": {
    "execution": {
     "iopub.execute_input": "2022-07-03T15:29:41.535770Z",
     "iopub.status.busy": "2022-07-03T15:29:41.535499Z",
     "iopub.status.idle": "2022-07-03T15:29:41.548024Z",
     "shell.execute_reply": "2022-07-03T15:29:41.547137Z"
    },
    "papermill": {
     "duration": 0.035111,
     "end_time": "2022-07-03T15:29:41.549870",
     "exception": false,
     "start_time": "2022-07-03T15:29:41.514759",
     "status": "completed"
    },
    "tags": []
   },
   "outputs": [
    {
     "data": {
      "text/html": [
       "<div>\n",
       "<style scoped>\n",
       "    .dataframe tbody tr th:only-of-type {\n",
       "        vertical-align: middle;\n",
       "    }\n",
       "\n",
       "    .dataframe tbody tr th {\n",
       "        vertical-align: top;\n",
       "    }\n",
       "\n",
       "    .dataframe thead th {\n",
       "        text-align: right;\n",
       "    }\n",
       "</style>\n",
       "<table border=\"1\" class=\"dataframe\">\n",
       "  <thead>\n",
       "    <tr style=\"text-align: right;\">\n",
       "      <th></th>\n",
       "      <th>work_year</th>\n",
       "      <th>experience_level</th>\n",
       "      <th>employment_type</th>\n",
       "      <th>job_title</th>\n",
       "      <th>salary</th>\n",
       "      <th>salary_currency</th>\n",
       "      <th>salary_in_usd</th>\n",
       "      <th>employee_residence</th>\n",
       "      <th>remote_ratio</th>\n",
       "      <th>company_location</th>\n",
       "      <th>company_size</th>\n",
       "    </tr>\n",
       "  </thead>\n",
       "  <tbody>\n",
       "    <tr>\n",
       "      <th>0</th>\n",
       "      <td>2020</td>\n",
       "      <td>MI</td>\n",
       "      <td>FT</td>\n",
       "      <td>Data Scientist</td>\n",
       "      <td>70000</td>\n",
       "      <td>EUR</td>\n",
       "      <td>79833</td>\n",
       "      <td>DE</td>\n",
       "      <td>0</td>\n",
       "      <td>DE</td>\n",
       "      <td>L</td>\n",
       "    </tr>\n",
       "  </tbody>\n",
       "</table>\n",
       "</div>"
      ],
      "text/plain": [
       "   work_year experience_level employment_type       job_title  salary  \\\n",
       "0       2020               MI              FT  Data Scientist   70000   \n",
       "\n",
       "  salary_currency  salary_in_usd employee_residence  remote_ratio  \\\n",
       "0             EUR          79833                 DE             0   \n",
       "\n",
       "  company_location company_size  \n",
       "0               DE            L  "
      ]
     },
     "execution_count": 22,
     "metadata": {},
     "output_type": "execute_result"
    }
   ],
   "source": [
    "data.head(1)"
   ]
  },
  {
   "cell_type": "code",
   "execution_count": 23,
   "id": "34ea9b42",
   "metadata": {
    "execution": {
     "iopub.execute_input": "2022-07-03T15:29:41.591233Z",
     "iopub.status.busy": "2022-07-03T15:29:41.590452Z",
     "iopub.status.idle": "2022-07-03T15:29:41.598761Z",
     "shell.execute_reply": "2022-07-03T15:29:41.597969Z"
    },
    "papermill": {
     "duration": 0.030913,
     "end_time": "2022-07-03T15:29:41.600700",
     "exception": false,
     "start_time": "2022-07-03T15:29:41.569787",
     "status": "completed"
    },
    "tags": []
   },
   "outputs": [
    {
     "data": {
      "text/plain": [
       "SE    280\n",
       "MI    213\n",
       "EN     88\n",
       "EX     26\n",
       "Name: experience_level, dtype: int64"
      ]
     },
     "execution_count": 23,
     "metadata": {},
     "output_type": "execute_result"
    }
   ],
   "source": [
    "data['experience_level'].value_counts()"
   ]
  },
  {
   "cell_type": "code",
   "execution_count": 24,
   "id": "2335fcbf",
   "metadata": {
    "execution": {
     "iopub.execute_input": "2022-07-03T15:29:41.642153Z",
     "iopub.status.busy": "2022-07-03T15:29:41.641887Z",
     "iopub.status.idle": "2022-07-03T15:29:41.648224Z",
     "shell.execute_reply": "2022-07-03T15:29:41.647363Z"
    },
    "papermill": {
     "duration": 0.029819,
     "end_time": "2022-07-03T15:29:41.650287",
     "exception": false,
     "start_time": "2022-07-03T15:29:41.620468",
     "status": "completed"
    },
    "tags": []
   },
   "outputs": [
    {
     "data": {
      "text/plain": [
       "50"
      ]
     },
     "execution_count": 24,
     "metadata": {},
     "output_type": "execute_result"
    }
   ],
   "source": [
    "data['job_title'].nunique()"
   ]
  },
  {
   "cell_type": "code",
   "execution_count": 25,
   "id": "509219b0",
   "metadata": {
    "execution": {
     "iopub.execute_input": "2022-07-03T15:29:41.691759Z",
     "iopub.status.busy": "2022-07-03T15:29:41.690983Z",
     "iopub.status.idle": "2022-07-03T15:29:41.699291Z",
     "shell.execute_reply": "2022-07-03T15:29:41.698379Z"
    },
    "papermill": {
     "duration": 0.030918,
     "end_time": "2022-07-03T15:29:41.701195",
     "exception": false,
     "start_time": "2022-07-03T15:29:41.670277",
     "status": "completed"
    },
    "tags": []
   },
   "outputs": [
    {
     "data": {
      "text/plain": [
       "Data Scientist                              143\n",
       "Data Engineer                               132\n",
       "Data Analyst                                 97\n",
       "Machine Learning Engineer                    41\n",
       "Research Scientist                           16\n",
       "Data Science Manager                         12\n",
       "Data Architect                               11\n",
       "Big Data Engineer                             8\n",
       "Machine Learning Scientist                    8\n",
       "Principal Data Scientist                      7\n",
       "AI Scientist                                  7\n",
       "Data Science Consultant                       7\n",
       "Director of Data Science                      7\n",
       "Data Analytics Manager                        7\n",
       "ML Engineer                                   6\n",
       "Computer Vision Engineer                      6\n",
       "BI Data Analyst                               6\n",
       "Lead Data Engineer                            6\n",
       "Data Engineering Manager                      5\n",
       "Business Data Analyst                         5\n",
       "Head of Data                                  5\n",
       "Applied Data Scientist                        5\n",
       "Applied Machine Learning Scientist            4\n",
       "Head of Data Science                          4\n",
       "Analytics Engineer                            4\n",
       "Data Analytics Engineer                       4\n",
       "Machine Learning Developer                    3\n",
       "Machine Learning Infrastructure Engineer      3\n",
       "Lead Data Scientist                           3\n",
       "Computer Vision Software Engineer             3\n",
       "Lead Data Analyst                             3\n",
       "Data Science Engineer                         3\n",
       "Principal Data Engineer                       3\n",
       "Principal Data Analyst                        2\n",
       "ETL Developer                                 2\n",
       "Product Data Analyst                          2\n",
       "Director of Data Engineering                  2\n",
       "Financial Data Analyst                        2\n",
       "Cloud Data Engineer                           2\n",
       "Lead Machine Learning Engineer                1\n",
       "NLP Engineer                                  1\n",
       "Head of Machine Learning                      1\n",
       "3D Computer Vision Researcher                 1\n",
       "Data Specialist                               1\n",
       "Staff Data Scientist                          1\n",
       "Big Data Architect                            1\n",
       "Finance Data Analyst                          1\n",
       "Marketing Data Analyst                        1\n",
       "Machine Learning Manager                      1\n",
       "Data Analytics Lead                           1\n",
       "Name: job_title, dtype: int64"
      ]
     },
     "execution_count": 25,
     "metadata": {},
     "output_type": "execute_result"
    }
   ],
   "source": [
    "counts1=data['job_title'].value_counts()\n",
    "counts1"
   ]
  },
  {
   "cell_type": "code",
   "execution_count": 26,
   "id": "ba11dec2",
   "metadata": {
    "execution": {
     "iopub.execute_input": "2022-07-03T15:29:41.743046Z",
     "iopub.status.busy": "2022-07-03T15:29:41.742755Z",
     "iopub.status.idle": "2022-07-03T15:29:41.752601Z",
     "shell.execute_reply": "2022-07-03T15:29:41.751777Z"
    },
    "papermill": {
     "duration": 0.032942,
     "end_time": "2022-07-03T15:29:41.754662",
     "exception": false,
     "start_time": "2022-07-03T15:29:41.721720",
     "status": "completed"
    },
    "tags": []
   },
   "outputs": [],
   "source": [
    "threshold1=8\n",
    "rep1=counts1[counts1<=threshold1].index\n",
    "data['job_title']=data['job_title'].replace(rep1,'others')"
   ]
  },
  {
   "cell_type": "code",
   "execution_count": 27,
   "id": "124bedb1",
   "metadata": {
    "execution": {
     "iopub.execute_input": "2022-07-03T15:29:41.796588Z",
     "iopub.status.busy": "2022-07-03T15:29:41.795959Z",
     "iopub.status.idle": "2022-07-03T15:29:41.804079Z",
     "shell.execute_reply": "2022-07-03T15:29:41.803013Z"
    },
    "papermill": {
     "duration": 0.031443,
     "end_time": "2022-07-03T15:29:41.806096",
     "exception": false,
     "start_time": "2022-07-03T15:29:41.774653",
     "status": "completed"
    },
    "tags": []
   },
   "outputs": [
    {
     "data": {
      "text/plain": [
       "others                       155\n",
       "Data Scientist               143\n",
       "Data Engineer                132\n",
       "Data Analyst                  97\n",
       "Machine Learning Engineer     41\n",
       "Research Scientist            16\n",
       "Data Science Manager          12\n",
       "Data Architect                11\n",
       "Name: job_title, dtype: int64"
      ]
     },
     "execution_count": 27,
     "metadata": {},
     "output_type": "execute_result"
    }
   ],
   "source": [
    "data['job_title'].value_counts()"
   ]
  },
  {
   "cell_type": "code",
   "execution_count": 28,
   "id": "c0be9b50",
   "metadata": {
    "execution": {
     "iopub.execute_input": "2022-07-03T15:29:41.848654Z",
     "iopub.status.busy": "2022-07-03T15:29:41.847160Z",
     "iopub.status.idle": "2022-07-03T15:29:41.853922Z",
     "shell.execute_reply": "2022-07-03T15:29:41.852938Z"
    },
    "papermill": {
     "duration": 0.029809,
     "end_time": "2022-07-03T15:29:41.855912",
     "exception": false,
     "start_time": "2022-07-03T15:29:41.826103",
     "status": "completed"
    },
    "tags": []
   },
   "outputs": [
    {
     "data": {
      "text/plain": [
       "17"
      ]
     },
     "execution_count": 28,
     "metadata": {},
     "output_type": "execute_result"
    }
   ],
   "source": [
    "data['salary_currency'].nunique()"
   ]
  },
  {
   "cell_type": "code",
   "execution_count": 29,
   "id": "48bac529",
   "metadata": {
    "execution": {
     "iopub.execute_input": "2022-07-03T15:29:41.898348Z",
     "iopub.status.busy": "2022-07-03T15:29:41.898096Z",
     "iopub.status.idle": "2022-07-03T15:29:41.906224Z",
     "shell.execute_reply": "2022-07-03T15:29:41.905281Z"
    },
    "papermill": {
     "duration": 0.03126,
     "end_time": "2022-07-03T15:29:41.908138",
     "exception": false,
     "start_time": "2022-07-03T15:29:41.876878",
     "status": "completed"
    },
    "tags": []
   },
   "outputs": [
    {
     "data": {
      "text/plain": [
       "USD    398\n",
       "EUR     95\n",
       "GBP     44\n",
       "INR     27\n",
       "CAD     18\n",
       "JPY      3\n",
       "PLN      3\n",
       "TRY      3\n",
       "CNY      2\n",
       "MXN      2\n",
       "HUF      2\n",
       "DKK      2\n",
       "SGD      2\n",
       "BRL      2\n",
       "AUD      2\n",
       "CLP      1\n",
       "CHF      1\n",
       "Name: salary_currency, dtype: int64"
      ]
     },
     "execution_count": 29,
     "metadata": {},
     "output_type": "execute_result"
    }
   ],
   "source": [
    "data['salary_currency'].value_counts()"
   ]
  },
  {
   "cell_type": "code",
   "execution_count": 30,
   "id": "502d1c1e",
   "metadata": {
    "execution": {
     "iopub.execute_input": "2022-07-03T15:29:41.950206Z",
     "iopub.status.busy": "2022-07-03T15:29:41.949619Z",
     "iopub.status.idle": "2022-07-03T15:29:41.961128Z",
     "shell.execute_reply": "2022-07-03T15:29:41.960147Z"
    },
    "papermill": {
     "duration": 0.03458,
     "end_time": "2022-07-03T15:29:41.963048",
     "exception": false,
     "start_time": "2022-07-03T15:29:41.928468",
     "status": "completed"
    },
    "tags": []
   },
   "outputs": [
    {
     "data": {
      "text/plain": [
       "USD               398\n",
       "EUR                95\n",
       "GBP                44\n",
       "INR                27\n",
       "other currency     25\n",
       "CAD                18\n",
       "Name: salary_currency, dtype: int64"
      ]
     },
     "execution_count": 30,
     "metadata": {},
     "output_type": "execute_result"
    }
   ],
   "source": [
    "counts2=data['salary_currency'].value_counts()\n",
    "counts2\n",
    "threshold2=3\n",
    "rep2=counts2[counts2<=3].index\n",
    "data['salary_currency']=data['salary_currency'].replace(rep2,'other currency')\n",
    "data['salary_currency'].value_counts()"
   ]
  },
  {
   "cell_type": "code",
   "execution_count": 31,
   "id": "db0c64a1",
   "metadata": {
    "execution": {
     "iopub.execute_input": "2022-07-03T15:29:42.006409Z",
     "iopub.status.busy": "2022-07-03T15:29:42.006155Z",
     "iopub.status.idle": "2022-07-03T15:29:42.011897Z",
     "shell.execute_reply": "2022-07-03T15:29:42.011091Z"
    },
    "papermill": {
     "duration": 0.030043,
     "end_time": "2022-07-03T15:29:42.013991",
     "exception": false,
     "start_time": "2022-07-03T15:29:41.983948",
     "status": "completed"
    },
    "tags": []
   },
   "outputs": [
    {
     "data": {
      "text/plain": [
       "57"
      ]
     },
     "execution_count": 31,
     "metadata": {},
     "output_type": "execute_result"
    }
   ],
   "source": [
    "data['employee_residence'].nunique()"
   ]
  },
  {
   "cell_type": "code",
   "execution_count": 32,
   "id": "3e9295e7",
   "metadata": {
    "execution": {
     "iopub.execute_input": "2022-07-03T15:29:42.057119Z",
     "iopub.status.busy": "2022-07-03T15:29:42.056290Z",
     "iopub.status.idle": "2022-07-03T15:29:42.070345Z",
     "shell.execute_reply": "2022-07-03T15:29:42.069406Z"
    },
    "papermill": {
     "duration": 0.037706,
     "end_time": "2022-07-03T15:29:42.072187",
     "exception": false,
     "start_time": "2022-07-03T15:29:42.034481",
     "status": "completed"
    },
    "tags": []
   },
   "outputs": [
    {
     "data": {
      "text/plain": [
       "US       332\n",
       "Narak    101\n",
       "GB        44\n",
       "IN        30\n",
       "CA        29\n",
       "DE        25\n",
       "FR        18\n",
       "ES        15\n",
       "GR        13\n",
       "Name: employee_residence, dtype: int64"
      ]
     },
     "execution_count": 32,
     "metadata": {},
     "output_type": "execute_result"
    }
   ],
   "source": [
    "counts3=data['employee_residence'].value_counts()\n",
    "threshold3=7\n",
    "rep3=counts3[counts3<=7].index\n",
    "data['employee_residence']=data['employee_residence'].replace(rep3,'Narak')\n",
    "data['employee_residence'].value_counts()"
   ]
  },
  {
   "cell_type": "code",
   "execution_count": 33,
   "id": "59716a98",
   "metadata": {
    "execution": {
     "iopub.execute_input": "2022-07-03T15:29:42.114585Z",
     "iopub.status.busy": "2022-07-03T15:29:42.114337Z",
     "iopub.status.idle": "2022-07-03T15:29:42.120298Z",
     "shell.execute_reply": "2022-07-03T15:29:42.119318Z"
    },
    "papermill": {
     "duration": 0.029421,
     "end_time": "2022-07-03T15:29:42.122203",
     "exception": false,
     "start_time": "2022-07-03T15:29:42.092782",
     "status": "completed"
    },
    "tags": []
   },
   "outputs": [
    {
     "data": {
      "text/plain": [
       "50"
      ]
     },
     "execution_count": 33,
     "metadata": {},
     "output_type": "execute_result"
    }
   ],
   "source": [
    "data['company_location'].nunique()"
   ]
  },
  {
   "cell_type": "code",
   "execution_count": 34,
   "id": "9743aafe",
   "metadata": {
    "execution": {
     "iopub.execute_input": "2022-07-03T15:29:42.165868Z",
     "iopub.status.busy": "2022-07-03T15:29:42.165221Z",
     "iopub.status.idle": "2022-07-03T15:29:42.182777Z",
     "shell.execute_reply": "2022-07-03T15:29:42.181963Z"
    },
    "papermill": {
     "duration": 0.041375,
     "end_time": "2022-07-03T15:29:42.184858",
     "exception": false,
     "start_time": "2022-07-03T15:29:42.143483",
     "status": "completed"
    },
    "tags": []
   },
   "outputs": [
    {
     "data": {
      "text/plain": [
       "US                355\n",
       "Other location     83\n",
       "GB                 47\n",
       "CA                 30\n",
       "DE                 28\n",
       "IN                 24\n",
       "FR                 15\n",
       "ES                 14\n",
       "GR                 11\n",
       "Name: company_location, dtype: int64"
      ]
     },
     "execution_count": 34,
     "metadata": {},
     "output_type": "execute_result"
    }
   ],
   "source": [
    "counts4=data['company_location'].value_counts()\n",
    "counts4\n",
    "threshold4=6\n",
    "rep4=counts4[counts4<=threshold4].index\n",
    "data['company_location']=data['company_location'].replace(rep4,'Other location')\n",
    "data['company_location'].value_counts()"
   ]
  },
  {
   "cell_type": "code",
   "execution_count": 35,
   "id": "c062f3d2",
   "metadata": {
    "execution": {
     "iopub.execute_input": "2022-07-03T15:29:42.228306Z",
     "iopub.status.busy": "2022-07-03T15:29:42.228047Z",
     "iopub.status.idle": "2022-07-03T15:29:42.246298Z",
     "shell.execute_reply": "2022-07-03T15:29:42.245300Z"
    },
    "papermill": {
     "duration": 0.042399,
     "end_time": "2022-07-03T15:29:42.248775",
     "exception": false,
     "start_time": "2022-07-03T15:29:42.206376",
     "status": "completed"
    },
    "tags": []
   },
   "outputs": [
    {
     "data": {
      "text/html": [
       "<div>\n",
       "<style scoped>\n",
       "    .dataframe tbody tr th:only-of-type {\n",
       "        vertical-align: middle;\n",
       "    }\n",
       "\n",
       "    .dataframe tbody tr th {\n",
       "        vertical-align: top;\n",
       "    }\n",
       "\n",
       "    .dataframe thead th {\n",
       "        text-align: right;\n",
       "    }\n",
       "</style>\n",
       "<table border=\"1\" class=\"dataframe\">\n",
       "  <thead>\n",
       "    <tr style=\"text-align: right;\">\n",
       "      <th></th>\n",
       "      <th>work_year</th>\n",
       "      <th>experience_level</th>\n",
       "      <th>employment_type</th>\n",
       "      <th>job_title</th>\n",
       "      <th>salary</th>\n",
       "      <th>salary_currency</th>\n",
       "      <th>salary_in_usd</th>\n",
       "      <th>employee_residence</th>\n",
       "      <th>remote_ratio</th>\n",
       "      <th>company_location</th>\n",
       "      <th>company_size</th>\n",
       "    </tr>\n",
       "  </thead>\n",
       "  <tbody>\n",
       "    <tr>\n",
       "      <th>122</th>\n",
       "      <td>2021</td>\n",
       "      <td>EN</td>\n",
       "      <td>FT</td>\n",
       "      <td>Data Analyst</td>\n",
       "      <td>50000</td>\n",
       "      <td>USD</td>\n",
       "      <td>50000</td>\n",
       "      <td>US</td>\n",
       "      <td>100</td>\n",
       "      <td>US</td>\n",
       "      <td>M</td>\n",
       "    </tr>\n",
       "    <tr>\n",
       "      <th>318</th>\n",
       "      <td>2022</td>\n",
       "      <td>SE</td>\n",
       "      <td>FT</td>\n",
       "      <td>Data Analyst</td>\n",
       "      <td>90320</td>\n",
       "      <td>USD</td>\n",
       "      <td>90320</td>\n",
       "      <td>US</td>\n",
       "      <td>100</td>\n",
       "      <td>US</td>\n",
       "      <td>M</td>\n",
       "    </tr>\n",
       "    <tr>\n",
       "      <th>346</th>\n",
       "      <td>2022</td>\n",
       "      <td>SE</td>\n",
       "      <td>FT</td>\n",
       "      <td>Data Engineer</td>\n",
       "      <td>108800</td>\n",
       "      <td>USD</td>\n",
       "      <td>108800</td>\n",
       "      <td>US</td>\n",
       "      <td>0</td>\n",
       "      <td>US</td>\n",
       "      <td>M</td>\n",
       "    </tr>\n",
       "    <tr>\n",
       "      <th>463</th>\n",
       "      <td>2022</td>\n",
       "      <td>EN</td>\n",
       "      <td>FT</td>\n",
       "      <td>Data Scientist</td>\n",
       "      <td>1400000</td>\n",
       "      <td>INR</td>\n",
       "      <td>18442</td>\n",
       "      <td>IN</td>\n",
       "      <td>100</td>\n",
       "      <td>IN</td>\n",
       "      <td>M</td>\n",
       "    </tr>\n",
       "    <tr>\n",
       "      <th>509</th>\n",
       "      <td>2022</td>\n",
       "      <td>MI</td>\n",
       "      <td>FT</td>\n",
       "      <td>others</td>\n",
       "      <td>157000</td>\n",
       "      <td>USD</td>\n",
       "      <td>157000</td>\n",
       "      <td>US</td>\n",
       "      <td>100</td>\n",
       "      <td>US</td>\n",
       "      <td>L</td>\n",
       "    </tr>\n",
       "    <tr>\n",
       "      <th>207</th>\n",
       "      <td>2021</td>\n",
       "      <td>SE</td>\n",
       "      <td>FT</td>\n",
       "      <td>Data Engineer</td>\n",
       "      <td>165000</td>\n",
       "      <td>USD</td>\n",
       "      <td>165000</td>\n",
       "      <td>US</td>\n",
       "      <td>0</td>\n",
       "      <td>US</td>\n",
       "      <td>M</td>\n",
       "    </tr>\n",
       "    <tr>\n",
       "      <th>366</th>\n",
       "      <td>2022</td>\n",
       "      <td>SE</td>\n",
       "      <td>FT</td>\n",
       "      <td>Data Engineer</td>\n",
       "      <td>136000</td>\n",
       "      <td>USD</td>\n",
       "      <td>136000</td>\n",
       "      <td>US</td>\n",
       "      <td>0</td>\n",
       "      <td>US</td>\n",
       "      <td>M</td>\n",
       "    </tr>\n",
       "    <tr>\n",
       "      <th>161</th>\n",
       "      <td>2021</td>\n",
       "      <td>EX</td>\n",
       "      <td>FT</td>\n",
       "      <td>others</td>\n",
       "      <td>85000</td>\n",
       "      <td>USD</td>\n",
       "      <td>85000</td>\n",
       "      <td>Narak</td>\n",
       "      <td>0</td>\n",
       "      <td>Other location</td>\n",
       "      <td>M</td>\n",
       "    </tr>\n",
       "    <tr>\n",
       "      <th>262</th>\n",
       "      <td>2021</td>\n",
       "      <td>MI</td>\n",
       "      <td>FT</td>\n",
       "      <td>Data Scientist</td>\n",
       "      <td>1250000</td>\n",
       "      <td>INR</td>\n",
       "      <td>16904</td>\n",
       "      <td>IN</td>\n",
       "      <td>100</td>\n",
       "      <td>IN</td>\n",
       "      <td>S</td>\n",
       "    </tr>\n",
       "    <tr>\n",
       "      <th>43</th>\n",
       "      <td>2020</td>\n",
       "      <td>MI</td>\n",
       "      <td>FT</td>\n",
       "      <td>Data Engineer</td>\n",
       "      <td>106000</td>\n",
       "      <td>USD</td>\n",
       "      <td>106000</td>\n",
       "      <td>US</td>\n",
       "      <td>100</td>\n",
       "      <td>US</td>\n",
       "      <td>L</td>\n",
       "    </tr>\n",
       "    <tr>\n",
       "      <th>113</th>\n",
       "      <td>2021</td>\n",
       "      <td>EN</td>\n",
       "      <td>PT</td>\n",
       "      <td>others</td>\n",
       "      <td>12000</td>\n",
       "      <td>USD</td>\n",
       "      <td>12000</td>\n",
       "      <td>Narak</td>\n",
       "      <td>100</td>\n",
       "      <td>US</td>\n",
       "      <td>M</td>\n",
       "    </tr>\n",
       "    <tr>\n",
       "      <th>484</th>\n",
       "      <td>2022</td>\n",
       "      <td>SE</td>\n",
       "      <td>FT</td>\n",
       "      <td>Data Engineer</td>\n",
       "      <td>210000</td>\n",
       "      <td>USD</td>\n",
       "      <td>210000</td>\n",
       "      <td>US</td>\n",
       "      <td>100</td>\n",
       "      <td>US</td>\n",
       "      <td>M</td>\n",
       "    </tr>\n",
       "    <tr>\n",
       "      <th>44</th>\n",
       "      <td>2020</td>\n",
       "      <td>MI</td>\n",
       "      <td>FT</td>\n",
       "      <td>Data Engineer</td>\n",
       "      <td>88000</td>\n",
       "      <td>GBP</td>\n",
       "      <td>112872</td>\n",
       "      <td>GB</td>\n",
       "      <td>50</td>\n",
       "      <td>GB</td>\n",
       "      <td>L</td>\n",
       "    </tr>\n",
       "    <tr>\n",
       "      <th>266</th>\n",
       "      <td>2021</td>\n",
       "      <td>MI</td>\n",
       "      <td>FT</td>\n",
       "      <td>Data Engineer</td>\n",
       "      <td>93150</td>\n",
       "      <td>USD</td>\n",
       "      <td>93150</td>\n",
       "      <td>US</td>\n",
       "      <td>0</td>\n",
       "      <td>US</td>\n",
       "      <td>M</td>\n",
       "    </tr>\n",
       "    <tr>\n",
       "      <th>13</th>\n",
       "      <td>2020</td>\n",
       "      <td>MI</td>\n",
       "      <td>FT</td>\n",
       "      <td>others</td>\n",
       "      <td>87000</td>\n",
       "      <td>USD</td>\n",
       "      <td>87000</td>\n",
       "      <td>US</td>\n",
       "      <td>100</td>\n",
       "      <td>US</td>\n",
       "      <td>L</td>\n",
       "    </tr>\n",
       "    <tr>\n",
       "      <th>120</th>\n",
       "      <td>2021</td>\n",
       "      <td>MI</td>\n",
       "      <td>FT</td>\n",
       "      <td>others</td>\n",
       "      <td>60000</td>\n",
       "      <td>USD</td>\n",
       "      <td>60000</td>\n",
       "      <td>ES</td>\n",
       "      <td>50</td>\n",
       "      <td>Other location</td>\n",
       "      <td>M</td>\n",
       "    </tr>\n",
       "    <tr>\n",
       "      <th>541</th>\n",
       "      <td>2022</td>\n",
       "      <td>SE</td>\n",
       "      <td>FT</td>\n",
       "      <td>Data Analyst</td>\n",
       "      <td>81666</td>\n",
       "      <td>USD</td>\n",
       "      <td>81666</td>\n",
       "      <td>US</td>\n",
       "      <td>100</td>\n",
       "      <td>US</td>\n",
       "      <td>M</td>\n",
       "    </tr>\n",
       "    <tr>\n",
       "      <th>64</th>\n",
       "      <td>2020</td>\n",
       "      <td>SE</td>\n",
       "      <td>FT</td>\n",
       "      <td>Machine Learning Engineer</td>\n",
       "      <td>40000</td>\n",
       "      <td>EUR</td>\n",
       "      <td>45618</td>\n",
       "      <td>Narak</td>\n",
       "      <td>100</td>\n",
       "      <td>Other location</td>\n",
       "      <td>S</td>\n",
       "    </tr>\n",
       "    <tr>\n",
       "      <th>412</th>\n",
       "      <td>2022</td>\n",
       "      <td>MI</td>\n",
       "      <td>FT</td>\n",
       "      <td>Data Engineer</td>\n",
       "      <td>60000</td>\n",
       "      <td>EUR</td>\n",
       "      <td>65949</td>\n",
       "      <td>GR</td>\n",
       "      <td>100</td>\n",
       "      <td>GR</td>\n",
       "      <td>M</td>\n",
       "    </tr>\n",
       "    <tr>\n",
       "      <th>308</th>\n",
       "      <td>2022</td>\n",
       "      <td>MI</td>\n",
       "      <td>FT</td>\n",
       "      <td>Data Analyst</td>\n",
       "      <td>126500</td>\n",
       "      <td>USD</td>\n",
       "      <td>126500</td>\n",
       "      <td>US</td>\n",
       "      <td>0</td>\n",
       "      <td>US</td>\n",
       "      <td>M</td>\n",
       "    </tr>\n",
       "  </tbody>\n",
       "</table>\n",
       "</div>"
      ],
      "text/plain": [
       "     work_year experience_level employment_type                  job_title  \\\n",
       "122       2021               EN              FT               Data Analyst   \n",
       "318       2022               SE              FT               Data Analyst   \n",
       "346       2022               SE              FT              Data Engineer   \n",
       "463       2022               EN              FT             Data Scientist   \n",
       "509       2022               MI              FT                     others   \n",
       "207       2021               SE              FT              Data Engineer   \n",
       "366       2022               SE              FT              Data Engineer   \n",
       "161       2021               EX              FT                     others   \n",
       "262       2021               MI              FT             Data Scientist   \n",
       "43        2020               MI              FT              Data Engineer   \n",
       "113       2021               EN              PT                     others   \n",
       "484       2022               SE              FT              Data Engineer   \n",
       "44        2020               MI              FT              Data Engineer   \n",
       "266       2021               MI              FT              Data Engineer   \n",
       "13        2020               MI              FT                     others   \n",
       "120       2021               MI              FT                     others   \n",
       "541       2022               SE              FT               Data Analyst   \n",
       "64        2020               SE              FT  Machine Learning Engineer   \n",
       "412       2022               MI              FT              Data Engineer   \n",
       "308       2022               MI              FT               Data Analyst   \n",
       "\n",
       "      salary salary_currency  salary_in_usd employee_residence  remote_ratio  \\\n",
       "122    50000             USD          50000                 US           100   \n",
       "318    90320             USD          90320                 US           100   \n",
       "346   108800             USD         108800                 US             0   \n",
       "463  1400000             INR          18442                 IN           100   \n",
       "509   157000             USD         157000                 US           100   \n",
       "207   165000             USD         165000                 US             0   \n",
       "366   136000             USD         136000                 US             0   \n",
       "161    85000             USD          85000              Narak             0   \n",
       "262  1250000             INR          16904                 IN           100   \n",
       "43    106000             USD         106000                 US           100   \n",
       "113    12000             USD          12000              Narak           100   \n",
       "484   210000             USD         210000                 US           100   \n",
       "44     88000             GBP         112872                 GB            50   \n",
       "266    93150             USD          93150                 US             0   \n",
       "13     87000             USD          87000                 US           100   \n",
       "120    60000             USD          60000                 ES            50   \n",
       "541    81666             USD          81666                 US           100   \n",
       "64     40000             EUR          45618              Narak           100   \n",
       "412    60000             EUR          65949                 GR           100   \n",
       "308   126500             USD         126500                 US             0   \n",
       "\n",
       "    company_location company_size  \n",
       "122               US            M  \n",
       "318               US            M  \n",
       "346               US            M  \n",
       "463               IN            M  \n",
       "509               US            L  \n",
       "207               US            M  \n",
       "366               US            M  \n",
       "161   Other location            M  \n",
       "262               IN            S  \n",
       "43                US            L  \n",
       "113               US            M  \n",
       "484               US            M  \n",
       "44                GB            L  \n",
       "266               US            M  \n",
       "13                US            L  \n",
       "120   Other location            M  \n",
       "541               US            M  \n",
       "64    Other location            S  \n",
       "412               GR            M  \n",
       "308               US            M  "
      ]
     },
     "execution_count": 35,
     "metadata": {},
     "output_type": "execute_result"
    }
   ],
   "source": [
    "data.sample(20)"
   ]
  },
  {
   "cell_type": "code",
   "execution_count": 36,
   "id": "c7ba3401",
   "metadata": {
    "execution": {
     "iopub.execute_input": "2022-07-03T15:29:42.292988Z",
     "iopub.status.busy": "2022-07-03T15:29:42.292533Z",
     "iopub.status.idle": "2022-07-03T15:29:42.302646Z",
     "shell.execute_reply": "2022-07-03T15:29:42.301734Z"
    },
    "papermill": {
     "duration": 0.034385,
     "end_time": "2022-07-03T15:29:42.304862",
     "exception": false,
     "start_time": "2022-07-03T15:29:42.270477",
     "status": "completed"
    },
    "tags": []
   },
   "outputs": [
    {
     "data": {
      "text/plain": [
       "42"
      ]
     },
     "execution_count": 36,
     "metadata": {},
     "output_type": "execute_result"
    }
   ],
   "source": [
    "data.duplicated().sum()"
   ]
  },
  {
   "cell_type": "code",
   "execution_count": 37,
   "id": "740d1a27",
   "metadata": {
    "execution": {
     "iopub.execute_input": "2022-07-03T15:29:42.349516Z",
     "iopub.status.busy": "2022-07-03T15:29:42.348697Z",
     "iopub.status.idle": "2022-07-03T15:29:42.355796Z",
     "shell.execute_reply": "2022-07-03T15:29:42.354982Z"
    },
    "papermill": {
     "duration": 0.031258,
     "end_time": "2022-07-03T15:29:42.357704",
     "exception": false,
     "start_time": "2022-07-03T15:29:42.326446",
     "status": "completed"
    },
    "tags": []
   },
   "outputs": [],
   "source": [
    "data=data.drop_duplicates(ignore_index=True)"
   ]
  },
  {
   "cell_type": "code",
   "execution_count": 38,
   "id": "d1d9152d",
   "metadata": {
    "execution": {
     "iopub.execute_input": "2022-07-03T15:29:42.401508Z",
     "iopub.status.busy": "2022-07-03T15:29:42.401268Z",
     "iopub.status.idle": "2022-07-03T15:29:42.406832Z",
     "shell.execute_reply": "2022-07-03T15:29:42.405990Z"
    },
    "papermill": {
     "duration": 0.0298,
     "end_time": "2022-07-03T15:29:42.408778",
     "exception": false,
     "start_time": "2022-07-03T15:29:42.378978",
     "status": "completed"
    },
    "tags": []
   },
   "outputs": [
    {
     "data": {
      "text/plain": [
       "(565, 11)"
      ]
     },
     "execution_count": 38,
     "metadata": {},
     "output_type": "execute_result"
    }
   ],
   "source": [
    "data.shape"
   ]
  },
  {
   "cell_type": "code",
   "execution_count": 39,
   "id": "657197e5",
   "metadata": {
    "execution": {
     "iopub.execute_input": "2022-07-03T15:29:42.453849Z",
     "iopub.status.busy": "2022-07-03T15:29:42.452916Z",
     "iopub.status.idle": "2022-07-03T15:29:42.464759Z",
     "shell.execute_reply": "2022-07-03T15:29:42.463770Z"
    },
    "papermill": {
     "duration": 0.036404,
     "end_time": "2022-07-03T15:29:42.466605",
     "exception": false,
     "start_time": "2022-07-03T15:29:42.430201",
     "status": "completed"
    },
    "tags": []
   },
   "outputs": [
    {
     "data": {
      "text/html": [
       "<div>\n",
       "<style scoped>\n",
       "    .dataframe tbody tr th:only-of-type {\n",
       "        vertical-align: middle;\n",
       "    }\n",
       "\n",
       "    .dataframe tbody tr th {\n",
       "        vertical-align: top;\n",
       "    }\n",
       "\n",
       "    .dataframe thead th {\n",
       "        text-align: right;\n",
       "    }\n",
       "</style>\n",
       "<table border=\"1\" class=\"dataframe\">\n",
       "  <thead>\n",
       "    <tr style=\"text-align: right;\">\n",
       "      <th></th>\n",
       "      <th>work_year</th>\n",
       "      <th>experience_level</th>\n",
       "      <th>employment_type</th>\n",
       "      <th>job_title</th>\n",
       "      <th>salary</th>\n",
       "      <th>salary_currency</th>\n",
       "      <th>salary_in_usd</th>\n",
       "      <th>employee_residence</th>\n",
       "      <th>remote_ratio</th>\n",
       "      <th>company_location</th>\n",
       "      <th>company_size</th>\n",
       "    </tr>\n",
       "  </thead>\n",
       "  <tbody>\n",
       "    <tr>\n",
       "      <th>564</th>\n",
       "      <td>2022</td>\n",
       "      <td>MI</td>\n",
       "      <td>FT</td>\n",
       "      <td>others</td>\n",
       "      <td>200000</td>\n",
       "      <td>USD</td>\n",
       "      <td>200000</td>\n",
       "      <td>IN</td>\n",
       "      <td>100</td>\n",
       "      <td>US</td>\n",
       "      <td>L</td>\n",
       "    </tr>\n",
       "  </tbody>\n",
       "</table>\n",
       "</div>"
      ],
      "text/plain": [
       "     work_year experience_level employment_type job_title  salary  \\\n",
       "564       2022               MI              FT    others  200000   \n",
       "\n",
       "    salary_currency  salary_in_usd employee_residence  remote_ratio  \\\n",
       "564             USD         200000                 IN           100   \n",
       "\n",
       "    company_location company_size  \n",
       "564               US            L  "
      ]
     },
     "execution_count": 39,
     "metadata": {},
     "output_type": "execute_result"
    }
   ],
   "source": [
    "data.tail(1)"
   ]
  },
  {
   "cell_type": "code",
   "execution_count": 40,
   "id": "40968120",
   "metadata": {
    "execution": {
     "iopub.execute_input": "2022-07-03T15:29:42.512251Z",
     "iopub.status.busy": "2022-07-03T15:29:42.511743Z",
     "iopub.status.idle": "2022-07-03T15:29:42.516007Z",
     "shell.execute_reply": "2022-07-03T15:29:42.515130Z"
    },
    "papermill": {
     "duration": 0.029008,
     "end_time": "2022-07-03T15:29:42.517923",
     "exception": false,
     "start_time": "2022-07-03T15:29:42.488915",
     "status": "completed"
    },
    "tags": []
   },
   "outputs": [],
   "source": [
    "data_cols=['experience_level','employment_type','job_title','salary_currency','employee_residence','company_location','company_size']"
   ]
  },
  {
   "cell_type": "code",
   "execution_count": 41,
   "id": "de6cd28a",
   "metadata": {
    "execution": {
     "iopub.execute_input": "2022-07-03T15:29:42.562779Z",
     "iopub.status.busy": "2022-07-03T15:29:42.562536Z",
     "iopub.status.idle": "2022-07-03T15:29:42.576090Z",
     "shell.execute_reply": "2022-07-03T15:29:42.575130Z"
    },
    "papermill": {
     "duration": 0.038639,
     "end_time": "2022-07-03T15:29:42.578107",
     "exception": false,
     "start_time": "2022-07-03T15:29:42.539468",
     "status": "completed"
    },
    "tags": []
   },
   "outputs": [
    {
     "data": {
      "text/html": [
       "<div>\n",
       "<style scoped>\n",
       "    .dataframe tbody tr th:only-of-type {\n",
       "        vertical-align: middle;\n",
       "    }\n",
       "\n",
       "    .dataframe tbody tr th {\n",
       "        vertical-align: top;\n",
       "    }\n",
       "\n",
       "    .dataframe thead th {\n",
       "        text-align: right;\n",
       "    }\n",
       "</style>\n",
       "<table border=\"1\" class=\"dataframe\">\n",
       "  <thead>\n",
       "    <tr style=\"text-align: right;\">\n",
       "      <th></th>\n",
       "      <th>work_year</th>\n",
       "      <th>experience_level</th>\n",
       "      <th>employment_type</th>\n",
       "      <th>job_title</th>\n",
       "      <th>salary</th>\n",
       "      <th>salary_currency</th>\n",
       "      <th>salary_in_usd</th>\n",
       "      <th>employee_residence</th>\n",
       "      <th>remote_ratio</th>\n",
       "      <th>company_location</th>\n",
       "      <th>company_size</th>\n",
       "    </tr>\n",
       "  </thead>\n",
       "  <tbody>\n",
       "    <tr>\n",
       "      <th>0</th>\n",
       "      <td>2020</td>\n",
       "      <td>MI</td>\n",
       "      <td>FT</td>\n",
       "      <td>Data Scientist</td>\n",
       "      <td>70000</td>\n",
       "      <td>EUR</td>\n",
       "      <td>79833</td>\n",
       "      <td>DE</td>\n",
       "      <td>0</td>\n",
       "      <td>DE</td>\n",
       "      <td>L</td>\n",
       "    </tr>\n",
       "    <tr>\n",
       "      <th>1</th>\n",
       "      <td>2020</td>\n",
       "      <td>SE</td>\n",
       "      <td>FT</td>\n",
       "      <td>others</td>\n",
       "      <td>260000</td>\n",
       "      <td>USD</td>\n",
       "      <td>260000</td>\n",
       "      <td>Narak</td>\n",
       "      <td>0</td>\n",
       "      <td>Other location</td>\n",
       "      <td>S</td>\n",
       "    </tr>\n",
       "    <tr>\n",
       "      <th>2</th>\n",
       "      <td>2020</td>\n",
       "      <td>SE</td>\n",
       "      <td>FT</td>\n",
       "      <td>others</td>\n",
       "      <td>85000</td>\n",
       "      <td>GBP</td>\n",
       "      <td>109024</td>\n",
       "      <td>GB</td>\n",
       "      <td>50</td>\n",
       "      <td>GB</td>\n",
       "      <td>M</td>\n",
       "    </tr>\n",
       "    <tr>\n",
       "      <th>3</th>\n",
       "      <td>2020</td>\n",
       "      <td>MI</td>\n",
       "      <td>FT</td>\n",
       "      <td>others</td>\n",
       "      <td>20000</td>\n",
       "      <td>USD</td>\n",
       "      <td>20000</td>\n",
       "      <td>Narak</td>\n",
       "      <td>0</td>\n",
       "      <td>Other location</td>\n",
       "      <td>S</td>\n",
       "    </tr>\n",
       "    <tr>\n",
       "      <th>4</th>\n",
       "      <td>2020</td>\n",
       "      <td>SE</td>\n",
       "      <td>FT</td>\n",
       "      <td>Machine Learning Engineer</td>\n",
       "      <td>150000</td>\n",
       "      <td>USD</td>\n",
       "      <td>150000</td>\n",
       "      <td>US</td>\n",
       "      <td>50</td>\n",
       "      <td>US</td>\n",
       "      <td>L</td>\n",
       "    </tr>\n",
       "  </tbody>\n",
       "</table>\n",
       "</div>"
      ],
      "text/plain": [
       "   work_year experience_level employment_type                  job_title  \\\n",
       "0       2020               MI              FT             Data Scientist   \n",
       "1       2020               SE              FT                     others   \n",
       "2       2020               SE              FT                     others   \n",
       "3       2020               MI              FT                     others   \n",
       "4       2020               SE              FT  Machine Learning Engineer   \n",
       "\n",
       "   salary salary_currency  salary_in_usd employee_residence  remote_ratio  \\\n",
       "0   70000             EUR          79833                 DE             0   \n",
       "1  260000             USD         260000              Narak             0   \n",
       "2   85000             GBP         109024                 GB            50   \n",
       "3   20000             USD          20000              Narak             0   \n",
       "4  150000             USD         150000                 US            50   \n",
       "\n",
       "  company_location company_size  \n",
       "0               DE            L  \n",
       "1   Other location            S  \n",
       "2               GB            M  \n",
       "3   Other location            S  \n",
       "4               US            L  "
      ]
     },
     "execution_count": 41,
     "metadata": {},
     "output_type": "execute_result"
    }
   ],
   "source": [
    "data.head()"
   ]
  },
  {
   "cell_type": "code",
   "execution_count": 42,
   "id": "8c4222d0",
   "metadata": {
    "execution": {
     "iopub.execute_input": "2022-07-03T15:29:42.623393Z",
     "iopub.status.busy": "2022-07-03T15:29:42.622615Z",
     "iopub.status.idle": "2022-07-03T15:29:42.630026Z",
     "shell.execute_reply": "2022-07-03T15:29:42.629111Z"
    },
    "papermill": {
     "duration": 0.031911,
     "end_time": "2022-07-03T15:29:42.631939",
     "exception": false,
     "start_time": "2022-07-03T15:29:42.600028",
     "status": "completed"
    },
    "tags": []
   },
   "outputs": [
    {
     "data": {
      "text/plain": [
       "M    290\n",
       "L    193\n",
       "S     82\n",
       "Name: company_size, dtype: int64"
      ]
     },
     "execution_count": 42,
     "metadata": {},
     "output_type": "execute_result"
    }
   ],
   "source": [
    "data['company_size'].value_counts()"
   ]
  },
  {
   "cell_type": "code",
   "execution_count": 43,
   "id": "638ab159",
   "metadata": {
    "execution": {
     "iopub.execute_input": "2022-07-03T15:29:42.678257Z",
     "iopub.status.busy": "2022-07-03T15:29:42.677324Z",
     "iopub.status.idle": "2022-07-03T15:29:42.683283Z",
     "shell.execute_reply": "2022-07-03T15:29:42.682396Z"
    },
    "papermill": {
     "duration": 0.031026,
     "end_time": "2022-07-03T15:29:42.685486",
     "exception": false,
     "start_time": "2022-07-03T15:29:42.654460",
     "status": "completed"
    },
    "tags": []
   },
   "outputs": [],
   "source": [
    "data['company_size']=data['company_size'].map({'S':0,'M':1,'L':2})"
   ]
  },
  {
   "cell_type": "code",
   "execution_count": 44,
   "id": "f13e2ae6",
   "metadata": {
    "execution": {
     "iopub.execute_input": "2022-07-03T15:29:42.731722Z",
     "iopub.status.busy": "2022-07-03T15:29:42.730905Z",
     "iopub.status.idle": "2022-07-03T15:29:42.736824Z",
     "shell.execute_reply": "2022-07-03T15:29:42.736034Z"
    },
    "papermill": {
     "duration": 0.030521,
     "end_time": "2022-07-03T15:29:42.738692",
     "exception": false,
     "start_time": "2022-07-03T15:29:42.708171",
     "status": "completed"
    },
    "tags": []
   },
   "outputs": [],
   "source": [
    "data['experience_level']=data['experience_level'].map({'SE':0,'MI':1,'EN':2,'EX':3})"
   ]
  },
  {
   "cell_type": "code",
   "execution_count": 45,
   "id": "12c5ff77",
   "metadata": {
    "execution": {
     "iopub.execute_input": "2022-07-03T15:29:42.784434Z",
     "iopub.status.busy": "2022-07-03T15:29:42.783768Z",
     "iopub.status.idle": "2022-07-03T15:29:42.788936Z",
     "shell.execute_reply": "2022-07-03T15:29:42.788049Z"
    },
    "papermill": {
     "duration": 0.030067,
     "end_time": "2022-07-03T15:29:42.790850",
     "exception": false,
     "start_time": "2022-07-03T15:29:42.760783",
     "status": "completed"
    },
    "tags": []
   },
   "outputs": [],
   "source": [
    "data_employment=pd.get_dummies(data['employment_type'],drop_first=True)"
   ]
  },
  {
   "cell_type": "code",
   "execution_count": 46,
   "id": "5ce4d7d9",
   "metadata": {
    "execution": {
     "iopub.execute_input": "2022-07-03T15:29:42.837450Z",
     "iopub.status.busy": "2022-07-03T15:29:42.836721Z",
     "iopub.status.idle": "2022-07-03T15:29:42.845545Z",
     "shell.execute_reply": "2022-07-03T15:29:42.844597Z"
    },
    "papermill": {
     "duration": 0.033858,
     "end_time": "2022-07-03T15:29:42.847380",
     "exception": false,
     "start_time": "2022-07-03T15:29:42.813522",
     "status": "completed"
    },
    "tags": []
   },
   "outputs": [
    {
     "data": {
      "text/html": [
       "<div>\n",
       "<style scoped>\n",
       "    .dataframe tbody tr th:only-of-type {\n",
       "        vertical-align: middle;\n",
       "    }\n",
       "\n",
       "    .dataframe tbody tr th {\n",
       "        vertical-align: top;\n",
       "    }\n",
       "\n",
       "    .dataframe thead th {\n",
       "        text-align: right;\n",
       "    }\n",
       "</style>\n",
       "<table border=\"1\" class=\"dataframe\">\n",
       "  <thead>\n",
       "    <tr style=\"text-align: right;\">\n",
       "      <th></th>\n",
       "      <th>FL</th>\n",
       "      <th>FT</th>\n",
       "      <th>PT</th>\n",
       "    </tr>\n",
       "  </thead>\n",
       "  <tbody>\n",
       "    <tr>\n",
       "      <th>0</th>\n",
       "      <td>0</td>\n",
       "      <td>1</td>\n",
       "      <td>0</td>\n",
       "    </tr>\n",
       "    <tr>\n",
       "      <th>1</th>\n",
       "      <td>0</td>\n",
       "      <td>1</td>\n",
       "      <td>0</td>\n",
       "    </tr>\n",
       "    <tr>\n",
       "      <th>2</th>\n",
       "      <td>0</td>\n",
       "      <td>1</td>\n",
       "      <td>0</td>\n",
       "    </tr>\n",
       "    <tr>\n",
       "      <th>3</th>\n",
       "      <td>0</td>\n",
       "      <td>1</td>\n",
       "      <td>0</td>\n",
       "    </tr>\n",
       "    <tr>\n",
       "      <th>4</th>\n",
       "      <td>0</td>\n",
       "      <td>1</td>\n",
       "      <td>0</td>\n",
       "    </tr>\n",
       "  </tbody>\n",
       "</table>\n",
       "</div>"
      ],
      "text/plain": [
       "   FL  FT  PT\n",
       "0   0   1   0\n",
       "1   0   1   0\n",
       "2   0   1   0\n",
       "3   0   1   0\n",
       "4   0   1   0"
      ]
     },
     "execution_count": 46,
     "metadata": {},
     "output_type": "execute_result"
    }
   ],
   "source": [
    "data_employment.head()"
   ]
  },
  {
   "cell_type": "code",
   "execution_count": 47,
   "id": "9ef10bfc",
   "metadata": {
    "execution": {
     "iopub.execute_input": "2022-07-03T15:29:42.893350Z",
     "iopub.status.busy": "2022-07-03T15:29:42.893046Z",
     "iopub.status.idle": "2022-07-03T15:29:42.898747Z",
     "shell.execute_reply": "2022-07-03T15:29:42.897777Z"
    },
    "papermill": {
     "duration": 0.031819,
     "end_time": "2022-07-03T15:29:42.901490",
     "exception": false,
     "start_time": "2022-07-03T15:29:42.869671",
     "status": "completed"
    },
    "tags": []
   },
   "outputs": [
    {
     "data": {
      "text/plain": [
       "(565, 3)"
      ]
     },
     "execution_count": 47,
     "metadata": {},
     "output_type": "execute_result"
    }
   ],
   "source": [
    "data_employment.shape"
   ]
  },
  {
   "cell_type": "code",
   "execution_count": 48,
   "id": "cd62e206",
   "metadata": {
    "execution": {
     "iopub.execute_input": "2022-07-03T15:29:42.948336Z",
     "iopub.status.busy": "2022-07-03T15:29:42.947770Z",
     "iopub.status.idle": "2022-07-03T15:29:42.965880Z",
     "shell.execute_reply": "2022-07-03T15:29:42.965083Z"
    },
    "papermill": {
     "duration": 0.043309,
     "end_time": "2022-07-03T15:29:42.967799",
     "exception": false,
     "start_time": "2022-07-03T15:29:42.924490",
     "status": "completed"
    },
    "tags": []
   },
   "outputs": [
    {
     "data": {
      "text/html": [
       "<div>\n",
       "<style scoped>\n",
       "    .dataframe tbody tr th:only-of-type {\n",
       "        vertical-align: middle;\n",
       "    }\n",
       "\n",
       "    .dataframe tbody tr th {\n",
       "        vertical-align: top;\n",
       "    }\n",
       "\n",
       "    .dataframe thead th {\n",
       "        text-align: right;\n",
       "    }\n",
       "</style>\n",
       "<table border=\"1\" class=\"dataframe\">\n",
       "  <thead>\n",
       "    <tr style=\"text-align: right;\">\n",
       "      <th></th>\n",
       "      <th>work_year</th>\n",
       "      <th>experience_level</th>\n",
       "      <th>employment_type</th>\n",
       "      <th>job_title</th>\n",
       "      <th>salary</th>\n",
       "      <th>salary_currency</th>\n",
       "      <th>salary_in_usd</th>\n",
       "      <th>employee_residence</th>\n",
       "      <th>remote_ratio</th>\n",
       "      <th>company_location</th>\n",
       "      <th>company_size</th>\n",
       "      <th>FL</th>\n",
       "      <th>FT</th>\n",
       "      <th>PT</th>\n",
       "    </tr>\n",
       "  </thead>\n",
       "  <tbody>\n",
       "    <tr>\n",
       "      <th>0</th>\n",
       "      <td>2020</td>\n",
       "      <td>1</td>\n",
       "      <td>FT</td>\n",
       "      <td>Data Scientist</td>\n",
       "      <td>70000</td>\n",
       "      <td>EUR</td>\n",
       "      <td>79833</td>\n",
       "      <td>DE</td>\n",
       "      <td>0</td>\n",
       "      <td>DE</td>\n",
       "      <td>2</td>\n",
       "      <td>0</td>\n",
       "      <td>1</td>\n",
       "      <td>0</td>\n",
       "    </tr>\n",
       "    <tr>\n",
       "      <th>1</th>\n",
       "      <td>2020</td>\n",
       "      <td>0</td>\n",
       "      <td>FT</td>\n",
       "      <td>others</td>\n",
       "      <td>260000</td>\n",
       "      <td>USD</td>\n",
       "      <td>260000</td>\n",
       "      <td>Narak</td>\n",
       "      <td>0</td>\n",
       "      <td>Other location</td>\n",
       "      <td>0</td>\n",
       "      <td>0</td>\n",
       "      <td>1</td>\n",
       "      <td>0</td>\n",
       "    </tr>\n",
       "    <tr>\n",
       "      <th>2</th>\n",
       "      <td>2020</td>\n",
       "      <td>0</td>\n",
       "      <td>FT</td>\n",
       "      <td>others</td>\n",
       "      <td>85000</td>\n",
       "      <td>GBP</td>\n",
       "      <td>109024</td>\n",
       "      <td>GB</td>\n",
       "      <td>50</td>\n",
       "      <td>GB</td>\n",
       "      <td>1</td>\n",
       "      <td>0</td>\n",
       "      <td>1</td>\n",
       "      <td>0</td>\n",
       "    </tr>\n",
       "    <tr>\n",
       "      <th>3</th>\n",
       "      <td>2020</td>\n",
       "      <td>1</td>\n",
       "      <td>FT</td>\n",
       "      <td>others</td>\n",
       "      <td>20000</td>\n",
       "      <td>USD</td>\n",
       "      <td>20000</td>\n",
       "      <td>Narak</td>\n",
       "      <td>0</td>\n",
       "      <td>Other location</td>\n",
       "      <td>0</td>\n",
       "      <td>0</td>\n",
       "      <td>1</td>\n",
       "      <td>0</td>\n",
       "    </tr>\n",
       "    <tr>\n",
       "      <th>4</th>\n",
       "      <td>2020</td>\n",
       "      <td>0</td>\n",
       "      <td>FT</td>\n",
       "      <td>Machine Learning Engineer</td>\n",
       "      <td>150000</td>\n",
       "      <td>USD</td>\n",
       "      <td>150000</td>\n",
       "      <td>US</td>\n",
       "      <td>50</td>\n",
       "      <td>US</td>\n",
       "      <td>2</td>\n",
       "      <td>0</td>\n",
       "      <td>1</td>\n",
       "      <td>0</td>\n",
       "    </tr>\n",
       "  </tbody>\n",
       "</table>\n",
       "</div>"
      ],
      "text/plain": [
       "   work_year  experience_level employment_type                  job_title  \\\n",
       "0       2020                 1              FT             Data Scientist   \n",
       "1       2020                 0              FT                     others   \n",
       "2       2020                 0              FT                     others   \n",
       "3       2020                 1              FT                     others   \n",
       "4       2020                 0              FT  Machine Learning Engineer   \n",
       "\n",
       "   salary salary_currency  salary_in_usd employee_residence  remote_ratio  \\\n",
       "0   70000             EUR          79833                 DE             0   \n",
       "1  260000             USD         260000              Narak             0   \n",
       "2   85000             GBP         109024                 GB            50   \n",
       "3   20000             USD          20000              Narak             0   \n",
       "4  150000             USD         150000                 US            50   \n",
       "\n",
       "  company_location  company_size  FL  FT  PT  \n",
       "0               DE             2   0   1   0  \n",
       "1   Other location             0   0   1   0  \n",
       "2               GB             1   0   1   0  \n",
       "3   Other location             0   0   1   0  \n",
       "4               US             2   0   1   0  "
      ]
     },
     "execution_count": 48,
     "metadata": {},
     "output_type": "execute_result"
    }
   ],
   "source": [
    "data=pd.merge(data,data_employment,left_index=True,right_index=True)\n",
    "data.head()"
   ]
  },
  {
   "cell_type": "code",
   "execution_count": 49,
   "id": "435edd58",
   "metadata": {
    "execution": {
     "iopub.execute_input": "2022-07-03T15:29:43.015585Z",
     "iopub.status.busy": "2022-07-03T15:29:43.015320Z",
     "iopub.status.idle": "2022-07-03T15:29:43.028111Z",
     "shell.execute_reply": "2022-07-03T15:29:43.027291Z"
    },
    "papermill": {
     "duration": 0.038621,
     "end_time": "2022-07-03T15:29:43.030046",
     "exception": false,
     "start_time": "2022-07-03T15:29:42.991425",
     "status": "completed"
    },
    "tags": []
   },
   "outputs": [],
   "source": [
    "data_job=pd.get_dummies(data['job_title'],drop_first=True)\n",
    "data=pd.merge(data,data_job,left_index=True,right_index=True)\n",
    "\n",
    "data_salary=pd.get_dummies(data['salary_currency'],drop_first=True)\n",
    "data=pd.merge(data,data_salary,left_index=True,right_index=True)\n",
    "\n",
    "data_residence=pd.get_dummies(data['employee_residence'],drop_first=True)\n",
    "data=pd.merge(data,data_residence,left_index=True,right_index=True)\n",
    "\n",
    "data_location=pd.get_dummies(data['company_location'],drop_first=True)\n",
    "data=pd.merge(data,data_location,left_index=True,right_index=True)"
   ]
  },
  {
   "cell_type": "code",
   "execution_count": 50,
   "id": "9de84359",
   "metadata": {
    "execution": {
     "iopub.execute_input": "2022-07-03T15:29:43.077429Z",
     "iopub.status.busy": "2022-07-03T15:29:43.076757Z",
     "iopub.status.idle": "2022-07-03T15:29:43.082973Z",
     "shell.execute_reply": "2022-07-03T15:29:43.082167Z"
    },
    "papermill": {
     "duration": 0.032281,
     "end_time": "2022-07-03T15:29:43.085094",
     "exception": false,
     "start_time": "2022-07-03T15:29:43.052813",
     "status": "completed"
    },
    "tags": []
   },
   "outputs": [],
   "source": [
    "data=data.drop(columns=['employment_type','job_title','salary_currency','employee_residence','company_location'],axis=1)"
   ]
  },
  {
   "cell_type": "code",
   "execution_count": 51,
   "id": "19216190",
   "metadata": {
    "execution": {
     "iopub.execute_input": "2022-07-03T15:29:43.131970Z",
     "iopub.status.busy": "2022-07-03T15:29:43.131695Z",
     "iopub.status.idle": "2022-07-03T15:29:43.152601Z",
     "shell.execute_reply": "2022-07-03T15:29:43.151745Z"
    },
    "papermill": {
     "duration": 0.046984,
     "end_time": "2022-07-03T15:29:43.154628",
     "exception": false,
     "start_time": "2022-07-03T15:29:43.107644",
     "status": "completed"
    },
    "tags": []
   },
   "outputs": [
    {
     "data": {
      "text/html": [
       "<div>\n",
       "<style scoped>\n",
       "    .dataframe tbody tr th:only-of-type {\n",
       "        vertical-align: middle;\n",
       "    }\n",
       "\n",
       "    .dataframe tbody tr th {\n",
       "        vertical-align: top;\n",
       "    }\n",
       "\n",
       "    .dataframe thead th {\n",
       "        text-align: right;\n",
       "    }\n",
       "</style>\n",
       "<table border=\"1\" class=\"dataframe\">\n",
       "  <thead>\n",
       "    <tr style=\"text-align: right;\">\n",
       "      <th></th>\n",
       "      <th>work_year</th>\n",
       "      <th>experience_level</th>\n",
       "      <th>salary</th>\n",
       "      <th>salary_in_usd</th>\n",
       "      <th>remote_ratio</th>\n",
       "      <th>company_size</th>\n",
       "      <th>FL</th>\n",
       "      <th>FT</th>\n",
       "      <th>PT</th>\n",
       "      <th>Data Architect</th>\n",
       "      <th>Data Engineer</th>\n",
       "      <th>Data Science Manager</th>\n",
       "      <th>Data Scientist</th>\n",
       "      <th>Machine Learning Engineer</th>\n",
       "      <th>Research Scientist</th>\n",
       "      <th>others</th>\n",
       "      <th>EUR</th>\n",
       "      <th>GBP</th>\n",
       "      <th>INR</th>\n",
       "      <th>USD</th>\n",
       "      <th>other currency</th>\n",
       "      <th>DE_x</th>\n",
       "      <th>ES_x</th>\n",
       "      <th>FR_x</th>\n",
       "      <th>GB_x</th>\n",
       "      <th>GR_x</th>\n",
       "      <th>IN_x</th>\n",
       "      <th>Narak</th>\n",
       "      <th>US_x</th>\n",
       "      <th>DE_y</th>\n",
       "      <th>ES_y</th>\n",
       "      <th>FR_y</th>\n",
       "      <th>GB_y</th>\n",
       "      <th>GR_y</th>\n",
       "      <th>IN_y</th>\n",
       "      <th>Other location</th>\n",
       "      <th>US_y</th>\n",
       "    </tr>\n",
       "  </thead>\n",
       "  <tbody>\n",
       "    <tr>\n",
       "      <th>0</th>\n",
       "      <td>2020</td>\n",
       "      <td>1</td>\n",
       "      <td>70000</td>\n",
       "      <td>79833</td>\n",
       "      <td>0</td>\n",
       "      <td>2</td>\n",
       "      <td>0</td>\n",
       "      <td>1</td>\n",
       "      <td>0</td>\n",
       "      <td>0</td>\n",
       "      <td>0</td>\n",
       "      <td>0</td>\n",
       "      <td>1</td>\n",
       "      <td>0</td>\n",
       "      <td>0</td>\n",
       "      <td>0</td>\n",
       "      <td>1</td>\n",
       "      <td>0</td>\n",
       "      <td>0</td>\n",
       "      <td>0</td>\n",
       "      <td>0</td>\n",
       "      <td>1</td>\n",
       "      <td>0</td>\n",
       "      <td>0</td>\n",
       "      <td>0</td>\n",
       "      <td>0</td>\n",
       "      <td>0</td>\n",
       "      <td>0</td>\n",
       "      <td>0</td>\n",
       "      <td>1</td>\n",
       "      <td>0</td>\n",
       "      <td>0</td>\n",
       "      <td>0</td>\n",
       "      <td>0</td>\n",
       "      <td>0</td>\n",
       "      <td>0</td>\n",
       "      <td>0</td>\n",
       "    </tr>\n",
       "    <tr>\n",
       "      <th>1</th>\n",
       "      <td>2020</td>\n",
       "      <td>0</td>\n",
       "      <td>260000</td>\n",
       "      <td>260000</td>\n",
       "      <td>0</td>\n",
       "      <td>0</td>\n",
       "      <td>0</td>\n",
       "      <td>1</td>\n",
       "      <td>0</td>\n",
       "      <td>0</td>\n",
       "      <td>0</td>\n",
       "      <td>0</td>\n",
       "      <td>0</td>\n",
       "      <td>0</td>\n",
       "      <td>0</td>\n",
       "      <td>1</td>\n",
       "      <td>0</td>\n",
       "      <td>0</td>\n",
       "      <td>0</td>\n",
       "      <td>1</td>\n",
       "      <td>0</td>\n",
       "      <td>0</td>\n",
       "      <td>0</td>\n",
       "      <td>0</td>\n",
       "      <td>0</td>\n",
       "      <td>0</td>\n",
       "      <td>0</td>\n",
       "      <td>1</td>\n",
       "      <td>0</td>\n",
       "      <td>0</td>\n",
       "      <td>0</td>\n",
       "      <td>0</td>\n",
       "      <td>0</td>\n",
       "      <td>0</td>\n",
       "      <td>0</td>\n",
       "      <td>1</td>\n",
       "      <td>0</td>\n",
       "    </tr>\n",
       "    <tr>\n",
       "      <th>2</th>\n",
       "      <td>2020</td>\n",
       "      <td>0</td>\n",
       "      <td>85000</td>\n",
       "      <td>109024</td>\n",
       "      <td>50</td>\n",
       "      <td>1</td>\n",
       "      <td>0</td>\n",
       "      <td>1</td>\n",
       "      <td>0</td>\n",
       "      <td>0</td>\n",
       "      <td>0</td>\n",
       "      <td>0</td>\n",
       "      <td>0</td>\n",
       "      <td>0</td>\n",
       "      <td>0</td>\n",
       "      <td>1</td>\n",
       "      <td>0</td>\n",
       "      <td>1</td>\n",
       "      <td>0</td>\n",
       "      <td>0</td>\n",
       "      <td>0</td>\n",
       "      <td>0</td>\n",
       "      <td>0</td>\n",
       "      <td>0</td>\n",
       "      <td>1</td>\n",
       "      <td>0</td>\n",
       "      <td>0</td>\n",
       "      <td>0</td>\n",
       "      <td>0</td>\n",
       "      <td>0</td>\n",
       "      <td>0</td>\n",
       "      <td>0</td>\n",
       "      <td>1</td>\n",
       "      <td>0</td>\n",
       "      <td>0</td>\n",
       "      <td>0</td>\n",
       "      <td>0</td>\n",
       "    </tr>\n",
       "    <tr>\n",
       "      <th>3</th>\n",
       "      <td>2020</td>\n",
       "      <td>1</td>\n",
       "      <td>20000</td>\n",
       "      <td>20000</td>\n",
       "      <td>0</td>\n",
       "      <td>0</td>\n",
       "      <td>0</td>\n",
       "      <td>1</td>\n",
       "      <td>0</td>\n",
       "      <td>0</td>\n",
       "      <td>0</td>\n",
       "      <td>0</td>\n",
       "      <td>0</td>\n",
       "      <td>0</td>\n",
       "      <td>0</td>\n",
       "      <td>1</td>\n",
       "      <td>0</td>\n",
       "      <td>0</td>\n",
       "      <td>0</td>\n",
       "      <td>1</td>\n",
       "      <td>0</td>\n",
       "      <td>0</td>\n",
       "      <td>0</td>\n",
       "      <td>0</td>\n",
       "      <td>0</td>\n",
       "      <td>0</td>\n",
       "      <td>0</td>\n",
       "      <td>1</td>\n",
       "      <td>0</td>\n",
       "      <td>0</td>\n",
       "      <td>0</td>\n",
       "      <td>0</td>\n",
       "      <td>0</td>\n",
       "      <td>0</td>\n",
       "      <td>0</td>\n",
       "      <td>1</td>\n",
       "      <td>0</td>\n",
       "    </tr>\n",
       "    <tr>\n",
       "      <th>4</th>\n",
       "      <td>2020</td>\n",
       "      <td>0</td>\n",
       "      <td>150000</td>\n",
       "      <td>150000</td>\n",
       "      <td>50</td>\n",
       "      <td>2</td>\n",
       "      <td>0</td>\n",
       "      <td>1</td>\n",
       "      <td>0</td>\n",
       "      <td>0</td>\n",
       "      <td>0</td>\n",
       "      <td>0</td>\n",
       "      <td>0</td>\n",
       "      <td>1</td>\n",
       "      <td>0</td>\n",
       "      <td>0</td>\n",
       "      <td>0</td>\n",
       "      <td>0</td>\n",
       "      <td>0</td>\n",
       "      <td>1</td>\n",
       "      <td>0</td>\n",
       "      <td>0</td>\n",
       "      <td>0</td>\n",
       "      <td>0</td>\n",
       "      <td>0</td>\n",
       "      <td>0</td>\n",
       "      <td>0</td>\n",
       "      <td>0</td>\n",
       "      <td>1</td>\n",
       "      <td>0</td>\n",
       "      <td>0</td>\n",
       "      <td>0</td>\n",
       "      <td>0</td>\n",
       "      <td>0</td>\n",
       "      <td>0</td>\n",
       "      <td>0</td>\n",
       "      <td>1</td>\n",
       "    </tr>\n",
       "  </tbody>\n",
       "</table>\n",
       "</div>"
      ],
      "text/plain": [
       "   work_year  experience_level  salary  salary_in_usd  remote_ratio  \\\n",
       "0       2020                 1   70000          79833             0   \n",
       "1       2020                 0  260000         260000             0   \n",
       "2       2020                 0   85000         109024            50   \n",
       "3       2020                 1   20000          20000             0   \n",
       "4       2020                 0  150000         150000            50   \n",
       "\n",
       "   company_size  FL  FT  PT  Data Architect  Data Engineer  \\\n",
       "0             2   0   1   0               0              0   \n",
       "1             0   0   1   0               0              0   \n",
       "2             1   0   1   0               0              0   \n",
       "3             0   0   1   0               0              0   \n",
       "4             2   0   1   0               0              0   \n",
       "\n",
       "   Data Science Manager  Data Scientist  Machine Learning Engineer  \\\n",
       "0                     0               1                          0   \n",
       "1                     0               0                          0   \n",
       "2                     0               0                          0   \n",
       "3                     0               0                          0   \n",
       "4                     0               0                          1   \n",
       "\n",
       "   Research Scientist  others  EUR  GBP  INR  USD  other currency  DE_x  ES_x  \\\n",
       "0                   0       0    1    0    0    0               0     1     0   \n",
       "1                   0       1    0    0    0    1               0     0     0   \n",
       "2                   0       1    0    1    0    0               0     0     0   \n",
       "3                   0       1    0    0    0    1               0     0     0   \n",
       "4                   0       0    0    0    0    1               0     0     0   \n",
       "\n",
       "   FR_x  GB_x  GR_x  IN_x  Narak  US_x  DE_y  ES_y  FR_y  GB_y  GR_y  IN_y  \\\n",
       "0     0     0     0     0      0     0     1     0     0     0     0     0   \n",
       "1     0     0     0     0      1     0     0     0     0     0     0     0   \n",
       "2     0     1     0     0      0     0     0     0     0     1     0     0   \n",
       "3     0     0     0     0      1     0     0     0     0     0     0     0   \n",
       "4     0     0     0     0      0     1     0     0     0     0     0     0   \n",
       "\n",
       "   Other location  US_y  \n",
       "0               0     0  \n",
       "1               1     0  \n",
       "2               0     0  \n",
       "3               1     0  \n",
       "4               0     1  "
      ]
     },
     "execution_count": 51,
     "metadata": {},
     "output_type": "execute_result"
    }
   ],
   "source": [
    "pd.set_option('Display.max_columns',None)\n",
    "data.head()"
   ]
  },
  {
   "cell_type": "code",
   "execution_count": 52,
   "id": "07898452",
   "metadata": {
    "execution": {
     "iopub.execute_input": "2022-07-03T15:29:43.203076Z",
     "iopub.status.busy": "2022-07-03T15:29:43.202272Z",
     "iopub.status.idle": "2022-07-03T15:29:43.208522Z",
     "shell.execute_reply": "2022-07-03T15:29:43.207669Z"
    },
    "papermill": {
     "duration": 0.0329,
     "end_time": "2022-07-03T15:29:43.210473",
     "exception": false,
     "start_time": "2022-07-03T15:29:43.177573",
     "status": "completed"
    },
    "tags": []
   },
   "outputs": [],
   "source": [
    "X = data.drop(columns='salary',axis=1)\n",
    "y = data['salary']"
   ]
  },
  {
   "cell_type": "code",
   "execution_count": 53,
   "id": "15c05f27",
   "metadata": {
    "execution": {
     "iopub.execute_input": "2022-07-03T15:29:43.258022Z",
     "iopub.status.busy": "2022-07-03T15:29:43.257750Z",
     "iopub.status.idle": "2022-07-03T15:29:43.414370Z",
     "shell.execute_reply": "2022-07-03T15:29:43.413231Z"
    },
    "papermill": {
     "duration": 0.182876,
     "end_time": "2022-07-03T15:29:43.416714",
     "exception": false,
     "start_time": "2022-07-03T15:29:43.233838",
     "status": "completed"
    },
    "tags": []
   },
   "outputs": [],
   "source": [
    "from sklearn.model_selection import train_test_split\n",
    "X_train,X_test,y_train,y_test = train_test_split(X,y,test_size=0.30)"
   ]
  },
  {
   "cell_type": "code",
   "execution_count": 54,
   "id": "a2031e43",
   "metadata": {
    "execution": {
     "iopub.execute_input": "2022-07-03T15:29:43.465259Z",
     "iopub.status.busy": "2022-07-03T15:29:43.464963Z",
     "iopub.status.idle": "2022-07-03T15:29:43.469937Z",
     "shell.execute_reply": "2022-07-03T15:29:43.469036Z"
    },
    "papermill": {
     "duration": 0.031346,
     "end_time": "2022-07-03T15:29:43.472120",
     "exception": false,
     "start_time": "2022-07-03T15:29:43.440774",
     "status": "completed"
    },
    "tags": []
   },
   "outputs": [
    {
     "name": "stdout",
     "output_type": "stream",
     "text": [
      "(395, 36) (170, 36) (395,) (170,)\n"
     ]
    }
   ],
   "source": [
    "print(X_train.shape,X_test.shape,y_train.shape,y_test.shape)"
   ]
  },
  {
   "cell_type": "code",
   "execution_count": 55,
   "id": "a277a143",
   "metadata": {
    "execution": {
     "iopub.execute_input": "2022-07-03T15:29:43.520634Z",
     "iopub.status.busy": "2022-07-03T15:29:43.519867Z",
     "iopub.status.idle": "2022-07-03T15:29:44.645770Z",
     "shell.execute_reply": "2022-07-03T15:29:44.644752Z"
    },
    "papermill": {
     "duration": 1.152719,
     "end_time": "2022-07-03T15:29:44.647772",
     "exception": false,
     "start_time": "2022-07-03T15:29:43.495053",
     "status": "completed"
    },
    "tags": []
   },
   "outputs": [
    {
     "name": "stdout",
     "output_type": "stream",
     "text": [
      "Learning rate set to 0.035354\n",
      "0:\tlearn: 1787340.6753841\ttotal: 53.7ms\tremaining: 53.7s\n",
      "1:\tlearn: 1772582.3870805\ttotal: 54.3ms\tremaining: 27.1s\n",
      "2:\tlearn: 1757201.2217650\ttotal: 54.9ms\tremaining: 18.2s\n",
      "3:\tlearn: 1741860.4669987\ttotal: 55.5ms\tremaining: 13.8s\n",
      "4:\tlearn: 1725811.0892969\ttotal: 56.1ms\tremaining: 11.2s\n",
      "5:\tlearn: 1711803.6253175\ttotal: 56.8ms\tremaining: 9.41s\n",
      "6:\tlearn: 1697630.0473470\ttotal: 57.4ms\tremaining: 8.14s\n",
      "7:\tlearn: 1681759.7677010\ttotal: 58ms\tremaining: 7.19s\n",
      "8:\tlearn: 1666881.2286572\ttotal: 58.5ms\tremaining: 6.44s\n",
      "9:\tlearn: 1651641.9310655\ttotal: 59.1ms\tremaining: 5.85s\n",
      "10:\tlearn: 1640716.2242823\ttotal: 59.7ms\tremaining: 5.36s\n",
      "11:\tlearn: 1626498.7015954\ttotal: 60.2ms\tremaining: 4.95s\n",
      "12:\tlearn: 1611587.6396618\ttotal: 60.7ms\tremaining: 4.61s\n",
      "13:\tlearn: 1597212.4259443\ttotal: 61.2ms\tremaining: 4.31s\n",
      "14:\tlearn: 1583955.7318790\ttotal: 61.8ms\tremaining: 4.06s\n",
      "15:\tlearn: 1571357.6766852\ttotal: 62.5ms\tremaining: 3.84s\n",
      "16:\tlearn: 1559301.8082768\ttotal: 63.3ms\tremaining: 3.66s\n",
      "17:\tlearn: 1547431.2687551\ttotal: 63.8ms\tremaining: 3.48s\n",
      "18:\tlearn: 1533603.1348232\ttotal: 64.4ms\tremaining: 3.32s\n",
      "19:\tlearn: 1522297.9332691\ttotal: 64.9ms\tremaining: 3.18s\n",
      "20:\tlearn: 1509255.0073843\ttotal: 65.6ms\tremaining: 3.06s\n",
      "21:\tlearn: 1495662.5046758\ttotal: 66.3ms\tremaining: 2.95s\n",
      "22:\tlearn: 1483837.0163561\ttotal: 66.9ms\tremaining: 2.84s\n",
      "23:\tlearn: 1471026.5491455\ttotal: 67.4ms\tremaining: 2.74s\n",
      "24:\tlearn: 1458083.4545326\ttotal: 68ms\tremaining: 2.65s\n",
      "25:\tlearn: 1444961.7460468\ttotal: 68.7ms\tremaining: 2.57s\n",
      "26:\tlearn: 1428706.1099941\ttotal: 69.5ms\tremaining: 2.5s\n",
      "27:\tlearn: 1417928.1791049\ttotal: 70.2ms\tremaining: 2.44s\n",
      "28:\tlearn: 1405076.6039233\ttotal: 70.9ms\tremaining: 2.38s\n",
      "29:\tlearn: 1393370.5017075\ttotal: 71.5ms\tremaining: 2.31s\n",
      "30:\tlearn: 1382401.6993825\ttotal: 72.1ms\tremaining: 2.25s\n",
      "31:\tlearn: 1370541.2157986\ttotal: 72.6ms\tremaining: 2.2s\n",
      "32:\tlearn: 1359325.3623685\ttotal: 73.2ms\tremaining: 2.14s\n",
      "33:\tlearn: 1349303.8233041\ttotal: 73.7ms\tremaining: 2.09s\n",
      "34:\tlearn: 1345228.7133414\ttotal: 73.9ms\tremaining: 2.04s\n",
      "35:\tlearn: 1333140.8470979\ttotal: 74.7ms\tremaining: 2s\n",
      "36:\tlearn: 1321640.7715686\ttotal: 75.4ms\tremaining: 1.96s\n",
      "37:\tlearn: 1310843.3790248\ttotal: 75.9ms\tremaining: 1.92s\n",
      "38:\tlearn: 1300293.0751723\ttotal: 76.5ms\tremaining: 1.88s\n",
      "39:\tlearn: 1288655.3948965\ttotal: 77ms\tremaining: 1.85s\n",
      "40:\tlearn: 1278886.6457782\ttotal: 77.6ms\tremaining: 1.81s\n",
      "41:\tlearn: 1268936.0551982\ttotal: 78.2ms\tremaining: 1.78s\n",
      "42:\tlearn: 1258265.3921971\ttotal: 78.7ms\tremaining: 1.75s\n",
      "43:\tlearn: 1249332.8377434\ttotal: 79.3ms\tremaining: 1.72s\n",
      "44:\tlearn: 1241020.4794353\ttotal: 79.9ms\tremaining: 1.69s\n",
      "45:\tlearn: 1232184.1913572\ttotal: 80.4ms\tremaining: 1.67s\n",
      "46:\tlearn: 1218389.8876817\ttotal: 81ms\tremaining: 1.64s\n",
      "47:\tlearn: 1206353.5036508\ttotal: 81.5ms\tremaining: 1.62s\n",
      "48:\tlearn: 1196221.6419725\ttotal: 82.1ms\tremaining: 1.59s\n",
      "49:\tlearn: 1188230.7981070\ttotal: 82.5ms\tremaining: 1.57s\n",
      "50:\tlearn: 1179401.1383453\ttotal: 83.2ms\tremaining: 1.55s\n",
      "51:\tlearn: 1169343.5417958\ttotal: 84ms\tremaining: 1.53s\n",
      "52:\tlearn: 1155907.0832637\ttotal: 84.7ms\tremaining: 1.51s\n",
      "53:\tlearn: 1145929.0877548\ttotal: 85.4ms\tremaining: 1.5s\n",
      "54:\tlearn: 1137639.3288789\ttotal: 86ms\tremaining: 1.48s\n",
      "55:\tlearn: 1128265.4301136\ttotal: 86.6ms\tremaining: 1.46s\n",
      "56:\tlearn: 1119249.3283053\ttotal: 87.2ms\tremaining: 1.44s\n",
      "57:\tlearn: 1111770.8516649\ttotal: 87.7ms\tremaining: 1.42s\n",
      "58:\tlearn: 1103909.0636585\ttotal: 88.3ms\tremaining: 1.41s\n",
      "59:\tlearn: 1095338.8511151\ttotal: 88.9ms\tremaining: 1.39s\n",
      "60:\tlearn: 1087469.5343576\ttotal: 89.5ms\tremaining: 1.38s\n",
      "61:\tlearn: 1077948.1944515\ttotal: 90ms\tremaining: 1.36s\n",
      "62:\tlearn: 1068864.6690147\ttotal: 90.6ms\tremaining: 1.35s\n",
      "63:\tlearn: 1060080.8231577\ttotal: 91.4ms\tremaining: 1.34s\n",
      "64:\tlearn: 1052736.3099493\ttotal: 92.2ms\tremaining: 1.32s\n",
      "65:\tlearn: 1044812.7831056\ttotal: 92.9ms\tremaining: 1.31s\n",
      "66:\tlearn: 1033663.8300212\ttotal: 93.5ms\tremaining: 1.3s\n",
      "67:\tlearn: 1024471.6852252\ttotal: 94.1ms\tremaining: 1.29s\n",
      "68:\tlearn: 1017463.8653672\ttotal: 94.6ms\tremaining: 1.28s\n",
      "69:\tlearn: 1010698.3225121\ttotal: 95.2ms\tremaining: 1.26s\n",
      "70:\tlearn: 1002387.5439057\ttotal: 95.7ms\tremaining: 1.25s\n",
      "71:\tlearn: 995089.7357728\ttotal: 96.2ms\tremaining: 1.24s\n",
      "72:\tlearn: 986206.9319524\ttotal: 96.8ms\tremaining: 1.23s\n",
      "73:\tlearn: 977777.3044915\ttotal: 97.3ms\tremaining: 1.22s\n",
      "74:\tlearn: 971935.9002076\ttotal: 97.7ms\tremaining: 1.21s\n",
      "75:\tlearn: 964562.3905570\ttotal: 98.3ms\tremaining: 1.19s\n",
      "76:\tlearn: 956407.2456754\ttotal: 98.8ms\tremaining: 1.18s\n",
      "77:\tlearn: 947996.3526031\ttotal: 99.4ms\tremaining: 1.17s\n",
      "78:\tlearn: 941372.9944984\ttotal: 99.9ms\tremaining: 1.16s\n",
      "79:\tlearn: 934399.4250491\ttotal: 100ms\tremaining: 1.16s\n",
      "80:\tlearn: 927291.4385644\ttotal: 101ms\tremaining: 1.15s\n",
      "81:\tlearn: 920304.0328418\ttotal: 102ms\tremaining: 1.14s\n",
      "82:\tlearn: 912690.2156653\ttotal: 102ms\tremaining: 1.13s\n",
      "83:\tlearn: 905790.9482551\ttotal: 103ms\tremaining: 1.12s\n",
      "84:\tlearn: 896750.8234787\ttotal: 104ms\tremaining: 1.11s\n",
      "85:\tlearn: 888942.6355918\ttotal: 104ms\tremaining: 1.11s\n",
      "86:\tlearn: 881778.2018476\ttotal: 105ms\tremaining: 1.1s\n",
      "87:\tlearn: 873959.4286101\ttotal: 105ms\tremaining: 1.09s\n",
      "88:\tlearn: 866825.4697157\ttotal: 106ms\tremaining: 1.08s\n",
      "89:\tlearn: 860601.2538291\ttotal: 106ms\tremaining: 1.08s\n",
      "90:\tlearn: 854232.9576882\ttotal: 107ms\tremaining: 1.07s\n",
      "91:\tlearn: 847871.0882757\ttotal: 108ms\tremaining: 1.06s\n",
      "92:\tlearn: 842125.6681044\ttotal: 108ms\tremaining: 1.05s\n",
      "93:\tlearn: 835662.1781118\ttotal: 109ms\tremaining: 1.05s\n",
      "94:\tlearn: 829486.6210776\ttotal: 109ms\tremaining: 1.04s\n",
      "95:\tlearn: 823502.2182545\ttotal: 110ms\tremaining: 1.03s\n",
      "96:\tlearn: 818297.1002939\ttotal: 111ms\tremaining: 1.03s\n",
      "97:\tlearn: 813564.0417911\ttotal: 111ms\tremaining: 1.02s\n",
      "98:\tlearn: 807692.8247890\ttotal: 112ms\tremaining: 1.02s\n",
      "99:\tlearn: 802082.0498507\ttotal: 112ms\tremaining: 1.01s\n",
      "100:\tlearn: 796506.0422123\ttotal: 113ms\tremaining: 1s\n",
      "101:\tlearn: 787672.5279691\ttotal: 113ms\tremaining: 998ms\n",
      "102:\tlearn: 781928.1457277\ttotal: 114ms\tremaining: 992ms\n",
      "103:\tlearn: 776991.7465969\ttotal: 114ms\tremaining: 986ms\n",
      "104:\tlearn: 768376.1089423\ttotal: 115ms\tremaining: 980ms\n",
      "105:\tlearn: 763790.0336680\ttotal: 116ms\tremaining: 974ms\n",
      "106:\tlearn: 758176.6230887\ttotal: 116ms\tremaining: 969ms\n",
      "107:\tlearn: 752222.6250191\ttotal: 117ms\tremaining: 963ms\n",
      "108:\tlearn: 746868.5654221\ttotal: 117ms\tremaining: 958ms\n",
      "109:\tlearn: 741046.8645609\ttotal: 118ms\tremaining: 953ms\n",
      "110:\tlearn: 736833.7076162\ttotal: 118ms\tremaining: 948ms\n",
      "111:\tlearn: 728855.6663546\ttotal: 119ms\tremaining: 943ms\n",
      "112:\tlearn: 723468.4925335\ttotal: 120ms\tremaining: 939ms\n",
      "113:\tlearn: 718493.2882556\ttotal: 120ms\tremaining: 935ms\n",
      "114:\tlearn: 713358.7818113\ttotal: 121ms\tremaining: 930ms\n",
      "115:\tlearn: 707876.9679377\ttotal: 121ms\tremaining: 925ms\n",
      "116:\tlearn: 703345.6862610\ttotal: 122ms\tremaining: 920ms\n",
      "117:\tlearn: 697708.3573716\ttotal: 122ms\tremaining: 915ms\n",
      "118:\tlearn: 692917.9950104\ttotal: 123ms\tremaining: 910ms\n",
      "119:\tlearn: 687543.9247932\ttotal: 124ms\tremaining: 906ms\n",
      "120:\tlearn: 682634.8950089\ttotal: 124ms\tremaining: 901ms\n",
      "121:\tlearn: 678625.7300351\ttotal: 125ms\tremaining: 897ms\n",
      "122:\tlearn: 674003.0147383\ttotal: 125ms\tremaining: 892ms\n",
      "123:\tlearn: 666641.8718570\ttotal: 126ms\tremaining: 888ms\n",
      "124:\tlearn: 661979.4191932\ttotal: 126ms\tremaining: 884ms\n",
      "125:\tlearn: 656472.7081402\ttotal: 127ms\tremaining: 880ms\n",
      "126:\tlearn: 652316.6764570\ttotal: 127ms\tremaining: 875ms\n",
      "127:\tlearn: 649239.3392100\ttotal: 128ms\tremaining: 872ms\n",
      "128:\tlearn: 641488.9934664\ttotal: 129ms\tremaining: 870ms\n",
      "129:\tlearn: 639803.7309535\ttotal: 129ms\tremaining: 864ms\n",
      "130:\tlearn: 634742.2069055\ttotal: 130ms\tremaining: 860ms\n",
      "131:\tlearn: 627668.5539070\ttotal: 130ms\tremaining: 856ms\n",
      "132:\tlearn: 624200.6259731\ttotal: 131ms\tremaining: 853ms\n",
      "133:\tlearn: 620146.9337843\ttotal: 131ms\tremaining: 849ms\n",
      "134:\tlearn: 615433.3648179\ttotal: 132ms\tremaining: 846ms\n",
      "135:\tlearn: 610278.9156330\ttotal: 133ms\tremaining: 844ms\n",
      "136:\tlearn: 605950.0510696\ttotal: 133ms\tremaining: 840ms\n",
      "137:\tlearn: 602065.4212319\ttotal: 134ms\tremaining: 837ms\n",
      "138:\tlearn: 599490.8488421\ttotal: 135ms\tremaining: 833ms\n",
      "139:\tlearn: 595786.3266528\ttotal: 135ms\tremaining: 830ms\n",
      "140:\tlearn: 591861.9166087\ttotal: 136ms\tremaining: 827ms\n",
      "141:\tlearn: 587729.9482160\ttotal: 136ms\tremaining: 823ms\n",
      "142:\tlearn: 583555.7389141\ttotal: 137ms\tremaining: 820ms\n",
      "143:\tlearn: 578952.0706381\ttotal: 138ms\tremaining: 818ms\n",
      "144:\tlearn: 576744.3976676\ttotal: 138ms\tremaining: 815ms\n",
      "145:\tlearn: 573536.0995924\ttotal: 139ms\tremaining: 812ms\n",
      "146:\tlearn: 569387.2721568\ttotal: 139ms\tremaining: 808ms\n",
      "147:\tlearn: 566380.5404695\ttotal: 140ms\tremaining: 805ms\n",
      "148:\tlearn: 562650.0583240\ttotal: 140ms\tremaining: 802ms\n",
      "149:\tlearn: 558807.0597447\ttotal: 141ms\tremaining: 798ms\n",
      "150:\tlearn: 556470.2616985\ttotal: 141ms\tremaining: 795ms\n",
      "151:\tlearn: 552541.4053596\ttotal: 142ms\tremaining: 792ms\n",
      "152:\tlearn: 546654.5459230\ttotal: 143ms\tremaining: 789ms\n",
      "153:\tlearn: 542808.1212447\ttotal: 143ms\tremaining: 786ms\n",
      "154:\tlearn: 539011.8320138\ttotal: 144ms\tremaining: 783ms\n",
      "155:\tlearn: 533167.0071714\ttotal: 144ms\tremaining: 780ms\n",
      "156:\tlearn: 529904.4819054\ttotal: 145ms\tremaining: 777ms\n",
      "157:\tlearn: 525988.2038184\ttotal: 145ms\tremaining: 774ms\n",
      "158:\tlearn: 522029.3262963\ttotal: 146ms\tremaining: 772ms\n",
      "159:\tlearn: 518718.2977830\ttotal: 147ms\tremaining: 771ms\n",
      "160:\tlearn: 515174.7187105\ttotal: 147ms\tremaining: 768ms\n",
      "161:\tlearn: 511827.3203068\ttotal: 148ms\tremaining: 765ms\n",
      "162:\tlearn: 508223.1095803\ttotal: 148ms\tremaining: 762ms\n",
      "163:\tlearn: 505320.7696653\ttotal: 149ms\tremaining: 760ms\n",
      "164:\tlearn: 501203.9124208\ttotal: 150ms\tremaining: 757ms\n",
      "165:\tlearn: 500729.8915607\ttotal: 150ms\tremaining: 755ms\n",
      "166:\tlearn: 496906.5553026\ttotal: 151ms\tremaining: 752ms\n",
      "167:\tlearn: 493028.3728790\ttotal: 151ms\tremaining: 750ms\n",
      "168:\tlearn: 489174.1413024\ttotal: 152ms\tremaining: 747ms\n",
      "169:\tlearn: 486288.3618809\ttotal: 153ms\tremaining: 745ms\n",
      "170:\tlearn: 482607.9227044\ttotal: 153ms\tremaining: 742ms\n",
      "171:\tlearn: 479795.3386124\ttotal: 154ms\tremaining: 740ms\n",
      "172:\tlearn: 476948.5583708\ttotal: 154ms\tremaining: 737ms\n",
      "173:\tlearn: 474045.3396924\ttotal: 155ms\tremaining: 735ms\n",
      "174:\tlearn: 470687.5305967\ttotal: 156ms\tremaining: 734ms\n",
      "175:\tlearn: 467052.7505309\ttotal: 156ms\tremaining: 732ms\n",
      "176:\tlearn: 463435.7007285\ttotal: 157ms\tremaining: 729ms\n",
      "177:\tlearn: 460531.3690766\ttotal: 157ms\tremaining: 727ms\n",
      "178:\tlearn: 457120.0997019\ttotal: 158ms\tremaining: 724ms\n",
      "179:\tlearn: 453628.0761466\ttotal: 158ms\tremaining: 722ms\n",
      "180:\tlearn: 451143.0849137\ttotal: 159ms\tremaining: 720ms\n",
      "181:\tlearn: 447349.6127526\ttotal: 160ms\tremaining: 717ms\n",
      "182:\tlearn: 444493.2392850\ttotal: 160ms\tremaining: 715ms\n",
      "183:\tlearn: 441585.4769213\ttotal: 161ms\tremaining: 712ms\n",
      "184:\tlearn: 438594.6492000\ttotal: 161ms\tremaining: 710ms\n",
      "185:\tlearn: 436222.2929669\ttotal: 162ms\tremaining: 708ms\n",
      "186:\tlearn: 431905.1611465\ttotal: 162ms\tremaining: 706ms\n",
      "187:\tlearn: 428810.0830329\ttotal: 163ms\tremaining: 703ms\n",
      "188:\tlearn: 425255.0888771\ttotal: 163ms\tremaining: 702ms\n",
      "189:\tlearn: 423448.9881712\ttotal: 164ms\tremaining: 700ms\n",
      "190:\tlearn: 420264.1821230\ttotal: 165ms\tremaining: 698ms\n",
      "191:\tlearn: 417019.9413322\ttotal: 165ms\tremaining: 696ms\n",
      "192:\tlearn: 414127.8025716\ttotal: 166ms\tremaining: 694ms\n",
      "193:\tlearn: 411545.4437051\ttotal: 167ms\tremaining: 692ms\n",
      "194:\tlearn: 408884.3774382\ttotal: 167ms\tremaining: 690ms\n",
      "195:\tlearn: 406388.7513140\ttotal: 168ms\tremaining: 688ms\n",
      "196:\tlearn: 404009.6855605\ttotal: 168ms\tremaining: 686ms\n",
      "197:\tlearn: 401214.2613257\ttotal: 169ms\tremaining: 685ms\n",
      "198:\tlearn: 398441.6869903\ttotal: 170ms\tremaining: 682ms\n",
      "199:\tlearn: 395917.7603168\ttotal: 170ms\tremaining: 681ms\n",
      "200:\tlearn: 393823.4669728\ttotal: 171ms\tremaining: 679ms\n",
      "201:\tlearn: 390610.4506022\ttotal: 171ms\tremaining: 677ms\n",
      "202:\tlearn: 387435.4353845\ttotal: 172ms\tremaining: 675ms\n",
      "203:\tlearn: 385338.7502182\ttotal: 172ms\tremaining: 673ms\n",
      "204:\tlearn: 382343.3368965\ttotal: 173ms\tremaining: 671ms\n",
      "205:\tlearn: 380150.9255207\ttotal: 174ms\tremaining: 670ms\n",
      "206:\tlearn: 377272.2226491\ttotal: 174ms\tremaining: 668ms\n",
      "207:\tlearn: 374102.4116399\ttotal: 175ms\tremaining: 667ms\n",
      "208:\tlearn: 371464.7484122\ttotal: 176ms\tremaining: 665ms\n",
      "209:\tlearn: 368972.6190978\ttotal: 177ms\tremaining: 664ms\n",
      "210:\tlearn: 364867.9449093\ttotal: 177ms\tremaining: 663ms\n",
      "211:\tlearn: 362579.4644361\ttotal: 178ms\tremaining: 662ms\n",
      "212:\tlearn: 360811.1795293\ttotal: 179ms\tremaining: 660ms\n",
      "213:\tlearn: 358866.7262443\ttotal: 179ms\tremaining: 659ms\n",
      "214:\tlearn: 356161.5016168\ttotal: 180ms\tremaining: 658ms\n",
      "215:\tlearn: 353838.1042151\ttotal: 181ms\tremaining: 656ms\n",
      "216:\tlearn: 351355.0792547\ttotal: 183ms\tremaining: 659ms\n",
      "217:\tlearn: 348876.9575265\ttotal: 183ms\tremaining: 658ms\n",
      "218:\tlearn: 346355.1714973\ttotal: 184ms\tremaining: 657ms\n",
      "219:\tlearn: 344049.6056781\ttotal: 185ms\tremaining: 656ms\n",
      "220:\tlearn: 341775.0933784\ttotal: 186ms\tremaining: 654ms\n",
      "221:\tlearn: 339406.6289566\ttotal: 186ms\tremaining: 653ms\n",
      "222:\tlearn: 337196.3725384\ttotal: 187ms\tremaining: 652ms\n",
      "223:\tlearn: 334916.4069561\ttotal: 188ms\tremaining: 651ms\n",
      "224:\tlearn: 332643.9521592\ttotal: 189ms\tremaining: 650ms\n",
      "225:\tlearn: 330408.6156706\ttotal: 191ms\tremaining: 655ms\n",
      "226:\tlearn: 327782.6015892\ttotal: 192ms\tremaining: 653ms\n",
      "227:\tlearn: 325706.6502786\ttotal: 192ms\tremaining: 651ms\n",
      "228:\tlearn: 323932.0526860\ttotal: 193ms\tremaining: 650ms\n",
      "229:\tlearn: 321333.0295049\ttotal: 194ms\tremaining: 648ms\n",
      "230:\tlearn: 319418.1214529\ttotal: 194ms\tremaining: 647ms\n",
      "231:\tlearn: 316899.7581396\ttotal: 195ms\tremaining: 645ms\n",
      "232:\tlearn: 315196.6919476\ttotal: 195ms\tremaining: 643ms\n",
      "233:\tlearn: 312909.5345345\ttotal: 196ms\tremaining: 642ms\n",
      "234:\tlearn: 310452.5892983\ttotal: 197ms\tremaining: 640ms\n",
      "235:\tlearn: 307989.8543897\ttotal: 197ms\tremaining: 638ms\n",
      "236:\tlearn: 305587.6869704\ttotal: 198ms\tremaining: 637ms\n",
      "237:\tlearn: 303222.1280951\ttotal: 198ms\tremaining: 635ms\n",
      "238:\tlearn: 300845.1899365\ttotal: 199ms\tremaining: 633ms\n",
      "239:\tlearn: 298497.0548140\ttotal: 199ms\tremaining: 631ms\n",
      "240:\tlearn: 296207.8636940\ttotal: 200ms\tremaining: 630ms\n",
      "241:\tlearn: 293951.8204024\ttotal: 201ms\tremaining: 629ms\n",
      "242:\tlearn: 292349.4626228\ttotal: 201ms\tremaining: 627ms\n",
      "243:\tlearn: 290900.9151058\ttotal: 202ms\tremaining: 625ms\n",
      "244:\tlearn: 288651.3081392\ttotal: 203ms\tremaining: 624ms\n",
      "245:\tlearn: 286567.4814289\ttotal: 203ms\tremaining: 623ms\n",
      "246:\tlearn: 284399.5948440\ttotal: 204ms\tremaining: 621ms\n",
      "247:\tlearn: 282855.0781133\ttotal: 204ms\tremaining: 620ms\n",
      "248:\tlearn: 281125.6887843\ttotal: 205ms\tremaining: 619ms\n",
      "249:\tlearn: 277981.9065490\ttotal: 206ms\tremaining: 617ms\n",
      "250:\tlearn: 276375.3922119\ttotal: 206ms\tremaining: 616ms\n",
      "251:\tlearn: 275112.6473804\ttotal: 207ms\tremaining: 614ms\n",
      "252:\tlearn: 272991.7552977\ttotal: 208ms\tremaining: 613ms\n",
      "253:\tlearn: 270897.4239620\ttotal: 208ms\tremaining: 611ms\n",
      "254:\tlearn: 269649.8342697\ttotal: 209ms\tremaining: 610ms\n",
      "255:\tlearn: 267616.3295317\ttotal: 210ms\tremaining: 609ms\n",
      "256:\tlearn: 266088.2657437\ttotal: 210ms\tremaining: 608ms\n",
      "257:\tlearn: 264707.0890443\ttotal: 211ms\tremaining: 606ms\n",
      "258:\tlearn: 263348.6836365\ttotal: 211ms\tremaining: 605ms\n",
      "259:\tlearn: 262012.6787197\ttotal: 212ms\tremaining: 603ms\n",
      "260:\tlearn: 260256.6893232\ttotal: 213ms\tremaining: 602ms\n",
      "261:\tlearn: 258948.6097448\ttotal: 213ms\tremaining: 600ms\n",
      "262:\tlearn: 257719.1877158\ttotal: 214ms\tremaining: 599ms\n",
      "263:\tlearn: 256547.4149760\ttotal: 214ms\tremaining: 597ms\n",
      "264:\tlearn: 255307.1300464\ttotal: 215ms\tremaining: 596ms\n",
      "265:\tlearn: 254072.9684876\ttotal: 216ms\tremaining: 595ms\n",
      "266:\tlearn: 252492.1710759\ttotal: 216ms\tremaining: 593ms\n",
      "267:\tlearn: 250786.6382849\ttotal: 217ms\tremaining: 592ms\n",
      "268:\tlearn: 249482.2104539\ttotal: 217ms\tremaining: 591ms\n",
      "269:\tlearn: 248301.6882308\ttotal: 218ms\tremaining: 590ms\n",
      "270:\tlearn: 247207.6179156\ttotal: 219ms\tremaining: 588ms\n",
      "271:\tlearn: 245790.6143428\ttotal: 219ms\tremaining: 587ms\n",
      "272:\tlearn: 244647.6827412\ttotal: 220ms\tremaining: 585ms\n",
      "273:\tlearn: 243523.9133831\ttotal: 220ms\tremaining: 584ms\n",
      "274:\tlearn: 242185.4921318\ttotal: 221ms\tremaining: 582ms\n",
      "275:\tlearn: 240882.5599539\ttotal: 221ms\tremaining: 581ms\n",
      "276:\tlearn: 239322.7995580\ttotal: 222ms\tremaining: 579ms\n",
      "277:\tlearn: 238079.0374660\ttotal: 223ms\tremaining: 578ms\n",
      "278:\tlearn: 236553.8725235\ttotal: 223ms\tremaining: 577ms\n",
      "279:\tlearn: 235144.6244119\ttotal: 224ms\tremaining: 575ms\n",
      "280:\tlearn: 234026.2388967\ttotal: 224ms\tremaining: 574ms\n",
      "281:\tlearn: 233040.6109851\ttotal: 225ms\tremaining: 573ms\n",
      "282:\tlearn: 231857.8566335\ttotal: 225ms\tremaining: 571ms\n",
      "283:\tlearn: 230418.4805090\ttotal: 226ms\tremaining: 570ms\n",
      "284:\tlearn: 228889.0253803\ttotal: 227ms\tremaining: 569ms\n",
      "285:\tlearn: 227870.7958770\ttotal: 227ms\tremaining: 568ms\n",
      "286:\tlearn: 226549.2367815\ttotal: 228ms\tremaining: 567ms\n",
      "287:\tlearn: 225060.5278982\ttotal: 229ms\tremaining: 565ms\n",
      "288:\tlearn: 223938.2395432\ttotal: 229ms\tremaining: 564ms\n",
      "289:\tlearn: 222799.6794445\ttotal: 230ms\tremaining: 562ms\n",
      "290:\tlearn: 221311.9243490\ttotal: 230ms\tremaining: 561ms\n",
      "291:\tlearn: 220225.9403565\ttotal: 231ms\tremaining: 560ms\n",
      "292:\tlearn: 219121.5891468\ttotal: 231ms\tremaining: 559ms\n",
      "293:\tlearn: 218070.4350662\ttotal: 232ms\tremaining: 557ms\n",
      "294:\tlearn: 216671.7924156\ttotal: 233ms\tremaining: 556ms\n",
      "295:\tlearn: 215315.6028412\ttotal: 233ms\tremaining: 555ms\n",
      "296:\tlearn: 214449.2987370\ttotal: 234ms\tremaining: 554ms\n",
      "297:\tlearn: 213458.8600965\ttotal: 235ms\tremaining: 552ms\n",
      "298:\tlearn: 212500.2055954\ttotal: 235ms\tremaining: 551ms\n",
      "299:\tlearn: 211297.4107420\ttotal: 236ms\tremaining: 550ms\n",
      "300:\tlearn: 210045.9237066\ttotal: 237ms\tremaining: 549ms\n",
      "301:\tlearn: 208437.4260926\ttotal: 237ms\tremaining: 548ms\n",
      "302:\tlearn: 207376.8268486\ttotal: 238ms\tremaining: 547ms\n",
      "303:\tlearn: 206237.3320847\ttotal: 239ms\tremaining: 546ms\n",
      "304:\tlearn: 205284.8138590\ttotal: 239ms\tremaining: 545ms\n",
      "305:\tlearn: 204120.9440273\ttotal: 240ms\tremaining: 544ms\n",
      "306:\tlearn: 203011.5365512\ttotal: 240ms\tremaining: 543ms\n",
      "307:\tlearn: 200883.9305028\ttotal: 241ms\tremaining: 542ms\n",
      "308:\tlearn: 199807.3647289\ttotal: 242ms\tremaining: 540ms\n",
      "309:\tlearn: 198946.0123326\ttotal: 242ms\tremaining: 539ms\n",
      "310:\tlearn: 198233.9003250\ttotal: 243ms\tremaining: 538ms\n",
      "311:\tlearn: 197353.4919223\ttotal: 243ms\tremaining: 537ms\n",
      "312:\tlearn: 196663.9262479\ttotal: 244ms\tremaining: 535ms\n",
      "313:\tlearn: 194626.1877459\ttotal: 245ms\tremaining: 534ms\n",
      "314:\tlearn: 193688.9570071\ttotal: 245ms\tremaining: 533ms\n",
      "315:\tlearn: 192681.1621693\ttotal: 246ms\tremaining: 533ms\n",
      "316:\tlearn: 191658.5304973\ttotal: 247ms\tremaining: 531ms\n",
      "317:\tlearn: 190668.3729302\ttotal: 247ms\tremaining: 530ms\n",
      "318:\tlearn: 188794.0286258\ttotal: 248ms\tremaining: 529ms\n",
      "319:\tlearn: 186926.3732711\ttotal: 249ms\tremaining: 528ms\n",
      "320:\tlearn: 186460.2821666\ttotal: 249ms\tremaining: 527ms\n",
      "321:\tlearn: 185631.8287673\ttotal: 250ms\tremaining: 526ms\n",
      "322:\tlearn: 183853.5565975\ttotal: 250ms\tremaining: 525ms\n",
      "323:\tlearn: 182995.7959406\ttotal: 251ms\tremaining: 523ms\n",
      "324:\tlearn: 181724.2198202\ttotal: 252ms\tremaining: 522ms\n",
      "325:\tlearn: 180995.2396862\ttotal: 252ms\tremaining: 521ms\n",
      "326:\tlearn: 180170.2911003\ttotal: 253ms\tremaining: 521ms\n",
      "327:\tlearn: 179536.5865875\ttotal: 254ms\tremaining: 520ms\n",
      "328:\tlearn: 178716.1014784\ttotal: 254ms\tremaining: 519ms\n",
      "329:\tlearn: 177943.6964695\ttotal: 255ms\tremaining: 518ms\n",
      "330:\tlearn: 177266.2036226\ttotal: 256ms\tremaining: 516ms\n",
      "331:\tlearn: 176729.3568920\ttotal: 256ms\tremaining: 515ms\n",
      "332:\tlearn: 175933.0048054\ttotal: 257ms\tremaining: 514ms\n",
      "333:\tlearn: 175174.8555992\ttotal: 257ms\tremaining: 513ms\n",
      "334:\tlearn: 174428.5208758\ttotal: 258ms\tremaining: 512ms\n",
      "335:\tlearn: 173496.9919135\ttotal: 258ms\tremaining: 511ms\n",
      "336:\tlearn: 173041.1976335\ttotal: 259ms\tremaining: 509ms\n",
      "337:\tlearn: 171405.8365638\ttotal: 259ms\tremaining: 508ms\n",
      "338:\tlearn: 170511.1412039\ttotal: 260ms\tremaining: 507ms\n",
      "339:\tlearn: 170136.0440501\ttotal: 261ms\tremaining: 506ms\n",
      "340:\tlearn: 169478.2631748\ttotal: 261ms\tremaining: 505ms\n",
      "341:\tlearn: 169041.9303374\ttotal: 262ms\tremaining: 504ms\n",
      "342:\tlearn: 167465.4243149\ttotal: 262ms\tremaining: 503ms\n",
      "343:\tlearn: 166392.2577823\ttotal: 263ms\tremaining: 502ms\n",
      "344:\tlearn: 165745.4890067\ttotal: 264ms\tremaining: 501ms\n",
      "345:\tlearn: 165383.8465321\ttotal: 264ms\tremaining: 500ms\n",
      "346:\tlearn: 163849.9685553\ttotal: 265ms\tremaining: 499ms\n",
      "347:\tlearn: 162342.3779898\ttotal: 266ms\tremaining: 497ms\n",
      "348:\tlearn: 162044.1538278\ttotal: 266ms\tremaining: 496ms\n",
      "349:\tlearn: 161349.7217187\ttotal: 267ms\tremaining: 495ms\n",
      "350:\tlearn: 160319.5621303\ttotal: 267ms\tremaining: 494ms\n",
      "351:\tlearn: 158531.6804536\ttotal: 268ms\tremaining: 493ms\n",
      "352:\tlearn: 158212.8692754\ttotal: 268ms\tremaining: 492ms\n",
      "353:\tlearn: 157606.9345600\ttotal: 269ms\tremaining: 491ms\n",
      "354:\tlearn: 157022.5551134\ttotal: 270ms\tremaining: 490ms\n",
      "355:\tlearn: 156682.4270212\ttotal: 270ms\tremaining: 489ms\n",
      "356:\tlearn: 154966.3027965\ttotal: 271ms\tremaining: 488ms\n",
      "357:\tlearn: 154517.9961617\ttotal: 271ms\tremaining: 487ms\n",
      "358:\tlearn: 153986.4681268\ttotal: 272ms\tremaining: 486ms\n",
      "359:\tlearn: 153507.9451234\ttotal: 273ms\tremaining: 485ms\n",
      "360:\tlearn: 152679.5303517\ttotal: 273ms\tremaining: 484ms\n",
      "361:\tlearn: 152033.8654482\ttotal: 274ms\tremaining: 483ms\n",
      "362:\tlearn: 151570.9300460\ttotal: 275ms\tremaining: 482ms\n",
      "363:\tlearn: 149946.6407380\ttotal: 275ms\tremaining: 481ms\n",
      "364:\tlearn: 149151.2693352\ttotal: 276ms\tremaining: 480ms\n",
      "365:\tlearn: 148723.1404602\ttotal: 276ms\tremaining: 479ms\n",
      "366:\tlearn: 147121.5565367\ttotal: 277ms\tremaining: 478ms\n",
      "367:\tlearn: 146680.7571751\ttotal: 278ms\tremaining: 477ms\n",
      "368:\tlearn: 146068.3202402\ttotal: 278ms\tremaining: 476ms\n",
      "369:\tlearn: 145151.8071191\ttotal: 279ms\tremaining: 475ms\n",
      "370:\tlearn: 144829.1745979\ttotal: 280ms\tremaining: 474ms\n",
      "371:\tlearn: 144514.1185472\ttotal: 280ms\tremaining: 473ms\n",
      "372:\tlearn: 144013.3740419\ttotal: 281ms\tremaining: 473ms\n",
      "373:\tlearn: 143589.1888712\ttotal: 282ms\tremaining: 472ms\n",
      "374:\tlearn: 142845.6103078\ttotal: 282ms\tremaining: 471ms\n",
      "375:\tlearn: 142536.6337324\ttotal: 283ms\tremaining: 470ms\n",
      "376:\tlearn: 142145.9393308\ttotal: 284ms\tremaining: 469ms\n",
      "377:\tlearn: 141409.8343716\ttotal: 284ms\tremaining: 468ms\n",
      "378:\tlearn: 140721.5303798\ttotal: 285ms\tremaining: 467ms\n",
      "379:\tlearn: 139996.3521884\ttotal: 286ms\tremaining: 466ms\n",
      "380:\tlearn: 139278.5072393\ttotal: 286ms\tremaining: 465ms\n",
      "381:\tlearn: 138570.6931659\ttotal: 287ms\tremaining: 464ms\n",
      "382:\tlearn: 137728.3487086\ttotal: 287ms\tremaining: 463ms\n",
      "383:\tlearn: 136909.5886261\ttotal: 288ms\tremaining: 462ms\n",
      "384:\tlearn: 136221.7807688\ttotal: 289ms\tremaining: 461ms\n",
      "385:\tlearn: 135840.3131075\ttotal: 289ms\tremaining: 460ms\n",
      "386:\tlearn: 135158.8557422\ttotal: 290ms\tremaining: 460ms\n",
      "387:\tlearn: 134950.2100152\ttotal: 291ms\tremaining: 459ms\n",
      "388:\tlearn: 134247.6830353\ttotal: 291ms\tremaining: 458ms\n",
      "389:\tlearn: 132842.8873852\ttotal: 292ms\tremaining: 457ms\n",
      "390:\tlearn: 132412.7606154\ttotal: 293ms\tremaining: 456ms\n",
      "391:\tlearn: 131687.6344707\ttotal: 293ms\tremaining: 455ms\n",
      "392:\tlearn: 131399.8785394\ttotal: 294ms\tremaining: 454ms\n",
      "393:\tlearn: 130983.1127219\ttotal: 294ms\tremaining: 453ms\n",
      "394:\tlearn: 129638.2315854\ttotal: 295ms\tremaining: 452ms\n",
      "395:\tlearn: 129087.9152198\ttotal: 296ms\tremaining: 451ms\n",
      "396:\tlearn: 128431.3663178\ttotal: 296ms\tremaining: 450ms\n",
      "397:\tlearn: 128227.8967753\ttotal: 297ms\tremaining: 449ms\n",
      "398:\tlearn: 127528.9733078\ttotal: 297ms\tremaining: 448ms\n",
      "399:\tlearn: 127142.9732731\ttotal: 298ms\tremaining: 447ms\n",
      "400:\tlearn: 126803.2780458\ttotal: 299ms\tremaining: 446ms\n",
      "401:\tlearn: 126444.8909446\ttotal: 299ms\tremaining: 446ms\n",
      "402:\tlearn: 125961.1900112\ttotal: 300ms\tremaining: 445ms\n",
      "403:\tlearn: 125626.1011807\ttotal: 301ms\tremaining: 444ms\n",
      "404:\tlearn: 125260.8703789\ttotal: 301ms\tremaining: 443ms\n",
      "405:\tlearn: 124842.6002160\ttotal: 302ms\tremaining: 442ms\n",
      "406:\tlearn: 124494.8747430\ttotal: 303ms\tremaining: 441ms\n",
      "407:\tlearn: 124137.0348709\ttotal: 303ms\tremaining: 440ms\n",
      "408:\tlearn: 123620.3122610\ttotal: 304ms\tremaining: 439ms\n",
      "409:\tlearn: 123272.4542746\ttotal: 304ms\tremaining: 438ms\n",
      "410:\tlearn: 123044.2160769\ttotal: 305ms\tremaining: 437ms\n",
      "411:\tlearn: 122405.9858307\ttotal: 306ms\tremaining: 436ms\n",
      "412:\tlearn: 121833.9382285\ttotal: 306ms\tremaining: 435ms\n",
      "413:\tlearn: 121429.5750346\ttotal: 307ms\tremaining: 434ms\n",
      "414:\tlearn: 121103.1432105\ttotal: 308ms\tremaining: 434ms\n",
      "415:\tlearn: 120787.9373047\ttotal: 308ms\tremaining: 433ms\n",
      "416:\tlearn: 120466.9076667\ttotal: 309ms\tremaining: 432ms\n",
      "417:\tlearn: 119912.8749497\ttotal: 310ms\tremaining: 431ms\n",
      "418:\tlearn: 119608.4052624\ttotal: 310ms\tremaining: 430ms\n",
      "419:\tlearn: 119297.0848871\ttotal: 311ms\tremaining: 429ms\n",
      "420:\tlearn: 118036.7010974\ttotal: 311ms\tremaining: 428ms\n",
      "421:\tlearn: 117713.6022740\ttotal: 312ms\tremaining: 427ms\n",
      "422:\tlearn: 117412.0607469\ttotal: 313ms\tremaining: 426ms\n",
      "423:\tlearn: 116474.7893441\ttotal: 313ms\tremaining: 426ms\n",
      "424:\tlearn: 116186.0881493\ttotal: 314ms\tremaining: 425ms\n",
      "425:\tlearn: 115613.9475152\ttotal: 315ms\tremaining: 424ms\n",
      "426:\tlearn: 114472.1604170\ttotal: 315ms\tremaining: 423ms\n",
      "427:\tlearn: 113524.9282263\ttotal: 316ms\tremaining: 422ms\n",
      "428:\tlearn: 113183.2572794\ttotal: 316ms\tremaining: 421ms\n",
      "429:\tlearn: 112889.5690536\ttotal: 317ms\tremaining: 420ms\n",
      "430:\tlearn: 111993.8037165\ttotal: 318ms\tremaining: 419ms\n",
      "431:\tlearn: 111111.3024538\ttotal: 318ms\tremaining: 419ms\n",
      "432:\tlearn: 110953.4585664\ttotal: 319ms\tremaining: 418ms\n",
      "433:\tlearn: 110157.9657849\ttotal: 320ms\tremaining: 417ms\n",
      "434:\tlearn: 109891.8099919\ttotal: 320ms\tremaining: 416ms\n",
      "435:\tlearn: 109590.0825448\ttotal: 321ms\tremaining: 415ms\n",
      "436:\tlearn: 108524.8562722\ttotal: 321ms\tremaining: 414ms\n",
      "437:\tlearn: 108237.4387122\ttotal: 322ms\tremaining: 413ms\n",
      "438:\tlearn: 107462.3683274\ttotal: 323ms\tremaining: 412ms\n",
      "439:\tlearn: 106698.6793865\ttotal: 323ms\tremaining: 411ms\n",
      "440:\tlearn: 106347.3998605\ttotal: 324ms\tremaining: 410ms\n",
      "441:\tlearn: 106038.9711977\ttotal: 324ms\tremaining: 410ms\n",
      "442:\tlearn: 105385.8824440\ttotal: 325ms\tremaining: 409ms\n",
      "443:\tlearn: 105155.5330391\ttotal: 326ms\tremaining: 408ms\n",
      "444:\tlearn: 104948.0804652\ttotal: 326ms\tremaining: 407ms\n",
      "445:\tlearn: 104700.7693560\ttotal: 327ms\tremaining: 406ms\n",
      "446:\tlearn: 103884.5781489\ttotal: 328ms\tremaining: 405ms\n",
      "447:\tlearn: 103643.4357582\ttotal: 328ms\tremaining: 404ms\n",
      "448:\tlearn: 103158.8958942\ttotal: 329ms\tremaining: 404ms\n",
      "449:\tlearn: 102357.7331870\ttotal: 329ms\tremaining: 403ms\n",
      "450:\tlearn: 101890.7062848\ttotal: 330ms\tremaining: 402ms\n",
      "451:\tlearn: 101783.8006506\ttotal: 331ms\tremaining: 401ms\n",
      "452:\tlearn: 101554.8627795\ttotal: 331ms\tremaining: 400ms\n",
      "453:\tlearn: 101323.9051161\ttotal: 332ms\tremaining: 399ms\n",
      "454:\tlearn: 100608.2765688\ttotal: 332ms\tremaining: 398ms\n",
      "455:\tlearn: 100363.1618289\ttotal: 333ms\tremaining: 397ms\n",
      "456:\tlearn: 100137.6173312\ttotal: 334ms\tremaining: 396ms\n",
      "457:\tlearn: 99435.1799329\ttotal: 334ms\tremaining: 396ms\n",
      "458:\tlearn: 98743.1053096\ttotal: 335ms\tremaining: 395ms\n",
      "459:\tlearn: 98409.1147755\ttotal: 336ms\tremaining: 394ms\n",
      "460:\tlearn: 98180.5270239\ttotal: 336ms\tremaining: 393ms\n",
      "461:\tlearn: 97188.6811155\ttotal: 337ms\tremaining: 392ms\n",
      "462:\tlearn: 96935.0666692\ttotal: 337ms\tremaining: 391ms\n",
      "463:\tlearn: 96187.5305294\ttotal: 338ms\tremaining: 390ms\n",
      "464:\tlearn: 95967.1679708\ttotal: 339ms\tremaining: 390ms\n",
      "465:\tlearn: 95650.9428771\ttotal: 339ms\tremaining: 389ms\n",
      "466:\tlearn: 95366.9938347\ttotal: 340ms\tremaining: 388ms\n",
      "467:\tlearn: 95233.5173370\ttotal: 341ms\tremaining: 387ms\n",
      "468:\tlearn: 95019.5190584\ttotal: 341ms\tremaining: 386ms\n",
      "469:\tlearn: 94287.3103787\ttotal: 342ms\tremaining: 385ms\n",
      "470:\tlearn: 93949.6604582\ttotal: 342ms\tremaining: 385ms\n",
      "471:\tlearn: 93739.5535758\ttotal: 343ms\tremaining: 384ms\n",
      "472:\tlearn: 93343.7274548\ttotal: 344ms\tremaining: 383ms\n",
      "473:\tlearn: 92732.0267582\ttotal: 344ms\tremaining: 382ms\n",
      "474:\tlearn: 92022.7475553\ttotal: 345ms\tremaining: 381ms\n",
      "475:\tlearn: 91899.6414118\ttotal: 346ms\tremaining: 380ms\n",
      "476:\tlearn: 91699.0374409\ttotal: 346ms\tremaining: 380ms\n",
      "477:\tlearn: 91386.6363966\ttotal: 347ms\tremaining: 379ms\n",
      "478:\tlearn: 90793.7920140\ttotal: 348ms\tremaining: 378ms\n",
      "479:\tlearn: 90693.0118084\ttotal: 348ms\tremaining: 377ms\n",
      "480:\tlearn: 90500.2473596\ttotal: 349ms\tremaining: 377ms\n",
      "481:\tlearn: 90194.2480618\ttotal: 350ms\tremaining: 376ms\n",
      "482:\tlearn: 89893.5422620\ttotal: 350ms\tremaining: 375ms\n",
      "483:\tlearn: 89463.1388121\ttotal: 351ms\tremaining: 374ms\n",
      "484:\tlearn: 88898.1517133\ttotal: 352ms\tremaining: 374ms\n",
      "485:\tlearn: 88805.1519629\ttotal: 353ms\tremaining: 373ms\n",
      "486:\tlearn: 87924.1631124\ttotal: 353ms\tremaining: 372ms\n",
      "487:\tlearn: 87811.3499437\ttotal: 354ms\tremaining: 371ms\n",
      "488:\tlearn: 87723.7868038\ttotal: 354ms\tremaining: 370ms\n",
      "489:\tlearn: 87158.2038156\ttotal: 355ms\tremaining: 370ms\n",
      "490:\tlearn: 86833.4800248\ttotal: 356ms\tremaining: 369ms\n",
      "491:\tlearn: 86516.4063835\ttotal: 356ms\tremaining: 368ms\n",
      "492:\tlearn: 86225.8542983\ttotal: 357ms\tremaining: 367ms\n",
      "493:\tlearn: 85674.7283732\ttotal: 358ms\tremaining: 366ms\n",
      "494:\tlearn: 85398.4526019\ttotal: 358ms\tremaining: 365ms\n",
      "495:\tlearn: 85319.4973541\ttotal: 359ms\tremaining: 365ms\n",
      "496:\tlearn: 85145.5491132\ttotal: 359ms\tremaining: 364ms\n",
      "497:\tlearn: 84878.4371220\ttotal: 360ms\tremaining: 363ms\n",
      "498:\tlearn: 84235.1594973\ttotal: 361ms\tremaining: 362ms\n",
      "499:\tlearn: 83406.3317927\ttotal: 361ms\tremaining: 361ms\n",
      "500:\tlearn: 83018.5031366\ttotal: 362ms\tremaining: 361ms\n",
      "501:\tlearn: 82589.7634726\ttotal: 363ms\tremaining: 360ms\n",
      "502:\tlearn: 82425.6582388\ttotal: 363ms\tremaining: 359ms\n",
      "503:\tlearn: 82343.1265579\ttotal: 364ms\tremaining: 358ms\n",
      "504:\tlearn: 82244.3857324\ttotal: 365ms\tremaining: 357ms\n",
      "505:\tlearn: 82083.0803728\ttotal: 365ms\tremaining: 357ms\n",
      "506:\tlearn: 81282.2164107\ttotal: 366ms\tremaining: 356ms\n",
      "507:\tlearn: 80771.0582644\ttotal: 366ms\tremaining: 355ms\n",
      "508:\tlearn: 80613.9203322\ttotal: 367ms\tremaining: 354ms\n",
      "509:\tlearn: 80325.2458765\ttotal: 368ms\tremaining: 353ms\n",
      "510:\tlearn: 80044.5571453\ttotal: 368ms\tremaining: 352ms\n",
      "511:\tlearn: 79848.1961552\ttotal: 369ms\tremaining: 352ms\n",
      "512:\tlearn: 79691.7758397\ttotal: 381ms\tremaining: 361ms\n",
      "513:\tlearn: 79191.4197167\ttotal: 382ms\tremaining: 361ms\n",
      "514:\tlearn: 78921.1580107\ttotal: 382ms\tremaining: 360ms\n",
      "515:\tlearn: 78158.7589779\ttotal: 383ms\tremaining: 359ms\n",
      "516:\tlearn: 78007.7160104\ttotal: 383ms\tremaining: 358ms\n",
      "517:\tlearn: 77431.6536026\ttotal: 384ms\tremaining: 357ms\n",
      "518:\tlearn: 77066.3864290\ttotal: 385ms\tremaining: 356ms\n",
      "519:\tlearn: 76817.4121491\ttotal: 385ms\tremaining: 356ms\n",
      "520:\tlearn: 76343.4715610\ttotal: 386ms\tremaining: 355ms\n",
      "521:\tlearn: 76264.7944819\ttotal: 386ms\tremaining: 354ms\n",
      "522:\tlearn: 75958.3129283\ttotal: 387ms\tremaining: 353ms\n",
      "523:\tlearn: 75235.6750340\ttotal: 388ms\tremaining: 352ms\n",
      "524:\tlearn: 75145.8040717\ttotal: 388ms\tremaining: 351ms\n",
      "525:\tlearn: 74435.5963086\ttotal: 389ms\tremaining: 350ms\n",
      "526:\tlearn: 73791.4390252\ttotal: 390ms\tremaining: 350ms\n",
      "527:\tlearn: 73462.1056041\ttotal: 390ms\tremaining: 349ms\n",
      "528:\tlearn: 73015.3718531\ttotal: 391ms\tremaining: 348ms\n",
      "529:\tlearn: 72676.8473213\ttotal: 391ms\tremaining: 347ms\n",
      "530:\tlearn: 72000.6505538\ttotal: 392ms\tremaining: 346ms\n",
      "531:\tlearn: 71898.7085067\ttotal: 393ms\tremaining: 345ms\n",
      "532:\tlearn: 71613.5010651\ttotal: 394ms\tremaining: 345ms\n",
      "533:\tlearn: 71286.6312057\ttotal: 394ms\tremaining: 344ms\n",
      "534:\tlearn: 70965.5415722\ttotal: 395ms\tremaining: 343ms\n",
      "535:\tlearn: 70689.0274973\ttotal: 395ms\tremaining: 342ms\n",
      "536:\tlearn: 70041.3548188\ttotal: 396ms\tremaining: 341ms\n",
      "537:\tlearn: 69541.0842614\ttotal: 396ms\tremaining: 340ms\n",
      "538:\tlearn: 69126.5413034\ttotal: 397ms\tremaining: 339ms\n",
      "539:\tlearn: 69048.1781235\ttotal: 398ms\tremaining: 339ms\n",
      "540:\tlearn: 68778.5079559\ttotal: 398ms\tremaining: 338ms\n",
      "541:\tlearn: 68341.8778754\ttotal: 399ms\tremaining: 337ms\n",
      "542:\tlearn: 67918.3715652\ttotal: 400ms\tremaining: 336ms\n",
      "543:\tlearn: 67847.0659381\ttotal: 400ms\tremaining: 336ms\n",
      "544:\tlearn: 67764.0916066\ttotal: 401ms\tremaining: 335ms\n",
      "545:\tlearn: 67577.0921014\ttotal: 401ms\tremaining: 334ms\n",
      "546:\tlearn: 67285.2485638\ttotal: 402ms\tremaining: 333ms\n",
      "547:\tlearn: 66807.3990660\ttotal: 403ms\tremaining: 332ms\n",
      "548:\tlearn: 66734.1414763\ttotal: 403ms\tremaining: 331ms\n",
      "549:\tlearn: 66430.2659093\ttotal: 404ms\tremaining: 330ms\n",
      "550:\tlearn: 66223.4929629\ttotal: 405ms\tremaining: 330ms\n",
      "551:\tlearn: 66156.3045628\ttotal: 405ms\tremaining: 329ms\n",
      "552:\tlearn: 65875.1682084\ttotal: 406ms\tremaining: 328ms\n",
      "553:\tlearn: 65412.3897241\ttotal: 407ms\tremaining: 327ms\n",
      "554:\tlearn: 65006.5459440\ttotal: 407ms\tremaining: 327ms\n",
      "555:\tlearn: 64794.8179763\ttotal: 408ms\tremaining: 326ms\n",
      "556:\tlearn: 64521.2394605\ttotal: 409ms\tremaining: 325ms\n",
      "557:\tlearn: 64075.9052790\ttotal: 409ms\tremaining: 324ms\n",
      "558:\tlearn: 63682.6301691\ttotal: 410ms\tremaining: 323ms\n",
      "559:\tlearn: 63432.1114178\ttotal: 410ms\tremaining: 322ms\n",
      "560:\tlearn: 63044.9789125\ttotal: 411ms\tremaining: 322ms\n",
      "561:\tlearn: 62746.5388616\ttotal: 412ms\tremaining: 321ms\n",
      "562:\tlearn: 62669.2212085\ttotal: 412ms\tremaining: 320ms\n",
      "563:\tlearn: 62427.6942547\ttotal: 413ms\tremaining: 319ms\n",
      "564:\tlearn: 62345.4587443\ttotal: 413ms\tremaining: 318ms\n",
      "565:\tlearn: 62266.0921812\ttotal: 414ms\tremaining: 317ms\n",
      "566:\tlearn: 62001.3024197\ttotal: 414ms\tremaining: 316ms\n",
      "567:\tlearn: 61861.6094634\ttotal: 415ms\tremaining: 315ms\n",
      "568:\tlearn: 61628.9265546\ttotal: 415ms\tremaining: 315ms\n",
      "569:\tlearn: 61569.1438817\ttotal: 416ms\tremaining: 314ms\n",
      "570:\tlearn: 61309.9515868\ttotal: 417ms\tremaining: 313ms\n",
      "571:\tlearn: 60920.6687235\ttotal: 417ms\tremaining: 312ms\n",
      "572:\tlearn: 60805.9645401\ttotal: 418ms\tremaining: 311ms\n",
      "573:\tlearn: 60519.2241262\ttotal: 418ms\tremaining: 311ms\n",
      "574:\tlearn: 60267.6823537\ttotal: 419ms\tremaining: 310ms\n",
      "575:\tlearn: 60143.3524764\ttotal: 419ms\tremaining: 309ms\n",
      "576:\tlearn: 59785.1393286\ttotal: 420ms\tremaining: 308ms\n",
      "577:\tlearn: 59729.2586091\ttotal: 421ms\tremaining: 307ms\n",
      "578:\tlearn: 59612.5495092\ttotal: 421ms\tremaining: 306ms\n",
      "579:\tlearn: 59433.5660674\ttotal: 422ms\tremaining: 305ms\n",
      "580:\tlearn: 59096.7623960\ttotal: 422ms\tremaining: 305ms\n",
      "581:\tlearn: 58873.5223689\ttotal: 423ms\tremaining: 304ms\n",
      "582:\tlearn: 58550.5710604\ttotal: 423ms\tremaining: 303ms\n",
      "583:\tlearn: 58480.6124617\ttotal: 424ms\tremaining: 302ms\n",
      "584:\tlearn: 58192.3929361\ttotal: 424ms\tremaining: 301ms\n",
      "585:\tlearn: 57695.4321131\ttotal: 425ms\tremaining: 300ms\n",
      "586:\tlearn: 57484.1752255\ttotal: 426ms\tremaining: 300ms\n",
      "587:\tlearn: 57431.2296722\ttotal: 426ms\tremaining: 299ms\n",
      "588:\tlearn: 56945.2023371\ttotal: 427ms\tremaining: 298ms\n",
      "589:\tlearn: 56874.1557080\ttotal: 428ms\tremaining: 297ms\n",
      "590:\tlearn: 56397.0571817\ttotal: 428ms\tremaining: 296ms\n",
      "591:\tlearn: 56293.8209204\ttotal: 429ms\tremaining: 295ms\n",
      "592:\tlearn: 56242.8663880\ttotal: 429ms\tremaining: 295ms\n",
      "593:\tlearn: 56058.1506247\ttotal: 430ms\tremaining: 294ms\n",
      "594:\tlearn: 55733.2266212\ttotal: 430ms\tremaining: 293ms\n",
      "595:\tlearn: 55269.0326457\ttotal: 431ms\tremaining: 292ms\n",
      "596:\tlearn: 55213.1553038\ttotal: 431ms\tremaining: 291ms\n",
      "597:\tlearn: 55021.3668378\ttotal: 432ms\tremaining: 290ms\n",
      "598:\tlearn: 54834.3863382\ttotal: 432ms\tremaining: 289ms\n",
      "599:\tlearn: 54786.6388102\ttotal: 433ms\tremaining: 289ms\n",
      "600:\tlearn: 54334.9312042\ttotal: 434ms\tremaining: 288ms\n",
      "601:\tlearn: 54097.1867889\ttotal: 434ms\tremaining: 287ms\n",
      "602:\tlearn: 53906.1023679\ttotal: 435ms\tremaining: 286ms\n",
      "603:\tlearn: 53599.0660797\ttotal: 436ms\tremaining: 286ms\n",
      "604:\tlearn: 53500.7775022\ttotal: 436ms\tremaining: 285ms\n",
      "605:\tlearn: 53198.2464685\ttotal: 437ms\tremaining: 284ms\n",
      "606:\tlearn: 53104.1489360\ttotal: 437ms\tremaining: 283ms\n",
      "607:\tlearn: 52960.0164114\ttotal: 438ms\tremaining: 282ms\n",
      "608:\tlearn: 52733.9577549\ttotal: 438ms\tremaining: 281ms\n",
      "609:\tlearn: 52641.5969468\ttotal: 439ms\tremaining: 281ms\n",
      "610:\tlearn: 52420.5882005\ttotal: 439ms\tremaining: 280ms\n",
      "611:\tlearn: 52248.2092501\ttotal: 440ms\tremaining: 279ms\n",
      "612:\tlearn: 51825.4043554\ttotal: 441ms\tremaining: 278ms\n",
      "613:\tlearn: 51584.9824235\ttotal: 441ms\tremaining: 277ms\n",
      "614:\tlearn: 51411.3503801\ttotal: 442ms\tremaining: 277ms\n",
      "615:\tlearn: 51271.1814168\ttotal: 442ms\tremaining: 276ms\n",
      "616:\tlearn: 50864.2238473\ttotal: 443ms\tremaining: 275ms\n",
      "617:\tlearn: 50734.1764233\ttotal: 444ms\tremaining: 274ms\n",
      "618:\tlearn: 50664.1440207\ttotal: 444ms\tremaining: 273ms\n",
      "619:\tlearn: 50382.5217777\ttotal: 445ms\tremaining: 273ms\n",
      "620:\tlearn: 50179.6980798\ttotal: 445ms\tremaining: 272ms\n",
      "621:\tlearn: 50003.5864657\ttotal: 446ms\tremaining: 271ms\n",
      "622:\tlearn: 49737.3226736\ttotal: 446ms\tremaining: 270ms\n",
      "623:\tlearn: 49580.5030907\ttotal: 447ms\tremaining: 269ms\n",
      "624:\tlearn: 49383.7096883\ttotal: 448ms\tremaining: 269ms\n",
      "625:\tlearn: 49304.8832897\ttotal: 448ms\tremaining: 268ms\n",
      "626:\tlearn: 49243.4625051\ttotal: 449ms\tremaining: 267ms\n",
      "627:\tlearn: 49073.1587941\ttotal: 449ms\tremaining: 266ms\n",
      "628:\tlearn: 48806.5713262\ttotal: 450ms\tremaining: 265ms\n",
      "629:\tlearn: 48756.4343317\ttotal: 450ms\tremaining: 264ms\n",
      "630:\tlearn: 48628.8886510\ttotal: 451ms\tremaining: 264ms\n",
      "631:\tlearn: 48251.4048636\ttotal: 451ms\tremaining: 263ms\n",
      "632:\tlearn: 48062.4216065\ttotal: 452ms\tremaining: 262ms\n",
      "633:\tlearn: 48013.7674706\ttotal: 453ms\tremaining: 261ms\n",
      "634:\tlearn: 47800.1699758\ttotal: 453ms\tremaining: 261ms\n",
      "635:\tlearn: 47758.3785335\ttotal: 454ms\tremaining: 260ms\n",
      "636:\tlearn: 47717.0464056\ttotal: 455ms\tremaining: 259ms\n",
      "637:\tlearn: 47510.3928582\ttotal: 455ms\tremaining: 258ms\n",
      "638:\tlearn: 47385.8146000\ttotal: 456ms\tremaining: 257ms\n",
      "639:\tlearn: 47346.4993553\ttotal: 456ms\tremaining: 257ms\n",
      "640:\tlearn: 47267.9835230\ttotal: 457ms\tremaining: 256ms\n",
      "641:\tlearn: 47128.1905224\ttotal: 457ms\tremaining: 255ms\n",
      "642:\tlearn: 47011.2512684\ttotal: 458ms\tremaining: 254ms\n",
      "643:\tlearn: 46900.2957825\ttotal: 459ms\tremaining: 254ms\n",
      "644:\tlearn: 46780.8027724\ttotal: 459ms\tremaining: 253ms\n",
      "645:\tlearn: 46729.7212880\ttotal: 460ms\tremaining: 252ms\n",
      "646:\tlearn: 46371.8754183\ttotal: 460ms\tremaining: 251ms\n",
      "647:\tlearn: 46031.2292848\ttotal: 461ms\tremaining: 250ms\n",
      "648:\tlearn: 45780.3755890\ttotal: 462ms\tremaining: 250ms\n",
      "649:\tlearn: 45592.2160433\ttotal: 462ms\tremaining: 249ms\n",
      "650:\tlearn: 45410.4039603\ttotal: 463ms\tremaining: 248ms\n",
      "651:\tlearn: 45353.7512855\ttotal: 463ms\tremaining: 247ms\n",
      "652:\tlearn: 45282.6473181\ttotal: 464ms\tremaining: 247ms\n",
      "653:\tlearn: 45099.6497965\ttotal: 465ms\tremaining: 246ms\n",
      "654:\tlearn: 44982.4392090\ttotal: 465ms\tremaining: 245ms\n",
      "655:\tlearn: 44893.7333671\ttotal: 466ms\tremaining: 244ms\n",
      "656:\tlearn: 44556.7132534\ttotal: 466ms\tremaining: 243ms\n",
      "657:\tlearn: 44226.6090668\ttotal: 467ms\tremaining: 243ms\n",
      "658:\tlearn: 44150.0798326\ttotal: 467ms\tremaining: 242ms\n",
      "659:\tlearn: 44046.7105340\ttotal: 468ms\tremaining: 241ms\n",
      "660:\tlearn: 43723.9531132\ttotal: 468ms\tremaining: 240ms\n",
      "661:\tlearn: 43625.3324866\ttotal: 469ms\tremaining: 239ms\n",
      "662:\tlearn: 43459.1416796\ttotal: 470ms\tremaining: 239ms\n",
      "663:\tlearn: 43412.3939466\ttotal: 470ms\tremaining: 238ms\n",
      "664:\tlearn: 43155.7080650\ttotal: 471ms\tremaining: 237ms\n",
      "665:\tlearn: 43105.9302327\ttotal: 472ms\tremaining: 237ms\n",
      "666:\tlearn: 43007.1823199\ttotal: 472ms\tremaining: 236ms\n",
      "667:\tlearn: 42696.9782272\ttotal: 473ms\tremaining: 235ms\n",
      "668:\tlearn: 42443.7138486\ttotal: 473ms\tremaining: 234ms\n",
      "669:\tlearn: 42395.5846921\ttotal: 474ms\tremaining: 233ms\n",
      "670:\tlearn: 42239.5676894\ttotal: 474ms\tremaining: 233ms\n",
      "671:\tlearn: 42106.9643341\ttotal: 475ms\tremaining: 232ms\n",
      "672:\tlearn: 41989.0801620\ttotal: 475ms\tremaining: 231ms\n",
      "673:\tlearn: 41943.5351116\ttotal: 476ms\tremaining: 230ms\n",
      "674:\tlearn: 41804.5968522\ttotal: 477ms\tremaining: 229ms\n",
      "675:\tlearn: 41760.3933059\ttotal: 477ms\tremaining: 229ms\n",
      "676:\tlearn: 41548.4596837\ttotal: 478ms\tremaining: 228ms\n",
      "677:\tlearn: 41344.3411390\ttotal: 478ms\tremaining: 227ms\n",
      "678:\tlearn: 41300.9917822\ttotal: 479ms\tremaining: 226ms\n",
      "679:\tlearn: 41221.7916234\ttotal: 480ms\tremaining: 226ms\n",
      "680:\tlearn: 41096.2829271\ttotal: 480ms\tremaining: 225ms\n",
      "681:\tlearn: 40949.4796769\ttotal: 481ms\tremaining: 224ms\n",
      "682:\tlearn: 40873.7121832\ttotal: 481ms\tremaining: 223ms\n",
      "683:\tlearn: 40739.0886475\ttotal: 482ms\tremaining: 223ms\n",
      "684:\tlearn: 40588.2444009\ttotal: 483ms\tremaining: 222ms\n",
      "685:\tlearn: 40476.4316283\ttotal: 483ms\tremaining: 221ms\n",
      "686:\tlearn: 40418.3278624\ttotal: 484ms\tremaining: 220ms\n",
      "687:\tlearn: 40387.2012391\ttotal: 484ms\tremaining: 220ms\n",
      "688:\tlearn: 40202.1192317\ttotal: 485ms\tremaining: 219ms\n",
      "689:\tlearn: 39917.1459093\ttotal: 485ms\tremaining: 218ms\n",
      "690:\tlearn: 39886.7064487\ttotal: 486ms\tremaining: 217ms\n",
      "691:\tlearn: 39750.2929228\ttotal: 486ms\tremaining: 216ms\n",
      "692:\tlearn: 39681.4500916\ttotal: 487ms\tremaining: 216ms\n",
      "693:\tlearn: 39604.8321165\ttotal: 487ms\tremaining: 215ms\n",
      "694:\tlearn: 39529.9357813\ttotal: 488ms\tremaining: 214ms\n",
      "695:\tlearn: 39401.0635562\ttotal: 489ms\tremaining: 214ms\n",
      "696:\tlearn: 39300.3559051\ttotal: 489ms\tremaining: 213ms\n",
      "697:\tlearn: 39214.8025085\ttotal: 490ms\tremaining: 212ms\n",
      "698:\tlearn: 39090.0376978\ttotal: 490ms\tremaining: 211ms\n",
      "699:\tlearn: 38968.9771391\ttotal: 491ms\tremaining: 210ms\n",
      "700:\tlearn: 38748.5563850\ttotal: 492ms\tremaining: 210ms\n",
      "701:\tlearn: 38577.5917417\ttotal: 492ms\tremaining: 209ms\n",
      "702:\tlearn: 38392.3650990\ttotal: 493ms\tremaining: 208ms\n",
      "703:\tlearn: 38322.6837303\ttotal: 493ms\tremaining: 207ms\n",
      "704:\tlearn: 38258.8491613\ttotal: 494ms\tremaining: 207ms\n",
      "705:\tlearn: 38114.0732596\ttotal: 494ms\tremaining: 206ms\n",
      "706:\tlearn: 37963.6326661\ttotal: 495ms\tremaining: 205ms\n",
      "707:\tlearn: 37922.0776568\ttotal: 496ms\tremaining: 204ms\n",
      "708:\tlearn: 37795.9381399\ttotal: 496ms\tremaining: 204ms\n",
      "709:\tlearn: 37727.9581978\ttotal: 497ms\tremaining: 203ms\n",
      "710:\tlearn: 37572.2952686\ttotal: 498ms\tremaining: 202ms\n",
      "711:\tlearn: 37498.4160948\ttotal: 498ms\tremaining: 202ms\n",
      "712:\tlearn: 37396.5707922\ttotal: 499ms\tremaining: 201ms\n",
      "713:\tlearn: 37299.3373363\ttotal: 499ms\tremaining: 200ms\n",
      "714:\tlearn: 37195.6438845\ttotal: 500ms\tremaining: 199ms\n",
      "715:\tlearn: 37116.0859355\ttotal: 500ms\tremaining: 199ms\n",
      "716:\tlearn: 37000.8605979\ttotal: 501ms\tremaining: 198ms\n",
      "717:\tlearn: 36973.0251676\ttotal: 502ms\tremaining: 197ms\n",
      "718:\tlearn: 36781.9160759\ttotal: 502ms\tremaining: 196ms\n",
      "719:\tlearn: 36741.4926808\ttotal: 503ms\tremaining: 195ms\n",
      "720:\tlearn: 36695.8437700\ttotal: 503ms\tremaining: 195ms\n",
      "721:\tlearn: 36473.6195379\ttotal: 504ms\tremaining: 194ms\n",
      "722:\tlearn: 36371.0470228\ttotal: 504ms\tremaining: 193ms\n",
      "723:\tlearn: 36214.4381121\ttotal: 505ms\tremaining: 192ms\n",
      "724:\tlearn: 36109.9994022\ttotal: 505ms\tremaining: 192ms\n",
      "725:\tlearn: 36043.2336862\ttotal: 506ms\tremaining: 191ms\n",
      "726:\tlearn: 35846.0653108\ttotal: 507ms\tremaining: 190ms\n",
      "727:\tlearn: 35744.5385476\ttotal: 508ms\tremaining: 190ms\n",
      "728:\tlearn: 35580.6735875\ttotal: 508ms\tremaining: 189ms\n",
      "729:\tlearn: 35487.5636726\ttotal: 509ms\tremaining: 188ms\n",
      "730:\tlearn: 35361.4611187\ttotal: 509ms\tremaining: 187ms\n",
      "731:\tlearn: 35277.5405885\ttotal: 510ms\tremaining: 187ms\n",
      "732:\tlearn: 35238.9745479\ttotal: 510ms\tremaining: 186ms\n",
      "733:\tlearn: 35150.4962385\ttotal: 511ms\tremaining: 185ms\n",
      "734:\tlearn: 35099.4563657\ttotal: 511ms\tremaining: 184ms\n",
      "735:\tlearn: 35064.8645130\ttotal: 512ms\tremaining: 184ms\n",
      "736:\tlearn: 34900.9688244\ttotal: 513ms\tremaining: 183ms\n",
      "737:\tlearn: 34859.4053263\ttotal: 513ms\tremaining: 182ms\n",
      "738:\tlearn: 34825.8095623\ttotal: 514ms\tremaining: 181ms\n",
      "739:\tlearn: 34666.0765321\ttotal: 514ms\tremaining: 181ms\n",
      "740:\tlearn: 34591.5288217\ttotal: 515ms\tremaining: 180ms\n",
      "741:\tlearn: 34505.1140847\ttotal: 516ms\tremaining: 179ms\n",
      "742:\tlearn: 34428.3891426\ttotal: 516ms\tremaining: 179ms\n",
      "743:\tlearn: 34379.3575298\ttotal: 517ms\tremaining: 178ms\n",
      "744:\tlearn: 34301.6298131\ttotal: 517ms\tremaining: 177ms\n",
      "745:\tlearn: 34213.0876921\ttotal: 518ms\tremaining: 176ms\n",
      "746:\tlearn: 34162.6552013\ttotal: 518ms\tremaining: 176ms\n",
      "747:\tlearn: 34093.3476768\ttotal: 519ms\tremaining: 175ms\n",
      "748:\tlearn: 33999.9061324\ttotal: 520ms\tremaining: 174ms\n",
      "749:\tlearn: 33849.1036359\ttotal: 520ms\tremaining: 173ms\n",
      "750:\tlearn: 33768.7725806\ttotal: 521ms\tremaining: 173ms\n",
      "751:\tlearn: 33684.2152759\ttotal: 521ms\tremaining: 172ms\n",
      "752:\tlearn: 33590.5459693\ttotal: 522ms\tremaining: 171ms\n",
      "753:\tlearn: 33472.5126187\ttotal: 522ms\tremaining: 170ms\n",
      "754:\tlearn: 33406.2248575\ttotal: 523ms\tremaining: 170ms\n",
      "755:\tlearn: 33382.5983659\ttotal: 523ms\tremaining: 169ms\n",
      "756:\tlearn: 33297.4864982\ttotal: 524ms\tremaining: 168ms\n",
      "757:\tlearn: 33260.8739533\ttotal: 525ms\tremaining: 168ms\n",
      "758:\tlearn: 33174.0723834\ttotal: 526ms\tremaining: 167ms\n",
      "759:\tlearn: 33130.1212404\ttotal: 526ms\tremaining: 166ms\n",
      "760:\tlearn: 33044.9525990\ttotal: 527ms\tremaining: 165ms\n",
      "761:\tlearn: 32845.1017386\ttotal: 527ms\tremaining: 165ms\n",
      "762:\tlearn: 32762.9033011\ttotal: 528ms\tremaining: 164ms\n",
      "763:\tlearn: 32661.7647024\ttotal: 528ms\tremaining: 163ms\n",
      "764:\tlearn: 32481.2394283\ttotal: 529ms\tremaining: 162ms\n",
      "765:\tlearn: 32403.5588365\ttotal: 529ms\tremaining: 162ms\n",
      "766:\tlearn: 32366.2989304\ttotal: 530ms\tremaining: 161ms\n",
      "767:\tlearn: 32332.9152616\ttotal: 531ms\tremaining: 160ms\n",
      "768:\tlearn: 32252.2697892\ttotal: 532ms\tremaining: 160ms\n",
      "769:\tlearn: 32184.9990395\ttotal: 532ms\tremaining: 159ms\n",
      "770:\tlearn: 32009.3934918\ttotal: 533ms\tremaining: 158ms\n",
      "771:\tlearn: 31935.3715175\ttotal: 533ms\tremaining: 158ms\n",
      "772:\tlearn: 31905.7919549\ttotal: 534ms\tremaining: 157ms\n",
      "773:\tlearn: 31771.9956744\ttotal: 535ms\tremaining: 156ms\n",
      "774:\tlearn: 31698.5073866\ttotal: 535ms\tremaining: 155ms\n",
      "775:\tlearn: 31568.3202656\ttotal: 536ms\tremaining: 155ms\n",
      "776:\tlearn: 31544.3100081\ttotal: 537ms\tremaining: 154ms\n",
      "777:\tlearn: 31514.9912623\ttotal: 537ms\tremaining: 153ms\n",
      "778:\tlearn: 31474.9905867\ttotal: 538ms\tremaining: 153ms\n",
      "779:\tlearn: 31296.0436879\ttotal: 539ms\tremaining: 152ms\n",
      "780:\tlearn: 31203.2669391\ttotal: 539ms\tremaining: 151ms\n",
      "781:\tlearn: 31111.5798540\ttotal: 540ms\tremaining: 150ms\n",
      "782:\tlearn: 31075.2323897\ttotal: 540ms\tremaining: 150ms\n",
      "783:\tlearn: 31049.4778638\ttotal: 541ms\tremaining: 149ms\n",
      "784:\tlearn: 31019.1743656\ttotal: 542ms\tremaining: 148ms\n",
      "785:\tlearn: 30979.7513513\ttotal: 542ms\tremaining: 148ms\n",
      "786:\tlearn: 30810.5343983\ttotal: 543ms\tremaining: 147ms\n",
      "787:\tlearn: 30736.1802210\ttotal: 543ms\tremaining: 146ms\n",
      "788:\tlearn: 30663.4822887\ttotal: 544ms\tremaining: 145ms\n",
      "789:\tlearn: 30583.8678960\ttotal: 545ms\tremaining: 145ms\n",
      "790:\tlearn: 30493.4382968\ttotal: 545ms\tremaining: 144ms\n",
      "791:\tlearn: 30467.8679641\ttotal: 546ms\tremaining: 143ms\n",
      "792:\tlearn: 30312.8519247\ttotal: 546ms\tremaining: 143ms\n",
      "793:\tlearn: 30225.7614103\ttotal: 547ms\tremaining: 142ms\n",
      "794:\tlearn: 30155.4151392\ttotal: 547ms\tremaining: 141ms\n",
      "795:\tlearn: 30086.6228016\ttotal: 548ms\tremaining: 140ms\n",
      "796:\tlearn: 29951.0376871\ttotal: 548ms\tremaining: 140ms\n",
      "797:\tlearn: 29930.7686337\ttotal: 549ms\tremaining: 139ms\n",
      "798:\tlearn: 29876.4478149\ttotal: 550ms\tremaining: 138ms\n",
      "799:\tlearn: 29771.7211061\ttotal: 550ms\tremaining: 138ms\n",
      "800:\tlearn: 29722.0191541\ttotal: 551ms\tremaining: 137ms\n",
      "801:\tlearn: 29665.5281456\ttotal: 552ms\tremaining: 136ms\n",
      "802:\tlearn: 29506.7848513\ttotal: 552ms\tremaining: 135ms\n",
      "803:\tlearn: 29452.4878848\ttotal: 553ms\tremaining: 135ms\n",
      "804:\tlearn: 29369.8014283\ttotal: 553ms\tremaining: 134ms\n",
      "805:\tlearn: 29334.5262377\ttotal: 554ms\tremaining: 133ms\n",
      "806:\tlearn: 29314.1723982\ttotal: 554ms\tremaining: 133ms\n",
      "807:\tlearn: 29232.8491306\ttotal: 555ms\tremaining: 132ms\n",
      "808:\tlearn: 29170.7287568\ttotal: 555ms\tremaining: 131ms\n",
      "809:\tlearn: 29029.6113804\ttotal: 556ms\tremaining: 130ms\n",
      "810:\tlearn: 28950.3899639\ttotal: 557ms\tremaining: 130ms\n",
      "811:\tlearn: 28919.0002422\ttotal: 557ms\tremaining: 129ms\n",
      "812:\tlearn: 28890.3280228\ttotal: 558ms\tremaining: 128ms\n",
      "813:\tlearn: 28825.5992850\ttotal: 558ms\tremaining: 128ms\n",
      "814:\tlearn: 28744.1255160\ttotal: 559ms\tremaining: 127ms\n",
      "815:\tlearn: 28695.2813453\ttotal: 559ms\tremaining: 126ms\n",
      "816:\tlearn: 28575.5043373\ttotal: 560ms\tremaining: 125ms\n",
      "817:\tlearn: 28511.7937759\ttotal: 563ms\tremaining: 125ms\n",
      "818:\tlearn: 28415.6752169\ttotal: 564ms\tremaining: 125ms\n",
      "819:\tlearn: 28376.3666719\ttotal: 565ms\tremaining: 124ms\n",
      "820:\tlearn: 28319.7815290\ttotal: 567ms\tremaining: 124ms\n",
      "821:\tlearn: 28257.1278461\ttotal: 568ms\tremaining: 123ms\n",
      "822:\tlearn: 28171.6334727\ttotal: 570ms\tremaining: 122ms\n",
      "823:\tlearn: 28100.1336872\ttotal: 570ms\tremaining: 122ms\n",
      "824:\tlearn: 28075.2580328\ttotal: 571ms\tremaining: 121ms\n",
      "825:\tlearn: 28011.2032541\ttotal: 571ms\tremaining: 120ms\n",
      "826:\tlearn: 27921.0175216\ttotal: 572ms\tremaining: 120ms\n",
      "827:\tlearn: 27897.1203144\ttotal: 572ms\tremaining: 119ms\n",
      "828:\tlearn: 27824.8427612\ttotal: 573ms\tremaining: 118ms\n",
      "829:\tlearn: 27759.4794469\ttotal: 573ms\tremaining: 117ms\n",
      "830:\tlearn: 27719.9304007\ttotal: 574ms\tremaining: 117ms\n",
      "831:\tlearn: 27702.9855404\ttotal: 574ms\tremaining: 116ms\n",
      "832:\tlearn: 27634.5693629\ttotal: 575ms\tremaining: 115ms\n",
      "833:\tlearn: 27487.8579651\ttotal: 576ms\tremaining: 115ms\n",
      "834:\tlearn: 27440.0157731\ttotal: 576ms\tremaining: 114ms\n",
      "835:\tlearn: 27383.7364778\ttotal: 577ms\tremaining: 113ms\n",
      "836:\tlearn: 27347.3577672\ttotal: 577ms\tremaining: 112ms\n",
      "837:\tlearn: 27258.9827468\ttotal: 578ms\tremaining: 112ms\n",
      "838:\tlearn: 27195.7734891\ttotal: 579ms\tremaining: 111ms\n",
      "839:\tlearn: 27178.1698451\ttotal: 579ms\tremaining: 110ms\n",
      "840:\tlearn: 27127.5459546\ttotal: 580ms\tremaining: 110ms\n",
      "841:\tlearn: 27079.2668246\ttotal: 580ms\tremaining: 109ms\n",
      "842:\tlearn: 27029.9845902\ttotal: 581ms\tremaining: 108ms\n",
      "843:\tlearn: 26986.9837369\ttotal: 581ms\tremaining: 107ms\n",
      "844:\tlearn: 26951.8782872\ttotal: 582ms\tremaining: 107ms\n",
      "845:\tlearn: 26904.9576008\ttotal: 582ms\tremaining: 106ms\n",
      "846:\tlearn: 26822.8211417\ttotal: 583ms\tremaining: 105ms\n",
      "847:\tlearn: 26706.8653193\ttotal: 584ms\tremaining: 105ms\n",
      "848:\tlearn: 26673.8418611\ttotal: 584ms\tremaining: 104ms\n",
      "849:\tlearn: 26606.5498327\ttotal: 585ms\tremaining: 103ms\n",
      "850:\tlearn: 26564.9384796\ttotal: 585ms\tremaining: 102ms\n",
      "851:\tlearn: 26509.9489174\ttotal: 586ms\tremaining: 102ms\n",
      "852:\tlearn: 26469.8412737\ttotal: 587ms\tremaining: 101ms\n",
      "853:\tlearn: 26437.5205134\ttotal: 587ms\tremaining: 100ms\n",
      "854:\tlearn: 26414.3062582\ttotal: 588ms\tremaining: 99.7ms\n",
      "855:\tlearn: 26375.7426927\ttotal: 589ms\tremaining: 99ms\n",
      "856:\tlearn: 26330.3028122\ttotal: 589ms\tremaining: 98.3ms\n",
      "857:\tlearn: 26282.0889332\ttotal: 590ms\tremaining: 97.6ms\n",
      "858:\tlearn: 26238.5445676\ttotal: 590ms\tremaining: 96.9ms\n",
      "859:\tlearn: 26107.0906644\ttotal: 591ms\tremaining: 96.2ms\n",
      "860:\tlearn: 26013.6714188\ttotal: 591ms\tremaining: 95.5ms\n",
      "861:\tlearn: 25976.7344142\ttotal: 592ms\tremaining: 94.8ms\n",
      "862:\tlearn: 25931.0550632\ttotal: 593ms\tremaining: 94.1ms\n",
      "863:\tlearn: 25906.5291152\ttotal: 593ms\tremaining: 93.4ms\n",
      "864:\tlearn: 25868.3005435\ttotal: 594ms\tremaining: 92.7ms\n",
      "865:\tlearn: 25848.0828125\ttotal: 594ms\tremaining: 92ms\n",
      "866:\tlearn: 25775.7880561\ttotal: 595ms\tremaining: 91.3ms\n",
      "867:\tlearn: 25662.6485463\ttotal: 595ms\tremaining: 90.6ms\n",
      "868:\tlearn: 25549.2885272\ttotal: 596ms\tremaining: 89.9ms\n",
      "869:\tlearn: 25478.1007095\ttotal: 597ms\tremaining: 89.2ms\n",
      "870:\tlearn: 25439.7466115\ttotal: 597ms\tremaining: 88.5ms\n",
      "871:\tlearn: 25353.9324727\ttotal: 598ms\tremaining: 87.8ms\n",
      "872:\tlearn: 25325.5686645\ttotal: 598ms\tremaining: 87.1ms\n",
      "873:\tlearn: 25307.8125123\ttotal: 599ms\tremaining: 86.4ms\n",
      "874:\tlearn: 25238.8792674\ttotal: 600ms\tremaining: 85.7ms\n",
      "875:\tlearn: 25195.2121044\ttotal: 600ms\tremaining: 85ms\n",
      "876:\tlearn: 25122.1178681\ttotal: 601ms\tremaining: 84.3ms\n",
      "877:\tlearn: 25072.6269374\ttotal: 601ms\tremaining: 83.5ms\n",
      "878:\tlearn: 25014.1184578\ttotal: 602ms\tremaining: 82.8ms\n",
      "879:\tlearn: 24979.4468330\ttotal: 602ms\tremaining: 82.2ms\n",
      "880:\tlearn: 24964.3220420\ttotal: 603ms\tremaining: 81.5ms\n",
      "881:\tlearn: 24947.3122463\ttotal: 604ms\tremaining: 80.7ms\n",
      "882:\tlearn: 24915.9769473\ttotal: 604ms\tremaining: 80ms\n",
      "883:\tlearn: 24854.9824880\ttotal: 605ms\tremaining: 79.4ms\n",
      "884:\tlearn: 24829.6297974\ttotal: 606ms\tremaining: 78.7ms\n",
      "885:\tlearn: 24794.9599847\ttotal: 606ms\tremaining: 78ms\n",
      "886:\tlearn: 24730.5988415\ttotal: 607ms\tremaining: 77.3ms\n",
      "887:\tlearn: 24668.5194601\ttotal: 607ms\tremaining: 76.6ms\n",
      "888:\tlearn: 24650.6374743\ttotal: 608ms\tremaining: 75.9ms\n",
      "889:\tlearn: 24570.7470086\ttotal: 608ms\tremaining: 75.2ms\n",
      "890:\tlearn: 24554.8402332\ttotal: 609ms\tremaining: 74.5ms\n",
      "891:\tlearn: 24475.0608118\ttotal: 610ms\tremaining: 73.8ms\n",
      "892:\tlearn: 24403.9573033\ttotal: 610ms\tremaining: 73.1ms\n",
      "893:\tlearn: 24369.4731485\ttotal: 611ms\tremaining: 72.4ms\n",
      "894:\tlearn: 24324.5098359\ttotal: 611ms\tremaining: 71.7ms\n",
      "895:\tlearn: 24276.4144314\ttotal: 612ms\tremaining: 71ms\n",
      "896:\tlearn: 24216.9130894\ttotal: 612ms\tremaining: 70.3ms\n",
      "897:\tlearn: 24178.1812095\ttotal: 613ms\tremaining: 69.6ms\n",
      "898:\tlearn: 24153.3249853\ttotal: 614ms\tremaining: 68.9ms\n",
      "899:\tlearn: 24096.2502238\ttotal: 614ms\tremaining: 68.2ms\n",
      "900:\tlearn: 24042.4722620\ttotal: 615ms\tremaining: 67.6ms\n",
      "901:\tlearn: 23989.9638813\ttotal: 615ms\tremaining: 66.9ms\n",
      "902:\tlearn: 23912.0251884\ttotal: 616ms\tremaining: 66.2ms\n",
      "903:\tlearn: 23832.9953184\ttotal: 617ms\tremaining: 65.5ms\n",
      "904:\tlearn: 23805.3124606\ttotal: 617ms\tremaining: 64.8ms\n",
      "905:\tlearn: 23674.8349822\ttotal: 618ms\tremaining: 64.1ms\n",
      "906:\tlearn: 23619.4142895\ttotal: 618ms\tremaining: 63.4ms\n",
      "907:\tlearn: 23564.9412292\ttotal: 619ms\tremaining: 62.7ms\n",
      "908:\tlearn: 23536.8068453\ttotal: 619ms\tremaining: 62ms\n",
      "909:\tlearn: 23489.9302616\ttotal: 620ms\tremaining: 61.3ms\n",
      "910:\tlearn: 23454.0659194\ttotal: 620ms\tremaining: 60.6ms\n",
      "911:\tlearn: 23432.7646099\ttotal: 621ms\tremaining: 59.9ms\n",
      "912:\tlearn: 23400.2732901\ttotal: 621ms\tremaining: 59.2ms\n",
      "913:\tlearn: 23378.0150677\ttotal: 622ms\tremaining: 58.5ms\n",
      "914:\tlearn: 23357.3721657\ttotal: 623ms\tremaining: 57.9ms\n",
      "915:\tlearn: 23317.1514498\ttotal: 623ms\tremaining: 57.2ms\n",
      "916:\tlearn: 23279.5446031\ttotal: 624ms\tremaining: 56.5ms\n",
      "917:\tlearn: 23227.5417890\ttotal: 625ms\tremaining: 55.8ms\n",
      "918:\tlearn: 23192.2601247\ttotal: 625ms\tremaining: 55.1ms\n",
      "919:\tlearn: 23157.7871546\ttotal: 626ms\tremaining: 54.4ms\n",
      "920:\tlearn: 23106.9538266\ttotal: 626ms\tremaining: 53.7ms\n",
      "921:\tlearn: 23024.1302529\ttotal: 627ms\tremaining: 53ms\n",
      "922:\tlearn: 22978.2750603\ttotal: 627ms\tremaining: 52.3ms\n",
      "923:\tlearn: 22963.2708897\ttotal: 628ms\tremaining: 51.6ms\n",
      "924:\tlearn: 22933.3638893\ttotal: 628ms\tremaining: 51ms\n",
      "925:\tlearn: 22897.6114893\ttotal: 629ms\tremaining: 50.3ms\n",
      "926:\tlearn: 22867.2128661\ttotal: 630ms\tremaining: 49.6ms\n",
      "927:\tlearn: 22820.3953992\ttotal: 630ms\tremaining: 48.9ms\n",
      "928:\tlearn: 22767.3585602\ttotal: 631ms\tremaining: 48.2ms\n",
      "929:\tlearn: 22711.6293446\ttotal: 631ms\tremaining: 47.5ms\n",
      "930:\tlearn: 22643.2738053\ttotal: 632ms\tremaining: 46.8ms\n",
      "931:\tlearn: 22596.2194021\ttotal: 633ms\tremaining: 46.2ms\n",
      "932:\tlearn: 22567.5416451\ttotal: 633ms\tremaining: 45.5ms\n",
      "933:\tlearn: 22538.6878613\ttotal: 634ms\tremaining: 44.8ms\n",
      "934:\tlearn: 22499.9398976\ttotal: 634ms\tremaining: 44.1ms\n",
      "935:\tlearn: 22471.2406589\ttotal: 635ms\tremaining: 43.4ms\n",
      "936:\tlearn: 22354.3481748\ttotal: 635ms\tremaining: 42.7ms\n",
      "937:\tlearn: 22326.6877105\ttotal: 636ms\tremaining: 42ms\n",
      "938:\tlearn: 22294.4682204\ttotal: 636ms\tremaining: 41.3ms\n",
      "939:\tlearn: 22251.4628142\ttotal: 637ms\tremaining: 40.7ms\n",
      "940:\tlearn: 22208.9833907\ttotal: 637ms\tremaining: 40ms\n",
      "941:\tlearn: 22117.6849768\ttotal: 638ms\tremaining: 39.3ms\n",
      "942:\tlearn: 22061.0606135\ttotal: 639ms\tremaining: 38.6ms\n",
      "943:\tlearn: 22032.4604713\ttotal: 639ms\tremaining: 37.9ms\n",
      "944:\tlearn: 21953.8511860\ttotal: 640ms\tremaining: 37.2ms\n",
      "945:\tlearn: 21926.1015538\ttotal: 641ms\tremaining: 36.6ms\n",
      "946:\tlearn: 21894.2313861\ttotal: 641ms\tremaining: 35.9ms\n",
      "947:\tlearn: 21867.8939392\ttotal: 642ms\tremaining: 35.2ms\n",
      "948:\tlearn: 21843.2899797\ttotal: 642ms\tremaining: 34.5ms\n",
      "949:\tlearn: 21817.0384823\ttotal: 643ms\tremaining: 33.8ms\n",
      "950:\tlearn: 21776.5740479\ttotal: 644ms\tremaining: 33.2ms\n",
      "951:\tlearn: 21746.2548631\ttotal: 644ms\tremaining: 32.5ms\n",
      "952:\tlearn: 21715.0057732\ttotal: 645ms\tremaining: 31.8ms\n",
      "953:\tlearn: 21690.0749273\ttotal: 645ms\tremaining: 31.1ms\n",
      "954:\tlearn: 21646.1660474\ttotal: 646ms\tremaining: 30.4ms\n",
      "955:\tlearn: 21606.2601053\ttotal: 646ms\tremaining: 29.7ms\n",
      "956:\tlearn: 21564.5005127\ttotal: 647ms\tremaining: 29.1ms\n",
      "957:\tlearn: 21538.9982351\ttotal: 647ms\tremaining: 28.4ms\n",
      "958:\tlearn: 21469.4744867\ttotal: 648ms\tremaining: 27.7ms\n",
      "959:\tlearn: 21454.8213869\ttotal: 648ms\tremaining: 27ms\n",
      "960:\tlearn: 21420.7706679\ttotal: 649ms\tremaining: 26.3ms\n",
      "961:\tlearn: 21404.4994269\ttotal: 650ms\tremaining: 25.7ms\n",
      "962:\tlearn: 21391.1431071\ttotal: 650ms\tremaining: 25ms\n",
      "963:\tlearn: 21337.5549000\ttotal: 651ms\tremaining: 24.3ms\n",
      "964:\tlearn: 21274.9144350\ttotal: 652ms\tremaining: 23.6ms\n",
      "965:\tlearn: 21250.5823165\ttotal: 652ms\tremaining: 23ms\n",
      "966:\tlearn: 21215.6116520\ttotal: 653ms\tremaining: 22.3ms\n",
      "967:\tlearn: 21177.6250053\ttotal: 653ms\tremaining: 21.6ms\n",
      "968:\tlearn: 21135.1039517\ttotal: 654ms\tremaining: 20.9ms\n",
      "969:\tlearn: 21108.0760924\ttotal: 654ms\tremaining: 20.2ms\n",
      "970:\tlearn: 21057.7966501\ttotal: 655ms\tremaining: 19.6ms\n",
      "971:\tlearn: 20993.2212762\ttotal: 655ms\tremaining: 18.9ms\n",
      "972:\tlearn: 20951.4755439\ttotal: 656ms\tremaining: 18.2ms\n",
      "973:\tlearn: 20898.2624390\ttotal: 656ms\tremaining: 17.5ms\n",
      "974:\tlearn: 20842.3320613\ttotal: 657ms\tremaining: 16.8ms\n",
      "975:\tlearn: 20806.5441428\ttotal: 658ms\tremaining: 16.2ms\n",
      "976:\tlearn: 20770.0834147\ttotal: 659ms\tremaining: 15.5ms\n",
      "977:\tlearn: 20756.0876200\ttotal: 659ms\tremaining: 14.8ms\n",
      "978:\tlearn: 20708.3840822\ttotal: 660ms\tremaining: 14.2ms\n",
      "979:\tlearn: 20668.4900435\ttotal: 661ms\tremaining: 13.5ms\n",
      "980:\tlearn: 20626.6720559\ttotal: 661ms\tremaining: 12.8ms\n",
      "981:\tlearn: 20602.7875519\ttotal: 662ms\tremaining: 12.1ms\n",
      "982:\tlearn: 20541.0521197\ttotal: 663ms\tremaining: 11.5ms\n",
      "983:\tlearn: 20504.0726340\ttotal: 663ms\tremaining: 10.8ms\n",
      "984:\tlearn: 20443.1088584\ttotal: 664ms\tremaining: 10.1ms\n",
      "985:\tlearn: 20395.3373425\ttotal: 665ms\tremaining: 9.44ms\n",
      "986:\tlearn: 20334.5928761\ttotal: 665ms\tremaining: 8.76ms\n",
      "987:\tlearn: 20314.7284015\ttotal: 666ms\tremaining: 8.09ms\n",
      "988:\tlearn: 20290.4871573\ttotal: 667ms\tremaining: 7.41ms\n",
      "989:\tlearn: 20251.7396750\ttotal: 667ms\tremaining: 6.74ms\n",
      "990:\tlearn: 20224.4888967\ttotal: 668ms\tremaining: 6.07ms\n",
      "991:\tlearn: 20176.7504991\ttotal: 669ms\tremaining: 5.39ms\n",
      "992:\tlearn: 20150.2915361\ttotal: 669ms\tremaining: 4.72ms\n",
      "993:\tlearn: 20137.6164586\ttotal: 670ms\tremaining: 4.04ms\n",
      "994:\tlearn: 20129.1537917\ttotal: 670ms\tremaining: 3.37ms\n",
      "995:\tlearn: 20106.3034875\ttotal: 671ms\tremaining: 2.69ms\n",
      "996:\tlearn: 20085.9075783\ttotal: 671ms\tremaining: 2.02ms\n",
      "997:\tlearn: 20038.1226747\ttotal: 672ms\tremaining: 1.35ms\n",
      "998:\tlearn: 20012.5571054\ttotal: 673ms\tremaining: 673us\n",
      "999:\tlearn: 19961.7405447\ttotal: 673ms\tremaining: 0us\n"
     ]
    },
    {
     "data": {
      "text/plain": [
       "<catboost.core.CatBoostRegressor at 0x7fbb7d9b25d0>"
      ]
     },
     "execution_count": 55,
     "metadata": {},
     "output_type": "execute_result"
    }
   ],
   "source": [
    "from catboost import CatBoostRegressor\n",
    "cat=CatBoostRegressor()\n",
    "cat.fit(X_train,y_train)"
   ]
  },
  {
   "cell_type": "code",
   "execution_count": 56,
   "id": "77961714",
   "metadata": {
    "execution": {
     "iopub.execute_input": "2022-07-03T15:29:44.700016Z",
     "iopub.status.busy": "2022-07-03T15:29:44.698562Z",
     "iopub.status.idle": "2022-07-03T15:29:44.709932Z",
     "shell.execute_reply": "2022-07-03T15:29:44.709110Z"
    },
    "papermill": {
     "duration": 0.03914,
     "end_time": "2022-07-03T15:29:44.711954",
     "exception": false,
     "start_time": "2022-07-03T15:29:44.672814",
     "status": "completed"
    },
    "tags": []
   },
   "outputs": [],
   "source": [
    "y_pred=cat.predict(X_test)\n",
    "y_pred=y_pred.round(2)"
   ]
  },
  {
   "cell_type": "code",
   "execution_count": 57,
   "id": "6337cced",
   "metadata": {
    "execution": {
     "iopub.execute_input": "2022-07-03T15:29:44.763231Z",
     "iopub.status.busy": "2022-07-03T15:29:44.762571Z",
     "iopub.status.idle": "2022-07-03T15:29:44.768608Z",
     "shell.execute_reply": "2022-07-03T15:29:44.767728Z"
    },
    "papermill": {
     "duration": 0.032981,
     "end_time": "2022-07-03T15:29:44.770442",
     "exception": false,
     "start_time": "2022-07-03T15:29:44.737461",
     "status": "completed"
    },
    "tags": []
   },
   "outputs": [
    {
     "data": {
      "text/plain": [
       "array([ 142768.47, 5017308.43,   64333.8 ,  204814.81,  213714.66])"
      ]
     },
     "execution_count": 57,
     "metadata": {},
     "output_type": "execute_result"
    }
   ],
   "source": [
    "y_pred[:5]"
   ]
  },
  {
   "cell_type": "code",
   "execution_count": 58,
   "id": "42a8a694",
   "metadata": {
    "execution": {
     "iopub.execute_input": "2022-07-03T15:29:44.823220Z",
     "iopub.status.busy": "2022-07-03T15:29:44.821610Z",
     "iopub.status.idle": "2022-07-03T15:29:44.829361Z",
     "shell.execute_reply": "2022-07-03T15:29:44.828445Z"
    },
    "papermill": {
     "duration": 0.035221,
     "end_time": "2022-07-03T15:29:44.831289",
     "exception": false,
     "start_time": "2022-07-03T15:29:44.796068",
     "status": "completed"
    },
    "tags": []
   },
   "outputs": [
    {
     "data": {
      "text/plain": [
       "222246.21364705882"
      ]
     },
     "execution_count": 58,
     "metadata": {},
     "output_type": "execute_result"
    }
   ],
   "source": [
    "from sklearn.metrics import mean_absolute_error\n",
    "mean_absolute_error(y_test,y_pred)"
   ]
  },
  {
   "cell_type": "code",
   "execution_count": 59,
   "id": "cb75bb6a",
   "metadata": {
    "execution": {
     "iopub.execute_input": "2022-07-03T15:29:44.883594Z",
     "iopub.status.busy": "2022-07-03T15:29:44.881994Z",
     "iopub.status.idle": "2022-07-03T15:29:45.159504Z",
     "shell.execute_reply": "2022-07-03T15:29:45.158577Z"
    },
    "papermill": {
     "duration": 0.305433,
     "end_time": "2022-07-03T15:29:45.161919",
     "exception": false,
     "start_time": "2022-07-03T15:29:44.856486",
     "status": "completed"
    },
    "tags": []
   },
   "outputs": [],
   "source": [
    "from sklearn.ensemble import RandomForestClassifier\n",
    "rfg=RandomForestClassifier()"
   ]
  },
  {
   "cell_type": "code",
   "execution_count": 60,
   "id": "2773cf49",
   "metadata": {
    "execution": {
     "iopub.execute_input": "2022-07-03T15:29:45.214444Z",
     "iopub.status.busy": "2022-07-03T15:29:45.213557Z",
     "iopub.status.idle": "2022-07-03T15:29:45.219885Z",
     "shell.execute_reply": "2022-07-03T15:29:45.219087Z"
    },
    "papermill": {
     "duration": 0.03445,
     "end_time": "2022-07-03T15:29:45.221789",
     "exception": false,
     "start_time": "2022-07-03T15:29:45.187339",
     "status": "completed"
    },
    "tags": []
   },
   "outputs": [],
   "source": [
    "n_estimators=[int(y) for y in np.linspace(10,500,4)]\n",
    "criterion=['gini','entropy']\n",
    "max_depth=[int(x) for x in np.linspace(5,100,4)]\n",
    "max_features=['sqrt',None]\n",
    "oob_score=[True,False]"
   ]
  },
  {
   "cell_type": "code",
   "execution_count": 61,
   "id": "10155e02",
   "metadata": {
    "execution": {
     "iopub.execute_input": "2022-07-03T15:29:45.273064Z",
     "iopub.status.busy": "2022-07-03T15:29:45.272806Z",
     "iopub.status.idle": "2022-07-03T15:29:45.277159Z",
     "shell.execute_reply": "2022-07-03T15:29:45.276230Z"
    },
    "papermill": {
     "duration": 0.032144,
     "end_time": "2022-07-03T15:29:45.278981",
     "exception": false,
     "start_time": "2022-07-03T15:29:45.246837",
     "status": "completed"
    },
    "tags": []
   },
   "outputs": [],
   "source": [
    "param_grid={\n",
    "    \n",
    "    'n_estimators':n_estimators,\n",
    "    'criterion':criterion,\n",
    "    'max_depth':max_depth,\n",
    "    'max_features':max_features,\n",
    "    'oob_score':oob_score\n",
    "           \n",
    "           }"
   ]
  },
  {
   "cell_type": "code",
   "execution_count": 62,
   "id": "19d5522a",
   "metadata": {
    "execution": {
     "iopub.execute_input": "2022-07-03T15:29:45.329611Z",
     "iopub.status.busy": "2022-07-03T15:29:45.329355Z",
     "iopub.status.idle": "2022-07-03T15:29:45.333871Z",
     "shell.execute_reply": "2022-07-03T15:29:45.332878Z"
    },
    "papermill": {
     "duration": 0.032287,
     "end_time": "2022-07-03T15:29:45.336086",
     "exception": false,
     "start_time": "2022-07-03T15:29:45.303799",
     "status": "completed"
    },
    "tags": []
   },
   "outputs": [
    {
     "name": "stdout",
     "output_type": "stream",
     "text": [
      "{'n_estimators': [10, 173, 336, 500], 'criterion': ['gini', 'entropy'], 'max_depth': [5, 36, 68, 100], 'max_features': ['sqrt', None], 'oob_score': [True, False]}\n"
     ]
    }
   ],
   "source": [
    "print(param_grid)"
   ]
  },
  {
   "cell_type": "code",
   "execution_count": 63,
   "id": "80cd7dac",
   "metadata": {
    "execution": {
     "iopub.execute_input": "2022-07-03T15:29:45.387130Z",
     "iopub.status.busy": "2022-07-03T15:29:45.386862Z",
     "iopub.status.idle": "2022-07-03T15:29:45.391468Z",
     "shell.execute_reply": "2022-07-03T15:29:45.390571Z"
    },
    "papermill": {
     "duration": 0.032512,
     "end_time": "2022-07-03T15:29:45.393587",
     "exception": false,
     "start_time": "2022-07-03T15:29:45.361075",
     "status": "completed"
    },
    "tags": []
   },
   "outputs": [
    {
     "name": "stdout",
     "output_type": "stream",
     "text": [
      "128\n"
     ]
    }
   ],
   "source": [
    "num_combinations=1\n",
    "for k in param_grid.keys():\n",
    "    num_combinations*=len(param_grid[k])\n",
    "    \n",
    "print(num_combinations)"
   ]
  },
  {
   "cell_type": "code",
   "execution_count": 64,
   "id": "0f523a04",
   "metadata": {
    "execution": {
     "iopub.execute_input": "2022-07-03T15:29:45.445349Z",
     "iopub.status.busy": "2022-07-03T15:29:45.443914Z",
     "iopub.status.idle": "2022-07-03T15:29:45.448763Z",
     "shell.execute_reply": "2022-07-03T15:29:45.447939Z"
    },
    "papermill": {
     "duration": 0.032185,
     "end_time": "2022-07-03T15:29:45.450701",
     "exception": false,
     "start_time": "2022-07-03T15:29:45.418516",
     "status": "completed"
    },
    "tags": []
   },
   "outputs": [],
   "source": [
    "from sklearn.model_selection import GridSearchCV\n",
    "rfg_grid=GridSearchCV(estimator=rfg,param_grid=param_grid,verbose=2)"
   ]
  },
  {
   "cell_type": "code",
   "execution_count": 65,
   "id": "6ff24b92",
   "metadata": {
    "execution": {
     "iopub.execute_input": "2022-07-03T15:29:45.501472Z",
     "iopub.status.busy": "2022-07-03T15:29:45.500963Z",
     "iopub.status.idle": "2022-07-03T15:39:49.598762Z",
     "shell.execute_reply": "2022-07-03T15:39:49.597737Z"
    },
    "papermill": {
     "duration": 604.125638,
     "end_time": "2022-07-03T15:39:49.601214",
     "exception": false,
     "start_time": "2022-07-03T15:29:45.475576",
     "status": "completed"
    },
    "tags": []
   },
   "outputs": [
    {
     "name": "stdout",
     "output_type": "stream",
     "text": [
      "Fitting 5 folds for each of 128 candidates, totalling 640 fits\n",
      "[CV] END criterion=gini, max_depth=5, max_features=sqrt, n_estimators=10, oob_score=True; total time=   0.0s\n",
      "[CV] END criterion=gini, max_depth=5, max_features=sqrt, n_estimators=10, oob_score=True; total time=   0.0s\n",
      "[CV] END criterion=gini, max_depth=5, max_features=sqrt, n_estimators=10, oob_score=True; total time=   0.0s\n",
      "[CV] END criterion=gini, max_depth=5, max_features=sqrt, n_estimators=10, oob_score=True; total time=   0.0s\n",
      "[CV] END criterion=gini, max_depth=5, max_features=sqrt, n_estimators=10, oob_score=True; total time=   0.0s\n",
      "[CV] END criterion=gini, max_depth=5, max_features=sqrt, n_estimators=10, oob_score=False; total time=   0.0s\n",
      "[CV] END criterion=gini, max_depth=5, max_features=sqrt, n_estimators=10, oob_score=False; total time=   0.0s\n",
      "[CV] END criterion=gini, max_depth=5, max_features=sqrt, n_estimators=10, oob_score=False; total time=   0.0s\n",
      "[CV] END criterion=gini, max_depth=5, max_features=sqrt, n_estimators=10, oob_score=False; total time=   0.0s\n",
      "[CV] END criterion=gini, max_depth=5, max_features=sqrt, n_estimators=10, oob_score=False; total time=   0.0s\n",
      "[CV] END criterion=gini, max_depth=5, max_features=sqrt, n_estimators=173, oob_score=True; total time=   0.4s\n",
      "[CV] END criterion=gini, max_depth=5, max_features=sqrt, n_estimators=173, oob_score=True; total time=   0.4s\n",
      "[CV] END criterion=gini, max_depth=5, max_features=sqrt, n_estimators=173, oob_score=True; total time=   0.4s\n",
      "[CV] END criterion=gini, max_depth=5, max_features=sqrt, n_estimators=173, oob_score=True; total time=   0.4s\n",
      "[CV] END criterion=gini, max_depth=5, max_features=sqrt, n_estimators=173, oob_score=True; total time=   0.4s\n",
      "[CV] END criterion=gini, max_depth=5, max_features=sqrt, n_estimators=173, oob_score=False; total time=   0.3s\n",
      "[CV] END criterion=gini, max_depth=5, max_features=sqrt, n_estimators=173, oob_score=False; total time=   0.3s\n",
      "[CV] END criterion=gini, max_depth=5, max_features=sqrt, n_estimators=173, oob_score=False; total time=   0.3s\n",
      "[CV] END criterion=gini, max_depth=5, max_features=sqrt, n_estimators=173, oob_score=False; total time=   0.3s\n",
      "[CV] END criterion=gini, max_depth=5, max_features=sqrt, n_estimators=173, oob_score=False; total time=   0.3s\n",
      "[CV] END criterion=gini, max_depth=5, max_features=sqrt, n_estimators=336, oob_score=True; total time=   0.8s\n",
      "[CV] END criterion=gini, max_depth=5, max_features=sqrt, n_estimators=336, oob_score=True; total time=   1.0s\n",
      "[CV] END criterion=gini, max_depth=5, max_features=sqrt, n_estimators=336, oob_score=True; total time=   1.1s\n",
      "[CV] END criterion=gini, max_depth=5, max_features=sqrt, n_estimators=336, oob_score=True; total time=   0.9s\n",
      "[CV] END criterion=gini, max_depth=5, max_features=sqrt, n_estimators=336, oob_score=True; total time=   0.8s\n",
      "[CV] END criterion=gini, max_depth=5, max_features=sqrt, n_estimators=336, oob_score=False; total time=   0.6s\n",
      "[CV] END criterion=gini, max_depth=5, max_features=sqrt, n_estimators=336, oob_score=False; total time=   0.6s\n",
      "[CV] END criterion=gini, max_depth=5, max_features=sqrt, n_estimators=336, oob_score=False; total time=   0.6s\n",
      "[CV] END criterion=gini, max_depth=5, max_features=sqrt, n_estimators=336, oob_score=False; total time=   0.6s\n",
      "[CV] END criterion=gini, max_depth=5, max_features=sqrt, n_estimators=336, oob_score=False; total time=   0.6s\n",
      "[CV] END criterion=gini, max_depth=5, max_features=sqrt, n_estimators=500, oob_score=True; total time=   1.2s\n",
      "[CV] END criterion=gini, max_depth=5, max_features=sqrt, n_estimators=500, oob_score=True; total time=   1.2s\n",
      "[CV] END criterion=gini, max_depth=5, max_features=sqrt, n_estimators=500, oob_score=True; total time=   1.2s\n",
      "[CV] END criterion=gini, max_depth=5, max_features=sqrt, n_estimators=500, oob_score=True; total time=   1.4s\n",
      "[CV] END criterion=gini, max_depth=5, max_features=sqrt, n_estimators=500, oob_score=True; total time=   1.2s\n",
      "[CV] END criterion=gini, max_depth=5, max_features=sqrt, n_estimators=500, oob_score=False; total time=   0.9s\n",
      "[CV] END criterion=gini, max_depth=5, max_features=sqrt, n_estimators=500, oob_score=False; total time=   0.9s\n",
      "[CV] END criterion=gini, max_depth=5, max_features=sqrt, n_estimators=500, oob_score=False; total time=   0.9s\n",
      "[CV] END criterion=gini, max_depth=5, max_features=sqrt, n_estimators=500, oob_score=False; total time=   0.9s\n",
      "[CV] END criterion=gini, max_depth=5, max_features=sqrt, n_estimators=500, oob_score=False; total time=   0.9s\n",
      "[CV] END criterion=gini, max_depth=5, max_features=None, n_estimators=10, oob_score=True; total time=   0.0s\n",
      "[CV] END criterion=gini, max_depth=5, max_features=None, n_estimators=10, oob_score=True; total time=   0.0s\n",
      "[CV] END criterion=gini, max_depth=5, max_features=None, n_estimators=10, oob_score=True; total time=   0.0s\n",
      "[CV] END criterion=gini, max_depth=5, max_features=None, n_estimators=10, oob_score=True; total time=   0.0s\n",
      "[CV] END criterion=gini, max_depth=5, max_features=None, n_estimators=10, oob_score=True; total time=   0.0s\n",
      "[CV] END criterion=gini, max_depth=5, max_features=None, n_estimators=10, oob_score=False; total time=   0.0s\n",
      "[CV] END criterion=gini, max_depth=5, max_features=None, n_estimators=10, oob_score=False; total time=   0.0s\n",
      "[CV] END criterion=gini, max_depth=5, max_features=None, n_estimators=10, oob_score=False; total time=   0.0s\n",
      "[CV] END criterion=gini, max_depth=5, max_features=None, n_estimators=10, oob_score=False; total time=   0.0s\n",
      "[CV] END criterion=gini, max_depth=5, max_features=None, n_estimators=10, oob_score=False; total time=   0.0s\n",
      "[CV] END criterion=gini, max_depth=5, max_features=None, n_estimators=173, oob_score=True; total time=   0.5s\n",
      "[CV] END criterion=gini, max_depth=5, max_features=None, n_estimators=173, oob_score=True; total time=   0.5s\n",
      "[CV] END criterion=gini, max_depth=5, max_features=None, n_estimators=173, oob_score=True; total time=   0.5s\n",
      "[CV] END criterion=gini, max_depth=5, max_features=None, n_estimators=173, oob_score=True; total time=   0.5s\n",
      "[CV] END criterion=gini, max_depth=5, max_features=None, n_estimators=173, oob_score=True; total time=   0.6s\n",
      "[CV] END criterion=gini, max_depth=5, max_features=None, n_estimators=173, oob_score=False; total time=   0.4s\n",
      "[CV] END criterion=gini, max_depth=5, max_features=None, n_estimators=173, oob_score=False; total time=   0.4s\n",
      "[CV] END criterion=gini, max_depth=5, max_features=None, n_estimators=173, oob_score=False; total time=   0.4s\n",
      "[CV] END criterion=gini, max_depth=5, max_features=None, n_estimators=173, oob_score=False; total time=   0.5s\n",
      "[CV] END criterion=gini, max_depth=5, max_features=None, n_estimators=173, oob_score=False; total time=   0.6s\n",
      "[CV] END criterion=gini, max_depth=5, max_features=None, n_estimators=336, oob_score=True; total time=   1.0s\n",
      "[CV] END criterion=gini, max_depth=5, max_features=None, n_estimators=336, oob_score=True; total time=   1.0s\n",
      "[CV] END criterion=gini, max_depth=5, max_features=None, n_estimators=336, oob_score=True; total time=   1.0s\n",
      "[CV] END criterion=gini, max_depth=5, max_features=None, n_estimators=336, oob_score=True; total time=   1.0s\n",
      "[CV] END criterion=gini, max_depth=5, max_features=None, n_estimators=336, oob_score=True; total time=   1.0s\n",
      "[CV] END criterion=gini, max_depth=5, max_features=None, n_estimators=336, oob_score=False; total time=   0.8s\n",
      "[CV] END criterion=gini, max_depth=5, max_features=None, n_estimators=336, oob_score=False; total time=   0.8s\n",
      "[CV] END criterion=gini, max_depth=5, max_features=None, n_estimators=336, oob_score=False; total time=   0.8s\n",
      "[CV] END criterion=gini, max_depth=5, max_features=None, n_estimators=336, oob_score=False; total time=   0.8s\n",
      "[CV] END criterion=gini, max_depth=5, max_features=None, n_estimators=336, oob_score=False; total time=   0.8s\n",
      "[CV] END criterion=gini, max_depth=5, max_features=None, n_estimators=500, oob_score=True; total time=   1.7s\n",
      "[CV] END criterion=gini, max_depth=5, max_features=None, n_estimators=500, oob_score=True; total time=   1.9s\n",
      "[CV] END criterion=gini, max_depth=5, max_features=None, n_estimators=500, oob_score=True; total time=   1.5s\n",
      "[CV] END criterion=gini, max_depth=5, max_features=None, n_estimators=500, oob_score=True; total time=   1.5s\n",
      "[CV] END criterion=gini, max_depth=5, max_features=None, n_estimators=500, oob_score=True; total time=   1.5s\n",
      "[CV] END criterion=gini, max_depth=5, max_features=None, n_estimators=500, oob_score=False; total time=   1.2s\n",
      "[CV] END criterion=gini, max_depth=5, max_features=None, n_estimators=500, oob_score=False; total time=   1.2s\n",
      "[CV] END criterion=gini, max_depth=5, max_features=None, n_estimators=500, oob_score=False; total time=   1.2s\n",
      "[CV] END criterion=gini, max_depth=5, max_features=None, n_estimators=500, oob_score=False; total time=   1.4s\n",
      "[CV] END criterion=gini, max_depth=5, max_features=None, n_estimators=500, oob_score=False; total time=   1.2s\n",
      "[CV] END criterion=gini, max_depth=36, max_features=sqrt, n_estimators=10, oob_score=True; total time=   0.0s\n",
      "[CV] END criterion=gini, max_depth=36, max_features=sqrt, n_estimators=10, oob_score=True; total time=   0.0s\n",
      "[CV] END criterion=gini, max_depth=36, max_features=sqrt, n_estimators=10, oob_score=True; total time=   0.0s\n",
      "[CV] END criterion=gini, max_depth=36, max_features=sqrt, n_estimators=10, oob_score=True; total time=   0.0s\n",
      "[CV] END criterion=gini, max_depth=36, max_features=sqrt, n_estimators=10, oob_score=True; total time=   0.0s\n",
      "[CV] END criterion=gini, max_depth=36, max_features=sqrt, n_estimators=10, oob_score=False; total time=   0.0s\n",
      "[CV] END criterion=gini, max_depth=36, max_features=sqrt, n_estimators=10, oob_score=False; total time=   0.0s\n",
      "[CV] END criterion=gini, max_depth=36, max_features=sqrt, n_estimators=10, oob_score=False; total time=   0.0s\n",
      "[CV] END criterion=gini, max_depth=36, max_features=sqrt, n_estimators=10, oob_score=False; total time=   0.0s\n",
      "[CV] END criterion=gini, max_depth=36, max_features=sqrt, n_estimators=10, oob_score=False; total time=   0.0s\n",
      "[CV] END criterion=gini, max_depth=36, max_features=sqrt, n_estimators=173, oob_score=True; total time=   0.6s\n",
      "[CV] END criterion=gini, max_depth=36, max_features=sqrt, n_estimators=173, oob_score=True; total time=   0.6s\n",
      "[CV] END criterion=gini, max_depth=36, max_features=sqrt, n_estimators=173, oob_score=True; total time=   0.6s\n",
      "[CV] END criterion=gini, max_depth=36, max_features=sqrt, n_estimators=173, oob_score=True; total time=   0.5s\n",
      "[CV] END criterion=gini, max_depth=36, max_features=sqrt, n_estimators=173, oob_score=True; total time=   0.5s\n",
      "[CV] END criterion=gini, max_depth=36, max_features=sqrt, n_estimators=173, oob_score=False; total time=   0.5s\n",
      "[CV] END criterion=gini, max_depth=36, max_features=sqrt, n_estimators=173, oob_score=False; total time=   0.4s\n",
      "[CV] END criterion=gini, max_depth=36, max_features=sqrt, n_estimators=173, oob_score=False; total time=   0.5s\n",
      "[CV] END criterion=gini, max_depth=36, max_features=sqrt, n_estimators=173, oob_score=False; total time=   0.5s\n",
      "[CV] END criterion=gini, max_depth=36, max_features=sqrt, n_estimators=173, oob_score=False; total time=   0.4s\n",
      "[CV] END criterion=gini, max_depth=36, max_features=sqrt, n_estimators=336, oob_score=True; total time=   1.1s\n",
      "[CV] END criterion=gini, max_depth=36, max_features=sqrt, n_estimators=336, oob_score=True; total time=   1.1s\n",
      "[CV] END criterion=gini, max_depth=36, max_features=sqrt, n_estimators=336, oob_score=True; total time=   1.1s\n",
      "[CV] END criterion=gini, max_depth=36, max_features=sqrt, n_estimators=336, oob_score=True; total time=   1.4s\n",
      "[CV] END criterion=gini, max_depth=36, max_features=sqrt, n_estimators=336, oob_score=True; total time=   1.1s\n",
      "[CV] END criterion=gini, max_depth=36, max_features=sqrt, n_estimators=336, oob_score=False; total time=   0.9s\n",
      "[CV] END criterion=gini, max_depth=36, max_features=sqrt, n_estimators=336, oob_score=False; total time=   0.9s\n",
      "[CV] END criterion=gini, max_depth=36, max_features=sqrt, n_estimators=336, oob_score=False; total time=   0.9s\n",
      "[CV] END criterion=gini, max_depth=36, max_features=sqrt, n_estimators=336, oob_score=False; total time=   0.9s\n",
      "[CV] END criterion=gini, max_depth=36, max_features=sqrt, n_estimators=336, oob_score=False; total time=   0.9s\n",
      "[CV] END criterion=gini, max_depth=36, max_features=sqrt, n_estimators=500, oob_score=True; total time=   1.6s\n",
      "[CV] END criterion=gini, max_depth=36, max_features=sqrt, n_estimators=500, oob_score=True; total time=   1.5s\n",
      "[CV] END criterion=gini, max_depth=36, max_features=sqrt, n_estimators=500, oob_score=True; total time=   1.7s\n",
      "[CV] END criterion=gini, max_depth=36, max_features=sqrt, n_estimators=500, oob_score=True; total time=   1.5s\n",
      "[CV] END criterion=gini, max_depth=36, max_features=sqrt, n_estimators=500, oob_score=True; total time=   1.5s\n",
      "[CV] END criterion=gini, max_depth=36, max_features=sqrt, n_estimators=500, oob_score=False; total time=   1.2s\n",
      "[CV] END criterion=gini, max_depth=36, max_features=sqrt, n_estimators=500, oob_score=False; total time=   1.2s\n",
      "[CV] END criterion=gini, max_depth=36, max_features=sqrt, n_estimators=500, oob_score=False; total time=   1.6s\n",
      "[CV] END criterion=gini, max_depth=36, max_features=sqrt, n_estimators=500, oob_score=False; total time=   1.3s\n",
      "[CV] END criterion=gini, max_depth=36, max_features=sqrt, n_estimators=500, oob_score=False; total time=   1.2s\n",
      "[CV] END criterion=gini, max_depth=36, max_features=None, n_estimators=10, oob_score=True; total time=   0.1s\n",
      "[CV] END criterion=gini, max_depth=36, max_features=None, n_estimators=10, oob_score=True; total time=   0.0s\n",
      "[CV] END criterion=gini, max_depth=36, max_features=None, n_estimators=10, oob_score=True; total time=   0.0s\n",
      "[CV] END criterion=gini, max_depth=36, max_features=None, n_estimators=10, oob_score=True; total time=   0.0s\n",
      "[CV] END criterion=gini, max_depth=36, max_features=None, n_estimators=10, oob_score=True; total time=   0.1s\n",
      "[CV] END criterion=gini, max_depth=36, max_features=None, n_estimators=10, oob_score=False; total time=   0.0s\n",
      "[CV] END criterion=gini, max_depth=36, max_features=None, n_estimators=10, oob_score=False; total time=   0.0s\n",
      "[CV] END criterion=gini, max_depth=36, max_features=None, n_estimators=10, oob_score=False; total time=   0.0s\n",
      "[CV] END criterion=gini, max_depth=36, max_features=None, n_estimators=10, oob_score=False; total time=   0.0s\n",
      "[CV] END criterion=gini, max_depth=36, max_features=None, n_estimators=10, oob_score=False; total time=   0.0s\n",
      "[CV] END criterion=gini, max_depth=36, max_features=None, n_estimators=173, oob_score=True; total time=   1.0s\n",
      "[CV] END criterion=gini, max_depth=36, max_features=None, n_estimators=173, oob_score=True; total time=   0.8s\n",
      "[CV] END criterion=gini, max_depth=36, max_features=None, n_estimators=173, oob_score=True; total time=   0.8s\n",
      "[CV] END criterion=gini, max_depth=36, max_features=None, n_estimators=173, oob_score=True; total time=   0.8s\n",
      "[CV] END criterion=gini, max_depth=36, max_features=None, n_estimators=173, oob_score=True; total time=   0.8s\n",
      "[CV] END criterion=gini, max_depth=36, max_features=None, n_estimators=173, oob_score=False; total time=   0.7s\n",
      "[CV] END criterion=gini, max_depth=36, max_features=None, n_estimators=173, oob_score=False; total time=   0.7s\n",
      "[CV] END criterion=gini, max_depth=36, max_features=None, n_estimators=173, oob_score=False; total time=   0.7s\n",
      "[CV] END criterion=gini, max_depth=36, max_features=None, n_estimators=173, oob_score=False; total time=   0.7s\n",
      "[CV] END criterion=gini, max_depth=36, max_features=None, n_estimators=173, oob_score=False; total time=   0.7s\n",
      "[CV] END criterion=gini, max_depth=36, max_features=None, n_estimators=336, oob_score=True; total time=   1.5s\n",
      "[CV] END criterion=gini, max_depth=36, max_features=None, n_estimators=336, oob_score=True; total time=   1.5s\n",
      "[CV] END criterion=gini, max_depth=36, max_features=None, n_estimators=336, oob_score=True; total time=   1.7s\n",
      "[CV] END criterion=gini, max_depth=36, max_features=None, n_estimators=336, oob_score=True; total time=   1.5s\n",
      "[CV] END criterion=gini, max_depth=36, max_features=None, n_estimators=336, oob_score=True; total time=   1.5s\n",
      "[CV] END criterion=gini, max_depth=36, max_features=None, n_estimators=336, oob_score=False; total time=   1.3s\n",
      "[CV] END criterion=gini, max_depth=36, max_features=None, n_estimators=336, oob_score=False; total time=   1.3s\n",
      "[CV] END criterion=gini, max_depth=36, max_features=None, n_estimators=336, oob_score=False; total time=   1.3s\n",
      "[CV] END criterion=gini, max_depth=36, max_features=None, n_estimators=336, oob_score=False; total time=   1.4s\n",
      "[CV] END criterion=gini, max_depth=36, max_features=None, n_estimators=336, oob_score=False; total time=   1.4s\n",
      "[CV] END criterion=gini, max_depth=36, max_features=None, n_estimators=500, oob_score=True; total time=   2.5s\n",
      "[CV] END criterion=gini, max_depth=36, max_features=None, n_estimators=500, oob_score=True; total time=   2.3s\n",
      "[CV] END criterion=gini, max_depth=36, max_features=None, n_estimators=500, oob_score=True; total time=   2.3s\n",
      "[CV] END criterion=gini, max_depth=36, max_features=None, n_estimators=500, oob_score=True; total time=   2.7s\n",
      "[CV] END criterion=gini, max_depth=36, max_features=None, n_estimators=500, oob_score=True; total time=   2.5s\n",
      "[CV] END criterion=gini, max_depth=36, max_features=None, n_estimators=500, oob_score=False; total time=   2.0s\n",
      "[CV] END criterion=gini, max_depth=36, max_features=None, n_estimators=500, oob_score=False; total time=   2.0s\n",
      "[CV] END criterion=gini, max_depth=36, max_features=None, n_estimators=500, oob_score=False; total time=   2.1s\n",
      "[CV] END criterion=gini, max_depth=36, max_features=None, n_estimators=500, oob_score=False; total time=   2.1s\n",
      "[CV] END criterion=gini, max_depth=36, max_features=None, n_estimators=500, oob_score=False; total time=   2.2s\n",
      "[CV] END criterion=gini, max_depth=68, max_features=sqrt, n_estimators=10, oob_score=True; total time=   0.0s\n",
      "[CV] END criterion=gini, max_depth=68, max_features=sqrt, n_estimators=10, oob_score=True; total time=   0.0s\n",
      "[CV] END criterion=gini, max_depth=68, max_features=sqrt, n_estimators=10, oob_score=True; total time=   0.0s\n",
      "[CV] END criterion=gini, max_depth=68, max_features=sqrt, n_estimators=10, oob_score=True; total time=   0.0s\n",
      "[CV] END criterion=gini, max_depth=68, max_features=sqrt, n_estimators=10, oob_score=True; total time=   0.0s\n",
      "[CV] END criterion=gini, max_depth=68, max_features=sqrt, n_estimators=10, oob_score=False; total time=   0.0s\n",
      "[CV] END criterion=gini, max_depth=68, max_features=sqrt, n_estimators=10, oob_score=False; total time=   0.0s\n",
      "[CV] END criterion=gini, max_depth=68, max_features=sqrt, n_estimators=10, oob_score=False; total time=   0.0s\n",
      "[CV] END criterion=gini, max_depth=68, max_features=sqrt, n_estimators=10, oob_score=False; total time=   0.0s\n",
      "[CV] END criterion=gini, max_depth=68, max_features=sqrt, n_estimators=10, oob_score=False; total time=   0.0s\n",
      "[CV] END criterion=gini, max_depth=68, max_features=sqrt, n_estimators=173, oob_score=True; total time=   0.5s\n",
      "[CV] END criterion=gini, max_depth=68, max_features=sqrt, n_estimators=173, oob_score=True; total time=   0.5s\n",
      "[CV] END criterion=gini, max_depth=68, max_features=sqrt, n_estimators=173, oob_score=True; total time=   0.6s\n",
      "[CV] END criterion=gini, max_depth=68, max_features=sqrt, n_estimators=173, oob_score=True; total time=   0.6s\n",
      "[CV] END criterion=gini, max_depth=68, max_features=sqrt, n_estimators=173, oob_score=True; total time=   0.6s\n",
      "[CV] END criterion=gini, max_depth=68, max_features=sqrt, n_estimators=173, oob_score=False; total time=   0.4s\n",
      "[CV] END criterion=gini, max_depth=68, max_features=sqrt, n_estimators=173, oob_score=False; total time=   0.4s\n",
      "[CV] END criterion=gini, max_depth=68, max_features=sqrt, n_estimators=173, oob_score=False; total time=   0.4s\n",
      "[CV] END criterion=gini, max_depth=68, max_features=sqrt, n_estimators=173, oob_score=False; total time=   0.4s\n",
      "[CV] END criterion=gini, max_depth=68, max_features=sqrt, n_estimators=173, oob_score=False; total time=   0.5s\n",
      "[CV] END criterion=gini, max_depth=68, max_features=sqrt, n_estimators=336, oob_score=True; total time=   1.1s\n",
      "[CV] END criterion=gini, max_depth=68, max_features=sqrt, n_estimators=336, oob_score=True; total time=   1.1s\n",
      "[CV] END criterion=gini, max_depth=68, max_features=sqrt, n_estimators=336, oob_score=True; total time=   1.1s\n",
      "[CV] END criterion=gini, max_depth=68, max_features=sqrt, n_estimators=336, oob_score=True; total time=   1.1s\n",
      "[CV] END criterion=gini, max_depth=68, max_features=sqrt, n_estimators=336, oob_score=True; total time=   1.3s\n",
      "[CV] END criterion=gini, max_depth=68, max_features=sqrt, n_estimators=336, oob_score=False; total time=   0.9s\n",
      "[CV] END criterion=gini, max_depth=68, max_features=sqrt, n_estimators=336, oob_score=False; total time=   0.9s\n",
      "[CV] END criterion=gini, max_depth=68, max_features=sqrt, n_estimators=336, oob_score=False; total time=   0.9s\n",
      "[CV] END criterion=gini, max_depth=68, max_features=sqrt, n_estimators=336, oob_score=False; total time=   0.9s\n",
      "[CV] END criterion=gini, max_depth=68, max_features=sqrt, n_estimators=336, oob_score=False; total time=   0.9s\n",
      "[CV] END criterion=gini, max_depth=68, max_features=sqrt, n_estimators=500, oob_score=True; total time=   1.6s\n",
      "[CV] END criterion=gini, max_depth=68, max_features=sqrt, n_estimators=500, oob_score=True; total time=   2.0s\n",
      "[CV] END criterion=gini, max_depth=68, max_features=sqrt, n_estimators=500, oob_score=True; total time=   1.6s\n",
      "[CV] END criterion=gini, max_depth=68, max_features=sqrt, n_estimators=500, oob_score=True; total time=   1.9s\n",
      "[CV] END criterion=gini, max_depth=68, max_features=sqrt, n_estimators=500, oob_score=True; total time=   1.7s\n",
      "[CV] END criterion=gini, max_depth=68, max_features=sqrt, n_estimators=500, oob_score=False; total time=   1.3s\n",
      "[CV] END criterion=gini, max_depth=68, max_features=sqrt, n_estimators=500, oob_score=False; total time=   1.2s\n",
      "[CV] END criterion=gini, max_depth=68, max_features=sqrt, n_estimators=500, oob_score=False; total time=   1.2s\n",
      "[CV] END criterion=gini, max_depth=68, max_features=sqrt, n_estimators=500, oob_score=False; total time=   1.2s\n",
      "[CV] END criterion=gini, max_depth=68, max_features=sqrt, n_estimators=500, oob_score=False; total time=   1.2s\n",
      "[CV] END criterion=gini, max_depth=68, max_features=None, n_estimators=10, oob_score=True; total time=   0.0s\n",
      "[CV] END criterion=gini, max_depth=68, max_features=None, n_estimators=10, oob_score=True; total time=   0.1s\n",
      "[CV] END criterion=gini, max_depth=68, max_features=None, n_estimators=10, oob_score=True; total time=   0.0s\n",
      "[CV] END criterion=gini, max_depth=68, max_features=None, n_estimators=10, oob_score=True; total time=   0.0s\n",
      "[CV] END criterion=gini, max_depth=68, max_features=None, n_estimators=10, oob_score=True; total time=   0.1s\n",
      "[CV] END criterion=gini, max_depth=68, max_features=None, n_estimators=10, oob_score=False; total time=   0.0s\n",
      "[CV] END criterion=gini, max_depth=68, max_features=None, n_estimators=10, oob_score=False; total time=   0.0s\n",
      "[CV] END criterion=gini, max_depth=68, max_features=None, n_estimators=10, oob_score=False; total time=   0.0s\n",
      "[CV] END criterion=gini, max_depth=68, max_features=None, n_estimators=10, oob_score=False; total time=   0.0s\n",
      "[CV] END criterion=gini, max_depth=68, max_features=None, n_estimators=10, oob_score=False; total time=   0.0s\n",
      "[CV] END criterion=gini, max_depth=68, max_features=None, n_estimators=173, oob_score=True; total time=   0.8s\n",
      "[CV] END criterion=gini, max_depth=68, max_features=None, n_estimators=173, oob_score=True; total time=   0.8s\n",
      "[CV] END criterion=gini, max_depth=68, max_features=None, n_estimators=173, oob_score=True; total time=   1.0s\n",
      "[CV] END criterion=gini, max_depth=68, max_features=None, n_estimators=173, oob_score=True; total time=   0.8s\n",
      "[CV] END criterion=gini, max_depth=68, max_features=None, n_estimators=173, oob_score=True; total time=   0.8s\n",
      "[CV] END criterion=gini, max_depth=68, max_features=None, n_estimators=173, oob_score=False; total time=   0.7s\n",
      "[CV] END criterion=gini, max_depth=68, max_features=None, n_estimators=173, oob_score=False; total time=   0.7s\n",
      "[CV] END criterion=gini, max_depth=68, max_features=None, n_estimators=173, oob_score=False; total time=   0.7s\n",
      "[CV] END criterion=gini, max_depth=68, max_features=None, n_estimators=173, oob_score=False; total time=   0.7s\n",
      "[CV] END criterion=gini, max_depth=68, max_features=None, n_estimators=173, oob_score=False; total time=   0.7s\n",
      "[CV] END criterion=gini, max_depth=68, max_features=None, n_estimators=336, oob_score=True; total time=   1.5s\n",
      "[CV] END criterion=gini, max_depth=68, max_features=None, n_estimators=336, oob_score=True; total time=   1.5s\n",
      "[CV] END criterion=gini, max_depth=68, max_features=None, n_estimators=336, oob_score=True; total time=   1.5s\n",
      "[CV] END criterion=gini, max_depth=68, max_features=None, n_estimators=336, oob_score=True; total time=   1.7s\n",
      "[CV] END criterion=gini, max_depth=68, max_features=None, n_estimators=336, oob_score=True; total time=   1.5s\n",
      "[CV] END criterion=gini, max_depth=68, max_features=None, n_estimators=336, oob_score=False; total time=   1.3s\n",
      "[CV] END criterion=gini, max_depth=68, max_features=None, n_estimators=336, oob_score=False; total time=   1.3s\n",
      "[CV] END criterion=gini, max_depth=68, max_features=None, n_estimators=336, oob_score=False; total time=   1.3s\n",
      "[CV] END criterion=gini, max_depth=68, max_features=None, n_estimators=336, oob_score=False; total time=   1.8s\n",
      "[CV] END criterion=gini, max_depth=68, max_features=None, n_estimators=336, oob_score=False; total time=   1.3s\n",
      "[CV] END criterion=gini, max_depth=68, max_features=None, n_estimators=500, oob_score=True; total time=   2.4s\n",
      "[CV] END criterion=gini, max_depth=68, max_features=None, n_estimators=500, oob_score=True; total time=   2.2s\n",
      "[CV] END criterion=gini, max_depth=68, max_features=None, n_estimators=500, oob_score=True; total time=   2.3s\n",
      "[CV] END criterion=gini, max_depth=68, max_features=None, n_estimators=500, oob_score=True; total time=   2.3s\n",
      "[CV] END criterion=gini, max_depth=68, max_features=None, n_estimators=500, oob_score=True; total time=   2.3s\n",
      "[CV] END criterion=gini, max_depth=68, max_features=None, n_estimators=500, oob_score=False; total time=   2.3s\n",
      "[CV] END criterion=gini, max_depth=68, max_features=None, n_estimators=500, oob_score=False; total time=   2.0s\n",
      "[CV] END criterion=gini, max_depth=68, max_features=None, n_estimators=500, oob_score=False; total time=   2.0s\n",
      "[CV] END criterion=gini, max_depth=68, max_features=None, n_estimators=500, oob_score=False; total time=   2.0s\n",
      "[CV] END criterion=gini, max_depth=68, max_features=None, n_estimators=500, oob_score=False; total time=   1.9s\n",
      "[CV] END criterion=gini, max_depth=100, max_features=sqrt, n_estimators=10, oob_score=True; total time=   0.0s\n",
      "[CV] END criterion=gini, max_depth=100, max_features=sqrt, n_estimators=10, oob_score=True; total time=   0.0s\n",
      "[CV] END criterion=gini, max_depth=100, max_features=sqrt, n_estimators=10, oob_score=True; total time=   0.0s\n",
      "[CV] END criterion=gini, max_depth=100, max_features=sqrt, n_estimators=10, oob_score=True; total time=   0.0s\n",
      "[CV] END criterion=gini, max_depth=100, max_features=sqrt, n_estimators=10, oob_score=True; total time=   0.0s\n",
      "[CV] END criterion=gini, max_depth=100, max_features=sqrt, n_estimators=10, oob_score=False; total time=   0.0s\n",
      "[CV] END criterion=gini, max_depth=100, max_features=sqrt, n_estimators=10, oob_score=False; total time=   0.0s\n",
      "[CV] END criterion=gini, max_depth=100, max_features=sqrt, n_estimators=10, oob_score=False; total time=   0.0s\n",
      "[CV] END criterion=gini, max_depth=100, max_features=sqrt, n_estimators=10, oob_score=False; total time=   0.0s\n",
      "[CV] END criterion=gini, max_depth=100, max_features=sqrt, n_estimators=10, oob_score=False; total time=   0.0s\n",
      "[CV] END criterion=gini, max_depth=100, max_features=sqrt, n_estimators=173, oob_score=True; total time=   0.5s\n",
      "[CV] END criterion=gini, max_depth=100, max_features=sqrt, n_estimators=173, oob_score=True; total time=   0.5s\n",
      "[CV] END criterion=gini, max_depth=100, max_features=sqrt, n_estimators=173, oob_score=True; total time=   0.7s\n",
      "[CV] END criterion=gini, max_depth=100, max_features=sqrt, n_estimators=173, oob_score=True; total time=   0.6s\n",
      "[CV] END criterion=gini, max_depth=100, max_features=sqrt, n_estimators=173, oob_score=True; total time=   0.5s\n",
      "[CV] END criterion=gini, max_depth=100, max_features=sqrt, n_estimators=173, oob_score=False; total time=   0.4s\n",
      "[CV] END criterion=gini, max_depth=100, max_features=sqrt, n_estimators=173, oob_score=False; total time=   0.4s\n",
      "[CV] END criterion=gini, max_depth=100, max_features=sqrt, n_estimators=173, oob_score=False; total time=   0.4s\n",
      "[CV] END criterion=gini, max_depth=100, max_features=sqrt, n_estimators=173, oob_score=False; total time=   0.4s\n",
      "[CV] END criterion=gini, max_depth=100, max_features=sqrt, n_estimators=173, oob_score=False; total time=   0.4s\n",
      "[CV] END criterion=gini, max_depth=100, max_features=sqrt, n_estimators=336, oob_score=True; total time=   1.1s\n",
      "[CV] END criterion=gini, max_depth=100, max_features=sqrt, n_estimators=336, oob_score=True; total time=   1.0s\n",
      "[CV] END criterion=gini, max_depth=100, max_features=sqrt, n_estimators=336, oob_score=True; total time=   1.1s\n",
      "[CV] END criterion=gini, max_depth=100, max_features=sqrt, n_estimators=336, oob_score=True; total time=   1.5s\n",
      "[CV] END criterion=gini, max_depth=100, max_features=sqrt, n_estimators=336, oob_score=True; total time=   1.0s\n",
      "[CV] END criterion=gini, max_depth=100, max_features=sqrt, n_estimators=336, oob_score=False; total time=   0.8s\n",
      "[CV] END criterion=gini, max_depth=100, max_features=sqrt, n_estimators=336, oob_score=False; total time=   0.8s\n",
      "[CV] END criterion=gini, max_depth=100, max_features=sqrt, n_estimators=336, oob_score=False; total time=   1.0s\n",
      "[CV] END criterion=gini, max_depth=100, max_features=sqrt, n_estimators=336, oob_score=False; total time=   0.8s\n",
      "[CV] END criterion=gini, max_depth=100, max_features=sqrt, n_estimators=336, oob_score=False; total time=   0.8s\n",
      "[CV] END criterion=gini, max_depth=100, max_features=sqrt, n_estimators=500, oob_score=True; total time=   1.5s\n",
      "[CV] END criterion=gini, max_depth=100, max_features=sqrt, n_estimators=500, oob_score=True; total time=   1.6s\n",
      "[CV] END criterion=gini, max_depth=100, max_features=sqrt, n_estimators=500, oob_score=True; total time=   1.5s\n",
      "[CV] END criterion=gini, max_depth=100, max_features=sqrt, n_estimators=500, oob_score=True; total time=   1.6s\n",
      "[CV] END criterion=gini, max_depth=100, max_features=sqrt, n_estimators=500, oob_score=True; total time=   1.5s\n",
      "[CV] END criterion=gini, max_depth=100, max_features=sqrt, n_estimators=500, oob_score=False; total time=   1.4s\n",
      "[CV] END criterion=gini, max_depth=100, max_features=sqrt, n_estimators=500, oob_score=False; total time=   1.2s\n",
      "[CV] END criterion=gini, max_depth=100, max_features=sqrt, n_estimators=500, oob_score=False; total time=   1.2s\n",
      "[CV] END criterion=gini, max_depth=100, max_features=sqrt, n_estimators=500, oob_score=False; total time=   1.2s\n",
      "[CV] END criterion=gini, max_depth=100, max_features=sqrt, n_estimators=500, oob_score=False; total time=   1.2s\n",
      "[CV] END criterion=gini, max_depth=100, max_features=None, n_estimators=10, oob_score=True; total time=   0.1s\n",
      "[CV] END criterion=gini, max_depth=100, max_features=None, n_estimators=10, oob_score=True; total time=   0.0s\n",
      "[CV] END criterion=gini, max_depth=100, max_features=None, n_estimators=10, oob_score=True; total time=   0.0s\n",
      "[CV] END criterion=gini, max_depth=100, max_features=None, n_estimators=10, oob_score=True; total time=   0.0s\n",
      "[CV] END criterion=gini, max_depth=100, max_features=None, n_estimators=10, oob_score=True; total time=   0.0s\n",
      "[CV] END criterion=gini, max_depth=100, max_features=None, n_estimators=10, oob_score=False; total time=   0.0s\n",
      "[CV] END criterion=gini, max_depth=100, max_features=None, n_estimators=10, oob_score=False; total time=   0.0s\n",
      "[CV] END criterion=gini, max_depth=100, max_features=None, n_estimators=10, oob_score=False; total time=   0.0s\n",
      "[CV] END criterion=gini, max_depth=100, max_features=None, n_estimators=10, oob_score=False; total time=   0.0s\n",
      "[CV] END criterion=gini, max_depth=100, max_features=None, n_estimators=10, oob_score=False; total time=   0.0s\n",
      "[CV] END criterion=gini, max_depth=100, max_features=None, n_estimators=173, oob_score=True; total time=   0.8s\n",
      "[CV] END criterion=gini, max_depth=100, max_features=None, n_estimators=173, oob_score=True; total time=   0.8s\n",
      "[CV] END criterion=gini, max_depth=100, max_features=None, n_estimators=173, oob_score=True; total time=   0.8s\n",
      "[CV] END criterion=gini, max_depth=100, max_features=None, n_estimators=173, oob_score=True; total time=   0.8s\n",
      "[CV] END criterion=gini, max_depth=100, max_features=None, n_estimators=173, oob_score=True; total time=   0.8s\n",
      "[CV] END criterion=gini, max_depth=100, max_features=None, n_estimators=173, oob_score=False; total time=   0.7s\n",
      "[CV] END criterion=gini, max_depth=100, max_features=None, n_estimators=173, oob_score=False; total time=   0.8s\n",
      "[CV] END criterion=gini, max_depth=100, max_features=None, n_estimators=173, oob_score=False; total time=   0.7s\n",
      "[CV] END criterion=gini, max_depth=100, max_features=None, n_estimators=173, oob_score=False; total time=   0.7s\n",
      "[CV] END criterion=gini, max_depth=100, max_features=None, n_estimators=173, oob_score=False; total time=   0.7s\n",
      "[CV] END criterion=gini, max_depth=100, max_features=None, n_estimators=336, oob_score=True; total time=   1.6s\n",
      "[CV] END criterion=gini, max_depth=100, max_features=None, n_estimators=336, oob_score=True; total time=   1.5s\n",
      "[CV] END criterion=gini, max_depth=100, max_features=None, n_estimators=336, oob_score=True; total time=   1.6s\n",
      "[CV] END criterion=gini, max_depth=100, max_features=None, n_estimators=336, oob_score=True; total time=   1.9s\n",
      "[CV] END criterion=gini, max_depth=100, max_features=None, n_estimators=336, oob_score=True; total time=   1.5s\n",
      "[CV] END criterion=gini, max_depth=100, max_features=None, n_estimators=336, oob_score=False; total time=   1.5s\n",
      "[CV] END criterion=gini, max_depth=100, max_features=None, n_estimators=336, oob_score=False; total time=   1.3s\n",
      "[CV] END criterion=gini, max_depth=100, max_features=None, n_estimators=336, oob_score=False; total time=   1.3s\n",
      "[CV] END criterion=gini, max_depth=100, max_features=None, n_estimators=336, oob_score=False; total time=   1.3s\n",
      "[CV] END criterion=gini, max_depth=100, max_features=None, n_estimators=336, oob_score=False; total time=   1.3s\n",
      "[CV] END criterion=gini, max_depth=100, max_features=None, n_estimators=500, oob_score=True; total time=   2.2s\n",
      "[CV] END criterion=gini, max_depth=100, max_features=None, n_estimators=500, oob_score=True; total time=   2.2s\n",
      "[CV] END criterion=gini, max_depth=100, max_features=None, n_estimators=500, oob_score=True; total time=   2.5s\n",
      "[CV] END criterion=gini, max_depth=100, max_features=None, n_estimators=500, oob_score=True; total time=   2.3s\n",
      "[CV] END criterion=gini, max_depth=100, max_features=None, n_estimators=500, oob_score=True; total time=   2.2s\n",
      "[CV] END criterion=gini, max_depth=100, max_features=None, n_estimators=500, oob_score=False; total time=   1.9s\n",
      "[CV] END criterion=gini, max_depth=100, max_features=None, n_estimators=500, oob_score=False; total time=   1.9s\n",
      "[CV] END criterion=gini, max_depth=100, max_features=None, n_estimators=500, oob_score=False; total time=   2.1s\n",
      "[CV] END criterion=gini, max_depth=100, max_features=None, n_estimators=500, oob_score=False; total time=   2.0s\n",
      "[CV] END criterion=gini, max_depth=100, max_features=None, n_estimators=500, oob_score=False; total time=   2.0s\n",
      "[CV] END criterion=entropy, max_depth=5, max_features=sqrt, n_estimators=10, oob_score=True; total time=   0.0s\n",
      "[CV] END criterion=entropy, max_depth=5, max_features=sqrt, n_estimators=10, oob_score=True; total time=   0.0s\n",
      "[CV] END criterion=entropy, max_depth=5, max_features=sqrt, n_estimators=10, oob_score=True; total time=   0.0s\n",
      "[CV] END criterion=entropy, max_depth=5, max_features=sqrt, n_estimators=10, oob_score=True; total time=   0.0s\n",
      "[CV] END criterion=entropy, max_depth=5, max_features=sqrt, n_estimators=10, oob_score=True; total time=   0.0s\n",
      "[CV] END criterion=entropy, max_depth=5, max_features=sqrt, n_estimators=10, oob_score=False; total time=   0.0s\n",
      "[CV] END criterion=entropy, max_depth=5, max_features=sqrt, n_estimators=10, oob_score=False; total time=   0.0s\n",
      "[CV] END criterion=entropy, max_depth=5, max_features=sqrt, n_estimators=10, oob_score=False; total time=   0.0s\n",
      "[CV] END criterion=entropy, max_depth=5, max_features=sqrt, n_estimators=10, oob_score=False; total time=   0.0s\n",
      "[CV] END criterion=entropy, max_depth=5, max_features=sqrt, n_estimators=10, oob_score=False; total time=   0.0s\n",
      "[CV] END criterion=entropy, max_depth=5, max_features=sqrt, n_estimators=173, oob_score=True; total time=   0.5s\n",
      "[CV] END criterion=entropy, max_depth=5, max_features=sqrt, n_estimators=173, oob_score=True; total time=   0.5s\n",
      "[CV] END criterion=entropy, max_depth=5, max_features=sqrt, n_estimators=173, oob_score=True; total time=   0.7s\n",
      "[CV] END criterion=entropy, max_depth=5, max_features=sqrt, n_estimators=173, oob_score=True; total time=   0.7s\n",
      "[CV] END criterion=entropy, max_depth=5, max_features=sqrt, n_estimators=173, oob_score=True; total time=   0.5s\n",
      "[CV] END criterion=entropy, max_depth=5, max_features=sqrt, n_estimators=173, oob_score=False; total time=   0.4s\n",
      "[CV] END criterion=entropy, max_depth=5, max_features=sqrt, n_estimators=173, oob_score=False; total time=   0.4s\n",
      "[CV] END criterion=entropy, max_depth=5, max_features=sqrt, n_estimators=173, oob_score=False; total time=   0.4s\n",
      "[CV] END criterion=entropy, max_depth=5, max_features=sqrt, n_estimators=173, oob_score=False; total time=   0.4s\n",
      "[CV] END criterion=entropy, max_depth=5, max_features=sqrt, n_estimators=173, oob_score=False; total time=   0.4s\n",
      "[CV] END criterion=entropy, max_depth=5, max_features=sqrt, n_estimators=336, oob_score=True; total time=   1.1s\n",
      "[CV] END criterion=entropy, max_depth=5, max_features=sqrt, n_estimators=336, oob_score=True; total time=   0.9s\n",
      "[CV] END criterion=entropy, max_depth=5, max_features=sqrt, n_estimators=336, oob_score=True; total time=   0.9s\n",
      "[CV] END criterion=entropy, max_depth=5, max_features=sqrt, n_estimators=336, oob_score=True; total time=   0.9s\n",
      "[CV] END criterion=entropy, max_depth=5, max_features=sqrt, n_estimators=336, oob_score=True; total time=   0.9s\n",
      "[CV] END criterion=entropy, max_depth=5, max_features=sqrt, n_estimators=336, oob_score=False; total time=   0.7s\n",
      "[CV] END criterion=entropy, max_depth=5, max_features=sqrt, n_estimators=336, oob_score=False; total time=   0.7s\n",
      "[CV] END criterion=entropy, max_depth=5, max_features=sqrt, n_estimators=336, oob_score=False; total time=   0.7s\n",
      "[CV] END criterion=entropy, max_depth=5, max_features=sqrt, n_estimators=336, oob_score=False; total time=   0.7s\n",
      "[CV] END criterion=entropy, max_depth=5, max_features=sqrt, n_estimators=336, oob_score=False; total time=   0.7s\n",
      "[CV] END criterion=entropy, max_depth=5, max_features=sqrt, n_estimators=500, oob_score=True; total time=   1.3s\n",
      "[CV] END criterion=entropy, max_depth=5, max_features=sqrt, n_estimators=500, oob_score=True; total time=   1.3s\n",
      "[CV] END criterion=entropy, max_depth=5, max_features=sqrt, n_estimators=500, oob_score=True; total time=   1.5s\n",
      "[CV] END criterion=entropy, max_depth=5, max_features=sqrt, n_estimators=500, oob_score=True; total time=   1.3s\n",
      "[CV] END criterion=entropy, max_depth=5, max_features=sqrt, n_estimators=500, oob_score=True; total time=   1.3s\n",
      "[CV] END criterion=entropy, max_depth=5, max_features=sqrt, n_estimators=500, oob_score=False; total time=   1.1s\n",
      "[CV] END criterion=entropy, max_depth=5, max_features=sqrt, n_estimators=500, oob_score=False; total time=   1.0s\n",
      "[CV] END criterion=entropy, max_depth=5, max_features=sqrt, n_estimators=500, oob_score=False; total time=   1.0s\n",
      "[CV] END criterion=entropy, max_depth=5, max_features=sqrt, n_estimators=500, oob_score=False; total time=   1.0s\n",
      "[CV] END criterion=entropy, max_depth=5, max_features=sqrt, n_estimators=500, oob_score=False; total time=   1.0s\n",
      "[CV] END criterion=entropy, max_depth=5, max_features=None, n_estimators=10, oob_score=True; total time=   0.0s\n",
      "[CV] END criterion=entropy, max_depth=5, max_features=None, n_estimators=10, oob_score=True; total time=   0.0s\n",
      "[CV] END criterion=entropy, max_depth=5, max_features=None, n_estimators=10, oob_score=True; total time=   0.0s\n",
      "[CV] END criterion=entropy, max_depth=5, max_features=None, n_estimators=10, oob_score=True; total time=   0.0s\n",
      "[CV] END criterion=entropy, max_depth=5, max_features=None, n_estimators=10, oob_score=True; total time=   0.0s\n",
      "[CV] END criterion=entropy, max_depth=5, max_features=None, n_estimators=10, oob_score=False; total time=   0.0s\n",
      "[CV] END criterion=entropy, max_depth=5, max_features=None, n_estimators=10, oob_score=False; total time=   0.0s\n",
      "[CV] END criterion=entropy, max_depth=5, max_features=None, n_estimators=10, oob_score=False; total time=   0.0s\n",
      "[CV] END criterion=entropy, max_depth=5, max_features=None, n_estimators=10, oob_score=False; total time=   0.0s\n",
      "[CV] END criterion=entropy, max_depth=5, max_features=None, n_estimators=10, oob_score=False; total time=   0.0s\n",
      "[CV] END criterion=entropy, max_depth=5, max_features=None, n_estimators=173, oob_score=True; total time=   0.7s\n",
      "[CV] END criterion=entropy, max_depth=5, max_features=None, n_estimators=173, oob_score=True; total time=   0.7s\n",
      "[CV] END criterion=entropy, max_depth=5, max_features=None, n_estimators=173, oob_score=True; total time=   0.8s\n",
      "[CV] END criterion=entropy, max_depth=5, max_features=None, n_estimators=173, oob_score=True; total time=   0.8s\n",
      "[CV] END criterion=entropy, max_depth=5, max_features=None, n_estimators=173, oob_score=True; total time=   0.7s\n",
      "[CV] END criterion=entropy, max_depth=5, max_features=None, n_estimators=173, oob_score=False; total time=   0.6s\n",
      "[CV] END criterion=entropy, max_depth=5, max_features=None, n_estimators=173, oob_score=False; total time=   0.6s\n",
      "[CV] END criterion=entropy, max_depth=5, max_features=None, n_estimators=173, oob_score=False; total time=   0.6s\n",
      "[CV] END criterion=entropy, max_depth=5, max_features=None, n_estimators=173, oob_score=False; total time=   0.7s\n",
      "[CV] END criterion=entropy, max_depth=5, max_features=None, n_estimators=173, oob_score=False; total time=   0.6s\n",
      "[CV] END criterion=entropy, max_depth=5, max_features=None, n_estimators=336, oob_score=True; total time=   1.4s\n",
      "[CV] END criterion=entropy, max_depth=5, max_features=None, n_estimators=336, oob_score=True; total time=   1.4s\n",
      "[CV] END criterion=entropy, max_depth=5, max_features=None, n_estimators=336, oob_score=True; total time=   2.0s\n",
      "[CV] END criterion=entropy, max_depth=5, max_features=None, n_estimators=336, oob_score=True; total time=   1.5s\n",
      "[CV] END criterion=entropy, max_depth=5, max_features=None, n_estimators=336, oob_score=True; total time=   1.5s\n",
      "[CV] END criterion=entropy, max_depth=5, max_features=None, n_estimators=336, oob_score=False; total time=   1.2s\n",
      "[CV] END criterion=entropy, max_depth=5, max_features=None, n_estimators=336, oob_score=False; total time=   1.2s\n",
      "[CV] END criterion=entropy, max_depth=5, max_features=None, n_estimators=336, oob_score=False; total time=   1.2s\n",
      "[CV] END criterion=entropy, max_depth=5, max_features=None, n_estimators=336, oob_score=False; total time=   1.2s\n",
      "[CV] END criterion=entropy, max_depth=5, max_features=None, n_estimators=336, oob_score=False; total time=   1.2s\n",
      "[CV] END criterion=entropy, max_depth=5, max_features=None, n_estimators=500, oob_score=True; total time=   2.0s\n",
      "[CV] END criterion=entropy, max_depth=5, max_features=None, n_estimators=500, oob_score=True; total time=   2.3s\n",
      "[CV] END criterion=entropy, max_depth=5, max_features=None, n_estimators=500, oob_score=True; total time=   2.2s\n",
      "[CV] END criterion=entropy, max_depth=5, max_features=None, n_estimators=500, oob_score=True; total time=   2.0s\n",
      "[CV] END criterion=entropy, max_depth=5, max_features=None, n_estimators=500, oob_score=True; total time=   2.0s\n",
      "[CV] END criterion=entropy, max_depth=5, max_features=None, n_estimators=500, oob_score=False; total time=   1.7s\n",
      "[CV] END criterion=entropy, max_depth=5, max_features=None, n_estimators=500, oob_score=False; total time=   1.8s\n",
      "[CV] END criterion=entropy, max_depth=5, max_features=None, n_estimators=500, oob_score=False; total time=   2.0s\n",
      "[CV] END criterion=entropy, max_depth=5, max_features=None, n_estimators=500, oob_score=False; total time=   1.8s\n",
      "[CV] END criterion=entropy, max_depth=5, max_features=None, n_estimators=500, oob_score=False; total time=   1.8s\n",
      "[CV] END criterion=entropy, max_depth=36, max_features=sqrt, n_estimators=10, oob_score=True; total time=   0.0s\n",
      "[CV] END criterion=entropy, max_depth=36, max_features=sqrt, n_estimators=10, oob_score=True; total time=   0.0s\n",
      "[CV] END criterion=entropy, max_depth=36, max_features=sqrt, n_estimators=10, oob_score=True; total time=   0.0s\n",
      "[CV] END criterion=entropy, max_depth=36, max_features=sqrt, n_estimators=10, oob_score=True; total time=   0.0s\n",
      "[CV] END criterion=entropy, max_depth=36, max_features=sqrt, n_estimators=10, oob_score=True; total time=   0.0s\n",
      "[CV] END criterion=entropy, max_depth=36, max_features=sqrt, n_estimators=10, oob_score=False; total time=   0.0s\n",
      "[CV] END criterion=entropy, max_depth=36, max_features=sqrt, n_estimators=10, oob_score=False; total time=   0.0s\n",
      "[CV] END criterion=entropy, max_depth=36, max_features=sqrt, n_estimators=10, oob_score=False; total time=   0.0s\n",
      "[CV] END criterion=entropy, max_depth=36, max_features=sqrt, n_estimators=10, oob_score=False; total time=   0.0s\n",
      "[CV] END criterion=entropy, max_depth=36, max_features=sqrt, n_estimators=10, oob_score=False; total time=   0.0s\n",
      "[CV] END criterion=entropy, max_depth=36, max_features=sqrt, n_estimators=173, oob_score=True; total time=   0.6s\n",
      "[CV] END criterion=entropy, max_depth=36, max_features=sqrt, n_estimators=173, oob_score=True; total time=   0.6s\n",
      "[CV] END criterion=entropy, max_depth=36, max_features=sqrt, n_estimators=173, oob_score=True; total time=   0.7s\n",
      "[CV] END criterion=entropy, max_depth=36, max_features=sqrt, n_estimators=173, oob_score=True; total time=   0.9s\n",
      "[CV] END criterion=entropy, max_depth=36, max_features=sqrt, n_estimators=173, oob_score=True; total time=   0.7s\n",
      "[CV] END criterion=entropy, max_depth=36, max_features=sqrt, n_estimators=173, oob_score=False; total time=   0.5s\n",
      "[CV] END criterion=entropy, max_depth=36, max_features=sqrt, n_estimators=173, oob_score=False; total time=   0.5s\n",
      "[CV] END criterion=entropy, max_depth=36, max_features=sqrt, n_estimators=173, oob_score=False; total time=   0.5s\n",
      "[CV] END criterion=entropy, max_depth=36, max_features=sqrt, n_estimators=173, oob_score=False; total time=   0.5s\n",
      "[CV] END criterion=entropy, max_depth=36, max_features=sqrt, n_estimators=173, oob_score=False; total time=   0.7s\n",
      "[CV] END criterion=entropy, max_depth=36, max_features=sqrt, n_estimators=336, oob_score=True; total time=   1.1s\n",
      "[CV] END criterion=entropy, max_depth=36, max_features=sqrt, n_estimators=336, oob_score=True; total time=   1.1s\n",
      "[CV] END criterion=entropy, max_depth=36, max_features=sqrt, n_estimators=336, oob_score=True; total time=   1.1s\n",
      "[CV] END criterion=entropy, max_depth=36, max_features=sqrt, n_estimators=336, oob_score=True; total time=   1.1s\n",
      "[CV] END criterion=entropy, max_depth=36, max_features=sqrt, n_estimators=336, oob_score=True; total time=   1.1s\n",
      "[CV] END criterion=entropy, max_depth=36, max_features=sqrt, n_estimators=336, oob_score=False; total time=   0.9s\n",
      "[CV] END criterion=entropy, max_depth=36, max_features=sqrt, n_estimators=336, oob_score=False; total time=   0.9s\n",
      "[CV] END criterion=entropy, max_depth=36, max_features=sqrt, n_estimators=336, oob_score=False; total time=   1.0s\n",
      "[CV] END criterion=entropy, max_depth=36, max_features=sqrt, n_estimators=336, oob_score=False; total time=   0.9s\n",
      "[CV] END criterion=entropy, max_depth=36, max_features=sqrt, n_estimators=336, oob_score=False; total time=   0.9s\n",
      "[CV] END criterion=entropy, max_depth=36, max_features=sqrt, n_estimators=500, oob_score=True; total time=   1.8s\n",
      "[CV] END criterion=entropy, max_depth=36, max_features=sqrt, n_estimators=500, oob_score=True; total time=   1.7s\n",
      "[CV] END criterion=entropy, max_depth=36, max_features=sqrt, n_estimators=500, oob_score=True; total time=   1.7s\n",
      "[CV] END criterion=entropy, max_depth=36, max_features=sqrt, n_estimators=500, oob_score=True; total time=   1.7s\n",
      "[CV] END criterion=entropy, max_depth=36, max_features=sqrt, n_estimators=500, oob_score=True; total time=   1.7s\n",
      "[CV] END criterion=entropy, max_depth=36, max_features=sqrt, n_estimators=500, oob_score=False; total time=   1.4s\n",
      "[CV] END criterion=entropy, max_depth=36, max_features=sqrt, n_estimators=500, oob_score=False; total time=   1.5s\n",
      "[CV] END criterion=entropy, max_depth=36, max_features=sqrt, n_estimators=500, oob_score=False; total time=   1.5s\n",
      "[CV] END criterion=entropy, max_depth=36, max_features=sqrt, n_estimators=500, oob_score=False; total time=   1.4s\n",
      "[CV] END criterion=entropy, max_depth=36, max_features=sqrt, n_estimators=500, oob_score=False; total time=   1.4s\n",
      "[CV] END criterion=entropy, max_depth=36, max_features=None, n_estimators=10, oob_score=True; total time=   0.1s\n",
      "[CV] END criterion=entropy, max_depth=36, max_features=None, n_estimators=10, oob_score=True; total time=   0.1s\n",
      "[CV] END criterion=entropy, max_depth=36, max_features=None, n_estimators=10, oob_score=True; total time=   0.1s\n",
      "[CV] END criterion=entropy, max_depth=36, max_features=None, n_estimators=10, oob_score=True; total time=   0.1s\n",
      "[CV] END criterion=entropy, max_depth=36, max_features=None, n_estimators=10, oob_score=True; total time=   0.1s\n",
      "[CV] END criterion=entropy, max_depth=36, max_features=None, n_estimators=10, oob_score=False; total time=   0.1s\n",
      "[CV] END criterion=entropy, max_depth=36, max_features=None, n_estimators=10, oob_score=False; total time=   0.1s\n",
      "[CV] END criterion=entropy, max_depth=36, max_features=None, n_estimators=10, oob_score=False; total time=   0.1s\n",
      "[CV] END criterion=entropy, max_depth=36, max_features=None, n_estimators=10, oob_score=False; total time=   0.1s\n",
      "[CV] END criterion=entropy, max_depth=36, max_features=None, n_estimators=10, oob_score=False; total time=   0.1s\n",
      "[CV] END criterion=entropy, max_depth=36, max_features=None, n_estimators=173, oob_score=True; total time=   1.0s\n",
      "[CV] END criterion=entropy, max_depth=36, max_features=None, n_estimators=173, oob_score=True; total time=   1.0s\n",
      "[CV] END criterion=entropy, max_depth=36, max_features=None, n_estimators=173, oob_score=True; total time=   1.3s\n",
      "[CV] END criterion=entropy, max_depth=36, max_features=None, n_estimators=173, oob_score=True; total time=   1.1s\n",
      "[CV] END criterion=entropy, max_depth=36, max_features=None, n_estimators=173, oob_score=True; total time=   0.9s\n",
      "[CV] END criterion=entropy, max_depth=36, max_features=None, n_estimators=173, oob_score=False; total time=   1.1s\n",
      "[CV] END criterion=entropy, max_depth=36, max_features=None, n_estimators=173, oob_score=False; total time=   0.9s\n",
      "[CV] END criterion=entropy, max_depth=36, max_features=None, n_estimators=173, oob_score=False; total time=   0.9s\n",
      "[CV] END criterion=entropy, max_depth=36, max_features=None, n_estimators=173, oob_score=False; total time=   0.9s\n",
      "[CV] END criterion=entropy, max_depth=36, max_features=None, n_estimators=173, oob_score=False; total time=   0.8s\n",
      "[CV] END criterion=entropy, max_depth=36, max_features=None, n_estimators=336, oob_score=True; total time=   1.8s\n",
      "[CV] END criterion=entropy, max_depth=36, max_features=None, n_estimators=336, oob_score=True; total time=   1.8s\n",
      "[CV] END criterion=entropy, max_depth=36, max_features=None, n_estimators=336, oob_score=True; total time=   1.9s\n",
      "[CV] END criterion=entropy, max_depth=36, max_features=None, n_estimators=336, oob_score=True; total time=   2.1s\n",
      "[CV] END criterion=entropy, max_depth=36, max_features=None, n_estimators=336, oob_score=True; total time=   1.9s\n",
      "[CV] END criterion=entropy, max_depth=36, max_features=None, n_estimators=336, oob_score=False; total time=   1.6s\n",
      "[CV] END criterion=entropy, max_depth=36, max_features=None, n_estimators=336, oob_score=False; total time=   1.7s\n",
      "[CV] END criterion=entropy, max_depth=36, max_features=None, n_estimators=336, oob_score=False; total time=   1.6s\n",
      "[CV] END criterion=entropy, max_depth=36, max_features=None, n_estimators=336, oob_score=False; total time=   1.6s\n",
      "[CV] END criterion=entropy, max_depth=36, max_features=None, n_estimators=336, oob_score=False; total time=   1.6s\n",
      "[CV] END criterion=entropy, max_depth=36, max_features=None, n_estimators=500, oob_score=True; total time=   2.9s\n",
      "[CV] END criterion=entropy, max_depth=36, max_features=None, n_estimators=500, oob_score=True; total time=   2.7s\n",
      "[CV] END criterion=entropy, max_depth=36, max_features=None, n_estimators=500, oob_score=True; total time=   2.7s\n",
      "[CV] END criterion=entropy, max_depth=36, max_features=None, n_estimators=500, oob_score=True; total time=   3.6s\n",
      "[CV] END criterion=entropy, max_depth=36, max_features=None, n_estimators=500, oob_score=True; total time=   2.9s\n",
      "[CV] END criterion=entropy, max_depth=36, max_features=None, n_estimators=500, oob_score=False; total time=   2.4s\n",
      "[CV] END criterion=entropy, max_depth=36, max_features=None, n_estimators=500, oob_score=False; total time=   2.4s\n",
      "[CV] END criterion=entropy, max_depth=36, max_features=None, n_estimators=500, oob_score=False; total time=   2.4s\n",
      "[CV] END criterion=entropy, max_depth=36, max_features=None, n_estimators=500, oob_score=False; total time=   2.7s\n",
      "[CV] END criterion=entropy, max_depth=36, max_features=None, n_estimators=500, oob_score=False; total time=   2.4s\n",
      "[CV] END criterion=entropy, max_depth=68, max_features=sqrt, n_estimators=10, oob_score=True; total time=   0.0s\n",
      "[CV] END criterion=entropy, max_depth=68, max_features=sqrt, n_estimators=10, oob_score=True; total time=   0.0s\n",
      "[CV] END criterion=entropy, max_depth=68, max_features=sqrt, n_estimators=10, oob_score=True; total time=   0.0s\n",
      "[CV] END criterion=entropy, max_depth=68, max_features=sqrt, n_estimators=10, oob_score=True; total time=   0.0s\n",
      "[CV] END criterion=entropy, max_depth=68, max_features=sqrt, n_estimators=10, oob_score=True; total time=   0.0s\n",
      "[CV] END criterion=entropy, max_depth=68, max_features=sqrt, n_estimators=10, oob_score=False; total time=   0.0s\n",
      "[CV] END criterion=entropy, max_depth=68, max_features=sqrt, n_estimators=10, oob_score=False; total time=   0.0s\n",
      "[CV] END criterion=entropy, max_depth=68, max_features=sqrt, n_estimators=10, oob_score=False; total time=   0.0s\n",
      "[CV] END criterion=entropy, max_depth=68, max_features=sqrt, n_estimators=10, oob_score=False; total time=   0.0s\n",
      "[CV] END criterion=entropy, max_depth=68, max_features=sqrt, n_estimators=10, oob_score=False; total time=   0.0s\n",
      "[CV] END criterion=entropy, max_depth=68, max_features=sqrt, n_estimators=173, oob_score=True; total time=   0.6s\n",
      "[CV] END criterion=entropy, max_depth=68, max_features=sqrt, n_estimators=173, oob_score=True; total time=   0.6s\n",
      "[CV] END criterion=entropy, max_depth=68, max_features=sqrt, n_estimators=173, oob_score=True; total time=   0.6s\n",
      "[CV] END criterion=entropy, max_depth=68, max_features=sqrt, n_estimators=173, oob_score=True; total time=   0.6s\n",
      "[CV] END criterion=entropy, max_depth=68, max_features=sqrt, n_estimators=173, oob_score=True; total time=   0.6s\n",
      "[CV] END criterion=entropy, max_depth=68, max_features=sqrt, n_estimators=173, oob_score=False; total time=   0.5s\n",
      "[CV] END criterion=entropy, max_depth=68, max_features=sqrt, n_estimators=173, oob_score=False; total time=   0.5s\n",
      "[CV] END criterion=entropy, max_depth=68, max_features=sqrt, n_estimators=173, oob_score=False; total time=   0.5s\n",
      "[CV] END criterion=entropy, max_depth=68, max_features=sqrt, n_estimators=173, oob_score=False; total time=   0.5s\n",
      "[CV] END criterion=entropy, max_depth=68, max_features=sqrt, n_estimators=173, oob_score=False; total time=   0.5s\n",
      "[CV] END criterion=entropy, max_depth=68, max_features=sqrt, n_estimators=336, oob_score=True; total time=   1.3s\n",
      "[CV] END criterion=entropy, max_depth=68, max_features=sqrt, n_estimators=336, oob_score=True; total time=   1.1s\n",
      "[CV] END criterion=entropy, max_depth=68, max_features=sqrt, n_estimators=336, oob_score=True; total time=   1.1s\n",
      "[CV] END criterion=entropy, max_depth=68, max_features=sqrt, n_estimators=336, oob_score=True; total time=   1.1s\n",
      "[CV] END criterion=entropy, max_depth=68, max_features=sqrt, n_estimators=336, oob_score=True; total time=   1.1s\n",
      "[CV] END criterion=entropy, max_depth=68, max_features=sqrt, n_estimators=336, oob_score=False; total time=   0.9s\n",
      "[CV] END criterion=entropy, max_depth=68, max_features=sqrt, n_estimators=336, oob_score=False; total time=   0.9s\n",
      "[CV] END criterion=entropy, max_depth=68, max_features=sqrt, n_estimators=336, oob_score=False; total time=   1.2s\n",
      "[CV] END criterion=entropy, max_depth=68, max_features=sqrt, n_estimators=336, oob_score=False; total time=   1.1s\n",
      "[CV] END criterion=entropy, max_depth=68, max_features=sqrt, n_estimators=336, oob_score=False; total time=   0.9s\n",
      "[CV] END criterion=entropy, max_depth=68, max_features=sqrt, n_estimators=500, oob_score=True; total time=   1.8s\n",
      "[CV] END criterion=entropy, max_depth=68, max_features=sqrt, n_estimators=500, oob_score=True; total time=   1.6s\n",
      "[CV] END criterion=entropy, max_depth=68, max_features=sqrt, n_estimators=500, oob_score=True; total time=   1.7s\n",
      "[CV] END criterion=entropy, max_depth=68, max_features=sqrt, n_estimators=500, oob_score=True; total time=   1.6s\n",
      "[CV] END criterion=entropy, max_depth=68, max_features=sqrt, n_estimators=500, oob_score=True; total time=   1.6s\n",
      "[CV] END criterion=entropy, max_depth=68, max_features=sqrt, n_estimators=500, oob_score=False; total time=   1.3s\n",
      "[CV] END criterion=entropy, max_depth=68, max_features=sqrt, n_estimators=500, oob_score=False; total time=   1.3s\n",
      "[CV] END criterion=entropy, max_depth=68, max_features=sqrt, n_estimators=500, oob_score=False; total time=   1.6s\n",
      "[CV] END criterion=entropy, max_depth=68, max_features=sqrt, n_estimators=500, oob_score=False; total time=   1.5s\n",
      "[CV] END criterion=entropy, max_depth=68, max_features=sqrt, n_estimators=500, oob_score=False; total time=   1.4s\n",
      "[CV] END criterion=entropy, max_depth=68, max_features=None, n_estimators=10, oob_score=True; total time=   0.1s\n",
      "[CV] END criterion=entropy, max_depth=68, max_features=None, n_estimators=10, oob_score=True; total time=   0.1s\n",
      "[CV] END criterion=entropy, max_depth=68, max_features=None, n_estimators=10, oob_score=True; total time=   0.1s\n",
      "[CV] END criterion=entropy, max_depth=68, max_features=None, n_estimators=10, oob_score=True; total time=   0.1s\n",
      "[CV] END criterion=entropy, max_depth=68, max_features=None, n_estimators=10, oob_score=True; total time=   0.1s\n",
      "[CV] END criterion=entropy, max_depth=68, max_features=None, n_estimators=10, oob_score=False; total time=   0.1s\n",
      "[CV] END criterion=entropy, max_depth=68, max_features=None, n_estimators=10, oob_score=False; total time=   0.1s\n",
      "[CV] END criterion=entropy, max_depth=68, max_features=None, n_estimators=10, oob_score=False; total time=   0.1s\n",
      "[CV] END criterion=entropy, max_depth=68, max_features=None, n_estimators=10, oob_score=False; total time=   0.1s\n",
      "[CV] END criterion=entropy, max_depth=68, max_features=None, n_estimators=10, oob_score=False; total time=   0.1s\n",
      "[CV] END criterion=entropy, max_depth=68, max_features=None, n_estimators=173, oob_score=True; total time=   0.9s\n",
      "[CV] END criterion=entropy, max_depth=68, max_features=None, n_estimators=173, oob_score=True; total time=   1.0s\n",
      "[CV] END criterion=entropy, max_depth=68, max_features=None, n_estimators=173, oob_score=True; total time=   0.9s\n",
      "[CV] END criterion=entropy, max_depth=68, max_features=None, n_estimators=173, oob_score=True; total time=   0.9s\n",
      "[CV] END criterion=entropy, max_depth=68, max_features=None, n_estimators=173, oob_score=True; total time=   0.9s\n",
      "[CV] END criterion=entropy, max_depth=68, max_features=None, n_estimators=173, oob_score=False; total time=   0.9s\n",
      "[CV] END criterion=entropy, max_depth=68, max_features=None, n_estimators=173, oob_score=False; total time=   0.9s\n",
      "[CV] END criterion=entropy, max_depth=68, max_features=None, n_estimators=173, oob_score=False; total time=   1.0s\n",
      "[CV] END criterion=entropy, max_depth=68, max_features=None, n_estimators=173, oob_score=False; total time=   0.9s\n",
      "[CV] END criterion=entropy, max_depth=68, max_features=None, n_estimators=173, oob_score=False; total time=   0.9s\n",
      "[CV] END criterion=entropy, max_depth=68, max_features=None, n_estimators=336, oob_score=True; total time=   1.9s\n",
      "[CV] END criterion=entropy, max_depth=68, max_features=None, n_estimators=336, oob_score=True; total time=   1.9s\n",
      "[CV] END criterion=entropy, max_depth=68, max_features=None, n_estimators=336, oob_score=True; total time=   2.4s\n",
      "[CV] END criterion=entropy, max_depth=68, max_features=None, n_estimators=336, oob_score=True; total time=   1.8s\n",
      "[CV] END criterion=entropy, max_depth=68, max_features=None, n_estimators=336, oob_score=True; total time=   2.1s\n",
      "[CV] END criterion=entropy, max_depth=68, max_features=None, n_estimators=336, oob_score=False; total time=   1.6s\n",
      "[CV] END criterion=entropy, max_depth=68, max_features=None, n_estimators=336, oob_score=False; total time=   1.6s\n",
      "[CV] END criterion=entropy, max_depth=68, max_features=None, n_estimators=336, oob_score=False; total time=   1.6s\n",
      "[CV] END criterion=entropy, max_depth=68, max_features=None, n_estimators=336, oob_score=False; total time=   1.6s\n",
      "[CV] END criterion=entropy, max_depth=68, max_features=None, n_estimators=336, oob_score=False; total time=   1.6s\n",
      "[CV] END criterion=entropy, max_depth=68, max_features=None, n_estimators=500, oob_score=True; total time=   3.0s\n",
      "[CV] END criterion=entropy, max_depth=68, max_features=None, n_estimators=500, oob_score=True; total time=   2.9s\n",
      "[CV] END criterion=entropy, max_depth=68, max_features=None, n_estimators=500, oob_score=True; total time=   2.7s\n",
      "[CV] END criterion=entropy, max_depth=68, max_features=None, n_estimators=500, oob_score=True; total time=   2.7s\n",
      "[CV] END criterion=entropy, max_depth=68, max_features=None, n_estimators=500, oob_score=True; total time=   3.0s\n",
      "[CV] END criterion=entropy, max_depth=68, max_features=None, n_estimators=500, oob_score=False; total time=   2.4s\n",
      "[CV] END criterion=entropy, max_depth=68, max_features=None, n_estimators=500, oob_score=False; total time=   2.5s\n",
      "[CV] END criterion=entropy, max_depth=68, max_features=None, n_estimators=500, oob_score=False; total time=   2.9s\n",
      "[CV] END criterion=entropy, max_depth=68, max_features=None, n_estimators=500, oob_score=False; total time=   2.7s\n",
      "[CV] END criterion=entropy, max_depth=68, max_features=None, n_estimators=500, oob_score=False; total time=   2.4s\n",
      "[CV] END criterion=entropy, max_depth=100, max_features=sqrt, n_estimators=10, oob_score=True; total time=   0.0s\n",
      "[CV] END criterion=entropy, max_depth=100, max_features=sqrt, n_estimators=10, oob_score=True; total time=   0.0s\n",
      "[CV] END criterion=entropy, max_depth=100, max_features=sqrt, n_estimators=10, oob_score=True; total time=   0.0s\n",
      "[CV] END criterion=entropy, max_depth=100, max_features=sqrt, n_estimators=10, oob_score=True; total time=   0.0s\n",
      "[CV] END criterion=entropy, max_depth=100, max_features=sqrt, n_estimators=10, oob_score=True; total time=   0.0s\n",
      "[CV] END criterion=entropy, max_depth=100, max_features=sqrt, n_estimators=10, oob_score=False; total time=   0.0s\n",
      "[CV] END criterion=entropy, max_depth=100, max_features=sqrt, n_estimators=10, oob_score=False; total time=   0.0s\n",
      "[CV] END criterion=entropy, max_depth=100, max_features=sqrt, n_estimators=10, oob_score=False; total time=   0.0s\n",
      "[CV] END criterion=entropy, max_depth=100, max_features=sqrt, n_estimators=10, oob_score=False; total time=   0.0s\n",
      "[CV] END criterion=entropy, max_depth=100, max_features=sqrt, n_estimators=10, oob_score=False; total time=   0.0s\n",
      "[CV] END criterion=entropy, max_depth=100, max_features=sqrt, n_estimators=173, oob_score=True; total time=   0.6s\n",
      "[CV] END criterion=entropy, max_depth=100, max_features=sqrt, n_estimators=173, oob_score=True; total time=   0.6s\n",
      "[CV] END criterion=entropy, max_depth=100, max_features=sqrt, n_estimators=173, oob_score=True; total time=   0.6s\n",
      "[CV] END criterion=entropy, max_depth=100, max_features=sqrt, n_estimators=173, oob_score=True; total time=   0.6s\n",
      "[CV] END criterion=entropy, max_depth=100, max_features=sqrt, n_estimators=173, oob_score=True; total time=   0.6s\n",
      "[CV] END criterion=entropy, max_depth=100, max_features=sqrt, n_estimators=173, oob_score=False; total time=   0.5s\n",
      "[CV] END criterion=entropy, max_depth=100, max_features=sqrt, n_estimators=173, oob_score=False; total time=   0.5s\n",
      "[CV] END criterion=entropy, max_depth=100, max_features=sqrt, n_estimators=173, oob_score=False; total time=   0.5s\n",
      "[CV] END criterion=entropy, max_depth=100, max_features=sqrt, n_estimators=173, oob_score=False; total time=   0.5s\n",
      "[CV] END criterion=entropy, max_depth=100, max_features=sqrt, n_estimators=173, oob_score=False; total time=   0.5s\n",
      "[CV] END criterion=entropy, max_depth=100, max_features=sqrt, n_estimators=336, oob_score=True; total time=   1.2s\n",
      "[CV] END criterion=entropy, max_depth=100, max_features=sqrt, n_estimators=336, oob_score=True; total time=   1.3s\n",
      "[CV] END criterion=entropy, max_depth=100, max_features=sqrt, n_estimators=336, oob_score=True; total time=   1.1s\n",
      "[CV] END criterion=entropy, max_depth=100, max_features=sqrt, n_estimators=336, oob_score=True; total time=   1.1s\n",
      "[CV] END criterion=entropy, max_depth=100, max_features=sqrt, n_estimators=336, oob_score=True; total time=   1.1s\n",
      "[CV] END criterion=entropy, max_depth=100, max_features=sqrt, n_estimators=336, oob_score=False; total time=   0.9s\n",
      "[CV] END criterion=entropy, max_depth=100, max_features=sqrt, n_estimators=336, oob_score=False; total time=   0.9s\n",
      "[CV] END criterion=entropy, max_depth=100, max_features=sqrt, n_estimators=336, oob_score=False; total time=   0.9s\n",
      "[CV] END criterion=entropy, max_depth=100, max_features=sqrt, n_estimators=336, oob_score=False; total time=   0.9s\n",
      "[CV] END criterion=entropy, max_depth=100, max_features=sqrt, n_estimators=336, oob_score=False; total time=   0.9s\n",
      "[CV] END criterion=entropy, max_depth=100, max_features=sqrt, n_estimators=500, oob_score=True; total time=   1.8s\n",
      "[CV] END criterion=entropy, max_depth=100, max_features=sqrt, n_estimators=500, oob_score=True; total time=   1.8s\n",
      "[CV] END criterion=entropy, max_depth=100, max_features=sqrt, n_estimators=500, oob_score=True; total time=   1.7s\n",
      "[CV] END criterion=entropy, max_depth=100, max_features=sqrt, n_estimators=500, oob_score=True; total time=   1.7s\n",
      "[CV] END criterion=entropy, max_depth=100, max_features=sqrt, n_estimators=500, oob_score=True; total time=   1.6s\n",
      "[CV] END criterion=entropy, max_depth=100, max_features=sqrt, n_estimators=500, oob_score=False; total time=   1.8s\n",
      "[CV] END criterion=entropy, max_depth=100, max_features=sqrt, n_estimators=500, oob_score=False; total time=   1.4s\n",
      "[CV] END criterion=entropy, max_depth=100, max_features=sqrt, n_estimators=500, oob_score=False; total time=   1.6s\n",
      "[CV] END criterion=entropy, max_depth=100, max_features=sqrt, n_estimators=500, oob_score=False; total time=   1.4s\n",
      "[CV] END criterion=entropy, max_depth=100, max_features=sqrt, n_estimators=500, oob_score=False; total time=   1.3s\n",
      "[CV] END criterion=entropy, max_depth=100, max_features=None, n_estimators=10, oob_score=True; total time=   0.1s\n",
      "[CV] END criterion=entropy, max_depth=100, max_features=None, n_estimators=10, oob_score=True; total time=   0.1s\n",
      "[CV] END criterion=entropy, max_depth=100, max_features=None, n_estimators=10, oob_score=True; total time=   0.1s\n",
      "[CV] END criterion=entropy, max_depth=100, max_features=None, n_estimators=10, oob_score=True; total time=   0.1s\n",
      "[CV] END criterion=entropy, max_depth=100, max_features=None, n_estimators=10, oob_score=True; total time=   0.1s\n",
      "[CV] END criterion=entropy, max_depth=100, max_features=None, n_estimators=10, oob_score=False; total time=   0.1s\n",
      "[CV] END criterion=entropy, max_depth=100, max_features=None, n_estimators=10, oob_score=False; total time=   0.1s\n",
      "[CV] END criterion=entropy, max_depth=100, max_features=None, n_estimators=10, oob_score=False; total time=   0.1s\n",
      "[CV] END criterion=entropy, max_depth=100, max_features=None, n_estimators=10, oob_score=False; total time=   0.1s\n",
      "[CV] END criterion=entropy, max_depth=100, max_features=None, n_estimators=10, oob_score=False; total time=   0.1s\n",
      "[CV] END criterion=entropy, max_depth=100, max_features=None, n_estimators=173, oob_score=True; total time=   1.0s\n",
      "[CV] END criterion=entropy, max_depth=100, max_features=None, n_estimators=173, oob_score=True; total time=   0.9s\n",
      "[CV] END criterion=entropy, max_depth=100, max_features=None, n_estimators=173, oob_score=True; total time=   1.0s\n",
      "[CV] END criterion=entropy, max_depth=100, max_features=None, n_estimators=173, oob_score=True; total time=   1.0s\n",
      "[CV] END criterion=entropy, max_depth=100, max_features=None, n_estimators=173, oob_score=True; total time=   1.0s\n",
      "[CV] END criterion=entropy, max_depth=100, max_features=None, n_estimators=173, oob_score=False; total time=   0.9s\n",
      "[CV] END criterion=entropy, max_depth=100, max_features=None, n_estimators=173, oob_score=False; total time=   0.8s\n",
      "[CV] END criterion=entropy, max_depth=100, max_features=None, n_estimators=173, oob_score=False; total time=   1.1s\n",
      "[CV] END criterion=entropy, max_depth=100, max_features=None, n_estimators=173, oob_score=False; total time=   0.8s\n",
      "[CV] END criterion=entropy, max_depth=100, max_features=None, n_estimators=173, oob_score=False; total time=   0.8s\n",
      "[CV] END criterion=entropy, max_depth=100, max_features=None, n_estimators=336, oob_score=True; total time=   1.8s\n",
      "[CV] END criterion=entropy, max_depth=100, max_features=None, n_estimators=336, oob_score=True; total time=   1.8s\n",
      "[CV] END criterion=entropy, max_depth=100, max_features=None, n_estimators=336, oob_score=True; total time=   1.8s\n",
      "[CV] END criterion=entropy, max_depth=100, max_features=None, n_estimators=336, oob_score=True; total time=   1.8s\n",
      "[CV] END criterion=entropy, max_depth=100, max_features=None, n_estimators=336, oob_score=True; total time=   2.1s\n",
      "[CV] END criterion=entropy, max_depth=100, max_features=None, n_estimators=336, oob_score=False; total time=   1.6s\n",
      "[CV] END criterion=entropy, max_depth=100, max_features=None, n_estimators=336, oob_score=False; total time=   1.6s\n",
      "[CV] END criterion=entropy, max_depth=100, max_features=None, n_estimators=336, oob_score=False; total time=   1.6s\n",
      "[CV] END criterion=entropy, max_depth=100, max_features=None, n_estimators=336, oob_score=False; total time=   1.7s\n",
      "[CV] END criterion=entropy, max_depth=100, max_features=None, n_estimators=336, oob_score=False; total time=   2.2s\n",
      "[CV] END criterion=entropy, max_depth=100, max_features=None, n_estimators=500, oob_score=True; total time=   2.9s\n",
      "[CV] END criterion=entropy, max_depth=100, max_features=None, n_estimators=500, oob_score=True; total time=   2.8s\n",
      "[CV] END criterion=entropy, max_depth=100, max_features=None, n_estimators=500, oob_score=True; total time=   2.7s\n",
      "[CV] END criterion=entropy, max_depth=100, max_features=None, n_estimators=500, oob_score=True; total time=   2.8s\n",
      "[CV] END criterion=entropy, max_depth=100, max_features=None, n_estimators=500, oob_score=True; total time=   2.9s\n",
      "[CV] END criterion=entropy, max_depth=100, max_features=None, n_estimators=500, oob_score=False; total time=   2.4s\n",
      "[CV] END criterion=entropy, max_depth=100, max_features=None, n_estimators=500, oob_score=False; total time=   2.4s\n",
      "[CV] END criterion=entropy, max_depth=100, max_features=None, n_estimators=500, oob_score=False; total time=   2.4s\n",
      "[CV] END criterion=entropy, max_depth=100, max_features=None, n_estimators=500, oob_score=False; total time=   2.7s\n",
      "[CV] END criterion=entropy, max_depth=100, max_features=None, n_estimators=500, oob_score=False; total time=   2.5s\n"
     ]
    },
    {
     "data": {
      "text/plain": [
       "GridSearchCV(estimator=RandomForestClassifier(),\n",
       "             param_grid={'criterion': ['gini', 'entropy'],\n",
       "                         'max_depth': [5, 36, 68, 100],\n",
       "                         'max_features': ['sqrt', None],\n",
       "                         'n_estimators': [10, 173, 336, 500],\n",
       "                         'oob_score': [True, False]},\n",
       "             verbose=2)"
      ]
     },
     "execution_count": 65,
     "metadata": {},
     "output_type": "execute_result"
    }
   ],
   "source": [
    "rfg_grid.fit(X_train,y_train)"
   ]
  },
  {
   "cell_type": "code",
   "execution_count": 66,
   "id": "f6fa0f99",
   "metadata": {
    "execution": {
     "iopub.execute_input": "2022-07-03T15:39:49.713523Z",
     "iopub.status.busy": "2022-07-03T15:39:49.712928Z",
     "iopub.status.idle": "2022-07-03T15:39:49.719561Z",
     "shell.execute_reply": "2022-07-03T15:39:49.718592Z"
    },
    "papermill": {
     "duration": 0.064859,
     "end_time": "2022-07-03T15:39:49.721684",
     "exception": false,
     "start_time": "2022-07-03T15:39:49.656825",
     "status": "completed"
    },
    "tags": []
   },
   "outputs": [
    {
     "data": {
      "text/plain": [
       "0.37468354430379747"
      ]
     },
     "execution_count": 66,
     "metadata": {},
     "output_type": "execute_result"
    }
   ],
   "source": [
    "rfg_grid.best_score_"
   ]
  },
  {
   "cell_type": "code",
   "execution_count": 67,
   "id": "fb0e5a9a",
   "metadata": {
    "execution": {
     "iopub.execute_input": "2022-07-03T15:39:49.832690Z",
     "iopub.status.busy": "2022-07-03T15:39:49.832015Z",
     "iopub.status.idle": "2022-07-03T15:39:49.838234Z",
     "shell.execute_reply": "2022-07-03T15:39:49.837221Z"
    },
    "papermill": {
     "duration": 0.063532,
     "end_time": "2022-07-03T15:39:49.840263",
     "exception": false,
     "start_time": "2022-07-03T15:39:49.776731",
     "status": "completed"
    },
    "tags": []
   },
   "outputs": [
    {
     "data": {
      "text/plain": [
       "{'criterion': 'entropy',\n",
       " 'max_depth': 68,\n",
       " 'max_features': None,\n",
       " 'n_estimators': 336,\n",
       " 'oob_score': False}"
      ]
     },
     "execution_count": 67,
     "metadata": {},
     "output_type": "execute_result"
    }
   ],
   "source": [
    "rfg_grid.best_params_"
   ]
  },
  {
   "cell_type": "code",
   "execution_count": 68,
   "id": "7013698d",
   "metadata": {
    "execution": {
     "iopub.execute_input": "2022-07-03T15:39:49.952216Z",
     "iopub.status.busy": "2022-07-03T15:39:49.951856Z",
     "iopub.status.idle": "2022-07-03T15:39:49.958246Z",
     "shell.execute_reply": "2022-07-03T15:39:49.957254Z"
    },
    "papermill": {
     "duration": 0.064419,
     "end_time": "2022-07-03T15:39:49.960177",
     "exception": false,
     "start_time": "2022-07-03T15:39:49.895758",
     "status": "completed"
    },
    "tags": []
   },
   "outputs": [
    {
     "data": {
      "text/plain": [
       "0.37468354430379747"
      ]
     },
     "execution_count": 68,
     "metadata": {},
     "output_type": "execute_result"
    }
   ],
   "source": [
    "rfg_grid.best_score_"
   ]
  },
  {
   "cell_type": "code",
   "execution_count": 69,
   "id": "1b391084",
   "metadata": {
    "execution": {
     "iopub.execute_input": "2022-07-03T15:39:50.071710Z",
     "iopub.status.busy": "2022-07-03T15:39:50.071099Z",
     "iopub.status.idle": "2022-07-03T15:39:50.077642Z",
     "shell.execute_reply": "2022-07-03T15:39:50.076757Z"
    },
    "papermill": {
     "duration": 0.065112,
     "end_time": "2022-07-03T15:39:50.079693",
     "exception": false,
     "start_time": "2022-07-03T15:39:50.014581",
     "status": "completed"
    },
    "tags": []
   },
   "outputs": [
    {
     "data": {
      "text/plain": [
       "RandomForestClassifier(criterion='entropy', max_depth=68, max_features=None,\n",
       "                       n_estimators=336)"
      ]
     },
     "execution_count": 69,
     "metadata": {},
     "output_type": "execute_result"
    }
   ],
   "source": [
    "best_grid=rfg_grid.best_estimator_\n",
    "best_grid"
   ]
  },
  {
   "cell_type": "code",
   "execution_count": 70,
   "id": "42afb3b9",
   "metadata": {
    "execution": {
     "iopub.execute_input": "2022-07-03T15:39:50.192667Z",
     "iopub.status.busy": "2022-07-03T15:39:50.191674Z",
     "iopub.status.idle": "2022-07-03T15:39:50.295378Z",
     "shell.execute_reply": "2022-07-03T15:39:50.294204Z"
    },
    "papermill": {
     "duration": 0.163387,
     "end_time": "2022-07-03T15:39:50.298215",
     "exception": false,
     "start_time": "2022-07-03T15:39:50.134828",
     "status": "completed"
    },
    "tags": []
   },
   "outputs": [
    {
     "data": {
      "text/plain": [
       "array([145000,  50000,  60000, 200000, 250000])"
      ]
     },
     "execution_count": 70,
     "metadata": {},
     "output_type": "execute_result"
    }
   ],
   "source": [
    "y_pred2=best_grid.predict(X_test)\n",
    "y_pred2[:5]"
   ]
  },
  {
   "cell_type": "code",
   "execution_count": 71,
   "id": "950bec94",
   "metadata": {
    "execution": {
     "iopub.execute_input": "2022-07-03T15:39:50.411968Z",
     "iopub.status.busy": "2022-07-03T15:39:50.411632Z",
     "iopub.status.idle": "2022-07-03T15:39:50.418241Z",
     "shell.execute_reply": "2022-07-03T15:39:50.417259Z"
    },
    "papermill": {
     "duration": 0.066004,
     "end_time": "2022-07-03T15:39:50.420200",
     "exception": false,
     "start_time": "2022-07-03T15:39:50.354196",
     "status": "completed"
    },
    "tags": []
   },
   "outputs": [
    {
     "data": {
      "text/plain": [
       "237188.56470588237"
      ]
     },
     "execution_count": 71,
     "metadata": {},
     "output_type": "execute_result"
    }
   ],
   "source": [
    "mean_absolute_error(y_test,y_pred2)"
   ]
  },
  {
   "cell_type": "code",
   "execution_count": null,
   "id": "09e401ac",
   "metadata": {
    "papermill": {
     "duration": 0.055016,
     "end_time": "2022-07-03T15:39:50.530771",
     "exception": false,
     "start_time": "2022-07-03T15:39:50.475755",
     "status": "completed"
    },
    "tags": []
   },
   "outputs": [],
   "source": []
  },
  {
   "cell_type": "code",
   "execution_count": null,
   "id": "ea3b3a8b",
   "metadata": {
    "papermill": {
     "duration": 0.054601,
     "end_time": "2022-07-03T15:39:50.641100",
     "exception": false,
     "start_time": "2022-07-03T15:39:50.586499",
     "status": "completed"
    },
    "tags": []
   },
   "outputs": [],
   "source": []
  }
 ],
 "metadata": {
  "kernelspec": {
   "display_name": "Python 3",
   "language": "python",
   "name": "python3"
  },
  "language_info": {
   "codemirror_mode": {
    "name": "ipython",
    "version": 3
   },
   "file_extension": ".py",
   "mimetype": "text/x-python",
   "name": "python",
   "nbconvert_exporter": "python",
   "pygments_lexer": "ipython3",
   "version": "3.7.12"
  },
  "papermill": {
   "default_parameters": {},
   "duration": 622.389613,
   "end_time": "2022-07-03T15:39:51.317677",
   "environment_variables": {},
   "exception": null,
   "input_path": "__notebook__.ipynb",
   "output_path": "__notebook__.ipynb",
   "parameters": {},
   "start_time": "2022-07-03T15:29:28.928064",
   "version": "2.3.4"
  }
 },
 "nbformat": 4,
 "nbformat_minor": 5
}
