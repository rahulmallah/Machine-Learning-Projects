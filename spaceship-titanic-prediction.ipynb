{
 "cells": [
  {
   "cell_type": "code",
   "execution_count": 1,
   "id": "cdffc1a1",
   "metadata": {
    "execution": {
     "iopub.execute_input": "2022-06-25T15:52:33.861774Z",
     "iopub.status.busy": "2022-06-25T15:52:33.861189Z",
     "iopub.status.idle": "2022-06-25T15:52:45.799541Z",
     "shell.execute_reply": "2022-06-25T15:52:45.798296Z"
    },
    "papermill": {
     "duration": 11.963327,
     "end_time": "2022-06-25T15:52:45.802533",
     "exception": false,
     "start_time": "2022-06-25T15:52:33.839206",
     "status": "completed"
    },
    "tags": []
   },
   "outputs": [],
   "source": [
    "import pandas as pd\n",
    "import numpy as np\n",
    "from matplotlib import pyplot as plt\n",
    "import seaborn as sns\n",
    "import tensorflow as tf\n",
    "from tensorflow.keras import models,layers\n",
    "from sklearn.preprocessing import LabelEncoder\n",
    "from sklearn.preprocessing import MinMaxScaler\n",
    "from sklearn.model_selection import train_test_split\n",
    "from sklearn.ensemble import RandomForestClassifier\n",
    "from xgboost import XGBClassifier\n",
    "import warnings\n",
    "warnings.filterwarnings('ignore')\n",
    "train_df=pd.read_csv('/kaggle/input/spaceship-titanic/train.csv')"
   ]
  },
  {
   "cell_type": "code",
   "execution_count": 2,
   "id": "e91d5c08",
   "metadata": {
    "execution": {
     "iopub.execute_input": "2022-06-25T15:52:45.842358Z",
     "iopub.status.busy": "2022-06-25T15:52:45.841956Z",
     "iopub.status.idle": "2022-06-25T15:52:45.873971Z",
     "shell.execute_reply": "2022-06-25T15:52:45.872762Z"
    },
    "papermill": {
     "duration": 0.055956,
     "end_time": "2022-06-25T15:52:45.876872",
     "exception": false,
     "start_time": "2022-06-25T15:52:45.820916",
     "status": "completed"
    },
    "tags": []
   },
   "outputs": [
    {
     "data": {
      "text/html": [
       "<div>\n",
       "<style scoped>\n",
       "    .dataframe tbody tr th:only-of-type {\n",
       "        vertical-align: middle;\n",
       "    }\n",
       "\n",
       "    .dataframe tbody tr th {\n",
       "        vertical-align: top;\n",
       "    }\n",
       "\n",
       "    .dataframe thead th {\n",
       "        text-align: right;\n",
       "    }\n",
       "</style>\n",
       "<table border=\"1\" class=\"dataframe\">\n",
       "  <thead>\n",
       "    <tr style=\"text-align: right;\">\n",
       "      <th></th>\n",
       "      <th>PassengerId</th>\n",
       "      <th>HomePlanet</th>\n",
       "      <th>CryoSleep</th>\n",
       "      <th>Cabin</th>\n",
       "      <th>Destination</th>\n",
       "      <th>Age</th>\n",
       "      <th>VIP</th>\n",
       "      <th>RoomService</th>\n",
       "      <th>FoodCourt</th>\n",
       "      <th>ShoppingMall</th>\n",
       "      <th>Spa</th>\n",
       "      <th>VRDeck</th>\n",
       "      <th>Name</th>\n",
       "      <th>Transported</th>\n",
       "    </tr>\n",
       "  </thead>\n",
       "  <tbody>\n",
       "    <tr>\n",
       "      <th>0</th>\n",
       "      <td>0001_01</td>\n",
       "      <td>Europa</td>\n",
       "      <td>False</td>\n",
       "      <td>B/0/P</td>\n",
       "      <td>TRAPPIST-1e</td>\n",
       "      <td>39.0</td>\n",
       "      <td>False</td>\n",
       "      <td>0.0</td>\n",
       "      <td>0.0</td>\n",
       "      <td>0.0</td>\n",
       "      <td>0.0</td>\n",
       "      <td>0.0</td>\n",
       "      <td>Maham Ofracculy</td>\n",
       "      <td>False</td>\n",
       "    </tr>\n",
       "    <tr>\n",
       "      <th>1</th>\n",
       "      <td>0002_01</td>\n",
       "      <td>Earth</td>\n",
       "      <td>False</td>\n",
       "      <td>F/0/S</td>\n",
       "      <td>TRAPPIST-1e</td>\n",
       "      <td>24.0</td>\n",
       "      <td>False</td>\n",
       "      <td>109.0</td>\n",
       "      <td>9.0</td>\n",
       "      <td>25.0</td>\n",
       "      <td>549.0</td>\n",
       "      <td>44.0</td>\n",
       "      <td>Juanna Vines</td>\n",
       "      <td>True</td>\n",
       "    </tr>\n",
       "    <tr>\n",
       "      <th>2</th>\n",
       "      <td>0003_01</td>\n",
       "      <td>Europa</td>\n",
       "      <td>False</td>\n",
       "      <td>A/0/S</td>\n",
       "      <td>TRAPPIST-1e</td>\n",
       "      <td>58.0</td>\n",
       "      <td>True</td>\n",
       "      <td>43.0</td>\n",
       "      <td>3576.0</td>\n",
       "      <td>0.0</td>\n",
       "      <td>6715.0</td>\n",
       "      <td>49.0</td>\n",
       "      <td>Altark Susent</td>\n",
       "      <td>False</td>\n",
       "    </tr>\n",
       "    <tr>\n",
       "      <th>3</th>\n",
       "      <td>0003_02</td>\n",
       "      <td>Europa</td>\n",
       "      <td>False</td>\n",
       "      <td>A/0/S</td>\n",
       "      <td>TRAPPIST-1e</td>\n",
       "      <td>33.0</td>\n",
       "      <td>False</td>\n",
       "      <td>0.0</td>\n",
       "      <td>1283.0</td>\n",
       "      <td>371.0</td>\n",
       "      <td>3329.0</td>\n",
       "      <td>193.0</td>\n",
       "      <td>Solam Susent</td>\n",
       "      <td>False</td>\n",
       "    </tr>\n",
       "    <tr>\n",
       "      <th>4</th>\n",
       "      <td>0004_01</td>\n",
       "      <td>Earth</td>\n",
       "      <td>False</td>\n",
       "      <td>F/1/S</td>\n",
       "      <td>TRAPPIST-1e</td>\n",
       "      <td>16.0</td>\n",
       "      <td>False</td>\n",
       "      <td>303.0</td>\n",
       "      <td>70.0</td>\n",
       "      <td>151.0</td>\n",
       "      <td>565.0</td>\n",
       "      <td>2.0</td>\n",
       "      <td>Willy Santantines</td>\n",
       "      <td>True</td>\n",
       "    </tr>\n",
       "  </tbody>\n",
       "</table>\n",
       "</div>"
      ],
      "text/plain": [
       "  PassengerId HomePlanet CryoSleep  Cabin  Destination   Age    VIP  \\\n",
       "0     0001_01     Europa     False  B/0/P  TRAPPIST-1e  39.0  False   \n",
       "1     0002_01      Earth     False  F/0/S  TRAPPIST-1e  24.0  False   \n",
       "2     0003_01     Europa     False  A/0/S  TRAPPIST-1e  58.0   True   \n",
       "3     0003_02     Europa     False  A/0/S  TRAPPIST-1e  33.0  False   \n",
       "4     0004_01      Earth     False  F/1/S  TRAPPIST-1e  16.0  False   \n",
       "\n",
       "   RoomService  FoodCourt  ShoppingMall     Spa  VRDeck               Name  \\\n",
       "0          0.0        0.0           0.0     0.0     0.0    Maham Ofracculy   \n",
       "1        109.0        9.0          25.0   549.0    44.0       Juanna Vines   \n",
       "2         43.0     3576.0           0.0  6715.0    49.0      Altark Susent   \n",
       "3          0.0     1283.0         371.0  3329.0   193.0       Solam Susent   \n",
       "4        303.0       70.0         151.0   565.0     2.0  Willy Santantines   \n",
       "\n",
       "   Transported  \n",
       "0        False  \n",
       "1         True  \n",
       "2        False  \n",
       "3        False  \n",
       "4         True  "
      ]
     },
     "execution_count": 2,
     "metadata": {},
     "output_type": "execute_result"
    }
   ],
   "source": [
    "train_df.head()"
   ]
  },
  {
   "cell_type": "code",
   "execution_count": 3,
   "id": "e3d91729",
   "metadata": {
    "execution": {
     "iopub.execute_input": "2022-06-25T15:52:45.914975Z",
     "iopub.status.busy": "2022-06-25T15:52:45.914602Z",
     "iopub.status.idle": "2022-06-25T15:52:45.921495Z",
     "shell.execute_reply": "2022-06-25T15:52:45.920255Z"
    },
    "papermill": {
     "duration": 0.028821,
     "end_time": "2022-06-25T15:52:45.923769",
     "exception": false,
     "start_time": "2022-06-25T15:52:45.894948",
     "status": "completed"
    },
    "tags": []
   },
   "outputs": [
    {
     "data": {
      "text/plain": [
       "(8693, 14)"
      ]
     },
     "execution_count": 3,
     "metadata": {},
     "output_type": "execute_result"
    }
   ],
   "source": [
    "train_df.shape"
   ]
  },
  {
   "cell_type": "code",
   "execution_count": 4,
   "id": "b5726fdb",
   "metadata": {
    "execution": {
     "iopub.execute_input": "2022-06-25T15:52:45.963018Z",
     "iopub.status.busy": "2022-06-25T15:52:45.962606Z",
     "iopub.status.idle": "2022-06-25T15:52:46.007234Z",
     "shell.execute_reply": "2022-06-25T15:52:46.006120Z"
    },
    "papermill": {
     "duration": 0.067123,
     "end_time": "2022-06-25T15:52:46.009637",
     "exception": false,
     "start_time": "2022-06-25T15:52:45.942514",
     "status": "completed"
    },
    "tags": []
   },
   "outputs": [
    {
     "data": {
      "text/html": [
       "<div>\n",
       "<style scoped>\n",
       "    .dataframe tbody tr th:only-of-type {\n",
       "        vertical-align: middle;\n",
       "    }\n",
       "\n",
       "    .dataframe tbody tr th {\n",
       "        vertical-align: top;\n",
       "    }\n",
       "\n",
       "    .dataframe thead th {\n",
       "        text-align: right;\n",
       "    }\n",
       "</style>\n",
       "<table border=\"1\" class=\"dataframe\">\n",
       "  <thead>\n",
       "    <tr style=\"text-align: right;\">\n",
       "      <th></th>\n",
       "      <th>Age</th>\n",
       "      <th>RoomService</th>\n",
       "      <th>FoodCourt</th>\n",
       "      <th>ShoppingMall</th>\n",
       "      <th>Spa</th>\n",
       "      <th>VRDeck</th>\n",
       "    </tr>\n",
       "  </thead>\n",
       "  <tbody>\n",
       "    <tr>\n",
       "      <th>count</th>\n",
       "      <td>8514.000000</td>\n",
       "      <td>8512.000000</td>\n",
       "      <td>8510.000000</td>\n",
       "      <td>8485.000000</td>\n",
       "      <td>8510.000000</td>\n",
       "      <td>8505.000000</td>\n",
       "    </tr>\n",
       "    <tr>\n",
       "      <th>mean</th>\n",
       "      <td>28.827930</td>\n",
       "      <td>224.687617</td>\n",
       "      <td>458.077203</td>\n",
       "      <td>173.729169</td>\n",
       "      <td>311.138778</td>\n",
       "      <td>304.854791</td>\n",
       "    </tr>\n",
       "    <tr>\n",
       "      <th>std</th>\n",
       "      <td>14.489021</td>\n",
       "      <td>666.717663</td>\n",
       "      <td>1611.489240</td>\n",
       "      <td>604.696458</td>\n",
       "      <td>1136.705535</td>\n",
       "      <td>1145.717189</td>\n",
       "    </tr>\n",
       "    <tr>\n",
       "      <th>min</th>\n",
       "      <td>0.000000</td>\n",
       "      <td>0.000000</td>\n",
       "      <td>0.000000</td>\n",
       "      <td>0.000000</td>\n",
       "      <td>0.000000</td>\n",
       "      <td>0.000000</td>\n",
       "    </tr>\n",
       "    <tr>\n",
       "      <th>25%</th>\n",
       "      <td>19.000000</td>\n",
       "      <td>0.000000</td>\n",
       "      <td>0.000000</td>\n",
       "      <td>0.000000</td>\n",
       "      <td>0.000000</td>\n",
       "      <td>0.000000</td>\n",
       "    </tr>\n",
       "    <tr>\n",
       "      <th>50%</th>\n",
       "      <td>27.000000</td>\n",
       "      <td>0.000000</td>\n",
       "      <td>0.000000</td>\n",
       "      <td>0.000000</td>\n",
       "      <td>0.000000</td>\n",
       "      <td>0.000000</td>\n",
       "    </tr>\n",
       "    <tr>\n",
       "      <th>75%</th>\n",
       "      <td>38.000000</td>\n",
       "      <td>47.000000</td>\n",
       "      <td>76.000000</td>\n",
       "      <td>27.000000</td>\n",
       "      <td>59.000000</td>\n",
       "      <td>46.000000</td>\n",
       "    </tr>\n",
       "    <tr>\n",
       "      <th>max</th>\n",
       "      <td>79.000000</td>\n",
       "      <td>14327.000000</td>\n",
       "      <td>29813.000000</td>\n",
       "      <td>23492.000000</td>\n",
       "      <td>22408.000000</td>\n",
       "      <td>24133.000000</td>\n",
       "    </tr>\n",
       "  </tbody>\n",
       "</table>\n",
       "</div>"
      ],
      "text/plain": [
       "               Age   RoomService     FoodCourt  ShoppingMall           Spa  \\\n",
       "count  8514.000000   8512.000000   8510.000000   8485.000000   8510.000000   \n",
       "mean     28.827930    224.687617    458.077203    173.729169    311.138778   \n",
       "std      14.489021    666.717663   1611.489240    604.696458   1136.705535   \n",
       "min       0.000000      0.000000      0.000000      0.000000      0.000000   \n",
       "25%      19.000000      0.000000      0.000000      0.000000      0.000000   \n",
       "50%      27.000000      0.000000      0.000000      0.000000      0.000000   \n",
       "75%      38.000000     47.000000     76.000000     27.000000     59.000000   \n",
       "max      79.000000  14327.000000  29813.000000  23492.000000  22408.000000   \n",
       "\n",
       "             VRDeck  \n",
       "count   8505.000000  \n",
       "mean     304.854791  \n",
       "std     1145.717189  \n",
       "min        0.000000  \n",
       "25%        0.000000  \n",
       "50%        0.000000  \n",
       "75%       46.000000  \n",
       "max    24133.000000  "
      ]
     },
     "execution_count": 4,
     "metadata": {},
     "output_type": "execute_result"
    }
   ],
   "source": [
    "train_df.describe()"
   ]
  },
  {
   "cell_type": "code",
   "execution_count": 5,
   "id": "d2cf3aa0",
   "metadata": {
    "execution": {
     "iopub.execute_input": "2022-06-25T15:52:46.048271Z",
     "iopub.status.busy": "2022-06-25T15:52:46.047856Z",
     "iopub.status.idle": "2022-06-25T15:52:46.064556Z",
     "shell.execute_reply": "2022-06-25T15:52:46.063755Z"
    },
    "papermill": {
     "duration": 0.038541,
     "end_time": "2022-06-25T15:52:46.066686",
     "exception": false,
     "start_time": "2022-06-25T15:52:46.028145",
     "status": "completed"
    },
    "tags": []
   },
   "outputs": [
    {
     "data": {
      "text/plain": [
       "PassengerId       0\n",
       "HomePlanet      201\n",
       "CryoSleep       217\n",
       "Cabin           199\n",
       "Destination     182\n",
       "Age             179\n",
       "VIP             203\n",
       "RoomService     181\n",
       "FoodCourt       183\n",
       "ShoppingMall    208\n",
       "Spa             183\n",
       "VRDeck          188\n",
       "Name            200\n",
       "Transported       0\n",
       "dtype: int64"
      ]
     },
     "execution_count": 5,
     "metadata": {},
     "output_type": "execute_result"
    }
   ],
   "source": [
    "train_df.isnull().sum()"
   ]
  },
  {
   "cell_type": "code",
   "execution_count": 6,
   "id": "41945eb5",
   "metadata": {
    "execution": {
     "iopub.execute_input": "2022-06-25T15:52:46.106194Z",
     "iopub.status.busy": "2022-06-25T15:52:46.105377Z",
     "iopub.status.idle": "2022-06-25T15:52:46.109735Z",
     "shell.execute_reply": "2022-06-25T15:52:46.108972Z"
    },
    "papermill": {
     "duration": 0.026461,
     "end_time": "2022-06-25T15:52:46.111919",
     "exception": false,
     "start_time": "2022-06-25T15:52:46.085458",
     "status": "completed"
    },
    "tags": []
   },
   "outputs": [],
   "source": [
    "#We have lots of features which have missing values."
   ]
  },
  {
   "cell_type": "code",
   "execution_count": 7,
   "id": "1f186d87",
   "metadata": {
    "execution": {
     "iopub.execute_input": "2022-06-25T15:52:46.152554Z",
     "iopub.status.busy": "2022-06-25T15:52:46.151461Z",
     "iopub.status.idle": "2022-06-25T15:52:46.168610Z",
     "shell.execute_reply": "2022-06-25T15:52:46.167381Z"
    },
    "papermill": {
     "duration": 0.040153,
     "end_time": "2022-06-25T15:52:46.171282",
     "exception": false,
     "start_time": "2022-06-25T15:52:46.131129",
     "status": "completed"
    },
    "tags": []
   },
   "outputs": [
    {
     "data": {
      "text/plain": [
       "2324"
      ]
     },
     "execution_count": 7,
     "metadata": {},
     "output_type": "execute_result"
    }
   ],
   "source": [
    "train_df.isnull().sum().sum()"
   ]
  },
  {
   "cell_type": "code",
   "execution_count": 8,
   "id": "75ebff95",
   "metadata": {
    "execution": {
     "iopub.execute_input": "2022-06-25T15:52:46.211017Z",
     "iopub.status.busy": "2022-06-25T15:52:46.210254Z",
     "iopub.status.idle": "2022-06-25T15:52:46.227946Z",
     "shell.execute_reply": "2022-06-25T15:52:46.226629Z"
    },
    "papermill": {
     "duration": 0.040309,
     "end_time": "2022-06-25T15:52:46.230451",
     "exception": false,
     "start_time": "2022-06-25T15:52:46.190142",
     "status": "completed"
    },
    "tags": []
   },
   "outputs": [
    {
     "data": {
      "text/plain": [
       "PassengerId     0.000000\n",
       "HomePlanet      2.312205\n",
       "CryoSleep       2.496261\n",
       "Cabin           2.289198\n",
       "Destination     2.093639\n",
       "Age             2.059128\n",
       "VIP             2.335212\n",
       "RoomService     2.082135\n",
       "FoodCourt       2.105142\n",
       "ShoppingMall    2.392730\n",
       "Spa             2.105142\n",
       "VRDeck          2.162660\n",
       "Name            2.300702\n",
       "Transported     0.000000\n",
       "dtype: float64"
      ]
     },
     "execution_count": 8,
     "metadata": {},
     "output_type": "execute_result"
    }
   ],
   "source": [
    "train_df.isnull().sum()/train_df.shape[0]*100"
   ]
  },
  {
   "cell_type": "markdown",
   "id": "4a67c99a",
   "metadata": {
    "papermill": {
     "duration": 0.018511,
     "end_time": "2022-06-25T15:52:46.267875",
     "exception": false,
     "start_time": "2022-06-25T15:52:46.249364",
     "status": "completed"
    },
    "tags": []
   },
   "source": []
  },
  {
   "cell_type": "code",
   "execution_count": 9,
   "id": "cae26238",
   "metadata": {
    "execution": {
     "iopub.execute_input": "2022-06-25T15:52:46.307703Z",
     "iopub.status.busy": "2022-06-25T15:52:46.306905Z",
     "iopub.status.idle": "2022-06-25T15:52:46.316966Z",
     "shell.execute_reply": "2022-06-25T15:52:46.315965Z"
    },
    "papermill": {
     "duration": 0.032623,
     "end_time": "2022-06-25T15:52:46.319305",
     "exception": false,
     "start_time": "2022-06-25T15:52:46.286682",
     "status": "completed"
    },
    "tags": []
   },
   "outputs": [
    {
     "data": {
      "text/plain": [
       "False    5439\n",
       "True     3037\n",
       "Name: CryoSleep, dtype: int64"
      ]
     },
     "execution_count": 9,
     "metadata": {},
     "output_type": "execute_result"
    }
   ],
   "source": [
    "train_df['CryoSleep'].value_counts()"
   ]
  },
  {
   "cell_type": "code",
   "execution_count": 10,
   "id": "7425480e",
   "metadata": {
    "execution": {
     "iopub.execute_input": "2022-06-25T15:52:46.362786Z",
     "iopub.status.busy": "2022-06-25T15:52:46.361924Z",
     "iopub.status.idle": "2022-06-25T15:52:46.391159Z",
     "shell.execute_reply": "2022-06-25T15:52:46.390231Z"
    },
    "papermill": {
     "duration": 0.054314,
     "end_time": "2022-06-25T15:52:46.393747",
     "exception": false,
     "start_time": "2022-06-25T15:52:46.339433",
     "status": "completed"
    },
    "tags": []
   },
   "outputs": [],
   "source": [
    "train_df['HomePlanet'] = train_df['HomePlanet'].fillna(train_df['HomePlanet'].mode()[0])\n",
    "train_df['CryoSleep'] = train_df['CryoSleep'].fillna(train_df['CryoSleep'].mode()[0])\n",
    "train_df['Destination']=train_df['Destination'].fillna(train_df['Destination'].mode()[0])\n",
    "train_df['Age']=train_df['Age'].fillna(train_df['Age'].median())\n",
    "train_df['VIP']=train_df['VIP'].fillna(train_df['VIP'].mode()[0])\n",
    "train_df['RoomService']=train_df['RoomService'].fillna(train_df['RoomService'].median())\n",
    "train_df['FoodCourt']=train_df['FoodCourt'].fillna(train_df['FoodCourt'].median())\n",
    "train_df['ShoppingMall']=train_df['ShoppingMall'].fillna(train_df['ShoppingMall'].median())\n",
    "train_df['Spa']=train_df['Spa'].fillna(train_df['Spa'].median())\n",
    "train_df['VRDeck']=train_df['VRDeck'].fillna(train_df['VRDeck'].median())"
   ]
  },
  {
   "cell_type": "code",
   "execution_count": 11,
   "id": "c69a1f22",
   "metadata": {
    "execution": {
     "iopub.execute_input": "2022-06-25T15:52:46.438536Z",
     "iopub.status.busy": "2022-06-25T15:52:46.437865Z",
     "iopub.status.idle": "2022-06-25T15:52:46.445340Z",
     "shell.execute_reply": "2022-06-25T15:52:46.444376Z"
    },
    "papermill": {
     "duration": 0.031159,
     "end_time": "2022-06-25T15:52:46.447628",
     "exception": false,
     "start_time": "2022-06-25T15:52:46.416469",
     "status": "completed"
    },
    "tags": []
   },
   "outputs": [
    {
     "data": {
      "text/plain": [
       "(8693, 14)"
      ]
     },
     "execution_count": 11,
     "metadata": {},
     "output_type": "execute_result"
    }
   ],
   "source": [
    "train_df.shape"
   ]
  },
  {
   "cell_type": "code",
   "execution_count": 12,
   "id": "bcd84675",
   "metadata": {
    "execution": {
     "iopub.execute_input": "2022-06-25T15:52:46.488176Z",
     "iopub.status.busy": "2022-06-25T15:52:46.487775Z",
     "iopub.status.idle": "2022-06-25T15:52:46.508289Z",
     "shell.execute_reply": "2022-06-25T15:52:46.507123Z"
    },
    "papermill": {
     "duration": 0.044023,
     "end_time": "2022-06-25T15:52:46.510750",
     "exception": false,
     "start_time": "2022-06-25T15:52:46.466727",
     "status": "completed"
    },
    "tags": []
   },
   "outputs": [
    {
     "data": {
      "text/html": [
       "<div>\n",
       "<style scoped>\n",
       "    .dataframe tbody tr th:only-of-type {\n",
       "        vertical-align: middle;\n",
       "    }\n",
       "\n",
       "    .dataframe tbody tr th {\n",
       "        vertical-align: top;\n",
       "    }\n",
       "\n",
       "    .dataframe thead th {\n",
       "        text-align: right;\n",
       "    }\n",
       "</style>\n",
       "<table border=\"1\" class=\"dataframe\">\n",
       "  <thead>\n",
       "    <tr style=\"text-align: right;\">\n",
       "      <th></th>\n",
       "      <th>HomePlanet</th>\n",
       "      <th>CryoSleep</th>\n",
       "      <th>Destination</th>\n",
       "      <th>Age</th>\n",
       "      <th>VIP</th>\n",
       "      <th>RoomService</th>\n",
       "      <th>FoodCourt</th>\n",
       "      <th>ShoppingMall</th>\n",
       "      <th>Spa</th>\n",
       "      <th>VRDeck</th>\n",
       "      <th>Transported</th>\n",
       "    </tr>\n",
       "  </thead>\n",
       "  <tbody>\n",
       "    <tr>\n",
       "      <th>0</th>\n",
       "      <td>Europa</td>\n",
       "      <td>False</td>\n",
       "      <td>TRAPPIST-1e</td>\n",
       "      <td>39.0</td>\n",
       "      <td>False</td>\n",
       "      <td>0.0</td>\n",
       "      <td>0.0</td>\n",
       "      <td>0.0</td>\n",
       "      <td>0.0</td>\n",
       "      <td>0.0</td>\n",
       "      <td>False</td>\n",
       "    </tr>\n",
       "  </tbody>\n",
       "</table>\n",
       "</div>"
      ],
      "text/plain": [
       "  HomePlanet  CryoSleep  Destination   Age    VIP  RoomService  FoodCourt  \\\n",
       "0     Europa      False  TRAPPIST-1e  39.0  False          0.0        0.0   \n",
       "\n",
       "   ShoppingMall  Spa  VRDeck  Transported  \n",
       "0           0.0  0.0     0.0        False  "
      ]
     },
     "execution_count": 12,
     "metadata": {},
     "output_type": "execute_result"
    }
   ],
   "source": [
    "train_df = train_df.drop(columns=['PassengerId','Cabin','Name'],axis=1)\n",
    "train_df.head(1)"
   ]
  },
  {
   "cell_type": "code",
   "execution_count": 13,
   "id": "80f37890",
   "metadata": {
    "execution": {
     "iopub.execute_input": "2022-06-25T15:52:46.552323Z",
     "iopub.status.busy": "2022-06-25T15:52:46.551341Z",
     "iopub.status.idle": "2022-06-25T15:52:46.562828Z",
     "shell.execute_reply": "2022-06-25T15:52:46.561917Z"
    },
    "papermill": {
     "duration": 0.034657,
     "end_time": "2022-06-25T15:52:46.565157",
     "exception": false,
     "start_time": "2022-06-25T15:52:46.530500",
     "status": "completed"
    },
    "tags": []
   },
   "outputs": [
    {
     "data": {
      "text/plain": [
       "0"
      ]
     },
     "execution_count": 13,
     "metadata": {},
     "output_type": "execute_result"
    }
   ],
   "source": [
    "train_df.isnull().sum().sum()"
   ]
  },
  {
   "cell_type": "code",
   "execution_count": 14,
   "id": "e227a95b",
   "metadata": {
    "execution": {
     "iopub.execute_input": "2022-06-25T15:52:46.608127Z",
     "iopub.status.busy": "2022-06-25T15:52:46.607151Z",
     "iopub.status.idle": "2022-06-25T15:52:46.624288Z",
     "shell.execute_reply": "2022-06-25T15:52:46.623111Z"
    },
    "papermill": {
     "duration": 0.041424,
     "end_time": "2022-06-25T15:52:46.626791",
     "exception": false,
     "start_time": "2022-06-25T15:52:46.585367",
     "status": "completed"
    },
    "tags": []
   },
   "outputs": [
    {
     "data": {
      "text/html": [
       "<div>\n",
       "<style scoped>\n",
       "    .dataframe tbody tr th:only-of-type {\n",
       "        vertical-align: middle;\n",
       "    }\n",
       "\n",
       "    .dataframe tbody tr th {\n",
       "        vertical-align: top;\n",
       "    }\n",
       "\n",
       "    .dataframe thead th {\n",
       "        text-align: right;\n",
       "    }\n",
       "</style>\n",
       "<table border=\"1\" class=\"dataframe\">\n",
       "  <thead>\n",
       "    <tr style=\"text-align: right;\">\n",
       "      <th></th>\n",
       "      <th>HomePlanet</th>\n",
       "      <th>CryoSleep</th>\n",
       "      <th>Destination</th>\n",
       "      <th>Age</th>\n",
       "      <th>VIP</th>\n",
       "      <th>RoomService</th>\n",
       "      <th>FoodCourt</th>\n",
       "      <th>ShoppingMall</th>\n",
       "      <th>Spa</th>\n",
       "      <th>VRDeck</th>\n",
       "      <th>Transported</th>\n",
       "    </tr>\n",
       "  </thead>\n",
       "  <tbody>\n",
       "    <tr>\n",
       "      <th>0</th>\n",
       "      <td>Europa</td>\n",
       "      <td>False</td>\n",
       "      <td>TRAPPIST-1e</td>\n",
       "      <td>39.0</td>\n",
       "      <td>False</td>\n",
       "      <td>0.0</td>\n",
       "      <td>0.0</td>\n",
       "      <td>0.0</td>\n",
       "      <td>0.0</td>\n",
       "      <td>0.0</td>\n",
       "      <td>False</td>\n",
       "    </tr>\n",
       "  </tbody>\n",
       "</table>\n",
       "</div>"
      ],
      "text/plain": [
       "  HomePlanet  CryoSleep  Destination   Age    VIP  RoomService  FoodCourt  \\\n",
       "0     Europa      False  TRAPPIST-1e  39.0  False          0.0        0.0   \n",
       "\n",
       "   ShoppingMall  Spa  VRDeck  Transported  \n",
       "0           0.0  0.0     0.0        False  "
      ]
     },
     "execution_count": 14,
     "metadata": {},
     "output_type": "execute_result"
    }
   ],
   "source": [
    "train_df.head(1)"
   ]
  },
  {
   "cell_type": "code",
   "execution_count": 15,
   "id": "0a706e91",
   "metadata": {
    "execution": {
     "iopub.execute_input": "2022-06-25T15:52:46.668772Z",
     "iopub.status.busy": "2022-06-25T15:52:46.667755Z",
     "iopub.status.idle": "2022-06-25T15:52:46.879473Z",
     "shell.execute_reply": "2022-06-25T15:52:46.878126Z"
    },
    "papermill": {
     "duration": 0.235363,
     "end_time": "2022-06-25T15:52:46.881895",
     "exception": false,
     "start_time": "2022-06-25T15:52:46.646532",
     "status": "completed"
    },
    "tags": []
   },
   "outputs": [
    {
     "data": {
      "image/png": "[encoded data removed]",
      "text/plain": [
       "<Figure size 432x288 with 1 Axes>"
      ]
     },
     "metadata": {
      "needs_background": "light"
     },
     "output_type": "display_data"
    }
   ],
   "source": [
    "sns.countplot(train_df['HomePlanet'])\n",
    "plt.show()"
   ]
  },
  {
   "cell_type": "code",
   "execution_count": 16,
   "id": "1031ffb2",
   "metadata": {
    "execution": {
     "iopub.execute_input": "2022-06-25T15:52:46.923482Z",
     "iopub.status.busy": "2022-06-25T15:52:46.923097Z",
     "iopub.status.idle": "2022-06-25T15:52:47.083390Z",
     "shell.execute_reply": "2022-06-25T15:52:47.082248Z"
    },
    "papermill": {
     "duration": 0.183925,
     "end_time": "2022-06-25T15:52:47.085710",
     "exception": false,
     "start_time": "2022-06-25T15:52:46.901785",
     "status": "completed"
    },
    "tags": []
   },
   "outputs": [
    {
     "data": {
      "image/png": "[encoded data removed]",
      "text/plain": [
       "<Figure size 432x288 with 1 Axes>"
      ]
     },
     "metadata": {
      "needs_background": "light"
     },
     "output_type": "display_data"
    }
   ],
   "source": [
    "sns.countplot(train_df.CryoSleep)\n",
    "plt.show()"
   ]
  },
  {
   "cell_type": "code",
   "execution_count": 17,
   "id": "61dd4fd4",
   "metadata": {
    "execution": {
     "iopub.execute_input": "2022-06-25T15:52:47.128125Z",
     "iopub.status.busy": "2022-06-25T15:52:47.127713Z",
     "iopub.status.idle": "2022-06-25T15:52:47.135673Z",
     "shell.execute_reply": "2022-06-25T15:52:47.134466Z"
    },
    "papermill": {
     "duration": 0.032956,
     "end_time": "2022-06-25T15:52:47.139099",
     "exception": false,
     "start_time": "2022-06-25T15:52:47.106143",
     "status": "completed"
    },
    "tags": []
   },
   "outputs": [
    {
     "data": {
      "text/plain": [
       "3"
      ]
     },
     "execution_count": 17,
     "metadata": {},
     "output_type": "execute_result"
    }
   ],
   "source": [
    "train_df['Destination'].nunique()"
   ]
  },
  {
   "cell_type": "code",
   "execution_count": 18,
   "id": "fc97f4f5",
   "metadata": {
    "execution": {
     "iopub.execute_input": "2022-06-25T15:52:47.182320Z",
     "iopub.status.busy": "2022-06-25T15:52:47.181920Z",
     "iopub.status.idle": "2022-06-25T15:52:47.359324Z",
     "shell.execute_reply": "2022-06-25T15:52:47.358088Z"
    },
    "papermill": {
     "duration": 0.202667,
     "end_time": "2022-06-25T15:52:47.361904",
     "exception": false,
     "start_time": "2022-06-25T15:52:47.159237",
     "status": "completed"
    },
    "tags": []
   },
   "outputs": [
    {
     "data": {
      "image/png": "[encoded data removed]",
      "text/plain": [
       "<Figure size 432x288 with 1 Axes>"
      ]
     },
     "metadata": {
      "needs_background": "light"
     },
     "output_type": "display_data"
    }
   ],
   "source": [
    "sns.countplot(train_df['Destination'])\n",
    "plt.show()"
   ]
  },
  {
   "cell_type": "code",
   "execution_count": 19,
   "id": "4d00a318",
   "metadata": {
    "execution": {
     "iopub.execute_input": "2022-06-25T15:52:47.405788Z",
     "iopub.status.busy": "2022-06-25T15:52:47.404685Z",
     "iopub.status.idle": "2022-06-25T15:52:47.729648Z",
     "shell.execute_reply": "2022-06-25T15:52:47.728503Z"
    },
    "papermill": {
     "duration": 0.349265,
     "end_time": "2022-06-25T15:52:47.732068",
     "exception": false,
     "start_time": "2022-06-25T15:52:47.382803",
     "status": "completed"
    },
    "tags": []
   },
   "outputs": [
    {
     "data": {
      "image/png": "[encoded data removed]",
      "text/plain": [
       "<Figure size 432x288 with 1 Axes>"
      ]
     },
     "metadata": {
      "needs_background": "light"
     },
     "output_type": "display_data"
    }
   ],
   "source": [
    "sns.distplot(train_df['Age'],color='blue')\n",
    "plt.show()"
   ]
  },
  {
   "cell_type": "code",
   "execution_count": 20,
   "id": "cfefe90d",
   "metadata": {
    "execution": {
     "iopub.execute_input": "2022-06-25T15:52:47.775896Z",
     "iopub.status.busy": "2022-06-25T15:52:47.775201Z",
     "iopub.status.idle": "2022-06-25T15:52:47.943248Z",
     "shell.execute_reply": "2022-06-25T15:52:47.941982Z"
    },
    "papermill": {
     "duration": 0.192639,
     "end_time": "2022-06-25T15:52:47.945780",
     "exception": false,
     "start_time": "2022-06-25T15:52:47.753141",
     "status": "completed"
    },
    "tags": []
   },
   "outputs": [
    {
     "data": {
      "image/png": "[encoded data removed]",
      "text/plain": [
       "<Figure size 432x288 with 1 Axes>"
      ]
     },
     "metadata": {
      "needs_background": "light"
     },
     "output_type": "display_data"
    }
   ],
   "source": [
    "sns.countplot(train_df['VIP'])\n",
    "plt.show()"
   ]
  },
  {
   "cell_type": "code",
   "execution_count": 21,
   "id": "4d8da41a",
   "metadata": {
    "execution": {
     "iopub.execute_input": "2022-06-25T15:52:47.992853Z",
     "iopub.status.busy": "2022-06-25T15:52:47.992144Z",
     "iopub.status.idle": "2022-06-25T15:52:48.319473Z",
     "shell.execute_reply": "2022-06-25T15:52:48.318260Z"
    },
    "papermill": {
     "duration": 0.354665,
     "end_time": "2022-06-25T15:52:48.321973",
     "exception": false,
     "start_time": "2022-06-25T15:52:47.967308",
     "status": "completed"
    },
    "tags": []
   },
   "outputs": [
    {
     "data": {
      "image/png": "[encoded data removed]",
      "text/plain": [
       "<Figure size 432x288 with 1 Axes>"
      ]
     },
     "metadata": {
      "needs_background": "light"
     },
     "output_type": "display_data"
    }
   ],
   "source": [
    "sns.distplot(train_df['RoomService'])\n",
    "plt.show()"
   ]
  },
  {
   "cell_type": "code",
   "execution_count": 22,
   "id": "a318c4c2",
   "metadata": {
    "execution": {
     "iopub.execute_input": "2022-06-25T15:52:48.366753Z",
     "iopub.status.busy": "2022-06-25T15:52:48.365960Z",
     "iopub.status.idle": "2022-06-25T15:52:48.514854Z",
     "shell.execute_reply": "2022-06-25T15:52:48.513200Z"
    },
    "papermill": {
     "duration": 0.174224,
     "end_time": "2022-06-25T15:52:48.517448",
     "exception": false,
     "start_time": "2022-06-25T15:52:48.343224",
     "status": "completed"
    },
    "tags": []
   },
   "outputs": [
    {
     "data": {
      "image/png": "[encoded data removed]",
      "text/plain": [
       "<Figure size 432x288 with 1 Axes>"
      ]
     },
     "metadata": {
      "needs_background": "light"
     },
     "output_type": "display_data"
    }
   ],
   "source": [
    "sns.countplot(train_df['Transported'])\n",
    "plt.show()                       "
   ]
  },
  {
   "cell_type": "code",
   "execution_count": 23,
   "id": "ecd9ca12",
   "metadata": {
    "execution": {
     "iopub.execute_input": "2022-06-25T15:52:48.563317Z",
     "iopub.status.busy": "2022-06-25T15:52:48.562888Z",
     "iopub.status.idle": "2022-06-25T15:52:48.576706Z",
     "shell.execute_reply": "2022-06-25T15:52:48.575686Z"
    },
    "papermill": {
     "duration": 0.040161,
     "end_time": "2022-06-25T15:52:48.579263",
     "exception": false,
     "start_time": "2022-06-25T15:52:48.539102",
     "status": "completed"
    },
    "tags": []
   },
   "outputs": [],
   "source": [
    "train_cols=['HomePlanet','CryoSleep','Destination','VIP','Transported']\n",
    "le=LabelEncoder()\n",
    "for col in train_cols:\n",
    "    train_df[col]=le.fit_transform(train_df[col])"
   ]
  },
  {
   "cell_type": "code",
   "execution_count": 24,
   "id": "9887f5e3",
   "metadata": {
    "execution": {
     "iopub.execute_input": "2022-06-25T15:52:48.625941Z",
     "iopub.status.busy": "2022-06-25T15:52:48.625501Z",
     "iopub.status.idle": "2022-06-25T15:52:48.643546Z",
     "shell.execute_reply": "2022-06-25T15:52:48.642318Z"
    },
    "papermill": {
     "duration": 0.044027,
     "end_time": "2022-06-25T15:52:48.645647",
     "exception": false,
     "start_time": "2022-06-25T15:52:48.601620",
     "status": "completed"
    },
    "tags": []
   },
   "outputs": [
    {
     "data": {
      "text/html": [
       "<div>\n",
       "<style scoped>\n",
       "    .dataframe tbody tr th:only-of-type {\n",
       "        vertical-align: middle;\n",
       "    }\n",
       "\n",
       "    .dataframe tbody tr th {\n",
       "        vertical-align: top;\n",
       "    }\n",
       "\n",
       "    .dataframe thead th {\n",
       "        text-align: right;\n",
       "    }\n",
       "</style>\n",
       "<table border=\"1\" class=\"dataframe\">\n",
       "  <thead>\n",
       "    <tr style=\"text-align: right;\">\n",
       "      <th></th>\n",
       "      <th>HomePlanet</th>\n",
       "      <th>CryoSleep</th>\n",
       "      <th>Destination</th>\n",
       "      <th>Age</th>\n",
       "      <th>VIP</th>\n",
       "      <th>RoomService</th>\n",
       "      <th>FoodCourt</th>\n",
       "      <th>ShoppingMall</th>\n",
       "      <th>Spa</th>\n",
       "      <th>VRDeck</th>\n",
       "      <th>Transported</th>\n",
       "    </tr>\n",
       "  </thead>\n",
       "  <tbody>\n",
       "    <tr>\n",
       "      <th>0</th>\n",
       "      <td>1</td>\n",
       "      <td>0</td>\n",
       "      <td>2</td>\n",
       "      <td>39.0</td>\n",
       "      <td>0</td>\n",
       "      <td>0.0</td>\n",
       "      <td>0.0</td>\n",
       "      <td>0.0</td>\n",
       "      <td>0.0</td>\n",
       "      <td>0.0</td>\n",
       "      <td>0</td>\n",
       "    </tr>\n",
       "    <tr>\n",
       "      <th>1</th>\n",
       "      <td>0</td>\n",
       "      <td>0</td>\n",
       "      <td>2</td>\n",
       "      <td>24.0</td>\n",
       "      <td>0</td>\n",
       "      <td>109.0</td>\n",
       "      <td>9.0</td>\n",
       "      <td>25.0</td>\n",
       "      <td>549.0</td>\n",
       "      <td>44.0</td>\n",
       "      <td>1</td>\n",
       "    </tr>\n",
       "    <tr>\n",
       "      <th>2</th>\n",
       "      <td>1</td>\n",
       "      <td>0</td>\n",
       "      <td>2</td>\n",
       "      <td>58.0</td>\n",
       "      <td>1</td>\n",
       "      <td>43.0</td>\n",
       "      <td>3576.0</td>\n",
       "      <td>0.0</td>\n",
       "      <td>6715.0</td>\n",
       "      <td>49.0</td>\n",
       "      <td>0</td>\n",
       "    </tr>\n",
       "  </tbody>\n",
       "</table>\n",
       "</div>"
      ],
      "text/plain": [
       "   HomePlanet  CryoSleep  Destination   Age  VIP  RoomService  FoodCourt  \\\n",
       "0           1          0            2  39.0    0          0.0        0.0   \n",
       "1           0          0            2  24.0    0        109.0        9.0   \n",
       "2           1          0            2  58.0    1         43.0     3576.0   \n",
       "\n",
       "   ShoppingMall     Spa  VRDeck  Transported  \n",
       "0           0.0     0.0     0.0            0  \n",
       "1          25.0   549.0    44.0            1  \n",
       "2           0.0  6715.0    49.0            0  "
      ]
     },
     "execution_count": 24,
     "metadata": {},
     "output_type": "execute_result"
    }
   ],
   "source": [
    "train_df.head(3)"
   ]
  },
  {
   "cell_type": "code",
   "execution_count": 25,
   "id": "b305aac2",
   "metadata": {
    "execution": {
     "iopub.execute_input": "2022-06-25T15:52:48.691985Z",
     "iopub.status.busy": "2022-06-25T15:52:48.690876Z",
     "iopub.status.idle": "2022-06-25T15:52:48.716224Z",
     "shell.execute_reply": "2022-06-25T15:52:48.715059Z"
    },
    "papermill": {
     "duration": 0.051173,
     "end_time": "2022-06-25T15:52:48.718725",
     "exception": false,
     "start_time": "2022-06-25T15:52:48.667552",
     "status": "completed"
    },
    "tags": []
   },
   "outputs": [
    {
     "data": {
      "text/html": [
       "<div>\n",
       "<style scoped>\n",
       "    .dataframe tbody tr th:only-of-type {\n",
       "        vertical-align: middle;\n",
       "    }\n",
       "\n",
       "    .dataframe tbody tr th {\n",
       "        vertical-align: top;\n",
       "    }\n",
       "\n",
       "    .dataframe thead th {\n",
       "        text-align: right;\n",
       "    }\n",
       "</style>\n",
       "<table border=\"1\" class=\"dataframe\">\n",
       "  <thead>\n",
       "    <tr style=\"text-align: right;\">\n",
       "      <th></th>\n",
       "      <th>HomePlanet</th>\n",
       "      <th>CryoSleep</th>\n",
       "      <th>Destination</th>\n",
       "      <th>Age</th>\n",
       "      <th>VIP</th>\n",
       "      <th>RoomService</th>\n",
       "      <th>FoodCourt</th>\n",
       "      <th>ShoppingMall</th>\n",
       "      <th>Spa</th>\n",
       "      <th>VRDeck</th>\n",
       "      <th>Transported</th>\n",
       "    </tr>\n",
       "  </thead>\n",
       "  <tbody>\n",
       "    <tr>\n",
       "      <th>HomePlanet</th>\n",
       "      <td>1.000000</td>\n",
       "      <td>0.083586</td>\n",
       "      <td>0.034737</td>\n",
       "      <td>0.133577</td>\n",
       "      <td>0.123512</td>\n",
       "      <td>0.211751</td>\n",
       "      <td>0.071454</td>\n",
       "      <td>0.101383</td>\n",
       "      <td>0.055047</td>\n",
       "      <td>0.039824</td>\n",
       "      <td>0.115461</td>\n",
       "    </tr>\n",
       "    <tr>\n",
       "      <th>CryoSleep</th>\n",
       "      <td>0.083586</td>\n",
       "      <td>1.000000</td>\n",
       "      <td>-0.096287</td>\n",
       "      <td>-0.071323</td>\n",
       "      <td>-0.078281</td>\n",
       "      <td>-0.244089</td>\n",
       "      <td>-0.205928</td>\n",
       "      <td>-0.207798</td>\n",
       "      <td>-0.198307</td>\n",
       "      <td>-0.192721</td>\n",
       "      <td>0.460132</td>\n",
       "    </tr>\n",
       "    <tr>\n",
       "      <th>Destination</th>\n",
       "      <td>0.034737</td>\n",
       "      <td>-0.096287</td>\n",
       "      <td>1.000000</td>\n",
       "      <td>-0.006771</td>\n",
       "      <td>-0.044707</td>\n",
       "      <td>0.045733</td>\n",
       "      <td>-0.111057</td>\n",
       "      <td>0.024721</td>\n",
       "      <td>-0.055815</td>\n",
       "      <td>-0.073293</td>\n",
       "      <td>-0.108152</td>\n",
       "    </tr>\n",
       "    <tr>\n",
       "      <th>Age</th>\n",
       "      <td>0.133577</td>\n",
       "      <td>-0.071323</td>\n",
       "      <td>-0.006771</td>\n",
       "      <td>1.000000</td>\n",
       "      <td>0.091863</td>\n",
       "      <td>0.068629</td>\n",
       "      <td>0.127390</td>\n",
       "      <td>0.033148</td>\n",
       "      <td>0.120946</td>\n",
       "      <td>0.099590</td>\n",
       "      <td>-0.074233</td>\n",
       "    </tr>\n",
       "    <tr>\n",
       "      <th>VIP</th>\n",
       "      <td>0.123512</td>\n",
       "      <td>-0.078281</td>\n",
       "      <td>-0.044707</td>\n",
       "      <td>0.091863</td>\n",
       "      <td>1.000000</td>\n",
       "      <td>0.056566</td>\n",
       "      <td>0.125499</td>\n",
       "      <td>0.018412</td>\n",
       "      <td>0.060991</td>\n",
       "      <td>0.123061</td>\n",
       "      <td>-0.037261</td>\n",
       "    </tr>\n",
       "    <tr>\n",
       "      <th>RoomService</th>\n",
       "      <td>0.211751</td>\n",
       "      <td>-0.244089</td>\n",
       "      <td>0.045733</td>\n",
       "      <td>0.068629</td>\n",
       "      <td>0.056566</td>\n",
       "      <td>1.000000</td>\n",
       "      <td>-0.015126</td>\n",
       "      <td>0.052337</td>\n",
       "      <td>0.009244</td>\n",
       "      <td>-0.018624</td>\n",
       "      <td>-0.241124</td>\n",
       "    </tr>\n",
       "    <tr>\n",
       "      <th>FoodCourt</th>\n",
       "      <td>0.071454</td>\n",
       "      <td>-0.205928</td>\n",
       "      <td>-0.111057</td>\n",
       "      <td>0.127390</td>\n",
       "      <td>0.125499</td>\n",
       "      <td>-0.015126</td>\n",
       "      <td>1.000000</td>\n",
       "      <td>-0.013717</td>\n",
       "      <td>0.221468</td>\n",
       "      <td>0.224572</td>\n",
       "      <td>0.045583</td>\n",
       "    </tr>\n",
       "    <tr>\n",
       "      <th>ShoppingMall</th>\n",
       "      <td>0.101383</td>\n",
       "      <td>-0.207798</td>\n",
       "      <td>0.024721</td>\n",
       "      <td>0.033148</td>\n",
       "      <td>0.018412</td>\n",
       "      <td>0.052337</td>\n",
       "      <td>-0.013717</td>\n",
       "      <td>1.000000</td>\n",
       "      <td>0.014542</td>\n",
       "      <td>-0.007849</td>\n",
       "      <td>0.009391</td>\n",
       "    </tr>\n",
       "    <tr>\n",
       "      <th>Spa</th>\n",
       "      <td>0.055047</td>\n",
       "      <td>-0.198307</td>\n",
       "      <td>-0.055815</td>\n",
       "      <td>0.120946</td>\n",
       "      <td>0.060991</td>\n",
       "      <td>0.009244</td>\n",
       "      <td>0.221468</td>\n",
       "      <td>0.014542</td>\n",
       "      <td>1.000000</td>\n",
       "      <td>0.147658</td>\n",
       "      <td>-0.218545</td>\n",
       "    </tr>\n",
       "    <tr>\n",
       "      <th>VRDeck</th>\n",
       "      <td>0.039824</td>\n",
       "      <td>-0.192721</td>\n",
       "      <td>-0.073293</td>\n",
       "      <td>0.099590</td>\n",
       "      <td>0.123061</td>\n",
       "      <td>-0.018624</td>\n",
       "      <td>0.224572</td>\n",
       "      <td>-0.007849</td>\n",
       "      <td>0.147658</td>\n",
       "      <td>1.000000</td>\n",
       "      <td>-0.204874</td>\n",
       "    </tr>\n",
       "    <tr>\n",
       "      <th>Transported</th>\n",
       "      <td>0.115461</td>\n",
       "      <td>0.460132</td>\n",
       "      <td>-0.108152</td>\n",
       "      <td>-0.074233</td>\n",
       "      <td>-0.037261</td>\n",
       "      <td>-0.241124</td>\n",
       "      <td>0.045583</td>\n",
       "      <td>0.009391</td>\n",
       "      <td>-0.218545</td>\n",
       "      <td>-0.204874</td>\n",
       "      <td>1.000000</td>\n",
       "    </tr>\n",
       "  </tbody>\n",
       "</table>\n",
       "</div>"
      ],
      "text/plain": [
       "              HomePlanet  CryoSleep  Destination       Age       VIP  \\\n",
       "HomePlanet      1.000000   0.083586     0.034737  0.133577  0.123512   \n",
       "CryoSleep       0.083586   1.000000    -0.096287 -0.071323 -0.078281   \n",
       "Destination     0.034737  -0.096287     1.000000 -0.006771 -0.044707   \n",
       "Age             0.133577  -0.071323    -0.006771  1.000000  0.091863   \n",
       "VIP             0.123512  -0.078281    -0.044707  0.091863  1.000000   \n",
       "RoomService     0.211751  -0.244089     0.045733  0.068629  0.056566   \n",
       "FoodCourt       0.071454  -0.205928    -0.111057  0.127390  0.125499   \n",
       "ShoppingMall    0.101383  -0.207798     0.024721  0.033148  0.018412   \n",
       "Spa             0.055047  -0.198307    -0.055815  0.120946  0.060991   \n",
       "VRDeck          0.039824  -0.192721    -0.073293  0.099590  0.123061   \n",
       "Transported     0.115461   0.460132    -0.108152 -0.074233 -0.037261   \n",
       "\n",
       "              RoomService  FoodCourt  ShoppingMall       Spa    VRDeck  \\\n",
       "HomePlanet       0.211751   0.071454      0.101383  0.055047  0.039824   \n",
       "CryoSleep       -0.244089  -0.205928     -0.207798 -0.198307 -0.192721   \n",
       "Destination      0.045733  -0.111057      0.024721 -0.055815 -0.073293   \n",
       "Age              0.068629   0.127390      0.033148  0.120946  0.099590   \n",
       "VIP              0.056566   0.125499      0.018412  0.060991  0.123061   \n",
       "RoomService      1.000000  -0.015126      0.052337  0.009244 -0.018624   \n",
       "FoodCourt       -0.015126   1.000000     -0.013717  0.221468  0.224572   \n",
       "ShoppingMall     0.052337  -0.013717      1.000000  0.014542 -0.007849   \n",
       "Spa              0.009244   0.221468      0.014542  1.000000  0.147658   \n",
       "VRDeck          -0.018624   0.224572     -0.007849  0.147658  1.000000   \n",
       "Transported     -0.241124   0.045583      0.009391 -0.218545 -0.204874   \n",
       "\n",
       "              Transported  \n",
       "HomePlanet       0.115461  \n",
       "CryoSleep        0.460132  \n",
       "Destination     -0.108152  \n",
       "Age             -0.074233  \n",
       "VIP             -0.037261  \n",
       "RoomService     -0.241124  \n",
       "FoodCourt        0.045583  \n",
       "ShoppingMall     0.009391  \n",
       "Spa             -0.218545  \n",
       "VRDeck          -0.204874  \n",
       "Transported      1.000000  "
      ]
     },
     "execution_count": 25,
     "metadata": {},
     "output_type": "execute_result"
    }
   ],
   "source": [
    "train_df.corr()"
   ]
  },
  {
   "cell_type": "code",
   "execution_count": 26,
   "id": "1d40a50a",
   "metadata": {
    "execution": {
     "iopub.execute_input": "2022-06-25T15:52:48.766384Z",
     "iopub.status.busy": "2022-06-25T15:52:48.765855Z",
     "iopub.status.idle": "2022-06-25T15:52:49.552032Z",
     "shell.execute_reply": "2022-06-25T15:52:49.550896Z"
    },
    "papermill": {
     "duration": 0.813588,
     "end_time": "2022-06-25T15:52:49.555253",
     "exception": false,
     "start_time": "2022-06-25T15:52:48.741665",
     "status": "completed"
    },
    "tags": []
   },
   "outputs": [
    {
     "data": {
      "image/png": "[encoded data removed]",
      "text/plain": [
       "<Figure size 720x576 with 2 Axes>"
      ]
     },
     "metadata": {
      "needs_background": "light"
     },
     "output_type": "display_data"
    }
   ],
   "source": [
    "plt.figure(figsize=(10,8))\n",
    "sns.heatmap(train_df.corr(),annot=True,cmap='BuPu')\n",
    "plt.show()"
   ]
  },
  {
   "cell_type": "code",
   "execution_count": 27,
   "id": "406d0bab",
   "metadata": {
    "execution": {
     "iopub.execute_input": "2022-06-25T15:52:49.604648Z",
     "iopub.status.busy": "2022-06-25T15:52:49.603772Z",
     "iopub.status.idle": "2022-06-25T15:52:49.613242Z",
     "shell.execute_reply": "2022-06-25T15:52:49.612383Z"
    },
    "papermill": {
     "duration": 0.036728,
     "end_time": "2022-06-25T15:52:49.615688",
     "exception": false,
     "start_time": "2022-06-25T15:52:49.578960",
     "status": "completed"
    },
    "tags": []
   },
   "outputs": [],
   "source": [
    "x=train_df.drop(columns='Transported',axis=1)\n",
    "y=train_df['Transported']\n",
    "x_train,x_test,y_train,y_test = train_test_split(x,y,test_size=0.20,random_state=0)"
   ]
  },
  {
   "cell_type": "code",
   "execution_count": 28,
   "id": "775b7e2a",
   "metadata": {
    "execution": {
     "iopub.execute_input": "2022-06-25T15:52:49.665380Z",
     "iopub.status.busy": "2022-06-25T15:52:49.664632Z",
     "iopub.status.idle": "2022-06-25T15:52:49.675689Z",
     "shell.execute_reply": "2022-06-25T15:52:49.674858Z"
    },
    "papermill": {
     "duration": 0.038954,
     "end_time": "2022-06-25T15:52:49.678895",
     "exception": false,
     "start_time": "2022-06-25T15:52:49.639941",
     "status": "completed"
    },
    "tags": []
   },
   "outputs": [
    {
     "name": "stdout",
     "output_type": "stream",
     "text": [
      "(6954, 10) (1739, 10) (6954,) (1739,)\n"
     ]
    }
   ],
   "source": [
    "print(x_train.shape,x_test.shape,y_train.shape,y_test.shape)"
   ]
  },
  {
   "cell_type": "code",
   "execution_count": 29,
   "id": "5efaf41b",
   "metadata": {
    "execution": {
     "iopub.execute_input": "2022-06-25T15:52:49.728988Z",
     "iopub.status.busy": "2022-06-25T15:52:49.728376Z",
     "iopub.status.idle": "2022-06-25T15:52:49.751457Z",
     "shell.execute_reply": "2022-06-25T15:52:49.750601Z"
    },
    "papermill": {
     "duration": 0.050286,
     "end_time": "2022-06-25T15:52:49.753625",
     "exception": false,
     "start_time": "2022-06-25T15:52:49.703339",
     "status": "completed"
    },
    "tags": []
   },
   "outputs": [
    {
     "data": {
      "text/html": [
       "<div>\n",
       "<style scoped>\n",
       "    .dataframe tbody tr th:only-of-type {\n",
       "        vertical-align: middle;\n",
       "    }\n",
       "\n",
       "    .dataframe tbody tr th {\n",
       "        vertical-align: top;\n",
       "    }\n",
       "\n",
       "    .dataframe thead th {\n",
       "        text-align: right;\n",
       "    }\n",
       "</style>\n",
       "<table border=\"1\" class=\"dataframe\">\n",
       "  <thead>\n",
       "    <tr style=\"text-align: right;\">\n",
       "      <th></th>\n",
       "      <th>HomePlanet</th>\n",
       "      <th>CryoSleep</th>\n",
       "      <th>Destination</th>\n",
       "      <th>Age</th>\n",
       "      <th>VIP</th>\n",
       "      <th>RoomService</th>\n",
       "      <th>FoodCourt</th>\n",
       "      <th>ShoppingMall</th>\n",
       "      <th>Spa</th>\n",
       "      <th>VRDeck</th>\n",
       "    </tr>\n",
       "  </thead>\n",
       "  <tbody>\n",
       "    <tr>\n",
       "      <th>4278</th>\n",
       "      <td>1</td>\n",
       "      <td>0</td>\n",
       "      <td>0</td>\n",
       "      <td>54.0</td>\n",
       "      <td>0</td>\n",
       "      <td>0.0</td>\n",
       "      <td>559.0</td>\n",
       "      <td>0.0</td>\n",
       "      <td>15238.0</td>\n",
       "      <td>2799.0</td>\n",
       "    </tr>\n",
       "    <tr>\n",
       "      <th>5971</th>\n",
       "      <td>0</td>\n",
       "      <td>0</td>\n",
       "      <td>2</td>\n",
       "      <td>20.0</td>\n",
       "      <td>0</td>\n",
       "      <td>0.0</td>\n",
       "      <td>20.0</td>\n",
       "      <td>1.0</td>\n",
       "      <td>696.0</td>\n",
       "      <td>0.0</td>\n",
       "    </tr>\n",
       "    <tr>\n",
       "      <th>464</th>\n",
       "      <td>2</td>\n",
       "      <td>0</td>\n",
       "      <td>2</td>\n",
       "      <td>43.0</td>\n",
       "      <td>0</td>\n",
       "      <td>1821.0</td>\n",
       "      <td>0.0</td>\n",
       "      <td>47.0</td>\n",
       "      <td>29.0</td>\n",
       "      <td>0.0</td>\n",
       "    </tr>\n",
       "    <tr>\n",
       "      <th>4475</th>\n",
       "      <td>0</td>\n",
       "      <td>0</td>\n",
       "      <td>2</td>\n",
       "      <td>24.0</td>\n",
       "      <td>0</td>\n",
       "      <td>185.0</td>\n",
       "      <td>0.0</td>\n",
       "      <td>476.0</td>\n",
       "      <td>1810.0</td>\n",
       "      <td>53.0</td>\n",
       "    </tr>\n",
       "    <tr>\n",
       "      <th>8469</th>\n",
       "      <td>1</td>\n",
       "      <td>1</td>\n",
       "      <td>0</td>\n",
       "      <td>25.0</td>\n",
       "      <td>0</td>\n",
       "      <td>0.0</td>\n",
       "      <td>0.0</td>\n",
       "      <td>0.0</td>\n",
       "      <td>0.0</td>\n",
       "      <td>0.0</td>\n",
       "    </tr>\n",
       "    <tr>\n",
       "      <th>...</th>\n",
       "      <td>...</td>\n",
       "      <td>...</td>\n",
       "      <td>...</td>\n",
       "      <td>...</td>\n",
       "      <td>...</td>\n",
       "      <td>...</td>\n",
       "      <td>...</td>\n",
       "      <td>...</td>\n",
       "      <td>...</td>\n",
       "      <td>...</td>\n",
       "    </tr>\n",
       "    <tr>\n",
       "      <th>4373</th>\n",
       "      <td>1</td>\n",
       "      <td>1</td>\n",
       "      <td>0</td>\n",
       "      <td>32.0</td>\n",
       "      <td>0</td>\n",
       "      <td>0.0</td>\n",
       "      <td>0.0</td>\n",
       "      <td>0.0</td>\n",
       "      <td>0.0</td>\n",
       "      <td>0.0</td>\n",
       "    </tr>\n",
       "    <tr>\n",
       "      <th>7891</th>\n",
       "      <td>0</td>\n",
       "      <td>0</td>\n",
       "      <td>2</td>\n",
       "      <td>22.0</td>\n",
       "      <td>0</td>\n",
       "      <td>0.0</td>\n",
       "      <td>0.0</td>\n",
       "      <td>6.0</td>\n",
       "      <td>0.0</td>\n",
       "      <td>733.0</td>\n",
       "    </tr>\n",
       "    <tr>\n",
       "      <th>4859</th>\n",
       "      <td>2</td>\n",
       "      <td>0</td>\n",
       "      <td>2</td>\n",
       "      <td>29.0</td>\n",
       "      <td>0</td>\n",
       "      <td>523.0</td>\n",
       "      <td>0.0</td>\n",
       "      <td>21.0</td>\n",
       "      <td>4.0</td>\n",
       "      <td>811.0</td>\n",
       "    </tr>\n",
       "    <tr>\n",
       "      <th>3264</th>\n",
       "      <td>0</td>\n",
       "      <td>0</td>\n",
       "      <td>2</td>\n",
       "      <td>0.0</td>\n",
       "      <td>0</td>\n",
       "      <td>0.0</td>\n",
       "      <td>0.0</td>\n",
       "      <td>0.0</td>\n",
       "      <td>0.0</td>\n",
       "      <td>0.0</td>\n",
       "    </tr>\n",
       "    <tr>\n",
       "      <th>2732</th>\n",
       "      <td>0</td>\n",
       "      <td>0</td>\n",
       "      <td>2</td>\n",
       "      <td>45.0</td>\n",
       "      <td>0</td>\n",
       "      <td>0.0</td>\n",
       "      <td>9.0</td>\n",
       "      <td>0.0</td>\n",
       "      <td>857.0</td>\n",
       "      <td>16.0</td>\n",
       "    </tr>\n",
       "  </tbody>\n",
       "</table>\n",
       "<p>6954 rows × 10 columns</p>\n",
       "</div>"
      ],
      "text/plain": [
       "      HomePlanet  CryoSleep  Destination   Age  VIP  RoomService  FoodCourt  \\\n",
       "4278           1          0            0  54.0    0          0.0      559.0   \n",
       "5971           0          0            2  20.0    0          0.0       20.0   \n",
       "464            2          0            2  43.0    0       1821.0        0.0   \n",
       "4475           0          0            2  24.0    0        185.0        0.0   \n",
       "8469           1          1            0  25.0    0          0.0        0.0   \n",
       "...          ...        ...          ...   ...  ...          ...        ...   \n",
       "4373           1          1            0  32.0    0          0.0        0.0   \n",
       "7891           0          0            2  22.0    0          0.0        0.0   \n",
       "4859           2          0            2  29.0    0        523.0        0.0   \n",
       "3264           0          0            2   0.0    0          0.0        0.0   \n",
       "2732           0          0            2  45.0    0          0.0        9.0   \n",
       "\n",
       "      ShoppingMall      Spa  VRDeck  \n",
       "4278           0.0  15238.0  2799.0  \n",
       "5971           1.0    696.0     0.0  \n",
       "464           47.0     29.0     0.0  \n",
       "4475         476.0   1810.0    53.0  \n",
       "8469           0.0      0.0     0.0  \n",
       "...            ...      ...     ...  \n",
       "4373           0.0      0.0     0.0  \n",
       "7891           6.0      0.0   733.0  \n",
       "4859          21.0      4.0   811.0  \n",
       "3264           0.0      0.0     0.0  \n",
       "2732           0.0    857.0    16.0  \n",
       "\n",
       "[6954 rows x 10 columns]"
      ]
     },
     "execution_count": 29,
     "metadata": {},
     "output_type": "execute_result"
    }
   ],
   "source": [
    "x_train"
   ]
  },
  {
   "cell_type": "code",
   "execution_count": 30,
   "id": "2ae497de",
   "metadata": {
    "execution": {
     "iopub.execute_input": "2022-06-25T15:52:49.805365Z",
     "iopub.status.busy": "2022-06-25T15:52:49.804652Z",
     "iopub.status.idle": "2022-06-25T15:52:49.812575Z",
     "shell.execute_reply": "2022-06-25T15:52:49.811453Z"
    },
    "papermill": {
     "duration": 0.036723,
     "end_time": "2022-06-25T15:52:49.815103",
     "exception": false,
     "start_time": "2022-06-25T15:52:49.778380",
     "status": "completed"
    },
    "tags": []
   },
   "outputs": [
    {
     "data": {
      "text/plain": [
       "3601    1\n",
       "6057    1\n",
       "2797    0\n",
       "7110    0\n",
       "8579    1\n",
       "       ..\n",
       "864     0\n",
       "3780    0\n",
       "6046    1\n",
       "170     0\n",
       "2519    1\n",
       "Name: Transported, Length: 1739, dtype: int64"
      ]
     },
     "execution_count": 30,
     "metadata": {},
     "output_type": "execute_result"
    }
   ],
   "source": [
    "y_test"
   ]
  },
  {
   "cell_type": "code",
   "execution_count": 31,
   "id": "819b8268",
   "metadata": {
    "execution": {
     "iopub.execute_input": "2022-06-25T15:52:49.866681Z",
     "iopub.status.busy": "2022-06-25T15:52:49.866300Z",
     "iopub.status.idle": "2022-06-25T15:52:49.878176Z",
     "shell.execute_reply": "2022-06-25T15:52:49.877122Z"
    },
    "papermill": {
     "duration": 0.041755,
     "end_time": "2022-06-25T15:52:49.880765",
     "exception": false,
     "start_time": "2022-06-25T15:52:49.839010",
     "status": "completed"
    },
    "tags": []
   },
   "outputs": [],
   "source": [
    "mmc=MinMaxScaler(feature_range=(0,1))\n",
    "x_train=mmc.fit_transform(x_train)\n",
    "x_test=mmc.transform(x_test)"
   ]
  },
  {
   "cell_type": "code",
   "execution_count": 32,
   "id": "32208af4",
   "metadata": {
    "execution": {
     "iopub.execute_input": "2022-06-25T15:52:49.931473Z",
     "iopub.status.busy": "2022-06-25T15:52:49.930661Z",
     "iopub.status.idle": "2022-06-25T15:52:49.939714Z",
     "shell.execute_reply": "2022-06-25T15:52:49.938734Z"
    },
    "papermill": {
     "duration": 0.037556,
     "end_time": "2022-06-25T15:52:49.942462",
     "exception": false,
     "start_time": "2022-06-25T15:52:49.904906",
     "status": "completed"
    },
    "tags": []
   },
   "outputs": [
    {
     "data": {
      "text/plain": [
       "array([[5.00000000e-01, 0.00000000e+00, 0.00000000e+00, ...,\n",
       "        0.00000000e+00, 8.20482447e-01, 1.15982265e-01],\n",
       "       [0.00000000e+00, 0.00000000e+00, 1.00000000e+00, ...,\n",
       "        4.25676826e-05, 3.74757700e-02, 0.00000000e+00],\n",
       "       [1.00000000e+00, 0.00000000e+00, 1.00000000e+00, ...,\n",
       "        2.00068108e-03, 1.56149042e-03, 0.00000000e+00],\n",
       "       ...,\n",
       "       [1.00000000e+00, 0.00000000e+00, 1.00000000e+00, ...,\n",
       "        8.93921335e-04, 2.15377988e-04, 3.36054365e-02],\n",
       "       [0.00000000e+00, 0.00000000e+00, 1.00000000e+00, ...,\n",
       "        0.00000000e+00, 0.00000000e+00, 0.00000000e+00],\n",
       "       [0.00000000e+00, 0.00000000e+00, 1.00000000e+00, ...,\n",
       "        0.00000000e+00, 4.61447340e-02, 6.62992583e-04]])"
      ]
     },
     "execution_count": 32,
     "metadata": {},
     "output_type": "execute_result"
    }
   ],
   "source": [
    "x_train"
   ]
  },
  {
   "cell_type": "code",
   "execution_count": 33,
   "id": "010ccfba",
   "metadata": {
    "execution": {
     "iopub.execute_input": "2022-06-25T15:52:50.001677Z",
     "iopub.status.busy": "2022-06-25T15:52:49.999838Z",
     "iopub.status.idle": "2022-06-25T15:52:50.010921Z",
     "shell.execute_reply": "2022-06-25T15:52:50.008881Z"
    },
    "papermill": {
     "duration": 0.043108,
     "end_time": "2022-06-25T15:52:50.013368",
     "exception": false,
     "start_time": "2022-06-25T15:52:49.970260",
     "status": "completed"
    },
    "tags": []
   },
   "outputs": [
    {
     "data": {
      "text/plain": [
       "array([[0.00000000e+00, 0.00000000e+00, 0.00000000e+00, ...,\n",
       "        2.65196663e-02, 2.15377988e-03, 8.66034061e-03],\n",
       "       [0.00000000e+00, 0.00000000e+00, 1.00000000e+00, ...,\n",
       "        0.00000000e+00, 0.00000000e+00, 0.00000000e+00],\n",
       "       [0.00000000e+00, 0.00000000e+00, 1.00000000e+00, ...,\n",
       "        1.28128725e-02, 3.23066983e-03, 1.65748146e-04],\n",
       "       ...,\n",
       "       [0.00000000e+00, 1.00000000e+00, 0.00000000e+00, ...,\n",
       "        0.00000000e+00, 0.00000000e+00, 0.00000000e+00],\n",
       "       [1.00000000e+00, 0.00000000e+00, 1.00000000e+00, ...,\n",
       "        3.40541461e-04, 5.77213009e-02, 0.00000000e+00],\n",
       "       [5.00000000e-01, 0.00000000e+00, 1.00000000e+00, ...,\n",
       "        0.00000000e+00, 1.04458324e-02, 2.11328886e-02]])"
      ]
     },
     "execution_count": 33,
     "metadata": {},
     "output_type": "execute_result"
    }
   ],
   "source": [
    "x_test"
   ]
  },
  {
   "cell_type": "code",
   "execution_count": 34,
   "id": "2111a331",
   "metadata": {
    "execution": {
     "iopub.execute_input": "2022-06-25T15:52:50.066728Z",
     "iopub.status.busy": "2022-06-25T15:52:50.065915Z",
     "iopub.status.idle": "2022-06-25T15:52:51.951744Z",
     "shell.execute_reply": "2022-06-25T15:52:51.950574Z"
    },
    "papermill": {
     "duration": 1.916194,
     "end_time": "2022-06-25T15:52:51.954916",
     "exception": false,
     "start_time": "2022-06-25T15:52:50.038722",
     "status": "completed"
    },
    "tags": []
   },
   "outputs": [
    {
     "data": {
      "text/plain": [
       "RandomForestClassifier(criterion='entropy', n_estimators=200)"
      ]
     },
     "execution_count": 34,
     "metadata": {},
     "output_type": "execute_result"
    }
   ],
   "source": [
    "rfg=RandomForestClassifier(n_estimators=200,criterion='entropy')\n",
    "rfg.fit(x_train,y_train)"
   ]
  },
  {
   "cell_type": "code",
   "execution_count": 35,
   "id": "2ab48456",
   "metadata": {
    "execution": {
     "iopub.execute_input": "2022-06-25T15:52:52.009936Z",
     "iopub.status.busy": "2022-06-25T15:52:52.008193Z",
     "iopub.status.idle": "2022-06-25T15:52:52.117862Z",
     "shell.execute_reply": "2022-06-25T15:52:52.116483Z"
    },
    "papermill": {
     "duration": 0.139032,
     "end_time": "2022-06-25T15:52:52.121017",
     "exception": false,
     "start_time": "2022-06-25T15:52:51.981985",
     "status": "completed"
    },
    "tags": []
   },
   "outputs": [],
   "source": [
    "y_pred1=rfg.predict(x_test)"
   ]
  },
  {
   "cell_type": "code",
   "execution_count": 36,
   "id": "031d8b92",
   "metadata": {
    "execution": {
     "iopub.execute_input": "2022-06-25T15:52:52.175270Z",
     "iopub.status.busy": "2022-06-25T15:52:52.174493Z",
     "iopub.status.idle": "2022-06-25T15:52:52.182179Z",
     "shell.execute_reply": "2022-06-25T15:52:52.181127Z"
    },
    "papermill": {
     "duration": 0.037374,
     "end_time": "2022-06-25T15:52:52.184486",
     "exception": false,
     "start_time": "2022-06-25T15:52:52.147112",
     "status": "completed"
    },
    "tags": []
   },
   "outputs": [
    {
     "data": {
      "text/plain": [
       "array([0, 1, 0, 0, 1])"
      ]
     },
     "execution_count": 36,
     "metadata": {},
     "output_type": "execute_result"
    }
   ],
   "source": [
    "y_pred1[:5]"
   ]
  },
  {
   "cell_type": "code",
   "execution_count": 37,
   "id": "d4a63f7c",
   "metadata": {
    "execution": {
     "iopub.execute_input": "2022-06-25T15:52:52.237456Z",
     "iopub.status.busy": "2022-06-25T15:52:52.236715Z",
     "iopub.status.idle": "2022-06-25T15:52:52.244931Z",
     "shell.execute_reply": "2022-06-25T15:52:52.243889Z"
    },
    "papermill": {
     "duration": 0.038202,
     "end_time": "2022-06-25T15:52:52.247267",
     "exception": false,
     "start_time": "2022-06-25T15:52:52.209065",
     "status": "completed"
    },
    "tags": []
   },
   "outputs": [
    {
     "data": {
      "text/plain": [
       "0.7768832662449684"
      ]
     },
     "execution_count": 37,
     "metadata": {},
     "output_type": "execute_result"
    }
   ],
   "source": [
    "from sklearn.metrics import accuracy_score,confusion_matrix\n",
    "accuracy_score(y_test,y_pred1)"
   ]
  },
  {
   "cell_type": "code",
   "execution_count": 38,
   "id": "9869381a",
   "metadata": {
    "execution": {
     "iopub.execute_input": "2022-06-25T15:52:52.299910Z",
     "iopub.status.busy": "2022-06-25T15:52:52.299284Z",
     "iopub.status.idle": "2022-06-25T15:52:52.310284Z",
     "shell.execute_reply": "2022-06-25T15:52:52.308946Z"
    },
    "papermill": {
     "duration": 0.040834,
     "end_time": "2022-06-25T15:52:52.312943",
     "exception": false,
     "start_time": "2022-06-25T15:52:52.272109",
     "status": "completed"
    },
    "tags": []
   },
   "outputs": [
    {
     "data": {
      "text/plain": [
       "array([[663, 200],\n",
       "       [188, 688]])"
      ]
     },
     "execution_count": 38,
     "metadata": {},
     "output_type": "execute_result"
    }
   ],
   "source": [
    "cm=confusion_matrix(y_test,y_pred1)\n",
    "cm"
   ]
  },
  {
   "cell_type": "code",
   "execution_count": 39,
   "id": "5601d932",
   "metadata": {
    "execution": {
     "iopub.execute_input": "2022-06-25T15:52:52.364994Z",
     "iopub.status.busy": "2022-06-25T15:52:52.364428Z",
     "iopub.status.idle": "2022-06-25T15:52:52.587911Z",
     "shell.execute_reply": "2022-06-25T15:52:52.586810Z"
    },
    "papermill": {
     "duration": 0.252335,
     "end_time": "2022-06-25T15:52:52.590650",
     "exception": false,
     "start_time": "2022-06-25T15:52:52.338315",
     "status": "completed"
    },
    "tags": []
   },
   "outputs": [
    {
     "data": {
      "image/png": "[encoded data removed]",
      "text/plain": [
       "<Figure size 432x288 with 2 Axes>"
      ]
     },
     "metadata": {
      "needs_background": "light"
     },
     "output_type": "display_data"
    }
   ],
   "source": [
    "sns.heatmap(cm,annot=True,cmap='viridis')\n",
    "plt.show()"
   ]
  },
  {
   "cell_type": "code",
   "execution_count": 40,
   "id": "b5e8efb0",
   "metadata": {
    "execution": {
     "iopub.execute_input": "2022-06-25T15:52:52.642951Z",
     "iopub.status.busy": "2022-06-25T15:52:52.642544Z",
     "iopub.status.idle": "2022-06-25T15:52:55.184432Z",
     "shell.execute_reply": "2022-06-25T15:52:55.183428Z"
    },
    "papermill": {
     "duration": 2.571406,
     "end_time": "2022-06-25T15:52:55.187312",
     "exception": false,
     "start_time": "2022-06-25T15:52:52.615906",
     "status": "completed"
    },
    "tags": []
   },
   "outputs": [
    {
     "data": {
      "text/plain": [
       "XGBClassifier(base_score=0.5, booster='gbtree', callbacks=None,\n",
       "              colsample_bylevel=1, colsample_bynode=1, colsample_bytree=1,\n",
       "              early_stopping_rounds=None, enable_categorical=False,\n",
       "              eval_metric=None, gamma=0, gpu_id=-1, grow_policy='depthwise',\n",
       "              importance_type=None, interaction_constraints='',\n",
       "              learning_rate=0.001, max_bin=256, max_cat_to_onehot=4,\n",
       "              max_delta_step=0, max_depth=6, max_leaves=0, min_child_weight=1,\n",
       "              missing=nan, monotone_constraints='()', n_estimators=200,\n",
       "              n_jobs=0, num_parallel_tree=1, predictor='auto', random_state=0,\n",
       "              reg_alpha=0, reg_lambda=1, ...)"
      ]
     },
     "execution_count": 40,
     "metadata": {},
     "output_type": "execute_result"
    }
   ],
   "source": [
    "xgb=XGBClassifier(n_estimators=200,learning_rate=0.001)\n",
    "xgb.fit(x_train,y_train)"
   ]
  },
  {
   "cell_type": "code",
   "execution_count": 41,
   "id": "581bd01b",
   "metadata": {
    "execution": {
     "iopub.execute_input": "2022-06-25T15:52:55.256272Z",
     "iopub.status.busy": "2022-06-25T15:52:55.254888Z",
     "iopub.status.idle": "2022-06-25T15:52:55.300254Z",
     "shell.execute_reply": "2022-06-25T15:52:55.299120Z"
    },
    "papermill": {
     "duration": 0.078825,
     "end_time": "2022-06-25T15:52:55.303500",
     "exception": false,
     "start_time": "2022-06-25T15:52:55.224675",
     "status": "completed"
    },
    "tags": []
   },
   "outputs": [
    {
     "data": {
      "text/plain": [
       "array([0, 1, 0, 0, 1])"
      ]
     },
     "execution_count": 41,
     "metadata": {},
     "output_type": "execute_result"
    }
   ],
   "source": [
    "y_pred2=xgb.predict(x_test)\n",
    "y_pred2[:5]"
   ]
  },
  {
   "cell_type": "code",
   "execution_count": 42,
   "id": "db6aa3af",
   "metadata": {
    "execution": {
     "iopub.execute_input": "2022-06-25T15:52:55.361837Z",
     "iopub.status.busy": "2022-06-25T15:52:55.361443Z",
     "iopub.status.idle": "2022-06-25T15:52:55.370459Z",
     "shell.execute_reply": "2022-06-25T15:52:55.369290Z"
    },
    "papermill": {
     "duration": 0.038077,
     "end_time": "2022-06-25T15:52:55.372599",
     "exception": false,
     "start_time": "2022-06-25T15:52:55.334522",
     "status": "completed"
    },
    "tags": []
   },
   "outputs": [
    {
     "data": {
      "text/plain": [
       "0.7751581368602645"
      ]
     },
     "execution_count": 42,
     "metadata": {},
     "output_type": "execute_result"
    }
   ],
   "source": [
    "accuracy_score(y_test,y_pred2)"
   ]
  },
  {
   "cell_type": "code",
   "execution_count": 43,
   "id": "95d28701",
   "metadata": {
    "execution": {
     "iopub.execute_input": "2022-06-25T15:52:55.426705Z",
     "iopub.status.busy": "2022-06-25T15:52:55.425707Z",
     "iopub.status.idle": "2022-06-25T15:52:55.430747Z",
     "shell.execute_reply": "2022-06-25T15:52:55.429637Z"
    },
    "papermill": {
     "duration": 0.034466,
     "end_time": "2022-06-25T15:52:55.433145",
     "exception": false,
     "start_time": "2022-06-25T15:52:55.398679",
     "status": "completed"
    },
    "tags": []
   },
   "outputs": [],
   "source": [
    "#Applying neural network"
   ]
  },
  {
   "cell_type": "code",
   "execution_count": 44,
   "id": "e7ad5514",
   "metadata": {
    "execution": {
     "iopub.execute_input": "2022-06-25T15:52:55.488371Z",
     "iopub.status.busy": "2022-06-25T15:52:55.487201Z",
     "iopub.status.idle": "2022-06-25T15:52:55.648368Z",
     "shell.execute_reply": "2022-06-25T15:52:55.647044Z"
    },
    "papermill": {
     "duration": 0.192634,
     "end_time": "2022-06-25T15:52:55.652221",
     "exception": false,
     "start_time": "2022-06-25T15:52:55.459587",
     "status": "completed"
    },
    "tags": []
   },
   "outputs": [
    {
     "name": "stderr",
     "output_type": "stream",
     "text": [
      "2022-06-25 15:52:55.541932: I tensorflow/core/common_runtime/process_util.cc:146] Creating new thread pool with default inter op setting: 2. Tune using inter_op_parallelism_threads for best performance.\n"
     ]
    }
   ],
   "source": [
    "ann=models.Sequential([\n",
    "    \n",
    "    layers.Dense(101,activation='relu',input_shape=(10,)),\n",
    "    layers.Dense(72,activation='relu'),\n",
    "    layers.Dense(49,activation='relu'),\n",
    "    layers.Dense(31,activation='relu'),\n",
    "    layers.Dense(7,activation='relu'),\n",
    "    layers.Dense(1,activation='sigmoid')\n",
    "    \n",
    "                    ])"
   ]
  },
  {
   "cell_type": "code",
   "execution_count": 45,
   "id": "82e419c6",
   "metadata": {
    "execution": {
     "iopub.execute_input": "2022-06-25T15:52:55.708739Z",
     "iopub.status.busy": "2022-06-25T15:52:55.707947Z",
     "iopub.status.idle": "2022-06-25T15:53:02.289300Z",
     "shell.execute_reply": "2022-06-25T15:53:02.287927Z"
    },
    "papermill": {
     "duration": 6.612966,
     "end_time": "2022-06-25T15:53:02.291953",
     "exception": false,
     "start_time": "2022-06-25T15:52:55.678987",
     "status": "completed"
    },
    "tags": []
   },
   "outputs": [
    {
     "name": "stderr",
     "output_type": "stream",
     "text": [
      "2022-06-25 15:52:56.035232: I tensorflow/compiler/mlir/mlir_graph_optimization_pass.cc:185] None of the MLIR Optimization Passes are enabled (registered 2)\n"
     ]
    },
    {
     "name": "stdout",
     "output_type": "stream",
     "text": [
      "Epoch 1/19\n",
      "35/35 [==============================] - 1s 4ms/step - loss: 0.6169 - accuracy: 0.6730\n",
      "Epoch 2/19\n",
      "35/35 [==============================] - 0s 4ms/step - loss: 0.5544 - accuracy: 0.7370\n",
      "Epoch 3/19\n",
      "35/35 [==============================] - 0s 4ms/step - loss: 0.5148 - accuracy: 0.7512\n",
      "Epoch 4/19\n",
      "35/35 [==============================] - 0s 4ms/step - loss: 0.4910 - accuracy: 0.7629\n",
      "Epoch 5/19\n",
      "35/35 [==============================] - 0s 4ms/step - loss: 0.4738 - accuracy: 0.7761\n",
      "Epoch 6/19\n",
      "35/35 [==============================] - 0s 5ms/step - loss: 0.4634 - accuracy: 0.7767\n",
      "Epoch 7/19\n",
      "35/35 [==============================] - 0s 4ms/step - loss: 0.4581 - accuracy: 0.7762\n",
      "Epoch 8/19\n",
      "35/35 [==============================] - 0s 4ms/step - loss: 0.4491 - accuracy: 0.7816\n",
      "Epoch 9/19\n",
      "35/35 [==============================] - 0s 4ms/step - loss: 0.4457 - accuracy: 0.7875\n",
      "Epoch 10/19\n",
      "35/35 [==============================] - 0s 4ms/step - loss: 0.4465 - accuracy: 0.7846\n",
      "Epoch 11/19\n",
      "35/35 [==============================] - 0s 4ms/step - loss: 0.4389 - accuracy: 0.7892\n",
      "Epoch 12/19\n",
      "35/35 [==============================] - 0s 4ms/step - loss: 0.4400 - accuracy: 0.7908\n",
      "Epoch 13/19\n",
      "35/35 [==============================] - 0s 4ms/step - loss: 0.4430 - accuracy: 0.7844\n",
      "Epoch 14/19\n",
      "35/35 [==============================] - 0s 4ms/step - loss: 0.4346 - accuracy: 0.7889\n",
      "Epoch 15/19\n",
      "35/35 [==============================] - 0s 4ms/step - loss: 0.4364 - accuracy: 0.7899\n",
      "Epoch 16/19\n",
      "35/35 [==============================] - 0s 4ms/step - loss: 0.4333 - accuracy: 0.7903\n",
      "Epoch 17/19\n",
      "35/35 [==============================] - 0s 5ms/step - loss: 0.4348 - accuracy: 0.7923\n",
      "Epoch 18/19\n",
      "35/35 [==============================] - 0s 5ms/step - loss: 0.4336 - accuracy: 0.7922\n",
      "Epoch 19/19\n",
      "35/35 [==============================] - 0s 4ms/step - loss: 0.4328 - accuracy: 0.7892\n"
     ]
    },
    {
     "data": {
      "text/plain": [
       "<keras.callbacks.History at 0x7fc90b994350>"
      ]
     },
     "execution_count": 45,
     "metadata": {},
     "output_type": "execute_result"
    }
   ],
   "source": [
    "ann.compile(optimizer='rmsprop',loss='binary_crossentropy',metrics=['accuracy'])\n",
    "ann.fit(x_train,y_train,batch_size=200,epochs=19)"
   ]
  },
  {
   "cell_type": "code",
   "execution_count": 46,
   "id": "b8e7d378",
   "metadata": {
    "execution": {
     "iopub.execute_input": "2022-06-25T15:53:02.357720Z",
     "iopub.status.busy": "2022-06-25T15:53:02.357314Z",
     "iopub.status.idle": "2022-06-25T15:53:02.597588Z",
     "shell.execute_reply": "2022-06-25T15:53:02.596411Z"
    },
    "papermill": {
     "duration": 0.276623,
     "end_time": "2022-06-25T15:53:02.600449",
     "exception": false,
     "start_time": "2022-06-25T15:53:02.323826",
     "status": "completed"
    },
    "tags": []
   },
   "outputs": [],
   "source": [
    "y_pred3=ann.predict(x_test)"
   ]
  },
  {
   "cell_type": "code",
   "execution_count": 47,
   "id": "58f7774a",
   "metadata": {
    "execution": {
     "iopub.execute_input": "2022-06-25T15:53:02.667900Z",
     "iopub.status.busy": "2022-06-25T15:53:02.667097Z",
     "iopub.status.idle": "2022-06-25T15:53:02.674559Z",
     "shell.execute_reply": "2022-06-25T15:53:02.673269Z"
    },
    "papermill": {
     "duration": 0.043018,
     "end_time": "2022-06-25T15:53:02.676942",
     "exception": false,
     "start_time": "2022-06-25T15:53:02.633924",
     "status": "completed"
    },
    "tags": []
   },
   "outputs": [
    {
     "data": {
      "text/plain": [
       "array([[0.46004936],\n",
       "       [0.53609264],\n",
       "       [0.19056907],\n",
       "       [0.24309641],\n",
       "       [0.99734247]], dtype=float32)"
      ]
     },
     "execution_count": 47,
     "metadata": {},
     "output_type": "execute_result"
    }
   ],
   "source": [
    "y_pred3[:5]"
   ]
  },
  {
   "cell_type": "code",
   "execution_count": 48,
   "id": "201dc958",
   "metadata": {
    "execution": {
     "iopub.execute_input": "2022-06-25T15:53:02.742806Z",
     "iopub.status.busy": "2022-06-25T15:53:02.742098Z",
     "iopub.status.idle": "2022-06-25T15:53:02.749897Z",
     "shell.execute_reply": "2022-06-25T15:53:02.748718Z"
    },
    "papermill": {
     "duration": 0.043234,
     "end_time": "2022-06-25T15:53:02.752120",
     "exception": false,
     "start_time": "2022-06-25T15:53:02.708886",
     "status": "completed"
    },
    "tags": []
   },
   "outputs": [
    {
     "data": {
      "text/plain": [
       "array([[False],\n",
       "       [ True],\n",
       "       [False],\n",
       "       [False],\n",
       "       [ True]])"
      ]
     },
     "execution_count": 48,
     "metadata": {},
     "output_type": "execute_result"
    }
   ],
   "source": [
    "y_pred3=(y_pred3>0.5)\n",
    "y_pred3[:5]"
   ]
  },
  {
   "cell_type": "code",
   "execution_count": 49,
   "id": "52ac15d0",
   "metadata": {
    "execution": {
     "iopub.execute_input": "2022-06-25T15:53:02.817948Z",
     "iopub.status.busy": "2022-06-25T15:53:02.817555Z",
     "iopub.status.idle": "2022-06-25T15:53:02.822673Z",
     "shell.execute_reply": "2022-06-25T15:53:02.821532Z"
    },
    "papermill": {
     "duration": 0.040784,
     "end_time": "2022-06-25T15:53:02.825020",
     "exception": false,
     "start_time": "2022-06-25T15:53:02.784236",
     "status": "completed"
    },
    "tags": []
   },
   "outputs": [],
   "source": [
    "y_pred3=le.fit_transform(y_pred3)"
   ]
  },
  {
   "cell_type": "code",
   "execution_count": 50,
   "id": "8095d811",
   "metadata": {
    "execution": {
     "iopub.execute_input": "2022-06-25T15:53:02.891610Z",
     "iopub.status.busy": "2022-06-25T15:53:02.891190Z",
     "iopub.status.idle": "2022-06-25T15:53:02.898341Z",
     "shell.execute_reply": "2022-06-25T15:53:02.897290Z"
    },
    "papermill": {
     "duration": 0.043051,
     "end_time": "2022-06-25T15:53:02.900543",
     "exception": false,
     "start_time": "2022-06-25T15:53:02.857492",
     "status": "completed"
    },
    "tags": []
   },
   "outputs": [
    {
     "data": {
      "text/plain": [
       "array([0, 1, 0, ..., 1, 0, 0])"
      ]
     },
     "execution_count": 50,
     "metadata": {},
     "output_type": "execute_result"
    }
   ],
   "source": [
    "y_pred3"
   ]
  },
  {
   "cell_type": "code",
   "execution_count": 51,
   "id": "2ce50878",
   "metadata": {
    "execution": {
     "iopub.execute_input": "2022-06-25T15:53:02.967819Z",
     "iopub.status.busy": "2022-06-25T15:53:02.967389Z",
     "iopub.status.idle": "2022-06-25T15:53:02.976157Z",
     "shell.execute_reply": "2022-06-25T15:53:02.975025Z"
    },
    "papermill": {
     "duration": 0.045438,
     "end_time": "2022-06-25T15:53:02.978575",
     "exception": false,
     "start_time": "2022-06-25T15:53:02.933137",
     "status": "completed"
    },
    "tags": []
   },
   "outputs": [
    {
     "data": {
      "text/plain": [
       "0.7814836112708453"
      ]
     },
     "execution_count": 51,
     "metadata": {},
     "output_type": "execute_result"
    }
   ],
   "source": [
    "accuracy_score(y_test,y_pred3)\n"
   ]
  },
  {
   "cell_type": "code",
   "execution_count": 52,
   "id": "64c58fb0",
   "metadata": {
    "execution": {
     "iopub.execute_input": "2022-06-25T15:53:03.044975Z",
     "iopub.status.busy": "2022-06-25T15:53:03.044545Z",
     "iopub.status.idle": "2022-06-25T15:53:03.075663Z",
     "shell.execute_reply": "2022-06-25T15:53:03.074606Z"
    },
    "papermill": {
     "duration": 0.067428,
     "end_time": "2022-06-25T15:53:03.078182",
     "exception": false,
     "start_time": "2022-06-25T15:53:03.010754",
     "status": "completed"
    },
    "tags": []
   },
   "outputs": [],
   "source": [
    "test_df = pd.read_csv('/kaggle/input/spaceship-titanic/test.csv')"
   ]
  },
  {
   "cell_type": "code",
   "execution_count": 53,
   "id": "69b15889",
   "metadata": {
    "execution": {
     "iopub.execute_input": "2022-06-25T15:53:03.146426Z",
     "iopub.status.busy": "2022-06-25T15:53:03.145836Z",
     "iopub.status.idle": "2022-06-25T15:53:03.167830Z",
     "shell.execute_reply": "2022-06-25T15:53:03.166662Z"
    },
    "papermill": {
     "duration": 0.059097,
     "end_time": "2022-06-25T15:53:03.170324",
     "exception": false,
     "start_time": "2022-06-25T15:53:03.111227",
     "status": "completed"
    },
    "tags": []
   },
   "outputs": [
    {
     "data": {
      "text/html": [
       "<div>\n",
       "<style scoped>\n",
       "    .dataframe tbody tr th:only-of-type {\n",
       "        vertical-align: middle;\n",
       "    }\n",
       "\n",
       "    .dataframe tbody tr th {\n",
       "        vertical-align: top;\n",
       "    }\n",
       "\n",
       "    .dataframe thead th {\n",
       "        text-align: right;\n",
       "    }\n",
       "</style>\n",
       "<table border=\"1\" class=\"dataframe\">\n",
       "  <thead>\n",
       "    <tr style=\"text-align: right;\">\n",
       "      <th></th>\n",
       "      <th>PassengerId</th>\n",
       "      <th>HomePlanet</th>\n",
       "      <th>CryoSleep</th>\n",
       "      <th>Cabin</th>\n",
       "      <th>Destination</th>\n",
       "      <th>Age</th>\n",
       "      <th>VIP</th>\n",
       "      <th>RoomService</th>\n",
       "      <th>FoodCourt</th>\n",
       "      <th>ShoppingMall</th>\n",
       "      <th>Spa</th>\n",
       "      <th>VRDeck</th>\n",
       "      <th>Name</th>\n",
       "    </tr>\n",
       "  </thead>\n",
       "  <tbody>\n",
       "    <tr>\n",
       "      <th>0</th>\n",
       "      <td>0013_01</td>\n",
       "      <td>Earth</td>\n",
       "      <td>True</td>\n",
       "      <td>G/3/S</td>\n",
       "      <td>TRAPPIST-1e</td>\n",
       "      <td>27.0</td>\n",
       "      <td>False</td>\n",
       "      <td>0.0</td>\n",
       "      <td>0.0</td>\n",
       "      <td>0.0</td>\n",
       "      <td>0.0</td>\n",
       "      <td>0.0</td>\n",
       "      <td>Nelly Carsoning</td>\n",
       "    </tr>\n",
       "    <tr>\n",
       "      <th>1</th>\n",
       "      <td>0018_01</td>\n",
       "      <td>Earth</td>\n",
       "      <td>False</td>\n",
       "      <td>F/4/S</td>\n",
       "      <td>TRAPPIST-1e</td>\n",
       "      <td>19.0</td>\n",
       "      <td>False</td>\n",
       "      <td>0.0</td>\n",
       "      <td>9.0</td>\n",
       "      <td>0.0</td>\n",
       "      <td>2823.0</td>\n",
       "      <td>0.0</td>\n",
       "      <td>Lerome Peckers</td>\n",
       "    </tr>\n",
       "    <tr>\n",
       "      <th>2</th>\n",
       "      <td>0019_01</td>\n",
       "      <td>Europa</td>\n",
       "      <td>True</td>\n",
       "      <td>C/0/S</td>\n",
       "      <td>55 Cancri e</td>\n",
       "      <td>31.0</td>\n",
       "      <td>False</td>\n",
       "      <td>0.0</td>\n",
       "      <td>0.0</td>\n",
       "      <td>0.0</td>\n",
       "      <td>0.0</td>\n",
       "      <td>0.0</td>\n",
       "      <td>Sabih Unhearfus</td>\n",
       "    </tr>\n",
       "    <tr>\n",
       "      <th>3</th>\n",
       "      <td>0021_01</td>\n",
       "      <td>Europa</td>\n",
       "      <td>False</td>\n",
       "      <td>C/1/S</td>\n",
       "      <td>TRAPPIST-1e</td>\n",
       "      <td>38.0</td>\n",
       "      <td>False</td>\n",
       "      <td>0.0</td>\n",
       "      <td>6652.0</td>\n",
       "      <td>0.0</td>\n",
       "      <td>181.0</td>\n",
       "      <td>585.0</td>\n",
       "      <td>Meratz Caltilter</td>\n",
       "    </tr>\n",
       "    <tr>\n",
       "      <th>4</th>\n",
       "      <td>0023_01</td>\n",
       "      <td>Earth</td>\n",
       "      <td>False</td>\n",
       "      <td>F/5/S</td>\n",
       "      <td>TRAPPIST-1e</td>\n",
       "      <td>20.0</td>\n",
       "      <td>False</td>\n",
       "      <td>10.0</td>\n",
       "      <td>0.0</td>\n",
       "      <td>635.0</td>\n",
       "      <td>0.0</td>\n",
       "      <td>0.0</td>\n",
       "      <td>Brence Harperez</td>\n",
       "    </tr>\n",
       "  </tbody>\n",
       "</table>\n",
       "</div>"
      ],
      "text/plain": [
       "  PassengerId HomePlanet CryoSleep  Cabin  Destination   Age    VIP  \\\n",
       "0     0013_01      Earth      True  G/3/S  TRAPPIST-1e  27.0  False   \n",
       "1     0018_01      Earth     False  F/4/S  TRAPPIST-1e  19.0  False   \n",
       "2     0019_01     Europa      True  C/0/S  55 Cancri e  31.0  False   \n",
       "3     0021_01     Europa     False  C/1/S  TRAPPIST-1e  38.0  False   \n",
       "4     0023_01      Earth     False  F/5/S  TRAPPIST-1e  20.0  False   \n",
       "\n",
       "   RoomService  FoodCourt  ShoppingMall     Spa  VRDeck              Name  \n",
       "0          0.0        0.0           0.0     0.0     0.0   Nelly Carsoning  \n",
       "1          0.0        9.0           0.0  2823.0     0.0    Lerome Peckers  \n",
       "2          0.0        0.0           0.0     0.0     0.0   Sabih Unhearfus  \n",
       "3          0.0     6652.0           0.0   181.0   585.0  Meratz Caltilter  \n",
       "4         10.0        0.0         635.0     0.0     0.0   Brence Harperez  "
      ]
     },
     "execution_count": 53,
     "metadata": {},
     "output_type": "execute_result"
    }
   ],
   "source": [
    "test_df.head()"
   ]
  },
  {
   "cell_type": "code",
   "execution_count": 54,
   "id": "22db4690",
   "metadata": {
    "execution": {
     "iopub.execute_input": "2022-06-25T15:53:03.237808Z",
     "iopub.status.busy": "2022-06-25T15:53:03.236967Z",
     "iopub.status.idle": "2022-06-25T15:53:03.242714Z",
     "shell.execute_reply": "2022-06-25T15:53:03.241927Z"
    },
    "papermill": {
     "duration": 0.042582,
     "end_time": "2022-06-25T15:53:03.245304",
     "exception": false,
     "start_time": "2022-06-25T15:53:03.202722",
     "status": "completed"
    },
    "tags": []
   },
   "outputs": [],
   "source": [
    "test=test_df.copy()"
   ]
  },
  {
   "cell_type": "code",
   "execution_count": 55,
   "id": "8461e91d",
   "metadata": {
    "execution": {
     "iopub.execute_input": "2022-06-25T15:53:03.313664Z",
     "iopub.status.busy": "2022-06-25T15:53:03.312863Z",
     "iopub.status.idle": "2022-06-25T15:53:03.330344Z",
     "shell.execute_reply": "2022-06-25T15:53:03.329131Z"
    },
    "papermill": {
     "duration": 0.055119,
     "end_time": "2022-06-25T15:53:03.332986",
     "exception": false,
     "start_time": "2022-06-25T15:53:03.277867",
     "status": "completed"
    },
    "tags": []
   },
   "outputs": [
    {
     "data": {
      "text/html": [
       "<div>\n",
       "<style scoped>\n",
       "    .dataframe tbody tr th:only-of-type {\n",
       "        vertical-align: middle;\n",
       "    }\n",
       "\n",
       "    .dataframe tbody tr th {\n",
       "        vertical-align: top;\n",
       "    }\n",
       "\n",
       "    .dataframe thead th {\n",
       "        text-align: right;\n",
       "    }\n",
       "</style>\n",
       "<table border=\"1\" class=\"dataframe\">\n",
       "  <thead>\n",
       "    <tr style=\"text-align: right;\">\n",
       "      <th></th>\n",
       "      <th>HomePlanet</th>\n",
       "      <th>CryoSleep</th>\n",
       "      <th>Destination</th>\n",
       "      <th>Age</th>\n",
       "      <th>VIP</th>\n",
       "      <th>RoomService</th>\n",
       "      <th>FoodCourt</th>\n",
       "      <th>ShoppingMall</th>\n",
       "      <th>Spa</th>\n",
       "      <th>VRDeck</th>\n",
       "    </tr>\n",
       "  </thead>\n",
       "  <tbody>\n",
       "    <tr>\n",
       "      <th>0</th>\n",
       "      <td>Earth</td>\n",
       "      <td>True</td>\n",
       "      <td>TRAPPIST-1e</td>\n",
       "      <td>27.0</td>\n",
       "      <td>False</td>\n",
       "      <td>0.0</td>\n",
       "      <td>0.0</td>\n",
       "      <td>0.0</td>\n",
       "      <td>0.0</td>\n",
       "      <td>0.0</td>\n",
       "    </tr>\n",
       "  </tbody>\n",
       "</table>\n",
       "</div>"
      ],
      "text/plain": [
       "  HomePlanet CryoSleep  Destination   Age    VIP  RoomService  FoodCourt  \\\n",
       "0      Earth      True  TRAPPIST-1e  27.0  False          0.0        0.0   \n",
       "\n",
       "   ShoppingMall  Spa  VRDeck  \n",
       "0           0.0  0.0     0.0  "
      ]
     },
     "execution_count": 55,
     "metadata": {},
     "output_type": "execute_result"
    }
   ],
   "source": [
    "test_df=test_df.drop(columns=['PassengerId','Cabin','Name'],axis=1)\n",
    "test_df.head(1)"
   ]
  },
  {
   "cell_type": "code",
   "execution_count": 56,
   "id": "468a9bfd",
   "metadata": {
    "execution": {
     "iopub.execute_input": "2022-06-25T15:53:03.399721Z",
     "iopub.status.busy": "2022-06-25T15:53:03.399277Z",
     "iopub.status.idle": "2022-06-25T15:53:03.423498Z",
     "shell.execute_reply": "2022-06-25T15:53:03.422279Z"
    },
    "papermill": {
     "duration": 0.060816,
     "end_time": "2022-06-25T15:53:03.426308",
     "exception": false,
     "start_time": "2022-06-25T15:53:03.365492",
     "status": "completed"
    },
    "tags": []
   },
   "outputs": [],
   "source": [
    "test_df['HomePlanet']=test_df['HomePlanet'].fillna(test_df['HomePlanet'].mode()[0])\n",
    "test_df['CryoSleep']=test_df['CryoSleep'].fillna(test_df['CryoSleep'].mode()[0])\n",
    "test_df['Destination']=test_df['Destination'].fillna(test_df['Destination'].mode()[0])\n",
    "test_df['Age']=test_df['Age'].fillna(test_df['Age'].median())\n",
    "test_df['VIP']=test_df['VIP'].fillna(test_df['VIP'].mode()[0])\n",
    "test_df['RoomService']=test_df['RoomService'].fillna(test_df['RoomService'].median())\n",
    "test_df['FoodCourt']=test_df['FoodCourt'].fillna(test_df['FoodCourt'].median())\n",
    "test_df['ShoppingMall']=test_df['ShoppingMall'].fillna(test_df['ShoppingMall'].median())\n",
    "test_df['Spa']=test_df['Spa'].fillna(test_df['Spa'].median())\n",
    "test_df['VRDeck']=test_df['VRDeck'].fillna(test_df['VRDeck'].median())"
   ]
  },
  {
   "cell_type": "code",
   "execution_count": 57,
   "id": "0cf848d8",
   "metadata": {
    "execution": {
     "iopub.execute_input": "2022-06-25T15:53:03.493751Z",
     "iopub.status.busy": "2022-06-25T15:53:03.493368Z",
     "iopub.status.idle": "2022-06-25T15:53:03.513277Z",
     "shell.execute_reply": "2022-06-25T15:53:03.512110Z"
    },
    "papermill": {
     "duration": 0.056282,
     "end_time": "2022-06-25T15:53:03.515683",
     "exception": false,
     "start_time": "2022-06-25T15:53:03.459401",
     "status": "completed"
    },
    "tags": []
   },
   "outputs": [
    {
     "data": {
      "text/html": [
       "<div>\n",
       "<style scoped>\n",
       "    .dataframe tbody tr th:only-of-type {\n",
       "        vertical-align: middle;\n",
       "    }\n",
       "\n",
       "    .dataframe tbody tr th {\n",
       "        vertical-align: top;\n",
       "    }\n",
       "\n",
       "    .dataframe thead th {\n",
       "        text-align: right;\n",
       "    }\n",
       "</style>\n",
       "<table border=\"1\" class=\"dataframe\">\n",
       "  <thead>\n",
       "    <tr style=\"text-align: right;\">\n",
       "      <th></th>\n",
       "      <th>HomePlanet</th>\n",
       "      <th>CryoSleep</th>\n",
       "      <th>Destination</th>\n",
       "      <th>Age</th>\n",
       "      <th>VIP</th>\n",
       "      <th>RoomService</th>\n",
       "      <th>FoodCourt</th>\n",
       "      <th>ShoppingMall</th>\n",
       "      <th>Spa</th>\n",
       "      <th>VRDeck</th>\n",
       "    </tr>\n",
       "  </thead>\n",
       "  <tbody>\n",
       "    <tr>\n",
       "      <th>0</th>\n",
       "      <td>Earth</td>\n",
       "      <td>True</td>\n",
       "      <td>TRAPPIST-1e</td>\n",
       "      <td>27.0</td>\n",
       "      <td>False</td>\n",
       "      <td>0.0</td>\n",
       "      <td>0.0</td>\n",
       "      <td>0.0</td>\n",
       "      <td>0.0</td>\n",
       "      <td>0.0</td>\n",
       "    </tr>\n",
       "    <tr>\n",
       "      <th>1</th>\n",
       "      <td>Earth</td>\n",
       "      <td>False</td>\n",
       "      <td>TRAPPIST-1e</td>\n",
       "      <td>19.0</td>\n",
       "      <td>False</td>\n",
       "      <td>0.0</td>\n",
       "      <td>9.0</td>\n",
       "      <td>0.0</td>\n",
       "      <td>2823.0</td>\n",
       "      <td>0.0</td>\n",
       "    </tr>\n",
       "    <tr>\n",
       "      <th>2</th>\n",
       "      <td>Europa</td>\n",
       "      <td>True</td>\n",
       "      <td>55 Cancri e</td>\n",
       "      <td>31.0</td>\n",
       "      <td>False</td>\n",
       "      <td>0.0</td>\n",
       "      <td>0.0</td>\n",
       "      <td>0.0</td>\n",
       "      <td>0.0</td>\n",
       "      <td>0.0</td>\n",
       "    </tr>\n",
       "    <tr>\n",
       "      <th>3</th>\n",
       "      <td>Europa</td>\n",
       "      <td>False</td>\n",
       "      <td>TRAPPIST-1e</td>\n",
       "      <td>38.0</td>\n",
       "      <td>False</td>\n",
       "      <td>0.0</td>\n",
       "      <td>6652.0</td>\n",
       "      <td>0.0</td>\n",
       "      <td>181.0</td>\n",
       "      <td>585.0</td>\n",
       "    </tr>\n",
       "    <tr>\n",
       "      <th>4</th>\n",
       "      <td>Earth</td>\n",
       "      <td>False</td>\n",
       "      <td>TRAPPIST-1e</td>\n",
       "      <td>20.0</td>\n",
       "      <td>False</td>\n",
       "      <td>10.0</td>\n",
       "      <td>0.0</td>\n",
       "      <td>635.0</td>\n",
       "      <td>0.0</td>\n",
       "      <td>0.0</td>\n",
       "    </tr>\n",
       "  </tbody>\n",
       "</table>\n",
       "</div>"
      ],
      "text/plain": [
       "  HomePlanet  CryoSleep  Destination   Age    VIP  RoomService  FoodCourt  \\\n",
       "0      Earth       True  TRAPPIST-1e  27.0  False          0.0        0.0   \n",
       "1      Earth      False  TRAPPIST-1e  19.0  False          0.0        9.0   \n",
       "2     Europa       True  55 Cancri e  31.0  False          0.0        0.0   \n",
       "3     Europa      False  TRAPPIST-1e  38.0  False          0.0     6652.0   \n",
       "4      Earth      False  TRAPPIST-1e  20.0  False         10.0        0.0   \n",
       "\n",
       "   ShoppingMall     Spa  VRDeck  \n",
       "0           0.0     0.0     0.0  \n",
       "1           0.0  2823.0     0.0  \n",
       "2           0.0     0.0     0.0  \n",
       "3           0.0   181.0   585.0  \n",
       "4         635.0     0.0     0.0  "
      ]
     },
     "execution_count": 57,
     "metadata": {},
     "output_type": "execute_result"
    }
   ],
   "source": [
    "test_df.head()"
   ]
  },
  {
   "cell_type": "code",
   "execution_count": 58,
   "id": "5fa1e2b7",
   "metadata": {
    "execution": {
     "iopub.execute_input": "2022-06-25T15:53:03.583867Z",
     "iopub.status.busy": "2022-06-25T15:53:03.583054Z",
     "iopub.status.idle": "2022-06-25T15:53:03.593784Z",
     "shell.execute_reply": "2022-06-25T15:53:03.592743Z"
    },
    "papermill": {
     "duration": 0.048125,
     "end_time": "2022-06-25T15:53:03.596497",
     "exception": false,
     "start_time": "2022-06-25T15:53:03.548372",
     "status": "completed"
    },
    "tags": []
   },
   "outputs": [],
   "source": [
    "test_cols=['HomePlanet','CryoSleep','Destination','VIP']\n",
    "for col in test_cols:\n",
    "    test_df[col]=le.fit_transform(test_df[col])"
   ]
  },
  {
   "cell_type": "code",
   "execution_count": 59,
   "id": "16d092e5",
   "metadata": {
    "execution": {
     "iopub.execute_input": "2022-06-25T15:53:03.664382Z",
     "iopub.status.busy": "2022-06-25T15:53:03.663585Z",
     "iopub.status.idle": "2022-06-25T15:53:03.681026Z",
     "shell.execute_reply": "2022-06-25T15:53:03.680137Z"
    },
    "papermill": {
     "duration": 0.053881,
     "end_time": "2022-06-25T15:53:03.683213",
     "exception": false,
     "start_time": "2022-06-25T15:53:03.629332",
     "status": "completed"
    },
    "tags": []
   },
   "outputs": [
    {
     "data": {
      "text/html": [
       "<div>\n",
       "<style scoped>\n",
       "    .dataframe tbody tr th:only-of-type {\n",
       "        vertical-align: middle;\n",
       "    }\n",
       "\n",
       "    .dataframe tbody tr th {\n",
       "        vertical-align: top;\n",
       "    }\n",
       "\n",
       "    .dataframe thead th {\n",
       "        text-align: right;\n",
       "    }\n",
       "</style>\n",
       "<table border=\"1\" class=\"dataframe\">\n",
       "  <thead>\n",
       "    <tr style=\"text-align: right;\">\n",
       "      <th></th>\n",
       "      <th>HomePlanet</th>\n",
       "      <th>CryoSleep</th>\n",
       "      <th>Destination</th>\n",
       "      <th>Age</th>\n",
       "      <th>VIP</th>\n",
       "      <th>RoomService</th>\n",
       "      <th>FoodCourt</th>\n",
       "      <th>ShoppingMall</th>\n",
       "      <th>Spa</th>\n",
       "      <th>VRDeck</th>\n",
       "    </tr>\n",
       "  </thead>\n",
       "  <tbody>\n",
       "    <tr>\n",
       "      <th>0</th>\n",
       "      <td>0</td>\n",
       "      <td>1</td>\n",
       "      <td>2</td>\n",
       "      <td>27.0</td>\n",
       "      <td>0</td>\n",
       "      <td>0.0</td>\n",
       "      <td>0.0</td>\n",
       "      <td>0.0</td>\n",
       "      <td>0.0</td>\n",
       "      <td>0.0</td>\n",
       "    </tr>\n",
       "    <tr>\n",
       "      <th>1</th>\n",
       "      <td>0</td>\n",
       "      <td>0</td>\n",
       "      <td>2</td>\n",
       "      <td>19.0</td>\n",
       "      <td>0</td>\n",
       "      <td>0.0</td>\n",
       "      <td>9.0</td>\n",
       "      <td>0.0</td>\n",
       "      <td>2823.0</td>\n",
       "      <td>0.0</td>\n",
       "    </tr>\n",
       "    <tr>\n",
       "      <th>2</th>\n",
       "      <td>1</td>\n",
       "      <td>1</td>\n",
       "      <td>0</td>\n",
       "      <td>31.0</td>\n",
       "      <td>0</td>\n",
       "      <td>0.0</td>\n",
       "      <td>0.0</td>\n",
       "      <td>0.0</td>\n",
       "      <td>0.0</td>\n",
       "      <td>0.0</td>\n",
       "    </tr>\n",
       "    <tr>\n",
       "      <th>3</th>\n",
       "      <td>1</td>\n",
       "      <td>0</td>\n",
       "      <td>2</td>\n",
       "      <td>38.0</td>\n",
       "      <td>0</td>\n",
       "      <td>0.0</td>\n",
       "      <td>6652.0</td>\n",
       "      <td>0.0</td>\n",
       "      <td>181.0</td>\n",
       "      <td>585.0</td>\n",
       "    </tr>\n",
       "    <tr>\n",
       "      <th>4</th>\n",
       "      <td>0</td>\n",
       "      <td>0</td>\n",
       "      <td>2</td>\n",
       "      <td>20.0</td>\n",
       "      <td>0</td>\n",
       "      <td>10.0</td>\n",
       "      <td>0.0</td>\n",
       "      <td>635.0</td>\n",
       "      <td>0.0</td>\n",
       "      <td>0.0</td>\n",
       "    </tr>\n",
       "  </tbody>\n",
       "</table>\n",
       "</div>"
      ],
      "text/plain": [
       "   HomePlanet  CryoSleep  Destination   Age  VIP  RoomService  FoodCourt  \\\n",
       "0           0          1            2  27.0    0          0.0        0.0   \n",
       "1           0          0            2  19.0    0          0.0        9.0   \n",
       "2           1          1            0  31.0    0          0.0        0.0   \n",
       "3           1          0            2  38.0    0          0.0     6652.0   \n",
       "4           0          0            2  20.0    0         10.0        0.0   \n",
       "\n",
       "   ShoppingMall     Spa  VRDeck  \n",
       "0           0.0     0.0     0.0  \n",
       "1           0.0  2823.0     0.0  \n",
       "2           0.0     0.0     0.0  \n",
       "3           0.0   181.0   585.0  \n",
       "4         635.0     0.0     0.0  "
      ]
     },
     "execution_count": 59,
     "metadata": {},
     "output_type": "execute_result"
    }
   ],
   "source": [
    "test_df.head()"
   ]
  },
  {
   "cell_type": "code",
   "execution_count": 60,
   "id": "09497d19",
   "metadata": {
    "execution": {
     "iopub.execute_input": "2022-06-25T15:53:03.752821Z",
     "iopub.status.busy": "2022-06-25T15:53:03.751389Z",
     "iopub.status.idle": "2022-06-25T15:53:03.760608Z",
     "shell.execute_reply": "2022-06-25T15:53:03.759207Z"
    },
    "papermill": {
     "duration": 0.046904,
     "end_time": "2022-06-25T15:53:03.763390",
     "exception": false,
     "start_time": "2022-06-25T15:53:03.716486",
     "status": "completed"
    },
    "tags": []
   },
   "outputs": [],
   "source": [
    "test_df=mmc.transform(test_df)"
   ]
  },
  {
   "cell_type": "code",
   "execution_count": 61,
   "id": "de3de503",
   "metadata": {
    "execution": {
     "iopub.execute_input": "2022-06-25T15:53:03.832783Z",
     "iopub.status.busy": "2022-06-25T15:53:03.832286Z",
     "iopub.status.idle": "2022-06-25T15:53:03.840294Z",
     "shell.execute_reply": "2022-06-25T15:53:03.839125Z"
    },
    "papermill": {
     "duration": 0.045795,
     "end_time": "2022-06-25T15:53:03.842601",
     "exception": false,
     "start_time": "2022-06-25T15:53:03.796806",
     "status": "completed"
    },
    "tags": []
   },
   "outputs": [
    {
     "data": {
      "text/plain": [
       "array([[0.        , 1.        , 1.        , ..., 0.        , 0.        ,\n",
       "        0.        ],\n",
       "       [0.        , 0.        , 1.        , ..., 0.        , 0.15200302,\n",
       "        0.        ],\n",
       "       [0.5       , 1.        , 0.        , ..., 0.        , 0.        ,\n",
       "        0.        ],\n",
       "       ...,\n",
       "       [1.        , 1.        , 0.        , ..., 0.        , 0.        ,\n",
       "        0.        ],\n",
       "       [0.5       , 0.        , 1.        , ..., 0.        , 0.        ,\n",
       "        0.02167157],\n",
       "       [0.        , 1.        , 0.5       , ..., 0.        , 0.        ,\n",
       "        0.        ]])"
      ]
     },
     "execution_count": 61,
     "metadata": {},
     "output_type": "execute_result"
    }
   ],
   "source": [
    "test_df"
   ]
  },
  {
   "cell_type": "code",
   "execution_count": 62,
   "id": "3fd803ec",
   "metadata": {
    "execution": {
     "iopub.execute_input": "2022-06-25T15:53:03.911235Z",
     "iopub.status.busy": "2022-06-25T15:53:03.910826Z",
     "iopub.status.idle": "2022-06-25T15:53:03.924384Z",
     "shell.execute_reply": "2022-06-25T15:53:03.923130Z"
    },
    "papermill": {
     "duration": 0.050468,
     "end_time": "2022-06-25T15:53:03.926672",
     "exception": false,
     "start_time": "2022-06-25T15:53:03.876204",
     "status": "completed"
    },
    "tags": []
   },
   "outputs": [
    {
     "data": {
      "text/plain": [
       "array([[5.00000000e-01, 0.00000000e+00, 1.00000000e+00, ...,\n",
       "        0.00000000e+00, 0.00000000e+00, 0.00000000e+00],\n",
       "       [0.00000000e+00, 0.00000000e+00, 1.00000000e+00, ...,\n",
       "        1.06419207e-03, 2.45001785e-02, 1.82322960e-03],\n",
       "       [5.00000000e-01, 0.00000000e+00, 1.00000000e+00, ...,\n",
       "        0.00000000e+00, 2.99669761e-01, 2.03041478e-03],\n",
       "       ...,\n",
       "       [0.00000000e+00, 0.00000000e+00, 1.00000000e+00, ...,\n",
       "        7.96867019e-02, 4.46269190e-05, 0.00000000e+00],\n",
       "       [5.00000000e-01, 0.00000000e+00, 0.00000000e+00, ...,\n",
       "        0.00000000e+00, 1.57533024e-02, 1.34048813e-01],\n",
       "       [5.00000000e-01, 0.00000000e+00, 1.00000000e+00, ...,\n",
       "        0.00000000e+00, 0.00000000e+00, 4.97244437e-04]])"
      ]
     },
     "execution_count": 62,
     "metadata": {},
     "output_type": "execute_result"
    }
   ],
   "source": [
    "x=mmc.fit_transform(x)\n",
    "x"
   ]
  },
  {
   "cell_type": "code",
   "execution_count": 63,
   "id": "831e2b97",
   "metadata": {
    "execution": {
     "iopub.execute_input": "2022-06-25T15:53:03.994905Z",
     "iopub.status.busy": "2022-06-25T15:53:03.994512Z",
     "iopub.status.idle": "2022-06-25T15:53:04.072585Z",
     "shell.execute_reply": "2022-06-25T15:53:04.071735Z"
    },
    "papermill": {
     "duration": 0.115117,
     "end_time": "2022-06-25T15:53:04.075086",
     "exception": false,
     "start_time": "2022-06-25T15:53:03.959969",
     "status": "completed"
    },
    "tags": []
   },
   "outputs": [],
   "source": [
    "nn=models.Sequential([\n",
    "    \n",
    "    layers.Dense(1010,activation='relu',input_shape=(10,)),\n",
    "    layers.Dense(720,activation='relu'),\n",
    "    layers.Dense(490,activation='relu'),\n",
    "    layers.Dense(310,activation='relu'),\n",
    "    layers.Dense(79,activation='relu'),\n",
    "    layers.Dense(23,activation='relu'),\n",
    "    layers.Dense(1,activation='sigmoid')\n",
    "    \n",
    "                    ])"
   ]
  },
  {
   "cell_type": "code",
   "execution_count": 64,
   "id": "f6515506",
   "metadata": {
    "execution": {
     "iopub.execute_input": "2022-06-25T15:53:04.143753Z",
     "iopub.status.busy": "2022-06-25T15:53:04.142939Z",
     "iopub.status.idle": "2022-06-25T15:54:40.004382Z",
     "shell.execute_reply": "2022-06-25T15:54:40.003203Z"
    },
    "papermill": {
     "duration": 95.898449,
     "end_time": "2022-06-25T15:54:40.006797",
     "exception": false,
     "start_time": "2022-06-25T15:53:04.108348",
     "status": "completed"
    },
    "tags": []
   },
   "outputs": [
    {
     "name": "stdout",
     "output_type": "stream",
     "text": [
      "Epoch 1/50\n",
      "174/174 [==============================] - 3s 11ms/step - loss: 0.5251 - accuracy: 0.7443\n",
      "Epoch 2/50\n",
      "174/174 [==============================] - 2s 11ms/step - loss: 0.4597 - accuracy: 0.7821\n",
      "Epoch 3/50\n",
      "174/174 [==============================] - 2s 10ms/step - loss: 0.4442 - accuracy: 0.7882\n",
      "Epoch 4/50\n",
      "174/174 [==============================] - 2s 10ms/step - loss: 0.4409 - accuracy: 0.7866\n",
      "Epoch 5/50\n",
      "174/174 [==============================] - 2s 11ms/step - loss: 0.4380 - accuracy: 0.7886\n",
      "Epoch 6/50\n",
      "174/174 [==============================] - 2s 11ms/step - loss: 0.4358 - accuracy: 0.7913\n",
      "Epoch 7/50\n",
      "174/174 [==============================] - 2s 11ms/step - loss: 0.4347 - accuracy: 0.7927\n",
      "Epoch 8/50\n",
      "174/174 [==============================] - 2s 11ms/step - loss: 0.4320 - accuracy: 0.7904\n",
      "Epoch 9/50\n",
      "174/174 [==============================] - 2s 11ms/step - loss: 0.4323 - accuracy: 0.7904\n",
      "Epoch 10/50\n",
      "174/174 [==============================] - 2s 11ms/step - loss: 0.4310 - accuracy: 0.7940\n",
      "Epoch 11/50\n",
      "174/174 [==============================] - 2s 10ms/step - loss: 0.4320 - accuracy: 0.7903\n",
      "Epoch 12/50\n",
      "174/174 [==============================] - 3s 15ms/step - loss: 0.4308 - accuracy: 0.7927\n",
      "Epoch 13/50\n",
      "174/174 [==============================] - 2s 11ms/step - loss: 0.4301 - accuracy: 0.7912\n",
      "Epoch 14/50\n",
      "174/174 [==============================] - 2s 10ms/step - loss: 0.4276 - accuracy: 0.7922\n",
      "Epoch 15/50\n",
      "174/174 [==============================] - 2s 11ms/step - loss: 0.4267 - accuracy: 0.7943\n",
      "Epoch 16/50\n",
      "174/174 [==============================] - 2s 11ms/step - loss: 0.4264 - accuracy: 0.7962\n",
      "Epoch 17/50\n",
      "174/174 [==============================] - 2s 11ms/step - loss: 0.4256 - accuracy: 0.7959\n",
      "Epoch 18/50\n",
      "174/174 [==============================] - 2s 10ms/step - loss: 0.4255 - accuracy: 0.7956\n",
      "Epoch 19/50\n",
      "174/174 [==============================] - 2s 11ms/step - loss: 0.4251 - accuracy: 0.7933\n",
      "Epoch 20/50\n",
      "174/174 [==============================] - 2s 10ms/step - loss: 0.4245 - accuracy: 0.7939\n",
      "Epoch 21/50\n",
      "174/174 [==============================] - 2s 10ms/step - loss: 0.4240 - accuracy: 0.7944\n",
      "Epoch 22/50\n",
      "174/174 [==============================] - 2s 10ms/step - loss: 0.4256 - accuracy: 0.7926\n",
      "Epoch 23/50\n",
      "174/174 [==============================] - 2s 11ms/step - loss: 0.4242 - accuracy: 0.7943\n",
      "Epoch 24/50\n",
      "174/174 [==============================] - 2s 11ms/step - loss: 0.4238 - accuracy: 0.7960\n",
      "Epoch 25/50\n",
      "174/174 [==============================] - 2s 11ms/step - loss: 0.4255 - accuracy: 0.7914\n",
      "Epoch 26/50\n",
      "174/174 [==============================] - 2s 11ms/step - loss: 0.4240 - accuracy: 0.7936\n",
      "Epoch 27/50\n",
      "174/174 [==============================] - 2s 11ms/step - loss: 0.4216 - accuracy: 0.7988\n",
      "Epoch 28/50\n",
      "174/174 [==============================] - 2s 11ms/step - loss: 0.4224 - accuracy: 0.7954\n",
      "Epoch 29/50\n",
      "174/174 [==============================] - 3s 15ms/step - loss: 0.4232 - accuracy: 0.7951\n",
      "Epoch 30/50\n",
      "174/174 [==============================] - 2s 11ms/step - loss: 0.4227 - accuracy: 0.7949\n",
      "Epoch 31/50\n",
      "174/174 [==============================] - 2s 11ms/step - loss: 0.4210 - accuracy: 0.7974\n",
      "Epoch 32/50\n",
      "174/174 [==============================] - 2s 11ms/step - loss: 0.4216 - accuracy: 0.7966\n",
      "Epoch 33/50\n",
      "174/174 [==============================] - 2s 10ms/step - loss: 0.4220 - accuracy: 0.7960\n",
      "Epoch 34/50\n",
      "174/174 [==============================] - 2s 10ms/step - loss: 0.4203 - accuracy: 0.7963\n",
      "Epoch 35/50\n",
      "174/174 [==============================] - 2s 11ms/step - loss: 0.4201 - accuracy: 0.7982\n",
      "Epoch 36/50\n",
      "174/174 [==============================] - 2s 11ms/step - loss: 0.4202 - accuracy: 0.7974\n",
      "Epoch 37/50\n",
      "174/174 [==============================] - 2s 10ms/step - loss: 0.4203 - accuracy: 0.7981\n",
      "Epoch 38/50\n",
      "174/174 [==============================] - 2s 10ms/step - loss: 0.4178 - accuracy: 0.7990\n",
      "Epoch 39/50\n",
      "174/174 [==============================] - 2s 10ms/step - loss: 0.4174 - accuracy: 0.7972\n",
      "Epoch 40/50\n",
      "174/174 [==============================] - 2s 11ms/step - loss: 0.4199 - accuracy: 0.7973\n",
      "Epoch 41/50\n",
      "174/174 [==============================] - 2s 11ms/step - loss: 0.4173 - accuracy: 0.7986\n",
      "Epoch 42/50\n",
      "174/174 [==============================] - 2s 11ms/step - loss: 0.4169 - accuracy: 0.8000\n",
      "Epoch 43/50\n",
      "174/174 [==============================] - 2s 10ms/step - loss: 0.4171 - accuracy: 0.8004\n",
      "Epoch 44/50\n",
      "174/174 [==============================] - 2s 10ms/step - loss: 0.4174 - accuracy: 0.7988\n",
      "Epoch 45/50\n",
      "174/174 [==============================] - 2s 10ms/step - loss: 0.4175 - accuracy: 0.7986\n",
      "Epoch 46/50\n",
      "174/174 [==============================] - 3s 15ms/step - loss: 0.4167 - accuracy: 0.7985\n",
      "Epoch 47/50\n",
      "174/174 [==============================] - 2s 11ms/step - loss: 0.4174 - accuracy: 0.8006\n",
      "Epoch 48/50\n",
      "174/174 [==============================] - 2s 11ms/step - loss: 0.4187 - accuracy: 0.7995\n",
      "Epoch 49/50\n",
      "174/174 [==============================] - 2s 11ms/step - loss: 0.4165 - accuracy: 0.8008\n",
      "Epoch 50/50\n",
      "174/174 [==============================] - 2s 11ms/step - loss: 0.4163 - accuracy: 0.8018\n"
     ]
    },
    {
     "data": {
      "text/plain": [
       "<keras.callbacks.History at 0x7fc90be5d550>"
      ]
     },
     "execution_count": 64,
     "metadata": {},
     "output_type": "execute_result"
    }
   ],
   "source": [
    "nn.compile(optimizer='adam',loss='binary_crossentropy',metrics=['accuracy'])\n",
    "nn.fit(x,y,batch_size=50,epochs=50)"
   ]
  },
  {
   "cell_type": "code",
   "execution_count": 65,
   "id": "d662c153",
   "metadata": {
    "execution": {
     "iopub.execute_input": "2022-06-25T15:54:40.335613Z",
     "iopub.status.busy": "2022-06-25T15:54:40.335202Z",
     "iopub.status.idle": "2022-06-25T15:54:40.806534Z",
     "shell.execute_reply": "2022-06-25T15:54:40.805747Z"
    },
    "papermill": {
     "duration": 0.639327,
     "end_time": "2022-06-25T15:54:40.808643",
     "exception": false,
     "start_time": "2022-06-25T15:54:40.169316",
     "status": "completed"
    },
    "tags": []
   },
   "outputs": [
    {
     "data": {
      "text/plain": [
       "array([[0.62395376],\n",
       "       [0.00463641],\n",
       "       [0.98517716],\n",
       "       [0.99649346],\n",
       "       [0.4263718 ],\n",
       "       [0.606798  ],\n",
       "       [0.99210954],\n",
       "       [0.9776939 ],\n",
       "       [0.98824394],\n",
       "       [0.50620216]], dtype=float32)"
      ]
     },
     "execution_count": 65,
     "metadata": {},
     "output_type": "execute_result"
    }
   ],
   "source": [
    "y_pred=nn.predict(test_df)\n",
    "y_pred[:10]"
   ]
  },
  {
   "cell_type": "code",
   "execution_count": 66,
   "id": "53ee02ed",
   "metadata": {
    "execution": {
     "iopub.execute_input": "2022-06-25T15:54:41.206208Z",
     "iopub.status.busy": "2022-06-25T15:54:41.204920Z",
     "iopub.status.idle": "2022-06-25T15:54:41.214486Z",
     "shell.execute_reply": "2022-06-25T15:54:41.213180Z"
    },
    "papermill": {
     "duration": 0.177426,
     "end_time": "2022-06-25T15:54:41.216780",
     "exception": false,
     "start_time": "2022-06-25T15:54:41.039354",
     "status": "completed"
    },
    "tags": []
   },
   "outputs": [
    {
     "data": {
      "text/plain": [
       "array([[ True],\n",
       "       [False],\n",
       "       [ True],\n",
       "       [ True],\n",
       "       [False],\n",
       "       [ True],\n",
       "       [ True],\n",
       "       [ True],\n",
       "       [ True],\n",
       "       [ True]])"
      ]
     },
     "execution_count": 66,
     "metadata": {},
     "output_type": "execute_result"
    }
   ],
   "source": [
    "y_pred=(y_pred>0.5)\n",
    "y_pred[:10]"
   ]
  },
  {
   "cell_type": "code",
   "execution_count": 67,
   "id": "d5426182",
   "metadata": {
    "execution": {
     "iopub.execute_input": "2022-06-25T15:54:41.550844Z",
     "iopub.status.busy": "2022-06-25T15:54:41.549769Z",
     "iopub.status.idle": "2022-06-25T15:54:41.556866Z",
     "shell.execute_reply": "2022-06-25T15:54:41.556095Z"
    },
    "papermill": {
     "duration": 0.175806,
     "end_time": "2022-06-25T15:54:41.559066",
     "exception": false,
     "start_time": "2022-06-25T15:54:41.383260",
     "status": "completed"
    },
    "tags": []
   },
   "outputs": [
    {
     "data": {
      "text/plain": [
       "array([ True, False,  True,  True, False,  True,  True,  True,  True,\n",
       "        True])"
      ]
     },
     "execution_count": 67,
     "metadata": {},
     "output_type": "execute_result"
    }
   ],
   "source": [
    "y_pred=y_pred.reshape(-1,)\n",
    "y_pred[:10]"
   ]
  },
  {
   "cell_type": "code",
   "execution_count": 68,
   "id": "c6938b48",
   "metadata": {
    "execution": {
     "iopub.execute_input": "2022-06-25T15:54:41.892855Z",
     "iopub.status.busy": "2022-06-25T15:54:41.891635Z",
     "iopub.status.idle": "2022-06-25T15:54:41.898569Z",
     "shell.execute_reply": "2022-06-25T15:54:41.897760Z"
    },
    "papermill": {
     "duration": 0.17645,
     "end_time": "2022-06-25T15:54:41.900951",
     "exception": false,
     "start_time": "2022-06-25T15:54:41.724501",
     "status": "completed"
    },
    "tags": []
   },
   "outputs": [],
   "source": [
    "submission=pd.DataFrame({'PassengerId':test['PassengerId'],'Transported':y_pred})"
   ]
  },
  {
   "cell_type": "code",
   "execution_count": 69,
   "id": "248a82fe",
   "metadata": {
    "execution": {
     "iopub.execute_input": "2022-06-25T15:54:42.232201Z",
     "iopub.status.busy": "2022-06-25T15:54:42.231401Z",
     "iopub.status.idle": "2022-06-25T15:54:42.248219Z",
     "shell.execute_reply": "2022-06-25T15:54:42.247130Z"
    },
    "papermill": {
     "duration": 0.184618,
     "end_time": "2022-06-25T15:54:42.250914",
     "exception": false,
     "start_time": "2022-06-25T15:54:42.066296",
     "status": "completed"
    },
    "tags": []
   },
   "outputs": [],
   "source": [
    "submission.to_csv('Titanic_spaceship_pred.csv',index=None)"
   ]
  },
  {
   "cell_type": "code",
   "execution_count": null,
   "id": "e5fdf725",
   "metadata": {
    "papermill": {
     "duration": 0.163246,
     "end_time": "2022-06-25T15:54:42.578266",
     "exception": false,
     "start_time": "2022-06-25T15:54:42.415020",
     "status": "completed"
    },
    "tags": []
   },
   "outputs": [],
   "source": []
  }
 ],
 "metadata": {
  "kernelspec": {
   "display_name": "Python 3",
   "language": "python",
   "name": "python3"
  },
  "language_info": {
   "codemirror_mode": {
    "name": "ipython",
    "version": 3
   },
   "file_extension": ".py",
   "mimetype": "text/x-python",
   "name": "python",
   "nbconvert_exporter": "python",
   "pygments_lexer": "ipython3",
   "version": "3.7.12"
  },
  "papermill": {
   "default_parameters": {},
   "duration": 142.792372,
   "end_time": "2022-06-25T15:54:46.265503",
   "environment_variables": {},
   "exception": null,
   "input_path": "__notebook__.ipynb",
   "output_path": "__notebook__.ipynb",
   "parameters": {},
   "start_time": "2022-06-25T15:52:23.473131",
   "version": "2.3.4"
  }
 },
 "nbformat": 4,
 "nbformat_minor": 5
}
